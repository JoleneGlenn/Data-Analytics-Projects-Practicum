{
 "cells": [
  {
   "cell_type": "markdown",
   "metadata": {},
   "source": [
    "# Review(2)\n",
    "Thanks for your update. Now the project is accepted! I left one small remark, which does not affect the fact that project is accepted. \n",
    "\n",
    "\n",
    "Good luck in future learning!"
   ]
  },
  {
   "cell_type": "markdown",
   "metadata": {},
   "source": [
    "Hello, my name is Ivan Alexeev and I am going to review your project.\n",
    "\n",
    "\n",
    "There may be some shortcomings in the work that I will ask you to eliminate, you fix them and I check your decisions. You can find my comments in <font color='green'>green</font>, <font color='orange'>orange</font> or <font color='red'>red</font> boxes like this:\n",
    "\n",
    "\n",
    "<div class=\"alert alert-success\" style=\"box-shadow: 4px 4px 4px\">\n",
    "Success: if everything is done successfully\n",
    "</div>\n",
    "\n",
    "\n",
    "<div class=\"alert alert-warning\" style=\"box-shadow: 4px 4px 4px\">\n",
    "Remark: if I can give some recommendations or additional information\n",
    "</div>\n",
    "\n",
    "\n",
    "<div class=\"alert alert-danger\" style=\"box-shadow: 4px 4px 4px\">\n",
    "Need fixing: if the block requires some corrections. Work can't be accepted with the red comments\n",
    "</div>\n",
    "\n",
    "\n",
    "Thank you for taking time to complete this project, I appreciate the amount of work you've done! There are some issues that you need to work on, but overall it is a great start! \n",
    "\n",
    "\n",
    "Please, don't delete my comments) \n"
   ]
  },
  {
   "cell_type": "markdown",
   "metadata": {},
   "source": [
    "# General feedback\n",
    "First of all, it is a great start! You've done an amazing job! To begin with, I would like to note that all the calculations were made correctly, the hypotheses are correct, the correct answers were obtained, and simply unrealistic conclusions were written. Few people will write such a good conclusion even in real reports. Continue in the same spirit and try to write a little more information before each step, a small plan.\n",
    "\n",
    "\n",
    "Unfortunately, there is a few problems in your work. They are not a mistakes. Please, change the design of a notebook. It is inappropriate in real reports to write so many information in one code cell. It is better to separate them. One of the possible ways to do it is separate into parts where only one output with a description. \n",
    "\n",
    "\n",
    "Good luck! I\\ll wait for your corrections) "
   ]
  },
  {
   "cell_type": "markdown",
   "metadata": {},
   "source": [
    "# Analyzing borrowers’ risk of defaulting\n",
    "\n",
    "Your project is to prepare a report for a bank’s loan division. You’ll need to find out if a customer’s marital status and number of children has an impact on whether they will default on a loan. The bank already has some data on customers’ credit worthiness.\n",
    "\n",
    "Your report will be considered when building a **credit scoring** of a potential customer. A ** credit scoring ** is used to evaluate the ability of a potential borrower to repay their loan."
   ]
  },
  {
   "cell_type": "markdown",
   "metadata": {},
   "source": [
    "<div class=\"alert alert-warning\" style=\"box-shadow: 4px 4px 4px\">\n",
    "<s>Remark: in real reports it is better to write some more information in the introduction. For instance, a plan can be written or you can describe a dataset. </s>\n",
    "</div>"
   ]
  },
  {
   "cell_type": "markdown",
   "metadata": {},
   "source": [
    "## Open the data file and have a look at the general information. "
   ]
  },
  {
   "cell_type": "markdown",
   "metadata": {},
   "source": [
    "***Task: Prepare a report that evaluates if marital status and number of children has an impact on whether a client will default on a loan***\n",
    "\n",
    "The bank loan's division wants the data to be cleaned up with some instructions:\n",
    "- Appropriately process artifacts\n",
    "- Fill in (not delete) missing values\n",
    "- Delete duplicates\n",
    "- Perform an analysis and provide conclusions\n",
    "\n",
    "Questions provided by bank loan's division:\n",
    "- Is there a connection between having kids and repaying a loan on time?\n",
    "- Is there a connection between marital status and repaying a loan on time?\n",
    "- Is there a connection between income level and repaying a loan on time?\n",
    "- How do different loan purposes affect on-time loan repayment?\n",
    "\n",
    "***Plan of action***\n",
    "- Examine the data's general information\n",
    "- Process obvious artifacts, such as negative numbers, poorly described column names, etc.\n",
    "    - i.e. evaluate the unique values in appropriate columns for interesting or non-sensical data\n",
    "- Determine if there are missing values\n",
    "    - Determine the best/appropriate way and data to fill in missing values\n",
    "- Determine if there are duplicate values or rows\n",
    "    - Determine the best/appropriate way to handle duplicates\n",
    "- Change datatype were appropriate/explained to do so\n",
    "- Categorize data where appropriate for easier analysis\n",
    "- Perform analysis to answer questions above"
   ]
  },
  {
   "cell_type": "markdown",
   "metadata": {},
   "source": [
    "***Import libraries and packages***"
   ]
  },
  {
   "cell_type": "code",
   "execution_count": 5,
   "metadata": {},
   "outputs": [],
   "source": [
    "# import libraries and packages\n",
    "import pandas as pd\n",
    "import nltk\n",
    "from nltk.stem import WordNetLemmatizer\n",
    "from collections import Counter\n",
    "from nltk.stem import SnowballStemmer"
   ]
  },
  {
   "cell_type": "markdown",
   "metadata": {},
   "source": [
    "***Review data's general information***"
   ]
  },
  {
   "cell_type": "code",
   "execution_count": 6,
   "metadata": {},
   "outputs": [
    {
     "name": "stdout",
     "output_type": "stream",
     "text": [
      "First 20 rows of data:\n",
      "    children  days_employed  dob_years            education  education_id  \\\n",
      "0          1   -8437.673028         42    bachelor's degree             0   \n",
      "1          1   -4024.803754         36  secondary education             1   \n",
      "2          0   -5623.422610         33  Secondary Education             1   \n",
      "3          3   -4124.747207         32  secondary education             1   \n",
      "4          0  340266.072047         53  secondary education             1   \n",
      "5          0    -926.185831         27    bachelor's degree             0   \n",
      "6          0   -2879.202052         43    bachelor's degree             0   \n",
      "7          0    -152.779569         50  SECONDARY EDUCATION             1   \n",
      "8          2   -6929.865299         35    BACHELOR'S DEGREE             0   \n",
      "9          0   -2188.756445         41  secondary education             1   \n",
      "10         2   -4171.483647         36    bachelor's degree             0   \n",
      "11         0    -792.701887         40  secondary education             1   \n",
      "12         0            NaN         65  secondary education             1   \n",
      "13         0   -1846.641941         54         some college             2   \n",
      "14         0   -1844.956182         56    bachelor's degree             0   \n",
      "15         1    -972.364419         26  secondary education             1   \n",
      "16         0   -1719.934226         35  secondary education             1   \n",
      "17         0   -2369.999720         33    bachelor's degree             0   \n",
      "18         0  400281.136913         53  secondary education             1   \n",
      "19         0  -10038.818549         48  SECONDARY EDUCATION             1   \n",
      "\n",
      "        family_status  family_status_id gender income_type  debt  \\\n",
      "0             married                 0      F    employee     0   \n",
      "1             married                 0      F    employee     0   \n",
      "2             married                 0      M    employee     0   \n",
      "3             married                 0      M    employee     0   \n",
      "4   civil partnership                 1      F     retiree     0   \n",
      "5   civil partnership                 1      M    business     0   \n",
      "6             married                 0      F    business     0   \n",
      "7             married                 0      M    employee     0   \n",
      "8   civil partnership                 1      F    employee     0   \n",
      "9             married                 0      M    employee     0   \n",
      "10            married                 0      M    business     0   \n",
      "11            married                 0      F    employee     0   \n",
      "12  civil partnership                 1      M     retiree     0   \n",
      "13            married                 0      F    employee     0   \n",
      "14  civil partnership                 1      F    business     1   \n",
      "15            married                 0      F    employee     0   \n",
      "16            married                 0      F    employee     0   \n",
      "17  civil partnership                 1      M    employee     0   \n",
      "18    widow / widower                 2      F     retiree     0   \n",
      "19           divorced                 3      F    employee     0   \n",
      "\n",
      "    total_income                              purpose  \n",
      "0      40620.102                purchase of the house  \n",
      "1      17932.802                         car purchase  \n",
      "2      23341.752                purchase of the house  \n",
      "3      42820.568              supplementary education  \n",
      "4      25378.572                    to have a wedding  \n",
      "5      40922.170                purchase of the house  \n",
      "6      38484.156                 housing transactions  \n",
      "7      21731.829                            education  \n",
      "8      15337.093                     having a wedding  \n",
      "9      23108.150  purchase of the house for my family  \n",
      "10     18230.959                      buy real estate  \n",
      "11     12331.077           buy commercial real estate  \n",
      "12           NaN                    to have a wedding  \n",
      "13     20873.317                         car purchase  \n",
      "14     26420.466          buy residential real estate  \n",
      "15     18691.345         construction of own property  \n",
      "16     46272.433                             property  \n",
      "17     14465.694                  building a property  \n",
      "18      9091.804             buying a second-hand car  \n",
      "19     38852.977                    buying my own car   \n",
      "\n"
     ]
    }
   ],
   "source": [
    "# read and save original data\n",
    "scoring_credit_orig = pd.read_csv('/datasets/credit_scoring_eng.csv')\n",
    "\n",
    "# review general information\n",
    "print('First 20 rows of data:')\n",
    "print(scoring_credit_orig.head(20), '\\n')"
   ]
  },
  {
   "cell_type": "code",
   "execution_count": 7,
   "metadata": {},
   "outputs": [
    {
     "name": "stdout",
     "output_type": "stream",
     "text": [
      "Data info:\n",
      "<class 'pandas.core.frame.DataFrame'>\n",
      "RangeIndex: 21525 entries, 0 to 21524\n",
      "Data columns (total 12 columns):\n",
      "children            21525 non-null int64\n",
      "days_employed       19351 non-null float64\n",
      "dob_years           21525 non-null int64\n",
      "education           21525 non-null object\n",
      "education_id        21525 non-null int64\n",
      "family_status       21525 non-null object\n",
      "family_status_id    21525 non-null int64\n",
      "gender              21525 non-null object\n",
      "income_type         21525 non-null object\n",
      "debt                21525 non-null int64\n",
      "total_income        19351 non-null float64\n",
      "purpose             21525 non-null object\n",
      "dtypes: float64(2), int64(5), object(5)\n",
      "memory usage: 2.0+ MB\n"
     ]
    }
   ],
   "source": [
    "print('Data info:')\n",
    "scoring_credit_orig.info()"
   ]
  },
  {
   "cell_type": "code",
   "execution_count": 8,
   "metadata": {},
   "outputs": [
    {
     "name": "stdout",
     "output_type": "stream",
     "text": [
      "Number of rows with missing values:\n",
      "children               0\n",
      "days_employed       2174\n",
      "dob_years              0\n",
      "education              0\n",
      "education_id           0\n",
      "family_status          0\n",
      "family_status_id       0\n",
      "gender                 0\n",
      "income_type            0\n",
      "debt                   0\n",
      "total_income        2174\n",
      "purpose                0\n",
      "dtype: int64 \n",
      "\n"
     ]
    }
   ],
   "source": [
    "# Determine number of missing rows\n",
    "print('Number of rows with missing values:')\n",
    "print(scoring_credit_orig.isnull().sum(), '\\n')"
   ]
  },
  {
   "cell_type": "code",
   "execution_count": 9,
   "metadata": {},
   "outputs": [
    {
     "name": "stdout",
     "output_type": "stream",
     "text": [
      "Conversion rate of missing values per column:\n",
      "children            0.000000\n",
      "days_employed       0.100999\n",
      "dob_years           0.000000\n",
      "education           0.000000\n",
      "education_id        0.000000\n",
      "family_status       0.000000\n",
      "family_status_id    0.000000\n",
      "gender              0.000000\n",
      "income_type         0.000000\n",
      "debt                0.000000\n",
      "total_income        0.100999\n",
      "purpose             0.000000\n",
      "dtype: float64 \n",
      "\n"
     ]
    }
   ],
   "source": [
    "# Determine what columns contain missing values and how much of the data it impacts\n",
    "missing_per_column = (scoring_credit_orig.isnull().sum()) / (len(scoring_credit_orig))\n",
    "print('Conversion rate of missing values per column:\\n{}'.format(missing_per_column), '\\n')"
   ]
  },
  {
   "cell_type": "code",
   "execution_count": 10,
   "metadata": {},
   "outputs": [
    {
     "name": "stdout",
     "output_type": "stream",
     "text": [
      "Number of duplicate rows:  54 \n",
      "\n"
     ]
    }
   ],
   "source": [
    "# Determine the number of duplicate rows\n",
    "print('Number of duplicate rows: ', scoring_credit_orig.duplicated().sum(), '\\n')"
   ]
  },
  {
   "cell_type": "markdown",
   "metadata": {},
   "source": [
    "***Take a closer look at the subcategories in appropriate columns and process artifacts.***"
   ]
  },
  {
   "cell_type": "markdown",
   "metadata": {},
   "source": [
    "Updates will need to be made to the data frame, but the original needs to be presereved.\n",
    "Create a new data frame for making changes."
   ]
  },
  {
   "cell_type": "code",
   "execution_count": 11,
   "metadata": {},
   "outputs": [],
   "source": [
    "# read and save working version of data\n",
    "scoring_credit = pd.read_csv('/datasets/credit_scoring_eng.csv')"
   ]
  },
  {
   "cell_type": "markdown",
   "metadata": {},
   "source": [
    "From looking at the original data, the days_employed column contains artifacts:\n",
    "- There are a lot of negative values\n",
    "    - Change these to positive values\n",
    "- It is meant to represent how long the client has been working, however if these values are meant to represent number of days then some of them are too large.\n",
    "    - This artifact is not addressed in this investigation."
   ]
  },
  {
   "cell_type": "code",
   "execution_count": 12,
   "metadata": {},
   "outputs": [
    {
     "name": "stdout",
     "output_type": "stream",
     "text": [
      "Updated data:\n",
      "   children  days_employed  dob_years            education  education_id  \\\n",
      "0         1    8437.673028         42    bachelor's degree             0   \n",
      "1         1    4024.803754         36  secondary education             1   \n",
      "2         0    5623.422610         33  Secondary Education             1   \n",
      "3         3    4124.747207         32  secondary education             1   \n",
      "4         0  340266.072047         53  secondary education             1   \n",
      "5         0     926.185831         27    bachelor's degree             0   \n",
      "6         0    2879.202052         43    bachelor's degree             0   \n",
      "7         0     152.779569         50  SECONDARY EDUCATION             1   \n",
      "8         2    6929.865299         35    BACHELOR'S DEGREE             0   \n",
      "9         0    2188.756445         41  secondary education             1   \n",
      "\n",
      "       family_status  family_status_id gender income_type  debt  total_income  \\\n",
      "0            married                 0      F    employee     0     40620.102   \n",
      "1            married                 0      F    employee     0     17932.802   \n",
      "2            married                 0      M    employee     0     23341.752   \n",
      "3            married                 0      M    employee     0     42820.568   \n",
      "4  civil partnership                 1      F     retiree     0     25378.572   \n",
      "5  civil partnership                 1      M    business     0     40922.170   \n",
      "6            married                 0      F    business     0     38484.156   \n",
      "7            married                 0      M    employee     0     21731.829   \n",
      "8  civil partnership                 1      F    employee     0     15337.093   \n",
      "9            married                 0      M    employee     0     23108.150   \n",
      "\n",
      "                               purpose  \n",
      "0                purchase of the house  \n",
      "1                         car purchase  \n",
      "2                purchase of the house  \n",
      "3              supplementary education  \n",
      "4                    to have a wedding  \n",
      "5                purchase of the house  \n",
      "6                 housing transactions  \n",
      "7                            education  \n",
      "8                     having a wedding  \n",
      "9  purchase of the house for my family  \n"
     ]
    }
   ],
   "source": [
    "# Create a new column for days_employed with positive values\n",
    "scoring_credit['days_employed'] = scoring_credit['days_employed'].abs()\n",
    "\n",
    "# Confirm column is updated information\n",
    "print('Updated data:')\n",
    "print(scoring_credit.head(10))"
   ]
  },
  {
   "cell_type": "code",
   "execution_count": 13,
   "metadata": {},
   "outputs": [
    {
     "name": "stdout",
     "output_type": "stream",
     "text": [
      "children counts:\n",
      " 0     14149\n",
      " 1      4818\n",
      " 2      2055\n",
      " 3       330\n",
      " 20       76\n",
      "-1        47\n",
      " 4        41\n",
      " 5         9\n",
      "Name: children, dtype: int64 \n",
      "\n"
     ]
    }
   ],
   "source": [
    "# Evaluate children subcategories\n",
    "print('children counts:')\n",
    "print(scoring_credit['children'].value_counts(), '\\n')"
   ]
  },
  {
   "cell_type": "markdown",
   "metadata": {},
   "source": [
    "The children column contains artifacts:\n",
    "- The column represents number of children \n",
    "    - Change the column name to better represent this information\n",
    "- There are negative values\n",
    "- There is a rather high value\n",
    "\n",
    "While -1 and 20 may be inappropriate values for number of children, with out being able to ask the investigators clarifying questions about the data and collection/transfer methods I will not change them.\n",
    "- -1 children may represent clients who have lost children\n",
    "- 20 children may be a large number of children, but is not impossible"
   ]
  },
  {
   "cell_type": "code",
   "execution_count": 14,
   "metadata": {},
   "outputs": [
    {
     "name": "stdout",
     "output_type": "stream",
     "text": [
      "Updated data with column name change:\n",
      "   num_children  days_employed  dob_years            education  education_id  \\\n",
      "0             1    8437.673028         42    bachelor's degree             0   \n",
      "1             1    4024.803754         36  secondary education             1   \n",
      "2             0    5623.422610         33  Secondary Education             1   \n",
      "3             3    4124.747207         32  secondary education             1   \n",
      "4             0  340266.072047         53  secondary education             1   \n",
      "\n",
      "       family_status  family_status_id gender income_type  debt  total_income  \\\n",
      "0            married                 0      F    employee     0     40620.102   \n",
      "1            married                 0      F    employee     0     17932.802   \n",
      "2            married                 0      M    employee     0     23341.752   \n",
      "3            married                 0      M    employee     0     42820.568   \n",
      "4  civil partnership                 1      F     retiree     0     25378.572   \n",
      "\n",
      "                   purpose  \n",
      "0    purchase of the house  \n",
      "1             car purchase  \n",
      "2    purchase of the house  \n",
      "3  supplementary education  \n",
      "4        to have a wedding  \n"
     ]
    }
   ],
   "source": [
    "# Rename children column to better represent the column information\n",
    "scoring_credit.rename(columns={'children': 'num_children'}, inplace=True)\n",
    "\n",
    "# Confirm column name change\n",
    "print('Updated data with column name change:')\n",
    "print(scoring_credit.head())"
   ]
  },
  {
   "cell_type": "code",
   "execution_count": 15,
   "metadata": {},
   "outputs": [
    {
     "name": "stdout",
     "output_type": "stream",
     "text": [
      "dob_years counts:\n",
      "35    617\n",
      "40    609\n",
      "41    607\n",
      "34    603\n",
      "38    598\n",
      "42    597\n",
      "33    581\n",
      "39    573\n",
      "31    560\n",
      "36    555\n",
      "44    547\n",
      "29    545\n",
      "30    540\n",
      "48    538\n",
      "37    537\n",
      "50    514\n",
      "43    513\n",
      "32    510\n",
      "49    508\n",
      "28    503\n",
      "45    497\n",
      "27    493\n",
      "56    487\n",
      "52    484\n",
      "47    480\n",
      "54    479\n",
      "46    475\n",
      "58    461\n",
      "57    460\n",
      "53    459\n",
      "51    448\n",
      "59    444\n",
      "55    443\n",
      "26    408\n",
      "60    377\n",
      "25    357\n",
      "61    355\n",
      "62    352\n",
      "63    269\n",
      "64    265\n",
      "24    264\n",
      "23    254\n",
      "65    194\n",
      "66    183\n",
      "22    183\n",
      "67    167\n",
      "21    111\n",
      "0     101\n",
      "68     99\n",
      "69     85\n",
      "70     65\n",
      "71     58\n",
      "20     51\n",
      "72     33\n",
      "19     14\n",
      "73      8\n",
      "74      6\n",
      "75      1\n",
      "Name: dob_years, dtype: int64 \n",
      "\n"
     ]
    }
   ],
   "source": [
    "# Evaluate dob_years subcategories\n",
    "print('dob_years counts:')\n",
    "print(scoring_credit['dob_years'].value_counts(), '\\n')"
   ]
  },
  {
   "cell_type": "code",
   "execution_count": 16,
   "metadata": {},
   "outputs": [
    {
     "name": "stdout",
     "output_type": "stream",
     "text": [
      "education counts:\n",
      "education_id  education          \n",
      "0             bachelor's degree       4718\n",
      "              BACHELOR'S DEGREE        274\n",
      "              Bachelor's Degree        268\n",
      "1             secondary education    13750\n",
      "              SECONDARY EDUCATION      772\n",
      "              Secondary Education      711\n",
      "2             some college             668\n",
      "              Some College              47\n",
      "              SOME COLLEGE              29\n",
      "3             primary education        250\n",
      "              PRIMARY EDUCATION         17\n",
      "              Primary Education         15\n",
      "4             graduate degree            4\n",
      "              GRADUATE DEGREE            1\n",
      "              Graduate Degree            1\n",
      "Name: education, dtype: int64 \n",
      "\n"
     ]
    }
   ],
   "source": [
    "# Evaluate education subcategories\n",
    "print('education counts:')\n",
    "print(scoring_credit.groupby('education_id')['education'].value_counts(), '\\n')"
   ]
  },
  {
   "cell_type": "markdown",
   "metadata": {},
   "source": [
    "The education column contains artifacts:\n",
    "- Upper and lower case subcategories\n",
    "- There are multiple subcategories representing the same thing because of case discrepencies\n",
    "\n",
    "These artifacts will be addressed later in the notebook"
   ]
  },
  {
   "cell_type": "code",
   "execution_count": 17,
   "metadata": {},
   "outputs": [
    {
     "name": "stdout",
     "output_type": "stream",
     "text": [
      "family_status counts:\n",
      "family_status_id  family_status    \n",
      "0                 married              12380\n",
      "1                 civil partnership     4177\n",
      "2                 widow / widower        960\n",
      "3                 divorced              1195\n",
      "4                 unmarried             2813\n",
      "Name: family_status, dtype: int64 \n",
      "\n"
     ]
    }
   ],
   "source": [
    "# Evaluate family_status subcategories\n",
    "print('family_status counts:')\n",
    "print(scoring_credit.groupby('family_status_id')['family_status'].value_counts(), '\\n')"
   ]
  },
  {
   "cell_type": "code",
   "execution_count": 18,
   "metadata": {},
   "outputs": [
    {
     "name": "stdout",
     "output_type": "stream",
     "text": [
      "gender counts:\n",
      "F      14236\n",
      "M       7288\n",
      "XNA        1\n",
      "Name: gender, dtype: int64 \n",
      "\n"
     ]
    }
   ],
   "source": [
    "# Evaluate gender subcategories\n",
    "print('gender counts:')\n",
    "print(scoring_credit['gender'].value_counts(), '\\n')"
   ]
  },
  {
   "cell_type": "code",
   "execution_count": 19,
   "metadata": {},
   "outputs": [
    {
     "name": "stdout",
     "output_type": "stream",
     "text": [
      "income_type counts:\n",
      "employee                       11119\n",
      "business                        5085\n",
      "retiree                         3856\n",
      "civil servant                   1459\n",
      "entrepreneur                       2\n",
      "unemployed                         2\n",
      "student                            1\n",
      "paternity / maternity leave        1\n",
      "Name: income_type, dtype: int64 \n",
      "\n"
     ]
    }
   ],
   "source": [
    "# Evaluate income_type subcategories\n",
    "print('income_type counts:')\n",
    "print(scoring_credit['income_type'].value_counts(), '\\n')"
   ]
  },
  {
   "cell_type": "code",
   "execution_count": 20,
   "metadata": {},
   "outputs": [
    {
     "name": "stdout",
     "output_type": "stream",
     "text": [
      "debt counts:\n",
      "0    19784\n",
      "1     1741\n",
      "Name: debt, dtype: int64 \n",
      "\n"
     ]
    }
   ],
   "source": [
    "# Evaluate debt subcategories\n",
    "print('debt counts:')\n",
    "print(scoring_credit['debt'].value_counts(), '\\n')"
   ]
  },
  {
   "cell_type": "markdown",
   "metadata": {},
   "source": [
    "The information provided in the debt column is meant to represent if a client has defaulted on a loan before.\n",
    "\n",
    "These values are not very informative\n",
    "\n",
    "Create a new column to better represent this information\n",
    "   - update with a name that represents the info\n",
    "   - change the values to be more descriptive and readable"
   ]
  },
  {
   "cell_type": "code",
   "execution_count": 21,
   "metadata": {},
   "outputs": [
    {
     "name": "stdout",
     "output_type": "stream",
     "text": [
      "Updated data with new column and updated information:\n",
      "   num_children  days_employed  dob_years            education  education_id  \\\n",
      "0             1    8437.673028         42    bachelor's degree             0   \n",
      "1             1    4024.803754         36  secondary education             1   \n",
      "2             0    5623.422610         33  Secondary Education             1   \n",
      "3             3    4124.747207         32  secondary education             1   \n",
      "4             0  340266.072047         53  secondary education             1   \n",
      "\n",
      "       family_status  family_status_id gender income_type  debt  total_income  \\\n",
      "0            married                 0      F    employee     0     40620.102   \n",
      "1            married                 0      F    employee     0     17932.802   \n",
      "2            married                 0      M    employee     0     23341.752   \n",
      "3            married                 0      M    employee     0     42820.568   \n",
      "4  civil partnership                 1      F     retiree     0     25378.572   \n",
      "\n",
      "                   purpose defaulted_before  \n",
      "0    purchase of the house               No  \n",
      "1             car purchase               No  \n",
      "2    purchase of the house               No  \n",
      "3  supplementary education               No  \n",
      "4        to have a wedding               No   \n",
      "\n"
     ]
    }
   ],
   "source": [
    "# Create a more readable column for those that have defaulted on a loan before:\n",
    "# Create a function to change the column values\n",
    "def assign_default_status(default_status):\n",
    "    if default_status == 1:\n",
    "        return 'Yes'\n",
    "    if default_status == 0:\n",
    "        return 'No'\n",
    "    else:\n",
    "        return 'Unknown'\n",
    "\n",
    "# Create new column with newly assigned default history\n",
    "scoring_credit['defaulted_before'] = scoring_credit['debt'].apply(assign_default_status)\n",
    "# Check data with new column and updated information\n",
    "print('Updated data with new column and updated information:')\n",
    "print(scoring_credit.head(), '\\n')"
   ]
  },
  {
   "cell_type": "code",
   "execution_count": 22,
   "metadata": {},
   "outputs": [
    {
     "name": "stdout",
     "output_type": "stream",
     "text": [
      "defaulted_before subcategory totals:\n",
      "No     19784\n",
      "Yes     1741\n",
      "Name: defaulted_before, dtype: int64 \n",
      "\n"
     ]
    }
   ],
   "source": [
    "# Confirm counts match between the old and new columns\n",
    "print('defaulted_before subcategory totals:')\n",
    "print(scoring_credit['defaulted_before'].value_counts(), '\\n')"
   ]
  },
  {
   "cell_type": "code",
   "execution_count": 23,
   "metadata": {},
   "outputs": [
    {
     "name": "stdout",
     "output_type": "stream",
     "text": [
      "Percentage of defaulted clients: 8.1% \n",
      "\n"
     ]
    }
   ],
   "source": [
    "# Evaluate the percentage of clients who have defaulted\n",
    "defaulted_clients = 0\n",
    "for row in scoring_credit['debt']:\n",
    "    if row == 1:\n",
    "        defaulted_clients += 1\n",
    "\n",
    "perc_defaulted_clients = defaulted_clients / len(scoring_credit)\n",
    "print('Percentage of defaulted clients: {:.1%}'.format(perc_defaulted_clients), '\\n')"
   ]
  },
  {
   "cell_type": "code",
   "execution_count": 24,
   "metadata": {
    "scrolled": false
   },
   "outputs": [
    {
     "name": "stdout",
     "output_type": "stream",
     "text": [
      "purpose counts:\n",
      "wedding ceremony                            797\n",
      "having a wedding                            777\n",
      "to have a wedding                           774\n",
      "real estate transactions                    676\n",
      "buy commercial real estate                  664\n",
      "housing transactions                        653\n",
      "buying property for renting out             653\n",
      "transactions with commercial real estate    651\n",
      "housing                                     647\n",
      "purchase of the house                       647\n",
      "purchase of the house for my family         641\n",
      "construction of own property                635\n",
      "property                                    634\n",
      "transactions with my real estate            630\n",
      "building a real estate                      626\n",
      "buy real estate                             624\n",
      "purchase of my own house                    620\n",
      "building a property                         620\n",
      "housing renovation                          612\n",
      "buy residential real estate                 607\n",
      "buying my own car                           505\n",
      "going to university                         496\n",
      "car                                         495\n",
      "second-hand car purchase                    489\n",
      "to own a car                                480\n",
      "buying a second-hand car                    479\n",
      "cars                                        478\n",
      "to buy a car                                472\n",
      "supplementary education                     462\n",
      "car purchase                                462\n",
      "purchase of a car                           455\n",
      "university education                        453\n",
      "education                                   447\n",
      "to get a supplementary education            447\n",
      "getting an education                        443\n",
      "profile education                           436\n",
      "getting higher education                    426\n",
      "to become educated                          412\n",
      "Name: purpose, dtype: int64\n"
     ]
    }
   ],
   "source": [
    "# Evaluate purpose subcategories\n",
    "print('purpose counts:')\n",
    "print(scoring_credit['purpose'].value_counts())"
   ]
  },
  {
   "cell_type": "markdown",
   "metadata": {},
   "source": [
    "The purpose column contains artifacts:\n",
    "- Duplicate values in a way\n",
    "    - There are several purposes provided and many of them represent the same thing but phrased differently\n",
    "\n",
    "These artifacts will be addressed later in the notebook"
   ]
  },
  {
   "cell_type": "markdown",
   "metadata": {},
   "source": [
    "***Data frame info with updates***"
   ]
  },
  {
   "cell_type": "code",
   "execution_count": 25,
   "metadata": {},
   "outputs": [
    {
     "name": "stdout",
     "output_type": "stream",
     "text": [
      "Dataframe info with updates:\n",
      "<class 'pandas.core.frame.DataFrame'>\n",
      "RangeIndex: 21525 entries, 0 to 21524\n",
      "Data columns (total 13 columns):\n",
      "num_children        21525 non-null int64\n",
      "days_employed       19351 non-null float64\n",
      "dob_years           21525 non-null int64\n",
      "education           21525 non-null object\n",
      "education_id        21525 non-null int64\n",
      "family_status       21525 non-null object\n",
      "family_status_id    21525 non-null int64\n",
      "gender              21525 non-null object\n",
      "income_type         21525 non-null object\n",
      "debt                21525 non-null int64\n",
      "total_income        19351 non-null float64\n",
      "purpose             21525 non-null object\n",
      "defaulted_before    21525 non-null object\n",
      "dtypes: float64(2), int64(5), object(6)\n",
      "memory usage: 2.1+ MB\n"
     ]
    }
   ],
   "source": [
    "# Review data info\n",
    "print('Dataframe info with updates:')\n",
    "scoring_credit.info()"
   ]
  },
  {
   "cell_type": "markdown",
   "metadata": {},
   "source": [
    "<div class=\"alert alert-warning\" style=\"box-shadow: 4px 4px 4px\">\n",
    "<s>Remark: it is not a mistake, however it is accepted to import libraries in a separate code cell. Also it is a little bit better to use each method in a different code cells. It will just look prettier</s>\n",
    "</div>"
   ]
  },
  {
   "cell_type": "markdown",
   "metadata": {},
   "source": [
    "### Conclusion"
   ]
  },
  {
   "cell_type": "markdown",
   "metadata": {},
   "source": [
    "***General info:***\n",
    "- There are 21525 entries and 12 columns\n",
    "- The columns represent categorical and numerical types\n",
    "- Each row represents a specific customer\n",
    "    - There is not a unique identifier for each customer, so there could be duplicates representing different custormers\n",
    "- Columns days_employed and total_income contain missing data: 10% of the total entries\n",
    "- Columns days_employed has a lot of negative numbers, which doesnt make sense, and some values are too high for a human lifespan\n",
    "    - Perhaps there is a calculation error that happened or this column is mislabeled and is meant to represent different information\n",
    "- Column education contains lower and upper case entries\n",
    "- There are 54 duplicates\n",
    "- Some of the column names are hard to understand or dont clearly explain the column data\n",
    "    - Since we are given the info of what each column represents I will not change them\n",
    "\n",
    "***Column based info:***\n",
    "- Most clients have 0 children\n",
    "- There are 47 clients with -1 children, this could be a typo or meant to represent clients who have lost a child\n",
    "- There is a large age range of clients\n",
    "- Most clients appear to have a secondary education, the least have graduate degrees\n",
    "- Most clients are married followed by civil partnership, unmarried, divorced, widow / widower\n",
    "- There are almost 2x more female clients than male clients\n",
    "- Most clients are employees\n",
    "- 1741 clients have defaulted on a loan before\n",
    "    - This makes up 8.1% of the clients\n",
    "- The explanation of the data says that total_income represents monthly income, these clients appear to be very high earners\n",
    "    - Maybe this is meant to represent annual income?\n",
    "- The purpose subcategories have themes but there are several representing a similar reason/explanation"
   ]
  },
  {
   "cell_type": "markdown",
   "metadata": {},
   "source": [
    "# Conclusion updates after code review and code changes/updates\n",
    "***Changes made to data for better representation, readability, easier analysis, etc.***\n",
    "\n",
    "If values in columns needed to be udated, a new column was created to do so because no instructions were given to modify existing column values\n",
    "- children column changed to num_children to better represent the information in the column\n",
    "- days_employed values changed from negative to positive\n",
    "- New column (defaulted_before) added to be more readable and better represent the debt column\n",
    "\n",
    "***Interesting artifacts***\n",
    "\n",
    "- The num_children column contains clients with -1 and 20 children.\n",
    "    - While a -1 and 20 may be inappropriate values for number of children, with out being able to ask the investigators clarifying questions about the data and collection/transfer methods I will not change them.\n",
    "       - -1 children may represent clients who have lost children\n",
    "       - 20 children may be a large number of children, but is not impossible\n",
    "- days_employed_pos column is meant to represent how long the customer has been working, while the column name implies number of days, some of these values are too large for an average human lifespan, perhaps they are meant to represent hours or there was a calculation error.\n",
    "\n",
    "***Information after updates***\n",
    "\n",
    "Initial data started with 12 columns, after updates there are 13"
   ]
  },
  {
   "cell_type": "markdown",
   "metadata": {},
   "source": [
    "<div class=\"alert alert-success\" style=\"box-shadow: 4px 4px 4px\">\n",
    "Success: Such an amazing conclusion!\n",
    "</div>"
   ]
  },
  {
   "cell_type": "markdown",
   "metadata": {},
   "source": [
    "<div class=\"alert alert-success\" style=\"box-shadow: 4px 4px 4px\">\n",
    "Success: It is still such an amazing conclusion!\n",
    "</div>"
   ]
  },
  {
   "cell_type": "markdown",
   "metadata": {},
   "source": [
    "## Data preprocessing"
   ]
  },
  {
   "cell_type": "markdown",
   "metadata": {},
   "source": [
    "### Processing missing values"
   ]
  },
  {
   "cell_type": "markdown",
   "metadata": {},
   "source": [
    "***Process missing values in the data***\n",
    "\n",
    "- Determine if missing values across columns are in the same rows\n",
    "- See if there is a pattern to explain the missing values\n",
    "- Evaluate the presence of missing values in the data\n",
    "- Determine appropriate data to use to fill in missing values\n",
    "- Fill in missing values\n",
    "- Confirm missing values are filled\n",
    "- Confirm data is not significantly impacted by filled in missing values"
   ]
  },
  {
   "cell_type": "code",
   "execution_count": 26,
   "metadata": {},
   "outputs": [],
   "source": [
    "# Moved to earlier cell after code review\n",
    "# read and save working version of data\n",
    "# scoring_credit = pd.read_csv('/datasets/credit_scoring_eng.csv')"
   ]
  },
  {
   "cell_type": "markdown",
   "metadata": {},
   "source": [
    "***Determine if missing values across columns are in the same rows:***"
   ]
  },
  {
   "cell_type": "code",
   "execution_count": 27,
   "metadata": {},
   "outputs": [
    {
     "name": "stdout",
     "output_type": "stream",
     "text": [
      "Unique missing values in days_employed and total_income columns, expect [nan]:\n",
      "[nan] \n",
      "\n"
     ]
    }
   ],
   "source": [
    "# Determine if missing values in days_employed and total_income are in the same rows\n",
    "# If so, expect a return of null values ([nan])\n",
    "uniq_mis_vals = scoring_credit[scoring_credit['days_employed'].isnull()]['total_income'].unique()\n",
    "print('Unique missing values in days_employed and total_income columns, expect [nan]:\\n{}'.format(uniq_mis_vals), '\\n')"
   ]
  },
  {
   "cell_type": "code",
   "execution_count": 28,
   "metadata": {},
   "outputs": [
    {
     "name": "stdout",
     "output_type": "stream",
     "text": [
      "Number of unique missing values in days_employed and total_income columns, expect 2174:\n",
      "2174 \n",
      "\n"
     ]
    }
   ],
   "source": [
    "# Determine if the length of the returned list matches the number of .isnull() determined in previous cell (2174)\n",
    "num_uniq_mis_vals = len(scoring_credit[scoring_credit['days_employed'].isnull()]['total_income'])\n",
    "print('Number of unique missing values in days_employed and total_income columns, expect 2174:\\n{}'.format(num_uniq_mis_vals), '\\n')\n"
   ]
  },
  {
   "cell_type": "markdown",
   "metadata": {},
   "source": [
    "The returned values above indicate that the missing values in the days_employed and total_income columns are in the same rows.\n",
    "\n",
    "***Review the rows to determine if there is an obvious pattern as to why the values are missing:***"
   ]
  },
  {
   "cell_type": "code",
   "execution_count": 29,
   "metadata": {},
   "outputs": [
    {
     "name": "stdout",
     "output_type": "stream",
     "text": [
      "First 20 rows with missing data:\n",
      "     num_children  days_employed  dob_years            education  \\\n",
      "12              0            NaN         65  secondary education   \n",
      "26              0            NaN         41  secondary education   \n",
      "29              0            NaN         63  secondary education   \n",
      "41              0            NaN         50  secondary education   \n",
      "55              0            NaN         54  secondary education   \n",
      "65              0            NaN         21  secondary education   \n",
      "67              0            NaN         52    bachelor's degree   \n",
      "72              1            NaN         32    bachelor's degree   \n",
      "82              2            NaN         50    bachelor's degree   \n",
      "83              0            NaN         52  secondary education   \n",
      "90              2            NaN         35    bachelor's degree   \n",
      "94              1            NaN         34    bachelor's degree   \n",
      "96              0            NaN         44  SECONDARY EDUCATION   \n",
      "97              0            NaN         47    bachelor's degree   \n",
      "120             0            NaN         46  secondary education   \n",
      "121             0            NaN         29    bachelor's degree   \n",
      "135             0            NaN         27  secondary education   \n",
      "141             0            NaN         39  secondary education   \n",
      "145             0            NaN         62  secondary education   \n",
      "174             0            NaN         55    bachelor's degree   \n",
      "\n",
      "     education_id      family_status  family_status_id gender    income_type  \\\n",
      "12              1  civil partnership                 1      M        retiree   \n",
      "26              1            married                 0      M  civil servant   \n",
      "29              1          unmarried                 4      F        retiree   \n",
      "41              1            married                 0      F  civil servant   \n",
      "55              1  civil partnership                 1      F        retiree   \n",
      "65              1          unmarried                 4      M       business   \n",
      "67              0            married                 0      F        retiree   \n",
      "72              0            married                 0      M  civil servant   \n",
      "82              0            married                 0      F       employee   \n",
      "83              1            married                 0      M       employee   \n",
      "90              0            married                 0      F       employee   \n",
      "94              0  civil partnership                 1      F       business   \n",
      "96              1            married                 0      F       employee   \n",
      "97              0            married                 0      F       employee   \n",
      "120             1            married                 0      F       employee   \n",
      "121             0            married                 0      F       business   \n",
      "135             1            married                 0      M       business   \n",
      "141             1  civil partnership                 1      M       employee   \n",
      "145             1            married                 0      M        retiree   \n",
      "174             0    widow / widower                 2      F       business   \n",
      "\n",
      "     debt  total_income                                   purpose  \\\n",
      "12      0           NaN                         to have a wedding   \n",
      "26      0           NaN                                 education   \n",
      "29      0           NaN                    building a real estate   \n",
      "41      0           NaN                  second-hand car purchase   \n",
      "55      1           NaN                         to have a wedding   \n",
      "65      0           NaN  transactions with commercial real estate   \n",
      "67      0           NaN       purchase of the house for my family   \n",
      "72      0           NaN  transactions with commercial real estate   \n",
      "82      0           NaN                                   housing   \n",
      "83      0           NaN                                   housing   \n",
      "90      0           NaN                      housing transactions   \n",
      "94      0           NaN                          having a wedding   \n",
      "96      0           NaN               buy residential real estate   \n",
      "97      0           NaN                         profile education   \n",
      "120     0           NaN                      university education   \n",
      "121     0           NaN                                       car   \n",
      "135     0           NaN                                   housing   \n",
      "141     0           NaN                          wedding ceremony   \n",
      "145     0           NaN                       building a property   \n",
      "174     0           NaN                              to own a car   \n",
      "\n",
      "    defaulted_before  \n",
      "12                No  \n",
      "26                No  \n",
      "29                No  \n",
      "41                No  \n",
      "55               Yes  \n",
      "65                No  \n",
      "67                No  \n",
      "72                No  \n",
      "82                No  \n",
      "83                No  \n",
      "90                No  \n",
      "94                No  \n",
      "96                No  \n",
      "97                No  \n",
      "120               No  \n",
      "121               No  \n",
      "135               No  \n",
      "141               No  \n",
      "145               No  \n",
      "174               No   \n",
      "\n"
     ]
    }
   ],
   "source": [
    "# Review rows with missing values to see if there is an obvious pattern\n",
    "print('First 20 rows with missing data:')\n",
    "print(scoring_credit[scoring_credit['days_employed'].isnull()].head(20), '\\n') # no obvious pattern - let's take a closer look"
   ]
  },
  {
   "cell_type": "markdown",
   "metadata": {},
   "source": [
    "Reviewing the first 20 rows of the data does not reveal an obvious pattern in rows with missing values.\n",
    "\n",
    "***Evaluate the subcategories of other columns to determine if there is a pattern associated with the missing values.***\n",
    "\n",
    "The investigation is asking for possible reasons for loan defaults. Because several of the columns have data that still need to be cleaned up family_status seems like a good place to start as it is a focus for the investigation and has clean data"
   ]
  },
  {
   "cell_type": "code",
   "execution_count": 30,
   "metadata": {},
   "outputs": [
    {
     "name": "stdout",
     "output_type": "stream",
     "text": [
      "Count of family_status subcategories associated with missing values:\n",
      "married              1237\n",
      "civil partnership     442\n",
      "unmarried             288\n",
      "divorced              112\n",
      "widow / widower        95\n",
      "Name: family_status, dtype: int64 \n",
      "\n"
     ]
    }
   ],
   "source": [
    "# Evaluate the subcategories assocatied with missing data in the family_status column\n",
    "fam_stat_sub_cat_mis_val_count = scoring_credit[scoring_credit['days_employed'].isnull()]['family_status'].value_counts()\n",
    "print('Count of family_status subcategories associated with missing values:\\n{}'\n",
    "      .format(fam_stat_sub_cat_mis_val_count), '\\n')"
   ]
  },
  {
   "cell_type": "code",
   "execution_count": 31,
   "metadata": {},
   "outputs": [
    {
     "name": "stdout",
     "output_type": "stream",
     "text": [
      "Total number of family_status rows with missing values (expect 2174):\n",
      "2174 \n",
      "\n"
     ]
    }
   ],
   "source": [
    "# Confirm that the number of counts associated with missing values totals to the number of missing information\n",
    "fam_stat_sub_cat_mis_val_total = scoring_credit[scoring_credit['days_employed'].isnull()]['family_status'].value_counts().sum()\n",
    "print('Total number of family_status rows with missing values (expect 2174):\\n{}'\n",
    "      .format(fam_stat_sub_cat_mis_val_total), '\\n')"
   ]
  },
  {
   "cell_type": "markdown",
   "metadata": {},
   "source": [
    "Evaluate the subcategory conversion rates:"
   ]
  },
  {
   "cell_type": "code",
   "execution_count": 32,
   "metadata": {},
   "outputs": [
    {
     "name": "stdout",
     "output_type": "stream",
     "text": [
      "Conversion rate of missing values associated with each family_status subcategory:\n",
      "married              0.099919\n",
      "civil partnership    0.105818\n",
      "unmarried            0.102382\n",
      "divorced             0.093724\n",
      "widow / widower      0.098958\n",
      "Name: family_status, dtype: float64 \n",
      "\n"
     ]
    }
   ],
   "source": [
    "# Evaluate the subcategory converstion rates:\n",
    "# Compared to total of each subcategories for family_status column\n",
    "fam_stat_sub_cat_counts = scoring_credit['family_status'].value_counts()\n",
    "fam_stat_sub_cat_comp_mis_total = fam_stat_sub_cat_mis_val_count / fam_stat_sub_cat_counts\n",
    "print('Conversion rate of missing values associated with each family_status subcategory:\\n{}'\n",
    "      .format(fam_stat_sub_cat_comp_mis_total), '\\n')"
   ]
  },
  {
   "cell_type": "code",
   "execution_count": 33,
   "metadata": {},
   "outputs": [
    {
     "name": "stdout",
     "output_type": "stream",
     "text": [
      "Conversion rate of missing values associated with each family_status subcategory in total entries:\n",
      "married              0.057468\n",
      "civil partnership    0.020534\n",
      "unmarried            0.013380\n",
      "divorced             0.005203\n",
      "widow / widower      0.004413\n",
      "Name: family_status, dtype: float64 \n",
      "\n"
     ]
    }
   ],
   "source": [
    "# Conversion rate compared to total entries\n",
    "fam_stat_sub_cat_mis_val_con_rate = scoring_credit[scoring_credit['days_employed'].isnull()]['family_status'].value_counts()\n",
    "print('Conversion rate of missing values associated with each family_status subcategory in total entries:\\n{}'\n",
    "      .format(fam_stat_sub_cat_mis_val_con_rate / len(scoring_credit)), '\\n')"
   ]
  },
  {
   "cell_type": "markdown",
   "metadata": {},
   "source": [
    "While 10% of each family_status subcategory is associated with missing values, there does not seem to be a specific pattern as to why.\n",
    "\n",
    "Although the conversion rates for each family_status subcategory is 6% or less of the total entries, the directions given are to fill in missing information rather than delete them."
   ]
  },
  {
   "cell_type": "markdown",
   "metadata": {},
   "source": [
    "***Determine the appropriate data to use to fill missing values.***\n",
    "\n",
    "Calculate mean and median of columns with missing values"
   ]
  },
  {
   "cell_type": "code",
   "execution_count": 34,
   "metadata": {},
   "outputs": [
    {
     "name": "stdout",
     "output_type": "stream",
     "text": [
      "days_employed mean: 66914.72890682236\n",
      "days_employed median: 2194.220566878695 \n",
      "\n",
      "total_income mean: 26787.56835465867\n",
      "total_income median: 23202.87 \n",
      "\n"
     ]
    }
   ],
   "source": [
    "# Calculate mean and median of columns with missing values\n",
    "days_employed_mean = scoring_credit['days_employed'].mean()\n",
    "days_employed_median = scoring_credit['days_employed'].median()\n",
    "total_income_mean = scoring_credit['total_income'].mean()\n",
    "total_income_median = scoring_credit['total_income'].median()\n",
    "print('days_employed mean: {}'.format(days_employed_mean))\n",
    "print('days_employed median: {}'.format(days_employed_median), '\\n')\n",
    "print('total_income mean: {}'.format(total_income_mean))\n",
    "print('total_income median: {}'.format(total_income_median), '\\n')"
   ]
  },
  {
   "cell_type": "code",
   "execution_count": 35,
   "metadata": {},
   "outputs": [
    {
     "name": "stdout",
     "output_type": "stream",
     "text": [
      "Mean of family_status subcategories in columns with missing values:\n",
      "                   days_employed  total_income\n",
      "family_status                                 \n",
      "civil partnership   58396.260670  26694.428597\n",
      "divorced            68816.335483  27189.354550\n",
      "married             63312.782890  27041.784689\n",
      "unmarried           47072.691647  26934.069805\n",
      "widow / widower    205636.887848  22984.208556 \n",
      "\n",
      "Median of family_status subcategories in columns with missing values:\n",
      "                   days_employed  total_income\n",
      "family_status                                 \n",
      "civil partnership    1944.345291     23186.534\n",
      "divorced             2401.954568     23515.096\n",
      "married              2304.964439     23389.540\n",
      "unmarried            1462.009287     23149.028\n",
      "widow / widower    337017.713307     20514.190 \n",
      "\n"
     ]
    }
   ],
   "source": [
    "# Evaluate the mean and median of the family_status subcategories\n",
    "fam_stat_sub_cat_mean = scoring_credit.groupby('family_status')['days_employed', 'total_income'].mean()\n",
    "print('Mean of family_status subcategories in columns with missing values:\\n{}'.format(fam_stat_sub_cat_mean), '\\n')\n",
    "fam_stat_sub_cat_median = scoring_credit.groupby('family_status')['days_employed', 'total_income'].median()\n",
    "print('Median of family_status subcategories in columns with missing values:\\n{}'.format(fam_stat_sub_cat_median), '\\n')"
   ]
  },
  {
   "cell_type": "markdown",
   "metadata": {},
   "source": [
    "The widow / widower subcategory has a high median. However the median values for the other subcategories are close to the days_employed and total_income column medians.\n",
    "\n",
    "The means are higher than the median implying that there are outliers in the data. \n",
    "\n",
    "I am going to use the median values of the days_employed and total_income columns to fill in the missing values. \n",
    "\n",
    "***Fill in missing values with out significantly impacting the analysis:***"
   ]
  },
  {
   "cell_type": "code",
   "execution_count": 36,
   "metadata": {},
   "outputs": [],
   "source": [
    "# Fill in days_employed_pos missing values with median of that column\n",
    "scoring_credit.loc[(scoring_credit['days_employed'].isnull()), 'days_employed'] = days_employed_median"
   ]
  },
  {
   "cell_type": "markdown",
   "metadata": {},
   "source": [
    "<div class=\"alert alert-warning\" style=\"box-shadow: 4px 4px 4px\">\n",
    "Remark: There is a typo in this code cell. Please, find it. It doesn't affect the fact that work is accepted!\n",
    "</div>"
   ]
  },
  {
   "cell_type": "code",
   "execution_count": 37,
   "metadata": {},
   "outputs": [],
   "source": [
    "# Fill in total_income missing values with median of that column                    \n",
    "scoring_credit.loc[(scoring_credit['total_income'].isnull()), 'total_income'] = total_income_median"
   ]
  },
  {
   "cell_type": "markdown",
   "metadata": {},
   "source": [
    "***Confirm the missing values have been filled in***"
   ]
  },
  {
   "cell_type": "code",
   "execution_count": 38,
   "metadata": {},
   "outputs": [
    {
     "name": "stdout",
     "output_type": "stream",
     "text": [
      "Review first 30 rows of data after missing values filled:\n",
      "    num_children  days_employed  dob_years            education  education_id  \\\n",
      "0              1    8437.673028         42    bachelor's degree             0   \n",
      "1              1    4024.803754         36  secondary education             1   \n",
      "2              0    5623.422610         33  Secondary Education             1   \n",
      "3              3    4124.747207         32  secondary education             1   \n",
      "4              0  340266.072047         53  secondary education             1   \n",
      "5              0     926.185831         27    bachelor's degree             0   \n",
      "6              0    2879.202052         43    bachelor's degree             0   \n",
      "7              0     152.779569         50  SECONDARY EDUCATION             1   \n",
      "8              2    6929.865299         35    BACHELOR'S DEGREE             0   \n",
      "9              0    2188.756445         41  secondary education             1   \n",
      "10             2    4171.483647         36    bachelor's degree             0   \n",
      "11             0     792.701887         40  secondary education             1   \n",
      "12             0    2194.220567         65  secondary education             1   \n",
      "13             0    1846.641941         54         some college             2   \n",
      "14             0    1844.956182         56    bachelor's degree             0   \n",
      "15             1     972.364419         26  secondary education             1   \n",
      "16             0    1719.934226         35  secondary education             1   \n",
      "17             0    2369.999720         33    bachelor's degree             0   \n",
      "18             0  400281.136913         53  secondary education             1   \n",
      "19             0   10038.818549         48  SECONDARY EDUCATION             1   \n",
      "20             1    1311.604166         36  secondary education             1   \n",
      "21             1     253.685166         33  secondary education             1   \n",
      "22             1    1766.644138         24  secondary education             1   \n",
      "23             0     272.981385         21    bachelor's degree             0   \n",
      "24             1  338551.952911         57  secondary education             1   \n",
      "25             0  363548.489348         67  secondary education             1   \n",
      "26             0    2194.220567         41  secondary education             1   \n",
      "27             0     529.191635         28    bachelor's degree             0   \n",
      "28             1     717.274324         26    bachelor's degree             0   \n",
      "29             0    2194.220567         63  secondary education             1   \n",
      "\n",
      "        family_status  family_status_id gender    income_type  debt  \\\n",
      "0             married                 0      F       employee     0   \n",
      "1             married                 0      F       employee     0   \n",
      "2             married                 0      M       employee     0   \n",
      "3             married                 0      M       employee     0   \n",
      "4   civil partnership                 1      F        retiree     0   \n",
      "5   civil partnership                 1      M       business     0   \n",
      "6             married                 0      F       business     0   \n",
      "7             married                 0      M       employee     0   \n",
      "8   civil partnership                 1      F       employee     0   \n",
      "9             married                 0      M       employee     0   \n",
      "10            married                 0      M       business     0   \n",
      "11            married                 0      F       employee     0   \n",
      "12  civil partnership                 1      M        retiree     0   \n",
      "13            married                 0      F       employee     0   \n",
      "14  civil partnership                 1      F       business     1   \n",
      "15            married                 0      F       employee     0   \n",
      "16            married                 0      F       employee     0   \n",
      "17  civil partnership                 1      M       employee     0   \n",
      "18    widow / widower                 2      F        retiree     0   \n",
      "19           divorced                 3      F       employee     0   \n",
      "20            married                 0      M       employee     0   \n",
      "21  civil partnership                 1      F       employee     0   \n",
      "22  civil partnership                 1      F       employee     0   \n",
      "23  civil partnership                 1      M       employee     0   \n",
      "24          unmarried                 4      F        retiree     0   \n",
      "25            married                 0      M        retiree     0   \n",
      "26            married                 0      M  civil servant     0   \n",
      "27            married                 0      M       employee     0   \n",
      "28            married                 0      F       employee     0   \n",
      "29          unmarried                 4      F        retiree     0   \n",
      "\n",
      "    total_income                                   purpose defaulted_before  \n",
      "0      40620.102                     purchase of the house               No  \n",
      "1      17932.802                              car purchase               No  \n",
      "2      23341.752                     purchase of the house               No  \n",
      "3      42820.568                   supplementary education               No  \n",
      "4      25378.572                         to have a wedding               No  \n",
      "5      40922.170                     purchase of the house               No  \n",
      "6      38484.156                      housing transactions               No  \n",
      "7      21731.829                                 education               No  \n",
      "8      15337.093                          having a wedding               No  \n",
      "9      23108.150       purchase of the house for my family               No  \n",
      "10     18230.959                           buy real estate               No  \n",
      "11     12331.077                buy commercial real estate               No  \n",
      "12     23202.870                         to have a wedding               No  \n",
      "13     20873.317                              car purchase               No  \n",
      "14     26420.466               buy residential real estate              Yes  \n",
      "15     18691.345              construction of own property               No  \n",
      "16     46272.433                                  property               No  \n",
      "17     14465.694                       building a property               No  \n",
      "18      9091.804                  buying a second-hand car               No  \n",
      "19     38852.977                         buying my own car               No  \n",
      "20     33528.423                                  property               No  \n",
      "21     21089.953                              car purchase               No  \n",
      "22     23948.983                  buying a second-hand car               No  \n",
      "23     20522.515                         to have a wedding               No  \n",
      "24     46487.558  transactions with commercial real estate               No  \n",
      "25      8818.041                           buy real estate               No  \n",
      "26     23202.870                                 education               No  \n",
      "27     49415.837              construction of own property               No  \n",
      "28     30058.118              construction of own property               No  \n",
      "29     23202.870                    building a real estate               No   \n",
      "\n"
     ]
    }
   ],
   "source": [
    "# Review data after missing values filled\n",
    "print('Review first 30 rows of data after missing values filled:')\n",
    "print(scoring_credit.head(30), '\\n')"
   ]
  },
  {
   "cell_type": "code",
   "execution_count": 39,
   "metadata": {},
   "outputs": [
    {
     "name": "stdout",
     "output_type": "stream",
     "text": [
      "family_status counts associated with missing values filled (expect an empty series):\n",
      "Series([], Name: family_status, dtype: int64) \n",
      "\n"
     ]
    }
   ],
   "source": [
    "# Confirm that missing values are filled in\n",
    "fam_stat_sub_cat_count_post_fill = scoring_credit[scoring_credit['days_employed'].isnull()]['family_status'].value_counts()\n",
    "print('family_status counts associated with missing values filled (expect an empty series):\\n{}'.format(fam_stat_sub_cat_count_post_fill), '\\n')"
   ]
  },
  {
   "cell_type": "code",
   "execution_count": 40,
   "metadata": {},
   "outputs": [
    {
     "name": "stdout",
     "output_type": "stream",
     "text": [
      "Number of unique missing values in days_employed and total_income columns with missing values filled (expect 0)\n",
      "0 \n",
      "\n"
     ]
    }
   ],
   "source": [
    "# Expect a return of 0\n",
    "num_uniq_mis_vals_post_fill = len(scoring_credit[scoring_credit['days_employed'].isnull()]['total_income'])\n",
    "print('Number of unique missing values in days_employed and total_income columns with missing values filled (expect 0)\\n{}'\n",
    "      .format(num_uniq_mis_vals_post_fill), '\\n')"
   ]
  },
  {
   "cell_type": "markdown",
   "metadata": {},
   "source": [
    "Confirm that there are no more missing values:"
   ]
  },
  {
   "cell_type": "code",
   "execution_count": 41,
   "metadata": {},
   "outputs": [
    {
     "name": "stdout",
     "output_type": "stream",
     "text": [
      "Unique missing values in days_employed and total_income columns with missing values filled (expect an empyt list)\n",
      "[] \n",
      "\n"
     ]
    }
   ],
   "source": [
    "# Confirm that there are no unique values between the days_employed_pos and total_income columns with missing values filled in:\n",
    "# Expect an empty list\n",
    "uniq_mis_vals_post_fill = scoring_credit[scoring_credit['days_employed'].isnull()]['total_income'].unique()\n",
    "print('Unique missing values in days_employed and total_income columns with missing values filled (expect an empyt list)\\n{}'\n",
    "      .format(uniq_mis_vals_post_fill), '\\n')"
   ]
  },
  {
   "cell_type": "code",
   "execution_count": 42,
   "metadata": {},
   "outputs": [
    {
     "name": "stdout",
     "output_type": "stream",
     "text": [
      "Missing values after missing values have been filled:\n",
      "num_children        0\n",
      "days_employed       0\n",
      "dob_years           0\n",
      "education           0\n",
      "education_id        0\n",
      "family_status       0\n",
      "family_status_id    0\n",
      "gender              0\n",
      "income_type         0\n",
      "debt                0\n",
      "total_income        0\n",
      "purpose             0\n",
      "defaulted_before    0\n",
      "dtype: int64.\n"
     ]
    }
   ],
   "source": [
    "# Confirm all missing values are filled in the data\n",
    "mis_val_post_fill = scoring_credit.isnull().sum()\n",
    "print('Missing values after missing values have been filled:\\n{}.'.format(mis_val_post_fill))"
   ]
  },
  {
   "cell_type": "markdown",
   "metadata": {},
   "source": [
    "***Confirm data wasnt significanlty impacted by filling in missing values***\n",
    "\n",
    "Examine the subcategory means and medians with missing values filled in:"
   ]
  },
  {
   "cell_type": "code",
   "execution_count": 43,
   "metadata": {},
   "outputs": [
    {
     "name": "stdout",
     "output_type": "stream",
     "text": [
      "Mean of family_status subcategories with missing values filled:\n",
      "                   days_employed  total_income\n",
      "family_status                                 \n",
      "civil partnership   52449.097221  26324.960342\n",
      "divorced            62572.254419  26815.725873\n",
      "married             57205.863537  26658.203310\n",
      "unmarried           42477.953051  26552.062857\n",
      "widow / widower    185504.540565  23005.846928 \n",
      "\n"
     ]
    }
   ],
   "source": [
    "# family_status subcategory mean with missing values filled in:\n",
    "fam_stat_sub_cat_mean_post_filled = scoring_credit.groupby('family_status')['days_employed', 'total_income'].mean()\n",
    "print('Mean of family_status subcategories with missing values filled:\\n{}'.format(fam_stat_sub_cat_mean_post_filled), '\\n')"
   ]
  },
  {
   "cell_type": "code",
   "execution_count": 44,
   "metadata": {},
   "outputs": [
    {
     "name": "stdout",
     "output_type": "stream",
     "text": [
      "Median of family_status subcategories with missing values filled:\n",
      "                   days_employed  total_income\n",
      "family_status                                 \n",
      "civil partnership    2194.220567    23202.8700\n",
      "divorced             2194.220567    23202.8700\n",
      "married              2194.220567    23202.8700\n",
      "unmarried            1757.478271    23202.8700\n",
      "widow / widower    329131.870600    21915.4555 \n",
      "\n"
     ]
    }
   ],
   "source": [
    "# family_status subcategory median with missing values filled in:\n",
    "fam_stat_sub_cat_median_post_filled = scoring_credit.groupby('family_status')['days_employed', 'total_income'].median()\n",
    "print('Median of family_status subcategories with missing values filled:\\n{}'.format(fam_stat_sub_cat_median_post_filled), '\\n')"
   ]
  },
  {
   "cell_type": "code",
   "execution_count": 45,
   "metadata": {},
   "outputs": [
    {
     "name": "stdout",
     "output_type": "stream",
     "text": [
      "days_employed mean with missing values filled: 60378.0327334873\n",
      "days_employed median with missing values filled: 2194.220566878695 \n",
      "\n",
      "total_income mean with missing values filled: 26425.51798425087\n",
      "total_income median with missing values filled: 23202.87 \n",
      "\n"
     ]
    }
   ],
   "source": [
    "# Mean and median of days_employed_pos and total_income columns with missing values filled in\n",
    "days_employed_mean_filled = scoring_credit['days_employed'].mean()\n",
    "days_employed_median_filled = scoring_credit['days_employed'].median()\n",
    "total_income_mean_filled = scoring_credit['total_income'].mean()\n",
    "total_income_median_filled = scoring_credit['total_income'].median()\n",
    "print('days_employed mean with missing values filled: {}'.format(days_employed_mean_filled))\n",
    "print('days_employed median with missing values filled: {}'.format(days_employed_median_filled), '\\n')\n",
    "print('total_income mean with missing values filled: {}'.format(total_income_mean_filled))\n",
    "print('total_income median with missing values filled: {}'.format(total_income_median_filled), '\\n')"
   ]
  },
  {
   "cell_type": "markdown",
   "metadata": {},
   "source": [
    "Compare above numbers to pre-filled values:"
   ]
  },
  {
   "cell_type": "code",
   "execution_count": 46,
   "metadata": {},
   "outputs": [
    {
     "name": "stdout",
     "output_type": "stream",
     "text": [
      "Mean and median before missing values were filled:\n",
      "days_employed mean: 66914.72890682236\n",
      "days_employed median: 2194.220566878695 \n",
      "\n",
      "total_income mean: 26787.56835465867\n",
      "total_income median: 23202.87 \n",
      "\n"
     ]
    }
   ],
   "source": [
    "# Compare pre-filled missing value mean and median values:\n",
    "print('Mean and median before missing values were filled:')\n",
    "print('days_employed mean: {}'.format(days_employed_mean))\n",
    "print('days_employed median: {}'.format(days_employed_median), '\\n')\n",
    "print('total_income mean: {}'.format(total_income_mean))\n",
    "print('total_income median: {}'.format(total_income_median), '\\n')"
   ]
  },
  {
   "cell_type": "markdown",
   "metadata": {},
   "source": [
    "days_employed mean went up but total_income mean and median are similar."
   ]
  },
  {
   "cell_type": "code",
   "execution_count": 47,
   "metadata": {
    "scrolled": false
   },
   "outputs": [],
   "source": [
    "# Personal curiosity of if rows with missing values were dropped instead of filled in\n",
    "#df_dropna = pd.read_csv('/datasets/credit_scoring_eng.csv')\n",
    "#df_dropna.dropna().reset_index(drop=True)\n",
    "#print('days_employed mean dropped missing values:', df_dropna['days_employed'].mean())\n",
    "# print('days_employed median dropped missing values:', df_dropna['days_employed'].median())\n",
    "# print('total_income mean dropped missing values:', df_dropna['total_income'].mean())\n",
    "# print('total_income median dropped missing values:', df_dropna['total_income'].median())"
   ]
  },
  {
   "cell_type": "markdown",
   "metadata": {},
   "source": [
    "<div class=\"alert alert-danger\" style=\"box-shadow: 4px 4px 4px\">\n",
    "<s>Need fixing: This part of code is correct. However, it is inappropriate for a real report. Please, make only one output in one code cell. Also, left your comments in markdowns. I will not write this for subsequent cells, but please correct it for each cell.</s>\n",
    "</div>"
   ]
  },
  {
   "cell_type": "markdown",
   "metadata": {},
   "source": [
    "### Conclusion"
   ]
  },
  {
   "cell_type": "markdown",
   "metadata": {},
   "source": [
    "***Location of the missing values:***\n",
    "- Missing values in the days_employed_pos and total_income colmns are in the same rows\n",
    "    - Both are float data types\n",
    "- There is no obvious pattern in the column subgroups for the missing data it seems to be MCAR\n",
    "    - Without knowing the collection method, I can only speculate why the values are missing\n",
    "    - Possible reasons for missing values:\n",
    "        - Providing this information is optional\n",
    "        - The information was incorrectly entered\n",
    "        - Data transfer error\n",
    "\n",
    "***Filling in the missing values:***\n",
    "- The instructions given say to fill in missing values vs delete them. Several columns still need to be cleaned up or arent appropriate for evaluating the missing values. I worked with the family_status column because the data is clean and is a focus of the investigation\n",
    "- ***updated sentence above post code review and code updates*** Several columns still need to be cleaned up or arent appropriate for evaluating the missing values. I worked with the family_status column because the data is clean and is a focus of the investigation\n",
    "    - Each subcategory had roughly 10% with missing values. While the subcategories with missing values made up 6% or less of total entries\n",
    "    - Again no obvious pattern for the missing values\n",
    "    \n",
    "To fill in the missing values the mean and medians were evaluated:\n",
    "- The mean for the columns with missing values is higher than the medians suggesting that there are outliers in both columns\n",
    "- The means in the family_status subcategories in columns with missing values were lower than the corresponding column with missing values\n",
    "- The medians in the family_status subcategories in columns with missing values were roughly the same as the corresponding column with missing values with the exception of the widow / widower subcategory. Which was very high for the days_employed  median and low for the total_income median.\n",
    "- Missing values were filled in with the median of that column because it is unlikely to significantly impact the analysis - only 10% of the the total entries have missing values.\n",
    "\n",
    "***Data after missing values were filled:***\n",
    "- The mean of the days_employed column went down a little bit, but the total_income mean stayed about the same\n",
    "- ***updated sentence above post code review and code updates*** The mean of the days_employed column went up, but the total_income mean stayed about the same\n",
    "- Filling in the missing values did change the means of the family_status subcategories, suggesting that other column's subcategories would be affected by this change too. This change was made to 10% of total entries and is not likely to significantly impact the analysis"
   ]
  },
  {
   "cell_type": "markdown",
   "metadata": {},
   "source": [
    "<div class=\"alert alert-success\" style=\"box-shadow: 4px 4px 4px\">\n",
    "Success: I couldn't agree more! \n",
    "</div>"
   ]
  },
  {
   "cell_type": "markdown",
   "metadata": {},
   "source": [
    "### Data type replacement"
   ]
  },
  {
   "cell_type": "markdown",
   "metadata": {},
   "source": [
    "***Convert float data type to int data type***\n",
    "\n",
    "- Two columns need to be changed to int data type\n",
    "- Use .astype() to convert a float data type to int data type\n",
    "- Confirm that data types are changed\n",
    "\n",
    "***Convert to int data type***"
   ]
  },
  {
   "cell_type": "code",
   "execution_count": 48,
   "metadata": {},
   "outputs": [],
   "source": [
    "# Convert float data type to int data type:\n",
    "\n",
    "# Use .astype() method to convert float64 type to int64 type vs to_numeric which converts strings to floats\n",
    "scoring_credit['days_employed'] = scoring_credit['days_employed'].astype(int)\n",
    "\n",
    "scoring_credit['total_income'] = scoring_credit['total_income'].astype(int)"
   ]
  },
  {
   "cell_type": "markdown",
   "metadata": {
    "scrolled": false
   },
   "source": [
    "***Confirm data types are changed***"
   ]
  },
  {
   "cell_type": "code",
   "execution_count": 49,
   "metadata": {},
   "outputs": [
    {
     "name": "stdout",
     "output_type": "stream",
     "text": [
      "Dataframe info with updated data types:\n",
      "<class 'pandas.core.frame.DataFrame'>\n",
      "RangeIndex: 21525 entries, 0 to 21524\n",
      "Data columns (total 13 columns):\n",
      "num_children        21525 non-null int64\n",
      "days_employed       21525 non-null int64\n",
      "dob_years           21525 non-null int64\n",
      "education           21525 non-null object\n",
      "education_id        21525 non-null int64\n",
      "family_status       21525 non-null object\n",
      "family_status_id    21525 non-null int64\n",
      "gender              21525 non-null object\n",
      "income_type         21525 non-null object\n",
      "debt                21525 non-null int64\n",
      "total_income        21525 non-null int64\n",
      "purpose             21525 non-null object\n",
      "defaulted_before    21525 non-null object\n",
      "dtypes: int64(7), object(6)\n",
      "memory usage: 2.1+ MB\n"
     ]
    }
   ],
   "source": [
    "# Confirm the data types have changed\n",
    "print('Dataframe info with updated data types:')\n",
    "scoring_credit.info()"
   ]
  },
  {
   "cell_type": "code",
   "execution_count": 50,
   "metadata": {},
   "outputs": [
    {
     "name": "stdout",
     "output_type": "stream",
     "text": [
      "First 10 rows of dataframe after data types were updated:\n",
      "   num_children  days_employed  dob_years            education  education_id  \\\n",
      "0             1           8437         42    bachelor's degree             0   \n",
      "1             1           4024         36  secondary education             1   \n",
      "2             0           5623         33  Secondary Education             1   \n",
      "3             3           4124         32  secondary education             1   \n",
      "4             0         340266         53  secondary education             1   \n",
      "5             0            926         27    bachelor's degree             0   \n",
      "6             0           2879         43    bachelor's degree             0   \n",
      "7             0            152         50  SECONDARY EDUCATION             1   \n",
      "8             2           6929         35    BACHELOR'S DEGREE             0   \n",
      "9             0           2188         41  secondary education             1   \n",
      "\n",
      "       family_status  family_status_id gender income_type  debt  total_income  \\\n",
      "0            married                 0      F    employee     0         40620   \n",
      "1            married                 0      F    employee     0         17932   \n",
      "2            married                 0      M    employee     0         23341   \n",
      "3            married                 0      M    employee     0         42820   \n",
      "4  civil partnership                 1      F     retiree     0         25378   \n",
      "5  civil partnership                 1      M    business     0         40922   \n",
      "6            married                 0      F    business     0         38484   \n",
      "7            married                 0      M    employee     0         21731   \n",
      "8  civil partnership                 1      F    employee     0         15337   \n",
      "9            married                 0      M    employee     0         23108   \n",
      "\n",
      "                               purpose defaulted_before  \n",
      "0                purchase of the house               No  \n",
      "1                         car purchase               No  \n",
      "2                purchase of the house               No  \n",
      "3              supplementary education               No  \n",
      "4                    to have a wedding               No  \n",
      "5                purchase of the house               No  \n",
      "6                 housing transactions               No  \n",
      "7                            education               No  \n",
      "8                     having a wedding               No  \n",
      "9  purchase of the house for my family               No  \n"
     ]
    }
   ],
   "source": [
    "print('First 10 rows of dataframe after data types were updated:')\n",
    "print(scoring_credit.head(10))"
   ]
  },
  {
   "cell_type": "markdown",
   "metadata": {},
   "source": [
    "### Conclusion"
   ]
  },
  {
   "cell_type": "markdown",
   "metadata": {},
   "source": [
    "***Updating data types - float to int:***\n",
    "- Used .astype(int) method to convert float64 type to int64 type because float64 is a numeric data type.\n",
    "- If the initial data type was a string, then .to_numeric() would be used which converts strings to floats and then .astype() to convert the float to int."
   ]
  },
  {
   "cell_type": "markdown",
   "metadata": {},
   "source": [
    "<div class=\"alert alert-success\" style=\"box-shadow: 4px 4px 4px\">\n",
    "Success: This part is flawless!\n",
    "</div>"
   ]
  },
  {
   "cell_type": "markdown",
   "metadata": {},
   "source": [
    "### Processing duplicates"
   ]
  },
  {
   "cell_type": "markdown",
   "metadata": {},
   "source": [
    "***Remove duplicate rows***\n",
    "\n",
    "It was determined earlier that the education column contains case discrepencies. This needs to be resolved before the duplicates can be removed\n",
    "\n",
    "- Review number of duplicates after data has been updated\n",
    "- Resolve case discrepencies in the education column\n",
    "    - Change column values to lower case\n",
    "- Check number of duplicates after column update\n",
    "- Examine duplicates for a pattern to explain reason for duplicates \n",
    "- Remove dupliates\n",
    "- Confirm removal of duplicates"
   ]
  },
  {
   "cell_type": "code",
   "execution_count": 51,
   "metadata": {},
   "outputs": [
    {
     "name": "stdout",
     "output_type": "stream",
     "text": [
      "Number of duplicate rows before education column is converted to lower case:\n",
      "54 \n",
      "\n"
     ]
    }
   ],
   "source": [
    "# Review number of duplicates after missing values filled and data types changed\n",
    "sum_df_dups = scoring_credit.duplicated().sum()\n",
    "print('Number of duplicate rows before education column is converted to lower case:\\n{}'.format(sum_df_dups), '\\n')"
   ]
  },
  {
   "cell_type": "code",
   "execution_count": 52,
   "metadata": {},
   "outputs": [
    {
     "name": "stdout",
     "output_type": "stream",
     "text": [
      "   num_children  days_employed  dob_years            education  education_id  \\\n",
      "0             1           8437         42    bachelor's degree             0   \n",
      "1             1           4024         36  secondary education             1   \n",
      "2             0           5623         33  secondary education             1   \n",
      "3             3           4124         32  secondary education             1   \n",
      "4             0         340266         53  secondary education             1   \n",
      "5             0            926         27    bachelor's degree             0   \n",
      "6             0           2879         43    bachelor's degree             0   \n",
      "7             0            152         50  secondary education             1   \n",
      "8             2           6929         35    bachelor's degree             0   \n",
      "9             0           2188         41  secondary education             1   \n",
      "\n",
      "       family_status  family_status_id gender income_type  debt  total_income  \\\n",
      "0            married                 0      F    employee     0         40620   \n",
      "1            married                 0      F    employee     0         17932   \n",
      "2            married                 0      M    employee     0         23341   \n",
      "3            married                 0      M    employee     0         42820   \n",
      "4  civil partnership                 1      F     retiree     0         25378   \n",
      "5  civil partnership                 1      M    business     0         40922   \n",
      "6            married                 0      F    business     0         38484   \n",
      "7            married                 0      M    employee     0         21731   \n",
      "8  civil partnership                 1      F    employee     0         15337   \n",
      "9            married                 0      M    employee     0         23108   \n",
      "\n",
      "                               purpose defaulted_before  \n",
      "0                purchase of the house               No  \n",
      "1                         car purchase               No  \n",
      "2                purchase of the house               No  \n",
      "3              supplementary education               No  \n",
      "4                    to have a wedding               No  \n",
      "5                purchase of the house               No  \n",
      "6                 housing transactions               No  \n",
      "7                            education               No  \n",
      "8                     having a wedding               No  \n",
      "9  purchase of the house for my family               No   \n",
      "\n"
     ]
    }
   ],
   "source": [
    "# Update the education column with lower case letters\n",
    "scoring_credit['education'] = scoring_credit['education'].str.lower()\n",
    "print(scoring_credit.head(10), '\\n')"
   ]
  },
  {
   "cell_type": "code",
   "execution_count": 53,
   "metadata": {
    "scrolled": true
   },
   "outputs": [
    {
     "name": "stdout",
     "output_type": "stream",
     "text": [
      "Number of duplicate rows after education column converted to lower case:\n",
      "71 \n",
      "\n"
     ]
    }
   ],
   "source": [
    "# Determine number of duplicates after education column is converted to lower case\n",
    "sum_df_dups_lower = scoring_credit.duplicated().sum()\n",
    "print('Number of duplicate rows after education column converted to lower case:\\n{}'.format(sum_df_dups_lower), '\\n')"
   ]
  },
  {
   "cell_type": "markdown",
   "metadata": {},
   "source": [
    "***Investigate the duplicates to determine if there is a pattern or cause for them***"
   ]
  },
  {
   "cell_type": "code",
   "execution_count": 54,
   "metadata": {},
   "outputs": [
    {
     "name": "stdout",
     "output_type": "stream",
     "text": [
      "Percent of duplicates in total entries:\n",
      "0.3% \n",
      "\n"
     ]
    }
   ],
   "source": [
    "# Calculate conversion rate of duplicates in total entries\n",
    "dup_conv_rate = scoring_credit.duplicated().sum() / len(scoring_credit)\n",
    "print('Percent of duplicates in total entries:\\n{:0.1%}'.format(dup_conv_rate), '\\n')"
   ]
  },
  {
   "cell_type": "code",
   "execution_count": 55,
   "metadata": {},
   "outputs": [
    {
     "name": "stdout",
     "output_type": "stream",
     "text": [
      "Dataframe of duplicates only information:\n",
      "<class 'pandas.core.frame.DataFrame'>\n",
      "Int64Index: 71 entries, 2849 to 21415\n",
      "Data columns (total 13 columns):\n",
      "num_children        71 non-null int64\n",
      "days_employed       71 non-null int64\n",
      "dob_years           71 non-null int64\n",
      "education           71 non-null object\n",
      "education_id        71 non-null int64\n",
      "family_status       71 non-null object\n",
      "family_status_id    71 non-null int64\n",
      "gender              71 non-null object\n",
      "income_type         71 non-null object\n",
      "debt                71 non-null int64\n",
      "total_income        71 non-null int64\n",
      "purpose             71 non-null object\n",
      "defaulted_before    71 non-null object\n",
      "dtypes: int64(7), object(6)\n",
      "memory usage: 7.8+ KB\n"
     ]
    }
   ],
   "source": [
    "# Create a new dataframe with only the duplicate rows\n",
    "dup_rows = scoring_credit[scoring_credit.duplicated()]\n",
    "print('Dataframe of duplicates only information:')\n",
    "dup_rows.info()"
   ]
  },
  {
   "cell_type": "markdown",
   "metadata": {},
   "source": [
    "The data below represents the duplicates after the first record, i.e. it is showing the second and/or third records"
   ]
  },
  {
   "cell_type": "code",
   "execution_count": 56,
   "metadata": {},
   "outputs": [
    {
     "name": "stdout",
     "output_type": "stream",
     "text": [
      "First 20 rows of duplicates only data frame:\n",
      "\n",
      "       num_children  days_employed  dob_years            education  \\\n",
      "2849              0           2194         41  secondary education   \n",
      "3290              0           2194         58  secondary education   \n",
      "4182              1           2194         34    bachelor's degree   \n",
      "4851              0           2194         60  secondary education   \n",
      "5557              0           2194         58  secondary education   \n",
      "6312              0           2194         30  secondary education   \n",
      "7808              0           2194         57  secondary education   \n",
      "7921              0           2194         64    bachelor's degree   \n",
      "7938              0           2194         71  secondary education   \n",
      "8583              0           2194         58    bachelor's degree   \n",
      "9238              2           2194         34  secondary education   \n",
      "9528              0           2194         66  secondary education   \n",
      "9604              0           2194         71  secondary education   \n",
      "9627              0           2194         56  secondary education   \n",
      "9855              0           2194         62  secondary education   \n",
      "10462             0           2194         62  secondary education   \n",
      "10697             0           2194         40  secondary education   \n",
      "10864             0           2194         62  secondary education   \n",
      "10994             0           2194         62  secondary education   \n",
      "11791             0           2194         47  secondary education   \n",
      "\n",
      "       education_id      family_status  family_status_id gender income_type  \\\n",
      "2849              1            married                 0      F    employee   \n",
      "3290              1  civil partnership                 1      F     retiree   \n",
      "4182              0  civil partnership                 1      F    employee   \n",
      "4851              1  civil partnership                 1      F     retiree   \n",
      "5557              1  civil partnership                 1      F     retiree   \n",
      "6312              1            married                 0      M    employee   \n",
      "7808              1  civil partnership                 1      F     retiree   \n",
      "7921              0  civil partnership                 1      F     retiree   \n",
      "7938              1  civil partnership                 1      F     retiree   \n",
      "8583              0          unmarried                 4      F     retiree   \n",
      "9238              1            married                 0      F    employee   \n",
      "9528              1    widow / widower                 2      F     retiree   \n",
      "9604              1  civil partnership                 1      F     retiree   \n",
      "9627              1            married                 0      F     retiree   \n",
      "9855              1            married                 0      F     retiree   \n",
      "10462             1            married                 0      F     retiree   \n",
      "10697             1  civil partnership                 1      F    business   \n",
      "10864             1            married                 0      F     retiree   \n",
      "10994             1            married                 0      F     retiree   \n",
      "11791             1            married                 0      F    employee   \n",
      "\n",
      "       debt  total_income                              purpose  \\\n",
      "2849      0         23202  purchase of the house for my family   \n",
      "3290      0         23202                    to have a wedding   \n",
      "4182      0         23202                     wedding ceremony   \n",
      "4851      0         23202                     wedding ceremony   \n",
      "5557      0         23202                    to have a wedding   \n",
      "6312      0         23202               building a real estate   \n",
      "7808      0         23202                     having a wedding   \n",
      "7921      0         23202                     having a wedding   \n",
      "7938      0         23202                     having a wedding   \n",
      "8583      0         23202              supplementary education   \n",
      "9238      0         23202      buying property for renting out   \n",
      "9528      0         23202     transactions with my real estate   \n",
      "9604      0         23202                     having a wedding   \n",
      "9627      0         23202     transactions with my real estate   \n",
      "9855      0         23202     to get a supplementary education   \n",
      "10462     0         23202           buy commercial real estate   \n",
      "10697     0         23202                    to have a wedding   \n",
      "10864     0         23202                   housing renovation   \n",
      "10994     0         23202                   housing renovation   \n",
      "11791     0         23202                  building a property   \n",
      "\n",
      "      defaulted_before  \n",
      "2849                No  \n",
      "3290                No  \n",
      "4182                No  \n",
      "4851                No  \n",
      "5557                No  \n",
      "6312                No  \n",
      "7808                No  \n",
      "7921                No  \n",
      "7938                No  \n",
      "8583                No  \n",
      "9238                No  \n",
      "9528                No  \n",
      "9604                No  \n",
      "9627                No  \n",
      "9855                No  \n",
      "10462               No  \n",
      "10697               No  \n",
      "10864               No  \n",
      "10994               No  \n",
      "11791               No   \n",
      "\n"
     ]
    }
   ],
   "source": [
    "print('First 20 rows of duplicates only data frame:\\n')\n",
    "print(dup_rows.head(20), '\\n') "
   ]
  },
  {
   "cell_type": "markdown",
   "metadata": {},
   "source": [
    "The percentage of duplicates is small: 0.3%\n",
    "\n",
    "Based on the first 20 rows:\n",
    "- There is no obvious pattern\n",
    "- Duplicates appear to have contained missing values in the days_employed_pos and total_income columns\n",
    "    - These columns contain the median determined above\n",
    "    \n",
    "***Examine the subcategories of the duplicate rows to look for a pattern or cause of duplicates:***"
   ]
  },
  {
   "cell_type": "code",
   "execution_count": 57,
   "metadata": {},
   "outputs": [
    {
     "name": "stdout",
     "output_type": "stream",
     "text": [
      "family_status subcategories with duplicates:\n",
      "married              41\n",
      "civil partnership    26\n",
      "unmarried             3\n",
      "widow / widower       1\n",
      "Name: family_status, dtype: int64 \n",
      "\n"
     ]
    }
   ],
   "source": [
    "# Take a closer look at the columns to look for a pattern or cause for duplicates\n",
    "fam_stat_dups = dup_rows['family_status'].value_counts()\n",
    "print('family_status subcategories with duplicates:\\n{}'.format(fam_stat_dups), '\\n')"
   ]
  },
  {
   "cell_type": "code",
   "execution_count": 58,
   "metadata": {},
   "outputs": [
    {
     "name": "stdout",
     "output_type": "stream",
     "text": [
      "dob_years subcategories with duplicates:\n",
      "58    7\n",
      "64    5\n",
      "62    4\n",
      "57    4\n",
      "56    4\n",
      "47    3\n",
      "30    3\n",
      "60    3\n",
      "54    3\n",
      "46    3\n",
      "71    2\n",
      "34    2\n",
      "40    2\n",
      "41    2\n",
      "44    2\n",
      "23    2\n",
      "48    2\n",
      "51    2\n",
      "36    1\n",
      "29    1\n",
      "65    1\n",
      "31    1\n",
      "32    1\n",
      "61    1\n",
      "35    1\n",
      "37    1\n",
      "66    1\n",
      "38    1\n",
      "39    1\n",
      "59    1\n",
      "42    1\n",
      "43    1\n",
      "50    1\n",
      "45    1\n",
      "Name: dob_years, dtype: int64 \n",
      "\n"
     ]
    }
   ],
   "source": [
    "dob_years_dups = dup_rows['dob_years'].value_counts()\n",
    "print('dob_years subcategories with duplicates:\\n{}'.format(dob_years_dups), '\\n')"
   ]
  },
  {
   "cell_type": "code",
   "execution_count": 59,
   "metadata": {},
   "outputs": [
    {
     "name": "stdout",
     "output_type": "stream",
     "text": [
      "education subcategories with duplicates:\n",
      "secondary education    61\n",
      "bachelor's degree      10\n",
      "Name: education, dtype: int64 \n",
      "\n"
     ]
    }
   ],
   "source": [
    "education_dups = dup_rows['education'].value_counts()\n",
    "print('education subcategories with duplicates:\\n{}'.format(education_dups), '\\n')"
   ]
  },
  {
   "cell_type": "code",
   "execution_count": 60,
   "metadata": {},
   "outputs": [
    {
     "name": "stdout",
     "output_type": "stream",
     "text": [
      "income_type subcategories with duplicates:\n",
      "employee         35\n",
      "retiree          27\n",
      "business          7\n",
      "civil servant     2\n",
      "Name: income_type, dtype: int64 \n",
      "\n"
     ]
    }
   ],
   "source": [
    "income_type_dups = dup_rows['income_type'].value_counts()\n",
    "print('income_type subcategories with duplicates:\\n{}'.format(income_type_dups), '\\n')"
   ]
  },
  {
   "cell_type": "code",
   "execution_count": 61,
   "metadata": {},
   "outputs": [
    {
     "name": "stdout",
     "output_type": "stream",
     "text": [
      "purpose subcategories with duplicates:\n",
      "having a wedding                            9\n",
      "to have a wedding                           9\n",
      "wedding ceremony                            6\n",
      "housing renovation                          5\n",
      "to become educated                          4\n",
      "transactions with my real estate            3\n",
      "buy real estate                             3\n",
      "second-hand car purchase                    3\n",
      "buy commercial real estate                  3\n",
      "purchase of the house for my family         3\n",
      "buying property for renting out             2\n",
      "building a real estate                      2\n",
      "supplementary education                     2\n",
      "to own a car                                2\n",
      "housing                                     1\n",
      "to buy a car                                1\n",
      "building a property                         1\n",
      "to get a supplementary education            1\n",
      "purchase of the house                       1\n",
      "real estate transactions                    1\n",
      "buy residential real estate                 1\n",
      "property                                    1\n",
      "car                                         1\n",
      "car purchase                                1\n",
      "housing transactions                        1\n",
      "getting an education                        1\n",
      "transactions with commercial real estate    1\n",
      "buying a second-hand car                    1\n",
      "university education                        1\n",
      "Name: purpose, dtype: int64 \n",
      "\n"
     ]
    }
   ],
   "source": [
    "purpose_dups = dup_rows['purpose'].value_counts()\n",
    "print('purpose subcategories with duplicates:\\n{}'.format(purpose_dups), '\\n')"
   ]
  },
  {
   "cell_type": "markdown",
   "metadata": {},
   "source": [
    "No obvious pattern seems to be present\n",
    "\n",
    "Since there is no unique identifier for the information, it seems easy to accidentally make a copy, or perhaps the client filled out information twice\n",
    "\n",
    "***Remove duplicate rows***"
   ]
  },
  {
   "cell_type": "code",
   "execution_count": 62,
   "metadata": {},
   "outputs": [],
   "source": [
    "# Drop the duplilcates and reset index\n",
    "scoring_credit = scoring_credit.drop_duplicates().reset_index(drop=True)"
   ]
  },
  {
   "cell_type": "markdown",
   "metadata": {},
   "source": [
    "***Confirm duplicates were removed***"
   ]
  },
  {
   "cell_type": "code",
   "execution_count": 63,
   "metadata": {},
   "outputs": [
    {
     "name": "stdout",
     "output_type": "stream",
     "text": [
      "Data information after duplicates are dropped:\n",
      "<class 'pandas.core.frame.DataFrame'>\n",
      "RangeIndex: 21454 entries, 0 to 21453\n",
      "Data columns (total 13 columns):\n",
      "num_children        21454 non-null int64\n",
      "days_employed       21454 non-null int64\n",
      "dob_years           21454 non-null int64\n",
      "education           21454 non-null object\n",
      "education_id        21454 non-null int64\n",
      "family_status       21454 non-null object\n",
      "family_status_id    21454 non-null int64\n",
      "gender              21454 non-null object\n",
      "income_type         21454 non-null object\n",
      "debt                21454 non-null int64\n",
      "total_income        21454 non-null int64\n",
      "purpose             21454 non-null object\n",
      "defaulted_before    21454 non-null object\n",
      "dtypes: int64(7), object(6)\n",
      "memory usage: 2.1+ MB\n"
     ]
    }
   ],
   "source": [
    "# Check data\n",
    "print('Data information after duplicates are dropped:')\n",
    "scoring_credit.info()"
   ]
  },
  {
   "cell_type": "code",
   "execution_count": 64,
   "metadata": {},
   "outputs": [
    {
     "name": "stdout",
     "output_type": "stream",
     "text": [
      "Number of duplicates after duplicates are dropped (expect 0):\n",
      "0\n"
     ]
    }
   ],
   "source": [
    "# Confirm the duplicates were dropped\n",
    "sum_df_dups_postdrop = scoring_credit.duplicated().sum()\n",
    "print('Number of duplicates after duplicates are dropped (expect 0):\\n{}'.format(sum_df_dups_postdrop))"
   ]
  },
  {
   "cell_type": "markdown",
   "metadata": {},
   "source": [
    "### Conclusion"
   ]
  },
  {
   "cell_type": "markdown",
   "metadata": {},
   "source": [
    "***Looking at the duplicate rows:***\n",
    "- The data contained 54 duplicates which made up 0.3% of total entries.\n",
    "- ***updated sentence above post code review and code updates*** Initially the data contained 54 duplicates. After the education columns case descrepencies were resolved there were 71 duplicates making up 0.3% of the total entries\n",
    "- The sum of the duplicates were found using the .duplicated().sum() methods.\n",
    "- The .duplicated() method was used because the whole dataframe was being evaluated for duplicates vs a column, in which case value_counts() may be more appropriate.\n",
    "- A duplicate only dataframe was created with .duplicates() as the logic.\n",
    "- Several subcategories within the duplicate only dataframe were examined to see if there is a pattern as to why they occured. \n",
    "    - Most of the rows appear to have been in the missing values rows because the days_employed_pos and total_income contain the median value previously filled in.\n",
    "    - The amounts of duplicates in each subcategory appear to be representative of the total of their respective subcategories. Since a pattern was not obvious this wasnt evaluated mathematically.\n",
    "    - Possible reasons for duplicates:\n",
    "        - Data transfer error\n",
    "        - Clients may have submitted information twice - there is no unique identifier for each client, so they wouldnt be able to check if they have submitted information already\n",
    "        - Technical error while clients were filling submitting information may have made it seem like their information didnt go through\n",
    "        \n",
    "***Deleting in the duplicate rows:***\n",
    "- .drop_duplicates() method was used to on the whole dataframe to remove duplicates because this will remove all duplicate rows.\n",
    "\n",
    "***Data after duplicate rows deleted:***\n",
    "- Number of entries shifted to 21471\n",
    "- ***updated sentence above post code review and code updates*** Number of entries shifted to 21454\n",
    "- 0 duplicates found after duplicates were removed"
   ]
  },
  {
   "cell_type": "markdown",
   "metadata": {},
   "source": [
    "<div class=\"alert alert-success\" style=\"box-shadow: 4px 4px 4px\">\n",
    "Success: Again, this part is perfect. However, it is really inappropriate for a real report to wite the whole step in one code cell.  \n",
    "</div>"
   ]
  },
  {
   "cell_type": "markdown",
   "metadata": {},
   "source": [
    "### Categorizing Data"
   ]
  },
  {
   "cell_type": "markdown",
   "metadata": {
    "scrolled": false
   },
   "source": [
    "Some of the columns have values that are mostly unique, represent similar things in a different way, or are too broad to evaluate easily and need to be categorized to make evaluation easier.\n",
    "- The purpose column has different phrases representing the same thing\n",
    "    - Join the words from the purpose column and tokenize them into a list of strings\n",
    "    - Use lemmatization to determine the main focus from the phrases\n",
    "    - Search for the stem of the words\n",
    "    - Use the stems to make a new column containing the focus of the loan use\n",
    "- The total_income column has a broad range of values\n",
    "    - Group income levels in groups of 25,000\n",
    "    - Create a new column to represent the groups of income levels\n",
    "    - Examine the results to determine if these groups are appropriate\n",
    "- Confirm that all values were processed into new columns and are as expected\n",
    "\n",
    "***Join all the words from the purpose column and tokenize them***"
   ]
  },
  {
   "cell_type": "code",
   "execution_count": 65,
   "metadata": {},
   "outputs": [
    {
     "name": "stdout",
     "output_type": "stream",
     "text": [
      "First 10 words of all words from column combined after being tokenized, expect a list of strings:\n",
      "['purchase', 'of', 'the', 'house', 'car', 'purchase', 'purchase', 'of', 'the', 'house'] \n",
      "\n"
     ]
    }
   ],
   "source": [
    "# Join all words from purpose column\n",
    "allwords = ' '.join(scoring_credit['purpose'])\n",
    "# print('Data type of all words from purpose column combined:')\n",
    "# print(type(allwords), '\\n')\n",
    "# Make sure all the words are lower case\n",
    "allwords = allwords.lower()\n",
    "# Tokenize all the words before lemmatization\n",
    "wordnet_lemma = WordNetLemmatizer()\n",
    "allwords = nltk.word_tokenize(allwords)\n",
    "# confirm allwords is a list of strings\n",
    "print('First 10 words of all words from column combined after being tokenized, expect a list of strings:')\n",
    "print(allwords[:10], '\\n') "
   ]
  },
  {
   "cell_type": "markdown",
   "metadata": {},
   "source": [
    "***Lemmatize the words and use the appropriate nouns as stems***"
   ]
  },
  {
   "cell_type": "code",
   "execution_count": 66,
   "metadata": {},
   "outputs": [
    {
     "name": "stdout",
     "output_type": "stream",
     "text": [
      "Count of all words used in purpose column:\n",
      "Counter({'a': 5104, 'real': 4464, 'estate': 4464, 'car': 4306, 'purchase': 3306, 'education': 3109, 'to': 3064, 'of': 2994, 'transaction': 2604, 'property': 2538, 'my': 2390, 'buy': 2359, 'wedding': 2324, 'own': 2238, 'housing': 1905, 'house': 1904, 'buying': 1634, 'commercial': 1311, 'for': 1289, 'the': 1284, 'with': 1277, 'building': 1243, 'second-hand': 964, 'university': 948, 'supplementary': 906, 'getting': 868, 'ceremony': 791, 'having': 768, 'have': 765, 'renting': 651, 'out': 651, 'family': 638, 'construction': 635, 'renovation': 607, 'residential': 606, 'going': 496, 'get': 446, 'an': 442, 'profile': 436, 'higher': 426, 'become': 408, 'educated': 408}) \n",
      "\n"
     ]
    }
   ],
   "source": [
    "lemmas = [wordnet_lemma.lemmatize(w, pos = 'n') for w in allwords]\n",
    "\n",
    "# Count the number of lemmas from the purpose column\n",
    "print('Count of all words used in purpose column:')\n",
    "print(Counter(lemmas), '\\n')"
   ]
  },
  {
   "cell_type": "code",
   "execution_count": 67,
   "metadata": {},
   "outputs": [
    {
     "name": "stdout",
     "output_type": "stream",
     "text": [
      "List of words from purpose column to break down into stems:\n",
      "['estate', 'car', 'education', 'property', 'wedding', 'housing', 'house', 'educated', 'university'] \n",
      "\n"
     ]
    }
   ],
   "source": [
    "# Create a list of words pulled from purpose column that focus on the main use for the loan\n",
    "pre_stem_list = ['estate', 'car', 'education', 'property', 'wedding', 'housing', 'house', 'educated', 'university']\n",
    "print('List of words from purpose column to break down into stems:\\n{}'.format(pre_stem_list), '\\n')"
   ]
  },
  {
   "cell_type": "code",
   "execution_count": 68,
   "metadata": {},
   "outputs": [
    {
     "name": "stdout",
     "output_type": "stream",
     "text": [
      "Stem words used for loan use from purpose column:\n",
      "['estat', 'car', 'educ', 'properti', 'wed', 'hous', 'hous', 'educ', 'univers'] \n",
      "\n"
     ]
    }
   ],
   "source": [
    "# Set stemmer to english\n",
    "english_stemmer = SnowballStemmer('english')\n",
    "\n",
    "# Save stems of the words in a list and print them\n",
    "stems = []\n",
    "for word in pre_stem_list:\n",
    "    stem_word = english_stemmer.stem(word)\n",
    "    stems.append(stem_word)\n",
    "    \n",
    "print('Stem words used for loan use from purpose column:')\n",
    "print(stems, '\\n')"
   ]
  },
  {
   "cell_type": "markdown",
   "metadata": {},
   "source": [
    "- The stem for housing and house is hous \n",
    "- The stem for education and educated is educ\n",
    "\n",
    "This will be helpful when looking for and categorizing these words in the purpose column\n",
    "\n",
    "***Use the stems to categorize the main purpose of the loan***"
   ]
  },
  {
   "cell_type": "code",
   "execution_count": 69,
   "metadata": {},
   "outputs": [],
   "source": [
    "# Use stems to categorize the purpose column into more specific subcategories\n",
    "# Create variables for each stem\n",
    "estate_stem = 'estat'\n",
    "car_stem = 'car'\n",
    "educate_stem = 'educ'\n",
    "property_stem = 'properti'\n",
    "wedding_stem = 'wed'\n",
    "house_stem = 'hous'\n",
    "university_stem = 'univers'\n",
    "\n",
    "# Create a function to determine the main use of the loan\n",
    "def assign_loan_use(purpose):\n",
    "    # Create a default subcategory\n",
    "    loan_use = 'unknown loan use'\n",
    "    # Tokenize the words of each row in purpose column\n",
    "    tok_words = nltk.word_tokenize(purpose)\n",
    "    # Iterate over the words (now a list of strings) from each row in the purpose column\n",
    "    for word in tok_words:\n",
    "        if english_stemmer.stem(word) == estate_stem:\n",
    "            loan_use = 'real estate'\n",
    "        if english_stemmer.stem(word) == car_stem:\n",
    "            loan_use = 'car'\n",
    "        if english_stemmer.stem(word) == educate_stem or english_stemmer.stem(word) == university_stem:\n",
    "            loan_use = 'education'\n",
    "        if english_stemmer.stem(word) == property_stem:\n",
    "            loan_use = 'property'\n",
    "        if english_stemmer.stem(word) == wedding_stem:\n",
    "            loan_use = 'wedding'\n",
    "        if english_stemmer.stem(word) == house_stem:\n",
    "            loan_use = 'house'\n",
    "    return loan_use"
   ]
  },
  {
   "cell_type": "markdown",
   "metadata": {},
   "source": [
    "***Create a new column in the dataframe categorizing the main use of the loan***"
   ]
  },
  {
   "cell_type": "code",
   "execution_count": 70,
   "metadata": {},
   "outputs": [],
   "source": [
    "# Create a new column that represents the main use of the loan as described in the pupose column:\n",
    "# Use the .apply() method to apply the purpose column to the assign_loan_use function\n",
    "scoring_credit['loan_use'] = scoring_credit['purpose'].apply(assign_loan_use)"
   ]
  },
  {
   "cell_type": "markdown",
   "metadata": {},
   "source": [
    "***Examine the total_income column***"
   ]
  },
  {
   "cell_type": "code",
   "execution_count": 71,
   "metadata": {},
   "outputs": [
    {
     "name": "stdout",
     "output_type": "stream",
     "text": [
      "total_income max:\n",
      "362496\n",
      "total_income min:\n",
      "3306 \n",
      "\n"
     ]
    }
   ],
   "source": [
    "# Determine min and max of total income\n",
    "# mean and median were previously determined: \n",
    "# total_income mean with missing values filled: 26425.51798425087\n",
    "# total_income median with missing values filled: 23202.87 \n",
    "total_income_max = scoring_credit['total_income'].max()\n",
    "total_income_min = scoring_credit['total_income'].min()\n",
    "print('total_income max:\\n{}'.format(total_income_max))\n",
    "print('total_income min:\\n{}'.format(total_income_min), '\\n')"
   ]
  },
  {
   "cell_type": "markdown",
   "metadata": {},
   "source": [
    "Group the data by ranges of 25,000: "
   ]
  },
  {
   "cell_type": "code",
   "execution_count": 72,
   "metadata": {},
   "outputs": [],
   "source": [
    "# Create a function that categorizes total_income into ranges of income\n",
    "def assign_income_range(income):\n",
    "    if income < 25000:\n",
    "        return '$0 - $24,999'\n",
    "    elif 25000 <= income < 50000:\n",
    "        return '$25,000 - $49,999'\n",
    "    elif 50000 <= income < 75000:\n",
    "        return '$50,000 - $74,999'\n",
    "    elif 75000 <= income < 100000:\n",
    "        return '$75,000 - $99,999'\n",
    "    elif 100000 <= income < 125000:\n",
    "        return '$100,000 - $124,999'\n",
    "    elif 12500 <= income < 150000:\n",
    "        return '$125,000 - $149,999'\n",
    "    elif income >= 150000:\n",
    "        return '> $150,000'\n",
    "    else:\n",
    "        return 'income range unknown'"
   ]
  },
  {
   "cell_type": "markdown",
   "metadata": {},
   "source": [
    "***Create a new column in the dataframe categorizing the income levels***"
   ]
  },
  {
   "cell_type": "code",
   "execution_count": 73,
   "metadata": {},
   "outputs": [],
   "source": [
    "# Create a new column that categorizes total_income into ranges:\n",
    "# Use the .apply() method to apply the total_income column to the function assign_income_range\n",
    "scoring_credit['income_range'] = scoring_credit['total_income'].apply(assign_income_range)"
   ]
  },
  {
   "cell_type": "markdown",
   "metadata": {},
   "source": [
    "***Examine updated dataframe***"
   ]
  },
  {
   "cell_type": "code",
   "execution_count": 74,
   "metadata": {},
   "outputs": [
    {
     "name": "stdout",
     "output_type": "stream",
     "text": [
      "First 10 rows of dataframe with new columns:\n",
      "   num_children  days_employed  dob_years            education  education_id  \\\n",
      "0             1           8437         42    bachelor's degree             0   \n",
      "1             1           4024         36  secondary education             1   \n",
      "2             0           5623         33  secondary education             1   \n",
      "3             3           4124         32  secondary education             1   \n",
      "4             0         340266         53  secondary education             1   \n",
      "5             0            926         27    bachelor's degree             0   \n",
      "6             0           2879         43    bachelor's degree             0   \n",
      "7             0            152         50  secondary education             1   \n",
      "8             2           6929         35    bachelor's degree             0   \n",
      "9             0           2188         41  secondary education             1   \n",
      "\n",
      "       family_status  family_status_id gender income_type  debt  total_income  \\\n",
      "0            married                 0      F    employee     0         40620   \n",
      "1            married                 0      F    employee     0         17932   \n",
      "2            married                 0      M    employee     0         23341   \n",
      "3            married                 0      M    employee     0         42820   \n",
      "4  civil partnership                 1      F     retiree     0         25378   \n",
      "5  civil partnership                 1      M    business     0         40922   \n",
      "6            married                 0      F    business     0         38484   \n",
      "7            married                 0      M    employee     0         21731   \n",
      "8  civil partnership                 1      F    employee     0         15337   \n",
      "9            married                 0      M    employee     0         23108   \n",
      "\n",
      "                               purpose defaulted_before   loan_use  \\\n",
      "0                purchase of the house               No      house   \n",
      "1                         car purchase               No        car   \n",
      "2                purchase of the house               No      house   \n",
      "3              supplementary education               No  education   \n",
      "4                    to have a wedding               No    wedding   \n",
      "5                purchase of the house               No      house   \n",
      "6                 housing transactions               No      house   \n",
      "7                            education               No  education   \n",
      "8                     having a wedding               No    wedding   \n",
      "9  purchase of the house for my family               No      house   \n",
      "\n",
      "        income_range  \n",
      "0  $25,000 - $49,999  \n",
      "1       $0 - $24,999  \n",
      "2       $0 - $24,999  \n",
      "3  $25,000 - $49,999  \n",
      "4  $25,000 - $49,999  \n",
      "5  $25,000 - $49,999  \n",
      "6  $25,000 - $49,999  \n",
      "7       $0 - $24,999  \n",
      "8       $0 - $24,999  \n",
      "9       $0 - $24,999   \n",
      "\n"
     ]
    }
   ],
   "source": [
    "# Print updated dataframe\n",
    "print('First 10 rows of dataframe with new columns:')\n",
    "print(scoring_credit.head(10),'\\n')"
   ]
  },
  {
   "cell_type": "markdown",
   "metadata": {},
   "source": [
    "***Confirm all rows were processed as expected***"
   ]
  },
  {
   "cell_type": "code",
   "execution_count": 75,
   "metadata": {},
   "outputs": [
    {
     "name": "stdout",
     "output_type": "stream",
     "text": [
      "loan_use total (expect 21454):\n",
      "21454 \n",
      "\n"
     ]
    }
   ],
   "source": [
    "# Confirm that all purpose rows were processed with the apply_loan_use function\n",
    "loan_use_total = scoring_credit['loan_use'].count()\n",
    "print('loan_use total (expect 21454):\\n{}'.format(loan_use_total), '\\n')"
   ]
  },
  {
   "cell_type": "code",
   "execution_count": 76,
   "metadata": {},
   "outputs": [
    {
     "name": "stdout",
     "output_type": "stream",
     "text": [
      "loan_use subcategories:\n",
      "real estate    4464\n",
      "car            4306\n",
      "education      4013\n",
      "house          3809\n",
      "property       2538\n",
      "wedding        2324\n",
      "Name: loan_use, dtype: int64 \n",
      "\n"
     ]
    }
   ],
   "source": [
    "loan_use_sub_cat_totals = scoring_credit['loan_use'].value_counts()\n",
    "print('loan_use subcategories:\\n{}'.format(loan_use_sub_cat_totals), '\\n')"
   ]
  },
  {
   "cell_type": "code",
   "execution_count": 77,
   "metadata": {
    "scrolled": false
   },
   "outputs": [
    {
     "name": "stdout",
     "output_type": "stream",
     "text": [
      "income_range total (expect 21454):\n",
      "21454 \n",
      "\n"
     ]
    }
   ],
   "source": [
    "# Confirm that all income_level rows were processed with the apply_income_range function\n",
    "income_range_total = scoring_credit['income_range'].count()\n",
    "print('income_range total (expect 21454):\\n{}'.format(income_range_total), '\\n')"
   ]
  },
  {
   "cell_type": "code",
   "execution_count": 78,
   "metadata": {},
   "outputs": [
    {
     "name": "stdout",
     "output_type": "stream",
     "text": [
      "Income range subcategories:\n",
      "$0 - $24,999           12851\n",
      "$25,000 - $49,999       7283\n",
      "$50,000 - $74,999       1032\n",
      "$75,000 - $99,999        189\n",
      "$100,000 - $124,999       55\n",
      "> $150,000                28\n",
      "$125,000 - $149,999       16\n",
      "Name: income_range, dtype: int64 \n",
      "\n"
     ]
    }
   ],
   "source": [
    "# Evaluate counts of income ranges to see if created ranges are appropriate\n",
    "income_range_sub_cat_totals = scoring_credit['income_range'].value_counts()\n",
    "print('Income range subcategories:\\n{}'.format(income_range_sub_cat_totals), '\\n')"
   ]
  },
  {
   "cell_type": "markdown",
   "metadata": {},
   "source": [
    "<div class=\"alert alert-success\" style=\"box-shadow: 4px 4px 4px\">\n",
    "Success: Great that lematization was used!\n",
    "</div>"
   ]
  },
  {
   "cell_type": "markdown",
   "metadata": {},
   "source": [
    "### Conclusion"
   ]
  },
  {
   "cell_type": "markdown",
   "metadata": {},
   "source": [
    "***Data to categorize:***\n",
    "- Categorization is useful because it groups data that are individual peices into general categories that are easier to analyze.\n",
    "- The investigation calls for an evaluation of number of children, marital status, income level, and loan purpose.\n",
    "    - The children and family_status columns are already well categorized.\n",
    "    - total_income and purpose columns were categorized in this analysis.\n",
    "    \n",
    "***Categorizing the data:***\n",
    "- total_income column was categorized into groups of 25,000 until 149,999, then > 150,000.\n",
    "    - This grouping appears to be an appropriate way to subcategorize the total_income column.\n",
    "- purpose column was categorized into groups derived from selected nouns in the entry given by the client.\n",
    "    - This lead to 6 different subcategories.\n",
    "        - While real estate, house, and property could be grouped together, I left them separate because I believe they represent differnt things."
   ]
  },
  {
   "cell_type": "markdown",
   "metadata": {},
   "source": [
    "<div class=\"alert alert-success\" style=\"box-shadow: 4px 4px 4px\">\n",
    "Success: Absolutely correct! \n",
    "</div>"
   ]
  },
  {
   "cell_type": "markdown",
   "metadata": {},
   "source": [
    "<div class=\"alert alert-warning\" style=\"box-shadow: 4px 4px 4px\">\n",
    "Remark: Why did you decide not to change the values 20 and -1 in the children column and negative values in days_employed? It is not necessary to change, but it is but it is desirable to explain why you do not change it. Obviously, it affect the whole analysis.  \n",
    "</div>"
   ]
  },
  {
   "cell_type": "markdown",
   "metadata": {},
   "source": [
    "## Answer these questions"
   ]
  },
  {
   "cell_type": "markdown",
   "metadata": {},
   "source": [
    "- Is there a relation between having kids and repaying a loan on time?"
   ]
  },
  {
   "cell_type": "markdown",
   "metadata": {},
   "source": [
    "The contents in the cell below was moved to more appropriate locations after code review and code updates"
   ]
  },
  {
   "cell_type": "code",
   "execution_count": 79,
   "metadata": {},
   "outputs": [],
   "source": [
    "# import numpy as np\n",
    "\n",
    "# # Rename children column to be more understandable\n",
    "# # scoring_credit.rename(columns={'children': 'num_children'}, inplace=True)\n",
    "\n",
    "# # Create a more readable column for those that have defaulted on a loan before:\n",
    "# # Create a function to change the column values\n",
    "# def assign_default_status(default_status):\n",
    "#     if default_status == 1:\n",
    "#         return 'Yes'\n",
    "#     if default_status == 0:\n",
    "#         return 'No'\n",
    "#     else:\n",
    "#         return 'Unknown'\n",
    "\n",
    "# # Create new column with newly assigned default history\n",
    "# scoring_credit['defaulted_before'] = scoring_credit['debt'].apply(assign_default_status)\n",
    "# # Check data\n",
    "# print(scoring_credit.head(), '\\n')\n",
    "# print('defaulted_before subcategory totals:')\n",
    "# print(scoring_credit['defaulted_before'].value_counts(), '\\n')"
   ]
  },
  {
   "cell_type": "markdown",
   "metadata": {},
   "source": [
    "***Create a pivot table showing relationship between having kids and repaying a loan on time***\n",
    "\n",
    "- Calculate the subcategory representation in total entries\n",
    "- Calculate the chance of defaulting on a loan according to this data set"
   ]
  },
  {
   "cell_type": "code",
   "execution_count": 80,
   "metadata": {},
   "outputs": [],
   "source": [
    "# Create a pivot table showing relationship between having kids and repaying a loan on time\n",
    "kids_and_loans_table = scoring_credit.pivot_table(index='num_children', columns='defaulted_before', \n",
    "                                                  values='debt', aggfunc='count', fill_value=0, margins=True)"
   ]
  },
  {
   "cell_type": "code",
   "execution_count": 81,
   "metadata": {},
   "outputs": [
    {
     "name": "stdout",
     "output_type": "stream",
     "text": [
      "Pivot table showing relationship between number of children and repaying a loan on time:\n",
      "\n",
      "defaulted_before     No   Yes    All  % in tot entries  % chance of default\n",
      "num_children                                                               \n",
      "-1                   46     1     47              0.22                  2.1\n",
      "0                 13028  1063  14091             65.68                  7.5\n",
      "1                  4364   444   4808             22.41                  9.2\n",
      "2                  1858   194   2052              9.56                  9.5\n",
      "3                   303    27    330              1.54                  8.2\n",
      "4                    37     4     41              0.19                  9.8\n",
      "5                     9     0      9              0.04                  0.0\n",
      "20                   68     8     76              0.35                 10.5\n",
      "All               19713  1741  21454            100.00                  8.1\n"
     ]
    }
   ],
   "source": [
    "# make a column for subcategory representation in all entries\n",
    "kids_and_loans_table['% in tot entries'] = (kids_and_loans_table['All'] / len(scoring_credit) * 100).round(2)\n",
    "\n",
    "# if you have x num of children you have a _% chance of defaulting\n",
    "kids_and_loans_table['% chance of default'] = (kids_and_loans_table['Yes'] / kids_and_loans_table['All'] * 100).round(1)\n",
    "\n",
    "print('Pivot table showing relationship between number of children and repaying a loan on time:\\n')\n",
    "print(kids_and_loans_table.head(10))"
   ]
  },
  {
   "cell_type": "markdown",
   "metadata": {},
   "source": [
    "<div class=\"alert alert-success\" style=\"box-shadow: 4px 4px 4px\">\n",
    "    Success: Great that function and <code>.apply()</code> were used!\n",
    "</div>"
   ]
  },
  {
   "cell_type": "markdown",
   "metadata": {},
   "source": [
    "### Conclusion"
   ]
  },
  {
   "cell_type": "markdown",
   "metadata": {},
   "source": [
    "Most clients have 0 children, followed by 1, then 2.\n",
    "\n",
    "- If -1 number of children is not a typo, then these clients have the lowest chance of defaulting (2.1%).\n",
    "- If -1 number of children is a typo, then clients with 0 children have the lowest chance of defaulting (7.5%).\n",
    "- Clients with 20 children have the highest chance of defaulting (10.5%).\n",
    "\n",
    "According to this data set, there is a trend suggesting that based on the number of children a client has, i.e. the more children, the higher the chance of defaulting on a loan.\n",
    "\n",
    "Possible reasons for these results are that the more children a client has, the higher the financial strain, which can lead to conflicting priorities for paying a loan on time."
   ]
  },
  {
   "cell_type": "markdown",
   "metadata": {},
   "source": [
    "<div class=\"alert alert-success\" style=\"box-shadow: 4px 4px 4px\">\n",
    "Success: Perfect conclusion!\n",
    "</div>"
   ]
  },
  {
   "cell_type": "markdown",
   "metadata": {},
   "source": [
    "- Is there a relation between marital status and repaying a loan on time?"
   ]
  },
  {
   "cell_type": "markdown",
   "metadata": {},
   "source": [
    "***Create a pivot table showing relationship between marital status and repaying a loan on time***\n",
    "\n",
    "- Calculate the subcategory representation in total entries\n",
    "- Calculate the chance of defaulting on a loan according to this data set"
   ]
  },
  {
   "cell_type": "code",
   "execution_count": 82,
   "metadata": {},
   "outputs": [],
   "source": [
    "# Create a pivot table showing the relationship between marital status and repaying a loan on time\n",
    "fam_stat_and_loans_table = scoring_credit.pivot_table(index='family_status', columns='defaulted_before',\n",
    "                                                      values='debt', aggfunc='count', margins=True)"
   ]
  },
  {
   "cell_type": "code",
   "execution_count": 83,
   "metadata": {},
   "outputs": [
    {
     "name": "stdout",
     "output_type": "stream",
     "text": [
      "Pivot table showing relationship between marital status and repaying a loan on time:\n",
      "\n",
      "defaulted_before      No   Yes    All  % in tot entries  % chance of default\n",
      "family_status                                                               \n",
      "civil partnership   3763   388   4151              19.3                  9.3\n",
      "divorced            1110    85   1195               5.6                  7.1\n",
      "married            11408   931  12339              57.5                  7.5\n",
      "unmarried           2536   274   2810              13.1                  9.8\n",
      "widow / widower      896    63    959               4.5                  6.6\n",
      "All                19713  1741  21454             100.0                  8.1\n"
     ]
    }
   ],
   "source": [
    "print('Pivot table showing relationship between marital status and repaying a loan on time:\\n')\n",
    "\n",
    "# make a column for subcategory representation in all entries\n",
    "fam_stat_and_loans_table['% in tot entries'] = (fam_stat_and_loans_table['All'] / len(scoring_credit) * 100).round(1)\n",
    "\n",
    "# if you are in this type of family status you have a _% chance of defaulting\n",
    "fam_stat_and_loans_table['% chance of default'] = (fam_stat_and_loans_table['Yes'] / fam_stat_and_loans_table['All'] * 100).round(1)\n",
    "# if you are in this type of family status you are _ times more likely to default\n",
    "# fam_stat_and_loans_table['times more likely to default'] = (fam_stat_and_loans_table['No'] / fam_stat_and_loans_table['Yes']).round(1)\n",
    "\n",
    "print(fam_stat_and_loans_table.head(10))"
   ]
  },
  {
   "cell_type": "markdown",
   "metadata": {},
   "source": [
    "<div class=\"alert alert-success\" style=\"box-shadow: 4px 4px 4px\">\n",
    "Success: Great that pivot table was used!\n",
    "</div>"
   ]
  },
  {
   "cell_type": "markdown",
   "metadata": {},
   "source": [
    "<div class=\"alert alert-warning\" style=\"box-shadow: 4px 4px 4px\">\n",
    "    Remark: Please, don't print out a dataset with print. It is more common to use <code>df</code> or <code>df.head()</code>\n",
    "</div>"
   ]
  },
  {
   "cell_type": "markdown",
   "metadata": {},
   "source": [
    "### Conclusion"
   ]
  },
  {
   "cell_type": "markdown",
   "metadata": {},
   "source": [
    "Most clients are married, followed by civil partnership, unmarried, divorced, then widow/widower.\n",
    "\n",
    "Widow/widower have the lowest chance of defaulting (6.6%).\n",
    "\n",
    "Divorced and married clients have about the same chance of defaulting (7.5 & 7.1%) with a higher chance than widows/widowers (6.6%), and a lower chance than civil partnership and unmarried clients (9.3 & 9.8%).\n",
    "\n",
    "Civil partnerships and unmarried clients have about the same and the highest chance of defaulting (9.3 & 9.8%).\n",
    "\n",
    "There isnt a clear pattern here. This data may be inappropriate as a reason for defaulting on a loan."
   ]
  },
  {
   "cell_type": "markdown",
   "metadata": {},
   "source": [
    "<div class=\"alert alert-success\" style=\"box-shadow: 4px 4px 4px\">\n",
    "Success: Agree\n",
    "</div>"
   ]
  },
  {
   "cell_type": "markdown",
   "metadata": {},
   "source": [
    "- Is there a relation between income level and repaying a loan on time?"
   ]
  },
  {
   "cell_type": "markdown",
   "metadata": {},
   "source": [
    "***Create a pivot table showing relationship between income level and repaying a loan on time***\n",
    "\n",
    "- Calculate the subcategory representation in total entries\n",
    "- Calculate the chance of defaulting on a loan according to this data set"
   ]
  },
  {
   "cell_type": "code",
   "execution_count": 84,
   "metadata": {},
   "outputs": [],
   "source": [
    "# print(scoring_credit.groupby('income_range')['debt'].value_counts())\n",
    "\n",
    "# Create a pivot table showing the relationship between income level and repaying a loan on time\n",
    "income_level_and_loans_table = scoring_credit.pivot_table(index='income_range', columns='defaulted_before',\n",
    "                                                      values='debt', aggfunc='count', margins=True)"
   ]
  },
  {
   "cell_type": "code",
   "execution_count": 85,
   "metadata": {},
   "outputs": [
    {
     "name": "stdout",
     "output_type": "stream",
     "text": [
      "Pivot table showing relationship between income level and repaying a loan on time:\n",
      "\n",
      "defaulted_before        No   Yes    All  % in tot entries  % chance of default\n",
      "income_range                                                                  \n",
      "$0 - $24,999         11785  1066  12851              59.9                  8.3\n",
      "$100,000 - $124,999     53     2     55               0.3                  3.6\n",
      "$125,000 - $149,999     14     2     16               0.1                 12.5\n",
      "$25,000 - $49,999     6700   583   7283              33.9                  8.0\n",
      "$50,000 - $74,999      956    76   1032               4.8                  7.4\n",
      "$75,000 - $99,999      179    10    189               0.9                  5.3\n",
      "> $150,000              26     2     28               0.1                  7.1\n",
      "All                  19713  1741  21454             100.0                  8.1\n"
     ]
    }
   ],
   "source": [
    "print('Pivot table showing relationship between income level and repaying a loan on time:\\n')\n",
    "\n",
    "# make a column for subcategory representation in all entries\n",
    "income_level_and_loans_table['% in tot entries'] = (income_level_and_loans_table['All'] / len(scoring_credit) * 100).round(1)\n",
    "\n",
    "# if you are in this income level you have a _% chance of defaulting\n",
    "income_level_and_loans_table['% chance of default'] = (income_level_and_loans_table['Yes'] / income_level_and_loans_table['All'] * 100).round(1)\n",
    "# if you are in this income level you are _ times more likely to default\n",
    "# income_level_and_loans_table['times more likely to default'] = (income_level_and_loans_table['No'] / income_level_and_loans_table['Yes']).round(1)\n",
    "\n",
    "\n",
    "print(income_level_and_loans_table.head(10))"
   ]
  },
  {
   "cell_type": "markdown",
   "metadata": {},
   "source": [
    "### Conclusion"
   ]
  },
  {
   "cell_type": "markdown",
   "metadata": {},
   "source": [
    "Most clients earn between 0-24,999 follwed by 25,000-49,999.\n",
    "\n",
    "Clients earning between 0-24,999 and 25,000-49,999 have about the same chance of defaulting (8.0 & 8.3%). Which is higher than those earning between 50,000-74,999 and >150,000 (7.4 & 7.1%) and lower than those earning between 125,000-149,000 (12.5%).\n",
    "\n",
    "Clients earning between 50,000-74,999 and >150,000 have about the same chance of defaulting (7.4 & 7.1%). Which is higher than those earning between 75,000-99,999 (5.3%) and lower than those earning between 0-24,999 and 25,000-49,999 (8.0 & 8.3%).\n",
    "\n",
    "Clients earning between 100,000-124,999 have the lowest chance of defaulting (3.6%).\n",
    "\n",
    "Clients earning between 125,000-149,000 have the highest chance of defaulting (12.5%).\n",
    "\n",
    "Clients earning between 75,000-99,999 have a lower chance of defaulting (5.3%) than those earning between 50,000-74,999 and >150,000 (7.4 & 7.1%), but a higher chance than those earning between 100,000-124,999 (3.6%).\n",
    "\n",
    "As income increases from 0 to 125,000 the chance of defaulting goes down, until income reaches 125,000 then it goes up.\n",
    "Possible reasons for this could be because as people earn more money they tend to spend more and buy more expensive things."
   ]
  },
  {
   "cell_type": "markdown",
   "metadata": {},
   "source": [
    "<div class=\"alert alert-success\" style=\"box-shadow: 4px 4px 4px\">\n",
    "Success: Absolutely correct!\n",
    "</div>"
   ]
  },
  {
   "cell_type": "markdown",
   "metadata": {},
   "source": [
    "- How do different loan purposes affect on-time repayment of the loan?"
   ]
  },
  {
   "cell_type": "markdown",
   "metadata": {},
   "source": [
    "***Create a pivot table showing relationship between loan purpose and repaying a loan on time***\n",
    "\n",
    "- Calculate the subcategory representation in total entries\n",
    "- Calculate the chance of defaulting on a loan according to this data set"
   ]
  },
  {
   "cell_type": "code",
   "execution_count": 86,
   "metadata": {},
   "outputs": [],
   "source": [
    "#print(scoring_credit.groupby('loan_use')['debt'].value_counts())\n",
    "\n",
    "# Create a pivot table showing the relationship between purpose of a loan and repaying the loan on time\n",
    "loan_purpose_table = scoring_credit.pivot_table(index='loan_use', columns='defaulted_before',\n",
    "                                                      values='debt', aggfunc='count', margins=True)"
   ]
  },
  {
   "cell_type": "code",
   "execution_count": 87,
   "metadata": {},
   "outputs": [
    {
     "name": "stdout",
     "output_type": "stream",
     "text": [
      "Pivot table showing relationship between purpose of a loan and repaying the loan on time:\n",
      "\n",
      "defaulted_before     No   Yes    All  % in tot entries  % chance of default\n",
      "loan_use                                                                   \n",
      "car                3903   403   4306              20.1                  9.4\n",
      "education          3643   370   4013              18.7                  9.2\n",
      "house              3553   256   3809              17.8                  6.7\n",
      "property           2348   190   2538              11.8                  7.5\n",
      "real estate        4128   336   4464              20.8                  7.5\n",
      "wedding            2138   186   2324              10.8                  8.0\n",
      "All               19713  1741  21454             100.0                  8.1\n"
     ]
    }
   ],
   "source": [
    "print('Pivot table showing relationship between purpose of a loan and repaying the loan on time:\\n')\n",
    "\n",
    "# make a column for subcategory representation in all entries\n",
    "loan_purpose_table['% in tot entries'] = (loan_purpose_table['All'] / len(scoring_credit) * 100).round(1)\n",
    "\n",
    "# if you get a loan for this purpose you have a _% chance of defaulting\n",
    "loan_purpose_table['% chance of default'] = (loan_purpose_table['Yes'] / loan_purpose_table['All'] * 100).round(1)\n",
    "# if you get a loan for this purpose you are _ times more likely to default\n",
    "# loan_purpose_table['times more likely to default'] = (loan_purpose_table['No'] / loan_purpose_table['Yes']).round(1)\n",
    "\n",
    "print(loan_purpose_table.head(10))"
   ]
  },
  {
   "cell_type": "markdown",
   "metadata": {},
   "source": [
    "### Conclusion"
   ]
  },
  {
   "cell_type": "markdown",
   "metadata": {},
   "source": [
    "Most clients take out loans for buying a car or real estate. However if loans for buying houses, real estate, and property related expenses were combined, this would make up the majority.\n",
    "\n",
    "Clients buying a house have the lowest chance of defaulting (6.7%).\n",
    "\n",
    "Clients buying a car or paying for education have the highest chance of defaulting (9.4 & 9.2%).\n",
    "\n",
    "Clients buying real estate or paying for property related expenses have the same chance of defaulting (7.5%).\n",
    "\n",
    "Clients paying for a wedding have a higher chance of defaulting (8.0%) than those buying real estate/property (7.5%) and lower than those buying a car/paying for education (9.4 & 9.2%).\n",
    "\n",
    "All reasons for the loan appears to have roughly the same chance of defaulting. This implies that the reason for the loan is not indicative of whether or not they will default, rather it may emphasize that no matter the reason the chance of default is the same."
   ]
  },
  {
   "cell_type": "markdown",
   "metadata": {},
   "source": [
    "<div class=\"alert alert-success\" style=\"box-shadow: 4px 4px 4px\">\n",
    "Success: I couldn't agree more!\n",
    "</div>"
   ]
  },
  {
   "cell_type": "markdown",
   "metadata": {},
   "source": [
    "## General conclusion"
   ]
  },
  {
   "cell_type": "markdown",
   "metadata": {},
   "source": [
    "The investigation wanted to evaluate if the number of children and marital status impact the chance of defaulting on a loan, while also evaluating income level and purpose for the loan.\n",
    "\n",
    "***Possible indicators of defaulting***\n",
    "- The number of children a client has appears to be a good indicator of the chance of defaulting because the more children a client has the higher their chance of defaulting\n",
    "- Income level also appears to be a good indicator because as income increases from 0 to <125,000 the chance of default goes down, 125,000 or more and it goes up.\n",
    "\n",
    "***Unlikely indicators of defaulting***\n",
    "- Marital status does not appear to be a good indicator because there is no obvious trend based on the relationship status of a client. It might be assumed that those with civil partnerships and married status would have a similar chance because there are potentially two contributing incomes, while those divorced, unmarried, and widowed would have a similar chance because they have potentially one contributing income. However this is not the case according to this data set.\n",
    "- The purpose of the loan also did not have a clear trend. The results varied slightly but they all have about the same chance of defaulting."
   ]
  },
  {
   "cell_type": "markdown",
   "metadata": {},
   "source": [
    "<div class=\"alert alert-success\" style=\"box-shadow: 4px 4px 4px\">\n",
    "Success: You are great at writing conclusions! It is really perfect! \n",
    "</div>"
   ]
  },
  {
   "cell_type": "markdown",
   "metadata": {},
   "source": [
    "## Project Readiness Checklist\n",
    "\n",
    "Put 'x' in the completed points. Then press Shift + Enter."
   ]
  },
  {
   "cell_type": "markdown",
   "metadata": {},
   "source": [
    "- [x]  file open;\n",
    "- [x]  file examined;\n",
    "- [x]  missing values defined;\n",
    "- [x]  missing values are filled;\n",
    "- [x]  an explanation of which missing value types were detected;\n",
    "- [x]  explanation for the possible causes of missing values;\n",
    "- [x]  an explanation of how the blanks are filled;\n",
    "- [x]  replaced the real data type with an integer;\n",
    "- [x]  an explanation of which method is used to change the data type and why;\n",
    "- [x]  duplicates deleted;\n",
    "- [x]  an explanation of which method is used to find and remove duplicates;\n",
    "- [x]  description of the possible reasons for the appearance of duplicates in the data;\n",
    "- [x]  data is categorized;\n",
    "- [x]  an explanation of the principle of data categorization;\n",
    "- [x]  an answer to the question \"Is there a relation between having kids and repaying a loan on time?\";\n",
    "- [x]  an answer to the question \"Is there a relation between marital status and repaying a loan on time?\";\n",
    "- [x]  an answer to the question \"Is there a relation between income level and repaying a loan on time?\";\n",
    "- [x]  an answer to the question \"How do different loan purposes affect on-time repayment of the loan?\"\n",
    "- [x]  conclusions are present on each stage;\n",
    "- [x]  a general conclusion is made."
   ]
  },
  {
   "cell_type": "code",
   "execution_count": null,
   "metadata": {},
   "outputs": [],
   "source": []
  }
 ],
 "metadata": {
  "ExecuteTimeLog": [
   {
    "duration": 919,
    "start_time": "2021-06-28T20:27:38.129Z"
   },
   {
    "duration": 104,
    "start_time": "2021-06-28T20:31:39.322Z"
   },
   {
    "duration": 110,
    "start_time": "2021-06-28T20:32:09.008Z"
   },
   {
    "duration": 78,
    "start_time": "2021-06-28T20:32:28.326Z"
   },
   {
    "duration": 82,
    "start_time": "2021-06-28T20:32:59.330Z"
   },
   {
    "duration": 78,
    "start_time": "2021-06-28T20:35:58.496Z"
   },
   {
    "duration": 428,
    "start_time": "2021-06-28T20:56:06.757Z"
   },
   {
    "duration": 97,
    "start_time": "2021-06-28T20:56:43.476Z"
   },
   {
    "duration": 76,
    "start_time": "2021-06-28T20:57:49.433Z"
   },
   {
    "duration": 105,
    "start_time": "2021-06-28T20:58:09.392Z"
   },
   {
    "duration": 76,
    "start_time": "2021-06-28T20:58:25.062Z"
   },
   {
    "duration": 907,
    "start_time": "2021-06-29T18:54:51.504Z"
   },
   {
    "duration": 99,
    "start_time": "2021-06-29T18:57:41.101Z"
   },
   {
    "duration": 80,
    "start_time": "2021-06-29T18:58:47.707Z"
   },
   {
    "duration": 555,
    "start_time": "2021-06-29T19:12:13.180Z"
   },
   {
    "duration": 350,
    "start_time": "2021-06-29T19:13:32.661Z"
   },
   {
    "duration": 349,
    "start_time": "2021-06-29T19:15:15.771Z"
   },
   {
    "duration": 335,
    "start_time": "2021-06-29T19:15:59.759Z"
   },
   {
    "duration": 357,
    "start_time": "2021-06-29T19:16:21.310Z"
   },
   {
    "duration": 612,
    "start_time": "2021-06-29T19:24:34.602Z"
   },
   {
    "duration": 1077,
    "start_time": "2021-06-29T19:24:57.946Z"
   },
   {
    "duration": 557,
    "start_time": "2021-06-29T19:27:10.686Z"
   },
   {
    "duration": 962,
    "start_time": "2021-06-29T19:27:21.692Z"
   },
   {
    "duration": 56,
    "start_time": "2021-06-29T19:29:35.554Z"
   },
   {
    "duration": 61,
    "start_time": "2021-06-29T19:34:53.589Z"
   },
   {
    "duration": 935,
    "start_time": "2021-06-29T19:39:11.358Z"
   },
   {
    "duration": 929,
    "start_time": "2021-06-29T19:39:33.716Z"
   },
   {
    "duration": 423,
    "start_time": "2021-06-29T19:40:06.739Z"
   },
   {
    "duration": 94,
    "start_time": "2021-06-29T19:44:52.097Z"
   },
   {
    "duration": 86,
    "start_time": "2021-06-29T19:45:49.489Z"
   },
   {
    "duration": 103,
    "start_time": "2021-06-29T19:46:08.723Z"
   },
   {
    "duration": 77,
    "start_time": "2021-06-29T19:59:29.239Z"
   },
   {
    "duration": 63,
    "start_time": "2021-06-29T20:00:45.132Z"
   },
   {
    "duration": 63,
    "start_time": "2021-06-29T20:01:01.476Z"
   },
   {
    "duration": 92,
    "start_time": "2021-06-29T20:02:29.208Z"
   },
   {
    "duration": 98,
    "start_time": "2021-06-29T20:06:46.883Z"
   },
   {
    "duration": 504,
    "start_time": "2021-06-29T20:07:53.267Z"
   },
   {
    "duration": 106,
    "start_time": "2021-06-29T20:09:36.500Z"
   },
   {
    "duration": 109,
    "start_time": "2021-06-29T20:10:06.511Z"
   },
   {
    "duration": 112,
    "start_time": "2021-06-29T20:10:12.353Z"
   },
   {
    "duration": 70,
    "start_time": "2021-06-29T20:16:33.544Z"
   },
   {
    "duration": 77,
    "start_time": "2021-06-29T20:17:02.903Z"
   },
   {
    "duration": 74,
    "start_time": "2021-06-29T20:19:41.749Z"
   },
   {
    "duration": 114,
    "start_time": "2021-06-29T20:20:22.571Z"
   },
   {
    "duration": 1027,
    "start_time": "2021-06-29T20:39:43.074Z"
   },
   {
    "duration": 115,
    "start_time": "2021-06-29T20:40:44.508Z"
   },
   {
    "duration": 85,
    "start_time": "2021-06-29T20:40:49.104Z"
   },
   {
    "duration": 118,
    "start_time": "2021-06-29T20:41:42.947Z"
   },
   {
    "duration": 116,
    "start_time": "2021-06-29T20:46:07.435Z"
   },
   {
    "duration": 98,
    "start_time": "2021-06-29T20:48:27.756Z"
   },
   {
    "duration": 127,
    "start_time": "2021-06-29T20:48:44.335Z"
   },
   {
    "duration": 136,
    "start_time": "2021-06-29T20:49:54.939Z"
   },
   {
    "duration": 380,
    "start_time": "2021-06-29T20:51:12.089Z"
   },
   {
    "duration": 147,
    "start_time": "2021-06-29T20:52:20.808Z"
   },
   {
    "duration": 125,
    "start_time": "2021-06-29T20:53:47.042Z"
   },
   {
    "duration": 112,
    "start_time": "2021-06-29T20:54:40.651Z"
   },
   {
    "duration": 113,
    "start_time": "2021-06-29T20:54:47.143Z"
   },
   {
    "duration": 110,
    "start_time": "2021-06-29T20:54:57.919Z"
   },
   {
    "duration": 115,
    "start_time": "2021-06-29T20:55:04.138Z"
   },
   {
    "duration": 116,
    "start_time": "2021-06-29T20:55:07.942Z"
   },
   {
    "duration": 126,
    "start_time": "2021-06-29T20:55:09.943Z"
   },
   {
    "duration": 119,
    "start_time": "2021-06-29T20:56:18.677Z"
   },
   {
    "duration": 132,
    "start_time": "2021-06-29T20:57:01.245Z"
   },
   {
    "duration": 381,
    "start_time": "2021-06-29T21:08:49.237Z"
   },
   {
    "duration": 153,
    "start_time": "2021-06-29T21:09:26.565Z"
   },
   {
    "duration": 134,
    "start_time": "2021-06-29T21:10:10.327Z"
   },
   {
    "duration": 135,
    "start_time": "2021-06-29T21:25:31.462Z"
   },
   {
    "duration": 1155,
    "start_time": "2021-06-30T20:30:06.530Z"
   },
   {
    "duration": 232,
    "start_time": "2021-06-30T20:30:28.643Z"
   },
   {
    "duration": 110,
    "start_time": "2021-06-30T20:30:34.479Z"
   },
   {
    "duration": 103,
    "start_time": "2021-06-30T21:05:25.902Z"
   },
   {
    "duration": 112,
    "start_time": "2021-06-30T21:06:12.835Z"
   },
   {
    "duration": 124,
    "start_time": "2021-06-30T21:07:28.628Z"
   },
   {
    "duration": 116,
    "start_time": "2021-06-30T21:09:45.128Z"
   },
   {
    "duration": 895,
    "start_time": "2021-07-01T20:24:45.550Z"
   },
   {
    "duration": 94,
    "start_time": "2021-07-01T20:32:53.195Z"
   },
   {
    "duration": 67,
    "start_time": "2021-07-01T20:33:37.738Z"
   },
   {
    "duration": 95,
    "start_time": "2021-07-01T20:34:05.182Z"
   },
   {
    "duration": 66,
    "start_time": "2021-07-01T20:36:58.309Z"
   },
   {
    "duration": 66,
    "start_time": "2021-07-01T20:37:21.384Z"
   },
   {
    "duration": 72,
    "start_time": "2021-07-01T20:39:43.280Z"
   },
   {
    "duration": 88,
    "start_time": "2021-07-01T20:47:52.422Z"
   },
   {
    "duration": 86,
    "start_time": "2021-07-01T20:51:36.543Z"
   },
   {
    "duration": 77,
    "start_time": "2021-07-01T20:52:34.671Z"
   },
   {
    "duration": 116,
    "start_time": "2021-07-01T20:52:47.044Z"
   },
   {
    "duration": 78,
    "start_time": "2021-07-01T20:53:08.267Z"
   },
   {
    "duration": 74,
    "start_time": "2021-07-01T20:54:18.127Z"
   },
   {
    "duration": 81,
    "start_time": "2021-07-01T21:00:36.409Z"
   },
   {
    "duration": 88,
    "start_time": "2021-07-01T21:02:00.167Z"
   },
   {
    "duration": 81,
    "start_time": "2021-07-01T21:11:04.171Z"
   },
   {
    "duration": 145,
    "start_time": "2021-07-01T21:17:04.038Z"
   },
   {
    "duration": 147,
    "start_time": "2021-07-01T21:19:02.853Z"
   },
   {
    "duration": 89,
    "start_time": "2021-07-01T21:27:28.510Z"
   },
   {
    "duration": 103,
    "start_time": "2021-07-01T21:28:24.306Z"
   },
   {
    "duration": 99,
    "start_time": "2021-07-01T21:29:20.546Z"
   },
   {
    "duration": 106,
    "start_time": "2021-07-01T21:31:35.547Z"
   },
   {
    "duration": 101,
    "start_time": "2021-07-01T21:36:57.968Z"
   },
   {
    "duration": 140,
    "start_time": "2021-07-01T21:37:25.783Z"
   },
   {
    "duration": 521,
    "start_time": "2021-07-01T21:38:38.163Z"
   },
   {
    "duration": 727,
    "start_time": "2021-07-01T21:38:57.460Z"
   },
   {
    "duration": 137,
    "start_time": "2021-07-01T21:39:48.616Z"
   },
   {
    "duration": 109,
    "start_time": "2021-07-01T21:40:10.683Z"
   },
   {
    "duration": 112,
    "start_time": "2021-07-01T21:41:32.820Z"
   },
   {
    "duration": 115,
    "start_time": "2021-07-01T21:47:20.167Z"
   },
   {
    "duration": 8200,
    "start_time": "2021-07-01T21:50:27.428Z"
   },
   {
    "duration": 117,
    "start_time": "2021-07-01T21:50:40.593Z"
   },
   {
    "duration": 98,
    "start_time": "2021-07-01T21:51:20.550Z"
   },
   {
    "duration": 98,
    "start_time": "2021-07-01T21:52:37.335Z"
   },
   {
    "duration": 96,
    "start_time": "2021-07-01T21:52:53.758Z"
   },
   {
    "duration": 99,
    "start_time": "2021-07-01T21:53:13.138Z"
   },
   {
    "duration": 99,
    "start_time": "2021-07-01T21:59:19.666Z"
   },
   {
    "duration": 95,
    "start_time": "2021-07-01T21:59:41.204Z"
   },
   {
    "duration": 137,
    "start_time": "2021-07-01T21:59:57.586Z"
   },
   {
    "duration": 98,
    "start_time": "2021-07-01T22:09:39.785Z"
   },
   {
    "duration": 98,
    "start_time": "2021-07-01T22:10:51.597Z"
   },
   {
    "duration": 97,
    "start_time": "2021-07-01T22:11:48.803Z"
   },
   {
    "duration": 99,
    "start_time": "2021-07-01T22:15:59.453Z"
   },
   {
    "duration": 82,
    "start_time": "2021-07-01T23:55:50.676Z"
   },
   {
    "duration": 103,
    "start_time": "2021-07-02T00:03:34.220Z"
   },
   {
    "duration": 137,
    "start_time": "2021-07-02T00:05:18.906Z"
   },
   {
    "duration": 106,
    "start_time": "2021-07-02T00:05:48.503Z"
   },
   {
    "duration": 104,
    "start_time": "2021-07-02T00:07:10.428Z"
   },
   {
    "duration": 105,
    "start_time": "2021-07-02T00:09:20.186Z"
   },
   {
    "duration": 100,
    "start_time": "2021-07-02T00:09:32.883Z"
   },
   {
    "duration": 97,
    "start_time": "2021-07-02T00:11:39.633Z"
   },
   {
    "duration": 99,
    "start_time": "2021-07-02T00:12:02.114Z"
   },
   {
    "duration": 394,
    "start_time": "2021-07-02T00:24:25.256Z"
   },
   {
    "duration": 464,
    "start_time": "2021-07-02T00:24:46.516Z"
   },
   {
    "duration": 389,
    "start_time": "2021-07-02T00:25:38.297Z"
   },
   {
    "duration": 108,
    "start_time": "2021-07-02T00:29:18.911Z"
   },
   {
    "duration": 445,
    "start_time": "2021-07-02T00:30:24.190Z"
   },
   {
    "duration": 108,
    "start_time": "2021-07-02T00:31:06.677Z"
   },
   {
    "duration": 118,
    "start_time": "2021-07-02T00:31:58.383Z"
   },
   {
    "duration": 98,
    "start_time": "2021-07-02T00:34:04.375Z"
   },
   {
    "duration": 104,
    "start_time": "2021-07-02T00:34:59.247Z"
   },
   {
    "duration": 396,
    "start_time": "2021-07-02T00:35:13.315Z"
   },
   {
    "duration": 107,
    "start_time": "2021-07-02T00:35:31.684Z"
   },
   {
    "duration": 104,
    "start_time": "2021-07-02T00:35:40.321Z"
   },
   {
    "duration": 109,
    "start_time": "2021-07-02T00:35:47.540Z"
   },
   {
    "duration": 106,
    "start_time": "2021-07-02T00:36:10.819Z"
   },
   {
    "duration": 96,
    "start_time": "2021-07-02T00:36:33.358Z"
   },
   {
    "duration": 7685,
    "start_time": "2021-07-02T00:51:04.708Z"
   },
   {
    "duration": 114,
    "start_time": "2021-07-02T00:51:51.619Z"
   },
   {
    "duration": 111,
    "start_time": "2021-07-02T00:53:02.121Z"
   },
   {
    "duration": 107,
    "start_time": "2021-07-02T00:56:04.323Z"
   },
   {
    "duration": 130,
    "start_time": "2021-07-02T00:59:09.597Z"
   },
   {
    "duration": 139,
    "start_time": "2021-07-02T01:00:24.960Z"
   },
   {
    "duration": 143,
    "start_time": "2021-07-02T01:00:48.556Z"
   },
   {
    "duration": 144,
    "start_time": "2021-07-02T01:04:57.695Z"
   },
   {
    "duration": 150,
    "start_time": "2021-07-02T02:58:43.073Z"
   },
   {
    "duration": 154,
    "start_time": "2021-07-02T02:59:00.134Z"
   },
   {
    "duration": 164,
    "start_time": "2021-07-02T02:59:21.246Z"
   },
   {
    "duration": 133,
    "start_time": "2021-07-02T02:59:58.921Z"
   },
   {
    "duration": 137,
    "start_time": "2021-07-02T03:00:17.123Z"
   },
   {
    "duration": 152,
    "start_time": "2021-07-02T03:00:49.987Z"
   },
   {
    "duration": 160,
    "start_time": "2021-07-02T03:02:28.507Z"
   },
   {
    "duration": 137,
    "start_time": "2021-07-02T03:02:45.707Z"
   },
   {
    "duration": 126,
    "start_time": "2021-07-02T03:03:39.485Z"
   },
   {
    "duration": 121,
    "start_time": "2021-07-02T03:05:34.240Z"
   },
   {
    "duration": 125,
    "start_time": "2021-07-02T03:06:01.460Z"
   },
   {
    "duration": 116,
    "start_time": "2021-07-02T03:06:53.494Z"
   },
   {
    "duration": 114,
    "start_time": "2021-07-02T03:07:19.630Z"
   },
   {
    "duration": 114,
    "start_time": "2021-07-02T03:08:23.972Z"
   },
   {
    "duration": 109,
    "start_time": "2021-07-02T03:09:34.120Z"
   },
   {
    "duration": 131,
    "start_time": "2021-07-02T03:12:31.881Z"
   },
   {
    "duration": 150,
    "start_time": "2021-07-02T03:15:02.734Z"
   },
   {
    "duration": 143,
    "start_time": "2021-07-02T03:15:47.027Z"
   },
   {
    "duration": 131,
    "start_time": "2021-07-02T03:16:56.901Z"
   },
   {
    "duration": 480,
    "start_time": "2021-07-02T03:22:44.614Z"
   },
   {
    "duration": 481,
    "start_time": "2021-07-02T03:23:24.019Z"
   },
   {
    "duration": 187,
    "start_time": "2021-07-02T03:23:37.424Z"
   },
   {
    "duration": 191,
    "start_time": "2021-07-02T03:24:14.053Z"
   },
   {
    "duration": 198,
    "start_time": "2021-07-02T03:24:47.644Z"
   },
   {
    "duration": 198,
    "start_time": "2021-07-02T03:25:57.963Z"
   },
   {
    "duration": 211,
    "start_time": "2021-07-02T03:28:17.743Z"
   },
   {
    "duration": 277,
    "start_time": "2021-07-02T03:29:03.108Z"
   },
   {
    "duration": 208,
    "start_time": "2021-07-02T03:31:00.040Z"
   },
   {
    "duration": 205,
    "start_time": "2021-07-02T03:42:49.033Z"
   },
   {
    "duration": 216,
    "start_time": "2021-07-02T03:43:12.487Z"
   },
   {
    "duration": 214,
    "start_time": "2021-07-02T03:44:14.628Z"
   },
   {
    "duration": 207,
    "start_time": "2021-07-02T03:44:42.580Z"
   },
   {
    "duration": 210,
    "start_time": "2021-07-02T03:44:56.874Z"
   },
   {
    "duration": 215,
    "start_time": "2021-07-02T03:46:43.033Z"
   },
   {
    "duration": 227,
    "start_time": "2021-07-02T03:47:49.412Z"
   },
   {
    "duration": 1127,
    "start_time": "2021-07-02T15:56:21.100Z"
   },
   {
    "duration": 246,
    "start_time": "2021-07-02T15:57:23.491Z"
   },
   {
    "duration": 262,
    "start_time": "2021-07-02T15:58:11.378Z"
   },
   {
    "duration": 187,
    "start_time": "2021-07-02T16:02:07.162Z"
   },
   {
    "duration": 188,
    "start_time": "2021-07-02T16:03:17.022Z"
   },
   {
    "duration": 204,
    "start_time": "2021-07-02T16:06:20.702Z"
   },
   {
    "duration": 168,
    "start_time": "2021-07-02T16:06:58.156Z"
   },
   {
    "duration": 127,
    "start_time": "2021-07-02T16:08:50.552Z"
   },
   {
    "duration": 180,
    "start_time": "2021-07-02T16:09:47.656Z"
   },
   {
    "duration": 151,
    "start_time": "2021-07-02T16:11:04.063Z"
   },
   {
    "duration": 180,
    "start_time": "2021-07-02T16:13:06.750Z"
   },
   {
    "duration": 188,
    "start_time": "2021-07-02T16:14:11.229Z"
   },
   {
    "duration": 172,
    "start_time": "2021-07-02T16:14:30.371Z"
   },
   {
    "duration": 191,
    "start_time": "2021-07-02T16:25:00.684Z"
   },
   {
    "duration": 177,
    "start_time": "2021-07-02T16:26:00.314Z"
   },
   {
    "duration": 173,
    "start_time": "2021-07-02T16:26:49.422Z"
   },
   {
    "duration": 92,
    "start_time": "2021-07-02T16:27:17.536Z"
   },
   {
    "duration": 98,
    "start_time": "2021-07-02T16:27:40.516Z"
   },
   {
    "duration": 385,
    "start_time": "2021-07-02T16:27:50.684Z"
   },
   {
    "duration": 326,
    "start_time": "2021-07-02T16:28:37.301Z"
   },
   {
    "duration": 184,
    "start_time": "2021-07-02T16:29:01.652Z"
   },
   {
    "duration": 192,
    "start_time": "2021-07-02T16:29:43.546Z"
   },
   {
    "duration": 190,
    "start_time": "2021-07-02T16:30:51.154Z"
   },
   {
    "duration": 171,
    "start_time": "2021-07-02T16:31:24.487Z"
   },
   {
    "duration": 272,
    "start_time": "2021-07-02T16:34:07.512Z"
   },
   {
    "duration": 171,
    "start_time": "2021-07-02T16:34:36.548Z"
   },
   {
    "duration": 214,
    "start_time": "2021-07-02T16:35:59.682Z"
   },
   {
    "duration": 175,
    "start_time": "2021-07-02T16:44:33.128Z"
   },
   {
    "duration": 130,
    "start_time": "2021-07-02T16:48:56.957Z"
   },
   {
    "duration": 124,
    "start_time": "2021-07-02T16:49:49.407Z"
   },
   {
    "duration": 1096,
    "start_time": "2021-07-02T18:47:31.183Z"
   },
   {
    "duration": 183,
    "start_time": "2021-07-02T18:49:25.507Z"
   },
   {
    "duration": 189,
    "start_time": "2021-07-02T18:49:58.275Z"
   },
   {
    "duration": 186,
    "start_time": "2021-07-02T18:55:11.695Z"
   },
   {
    "duration": 190,
    "start_time": "2021-07-02T18:56:30.848Z"
   },
   {
    "duration": 193,
    "start_time": "2021-07-02T19:16:04.201Z"
   },
   {
    "duration": 233,
    "start_time": "2021-07-02T19:17:07.175Z"
   },
   {
    "duration": 185,
    "start_time": "2021-07-02T19:20:14.406Z"
   },
   {
    "duration": 536,
    "start_time": "2021-07-02T19:44:29.393Z"
   },
   {
    "duration": 465,
    "start_time": "2021-07-02T19:45:10.024Z"
   },
   {
    "duration": 453,
    "start_time": "2021-07-02T19:45:34.417Z"
   },
   {
    "duration": 427,
    "start_time": "2021-07-02T19:46:50.226Z"
   },
   {
    "duration": 193,
    "start_time": "2021-07-02T19:47:30.433Z"
   },
   {
    "duration": 141,
    "start_time": "2021-07-02T19:49:10.273Z"
   },
   {
    "duration": 193,
    "start_time": "2021-07-02T19:49:26.293Z"
   },
   {
    "duration": 193,
    "start_time": "2021-07-02T19:55:14.947Z"
   },
   {
    "duration": 205,
    "start_time": "2021-07-02T20:27:42.633Z"
   },
   {
    "duration": 221,
    "start_time": "2021-07-02T20:28:04.408Z"
   },
   {
    "duration": 199,
    "start_time": "2021-07-02T20:30:37.686Z"
   },
   {
    "duration": 198,
    "start_time": "2021-07-02T20:39:42.113Z"
   },
   {
    "duration": 656,
    "start_time": "2021-07-02T22:04:18.820Z"
   },
   {
    "duration": 137,
    "start_time": "2021-07-02T22:05:45.105Z"
   },
   {
    "duration": 141,
    "start_time": "2021-07-02T22:06:21.355Z"
   },
   {
    "duration": 140,
    "start_time": "2021-07-02T22:22:14.350Z"
   },
   {
    "duration": 134,
    "start_time": "2021-07-02T22:25:40.869Z"
   },
   {
    "duration": 137,
    "start_time": "2021-07-03T00:50:03.233Z"
   },
   {
    "duration": 130,
    "start_time": "2021-07-03T00:52:29.102Z"
   },
   {
    "duration": 138,
    "start_time": "2021-07-03T00:53:03.952Z"
   },
   {
    "duration": 134,
    "start_time": "2021-07-03T00:55:20.222Z"
   },
   {
    "duration": 135,
    "start_time": "2021-07-03T01:15:17.941Z"
   },
   {
    "duration": 140,
    "start_time": "2021-07-03T01:17:24.851Z"
   },
   {
    "duration": 127,
    "start_time": "2021-07-03T01:26:03.450Z"
   },
   {
    "duration": 127,
    "start_time": "2021-07-03T01:27:10.522Z"
   },
   {
    "duration": 131,
    "start_time": "2021-07-03T01:28:03.838Z"
   },
   {
    "duration": 134,
    "start_time": "2021-07-03T01:29:19.991Z"
   },
   {
    "duration": 135,
    "start_time": "2021-07-03T01:31:53.435Z"
   },
   {
    "duration": 131,
    "start_time": "2021-07-03T01:33:21.807Z"
   },
   {
    "duration": 131,
    "start_time": "2021-07-03T01:34:12.443Z"
   },
   {
    "duration": 136,
    "start_time": "2021-07-03T01:35:11.810Z"
   },
   {
    "duration": 166,
    "start_time": "2021-07-03T01:35:31.889Z"
   },
   {
    "duration": 135,
    "start_time": "2021-07-03T01:36:32.660Z"
   },
   {
    "duration": 140,
    "start_time": "2021-07-03T01:38:09.647Z"
   },
   {
    "duration": 312,
    "start_time": "2021-07-03T01:41:33.557Z"
   },
   {
    "duration": 136,
    "start_time": "2021-07-03T01:43:04.236Z"
   },
   {
    "duration": 127,
    "start_time": "2021-07-03T01:43:42.421Z"
   },
   {
    "duration": 131,
    "start_time": "2021-07-03T01:44:34.319Z"
   },
   {
    "duration": 131,
    "start_time": "2021-07-03T02:27:25.463Z"
   },
   {
    "duration": 132,
    "start_time": "2021-07-03T02:28:37.284Z"
   },
   {
    "duration": 133,
    "start_time": "2021-07-03T02:28:44.285Z"
   },
   {
    "duration": 134,
    "start_time": "2021-07-03T02:29:17.973Z"
   },
   {
    "duration": 130,
    "start_time": "2021-07-03T02:29:45.462Z"
   },
   {
    "duration": 50,
    "start_time": "2021-07-03T02:49:54.258Z"
   },
   {
    "duration": 246,
    "start_time": "2021-07-03T03:03:24.638Z"
   },
   {
    "duration": 56,
    "start_time": "2021-07-03T03:06:39.858Z"
   },
   {
    "duration": 55,
    "start_time": "2021-07-03T03:06:55.597Z"
   },
   {
    "duration": 54,
    "start_time": "2021-07-03T03:09:35.106Z"
   },
   {
    "duration": 238,
    "start_time": "2021-07-03T03:12:20.573Z"
   },
   {
    "duration": 216,
    "start_time": "2021-07-03T03:12:29.134Z"
   },
   {
    "duration": 231,
    "start_time": "2021-07-03T03:14:24.732Z"
   },
   {
    "duration": 250,
    "start_time": "2021-07-03T03:14:32.968Z"
   },
   {
    "duration": 221,
    "start_time": "2021-07-03T03:14:58.569Z"
   },
   {
    "duration": 238,
    "start_time": "2021-07-03T03:15:37.931Z"
   },
   {
    "duration": 45,
    "start_time": "2021-07-03T03:15:57.726Z"
   },
   {
    "duration": 44,
    "start_time": "2021-07-03T03:16:04.348Z"
   },
   {
    "duration": 45,
    "start_time": "2021-07-03T03:16:21.177Z"
   },
   {
    "duration": 45,
    "start_time": "2021-07-03T03:16:27.731Z"
   },
   {
    "duration": 43,
    "start_time": "2021-07-03T03:16:59.940Z"
   },
   {
    "duration": 575,
    "start_time": "2021-07-03T03:18:02.437Z"
   },
   {
    "duration": 239,
    "start_time": "2021-07-03T03:18:42.041Z"
   },
   {
    "duration": 45,
    "start_time": "2021-07-03T03:18:51.227Z"
   },
   {
    "duration": 49,
    "start_time": "2021-07-03T03:19:08.928Z"
   },
   {
    "duration": 224,
    "start_time": "2021-07-03T03:19:19.797Z"
   },
   {
    "duration": 219,
    "start_time": "2021-07-03T03:21:43.324Z"
   },
   {
    "duration": 195,
    "start_time": "2021-07-03T03:26:54.779Z"
   },
   {
    "duration": 215,
    "start_time": "2021-07-03T03:27:10.023Z"
   },
   {
    "duration": 138,
    "start_time": "2021-07-03T03:28:13.307Z"
   },
   {
    "duration": 141,
    "start_time": "2021-07-03T03:28:35.101Z"
   },
   {
    "duration": 329,
    "start_time": "2021-07-03T18:11:37.680Z"
   },
   {
    "duration": 265,
    "start_time": "2021-07-03T18:11:45.269Z"
   },
   {
    "duration": 294,
    "start_time": "2021-07-03T18:12:05.298Z"
   },
   {
    "duration": 299,
    "start_time": "2021-07-03T18:13:51.452Z"
   },
   {
    "duration": 385,
    "start_time": "2021-07-03T18:14:01.683Z"
   },
   {
    "duration": 265,
    "start_time": "2021-07-03T18:15:14.042Z"
   },
   {
    "duration": 265,
    "start_time": "2021-07-03T18:16:27.536Z"
   },
   {
    "duration": 317,
    "start_time": "2021-07-03T18:26:36.598Z"
   },
   {
    "duration": 235,
    "start_time": "2021-07-03T18:26:41.212Z"
   },
   {
    "duration": 25,
    "start_time": "2021-07-03T18:26:49.577Z"
   },
   {
    "duration": 28,
    "start_time": "2021-07-03T18:30:54.299Z"
   },
   {
    "duration": 6,
    "start_time": "2021-07-03T18:31:01.453Z"
   },
   {
    "duration": 8,
    "start_time": "2021-07-03T18:31:13.234Z"
   },
   {
    "duration": 277,
    "start_time": "2021-07-03T18:31:45.066Z"
   },
   {
    "duration": 6,
    "start_time": "2021-07-03T18:32:02.889Z"
   },
   {
    "duration": 18,
    "start_time": "2021-07-03T18:32:25.411Z"
   },
   {
    "duration": 40,
    "start_time": "2021-07-03T18:33:06.253Z"
   },
   {
    "duration": 26,
    "start_time": "2021-07-03T18:33:16.100Z"
   },
   {
    "duration": 43,
    "start_time": "2021-07-03T18:33:41.197Z"
   },
   {
    "duration": 39,
    "start_time": "2021-07-03T18:34:08.080Z"
   },
   {
    "duration": 212,
    "start_time": "2021-07-03T18:34:47.562Z"
   },
   {
    "duration": 211,
    "start_time": "2021-07-03T18:34:53.523Z"
   },
   {
    "duration": 41,
    "start_time": "2021-07-03T18:34:57.885Z"
   },
   {
    "duration": 38,
    "start_time": "2021-07-03T18:35:46.934Z"
   },
   {
    "duration": 20,
    "start_time": "2021-07-03T18:36:10.822Z"
   },
   {
    "duration": 207,
    "start_time": "2021-07-03T18:36:15.847Z"
   },
   {
    "duration": 21,
    "start_time": "2021-07-03T18:36:20.954Z"
   },
   {
    "duration": 30,
    "start_time": "2021-07-03T18:36:52.192Z"
   },
   {
    "duration": 38,
    "start_time": "2021-07-03T18:39:13.824Z"
   },
   {
    "duration": 24,
    "start_time": "2021-07-03T18:39:30.312Z"
   },
   {
    "duration": 296,
    "start_time": "2021-07-03T18:41:13.554Z"
   },
   {
    "duration": 30,
    "start_time": "2021-07-03T18:42:13.751Z"
   },
   {
    "duration": 323,
    "start_time": "2021-07-03T18:43:00.043Z"
   },
   {
    "duration": 378,
    "start_time": "2021-07-03T18:43:21.644Z"
   },
   {
    "duration": 100,
    "start_time": "2021-07-03T18:46:02.034Z"
   },
   {
    "duration": 97,
    "start_time": "2021-07-03T18:46:31.714Z"
   },
   {
    "duration": 27,
    "start_time": "2021-07-03T18:46:55.293Z"
   },
   {
    "duration": 15,
    "start_time": "2021-07-03T18:50:30.280Z"
   },
   {
    "duration": 218,
    "start_time": "2021-07-03T18:50:36.391Z"
   },
   {
    "duration": 15,
    "start_time": "2021-07-03T18:50:40.443Z"
   },
   {
    "duration": 25,
    "start_time": "2021-07-03T18:51:25.518Z"
   },
   {
    "duration": 27,
    "start_time": "2021-07-03T18:51:59.604Z"
   },
   {
    "duration": 202,
    "start_time": "2021-07-03T18:54:08.323Z"
   },
   {
    "duration": 44,
    "start_time": "2021-07-03T18:54:30.054Z"
   },
   {
    "duration": 41,
    "start_time": "2021-07-03T18:54:57.537Z"
   },
   {
    "duration": 220,
    "start_time": "2021-07-03T18:55:06.093Z"
   },
   {
    "duration": 46,
    "start_time": "2021-07-03T18:55:15.016Z"
   },
   {
    "duration": 219,
    "start_time": "2021-07-03T19:01:11.272Z"
   },
   {
    "duration": 41,
    "start_time": "2021-07-03T19:01:14.866Z"
   },
   {
    "duration": 28,
    "start_time": "2021-07-03T19:02:25.263Z"
   },
   {
    "duration": 20,
    "start_time": "2021-07-03T19:05:32.731Z"
   },
   {
    "duration": 281,
    "start_time": "2021-07-03T19:06:17.614Z"
   },
   {
    "duration": 326,
    "start_time": "2021-07-03T19:07:03.157Z"
   },
   {
    "duration": 38,
    "start_time": "2021-07-03T19:11:59.270Z"
   },
   {
    "duration": 52,
    "start_time": "2021-07-03T19:12:21.639Z"
   },
   {
    "duration": 39,
    "start_time": "2021-07-03T19:12:38.114Z"
   },
   {
    "duration": 52,
    "start_time": "2021-07-03T19:12:41.804Z"
   },
   {
    "duration": 223,
    "start_time": "2021-07-03T19:12:59.519Z"
   },
   {
    "duration": 42,
    "start_time": "2021-07-03T19:13:04.010Z"
   },
   {
    "duration": 52,
    "start_time": "2021-07-03T19:13:07.339Z"
   },
   {
    "duration": 54,
    "start_time": "2021-07-03T19:14:36.432Z"
   },
   {
    "duration": 78,
    "start_time": "2021-07-03T19:18:57.777Z"
   },
   {
    "duration": 67,
    "start_time": "2021-07-03T19:22:09.476Z"
   },
   {
    "duration": 348,
    "start_time": "2021-07-03T19:23:26.992Z"
   },
   {
    "duration": 77,
    "start_time": "2021-07-03T19:23:42.928Z"
   },
   {
    "duration": 385,
    "start_time": "2021-07-03T19:28:17.962Z"
   },
   {
    "duration": 75,
    "start_time": "2021-07-03T19:28:34.831Z"
   },
   {
    "duration": 386,
    "start_time": "2021-07-03T19:28:47.932Z"
   },
   {
    "duration": 340,
    "start_time": "2021-07-03T19:29:15.201Z"
   },
   {
    "duration": 354,
    "start_time": "2021-07-03T19:29:37.707Z"
   },
   {
    "duration": 67,
    "start_time": "2021-07-03T19:30:12.216Z"
   },
   {
    "duration": 66,
    "start_time": "2021-07-03T19:30:36.140Z"
   },
   {
    "duration": 65,
    "start_time": "2021-07-03T19:32:24.860Z"
   },
   {
    "duration": 64,
    "start_time": "2021-07-03T19:32:37.814Z"
   },
   {
    "duration": 64,
    "start_time": "2021-07-03T19:32:46.344Z"
   },
   {
    "duration": 64,
    "start_time": "2021-07-03T19:33:24.327Z"
   },
   {
    "duration": 65,
    "start_time": "2021-07-03T19:34:04.732Z"
   },
   {
    "duration": 65,
    "start_time": "2021-07-03T19:34:15.732Z"
   },
   {
    "duration": 87,
    "start_time": "2021-07-03T20:05:22.826Z"
   },
   {
    "duration": 364,
    "start_time": "2021-07-03T20:07:41.234Z"
   },
   {
    "duration": 340,
    "start_time": "2021-07-03T20:46:48.336Z"
   },
   {
    "duration": 74,
    "start_time": "2021-07-03T20:47:34.308Z"
   },
   {
    "duration": 94,
    "start_time": "2021-07-03T20:55:00.240Z"
   },
   {
    "duration": 74,
    "start_time": "2021-07-03T21:00:44.274Z"
   },
   {
    "duration": 5148,
    "start_time": "2021-07-03T21:03:35.515Z"
   },
   {
    "duration": 85,
    "start_time": "2021-07-03T21:09:22.929Z"
   },
   {
    "duration": 81,
    "start_time": "2021-07-03T21:10:05.501Z"
   },
   {
    "duration": 87,
    "start_time": "2021-07-03T21:11:42.276Z"
   },
   {
    "duration": 78,
    "start_time": "2021-07-03T21:13:09.526Z"
   },
   {
    "duration": 94,
    "start_time": "2021-07-03T21:13:27.139Z"
   },
   {
    "duration": 81,
    "start_time": "2021-07-03T21:14:03.850Z"
   },
   {
    "duration": 142,
    "start_time": "2021-07-03T21:14:27.217Z"
   },
   {
    "duration": 238,
    "start_time": "2021-07-03T21:14:30.809Z"
   },
   {
    "duration": 42,
    "start_time": "2021-07-03T21:14:34.736Z"
   },
   {
    "duration": 78,
    "start_time": "2021-07-03T21:14:52.230Z"
   },
   {
    "duration": 620,
    "start_time": "2021-07-04T00:20:51.456Z"
   },
   {
    "duration": 218,
    "start_time": "2021-07-04T00:20:54.152Z"
   },
   {
    "duration": 27,
    "start_time": "2021-07-04T00:20:59.383Z"
   },
   {
    "duration": 52,
    "start_time": "2021-07-04T00:21:06.499Z"
   },
   {
    "duration": 54,
    "start_time": "2021-07-04T00:24:51.737Z"
   },
   {
    "duration": 445,
    "start_time": "2021-07-04T00:25:47.108Z"
   },
   {
    "duration": 325,
    "start_time": "2021-07-04T00:25:56.384Z"
   },
   {
    "duration": 51,
    "start_time": "2021-07-04T00:26:05.305Z"
   },
   {
    "duration": 48,
    "start_time": "2021-07-04T00:26:33.625Z"
   },
   {
    "duration": 45,
    "start_time": "2021-07-04T00:27:33.269Z"
   },
   {
    "duration": 45,
    "start_time": "2021-07-04T00:31:04.616Z"
   },
   {
    "duration": 91,
    "start_time": "2021-07-04T00:47:19.579Z"
   },
   {
    "duration": 138,
    "start_time": "2021-07-04T00:47:23.426Z"
   },
   {
    "duration": 26,
    "start_time": "2021-07-04T00:47:29.472Z"
   },
   {
    "duration": 34,
    "start_time": "2021-07-04T00:48:29.157Z"
   },
   {
    "duration": 34,
    "start_time": "2021-07-04T00:54:33.326Z"
   },
   {
    "duration": 275,
    "start_time": "2021-07-04T00:58:46.694Z"
   },
   {
    "duration": 38,
    "start_time": "2021-07-04T00:59:16.309Z"
   },
   {
    "duration": 37,
    "start_time": "2021-07-04T00:59:37.843Z"
   },
   {
    "duration": 32,
    "start_time": "2021-07-04T01:03:04.827Z"
   },
   {
    "duration": 24,
    "start_time": "2021-07-04T01:06:35.594Z"
   },
   {
    "duration": 24,
    "start_time": "2021-07-04T01:07:00.084Z"
   },
   {
    "duration": 106,
    "start_time": "2021-07-04T01:07:18.797Z"
   },
   {
    "duration": 25,
    "start_time": "2021-07-04T01:07:22.930Z"
   },
   {
    "duration": 94,
    "start_time": "2021-07-04T01:07:37.221Z"
   },
   {
    "duration": 137,
    "start_time": "2021-07-04T01:07:42.724Z"
   },
   {
    "duration": 27,
    "start_time": "2021-07-04T01:07:47.802Z"
   },
   {
    "duration": 23,
    "start_time": "2021-07-04T01:07:50.972Z"
   },
   {
    "duration": 37,
    "start_time": "2021-07-04T01:08:25.562Z"
   },
   {
    "duration": 287,
    "start_time": "2021-07-04T01:12:45.653Z"
   },
   {
    "duration": 627,
    "start_time": "2021-07-04T01:13:15.166Z"
   },
   {
    "duration": 38,
    "start_time": "2021-07-04T01:14:20.928Z"
   },
   {
    "duration": 39,
    "start_time": "2021-07-04T01:14:29.666Z"
   },
   {
    "duration": 54,
    "start_time": "2021-07-04T01:15:09.972Z"
   },
   {
    "duration": 53,
    "start_time": "2021-07-04T01:16:28.021Z"
   },
   {
    "duration": 44,
    "start_time": "2021-07-04T01:23:15.358Z"
   },
   {
    "duration": 46,
    "start_time": "2021-07-04T01:24:26.161Z"
   },
   {
    "duration": 63,
    "start_time": "2021-07-04T01:25:11.018Z"
   },
   {
    "duration": 56,
    "start_time": "2021-07-04T01:25:18.995Z"
   },
   {
    "duration": 6235,
    "start_time": "2021-07-04T01:27:45.181Z"
   },
   {
    "duration": 43,
    "start_time": "2021-07-04T01:28:03.924Z"
   },
   {
    "duration": 27,
    "start_time": "2021-07-04T01:28:16.594Z"
   },
   {
    "duration": 42,
    "start_time": "2021-07-04T01:28:22.573Z"
   },
   {
    "duration": 89,
    "start_time": "2021-07-04T01:28:34.476Z"
   },
   {
    "duration": 133,
    "start_time": "2021-07-04T01:28:38.798Z"
   },
   {
    "duration": 26,
    "start_time": "2021-07-04T01:28:42.802Z"
   },
   {
    "duration": 40,
    "start_time": "2021-07-04T01:28:45.741Z"
   },
   {
    "duration": 51,
    "start_time": "2021-07-04T01:30:36.575Z"
   },
   {
    "duration": 86,
    "start_time": "2021-07-04T01:31:15.696Z"
   },
   {
    "duration": 143,
    "start_time": "2021-07-04T01:31:19.513Z"
   },
   {
    "duration": 26,
    "start_time": "2021-07-04T01:31:23.675Z"
   },
   {
    "duration": 49,
    "start_time": "2021-07-04T01:31:27.430Z"
   },
   {
    "duration": 61,
    "start_time": "2021-07-04T01:34:54.563Z"
   },
   {
    "duration": 51,
    "start_time": "2021-07-04T01:35:31.692Z"
   },
   {
    "duration": 51,
    "start_time": "2021-07-04T01:36:34.758Z"
   },
   {
    "duration": 43,
    "start_time": "2021-07-04T01:45:53.074Z"
   },
   {
    "duration": 84,
    "start_time": "2021-07-04T01:49:50.887Z"
   },
   {
    "duration": 47,
    "start_time": "2021-07-04T01:49:55.372Z"
   },
   {
    "duration": 50,
    "start_time": "2021-07-04T01:59:16.455Z"
   },
   {
    "duration": 52,
    "start_time": "2021-07-04T01:59:42.743Z"
   },
   {
    "duration": 72,
    "start_time": "2021-07-04T02:03:04.017Z"
   },
   {
    "duration": 82,
    "start_time": "2021-07-04T02:03:58.603Z"
   },
   {
    "duration": 90,
    "start_time": "2021-07-04T02:04:18.008Z"
   },
   {
    "duration": 136,
    "start_time": "2021-07-04T02:04:22.115Z"
   },
   {
    "duration": 26,
    "start_time": "2021-07-04T02:04:26.923Z"
   },
   {
    "duration": 90,
    "start_time": "2021-07-04T02:04:29.762Z"
   },
   {
    "duration": 139,
    "start_time": "2021-07-04T02:09:13.157Z"
   },
   {
    "duration": 93,
    "start_time": "2021-07-04T02:09:30.937Z"
   },
   {
    "duration": 136,
    "start_time": "2021-07-04T02:09:51.744Z"
   },
   {
    "duration": 143,
    "start_time": "2021-07-04T02:11:12.403Z"
   },
   {
    "duration": 137,
    "start_time": "2021-07-04T02:11:24.641Z"
   },
   {
    "duration": 26,
    "start_time": "2021-07-04T02:11:33.258Z"
   },
   {
    "duration": 88,
    "start_time": "2021-07-04T02:11:36.444Z"
   },
   {
    "duration": 899,
    "start_time": "2021-07-04T15:17:03.688Z"
   },
   {
    "duration": 136,
    "start_time": "2021-07-04T15:17:11.535Z"
   },
   {
    "duration": 229,
    "start_time": "2021-07-04T15:17:15.241Z"
   },
   {
    "duration": 44,
    "start_time": "2021-07-04T15:17:20.390Z"
   },
   {
    "duration": 150,
    "start_time": "2021-07-04T15:17:24.595Z"
   },
   {
    "duration": 142,
    "start_time": "2021-07-04T15:27:54.684Z"
   },
   {
    "duration": 232,
    "start_time": "2021-07-04T15:27:58.529Z"
   },
   {
    "duration": 42,
    "start_time": "2021-07-04T15:28:02.748Z"
   },
   {
    "duration": 175,
    "start_time": "2021-07-04T15:28:05.628Z"
   },
   {
    "duration": 169,
    "start_time": "2021-07-04T15:30:32.628Z"
   },
   {
    "duration": 236,
    "start_time": "2021-07-04T15:30:44.330Z"
   },
   {
    "duration": 42,
    "start_time": "2021-07-04T15:30:48.635Z"
   },
   {
    "duration": 177,
    "start_time": "2021-07-04T15:30:58.327Z"
   },
   {
    "duration": 42,
    "start_time": "2021-07-04T15:38:34.875Z"
   },
   {
    "duration": 145,
    "start_time": "2021-07-04T15:38:38.479Z"
   },
   {
    "duration": 365,
    "start_time": "2021-07-04T15:38:44.650Z"
   },
   {
    "duration": 58,
    "start_time": "2021-07-04T15:38:49.392Z"
   },
   {
    "duration": 269,
    "start_time": "2021-07-04T15:38:52.571Z"
   },
   {
    "duration": 236,
    "start_time": "2021-07-04T15:39:53.445Z"
   },
   {
    "duration": 377,
    "start_time": "2021-07-04T15:40:02.998Z"
   },
   {
    "duration": 64,
    "start_time": "2021-07-04T15:40:07.613Z"
   },
   {
    "duration": 281,
    "start_time": "2021-07-04T15:40:12.183Z"
   },
   {
    "duration": 273,
    "start_time": "2021-07-04T15:40:57.072Z"
   },
   {
    "duration": 59,
    "start_time": "2021-07-04T15:41:00.896Z"
   },
   {
    "duration": 264,
    "start_time": "2021-07-04T15:41:03.264Z"
   },
   {
    "duration": 1190,
    "start_time": "2021-07-04T15:44:40.880Z"
   },
   {
    "duration": 216,
    "start_time": "2021-07-04T15:44:57.820Z"
   },
   {
    "duration": 258,
    "start_time": "2021-07-04T15:52:47.860Z"
   },
   {
    "duration": 41,
    "start_time": "2021-07-04T15:52:52.048Z"
   },
   {
    "duration": 168,
    "start_time": "2021-07-04T15:52:54.548Z"
   },
   {
    "duration": 236,
    "start_time": "2021-07-04T16:04:50.478Z"
   },
   {
    "duration": 59,
    "start_time": "2021-07-04T16:04:57.531Z"
   },
   {
    "duration": 274,
    "start_time": "2021-07-04T16:05:00.773Z"
   },
   {
    "duration": 1651,
    "start_time": "2021-07-04T17:01:27.376Z"
   },
   {
    "duration": 1084,
    "start_time": "2021-07-04T17:01:45.604Z"
   },
   {
    "duration": 3180,
    "start_time": "2021-07-04T17:02:27.382Z"
   },
   {
    "duration": 1206,
    "start_time": "2021-07-04T17:24:08.426Z"
   },
   {
    "duration": 656,
    "start_time": "2021-07-04T17:24:55.909Z"
   },
   {
    "duration": 1026,
    "start_time": "2021-07-04T18:22:03.083Z"
   },
   {
    "duration": 687,
    "start_time": "2021-07-04T18:22:28.748Z"
   },
   {
    "duration": 891,
    "start_time": "2021-07-04T18:24:21.617Z"
   },
   {
    "duration": 959,
    "start_time": "2021-07-04T18:24:39.354Z"
   },
   {
    "duration": 1828,
    "start_time": "2021-07-04T19:05:26.585Z"
   },
   {
    "duration": 4931,
    "start_time": "2021-07-04T19:05:37.617Z"
   },
   {
    "duration": 1207,
    "start_time": "2021-07-04T19:06:07.890Z"
   },
   {
    "duration": 1304,
    "start_time": "2021-07-04T19:06:49.709Z"
   },
   {
    "duration": 2096,
    "start_time": "2021-07-04T19:08:46.618Z"
   },
   {
    "duration": 2433,
    "start_time": "2021-07-04T19:08:56.390Z"
   },
   {
    "duration": 177,
    "start_time": "2021-07-04T19:10:42.229Z"
   },
   {
    "duration": 245,
    "start_time": "2021-07-04T19:10:48.335Z"
   },
   {
    "duration": 48,
    "start_time": "2021-07-04T19:10:52.344Z"
   },
   {
    "duration": 182,
    "start_time": "2021-07-04T19:10:57.651Z"
   },
   {
    "duration": 926,
    "start_time": "2021-07-04T19:11:27.140Z"
   },
   {
    "duration": 2150,
    "start_time": "2021-07-04T19:12:05.751Z"
   },
   {
    "duration": 2123,
    "start_time": "2021-07-04T19:13:48.966Z"
   },
   {
    "duration": 2130,
    "start_time": "2021-07-04T19:19:03.058Z"
   },
   {
    "duration": 718,
    "start_time": "2021-07-04T19:32:51.569Z"
   },
   {
    "duration": 116,
    "start_time": "2021-07-04T19:33:16.342Z"
   },
   {
    "duration": 129,
    "start_time": "2021-07-04T19:33:26.150Z"
   },
   {
    "duration": 145,
    "start_time": "2021-07-04T19:34:04.368Z"
   },
   {
    "duration": 256,
    "start_time": "2021-07-04T19:34:07.786Z"
   },
   {
    "duration": 54,
    "start_time": "2021-07-04T19:34:11.479Z"
   },
   {
    "duration": 194,
    "start_time": "2021-07-04T19:34:14.102Z"
   },
   {
    "duration": 116,
    "start_time": "2021-07-04T19:34:19.821Z"
   },
   {
    "duration": 981,
    "start_time": "2021-07-04T19:34:39.789Z"
   },
   {
    "duration": 1060,
    "start_time": "2021-07-04T19:36:00.208Z"
   },
   {
    "duration": 11089,
    "start_time": "2021-07-04T19:36:17.801Z"
   },
   {
    "duration": 717,
    "start_time": "2021-07-04T19:39:26.129Z"
   },
   {
    "duration": 895,
    "start_time": "2021-07-04T19:41:41.506Z"
   },
   {
    "duration": 697,
    "start_time": "2021-07-04T19:42:12.952Z"
   },
   {
    "duration": 2393,
    "start_time": "2021-07-04T19:42:29.690Z"
   },
   {
    "duration": 2334,
    "start_time": "2021-07-04T19:43:00.056Z"
   },
   {
    "duration": 4078,
    "start_time": "2021-07-04T19:43:12.363Z"
   },
   {
    "duration": 2128,
    "start_time": "2021-07-04T19:43:38.642Z"
   },
   {
    "duration": 2246,
    "start_time": "2021-07-04T19:46:14.363Z"
   },
   {
    "duration": 2170,
    "start_time": "2021-07-04T19:47:23.190Z"
   },
   {
    "duration": 2400,
    "start_time": "2021-07-04T19:49:04.513Z"
   },
   {
    "duration": 5270,
    "start_time": "2021-07-04T19:54:14.005Z"
   },
   {
    "duration": 3520,
    "start_time": "2021-07-04T19:54:25.827Z"
   },
   {
    "duration": 9109,
    "start_time": "2021-07-04T19:57:39.301Z"
   },
   {
    "duration": 10123,
    "start_time": "2021-07-04T20:42:57.631Z"
   },
   {
    "duration": 13391,
    "start_time": "2021-07-04T21:06:41.124Z"
   },
   {
    "duration": 13548,
    "start_time": "2021-07-04T21:07:28.469Z"
   },
   {
    "duration": 8969,
    "start_time": "2021-07-04T21:08:51.569Z"
   },
   {
    "duration": 8396,
    "start_time": "2021-07-04T21:20:48.725Z"
   },
   {
    "duration": 8360,
    "start_time": "2021-07-04T21:21:14.765Z"
   },
   {
    "duration": 9082,
    "start_time": "2021-07-04T21:22:53.166Z"
   },
   {
    "duration": 14526,
    "start_time": "2021-07-04T21:26:28.198Z"
   },
   {
    "duration": 14474,
    "start_time": "2021-07-04T21:27:06.217Z"
   },
   {
    "duration": 9151,
    "start_time": "2021-07-04T21:27:48.903Z"
   },
   {
    "duration": 4,
    "start_time": "2021-07-04T21:42:30.215Z"
   },
   {
    "duration": 41,
    "start_time": "2021-07-04T21:54:02.931Z"
   },
   {
    "duration": 6,
    "start_time": "2021-07-04T22:03:28.544Z"
   },
   {
    "duration": 4,
    "start_time": "2021-07-04T22:04:14.524Z"
   },
   {
    "duration": 14,
    "start_time": "2021-07-04T22:04:22.482Z"
   },
   {
    "duration": 99,
    "start_time": "2021-07-04T22:04:48.727Z"
   },
   {
    "duration": 340,
    "start_time": "2021-07-04T22:04:53.459Z"
   },
   {
    "duration": 377,
    "start_time": "2021-07-04T22:10:49.302Z"
   },
   {
    "duration": 200,
    "start_time": "2021-07-04T22:11:08.139Z"
   },
   {
    "duration": 25,
    "start_time": "2021-07-04T22:11:20.891Z"
   },
   {
    "duration": 27,
    "start_time": "2021-07-04T22:13:45.144Z"
   },
   {
    "duration": 26,
    "start_time": "2021-07-04T22:13:58.914Z"
   },
   {
    "duration": 942,
    "start_time": "2021-07-05T15:28:48.441Z"
   },
   {
    "duration": 223,
    "start_time": "2021-07-05T15:28:53.636Z"
   },
   {
    "duration": 43,
    "start_time": "2021-07-05T15:28:58.006Z"
   },
   {
    "duration": 178,
    "start_time": "2021-07-05T15:29:00.763Z"
   },
   {
    "duration": 4078,
    "start_time": "2021-07-05T15:29:11.160Z"
   },
   {
    "duration": 9069,
    "start_time": "2021-07-05T15:29:55.099Z"
   },
   {
    "duration": 31,
    "start_time": "2021-07-05T15:31:53.357Z"
   },
   {
    "duration": 31,
    "start_time": "2021-07-05T15:32:23.485Z"
   },
   {
    "duration": 28,
    "start_time": "2021-07-05T15:34:56.919Z"
   },
   {
    "duration": 6,
    "start_time": "2021-07-05T15:37:04.198Z"
   },
   {
    "duration": 6,
    "start_time": "2021-07-05T15:38:41.723Z"
   },
   {
    "duration": 8841,
    "start_time": "2021-07-05T15:44:40.486Z"
   },
   {
    "duration": 9335,
    "start_time": "2021-07-05T16:09:57.023Z"
   },
   {
    "duration": 9,
    "start_time": "2021-07-05T16:10:33.869Z"
   },
   {
    "duration": 9186,
    "start_time": "2021-07-05T16:16:20.873Z"
   },
   {
    "duration": 8760,
    "start_time": "2021-07-05T16:21:11.472Z"
   },
   {
    "duration": 33,
    "start_time": "2021-07-05T16:22:47.733Z"
   },
   {
    "duration": 9198,
    "start_time": "2021-07-05T16:24:05.134Z"
   },
   {
    "duration": 40,
    "start_time": "2021-07-05T16:24:14.335Z"
   },
   {
    "duration": 9248,
    "start_time": "2021-07-05T16:25:32.519Z"
   },
   {
    "duration": 28,
    "start_time": "2021-07-05T16:29:21.125Z"
   },
   {
    "duration": 373,
    "start_time": "2021-07-05T16:31:30.641Z"
   },
   {
    "duration": 340,
    "start_time": "2021-07-05T16:31:50.330Z"
   },
   {
    "duration": 385,
    "start_time": "2021-07-05T16:32:12.627Z"
   },
   {
    "duration": 8173,
    "start_time": "2021-07-05T16:32:45.619Z"
   },
   {
    "duration": 28,
    "start_time": "2021-07-05T16:33:06.116Z"
   },
   {
    "duration": 109,
    "start_time": "2021-07-05T16:38:12.437Z"
   },
   {
    "duration": 70,
    "start_time": "2021-07-05T16:38:17.246Z"
   },
   {
    "duration": 81,
    "start_time": "2021-07-05T16:39:36.172Z"
   },
   {
    "duration": 61,
    "start_time": "2021-07-05T16:40:25.867Z"
   },
   {
    "duration": 326,
    "start_time": "2021-07-05T16:41:09.749Z"
   },
   {
    "duration": 45,
    "start_time": "2021-07-05T16:41:17.799Z"
   },
   {
    "duration": 59,
    "start_time": "2021-07-05T16:44:10.016Z"
   },
   {
    "duration": 45,
    "start_time": "2021-07-05T16:44:22.580Z"
   },
   {
    "duration": 51,
    "start_time": "2021-07-05T16:44:54.387Z"
   },
   {
    "duration": 50,
    "start_time": "2021-07-05T16:45:20.581Z"
   },
   {
    "duration": 53,
    "start_time": "2021-07-05T16:45:33.881Z"
   },
   {
    "duration": 438,
    "start_time": "2021-07-05T17:42:43.657Z"
   },
   {
    "duration": 41,
    "start_time": "2021-07-05T17:43:22.955Z"
   },
   {
    "duration": 42,
    "start_time": "2021-07-05T17:44:52.238Z"
   },
   {
    "duration": 322,
    "start_time": "2021-07-05T17:45:02.050Z"
   },
   {
    "duration": 43,
    "start_time": "2021-07-05T17:45:12.575Z"
   },
   {
    "duration": 31,
    "start_time": "2021-07-05T17:45:33.400Z"
   },
   {
    "duration": 143,
    "start_time": "2021-07-05T17:50:03.555Z"
   },
   {
    "duration": 116,
    "start_time": "2021-07-05T17:50:11.972Z"
   },
   {
    "duration": 123,
    "start_time": "2021-07-05T17:50:33.713Z"
   },
   {
    "duration": 39,
    "start_time": "2021-07-05T17:50:48.476Z"
   },
   {
    "duration": 43,
    "start_time": "2021-07-05T18:42:34.900Z"
   },
   {
    "duration": 35,
    "start_time": "2021-07-05T18:43:22.905Z"
   },
   {
    "duration": 342,
    "start_time": "2021-07-05T18:44:38.400Z"
   },
   {
    "duration": 37,
    "start_time": "2021-07-05T18:44:47.653Z"
   },
   {
    "duration": 66,
    "start_time": "2021-07-05T18:45:34.178Z"
   },
   {
    "duration": 43,
    "start_time": "2021-07-05T18:45:49.429Z"
   },
   {
    "duration": 36,
    "start_time": "2021-07-05T18:46:01.474Z"
   },
   {
    "duration": 32,
    "start_time": "2021-07-05T18:46:44.017Z"
   },
   {
    "duration": 27,
    "start_time": "2021-07-05T18:47:23.888Z"
   },
   {
    "duration": 31,
    "start_time": "2021-07-05T18:48:33.793Z"
   },
   {
    "duration": 31,
    "start_time": "2021-07-05T18:50:05.954Z"
   },
   {
    "duration": 9025,
    "start_time": "2021-07-05T18:53:50.716Z"
   },
   {
    "duration": 9130,
    "start_time": "2021-07-05T18:54:14.010Z"
   },
   {
    "duration": 5699,
    "start_time": "2021-07-05T18:55:52.869Z"
   },
   {
    "duration": 8907,
    "start_time": "2021-07-05T18:56:56.000Z"
   },
   {
    "duration": 9650,
    "start_time": "2021-07-05T18:57:31.154Z"
   },
   {
    "duration": 15147,
    "start_time": "2021-07-05T19:00:30.084Z"
   },
   {
    "duration": 8376,
    "start_time": "2021-07-05T19:03:15.035Z"
   },
   {
    "duration": 5136,
    "start_time": "2021-07-05T19:04:12.599Z"
   },
   {
    "duration": 9016,
    "start_time": "2021-07-05T19:05:32.906Z"
   },
   {
    "duration": 26,
    "start_time": "2021-07-05T19:05:54.599Z"
   },
   {
    "duration": 28,
    "start_time": "2021-07-05T19:05:56.549Z"
   },
   {
    "duration": 29,
    "start_time": "2021-07-05T19:05:58.469Z"
   },
   {
    "duration": 28,
    "start_time": "2021-07-05T19:06:00.274Z"
   },
   {
    "duration": 9125,
    "start_time": "2021-07-05T19:09:37.908Z"
   },
   {
    "duration": 9204,
    "start_time": "2021-07-05T19:10:20.338Z"
   },
   {
    "duration": 28,
    "start_time": "2021-07-05T19:10:54.692Z"
   },
   {
    "duration": 30,
    "start_time": "2021-07-05T19:10:57.358Z"
   },
   {
    "duration": 29,
    "start_time": "2021-07-05T19:11:00.779Z"
   },
   {
    "duration": 28,
    "start_time": "2021-07-05T19:11:04.725Z"
   },
   {
    "duration": 6474,
    "start_time": "2021-07-05T19:19:58.409Z"
   },
   {
    "duration": 9194,
    "start_time": "2021-07-05T19:24:00.723Z"
   },
   {
    "duration": 6761,
    "start_time": "2021-07-05T19:26:06.051Z"
   },
   {
    "duration": 9543,
    "start_time": "2021-07-05T19:26:47.716Z"
   },
   {
    "duration": 449,
    "start_time": "2021-07-05T19:38:36.248Z"
   },
   {
    "duration": 459,
    "start_time": "2021-07-05T19:39:02.396Z"
   },
   {
    "duration": 403,
    "start_time": "2021-07-05T19:39:19.679Z"
   },
   {
    "duration": 458,
    "start_time": "2021-07-05T19:40:36.079Z"
   },
   {
    "duration": 91,
    "start_time": "2021-07-05T19:41:15.240Z"
   },
   {
    "duration": 91,
    "start_time": "2021-07-05T19:41:35.867Z"
   },
   {
    "duration": 89,
    "start_time": "2021-07-05T19:42:52.824Z"
   },
   {
    "duration": 149,
    "start_time": "2021-07-05T19:45:48.795Z"
   },
   {
    "duration": 154,
    "start_time": "2021-07-05T19:56:03.615Z"
   },
   {
    "duration": 151,
    "start_time": "2021-07-05T19:56:51.287Z"
   },
   {
    "duration": 144,
    "start_time": "2021-07-05T19:57:23.151Z"
   },
   {
    "duration": 145,
    "start_time": "2021-07-05T20:07:44.538Z"
   },
   {
    "duration": 222,
    "start_time": "2021-07-05T20:07:55.604Z"
   },
   {
    "duration": 152,
    "start_time": "2021-07-05T20:12:37.385Z"
   },
   {
    "duration": 238,
    "start_time": "2021-07-05T20:39:54.135Z"
   },
   {
    "duration": 224,
    "start_time": "2021-07-05T20:40:52.729Z"
   },
   {
    "duration": 225,
    "start_time": "2021-07-05T20:42:25.707Z"
   },
   {
    "duration": 219,
    "start_time": "2021-07-05T20:43:18.828Z"
   },
   {
    "duration": 228,
    "start_time": "2021-07-05T20:44:17.469Z"
   },
   {
    "duration": 324,
    "start_time": "2021-07-05T20:46:32.479Z"
   },
   {
    "duration": 144,
    "start_time": "2021-07-05T20:47:55.823Z"
   },
   {
    "duration": 383,
    "start_time": "2021-07-05T20:48:39.205Z"
   },
   {
    "duration": 224,
    "start_time": "2021-07-05T20:51:34.353Z"
   },
   {
    "duration": 157,
    "start_time": "2021-07-05T21:15:27.099Z"
   },
   {
    "duration": 281,
    "start_time": "2021-07-05T21:16:02.012Z"
   },
   {
    "duration": 174,
    "start_time": "2021-07-05T21:18:02.306Z"
   },
   {
    "duration": 25,
    "start_time": "2021-07-05T21:42:47.079Z"
   },
   {
    "duration": 151,
    "start_time": "2021-07-05T21:49:36.081Z"
   },
   {
    "duration": 176,
    "start_time": "2021-07-05T21:49:40.947Z"
   },
   {
    "duration": 25,
    "start_time": "2021-07-05T21:49:47.057Z"
   },
   {
    "duration": 170,
    "start_time": "2021-07-05T21:49:50.944Z"
   },
   {
    "duration": 154,
    "start_time": "2021-07-05T21:51:38.699Z"
   },
   {
    "duration": 187,
    "start_time": "2021-07-05T21:51:45.080Z"
   },
   {
    "duration": 25,
    "start_time": "2021-07-05T21:51:51.403Z"
   },
   {
    "duration": 177,
    "start_time": "2021-07-05T21:51:55.044Z"
   },
   {
    "duration": 26,
    "start_time": "2021-07-05T21:53:36.321Z"
   },
   {
    "duration": 154,
    "start_time": "2021-07-05T21:53:38.645Z"
   },
   {
    "duration": 188,
    "start_time": "2021-07-05T21:53:45.938Z"
   },
   {
    "duration": 26,
    "start_time": "2021-07-05T21:53:50.348Z"
   },
   {
    "duration": 171,
    "start_time": "2021-07-05T21:53:53.056Z"
   },
   {
    "duration": 1224,
    "start_time": "2021-07-06T00:46:12.551Z"
   },
   {
    "duration": 113,
    "start_time": "2021-07-06T00:46:18.163Z"
   },
   {
    "duration": 19,
    "start_time": "2021-07-06T00:46:22.954Z"
   },
   {
    "duration": 109,
    "start_time": "2021-07-06T00:46:44.582Z"
   },
   {
    "duration": 17,
    "start_time": "2021-07-06T01:31:44.370Z"
   },
   {
    "duration": 6177,
    "start_time": "2021-07-06T01:35:00.402Z"
   },
   {
    "duration": 4786,
    "start_time": "2021-07-06T01:35:37.031Z"
   },
   {
    "duration": 4819,
    "start_time": "2021-07-06T01:37:09.684Z"
   },
   {
    "duration": 4723,
    "start_time": "2021-07-06T01:37:37.394Z"
   },
   {
    "duration": 4751,
    "start_time": "2021-07-06T01:39:05.157Z"
   },
   {
    "duration": 4851,
    "start_time": "2021-07-06T01:39:20.694Z"
   },
   {
    "duration": 3161,
    "start_time": "2021-07-06T01:42:49.994Z"
   },
   {
    "duration": 4860,
    "start_time": "2021-07-06T01:43:31.880Z"
   },
   {
    "duration": 3301,
    "start_time": "2021-07-06T01:44:01.127Z"
   },
   {
    "duration": 6101,
    "start_time": "2021-07-06T01:58:03.284Z"
   },
   {
    "duration": 5878,
    "start_time": "2021-07-06T02:01:34.847Z"
   },
   {
    "duration": 5902,
    "start_time": "2021-07-06T02:04:51.094Z"
   },
   {
    "duration": 6016,
    "start_time": "2021-07-06T02:05:41.670Z"
   },
   {
    "duration": 5879,
    "start_time": "2021-07-06T02:09:56.189Z"
   },
   {
    "duration": 5952,
    "start_time": "2021-07-06T02:10:27.645Z"
   },
   {
    "duration": 26,
    "start_time": "2021-07-06T03:01:41.416Z"
   },
   {
    "duration": 25,
    "start_time": "2021-07-06T03:02:45.963Z"
   },
   {
    "duration": 22,
    "start_time": "2021-07-06T03:03:05.968Z"
   },
   {
    "duration": 23,
    "start_time": "2021-07-06T03:03:52.138Z"
   },
   {
    "duration": 288,
    "start_time": "2021-07-06T03:05:36.946Z"
   },
   {
    "duration": 19,
    "start_time": "2021-07-06T03:05:46.123Z"
   },
   {
    "duration": 198,
    "start_time": "2021-07-06T03:06:58.328Z"
   },
   {
    "duration": 152,
    "start_time": "2021-07-06T03:08:49.297Z"
   },
   {
    "duration": 20,
    "start_time": "2021-07-06T03:10:20.849Z"
   },
   {
    "duration": 215,
    "start_time": "2021-07-06T03:15:44.303Z"
   },
   {
    "duration": 205,
    "start_time": "2021-07-06T03:15:56.489Z"
   },
   {
    "duration": 24,
    "start_time": "2021-07-06T03:17:04.857Z"
   },
   {
    "duration": 279,
    "start_time": "2021-07-06T03:17:16.427Z"
   },
   {
    "duration": 215,
    "start_time": "2021-07-06T03:17:42.959Z"
   },
   {
    "duration": 105,
    "start_time": "2021-07-06T03:17:57.491Z"
   },
   {
    "duration": 120,
    "start_time": "2021-07-06T03:18:01.566Z"
   },
   {
    "duration": 18,
    "start_time": "2021-07-06T03:18:06.200Z"
   },
   {
    "duration": 107,
    "start_time": "2021-07-06T03:18:11.899Z"
   },
   {
    "duration": 5978,
    "start_time": "2021-07-06T03:18:25.720Z"
   },
   {
    "duration": 329,
    "start_time": "2021-07-06T03:18:36.595Z"
   },
   {
    "duration": 199,
    "start_time": "2021-07-06T03:19:39.509Z"
   },
   {
    "duration": 182,
    "start_time": "2021-07-06T03:19:46.940Z"
   },
   {
    "duration": 208,
    "start_time": "2021-07-06T03:20:02.643Z"
   },
   {
    "duration": 1512,
    "start_time": "2021-07-06T03:21:52.469Z"
   },
   {
    "duration": 199,
    "start_time": "2021-07-06T03:22:48.755Z"
   },
   {
    "duration": 1545,
    "start_time": "2021-07-06T03:23:00.807Z"
   },
   {
    "duration": 198,
    "start_time": "2021-07-06T03:24:13.027Z"
   },
   {
    "duration": 1544,
    "start_time": "2021-07-06T03:24:25.740Z"
   },
   {
    "duration": 193,
    "start_time": "2021-07-06T03:25:41.435Z"
   },
   {
    "duration": 16,
    "start_time": "2021-07-06T03:25:48.054Z"
   },
   {
    "duration": 16,
    "start_time": "2021-07-06T03:26:27.613Z"
   },
   {
    "duration": 16,
    "start_time": "2021-07-06T03:27:43.793Z"
   },
   {
    "duration": 20,
    "start_time": "2021-07-06T03:28:31.319Z"
   },
   {
    "duration": 185,
    "start_time": "2021-07-06T03:29:46.844Z"
   },
   {
    "duration": 325,
    "start_time": "2021-07-06T03:29:58.708Z"
   },
   {
    "duration": 192,
    "start_time": "2021-07-06T03:34:04.540Z"
   },
   {
    "duration": 140,
    "start_time": "2021-07-06T03:34:09.763Z"
   },
   {
    "duration": 22,
    "start_time": "2021-07-06T03:34:22.929Z"
   },
   {
    "duration": 1251,
    "start_time": "2021-07-07T16:00:44.013Z"
   },
   {
    "duration": 110,
    "start_time": "2021-07-07T16:00:52.725Z"
   },
   {
    "duration": 18,
    "start_time": "2021-07-07T16:00:59.041Z"
   },
   {
    "duration": 100,
    "start_time": "2021-07-07T16:01:01.902Z"
   },
   {
    "duration": 7011,
    "start_time": "2021-07-07T16:01:07.697Z"
   },
   {
    "duration": 31,
    "start_time": "2021-07-07T16:17:44.917Z"
   },
   {
    "duration": 16,
    "start_time": "2021-07-07T16:18:29.825Z"
   },
   {
    "duration": 16,
    "start_time": "2021-07-07T16:19:07.402Z"
   },
   {
    "duration": 355,
    "start_time": "2021-07-07T16:20:23.843Z"
   },
   {
    "duration": 289,
    "start_time": "2021-07-07T16:23:01.537Z"
   },
   {
    "duration": 14,
    "start_time": "2021-07-07T16:23:14.861Z"
   },
   {
    "duration": 15,
    "start_time": "2021-07-07T16:25:36.157Z"
   },
   {
    "duration": 21,
    "start_time": "2021-07-07T16:26:08.843Z"
   },
   {
    "duration": 271,
    "start_time": "2021-07-07T16:27:51.273Z"
   },
   {
    "duration": 316,
    "start_time": "2021-07-07T16:28:11.891Z"
   },
   {
    "duration": 5857,
    "start_time": "2021-07-07T16:28:44.278Z"
   },
   {
    "duration": 262,
    "start_time": "2021-07-07T16:28:53.212Z"
   },
   {
    "duration": 110,
    "start_time": "2021-07-07T16:38:04.774Z"
   },
   {
    "duration": 116,
    "start_time": "2021-07-07T16:38:04.886Z"
   },
   {
    "duration": 16,
    "start_time": "2021-07-07T16:38:05.004Z"
   },
   {
    "duration": 119,
    "start_time": "2021-07-07T16:38:05.022Z"
   },
   {
    "duration": 5745,
    "start_time": "2021-07-07T16:38:05.142Z"
   },
   {
    "duration": 16,
    "start_time": "2021-07-07T16:38:10.888Z"
   },
   {
    "duration": 36,
    "start_time": "2021-07-07T16:38:10.905Z"
   },
   {
    "duration": 24,
    "start_time": "2021-07-07T16:38:10.943Z"
   },
   {
    "duration": 20,
    "start_time": "2021-07-07T16:38:10.969Z"
   },
   {
    "duration": 378,
    "start_time": "2021-07-07T16:40:01.514Z"
   },
   {
    "duration": 36,
    "start_time": "2021-07-07T16:40:10.647Z"
   },
   {
    "duration": 32,
    "start_time": "2021-07-07T16:40:28.844Z"
   },
   {
    "duration": 29,
    "start_time": "2021-07-07T16:41:14.266Z"
   },
   {
    "duration": 43,
    "start_time": "2021-07-07T16:41:44.498Z"
   },
   {
    "duration": 44,
    "start_time": "2021-07-07T16:41:58.865Z"
   },
   {
    "duration": 45,
    "start_time": "2021-07-07T16:47:29.110Z"
   },
   {
    "duration": 7173,
    "start_time": "2021-07-07T16:49:03.609Z"
   },
   {
    "duration": 6488,
    "start_time": "2021-07-07T16:53:14.552Z"
   },
   {
    "duration": 6885,
    "start_time": "2021-07-07T16:53:48.935Z"
   },
   {
    "duration": 6847,
    "start_time": "2021-07-07T16:54:34.443Z"
   },
   {
    "duration": 30,
    "start_time": "2021-07-07T16:56:52.524Z"
   },
   {
    "duration": 287,
    "start_time": "2021-07-07T16:57:04.656Z"
   },
   {
    "duration": 31,
    "start_time": "2021-07-07T17:16:57.743Z"
   },
   {
    "duration": 31,
    "start_time": "2021-07-07T17:19:49.463Z"
   },
   {
    "duration": 26,
    "start_time": "2021-07-07T17:21:41.502Z"
   },
   {
    "duration": 6231,
    "start_time": "2021-07-07T17:25:07.740Z"
   },
   {
    "duration": 98,
    "start_time": "2021-07-07T17:25:27.661Z"
   },
   {
    "duration": 108,
    "start_time": "2021-07-07T17:25:27.761Z"
   },
   {
    "duration": 14,
    "start_time": "2021-07-07T17:25:27.871Z"
   },
   {
    "duration": 121,
    "start_time": "2021-07-07T17:25:27.887Z"
   },
   {
    "duration": 5906,
    "start_time": "2021-07-07T17:25:28.009Z"
   },
   {
    "duration": 6649,
    "start_time": "2021-07-07T17:25:33.917Z"
   },
   {
    "duration": -2959,
    "start_time": "2021-07-07T17:25:43.526Z"
   },
   {
    "duration": -2964,
    "start_time": "2021-07-07T17:25:43.532Z"
   },
   {
    "duration": -2967,
    "start_time": "2021-07-07T17:25:43.536Z"
   },
   {
    "duration": 27,
    "start_time": "2021-07-07T17:26:14.581Z"
   },
   {
    "duration": 6590,
    "start_time": "2021-07-07T17:27:00.727Z"
   },
   {
    "duration": 583,
    "start_time": "2021-07-07T17:27:45.562Z"
   },
   {
    "duration": 6428,
    "start_time": "2021-07-07T17:28:04.664Z"
   },
   {
    "duration": 30,
    "start_time": "2021-07-07T17:29:13.117Z"
   },
   {
    "duration": 26,
    "start_time": "2021-07-07T17:30:10.995Z"
   },
   {
    "duration": 7448,
    "start_time": "2021-07-07T17:31:01.667Z"
   },
   {
    "duration": 6869,
    "start_time": "2021-07-07T17:32:12.863Z"
   },
   {
    "duration": 6619,
    "start_time": "2021-07-07T17:32:47.726Z"
   },
   {
    "duration": 27,
    "start_time": "2021-07-07T17:33:13.054Z"
   },
   {
    "duration": 6231,
    "start_time": "2021-07-07T17:36:09.804Z"
   },
   {
    "duration": 40,
    "start_time": "2021-07-07T17:37:40.169Z"
   },
   {
    "duration": 261,
    "start_time": "2021-07-07T17:37:48.547Z"
   },
   {
    "duration": 45,
    "start_time": "2021-07-07T17:37:54.292Z"
   },
   {
    "duration": 990,
    "start_time": "2021-07-07T17:38:19.180Z"
   },
   {
    "duration": 342,
    "start_time": "2021-07-07T17:38:36.316Z"
   },
   {
    "duration": 258,
    "start_time": "2021-07-07T17:38:49.078Z"
   },
   {
    "duration": 587,
    "start_time": "2021-07-07T17:38:58.741Z"
   },
   {
    "duration": 509,
    "start_time": "2021-07-07T17:39:13.268Z"
   },
   {
    "duration": 361,
    "start_time": "2021-07-07T17:40:07.157Z"
   },
   {
    "duration": 44,
    "start_time": "2021-07-07T17:40:58.385Z"
   },
   {
    "duration": 6098,
    "start_time": "2021-07-07T17:41:40.508Z"
   },
   {
    "duration": 42,
    "start_time": "2021-07-07T17:42:17.309Z"
   },
   {
    "duration": 66,
    "start_time": "2021-07-07T17:42:23.686Z"
   },
   {
    "duration": 61,
    "start_time": "2021-07-07T17:42:27.704Z"
   },
   {
    "duration": 41,
    "start_time": "2021-07-07T17:47:58.434Z"
   },
   {
    "duration": 77,
    "start_time": "2021-07-07T18:30:18.943Z"
   },
   {
    "duration": 53,
    "start_time": "2021-07-07T18:31:37.359Z"
   },
   {
    "duration": 66,
    "start_time": "2021-07-07T18:43:32.997Z"
   },
   {
    "duration": 87,
    "start_time": "2021-07-07T18:44:48.994Z"
   },
   {
    "duration": 6220,
    "start_time": "2021-07-07T18:44:55.258Z"
   },
   {
    "duration": 322,
    "start_time": "2021-07-07T18:45:44.260Z"
   },
   {
    "duration": 7148,
    "start_time": "2021-07-07T18:46:47.977Z"
   },
   {
    "duration": 39,
    "start_time": "2021-07-07T18:47:19.183Z"
   },
   {
    "duration": 44,
    "start_time": "2021-07-07T18:48:30.313Z"
   },
   {
    "duration": 39,
    "start_time": "2021-07-07T18:48:36.129Z"
   },
   {
    "duration": 39,
    "start_time": "2021-07-07T18:48:44.658Z"
   },
   {
    "duration": 40,
    "start_time": "2021-07-07T18:52:26.535Z"
   },
   {
    "duration": 43,
    "start_time": "2021-07-07T18:53:27.858Z"
   },
   {
    "duration": 42,
    "start_time": "2021-07-07T18:54:00.242Z"
   },
   {
    "duration": 49,
    "start_time": "2021-07-07T18:54:15.256Z"
   },
   {
    "duration": 40,
    "start_time": "2021-07-07T18:56:46.429Z"
   },
   {
    "duration": 43,
    "start_time": "2021-07-07T18:56:50.060Z"
   },
   {
    "duration": 46,
    "start_time": "2021-07-07T19:02:29.508Z"
   },
   {
    "duration": 71,
    "start_time": "2021-07-07T19:04:24.012Z"
   },
   {
    "duration": 41,
    "start_time": "2021-07-07T19:06:32.495Z"
   },
   {
    "duration": 48,
    "start_time": "2021-07-07T19:09:23.435Z"
   },
   {
    "duration": 41,
    "start_time": "2021-07-07T19:11:27.333Z"
   },
   {
    "duration": 41,
    "start_time": "2021-07-07T19:11:38.181Z"
   },
   {
    "duration": 42,
    "start_time": "2021-07-07T19:12:37.423Z"
   },
   {
    "duration": 42,
    "start_time": "2021-07-07T19:12:42.920Z"
   },
   {
    "duration": 41,
    "start_time": "2021-07-07T19:14:09.607Z"
   },
   {
    "duration": 57,
    "start_time": "2021-07-07T19:14:23.890Z"
   },
   {
    "duration": 43,
    "start_time": "2021-07-07T19:16:43.452Z"
   },
   {
    "duration": 44,
    "start_time": "2021-07-07T19:17:15.887Z"
   },
   {
    "duration": 46,
    "start_time": "2021-07-07T19:42:45.641Z"
   },
   {
    "duration": 5939,
    "start_time": "2021-07-07T19:43:21.660Z"
   },
   {
    "duration": 50,
    "start_time": "2021-07-07T19:43:43.407Z"
   },
   {
    "duration": 81,
    "start_time": "2021-07-07T19:44:23.752Z"
   },
   {
    "duration": 36,
    "start_time": "2021-07-07T19:44:33.790Z"
   },
   {
    "duration": 35,
    "start_time": "2021-07-07T19:44:42.172Z"
   },
   {
    "duration": 39,
    "start_time": "2021-07-07T19:45:50.314Z"
   },
   {
    "duration": 39,
    "start_time": "2021-07-07T19:53:54.054Z"
   },
   {
    "duration": 38,
    "start_time": "2021-07-07T19:56:52.704Z"
   },
   {
    "duration": 39,
    "start_time": "2021-07-07T19:58:04.411Z"
   },
   {
    "duration": 38,
    "start_time": "2021-07-07T19:58:09.826Z"
   },
   {
    "duration": 38,
    "start_time": "2021-07-07T19:59:01.756Z"
   },
   {
    "duration": 66,
    "start_time": "2021-07-07T19:59:12.819Z"
   },
   {
    "duration": 37,
    "start_time": "2021-07-07T19:59:31.341Z"
   },
   {
    "duration": 39,
    "start_time": "2021-07-07T19:59:38.981Z"
   },
   {
    "duration": 46,
    "start_time": "2021-07-07T19:59:45.893Z"
   },
   {
    "duration": 46,
    "start_time": "2021-07-07T20:01:41.096Z"
   },
   {
    "duration": 48,
    "start_time": "2021-07-07T20:35:01.882Z"
   },
   {
    "duration": 49,
    "start_time": "2021-07-07T20:35:18.523Z"
   },
   {
    "duration": 43,
    "start_time": "2021-07-07T20:37:51.184Z"
   },
   {
    "duration": 39,
    "start_time": "2021-07-07T20:38:39.703Z"
   },
   {
    "duration": 38,
    "start_time": "2021-07-07T20:39:23.396Z"
   },
   {
    "duration": 98,
    "start_time": "2021-07-07T20:48:19.549Z"
   },
   {
    "duration": 106,
    "start_time": "2021-07-07T20:48:19.649Z"
   },
   {
    "duration": 15,
    "start_time": "2021-07-07T20:48:19.757Z"
   },
   {
    "duration": 121,
    "start_time": "2021-07-07T20:48:19.774Z"
   },
   {
    "duration": 5658,
    "start_time": "2021-07-07T20:48:19.897Z"
   },
   {
    "duration": 58,
    "start_time": "2021-07-07T20:48:25.557Z"
   },
   {
    "duration": 52,
    "start_time": "2021-07-07T20:48:25.617Z"
   },
   {
    "duration": 36,
    "start_time": "2021-07-07T20:48:25.671Z"
   },
   {
    "duration": 54,
    "start_time": "2021-07-07T20:48:25.709Z"
   },
   {
    "duration": 48,
    "start_time": "2021-07-07T23:58:31.706Z"
   },
   {
    "duration": 46,
    "start_time": "2021-07-07T23:58:53.042Z"
   },
   {
    "duration": 48,
    "start_time": "2021-07-07T23:59:25.788Z"
   },
   {
    "duration": 38,
    "start_time": "2021-07-07T23:59:42.491Z"
   },
   {
    "duration": 37,
    "start_time": "2021-07-07T23:59:47.935Z"
   },
   {
    "duration": 38,
    "start_time": "2021-07-07T23:59:52.131Z"
   },
   {
    "duration": 38,
    "start_time": "2021-07-08T00:00:04.383Z"
   },
   {
    "duration": 36,
    "start_time": "2021-07-08T00:00:06.179Z"
   },
   {
    "duration": 37,
    "start_time": "2021-07-08T00:00:22.597Z"
   },
   {
    "duration": 38,
    "start_time": "2021-07-08T00:12:41.214Z"
   },
   {
    "duration": 36,
    "start_time": "2021-07-08T00:13:38.973Z"
   },
   {
    "duration": 47,
    "start_time": "2021-07-08T00:20:28.946Z"
   },
   {
    "duration": 47,
    "start_time": "2021-07-08T00:20:37.440Z"
   },
   {
    "duration": 49,
    "start_time": "2021-07-08T00:20:49.028Z"
   },
   {
    "duration": 46,
    "start_time": "2021-07-08T00:20:51.753Z"
   },
   {
    "duration": 1765,
    "start_time": "2021-07-08T14:47:32.063Z"
   },
   {
    "duration": 185,
    "start_time": "2021-07-08T14:47:33.831Z"
   },
   {
    "duration": 39,
    "start_time": "2021-07-08T14:47:34.020Z"
   },
   {
    "duration": 197,
    "start_time": "2021-07-08T14:47:34.062Z"
   },
   {
    "duration": 12879,
    "start_time": "2021-07-08T14:47:34.261Z"
   },
   {
    "duration": 104,
    "start_time": "2021-07-08T14:47:47.142Z"
   },
   {
    "duration": 71,
    "start_time": "2021-07-08T14:47:47.248Z"
   },
   {
    "duration": 82,
    "start_time": "2021-07-08T14:47:47.324Z"
   },
   {
    "duration": 72,
    "start_time": "2021-07-08T14:47:47.409Z"
   },
   {
    "duration": 1488,
    "start_time": "2021-07-08T19:34:18.550Z"
   },
   {
    "duration": 67,
    "start_time": "2021-07-08T19:34:21.312Z"
   },
   {
    "duration": 15,
    "start_time": "2021-07-08T19:34:25.471Z"
   },
   {
    "duration": 12,
    "start_time": "2021-07-08T19:34:27.490Z"
   },
   {
    "duration": 17,
    "start_time": "2021-07-08T19:34:29.531Z"
   },
   {
    "duration": 24,
    "start_time": "2021-07-08T19:34:32.586Z"
   },
   {
    "duration": 7,
    "start_time": "2021-07-08T19:34:38.257Z"
   },
   {
    "duration": 55,
    "start_time": "2021-07-08T19:48:51.467Z"
   },
   {
    "duration": 56,
    "start_time": "2021-07-08T19:49:04.210Z"
   },
   {
    "duration": 8,
    "start_time": "2021-07-08T19:49:22.785Z"
   },
   {
    "duration": 6,
    "start_time": "2021-07-08T19:51:55.418Z"
   },
   {
    "duration": 9,
    "start_time": "2021-07-08T20:03:21.109Z"
   },
   {
    "duration": 15,
    "start_time": "2021-07-08T20:03:32.350Z"
   },
   {
    "duration": 6543,
    "start_time": "2021-07-08T20:04:35.343Z"
   },
   {
    "duration": -1460,
    "start_time": "2021-07-08T20:04:43.349Z"
   },
   {
    "duration": 62,
    "start_time": "2021-07-08T20:04:48.059Z"
   },
   {
    "duration": 16,
    "start_time": "2021-07-08T20:04:55.684Z"
   },
   {
    "duration": 18,
    "start_time": "2021-07-08T20:04:57.742Z"
   },
   {
    "duration": 13,
    "start_time": "2021-07-08T20:04:59.445Z"
   },
   {
    "duration": 21,
    "start_time": "2021-07-08T20:05:01.738Z"
   },
   {
    "duration": 54,
    "start_time": "2021-07-08T20:05:05.487Z"
   },
   {
    "duration": 56,
    "start_time": "2021-07-08T20:05:10.019Z"
   },
   {
    "duration": 5,
    "start_time": "2021-07-08T20:05:16.607Z"
   },
   {
    "duration": 67,
    "start_time": "2021-07-08T20:05:16.619Z"
   },
   {
    "duration": 23,
    "start_time": "2021-07-08T20:05:16.689Z"
   },
   {
    "duration": 12,
    "start_time": "2021-07-08T20:05:16.715Z"
   },
   {
    "duration": 12,
    "start_time": "2021-07-08T20:05:16.730Z"
   },
   {
    "duration": 56,
    "start_time": "2021-07-08T20:05:16.744Z"
   },
   {
    "duration": 44,
    "start_time": "2021-07-08T20:05:16.803Z"
   },
   {
    "duration": 10,
    "start_time": "2021-07-08T20:05:16.850Z"
   },
   {
    "duration": 46,
    "start_time": "2021-07-08T20:05:16.862Z"
   },
   {
    "duration": 8,
    "start_time": "2021-07-08T20:05:16.912Z"
   },
   {
    "duration": 17,
    "start_time": "2021-07-08T20:05:16.924Z"
   },
   {
    "duration": 12,
    "start_time": "2021-07-08T20:05:16.943Z"
   },
   {
    "duration": 47,
    "start_time": "2021-07-08T20:05:16.957Z"
   },
   {
    "duration": 10,
    "start_time": "2021-07-08T20:05:17.007Z"
   },
   {
    "duration": 10,
    "start_time": "2021-07-08T20:05:17.019Z"
   },
   {
    "duration": 11,
    "start_time": "2021-07-08T20:05:17.031Z"
   },
   {
    "duration": 58,
    "start_time": "2021-07-08T20:05:17.045Z"
   },
   {
    "duration": 216,
    "start_time": "2021-07-08T20:05:17.107Z"
   },
   {
    "duration": 27,
    "start_time": "2021-07-08T20:05:17.326Z"
   },
   {
    "duration": 210,
    "start_time": "2021-07-08T20:05:17.356Z"
   },
   {
    "duration": 13994,
    "start_time": "2021-07-08T20:05:17.569Z"
   },
   {
    "duration": 476,
    "start_time": "2021-07-08T20:05:31.565Z"
   },
   {
    "duration": -1280,
    "start_time": "2021-07-08T20:05:33.324Z"
   },
   {
    "duration": -1448,
    "start_time": "2021-07-08T20:05:33.494Z"
   },
   {
    "duration": -1456,
    "start_time": "2021-07-08T20:05:33.504Z"
   },
   {
    "duration": 8,
    "start_time": "2021-07-08T20:06:07.540Z"
   },
   {
    "duration": 11,
    "start_time": "2021-07-08T20:06:18.468Z"
   },
   {
    "duration": 12,
    "start_time": "2021-07-08T20:06:26.651Z"
   },
   {
    "duration": 9,
    "start_time": "2021-07-08T20:06:32.324Z"
   },
   {
    "duration": 18,
    "start_time": "2021-07-08T20:07:26.823Z"
   },
   {
    "duration": 307,
    "start_time": "2021-07-08T20:07:46.491Z"
   },
   {
    "duration": 10,
    "start_time": "2021-07-08T20:07:53.976Z"
   },
   {
    "duration": 22,
    "start_time": "2021-07-08T20:08:16.279Z"
   },
   {
    "duration": 7,
    "start_time": "2021-07-08T20:14:07.467Z"
   },
   {
    "duration": 29,
    "start_time": "2021-07-08T20:23:50.481Z"
   },
   {
    "duration": 12,
    "start_time": "2021-07-08T20:23:53.984Z"
   },
   {
    "duration": 10,
    "start_time": "2021-07-08T20:24:36.149Z"
   },
   {
    "duration": 253,
    "start_time": "2021-07-08T20:43:42.774Z"
   },
   {
    "duration": 4,
    "start_time": "2021-07-08T20:43:47.754Z"
   },
   {
    "duration": 70,
    "start_time": "2021-07-08T20:43:47.762Z"
   },
   {
    "duration": 17,
    "start_time": "2021-07-08T20:43:47.836Z"
   },
   {
    "duration": 12,
    "start_time": "2021-07-08T20:43:47.856Z"
   },
   {
    "duration": 13,
    "start_time": "2021-07-08T20:43:47.900Z"
   },
   {
    "duration": 29,
    "start_time": "2021-07-08T20:43:47.915Z"
   },
   {
    "duration": 91,
    "start_time": "2021-07-08T20:43:47.947Z"
   },
   {
    "duration": 318,
    "start_time": "2021-07-08T20:43:48.042Z"
   },
   {
    "duration": -1272,
    "start_time": "2021-07-08T20:43:49.636Z"
   },
   {
    "duration": -1276,
    "start_time": "2021-07-08T20:43:49.642Z"
   },
   {
    "duration": -1278,
    "start_time": "2021-07-08T20:43:49.646Z"
   },
   {
    "duration": -1279,
    "start_time": "2021-07-08T20:43:49.649Z"
   },
   {
    "duration": -1292,
    "start_time": "2021-07-08T20:43:49.665Z"
   },
   {
    "duration": -1294,
    "start_time": "2021-07-08T20:43:49.668Z"
   },
   {
    "duration": -1295,
    "start_time": "2021-07-08T20:43:49.671Z"
   },
   {
    "duration": -1296,
    "start_time": "2021-07-08T20:43:49.674Z"
   },
   {
    "duration": -1300,
    "start_time": "2021-07-08T20:43:49.680Z"
   },
   {
    "duration": -1302,
    "start_time": "2021-07-08T20:43:49.684Z"
   },
   {
    "duration": -1303,
    "start_time": "2021-07-08T20:43:49.687Z"
   },
   {
    "duration": -1303,
    "start_time": "2021-07-08T20:43:49.689Z"
   },
   {
    "duration": -1304,
    "start_time": "2021-07-08T20:43:49.692Z"
   },
   {
    "duration": -1305,
    "start_time": "2021-07-08T20:43:49.695Z"
   },
   {
    "duration": -1306,
    "start_time": "2021-07-08T20:43:49.698Z"
   },
   {
    "duration": -1307,
    "start_time": "2021-07-08T20:43:49.701Z"
   },
   {
    "duration": -1308,
    "start_time": "2021-07-08T20:43:49.704Z"
   },
   {
    "duration": -1310,
    "start_time": "2021-07-08T20:43:49.708Z"
   },
   {
    "duration": -1314,
    "start_time": "2021-07-08T20:43:49.714Z"
   },
   {
    "duration": -1401,
    "start_time": "2021-07-08T20:43:49.803Z"
   },
   {
    "duration": 19,
    "start_time": "2021-07-08T20:44:05.500Z"
   },
   {
    "duration": 16,
    "start_time": "2021-07-08T20:44:26.229Z"
   },
   {
    "duration": 8,
    "start_time": "2021-07-08T20:44:29.681Z"
   },
   {
    "duration": 12,
    "start_time": "2021-07-08T20:44:33.158Z"
   },
   {
    "duration": 12,
    "start_time": "2021-07-08T20:44:54.271Z"
   },
   {
    "duration": 9,
    "start_time": "2021-07-08T20:44:56.065Z"
   },
   {
    "duration": 9,
    "start_time": "2021-07-08T20:44:58.319Z"
   },
   {
    "duration": 9,
    "start_time": "2021-07-08T20:45:01.085Z"
   },
   {
    "duration": 27,
    "start_time": "2021-07-08T20:45:17.225Z"
   },
   {
    "duration": 11,
    "start_time": "2021-07-08T20:46:18.621Z"
   },
   {
    "duration": 9,
    "start_time": "2021-07-08T20:46:20.424Z"
   },
   {
    "duration": 9,
    "start_time": "2021-07-08T20:46:23.354Z"
   },
   {
    "duration": 18,
    "start_time": "2021-07-08T20:53:53.122Z"
   },
   {
    "duration": 9,
    "start_time": "2021-07-08T21:06:32.474Z"
   },
   {
    "duration": 10,
    "start_time": "2021-07-08T21:09:35.068Z"
   },
   {
    "duration": 8,
    "start_time": "2021-07-08T21:09:52.248Z"
   },
   {
    "duration": 8,
    "start_time": "2021-07-08T21:09:56.528Z"
   },
   {
    "duration": 8,
    "start_time": "2021-07-08T21:11:54.360Z"
   },
   {
    "duration": 17,
    "start_time": "2021-07-08T21:13:26.142Z"
   },
   {
    "duration": 11,
    "start_time": "2021-07-08T21:15:26.259Z"
   },
   {
    "duration": 9,
    "start_time": "2021-07-08T21:18:41.869Z"
   },
   {
    "duration": 12,
    "start_time": "2021-07-08T21:19:41.487Z"
   },
   {
    "duration": 11,
    "start_time": "2021-07-08T21:20:43.933Z"
   },
   {
    "duration": 10,
    "start_time": "2021-07-08T21:26:41.968Z"
   },
   {
    "duration": 11,
    "start_time": "2021-07-08T21:27:30.015Z"
   },
   {
    "duration": 10,
    "start_time": "2021-07-08T21:27:45.302Z"
   },
   {
    "duration": 24,
    "start_time": "2021-07-08T21:28:13.488Z"
   },
   {
    "duration": 8,
    "start_time": "2021-07-08T21:30:01.830Z"
   },
   {
    "duration": 251,
    "start_time": "2021-07-08T21:41:44.975Z"
   },
   {
    "duration": 11,
    "start_time": "2021-07-08T21:42:10.348Z"
   },
   {
    "duration": 20,
    "start_time": "2021-07-08T21:42:12.436Z"
   },
   {
    "duration": 7,
    "start_time": "2021-07-08T21:42:14.768Z"
   },
   {
    "duration": 7,
    "start_time": "2021-07-08T21:42:24.069Z"
   },
   {
    "duration": 4,
    "start_time": "2021-07-08T21:46:06.206Z"
   },
   {
    "duration": 88,
    "start_time": "2021-07-08T21:46:06.213Z"
   },
   {
    "duration": 19,
    "start_time": "2021-07-08T21:46:06.305Z"
   },
   {
    "duration": 16,
    "start_time": "2021-07-08T21:46:06.327Z"
   },
   {
    "duration": 65,
    "start_time": "2021-07-08T21:46:06.346Z"
   },
   {
    "duration": 25,
    "start_time": "2021-07-08T21:46:06.414Z"
   },
   {
    "duration": 77,
    "start_time": "2021-07-08T21:46:06.442Z"
   },
   {
    "duration": 15,
    "start_time": "2021-07-08T21:46:06.522Z"
   },
   {
    "duration": 11,
    "start_time": "2021-07-08T21:46:06.543Z"
   },
   {
    "duration": 55,
    "start_time": "2021-07-08T21:46:06.558Z"
   },
   {
    "duration": 10,
    "start_time": "2021-07-08T21:46:06.616Z"
   },
   {
    "duration": 14,
    "start_time": "2021-07-08T21:46:06.629Z"
   },
   {
    "duration": 58,
    "start_time": "2021-07-08T21:46:06.646Z"
   },
   {
    "duration": 11,
    "start_time": "2021-07-08T21:46:06.707Z"
   },
   {
    "duration": 11,
    "start_time": "2021-07-08T21:46:06.721Z"
   },
   {
    "duration": 8,
    "start_time": "2021-07-08T21:46:06.735Z"
   },
   {
    "duration": 66,
    "start_time": "2021-07-08T21:46:06.746Z"
   },
   {
    "duration": 9,
    "start_time": "2021-07-08T21:46:06.815Z"
   },
   {
    "duration": 11,
    "start_time": "2021-07-08T21:46:06.826Z"
   },
   {
    "duration": 11,
    "start_time": "2021-07-08T21:46:06.839Z"
   },
   {
    "duration": 56,
    "start_time": "2021-07-08T21:46:06.853Z"
   },
   {
    "duration": 3,
    "start_time": "2021-07-08T21:46:06.911Z"
   },
   {
    "duration": 13,
    "start_time": "2021-07-08T21:46:06.917Z"
   },
   {
    "duration": 9,
    "start_time": "2021-07-08T21:46:06.932Z"
   },
   {
    "duration": 18,
    "start_time": "2021-07-08T21:46:06.943Z"
   },
   {
    "duration": 39,
    "start_time": "2021-07-08T21:46:06.963Z"
   },
   {
    "duration": 10,
    "start_time": "2021-07-08T21:46:07.008Z"
   },
   {
    "duration": 9,
    "start_time": "2021-07-08T21:46:07.021Z"
   },
   {
    "duration": 17,
    "start_time": "2021-07-08T21:46:07.033Z"
   },
   {
    "duration": 52,
    "start_time": "2021-07-08T21:46:07.052Z"
   },
   {
    "duration": 20,
    "start_time": "2021-07-08T21:46:07.108Z"
   },
   {
    "duration": 6,
    "start_time": "2021-07-08T21:46:07.130Z"
   },
   {
    "duration": 12,
    "start_time": "2021-07-08T21:46:07.139Z"
   },
   {
    "duration": 49,
    "start_time": "2021-07-08T21:46:07.154Z"
   },
   {
    "duration": 10,
    "start_time": "2021-07-08T21:46:07.205Z"
   },
   {
    "duration": 14,
    "start_time": "2021-07-08T21:46:07.218Z"
   },
   {
    "duration": 12,
    "start_time": "2021-07-08T21:46:07.235Z"
   },
   {
    "duration": 7,
    "start_time": "2021-07-08T21:46:07.249Z"
   },
   {
    "duration": 8,
    "start_time": "2021-07-08T21:46:07.300Z"
   },
   {
    "duration": 25,
    "start_time": "2021-07-08T21:46:07.311Z"
   },
   {
    "duration": 67,
    "start_time": "2021-07-08T21:46:07.338Z"
   },
   {
    "duration": 227,
    "start_time": "2021-07-08T21:46:07.408Z"
   },
   {
    "duration": 11230,
    "start_time": "2021-07-08T21:46:07.637Z"
   },
   {
    "duration": 98,
    "start_time": "2021-07-08T21:46:18.870Z"
   },
   {
    "duration": 77,
    "start_time": "2021-07-08T21:46:18.970Z"
   },
   {
    "duration": 73,
    "start_time": "2021-07-08T21:46:19.049Z"
   },
   {
    "duration": 79,
    "start_time": "2021-07-08T21:46:19.124Z"
   },
   {
    "duration": 10,
    "start_time": "2021-07-08T21:47:39.018Z"
   },
   {
    "duration": 6,
    "start_time": "2021-07-08T21:48:43.574Z"
   },
   {
    "duration": 6,
    "start_time": "2021-07-08T21:49:05.089Z"
   },
   {
    "duration": 5,
    "start_time": "2021-07-08T21:49:41.988Z"
   },
   {
    "duration": 14,
    "start_time": "2021-07-08T21:52:54.622Z"
   },
   {
    "duration": 3,
    "start_time": "2021-07-08T21:52:56.476Z"
   },
   {
    "duration": 15,
    "start_time": "2021-07-08T22:23:28.239Z"
   },
   {
    "duration": 21,
    "start_time": "2021-07-08T22:23:55.132Z"
   },
   {
    "duration": 19,
    "start_time": "2021-07-08T22:25:12.995Z"
   },
   {
    "duration": 4,
    "start_time": "2021-07-08T22:25:27.808Z"
   },
   {
    "duration": 66,
    "start_time": "2021-07-08T22:25:27.816Z"
   },
   {
    "duration": 16,
    "start_time": "2021-07-08T22:25:28.017Z"
   },
   {
    "duration": 12,
    "start_time": "2021-07-08T22:25:28.035Z"
   },
   {
    "duration": 12,
    "start_time": "2021-07-08T22:25:28.050Z"
   },
   {
    "duration": 39,
    "start_time": "2021-07-08T22:25:28.064Z"
   },
   {
    "duration": 46,
    "start_time": "2021-07-08T22:25:28.216Z"
   },
   {
    "duration": 16,
    "start_time": "2021-07-08T22:25:28.265Z"
   },
   {
    "duration": 25,
    "start_time": "2021-07-08T22:25:28.284Z"
   },
   {
    "duration": 15,
    "start_time": "2021-07-08T22:25:28.415Z"
   },
   {
    "duration": 9,
    "start_time": "2021-07-08T22:25:28.433Z"
   },
   {
    "duration": 14,
    "start_time": "2021-07-08T22:25:28.445Z"
   },
   {
    "duration": 9,
    "start_time": "2021-07-08T22:25:28.461Z"
   },
   {
    "duration": 10,
    "start_time": "2021-07-08T22:25:28.500Z"
   },
   {
    "duration": 10,
    "start_time": "2021-07-08T22:25:28.620Z"
   },
   {
    "duration": 11,
    "start_time": "2021-07-08T22:25:28.633Z"
   },
   {
    "duration": 20,
    "start_time": "2021-07-08T22:25:28.647Z"
   },
   {
    "duration": 8,
    "start_time": "2021-07-08T22:25:28.670Z"
   },
   {
    "duration": 31,
    "start_time": "2021-07-08T22:25:28.681Z"
   },
   {
    "duration": 12,
    "start_time": "2021-07-08T22:25:28.715Z"
   },
   {
    "duration": 19,
    "start_time": "2021-07-08T22:25:28.822Z"
   },
   {
    "duration": 3,
    "start_time": "2021-07-08T22:25:28.844Z"
   },
   {
    "duration": 7228,
    "start_time": "2021-07-08T22:25:28.850Z"
   },
   {
    "duration": -3817,
    "start_time": "2021-07-08T22:25:39.899Z"
   },
   {
    "duration": -4250,
    "start_time": "2021-07-08T22:25:40.334Z"
   },
   {
    "duration": -4253,
    "start_time": "2021-07-08T22:25:40.338Z"
   },
   {
    "duration": -4258,
    "start_time": "2021-07-08T22:25:40.345Z"
   },
   {
    "duration": -4261,
    "start_time": "2021-07-08T22:25:40.349Z"
   },
   {
    "duration": -4263,
    "start_time": "2021-07-08T22:25:40.352Z"
   },
   {
    "duration": -4758,
    "start_time": "2021-07-08T22:25:40.849Z"
   },
   {
    "duration": -4760,
    "start_time": "2021-07-08T22:25:40.852Z"
   },
   {
    "duration": -4763,
    "start_time": "2021-07-08T22:25:40.856Z"
   },
   {
    "duration": -5571,
    "start_time": "2021-07-08T22:25:41.666Z"
   },
   {
    "duration": -5581,
    "start_time": "2021-07-08T22:25:41.677Z"
   },
   {
    "duration": -5582,
    "start_time": "2021-07-08T22:25:41.680Z"
   },
   {
    "duration": -6025,
    "start_time": "2021-07-08T22:25:42.124Z"
   },
   {
    "duration": -6029,
    "start_time": "2021-07-08T22:25:42.130Z"
   },
   {
    "duration": -6155,
    "start_time": "2021-07-08T22:25:42.257Z"
   },
   {
    "duration": -6161,
    "start_time": "2021-07-08T22:25:42.264Z"
   },
   {
    "duration": -6208,
    "start_time": "2021-07-08T22:25:42.313Z"
   },
   {
    "duration": -6399,
    "start_time": "2021-07-08T22:25:42.505Z"
   },
   {
    "duration": -6825,
    "start_time": "2021-07-08T22:25:42.932Z"
   },
   {
    "duration": -6888,
    "start_time": "2021-07-08T22:25:42.996Z"
   },
   {
    "duration": -6890,
    "start_time": "2021-07-08T22:25:43.000Z"
   },
   {
    "duration": -7026,
    "start_time": "2021-07-08T22:25:43.137Z"
   },
   {
    "duration": -7071,
    "start_time": "2021-07-08T22:25:43.184Z"
   },
   {
    "duration": -7535,
    "start_time": "2021-07-08T22:25:43.649Z"
   },
   {
    "duration": -7542,
    "start_time": "2021-07-08T22:25:43.657Z"
   },
   {
    "duration": -7544,
    "start_time": "2021-07-08T22:25:43.661Z"
   },
   {
    "duration": -7546,
    "start_time": "2021-07-08T22:25:43.664Z"
   },
   {
    "duration": 8,
    "start_time": "2021-07-08T22:28:07.177Z"
   },
   {
    "duration": 7,
    "start_time": "2021-07-08T22:28:19.421Z"
   },
   {
    "duration": 15,
    "start_time": "2021-07-08T22:28:51.691Z"
   },
   {
    "duration": 10,
    "start_time": "2021-07-08T22:29:18.035Z"
   },
   {
    "duration": 10,
    "start_time": "2021-07-08T22:29:20.408Z"
   },
   {
    "duration": 10,
    "start_time": "2021-07-08T22:29:31.962Z"
   },
   {
    "duration": 11,
    "start_time": "2021-07-08T22:29:43.990Z"
   },
   {
    "duration": 11,
    "start_time": "2021-07-08T22:30:16.223Z"
   },
   {
    "duration": 22,
    "start_time": "2021-07-08T22:30:54.071Z"
   },
   {
    "duration": 7,
    "start_time": "2021-07-08T22:31:20.280Z"
   },
   {
    "duration": 7,
    "start_time": "2021-07-08T22:31:29.705Z"
   },
   {
    "duration": 15,
    "start_time": "2021-07-08T22:31:33.092Z"
   },
   {
    "duration": 8,
    "start_time": "2021-07-08T22:31:52.562Z"
   },
   {
    "duration": 14,
    "start_time": "2021-07-08T22:32:05.635Z"
   },
   {
    "duration": 13,
    "start_time": "2021-07-08T22:32:17.187Z"
   },
   {
    "duration": 6,
    "start_time": "2021-07-08T22:32:36.556Z"
   },
   {
    "duration": 7,
    "start_time": "2021-07-08T22:32:44.563Z"
   },
   {
    "duration": 10,
    "start_time": "2021-07-08T22:33:12.652Z"
   },
   {
    "duration": 6,
    "start_time": "2021-07-08T22:33:28.921Z"
   },
   {
    "duration": 13,
    "start_time": "2021-07-08T22:33:43.220Z"
   },
   {
    "duration": 5,
    "start_time": "2021-07-08T22:47:31.974Z"
   },
   {
    "duration": 17,
    "start_time": "2021-07-08T22:47:36.016Z"
   },
   {
    "duration": 11,
    "start_time": "2021-07-08T22:47:39.200Z"
   },
   {
    "duration": 21,
    "start_time": "2021-07-09T00:19:29.069Z"
   },
   {
    "duration": 22,
    "start_time": "2021-07-09T00:19:47.771Z"
   },
   {
    "duration": 11,
    "start_time": "2021-07-09T00:21:00.757Z"
   },
   {
    "duration": 22,
    "start_time": "2021-07-09T00:23:03.705Z"
   },
   {
    "duration": 24,
    "start_time": "2021-07-09T00:23:14.027Z"
   },
   {
    "duration": 287,
    "start_time": "2021-07-09T00:23:38.728Z"
   },
   {
    "duration": 40,
    "start_time": "2021-07-09T00:23:45.895Z"
   },
   {
    "duration": 14,
    "start_time": "2021-07-09T00:28:52.999Z"
   },
   {
    "duration": 24,
    "start_time": "2021-07-09T00:29:01.870Z"
   },
   {
    "duration": 24,
    "start_time": "2021-07-09T00:29:44.895Z"
   },
   {
    "duration": 4,
    "start_time": "2021-07-09T00:29:56.085Z"
   },
   {
    "duration": 68,
    "start_time": "2021-07-09T00:29:56.092Z"
   },
   {
    "duration": 14,
    "start_time": "2021-07-09T00:29:56.164Z"
   },
   {
    "duration": 23,
    "start_time": "2021-07-09T00:29:56.181Z"
   },
   {
    "duration": 13,
    "start_time": "2021-07-09T00:29:56.207Z"
   },
   {
    "duration": 21,
    "start_time": "2021-07-09T00:29:56.222Z"
   },
   {
    "duration": 89,
    "start_time": "2021-07-09T00:29:56.245Z"
   },
   {
    "duration": 13,
    "start_time": "2021-07-09T00:29:56.336Z"
   },
   {
    "duration": 17,
    "start_time": "2021-07-09T00:29:56.354Z"
   },
   {
    "duration": 37,
    "start_time": "2021-07-09T00:29:56.374Z"
   },
   {
    "duration": 15,
    "start_time": "2021-07-09T00:29:56.414Z"
   },
   {
    "duration": 21,
    "start_time": "2021-07-09T00:29:56.432Z"
   },
   {
    "duration": 24,
    "start_time": "2021-07-09T00:29:56.455Z"
   },
   {
    "duration": 23,
    "start_time": "2021-07-09T00:29:56.481Z"
   },
   {
    "duration": 31,
    "start_time": "2021-07-09T00:29:56.506Z"
   },
   {
    "duration": 17,
    "start_time": "2021-07-09T00:29:56.539Z"
   },
   {
    "duration": 29,
    "start_time": "2021-07-09T00:29:56.558Z"
   },
   {
    "duration": 19,
    "start_time": "2021-07-09T00:29:56.589Z"
   },
   {
    "duration": 23,
    "start_time": "2021-07-09T00:29:56.610Z"
   },
   {
    "duration": 23,
    "start_time": "2021-07-09T00:29:56.635Z"
   },
   {
    "duration": 32,
    "start_time": "2021-07-09T00:29:56.660Z"
   },
   {
    "duration": 4,
    "start_time": "2021-07-09T00:29:56.694Z"
   },
   {
    "duration": 20,
    "start_time": "2021-07-09T00:29:56.700Z"
   },
   {
    "duration": 8,
    "start_time": "2021-07-09T00:29:56.723Z"
   },
   {
    "duration": 16,
    "start_time": "2021-07-09T00:29:56.733Z"
   },
   {
    "duration": 8,
    "start_time": "2021-07-09T00:29:56.751Z"
   },
   {
    "duration": 37,
    "start_time": "2021-07-09T00:29:56.765Z"
   },
   {
    "duration": 13,
    "start_time": "2021-07-09T00:29:56.805Z"
   },
   {
    "duration": 15,
    "start_time": "2021-07-09T00:29:56.820Z"
   },
   {
    "duration": 9,
    "start_time": "2021-07-09T00:29:56.838Z"
   },
   {
    "duration": 52,
    "start_time": "2021-07-09T00:29:56.850Z"
   },
   {
    "duration": 6,
    "start_time": "2021-07-09T00:29:56.904Z"
   },
   {
    "duration": 11,
    "start_time": "2021-07-09T00:29:56.912Z"
   },
   {
    "duration": 20,
    "start_time": "2021-07-09T00:29:56.926Z"
   },
   {
    "duration": 10,
    "start_time": "2021-07-09T00:29:56.948Z"
   },
   {
    "duration": 48,
    "start_time": "2021-07-09T00:29:56.961Z"
   },
   {
    "duration": 12,
    "start_time": "2021-07-09T00:29:57.012Z"
   },
   {
    "duration": 6,
    "start_time": "2021-07-09T00:29:57.027Z"
   },
   {
    "duration": 10,
    "start_time": "2021-07-09T00:29:57.035Z"
   },
   {
    "duration": 13,
    "start_time": "2021-07-09T00:29:57.048Z"
   },
   {
    "duration": 39,
    "start_time": "2021-07-09T00:29:57.064Z"
   },
   {
    "duration": 16,
    "start_time": "2021-07-09T00:29:57.105Z"
   },
   {
    "duration": 3,
    "start_time": "2021-07-09T00:29:57.124Z"
   },
   {
    "duration": 11,
    "start_time": "2021-07-09T00:29:57.129Z"
   },
   {
    "duration": 22,
    "start_time": "2021-07-09T00:29:57.143Z"
   },
   {
    "duration": 12,
    "start_time": "2021-07-09T00:29:57.202Z"
   },
   {
    "duration": 20,
    "start_time": "2021-07-09T00:29:57.223Z"
   },
   {
    "duration": 2,
    "start_time": "2021-07-09T00:29:57.246Z"
   },
   {
    "duration": 54,
    "start_time": "2021-07-09T00:29:57.251Z"
   },
   {
    "duration": 24,
    "start_time": "2021-07-09T00:29:57.308Z"
   },
   {
    "duration": 148,
    "start_time": "2021-07-09T00:29:57.335Z"
   },
   {
    "duration": 11189,
    "start_time": "2021-07-09T00:29:57.501Z"
   },
   {
    "duration": 109,
    "start_time": "2021-07-09T00:30:08.692Z"
   },
   {
    "duration": 64,
    "start_time": "2021-07-09T00:30:08.803Z"
   },
   {
    "duration": 86,
    "start_time": "2021-07-09T00:30:08.870Z"
   },
   {
    "duration": 80,
    "start_time": "2021-07-09T00:30:08.958Z"
   },
   {
    "duration": 24,
    "start_time": "2021-07-09T00:32:25.828Z"
   },
   {
    "duration": 29,
    "start_time": "2021-07-09T00:32:35.580Z"
   },
   {
    "duration": 4,
    "start_time": "2021-07-09T00:32:43.735Z"
   },
   {
    "duration": 68,
    "start_time": "2021-07-09T00:32:43.742Z"
   },
   {
    "duration": 14,
    "start_time": "2021-07-09T00:32:43.813Z"
   },
   {
    "duration": 10,
    "start_time": "2021-07-09T00:32:43.830Z"
   },
   {
    "duration": 12,
    "start_time": "2021-07-09T00:32:43.842Z"
   },
   {
    "duration": 55,
    "start_time": "2021-07-09T00:32:43.857Z"
   },
   {
    "duration": 41,
    "start_time": "2021-07-09T00:32:43.915Z"
   },
   {
    "duration": 12,
    "start_time": "2021-07-09T00:32:43.959Z"
   },
   {
    "duration": 32,
    "start_time": "2021-07-09T00:32:43.975Z"
   },
   {
    "duration": 19,
    "start_time": "2021-07-09T00:32:44.010Z"
   },
   {
    "duration": 7,
    "start_time": "2021-07-09T00:32:44.031Z"
   },
   {
    "duration": 11,
    "start_time": "2021-07-09T00:32:44.040Z"
   },
   {
    "duration": 188,
    "start_time": "2021-07-09T00:32:44.053Z"
   },
   {
    "duration": 9,
    "start_time": "2021-07-09T00:32:44.244Z"
   },
   {
    "duration": 11,
    "start_time": "2021-07-09T00:32:44.256Z"
   },
   {
    "duration": 8,
    "start_time": "2021-07-09T00:32:44.301Z"
   },
   {
    "duration": 27,
    "start_time": "2021-07-09T00:32:44.311Z"
   },
   {
    "duration": 8,
    "start_time": "2021-07-09T00:32:44.340Z"
   },
   {
    "duration": 10,
    "start_time": "2021-07-09T00:32:44.351Z"
   },
   {
    "duration": 44,
    "start_time": "2021-07-09T00:32:44.364Z"
   },
   {
    "duration": 20,
    "start_time": "2021-07-09T00:32:44.411Z"
   },
   {
    "duration": 3,
    "start_time": "2021-07-09T00:32:44.433Z"
   },
   {
    "duration": 10,
    "start_time": "2021-07-09T00:32:44.438Z"
   },
   {
    "duration": 6,
    "start_time": "2021-07-09T00:32:44.451Z"
   },
   {
    "duration": 16,
    "start_time": "2021-07-09T00:32:44.500Z"
   },
   {
    "duration": 15,
    "start_time": "2021-07-09T00:32:44.519Z"
   },
   {
    "duration": 9,
    "start_time": "2021-07-09T00:32:44.539Z"
   },
   {
    "duration": 9,
    "start_time": "2021-07-09T00:32:44.551Z"
   },
   {
    "duration": 45,
    "start_time": "2021-07-09T00:32:44.562Z"
   },
   {
    "duration": 17,
    "start_time": "2021-07-09T00:32:44.609Z"
   },
   {
    "duration": 25,
    "start_time": "2021-07-09T00:32:44.628Z"
   },
   {
    "duration": 6,
    "start_time": "2021-07-09T00:32:44.655Z"
   },
   {
    "duration": 40,
    "start_time": "2021-07-09T00:32:44.663Z"
   },
   {
    "duration": 22,
    "start_time": "2021-07-09T00:32:44.706Z"
   },
   {
    "duration": 12,
    "start_time": "2021-07-09T00:32:44.730Z"
   },
   {
    "duration": 19,
    "start_time": "2021-07-09T00:32:44.744Z"
   },
   {
    "duration": 36,
    "start_time": "2021-07-09T00:32:44.765Z"
   },
   {
    "duration": 7,
    "start_time": "2021-07-09T00:32:44.804Z"
   },
   {
    "duration": 13,
    "start_time": "2021-07-09T00:32:44.813Z"
   },
   {
    "duration": 12,
    "start_time": "2021-07-09T00:32:44.828Z"
   },
   {
    "duration": 7,
    "start_time": "2021-07-09T00:32:44.842Z"
   },
   {
    "duration": 50,
    "start_time": "2021-07-09T00:32:44.851Z"
   },
   {
    "duration": 3,
    "start_time": "2021-07-09T00:32:44.904Z"
   },
   {
    "duration": 9,
    "start_time": "2021-07-09T00:32:44.910Z"
   },
   {
    "duration": 20,
    "start_time": "2021-07-09T00:32:44.921Z"
   },
   {
    "duration": 10,
    "start_time": "2021-07-09T00:32:44.944Z"
   },
   {
    "duration": 64,
    "start_time": "2021-07-09T00:32:44.957Z"
   },
   {
    "duration": 23,
    "start_time": "2021-07-09T00:32:45.024Z"
   },
   {
    "duration": 50,
    "start_time": "2021-07-09T00:32:45.050Z"
   },
   {
    "duration": 6496,
    "start_time": "2021-07-09T00:32:45.103Z"
   },
   {
    "duration": -1536,
    "start_time": "2021-07-09T00:32:53.138Z"
   },
   {
    "duration": -1539,
    "start_time": "2021-07-09T00:32:53.142Z"
   },
   {
    "duration": -1801,
    "start_time": "2021-07-09T00:32:53.406Z"
   },
   {
    "duration": -1805,
    "start_time": "2021-07-09T00:32:53.411Z"
   },
   {
    "duration": -1806,
    "start_time": "2021-07-09T00:32:53.414Z"
   },
   {
    "duration": 4,
    "start_time": "2021-07-09T00:40:02.144Z"
   },
   {
    "duration": 10,
    "start_time": "2021-07-09T00:41:18.753Z"
   },
   {
    "duration": 15,
    "start_time": "2021-07-09T00:44:24.237Z"
   },
   {
    "duration": 22,
    "start_time": "2021-07-09T00:45:00.934Z"
   },
   {
    "duration": 27,
    "start_time": "2021-07-09T00:45:23.270Z"
   },
   {
    "duration": 18,
    "start_time": "2021-07-09T00:47:00.759Z"
   },
   {
    "duration": 282,
    "start_time": "2021-07-09T00:49:39.042Z"
   },
   {
    "duration": 257,
    "start_time": "2021-07-09T00:49:46.751Z"
   },
   {
    "duration": 7,
    "start_time": "2021-07-09T00:50:04.285Z"
   },
   {
    "duration": 7,
    "start_time": "2021-07-09T00:50:24.483Z"
   },
   {
    "duration": 7,
    "start_time": "2021-07-09T00:50:32.252Z"
   },
   {
    "duration": 13,
    "start_time": "2021-07-09T00:50:57.842Z"
   },
   {
    "duration": 13,
    "start_time": "2021-07-09T00:51:33.994Z"
   },
   {
    "duration": 7,
    "start_time": "2021-07-09T00:54:54.031Z"
   },
   {
    "duration": 7,
    "start_time": "2021-07-09T00:54:57.442Z"
   },
   {
    "duration": 6451,
    "start_time": "2021-07-09T00:55:02.636Z"
   },
   {
    "duration": 7,
    "start_time": "2021-07-09T00:55:12.900Z"
   },
   {
    "duration": 7,
    "start_time": "2021-07-09T00:55:17.719Z"
   },
   {
    "duration": 8,
    "start_time": "2021-07-09T00:55:20.241Z"
   },
   {
    "duration": 7,
    "start_time": "2021-07-09T00:57:16.332Z"
   },
   {
    "duration": 24,
    "start_time": "2021-07-09T01:00:11.705Z"
   },
   {
    "duration": 18,
    "start_time": "2021-07-09T01:00:16.454Z"
   },
   {
    "duration": 22,
    "start_time": "2021-07-09T01:00:26.788Z"
   },
   {
    "duration": 9,
    "start_time": "2021-07-09T01:16:39.408Z"
   },
   {
    "duration": 340,
    "start_time": "2021-07-09T01:18:17.878Z"
   },
   {
    "duration": 353,
    "start_time": "2021-07-09T01:19:51.818Z"
   },
   {
    "duration": 5,
    "start_time": "2021-07-09T01:20:34.024Z"
   },
   {
    "duration": 6,
    "start_time": "2021-07-09T01:20:36.317Z"
   },
   {
    "duration": 7,
    "start_time": "2021-07-09T01:25:02.975Z"
   },
   {
    "duration": 9851,
    "start_time": "2021-07-09T01:25:45.502Z"
   },
   {
    "duration": 7,
    "start_time": "2021-07-09T01:27:32.975Z"
   },
   {
    "duration": 6,
    "start_time": "2021-07-09T01:28:54.208Z"
   },
   {
    "duration": 11,
    "start_time": "2021-07-09T01:30:16.526Z"
   },
   {
    "duration": 11,
    "start_time": "2021-07-09T01:32:33.116Z"
   },
   {
    "duration": 6,
    "start_time": "2021-07-09T01:32:43.036Z"
   },
   {
    "duration": 9,
    "start_time": "2021-07-09T01:32:45.011Z"
   },
   {
    "duration": 6,
    "start_time": "2021-07-09T01:33:21.925Z"
   },
   {
    "duration": 6,
    "start_time": "2021-07-09T01:33:38.289Z"
   },
   {
    "duration": 6,
    "start_time": "2021-07-09T01:33:39.912Z"
   },
   {
    "duration": 9,
    "start_time": "2021-07-09T01:33:42.362Z"
   },
   {
    "duration": 58,
    "start_time": "2021-07-09T01:42:11.824Z"
   },
   {
    "duration": 52,
    "start_time": "2021-07-09T01:42:22.519Z"
   },
   {
    "duration": 14,
    "start_time": "2021-07-09T01:42:29.295Z"
   },
   {
    "duration": 12,
    "start_time": "2021-07-09T01:42:34.646Z"
   },
   {
    "duration": 53,
    "start_time": "2021-07-09T01:49:56.003Z"
   },
   {
    "duration": 14,
    "start_time": "2021-07-09T01:49:57.552Z"
   },
   {
    "duration": 12,
    "start_time": "2021-07-09T01:50:04.303Z"
   },
   {
    "duration": 11,
    "start_time": "2021-07-09T01:50:13.829Z"
   },
   {
    "duration": 13,
    "start_time": "2021-07-09T01:52:41.420Z"
   },
   {
    "duration": 12,
    "start_time": "2021-07-09T01:54:45.008Z"
   },
   {
    "duration": 5,
    "start_time": "2021-07-09T01:55:36.119Z"
   },
   {
    "duration": 76,
    "start_time": "2021-07-09T01:55:36.128Z"
   },
   {
    "duration": 14,
    "start_time": "2021-07-09T01:55:36.208Z"
   },
   {
    "duration": 12,
    "start_time": "2021-07-09T01:55:36.225Z"
   },
   {
    "duration": 16,
    "start_time": "2021-07-09T01:55:36.240Z"
   },
   {
    "duration": 59,
    "start_time": "2021-07-09T01:55:36.258Z"
   },
   {
    "duration": 81,
    "start_time": "2021-07-09T01:55:36.319Z"
   },
   {
    "duration": 13,
    "start_time": "2021-07-09T01:55:36.403Z"
   },
   {
    "duration": 7,
    "start_time": "2021-07-09T01:55:36.420Z"
   },
   {
    "duration": 19,
    "start_time": "2021-07-09T01:55:36.430Z"
   },
   {
    "duration": 7,
    "start_time": "2021-07-09T01:55:36.451Z"
   },
   {
    "duration": 12,
    "start_time": "2021-07-09T01:55:36.500Z"
   },
   {
    "duration": 10,
    "start_time": "2021-07-09T01:55:36.515Z"
   },
   {
    "duration": 8,
    "start_time": "2021-07-09T01:55:36.528Z"
   },
   {
    "duration": 14,
    "start_time": "2021-07-09T01:55:36.539Z"
   },
   {
    "duration": 9,
    "start_time": "2021-07-09T01:55:36.601Z"
   },
   {
    "duration": 23,
    "start_time": "2021-07-09T01:55:36.612Z"
   },
   {
    "duration": 8,
    "start_time": "2021-07-09T01:55:36.638Z"
   },
   {
    "duration": 14,
    "start_time": "2021-07-09T01:55:36.649Z"
   },
   {
    "duration": 43,
    "start_time": "2021-07-09T01:55:36.665Z"
   },
   {
    "duration": 21,
    "start_time": "2021-07-09T01:55:36.710Z"
   },
   {
    "duration": 3,
    "start_time": "2021-07-09T01:55:36.734Z"
   },
   {
    "duration": 9,
    "start_time": "2021-07-09T01:55:36.740Z"
   },
   {
    "duration": 49,
    "start_time": "2021-07-09T01:55:36.752Z"
   },
   {
    "duration": 17,
    "start_time": "2021-07-09T01:55:36.804Z"
   },
   {
    "duration": 11,
    "start_time": "2021-07-09T01:55:36.823Z"
   },
   {
    "duration": 8,
    "start_time": "2021-07-09T01:55:36.841Z"
   },
   {
    "duration": 51,
    "start_time": "2021-07-09T01:55:36.853Z"
   },
   {
    "duration": 16,
    "start_time": "2021-07-09T01:55:36.907Z"
   },
   {
    "duration": 9,
    "start_time": "2021-07-09T01:55:36.925Z"
   },
   {
    "duration": 20,
    "start_time": "2021-07-09T01:55:36.937Z"
   },
   {
    "duration": 8,
    "start_time": "2021-07-09T01:55:36.999Z"
   },
   {
    "duration": 9,
    "start_time": "2021-07-09T01:55:37.009Z"
   },
   {
    "duration": 17,
    "start_time": "2021-07-09T01:55:37.020Z"
   },
   {
    "duration": 9,
    "start_time": "2021-07-09T01:55:37.039Z"
   },
   {
    "duration": 7,
    "start_time": "2021-07-09T01:55:37.051Z"
   },
   {
    "duration": 41,
    "start_time": "2021-07-09T01:55:37.061Z"
   },
   {
    "duration": 17,
    "start_time": "2021-07-09T01:55:37.105Z"
   },
   {
    "duration": 10,
    "start_time": "2021-07-09T01:55:37.125Z"
   },
   {
    "duration": 11,
    "start_time": "2021-07-09T01:55:37.138Z"
   },
   {
    "duration": 49,
    "start_time": "2021-07-09T01:55:37.151Z"
   },
   {
    "duration": 6,
    "start_time": "2021-07-09T01:55:37.203Z"
   },
   {
    "duration": 8,
    "start_time": "2021-07-09T01:55:37.211Z"
   },
   {
    "duration": 8,
    "start_time": "2021-07-09T01:55:37.221Z"
   },
   {
    "duration": 20,
    "start_time": "2021-07-09T01:55:37.231Z"
   },
   {
    "duration": 51,
    "start_time": "2021-07-09T01:55:37.253Z"
   },
   {
    "duration": 22,
    "start_time": "2021-07-09T01:55:37.306Z"
   },
   {
    "duration": 21,
    "start_time": "2021-07-09T01:55:37.331Z"
   },
   {
    "duration": 55,
    "start_time": "2021-07-09T01:55:37.355Z"
   },
   {
    "duration": 19,
    "start_time": "2021-07-09T01:55:37.413Z"
   },
   {
    "duration": 24,
    "start_time": "2021-07-09T01:55:37.435Z"
   },
   {
    "duration": 43,
    "start_time": "2021-07-09T01:55:37.462Z"
   },
   {
    "duration": 9,
    "start_time": "2021-07-09T01:55:37.508Z"
   },
   {
    "duration": 10,
    "start_time": "2021-07-09T01:55:37.520Z"
   },
   {
    "duration": 8,
    "start_time": "2021-07-09T01:55:37.533Z"
   },
   {
    "duration": 8,
    "start_time": "2021-07-09T01:55:37.544Z"
   },
   {
    "duration": 48,
    "start_time": "2021-07-09T01:55:37.555Z"
   },
   {
    "duration": 29,
    "start_time": "2021-07-09T01:55:37.605Z"
   },
   {
    "duration": 16,
    "start_time": "2021-07-09T01:55:37.637Z"
   },
   {
    "duration": 51,
    "start_time": "2021-07-09T01:55:37.656Z"
   },
   {
    "duration": 355,
    "start_time": "2021-07-09T01:55:37.709Z"
   },
   {
    "duration": 366,
    "start_time": "2021-07-09T01:55:38.066Z"
   },
   {
    "duration": 5,
    "start_time": "2021-07-09T01:55:38.435Z"
   },
   {
    "duration": 8,
    "start_time": "2021-07-09T01:55:38.443Z"
   },
   {
    "duration": 7,
    "start_time": "2021-07-09T01:55:38.454Z"
   },
   {
    "duration": 9760,
    "start_time": "2021-07-09T01:55:38.463Z"
   },
   {
    "duration": 6,
    "start_time": "2021-07-09T01:55:48.225Z"
   },
   {
    "duration": 8,
    "start_time": "2021-07-09T01:55:48.234Z"
   },
   {
    "duration": 15,
    "start_time": "2021-07-09T01:55:48.245Z"
   },
   {
    "duration": 42,
    "start_time": "2021-07-09T01:55:48.262Z"
   },
   {
    "duration": 6,
    "start_time": "2021-07-09T01:55:48.306Z"
   },
   {
    "duration": 10,
    "start_time": "2021-07-09T01:55:48.314Z"
   },
   {
    "duration": 14,
    "start_time": "2021-07-09T01:55:48.326Z"
   },
   {
    "duration": 12,
    "start_time": "2021-07-09T01:55:48.342Z"
   },
   {
    "duration": 6,
    "start_time": "2021-07-09T01:55:48.356Z"
   },
   {
    "duration": 91,
    "start_time": "2021-07-09T01:55:48.364Z"
   },
   {
    "duration": 13,
    "start_time": "2021-07-09T01:55:48.458Z"
   },
   {
    "duration": 70,
    "start_time": "2021-07-09T01:55:48.473Z"
   },
   {
    "duration": 13,
    "start_time": "2021-07-09T01:55:48.546Z"
   },
   {
    "duration": 71,
    "start_time": "2021-07-09T01:55:48.562Z"
   },
   {
    "duration": 13,
    "start_time": "2021-07-09T01:55:48.641Z"
   },
   {
    "duration": 72,
    "start_time": "2021-07-09T01:55:48.657Z"
   },
   {
    "duration": 13,
    "start_time": "2021-07-09T01:55:48.732Z"
   },
   {
    "duration": 1684,
    "start_time": "2021-07-09T04:25:42.619Z"
   },
   {
    "duration": 70,
    "start_time": "2021-07-09T04:25:44.307Z"
   },
   {
    "duration": 21,
    "start_time": "2021-07-09T04:25:44.385Z"
   },
   {
    "duration": 15,
    "start_time": "2021-07-09T04:25:44.410Z"
   },
   {
    "duration": 21,
    "start_time": "2021-07-09T04:25:44.429Z"
   },
   {
    "duration": 27,
    "start_time": "2021-07-09T04:25:44.489Z"
   },
   {
    "duration": 44,
    "start_time": "2021-07-09T04:25:44.518Z"
   },
   {
    "duration": 35,
    "start_time": "2021-07-09T04:25:44.566Z"
   },
   {
    "duration": 10,
    "start_time": "2021-07-09T04:25:44.605Z"
   },
   {
    "duration": 17,
    "start_time": "2021-07-09T04:25:44.618Z"
   },
   {
    "duration": 48,
    "start_time": "2021-07-09T04:25:44.638Z"
   },
   {
    "duration": 12,
    "start_time": "2021-07-09T04:25:44.688Z"
   },
   {
    "duration": 12,
    "start_time": "2021-07-09T04:25:44.703Z"
   },
   {
    "duration": 13,
    "start_time": "2021-07-09T04:25:44.717Z"
   },
   {
    "duration": 11,
    "start_time": "2021-07-09T04:25:44.733Z"
   },
   {
    "duration": 8,
    "start_time": "2021-07-09T04:25:44.786Z"
   },
   {
    "duration": 23,
    "start_time": "2021-07-09T04:25:44.797Z"
   },
   {
    "duration": 9,
    "start_time": "2021-07-09T04:25:44.822Z"
   },
   {
    "duration": 55,
    "start_time": "2021-07-09T04:25:44.833Z"
   },
   {
    "duration": 12,
    "start_time": "2021-07-09T04:25:44.890Z"
   },
   {
    "duration": 20,
    "start_time": "2021-07-09T04:25:44.905Z"
   },
   {
    "duration": 4,
    "start_time": "2021-07-09T04:25:44.927Z"
   },
   {
    "duration": 62,
    "start_time": "2021-07-09T04:25:44.937Z"
   },
   {
    "duration": 25,
    "start_time": "2021-07-09T04:25:45.003Z"
   },
   {
    "duration": 23,
    "start_time": "2021-07-09T04:25:45.031Z"
   },
   {
    "duration": 9,
    "start_time": "2021-07-09T04:25:45.057Z"
   },
   {
    "duration": 34,
    "start_time": "2021-07-09T04:25:45.069Z"
   },
   {
    "duration": 10,
    "start_time": "2021-07-09T04:25:45.106Z"
   },
   {
    "duration": 14,
    "start_time": "2021-07-09T04:25:45.118Z"
   },
   {
    "duration": 10,
    "start_time": "2021-07-09T04:25:45.135Z"
   },
   {
    "duration": 61,
    "start_time": "2021-07-09T04:25:45.148Z"
   },
   {
    "duration": 454,
    "start_time": "2021-07-09T04:25:45.211Z"
   },
   {
    "duration": 113,
    "start_time": "2021-07-09T04:25:45.555Z"
   },
   {
    "duration": 113,
    "start_time": "2021-07-09T04:25:45.557Z"
   },
   {
    "duration": 113,
    "start_time": "2021-07-09T04:25:45.559Z"
   },
   {
    "duration": 113,
    "start_time": "2021-07-09T04:25:45.560Z"
   },
   {
    "duration": 105,
    "start_time": "2021-07-09T04:25:45.570Z"
   },
   {
    "duration": 103,
    "start_time": "2021-07-09T04:25:45.573Z"
   },
   {
    "duration": 103,
    "start_time": "2021-07-09T04:25:45.575Z"
   },
   {
    "duration": 103,
    "start_time": "2021-07-09T04:25:45.577Z"
   },
   {
    "duration": 102,
    "start_time": "2021-07-09T04:25:45.579Z"
   },
   {
    "duration": 102,
    "start_time": "2021-07-09T04:25:45.581Z"
   },
   {
    "duration": 101,
    "start_time": "2021-07-09T04:25:45.583Z"
   },
   {
    "duration": 101,
    "start_time": "2021-07-09T04:25:45.585Z"
   },
   {
    "duration": 105,
    "start_time": "2021-07-09T04:25:45.587Z"
   },
   {
    "duration": 106,
    "start_time": "2021-07-09T04:25:45.589Z"
   },
   {
    "duration": 106,
    "start_time": "2021-07-09T04:25:45.591Z"
   },
   {
    "duration": 107,
    "start_time": "2021-07-09T04:25:45.593Z"
   },
   {
    "duration": 107,
    "start_time": "2021-07-09T04:25:45.595Z"
   },
   {
    "duration": 106,
    "start_time": "2021-07-09T04:25:45.597Z"
   },
   {
    "duration": 107,
    "start_time": "2021-07-09T04:25:45.598Z"
   },
   {
    "duration": 105,
    "start_time": "2021-07-09T04:25:45.601Z"
   },
   {
    "duration": 104,
    "start_time": "2021-07-09T04:25:45.603Z"
   },
   {
    "duration": 104,
    "start_time": "2021-07-09T04:25:45.605Z"
   },
   {
    "duration": 103,
    "start_time": "2021-07-09T04:25:45.607Z"
   },
   {
    "duration": 102,
    "start_time": "2021-07-09T04:25:45.609Z"
   },
   {
    "duration": 101,
    "start_time": "2021-07-09T04:25:45.611Z"
   },
   {
    "duration": 101,
    "start_time": "2021-07-09T04:25:45.613Z"
   },
   {
    "duration": 100,
    "start_time": "2021-07-09T04:25:45.615Z"
   },
   {
    "duration": 98,
    "start_time": "2021-07-09T04:25:45.618Z"
   },
   {
    "duration": 97,
    "start_time": "2021-07-09T04:25:45.620Z"
   },
   {
    "duration": 96,
    "start_time": "2021-07-09T04:25:45.623Z"
   },
   {
    "duration": 94,
    "start_time": "2021-07-09T04:25:45.626Z"
   },
   {
    "duration": 93,
    "start_time": "2021-07-09T04:25:45.628Z"
   },
   {
    "duration": 89,
    "start_time": "2021-07-09T04:25:45.633Z"
   },
   {
    "duration": 90,
    "start_time": "2021-07-09T04:25:45.634Z"
   },
   {
    "duration": 89,
    "start_time": "2021-07-09T04:25:45.636Z"
   },
   {
    "duration": 84,
    "start_time": "2021-07-09T04:25:45.643Z"
   },
   {
    "duration": 83,
    "start_time": "2021-07-09T04:25:45.645Z"
   },
   {
    "duration": 82,
    "start_time": "2021-07-09T04:25:45.647Z"
   },
   {
    "duration": 142,
    "start_time": "2021-07-09T04:25:45.648Z"
   },
   {
    "duration": 143,
    "start_time": "2021-07-09T04:25:45.650Z"
   },
   {
    "duration": 143,
    "start_time": "2021-07-09T04:25:45.652Z"
   },
   {
    "duration": 103,
    "start_time": "2021-07-09T04:25:45.695Z"
   },
   {
    "duration": 96,
    "start_time": "2021-07-09T04:25:45.703Z"
   },
   {
    "duration": 94,
    "start_time": "2021-07-09T04:25:45.706Z"
   },
   {
    "duration": 94,
    "start_time": "2021-07-09T04:25:45.708Z"
   },
   {
    "duration": 92,
    "start_time": "2021-07-09T04:25:45.712Z"
   },
   {
    "duration": 91,
    "start_time": "2021-07-09T04:25:45.714Z"
   },
   {
    "duration": 90,
    "start_time": "2021-07-09T04:25:45.716Z"
   },
   {
    "duration": 91,
    "start_time": "2021-07-09T04:25:45.718Z"
   },
   {
    "duration": 90,
    "start_time": "2021-07-09T04:25:45.721Z"
   },
   {
    "duration": 90,
    "start_time": "2021-07-09T04:25:45.723Z"
   },
   {
    "duration": 7,
    "start_time": "2021-07-09T04:28:00.697Z"
   },
   {
    "duration": 18,
    "start_time": "2021-07-09T04:28:03.891Z"
   },
   {
    "duration": 10,
    "start_time": "2021-07-09T04:28:04.313Z"
   },
   {
    "duration": 9,
    "start_time": "2021-07-09T04:28:04.770Z"
   },
   {
    "duration": 8,
    "start_time": "2021-07-09T04:28:05.528Z"
   },
   {
    "duration": 17,
    "start_time": "2021-07-09T04:28:05.888Z"
   },
   {
    "duration": 15,
    "start_time": "2021-07-09T04:28:06.658Z"
   },
   {
    "duration": 15,
    "start_time": "2021-07-09T04:28:07.019Z"
   },
   {
    "duration": 12,
    "start_time": "2021-07-09T04:28:07.440Z"
   },
   {
    "duration": 6,
    "start_time": "2021-07-09T04:28:08.245Z"
   },
   {
    "duration": 4,
    "start_time": "2021-07-09T04:28:09.002Z"
   },
   {
    "duration": 1374,
    "start_time": "2021-07-09T04:28:11.589Z"
   },
   {
    "duration": 104,
    "start_time": "2021-07-09T04:28:12.861Z"
   },
   {
    "duration": 103,
    "start_time": "2021-07-09T04:28:12.864Z"
   },
   {
    "duration": 15,
    "start_time": "2021-07-09T04:28:18.564Z"
   },
   {
    "duration": 12,
    "start_time": "2021-07-09T04:28:19.609Z"
   },
   {
    "duration": 23,
    "start_time": "2021-07-09T04:28:22.333Z"
   },
   {
    "duration": 24,
    "start_time": "2021-07-09T04:28:22.743Z"
   },
   {
    "duration": 24,
    "start_time": "2021-07-09T04:28:23.133Z"
   },
   {
    "duration": 23,
    "start_time": "2021-07-09T04:28:24.224Z"
   },
   {
    "duration": 27,
    "start_time": "2021-07-09T04:28:24.617Z"
   },
   {
    "duration": 15,
    "start_time": "2021-07-09T04:28:25.535Z"
   },
   {
    "duration": 8,
    "start_time": "2021-07-09T04:28:26.413Z"
   },
   {
    "duration": 10,
    "start_time": "2021-07-09T04:28:26.788Z"
   },
   {
    "duration": 8,
    "start_time": "2021-07-09T04:28:27.242Z"
   },
   {
    "duration": 11,
    "start_time": "2021-07-09T04:28:27.686Z"
   },
   {
    "duration": 8,
    "start_time": "2021-07-09T04:28:28.110Z"
   },
   {
    "duration": 28,
    "start_time": "2021-07-09T04:28:29.058Z"
   },
   {
    "duration": 17,
    "start_time": "2021-07-09T04:28:30.197Z"
   },
   {
    "duration": 25,
    "start_time": "2021-07-09T04:28:30.810Z"
   },
   {
    "duration": 383,
    "start_time": "2021-07-09T04:28:33.732Z"
   },
   {
    "duration": 2447,
    "start_time": "2021-07-09T04:28:34.645Z"
   },
   {
    "duration": 7,
    "start_time": "2021-07-09T04:28:37.096Z"
   },
   {
    "duration": 8,
    "start_time": "2021-07-09T04:28:37.106Z"
   },
   {
    "duration": 7,
    "start_time": "2021-07-09T04:28:37.117Z"
   },
   {
    "duration": 11056,
    "start_time": "2021-07-09T04:28:37.650Z"
   },
   {
    "duration": 8,
    "start_time": "2021-07-09T04:28:48.709Z"
   },
   {
    "duration": 6,
    "start_time": "2021-07-09T04:28:48.721Z"
   },
   {
    "duration": 17,
    "start_time": "2021-07-09T04:28:48.731Z"
   },
   {
    "duration": 54,
    "start_time": "2021-07-09T04:28:48.751Z"
   },
   {
    "duration": 11,
    "start_time": "2021-07-09T04:28:48.808Z"
   },
   {
    "duration": 11,
    "start_time": "2021-07-09T04:28:48.821Z"
   },
   {
    "duration": 7,
    "start_time": "2021-07-09T04:28:48.834Z"
   },
   {
    "duration": 42,
    "start_time": "2021-07-09T04:28:48.843Z"
   },
   {
    "duration": 3,
    "start_time": "2021-07-09T04:28:50.359Z"
   },
   {
    "duration": 61,
    "start_time": "2021-07-09T04:28:52.395Z"
   },
   {
    "duration": 14,
    "start_time": "2021-07-09T04:28:52.838Z"
   },
   {
    "duration": 58,
    "start_time": "2021-07-09T04:28:56.451Z"
   },
   {
    "duration": 15,
    "start_time": "2021-07-09T04:28:57.092Z"
   },
   {
    "duration": 60,
    "start_time": "2021-07-09T04:29:01.129Z"
   },
   {
    "duration": 15,
    "start_time": "2021-07-09T04:29:01.716Z"
   },
   {
    "duration": 61,
    "start_time": "2021-07-09T04:29:04.689Z"
   },
   {
    "duration": 19,
    "start_time": "2021-07-09T04:29:05.281Z"
   },
   {
    "duration": 218,
    "start_time": "2021-07-09T18:22:07.075Z"
   },
   {
    "duration": 172,
    "start_time": "2021-07-09T18:22:32.174Z"
   },
   {
    "duration": 173,
    "start_time": "2021-07-09T18:22:37.906Z"
   },
   {
    "duration": 167,
    "start_time": "2021-07-09T18:22:40.626Z"
   },
   {
    "duration": 1189,
    "start_time": "2021-07-09T18:24:07.683Z"
   },
   {
    "duration": 50,
    "start_time": "2021-07-09T18:24:08.874Z"
   },
   {
    "duration": 12,
    "start_time": "2021-07-09T18:24:08.926Z"
   },
   {
    "duration": 9,
    "start_time": "2021-07-09T18:24:08.940Z"
   },
   {
    "duration": 12,
    "start_time": "2021-07-09T18:24:08.951Z"
   },
   {
    "duration": 29,
    "start_time": "2021-07-09T18:24:08.965Z"
   },
   {
    "duration": 30,
    "start_time": "2021-07-09T18:24:08.996Z"
   },
   {
    "duration": 8,
    "start_time": "2021-07-09T18:24:09.029Z"
   },
   {
    "duration": 5,
    "start_time": "2021-07-09T18:24:09.040Z"
   },
   {
    "duration": 38,
    "start_time": "2021-07-09T18:24:09.047Z"
   },
   {
    "duration": 5,
    "start_time": "2021-07-09T18:24:09.087Z"
   },
   {
    "duration": 9,
    "start_time": "2021-07-09T18:24:09.094Z"
   },
   {
    "duration": 9,
    "start_time": "2021-07-09T18:24:09.105Z"
   },
   {
    "duration": 6,
    "start_time": "2021-07-09T18:24:09.116Z"
   },
   {
    "duration": 7,
    "start_time": "2021-07-09T18:24:09.124Z"
   },
   {
    "duration": 6,
    "start_time": "2021-07-09T18:24:09.133Z"
   },
   {
    "duration": 54,
    "start_time": "2021-07-09T18:24:09.140Z"
   },
   {
    "duration": 10,
    "start_time": "2021-07-09T18:24:09.196Z"
   },
   {
    "duration": 8,
    "start_time": "2021-07-09T18:24:09.207Z"
   },
   {
    "duration": 8,
    "start_time": "2021-07-09T18:24:09.216Z"
   },
   {
    "duration": 13,
    "start_time": "2021-07-09T18:24:09.226Z"
   },
   {
    "duration": 2,
    "start_time": "2021-07-09T18:24:09.241Z"
   },
   {
    "duration": 39,
    "start_time": "2021-07-09T18:24:09.247Z"
   },
   {
    "duration": 6,
    "start_time": "2021-07-09T18:24:09.288Z"
   },
   {
    "duration": 13,
    "start_time": "2021-07-09T18:24:09.295Z"
   },
   {
    "duration": 7,
    "start_time": "2021-07-09T18:24:09.310Z"
   },
   {
    "duration": 6,
    "start_time": "2021-07-09T18:24:09.318Z"
   },
   {
    "duration": 6,
    "start_time": "2021-07-09T18:24:09.326Z"
   },
   {
    "duration": 6,
    "start_time": "2021-07-09T18:24:09.334Z"
   },
   {
    "duration": 48,
    "start_time": "2021-07-09T18:24:09.342Z"
   },
   {
    "duration": 17,
    "start_time": "2021-07-09T18:24:09.392Z"
   },
   {
    "duration": 5,
    "start_time": "2021-07-09T18:24:09.411Z"
   },
   {
    "duration": 6,
    "start_time": "2021-07-09T18:24:09.417Z"
   },
   {
    "duration": 12,
    "start_time": "2021-07-09T18:24:09.425Z"
   },
   {
    "duration": 6,
    "start_time": "2021-07-09T18:24:09.439Z"
   },
   {
    "duration": 42,
    "start_time": "2021-07-09T18:24:09.447Z"
   },
   {
    "duration": 7,
    "start_time": "2021-07-09T18:24:09.491Z"
   },
   {
    "duration": 14,
    "start_time": "2021-07-09T18:24:09.500Z"
   },
   {
    "duration": 9,
    "start_time": "2021-07-09T18:24:09.516Z"
   },
   {
    "duration": 10,
    "start_time": "2021-07-09T18:24:09.527Z"
   },
   {
    "duration": 8,
    "start_time": "2021-07-09T18:24:09.539Z"
   },
   {
    "duration": 5,
    "start_time": "2021-07-09T18:24:09.585Z"
   },
   {
    "duration": 4,
    "start_time": "2021-07-09T18:24:09.592Z"
   },
   {
    "duration": 5,
    "start_time": "2021-07-09T18:24:09.598Z"
   },
   {
    "duration": 15,
    "start_time": "2021-07-09T18:24:09.605Z"
   },
   {
    "duration": 8,
    "start_time": "2021-07-09T18:24:09.621Z"
   },
   {
    "duration": 15,
    "start_time": "2021-07-09T18:24:09.630Z"
   },
   {
    "duration": 52,
    "start_time": "2021-07-09T18:24:09.646Z"
   },
   {
    "duration": 17,
    "start_time": "2021-07-09T18:24:09.700Z"
   },
   {
    "duration": 14,
    "start_time": "2021-07-09T18:24:09.719Z"
   },
   {
    "duration": 17,
    "start_time": "2021-07-09T18:24:09.734Z"
   },
   {
    "duration": 37,
    "start_time": "2021-07-09T18:24:09.753Z"
   },
   {
    "duration": 6,
    "start_time": "2021-07-09T18:24:09.792Z"
   },
   {
    "duration": 5,
    "start_time": "2021-07-09T18:24:09.800Z"
   },
   {
    "duration": 7,
    "start_time": "2021-07-09T18:24:09.807Z"
   },
   {
    "duration": 7,
    "start_time": "2021-07-09T18:24:09.816Z"
   },
   {
    "duration": 9,
    "start_time": "2021-07-09T18:24:09.825Z"
   },
   {
    "duration": 58,
    "start_time": "2021-07-09T18:24:09.836Z"
   },
   {
    "duration": 14,
    "start_time": "2021-07-09T18:24:09.896Z"
   },
   {
    "duration": 16,
    "start_time": "2021-07-09T18:24:09.912Z"
   },
   {
    "duration": 271,
    "start_time": "2021-07-09T18:24:09.930Z"
   },
   {
    "duration": 1422,
    "start_time": "2021-07-09T18:24:10.203Z"
   },
   {
    "duration": 3,
    "start_time": "2021-07-09T18:24:11.627Z"
   },
   {
    "duration": 6,
    "start_time": "2021-07-09T18:24:11.631Z"
   },
   {
    "duration": 9,
    "start_time": "2021-07-09T18:24:11.638Z"
   },
   {
    "duration": 5623,
    "start_time": "2021-07-09T18:24:11.648Z"
   },
   {
    "duration": 4,
    "start_time": "2021-07-09T18:24:17.272Z"
   },
   {
    "duration": 5,
    "start_time": "2021-07-09T18:24:17.284Z"
   },
   {
    "duration": 9,
    "start_time": "2021-07-09T18:24:17.290Z"
   },
   {
    "duration": 8,
    "start_time": "2021-07-09T18:24:17.301Z"
   },
   {
    "duration": 5,
    "start_time": "2021-07-09T18:24:17.310Z"
   },
   {
    "duration": 6,
    "start_time": "2021-07-09T18:24:17.317Z"
   },
   {
    "duration": 6,
    "start_time": "2021-07-09T18:24:17.324Z"
   },
   {
    "duration": 9,
    "start_time": "2021-07-09T18:24:17.331Z"
   },
   {
    "duration": 6,
    "start_time": "2021-07-09T18:24:17.341Z"
   },
   {
    "duration": 69,
    "start_time": "2021-07-09T18:24:17.348Z"
   },
   {
    "duration": 10,
    "start_time": "2021-07-09T18:24:17.418Z"
   },
   {
    "duration": 54,
    "start_time": "2021-07-09T18:24:17.430Z"
   },
   {
    "duration": 8,
    "start_time": "2021-07-09T18:24:17.486Z"
   },
   {
    "duration": 35,
    "start_time": "2021-07-09T18:24:17.496Z"
   },
   {
    "duration": 8,
    "start_time": "2021-07-09T18:24:17.532Z"
   },
   {
    "duration": 51,
    "start_time": "2021-07-09T18:24:17.541Z"
   },
   {
    "duration": 8,
    "start_time": "2021-07-09T18:24:17.594Z"
   }
  ],
  "kernelspec": {
   "display_name": "Python 3",
   "language": "python",
   "name": "python3"
  },
  "language_info": {
   "codemirror_mode": {
    "name": "ipython",
    "version": 3
   },
   "file_extension": ".py",
   "mimetype": "text/x-python",
   "name": "python",
   "nbconvert_exporter": "python",
   "pygments_lexer": "ipython3",
   "version": "3.7.8"
  },
  "toc": {
   "base_numbering": 1,
   "nav_menu": {},
   "number_sections": true,
   "sideBar": true,
   "skip_h1_title": true,
   "title_cell": "Table of Contents",
   "title_sidebar": "Contents",
   "toc_cell": false,
   "toc_position": {},
   "toc_section_display": true,
   "toc_window_display": false
  }
 },
 "nbformat": 4,
 "nbformat_minor": 2
}
