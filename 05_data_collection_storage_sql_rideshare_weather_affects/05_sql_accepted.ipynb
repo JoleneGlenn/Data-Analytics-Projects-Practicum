{
 "cells": [
  {
   "cell_type": "markdown",
   "metadata": {},
   "source": [
    "**Review**\n",
    "  \n",
    "Hi, my name is Dmitry and I will be reviewing your project.\n",
    "  \n",
    "You can find my comments in colored markdown cells:\n",
    "  \n",
    "<div class=\"alert alert-success\">\n",
    "  If everything is done successfully.\n",
    "</div>\n",
    "  \n",
    "<div class=\"alert alert-warning\">\n",
    "  If I have some (optional) suggestions, or questions to think about, or general comments.\n",
    "</div>\n",
    "  \n",
    "<div class=\"alert alert-danger\">\n",
    "  If a section requires some corrections. Work can't be accepted with red comments.\n",
    "</div>\n",
    "  \n",
    "Please don't remove my comments, as it will make further review iterations much harder for me.\n",
    "  \n",
    "Feel free to reply to my comments or ask questions using the following template:\n",
    "  \n",
    "<div class=\"alert alert-info\">\n",
    "  For your comments and questions.\n",
    "</div>\n",
    "  \n",
    "First of all, thank you for turning in the project! You did a great job! The project is accepted. Good luck on the next sprint!"
   ]
  },
  {
   "cell_type": "markdown",
   "metadata": {},
   "source": [
    "# Data Colection and Storage Course Project"
   ]
  },
  {
   "cell_type": "markdown",
   "metadata": {},
   "source": [
    "***Project Description***\n",
    "\n",
    "You're working as an analyst for Zuber, a new ride-sharing company that's\n",
    "launching in Chicago. Your task is to find patterns in the available information. You\n",
    "want to understand passenger preferences and the impact of external factors on\n",
    "rides.\n",
    "\n",
    "Working with a database, you'll analyze data from competitors and test a\n",
    "hypothesis about the impact of weather on ride frequency.\n",
    "\n",
    "***Step 1 - performed in Yandex platform***\n",
    "- Parse the data\n",
    "\n",
    "***Step 2 - performed in Yandex platform***\n",
    "- Exploratory data analysis\n",
    "    - Find the number of taxi rides for each taxi company for November 15-16, 2017\n",
    "    - Find the number of rides for every taxi company whose name contains the words \"Yellow\" or \"Blue\" for November 1-7, 2017\n",
    "    - In November 2017, the most popular taxi companies were Flash Cab and Taxi Affiliation Services. Find the number of rides for these two companies\n",
    "\n",
    "***Step 3 - performed in Yandex platform***\n",
    "- Prepare the data to test the hypothesis that the duration of rides from the the Loop to O'Hare International Airport changes on rainy Saturdays\n",
    "\n",
    "***Step 4 - performed in this notebook***\n",
    "- From the data retrieved in Steps 1-3, there are 2 other files to be used:\n",
    "    - project_sql_result_01.csv\n",
    "        - contains:\n",
    "            - company_name : taxi company name\n",
    "            - trips_amount : the number of rides for each taxi company on November 15-16, 2017.\n",
    "    - project_sql_result_04.csv\n",
    "        - contains:\n",
    "            - dropoff_location_name : Chicago neighborhoods where rides ended\n",
    "            - average_trips : the average number of rides that ended in each neighborhood in November 2017\n",
    "\n",
    "- Using python perform exploratory data analysis\n",
    "    - import the files\n",
    "    - study the data they contain\n",
    "    - make sure the data types are correct\n",
    "    - identify the top 10 neighborhoods in terms of drop-offs\n",
    "    - create graphs: \n",
    "        - taxi companies and number of rides \n",
    "        - top 10 neighborhoods by number of dropoffs\n",
    "    - draw conclusions based on each graph and explain the results\n",
    "    \n",
    "***Step 5 - performed in this notebook***\n",
    "- Test the following hypothesis: \"The average duration of rides from the Loop to O'Hare International Airport changes on rainy Saturdays.\"\n",
    "    - Set the significance level (alpha) value on your own.\n",
    "    - Explain:\n",
    "        - how you formed the null and alternative hypotheses\n",
    "        - what criterion you used to test the hypotheses and why\n",
    "    - use project_sql_result_07.csv\n",
    "        - contains:\n",
    "            - start_ts - pickup date and time\n",
    "            - weather_conditions - weather conditions at the moment the ride started\n",
    "            - duration_seconds - ride duration in seconds"
   ]
  },
  {
   "cell_type": "markdown",
   "metadata": {},
   "source": [
    "# Step 4\n",
    "\n",
    "***Plan of Action***\n",
    "- 4.a import libraries\n",
    "- 4.b import the files, open the data files and study the general information\n",
    "- 4.c data preprocessing\n",
    "    - clean up the data and process where necessary\n",
    "        - read and save working versions of data\n",
    "        - identify missing values\n",
    "        - identify duplicate rows\n",
    "        - make sure the data types are correct\n",
    "- 4.d calculate requested information\n",
    "    - identify the top 10 neighborhoods in terms of drop-offs\n",
    "    - create graphs: \n",
    "        - taxi companies and number of rides \n",
    "        - top 10 neighborhoods by number of dropoffs\n",
    "    - draw conclusions based on each graph and explain the results"
   ]
  },
  {
   "cell_type": "markdown",
   "metadata": {},
   "source": [
    "# 4.a Import Libraries"
   ]
  },
  {
   "cell_type": "code",
   "execution_count": 1,
   "metadata": {},
   "outputs": [],
   "source": [
    "import pandas as pd\n",
    "import numpy as np\n",
    "import matplotlib.pyplot as plt\n",
    "import datetime\n",
    "from scipy import stats as st"
   ]
  },
  {
   "cell_type": "markdown",
   "metadata": {},
   "source": [
    "# 4.b Import files and study the general information"
   ]
  },
  {
   "cell_type": "code",
   "execution_count": 2,
   "metadata": {},
   "outputs": [],
   "source": [
    "# read and save original files\n",
    "company_trips_orig = pd.read_csv('/datasets/project_sql_result_01.csv')\n",
    "dropoff_orig = pd.read_csv('/datasets/project_sql_result_04.csv')\n",
    "weather_orig = pd.read_csv('/datasets/project_sql_result_07.csv')"
   ]
  },
  {
   "cell_type": "code",
   "execution_count": 3,
   "metadata": {},
   "outputs": [
    {
     "name": "stdout",
     "output_type": "stream",
     "text": [
      "company and trips dataframe\n"
     ]
    },
    {
     "data": {
      "text/html": [
       "<div>\n",
       "<style scoped>\n",
       "    .dataframe tbody tr th:only-of-type {\n",
       "        vertical-align: middle;\n",
       "    }\n",
       "\n",
       "    .dataframe tbody tr th {\n",
       "        vertical-align: top;\n",
       "    }\n",
       "\n",
       "    .dataframe thead th {\n",
       "        text-align: right;\n",
       "    }\n",
       "</style>\n",
       "<table border=\"1\" class=\"dataframe\">\n",
       "  <thead>\n",
       "    <tr style=\"text-align: right;\">\n",
       "      <th></th>\n",
       "      <th>company_name</th>\n",
       "      <th>trips_amount</th>\n",
       "    </tr>\n",
       "  </thead>\n",
       "  <tbody>\n",
       "    <tr>\n",
       "      <th>0</th>\n",
       "      <td>Flash Cab</td>\n",
       "      <td>19558</td>\n",
       "    </tr>\n",
       "    <tr>\n",
       "      <th>1</th>\n",
       "      <td>Taxi Affiliation Services</td>\n",
       "      <td>11422</td>\n",
       "    </tr>\n",
       "    <tr>\n",
       "      <th>2</th>\n",
       "      <td>Medallion Leasing</td>\n",
       "      <td>10367</td>\n",
       "    </tr>\n",
       "    <tr>\n",
       "      <th>3</th>\n",
       "      <td>Yellow Cab</td>\n",
       "      <td>9888</td>\n",
       "    </tr>\n",
       "    <tr>\n",
       "      <th>4</th>\n",
       "      <td>Taxi Affiliation Service Yellow</td>\n",
       "      <td>9299</td>\n",
       "    </tr>\n",
       "  </tbody>\n",
       "</table>\n",
       "</div>"
      ],
      "text/plain": [
       "                      company_name  trips_amount\n",
       "0                        Flash Cab         19558\n",
       "1        Taxi Affiliation Services         11422\n",
       "2                Medallion Leasing         10367\n",
       "3                       Yellow Cab          9888\n",
       "4  Taxi Affiliation Service Yellow          9299"
      ]
     },
     "execution_count": 3,
     "metadata": {},
     "output_type": "execute_result"
    }
   ],
   "source": [
    "# examine dataframe\n",
    "print('company and trips dataframe')\n",
    "company_trips_orig.head()"
   ]
  },
  {
   "cell_type": "code",
   "execution_count": 4,
   "metadata": {},
   "outputs": [
    {
     "name": "stdout",
     "output_type": "stream",
     "text": [
      "company and trips general info\n",
      "<class 'pandas.core.frame.DataFrame'>\n",
      "RangeIndex: 64 entries, 0 to 63\n",
      "Data columns (total 2 columns):\n",
      " #   Column        Non-Null Count  Dtype \n",
      "---  ------        --------------  ----- \n",
      " 0   company_name  64 non-null     object\n",
      " 1   trips_amount  64 non-null     int64 \n",
      "dtypes: int64(1), object(1)\n",
      "memory usage: 1.1+ KB\n"
     ]
    }
   ],
   "source": [
    "# examine general info\n",
    "print('company and trips general info')\n",
    "company_trips_orig.info()"
   ]
  },
  {
   "cell_type": "code",
   "execution_count": 5,
   "metadata": {},
   "outputs": [
    {
     "name": "stdout",
     "output_type": "stream",
     "text": [
      "number of unique taxi companies in this data:\n"
     ]
    },
    {
     "data": {
      "text/plain": [
       "64"
      ]
     },
     "execution_count": 5,
     "metadata": {},
     "output_type": "execute_result"
    }
   ],
   "source": [
    "print('number of unique taxi companies in this data:')\n",
    "company_trips_orig['company_name'].value_counts(dropna=False).count()"
   ]
  },
  {
   "cell_type": "code",
   "execution_count": 6,
   "metadata": {},
   "outputs": [
    {
     "name": "stdout",
     "output_type": "stream",
     "text": [
      "dropoff dataframe\n"
     ]
    },
    {
     "data": {
      "text/html": [
       "<div>\n",
       "<style scoped>\n",
       "    .dataframe tbody tr th:only-of-type {\n",
       "        vertical-align: middle;\n",
       "    }\n",
       "\n",
       "    .dataframe tbody tr th {\n",
       "        vertical-align: top;\n",
       "    }\n",
       "\n",
       "    .dataframe thead th {\n",
       "        text-align: right;\n",
       "    }\n",
       "</style>\n",
       "<table border=\"1\" class=\"dataframe\">\n",
       "  <thead>\n",
       "    <tr style=\"text-align: right;\">\n",
       "      <th></th>\n",
       "      <th>dropoff_location_name</th>\n",
       "      <th>average_trips</th>\n",
       "    </tr>\n",
       "  </thead>\n",
       "  <tbody>\n",
       "    <tr>\n",
       "      <th>0</th>\n",
       "      <td>Loop</td>\n",
       "      <td>10727.466667</td>\n",
       "    </tr>\n",
       "    <tr>\n",
       "      <th>1</th>\n",
       "      <td>River North</td>\n",
       "      <td>9523.666667</td>\n",
       "    </tr>\n",
       "    <tr>\n",
       "      <th>2</th>\n",
       "      <td>Streeterville</td>\n",
       "      <td>6664.666667</td>\n",
       "    </tr>\n",
       "    <tr>\n",
       "      <th>3</th>\n",
       "      <td>West Loop</td>\n",
       "      <td>5163.666667</td>\n",
       "    </tr>\n",
       "    <tr>\n",
       "      <th>4</th>\n",
       "      <td>O'Hare</td>\n",
       "      <td>2546.900000</td>\n",
       "    </tr>\n",
       "  </tbody>\n",
       "</table>\n",
       "</div>"
      ],
      "text/plain": [
       "  dropoff_location_name  average_trips\n",
       "0                  Loop   10727.466667\n",
       "1           River North    9523.666667\n",
       "2         Streeterville    6664.666667\n",
       "3             West Loop    5163.666667\n",
       "4                O'Hare    2546.900000"
      ]
     },
     "execution_count": 6,
     "metadata": {},
     "output_type": "execute_result"
    }
   ],
   "source": [
    "# examine dataframe\n",
    "print('dropoff dataframe')\n",
    "dropoff_orig.head()"
   ]
  },
  {
   "cell_type": "code",
   "execution_count": 7,
   "metadata": {},
   "outputs": [
    {
     "name": "stdout",
     "output_type": "stream",
     "text": [
      "dropoff general info\n",
      "<class 'pandas.core.frame.DataFrame'>\n",
      "RangeIndex: 94 entries, 0 to 93\n",
      "Data columns (total 2 columns):\n",
      " #   Column                 Non-Null Count  Dtype  \n",
      "---  ------                 --------------  -----  \n",
      " 0   dropoff_location_name  94 non-null     object \n",
      " 1   average_trips          94 non-null     float64\n",
      "dtypes: float64(1), object(1)\n",
      "memory usage: 1.6+ KB\n"
     ]
    }
   ],
   "source": [
    "# examine general info\n",
    "print('dropoff general info')\n",
    "dropoff_orig.info()"
   ]
  },
  {
   "cell_type": "code",
   "execution_count": 8,
   "metadata": {},
   "outputs": [
    {
     "name": "stdout",
     "output_type": "stream",
     "text": [
      "weather dataframe\n"
     ]
    },
    {
     "data": {
      "text/html": [
       "<div>\n",
       "<style scoped>\n",
       "    .dataframe tbody tr th:only-of-type {\n",
       "        vertical-align: middle;\n",
       "    }\n",
       "\n",
       "    .dataframe tbody tr th {\n",
       "        vertical-align: top;\n",
       "    }\n",
       "\n",
       "    .dataframe thead th {\n",
       "        text-align: right;\n",
       "    }\n",
       "</style>\n",
       "<table border=\"1\" class=\"dataframe\">\n",
       "  <thead>\n",
       "    <tr style=\"text-align: right;\">\n",
       "      <th></th>\n",
       "      <th>start_ts</th>\n",
       "      <th>weather_conditions</th>\n",
       "      <th>duration_seconds</th>\n",
       "    </tr>\n",
       "  </thead>\n",
       "  <tbody>\n",
       "    <tr>\n",
       "      <th>0</th>\n",
       "      <td>2017-11-25 16:00:00</td>\n",
       "      <td>Good</td>\n",
       "      <td>2410.0</td>\n",
       "    </tr>\n",
       "    <tr>\n",
       "      <th>1</th>\n",
       "      <td>2017-11-25 14:00:00</td>\n",
       "      <td>Good</td>\n",
       "      <td>1920.0</td>\n",
       "    </tr>\n",
       "    <tr>\n",
       "      <th>2</th>\n",
       "      <td>2017-11-25 12:00:00</td>\n",
       "      <td>Good</td>\n",
       "      <td>1543.0</td>\n",
       "    </tr>\n",
       "    <tr>\n",
       "      <th>3</th>\n",
       "      <td>2017-11-04 10:00:00</td>\n",
       "      <td>Good</td>\n",
       "      <td>2512.0</td>\n",
       "    </tr>\n",
       "    <tr>\n",
       "      <th>4</th>\n",
       "      <td>2017-11-11 07:00:00</td>\n",
       "      <td>Good</td>\n",
       "      <td>1440.0</td>\n",
       "    </tr>\n",
       "  </tbody>\n",
       "</table>\n",
       "</div>"
      ],
      "text/plain": [
       "              start_ts weather_conditions  duration_seconds\n",
       "0  2017-11-25 16:00:00               Good            2410.0\n",
       "1  2017-11-25 14:00:00               Good            1920.0\n",
       "2  2017-11-25 12:00:00               Good            1543.0\n",
       "3  2017-11-04 10:00:00               Good            2512.0\n",
       "4  2017-11-11 07:00:00               Good            1440.0"
      ]
     },
     "execution_count": 8,
     "metadata": {},
     "output_type": "execute_result"
    }
   ],
   "source": [
    "# examine dataframe\n",
    "print('weather dataframe')\n",
    "weather_orig.head()"
   ]
  },
  {
   "cell_type": "code",
   "execution_count": 9,
   "metadata": {},
   "outputs": [
    {
     "name": "stdout",
     "output_type": "stream",
     "text": [
      "weather general info\n",
      "<class 'pandas.core.frame.DataFrame'>\n",
      "RangeIndex: 1068 entries, 0 to 1067\n",
      "Data columns (total 3 columns):\n",
      " #   Column              Non-Null Count  Dtype  \n",
      "---  ------              --------------  -----  \n",
      " 0   start_ts            1068 non-null   object \n",
      " 1   weather_conditions  1068 non-null   object \n",
      " 2   duration_seconds    1068 non-null   float64\n",
      "dtypes: float64(1), object(2)\n",
      "memory usage: 25.2+ KB\n"
     ]
    }
   ],
   "source": [
    "# examine general info\n",
    "print('weather general info')\n",
    "weather_orig.info()"
   ]
  },
  {
   "cell_type": "code",
   "execution_count": 10,
   "metadata": {},
   "outputs": [
    {
     "name": "stdout",
     "output_type": "stream",
     "text": [
      "number of unique weather conditions\n"
     ]
    },
    {
     "data": {
      "text/plain": [
       "Good    888\n",
       "Bad     180\n",
       "Name: weather_conditions, dtype: int64"
      ]
     },
     "execution_count": 10,
     "metadata": {},
     "output_type": "execute_result"
    }
   ],
   "source": [
    "print('number of unique weather conditions')\n",
    "weather_orig['weather_conditions'].value_counts(dropna=False)"
   ]
  },
  {
   "cell_type": "markdown",
   "metadata": {},
   "source": [
    "# 4.b Conclusion of original files and general information\n",
    "\n",
    "- There are 64 unique taxi compnaies in this data set\n",
    "- All columns in all files have the same amount of values, suggesting no missing values\n",
    "- The weather data has a column with date/time info set as an object type - this will be changed below in data preprocessing\n",
    "- The weather data has a column with values in seconds - this will be changed below in data preprocessing to be more readable\n",
    "- There are 888 values for \"Good\" weather conditions and 180 for \"Bad\" weather conditions"
   ]
  },
  {
   "cell_type": "markdown",
   "metadata": {},
   "source": [
    "<div class=\"alert alert-success\">\n",
    "<b>Reviewer's comment</b>\n",
    "\n",
    "The data was loaded and inspected!\n",
    "\n",
    "</div>"
   ]
  },
  {
   "cell_type": "markdown",
   "metadata": {},
   "source": [
    "# 4.c Data Preprocessing\n",
    "\n",
    "***clean up the data and process where necessary***\n",
    "- read and save working versions of data\n",
    "- identify missing values\n",
    "- identify duplicate rows\n",
    "- make sure the data types are correct\n",
    "- create readable/user friendly columns"
   ]
  },
  {
   "cell_type": "code",
   "execution_count": 11,
   "metadata": {},
   "outputs": [],
   "source": [
    "# read and save working versions of data\n",
    "company_trips = pd.read_csv('/datasets/project_sql_result_01.csv')\n",
    "dropoff = pd.read_csv('/datasets/project_sql_result_04.csv')\n",
    "weather = pd.read_csv('/datasets/project_sql_result_07.csv')"
   ]
  },
  {
   "cell_type": "markdown",
   "metadata": {},
   "source": [
    "***Identify missing values in each data set***"
   ]
  },
  {
   "cell_type": "code",
   "execution_count": 12,
   "metadata": {},
   "outputs": [
    {
     "name": "stdout",
     "output_type": "stream",
     "text": [
      "number of missing values in company_trips\n"
     ]
    },
    {
     "data": {
      "text/plain": [
       "company_name    0\n",
       "trips_amount    0\n",
       "dtype: int64"
      ]
     },
     "execution_count": 12,
     "metadata": {},
     "output_type": "execute_result"
    }
   ],
   "source": [
    "print('number of missing values in company_trips')\n",
    "company_trips.isnull().sum()"
   ]
  },
  {
   "cell_type": "code",
   "execution_count": 13,
   "metadata": {},
   "outputs": [
    {
     "name": "stdout",
     "output_type": "stream",
     "text": [
      "number of missing values in dropoff\n"
     ]
    },
    {
     "data": {
      "text/plain": [
       "dropoff_location_name    0\n",
       "average_trips            0\n",
       "dtype: int64"
      ]
     },
     "execution_count": 13,
     "metadata": {},
     "output_type": "execute_result"
    }
   ],
   "source": [
    "print('number of missing values in dropoff')\n",
    "dropoff.isnull().sum()"
   ]
  },
  {
   "cell_type": "code",
   "execution_count": 14,
   "metadata": {},
   "outputs": [
    {
     "name": "stdout",
     "output_type": "stream",
     "text": [
      "number of missing values in weather\n"
     ]
    },
    {
     "data": {
      "text/plain": [
       "start_ts              0\n",
       "weather_conditions    0\n",
       "duration_seconds      0\n",
       "dtype: int64"
      ]
     },
     "execution_count": 14,
     "metadata": {},
     "output_type": "execute_result"
    }
   ],
   "source": [
    "print('number of missing values in weather')\n",
    "weather.isnull().sum()"
   ]
  },
  {
   "cell_type": "markdown",
   "metadata": {},
   "source": [
    "***Identify duplicate rows in each data set***"
   ]
  },
  {
   "cell_type": "code",
   "execution_count": 15,
   "metadata": {},
   "outputs": [
    {
     "name": "stdout",
     "output_type": "stream",
     "text": [
      "number of duplicate rows in company_trips\n"
     ]
    },
    {
     "data": {
      "text/plain": [
       "0"
      ]
     },
     "execution_count": 15,
     "metadata": {},
     "output_type": "execute_result"
    }
   ],
   "source": [
    "print('number of duplicate rows in company_trips')\n",
    "company_trips.duplicated().sum()"
   ]
  },
  {
   "cell_type": "code",
   "execution_count": 16,
   "metadata": {},
   "outputs": [
    {
     "name": "stdout",
     "output_type": "stream",
     "text": [
      "number of duplicate rows in dropoff\n"
     ]
    },
    {
     "data": {
      "text/plain": [
       "0"
      ]
     },
     "execution_count": 16,
     "metadata": {},
     "output_type": "execute_result"
    }
   ],
   "source": [
    "print('number of duplicate rows in dropoff')\n",
    "dropoff.duplicated().sum()"
   ]
  },
  {
   "cell_type": "code",
   "execution_count": 17,
   "metadata": {},
   "outputs": [
    {
     "name": "stdout",
     "output_type": "stream",
     "text": [
      "number of duplicate rows in weather\n"
     ]
    },
    {
     "data": {
      "text/plain": [
       "197"
      ]
     },
     "execution_count": 17,
     "metadata": {},
     "output_type": "execute_result"
    }
   ],
   "source": [
    "print('number of duplicate rows in weather')\n",
    "weather.duplicated().sum()"
   ]
  },
  {
   "cell_type": "markdown",
   "metadata": {},
   "source": [
    "***Examine and process duplicate rows***"
   ]
  },
  {
   "cell_type": "code",
   "execution_count": 18,
   "metadata": {},
   "outputs": [
    {
     "name": "stdout",
     "output_type": "stream",
     "text": [
      "percent of duplicate rows in weather:\n",
      "18.45%\n"
     ]
    }
   ],
   "source": [
    "perc_dupls_weather = weather.duplicated().sum() / len(weather)\n",
    "print('percent of duplicate rows in weather:\\n{:.2%}'.format(perc_dupls_weather))"
   ]
  },
  {
   "cell_type": "code",
   "execution_count": 19,
   "metadata": {},
   "outputs": [
    {
     "name": "stdout",
     "output_type": "stream",
     "text": [
      "number of duplicate rows after duplicate rows were removed\n"
     ]
    },
    {
     "data": {
      "text/plain": [
       "0"
      ]
     },
     "execution_count": 19,
     "metadata": {},
     "output_type": "execute_result"
    }
   ],
   "source": [
    "# drop duplicate rows and reset index\n",
    "weather = weather.drop_duplicates().reset_index(drop=True)\n",
    "# confirm duplicates were removed\n",
    "print('number of duplicate rows after duplicate rows were removed')\n",
    "weather.duplicated().sum()"
   ]
  },
  {
   "cell_type": "markdown",
   "metadata": {},
   "source": [
    "***Change data types where appropriate***\n",
    "- when examining original data the weather df was found to have a column with date/time info but is a object time\n",
    "    - change to a datetime data type"
   ]
  },
  {
   "cell_type": "code",
   "execution_count": 20,
   "metadata": {},
   "outputs": [
    {
     "name": "stdout",
     "output_type": "stream",
     "text": [
      "weather info before data type change\n",
      "<class 'pandas.core.frame.DataFrame'>\n",
      "RangeIndex: 871 entries, 0 to 870\n",
      "Data columns (total 3 columns):\n",
      " #   Column              Non-Null Count  Dtype  \n",
      "---  ------              --------------  -----  \n",
      " 0   start_ts            871 non-null    object \n",
      " 1   weather_conditions  871 non-null    object \n",
      " 2   duration_seconds    871 non-null    float64\n",
      "dtypes: float64(1), object(2)\n",
      "memory usage: 20.5+ KB\n"
     ]
    }
   ],
   "source": [
    "print('weather info before data type change')\n",
    "weather.info()"
   ]
  },
  {
   "cell_type": "code",
   "execution_count": 21,
   "metadata": {},
   "outputs": [
    {
     "name": "stdout",
     "output_type": "stream",
     "text": [
      "weather info after data type change\n",
      "<class 'pandas.core.frame.DataFrame'>\n",
      "RangeIndex: 871 entries, 0 to 870\n",
      "Data columns (total 3 columns):\n",
      " #   Column              Non-Null Count  Dtype         \n",
      "---  ------              --------------  -----         \n",
      " 0   start_ts            871 non-null    datetime64[ns]\n",
      " 1   weather_conditions  871 non-null    object        \n",
      " 2   duration_seconds    871 non-null    float64       \n",
      "dtypes: datetime64[ns](1), float64(1), object(1)\n",
      "memory usage: 20.5+ KB\n"
     ]
    }
   ],
   "source": [
    "# change data type from object to datetime\n",
    "weather['start_ts'] = pd.to_datetime(weather['start_ts'])\n",
    "# confirm data type change\n",
    "print('weather info after data type change')\n",
    "weather.info()"
   ]
  },
  {
   "cell_type": "markdown",
   "metadata": {},
   "source": [
    "***Change seconds to minutes***\n",
    "- when examining original data the weather df was found to have a column with values in seconds, this is not user friendly to read\n",
    "    - create a new column with values in minutes \n",
    "    - This is a more readable format for duration of rides"
   ]
  },
  {
   "cell_type": "code",
   "execution_count": 22,
   "metadata": {},
   "outputs": [
    {
     "data": {
      "text/html": [
       "<div>\n",
       "<style scoped>\n",
       "    .dataframe tbody tr th:only-of-type {\n",
       "        vertical-align: middle;\n",
       "    }\n",
       "\n",
       "    .dataframe tbody tr th {\n",
       "        vertical-align: top;\n",
       "    }\n",
       "\n",
       "    .dataframe thead th {\n",
       "        text-align: right;\n",
       "    }\n",
       "</style>\n",
       "<table border=\"1\" class=\"dataframe\">\n",
       "  <thead>\n",
       "    <tr style=\"text-align: right;\">\n",
       "      <th></th>\n",
       "      <th>start_ts</th>\n",
       "      <th>weather_conditions</th>\n",
       "      <th>duration_seconds</th>\n",
       "      <th>duration_minutes</th>\n",
       "    </tr>\n",
       "  </thead>\n",
       "  <tbody>\n",
       "    <tr>\n",
       "      <th>0</th>\n",
       "      <td>2017-11-25 16:00:00</td>\n",
       "      <td>Good</td>\n",
       "      <td>2410.0</td>\n",
       "      <td>40.166667</td>\n",
       "    </tr>\n",
       "    <tr>\n",
       "      <th>1</th>\n",
       "      <td>2017-11-25 14:00:00</td>\n",
       "      <td>Good</td>\n",
       "      <td>1920.0</td>\n",
       "      <td>32.000000</td>\n",
       "    </tr>\n",
       "    <tr>\n",
       "      <th>2</th>\n",
       "      <td>2017-11-25 12:00:00</td>\n",
       "      <td>Good</td>\n",
       "      <td>1543.0</td>\n",
       "      <td>25.716667</td>\n",
       "    </tr>\n",
       "    <tr>\n",
       "      <th>3</th>\n",
       "      <td>2017-11-04 10:00:00</td>\n",
       "      <td>Good</td>\n",
       "      <td>2512.0</td>\n",
       "      <td>41.866667</td>\n",
       "    </tr>\n",
       "    <tr>\n",
       "      <th>4</th>\n",
       "      <td>2017-11-11 07:00:00</td>\n",
       "      <td>Good</td>\n",
       "      <td>1440.0</td>\n",
       "      <td>24.000000</td>\n",
       "    </tr>\n",
       "  </tbody>\n",
       "</table>\n",
       "</div>"
      ],
      "text/plain": [
       "             start_ts weather_conditions  duration_seconds  duration_minutes\n",
       "0 2017-11-25 16:00:00               Good            2410.0         40.166667\n",
       "1 2017-11-25 14:00:00               Good            1920.0         32.000000\n",
       "2 2017-11-25 12:00:00               Good            1543.0         25.716667\n",
       "3 2017-11-04 10:00:00               Good            2512.0         41.866667\n",
       "4 2017-11-11 07:00:00               Good            1440.0         24.000000"
      ]
     },
     "execution_count": 22,
     "metadata": {},
     "output_type": "execute_result"
    }
   ],
   "source": [
    "weather['duration_minutes'] = weather['duration_seconds'] / 60\n",
    "weather.head()"
   ]
  },
  {
   "cell_type": "markdown",
   "metadata": {},
   "source": [
    "# 4.c Conclusion of data preprocessing\n",
    "\n",
    "- There are no missing values in the data sets\n",
    "- The weather data set had 197 duplicate rows\n",
    "    - this accounted for 18.45% of the data\n",
    "    - although this is above the 10% norm of deleting, I chose to delete these rows because they will cause skewed data in later processing\n",
    "    - duplicates may have been caused by entry or data acquisition errors\n",
    "- The column in weather containing date/time info was changed from object data type to datetime data type\n",
    "- A column in weather was containing duration in seconds was used to create a new column containing duration in minutes to be more readable and user friendly"
   ]
  },
  {
   "cell_type": "markdown",
   "metadata": {},
   "source": [
    "<div class=\"alert alert-success\">\n",
    "<b>Reviewer's comment</b>\n",
    "\n",
    "Preprocessing looks good!\n",
    "\n",
    "</div>"
   ]
  },
  {
   "cell_type": "markdown",
   "metadata": {},
   "source": [
    "# 4.d Calculate requested information\n",
    "- identify the top 10 neighborhoods in terms of drop-offs\n",
    "- create graphs: \n",
    "    - taxi companies and number of rides \n",
    "    - top 10 neighborhoods by number of dropoffs\n",
    "- draw conclusions based on each graph and explain the results"
   ]
  },
  {
   "cell_type": "markdown",
   "metadata": {},
   "source": [
    "***Identify the top 10 neighborhoods in terms of drop-offs***"
   ]
  },
  {
   "cell_type": "code",
   "execution_count": 23,
   "metadata": {},
   "outputs": [
    {
     "name": "stdout",
     "output_type": "stream",
     "text": [
      "The top 10 neighborhoods in terms of drop-offs:\n"
     ]
    },
    {
     "data": {
      "text/html": [
       "<div>\n",
       "<style scoped>\n",
       "    .dataframe tbody tr th:only-of-type {\n",
       "        vertical-align: middle;\n",
       "    }\n",
       "\n",
       "    .dataframe tbody tr th {\n",
       "        vertical-align: top;\n",
       "    }\n",
       "\n",
       "    .dataframe thead th {\n",
       "        text-align: right;\n",
       "    }\n",
       "</style>\n",
       "<table border=\"1\" class=\"dataframe\">\n",
       "  <thead>\n",
       "    <tr style=\"text-align: right;\">\n",
       "      <th></th>\n",
       "      <th>dropoff_location_name</th>\n",
       "      <th>average_trips</th>\n",
       "    </tr>\n",
       "  </thead>\n",
       "  <tbody>\n",
       "    <tr>\n",
       "      <th>0</th>\n",
       "      <td>Loop</td>\n",
       "      <td>10727.466667</td>\n",
       "    </tr>\n",
       "    <tr>\n",
       "      <th>1</th>\n",
       "      <td>River North</td>\n",
       "      <td>9523.666667</td>\n",
       "    </tr>\n",
       "    <tr>\n",
       "      <th>2</th>\n",
       "      <td>Streeterville</td>\n",
       "      <td>6664.666667</td>\n",
       "    </tr>\n",
       "    <tr>\n",
       "      <th>3</th>\n",
       "      <td>West Loop</td>\n",
       "      <td>5163.666667</td>\n",
       "    </tr>\n",
       "    <tr>\n",
       "      <th>4</th>\n",
       "      <td>O'Hare</td>\n",
       "      <td>2546.900000</td>\n",
       "    </tr>\n",
       "    <tr>\n",
       "      <th>5</th>\n",
       "      <td>Lake View</td>\n",
       "      <td>2420.966667</td>\n",
       "    </tr>\n",
       "    <tr>\n",
       "      <th>6</th>\n",
       "      <td>Grant Park</td>\n",
       "      <td>2068.533333</td>\n",
       "    </tr>\n",
       "    <tr>\n",
       "      <th>7</th>\n",
       "      <td>Museum Campus</td>\n",
       "      <td>1510.000000</td>\n",
       "    </tr>\n",
       "    <tr>\n",
       "      <th>8</th>\n",
       "      <td>Gold Coast</td>\n",
       "      <td>1364.233333</td>\n",
       "    </tr>\n",
       "    <tr>\n",
       "      <th>9</th>\n",
       "      <td>Sheffield &amp; DePaul</td>\n",
       "      <td>1259.766667</td>\n",
       "    </tr>\n",
       "  </tbody>\n",
       "</table>\n",
       "</div>"
      ],
      "text/plain": [
       "  dropoff_location_name  average_trips\n",
       "0                  Loop   10727.466667\n",
       "1           River North    9523.666667\n",
       "2         Streeterville    6664.666667\n",
       "3             West Loop    5163.666667\n",
       "4                O'Hare    2546.900000\n",
       "5             Lake View    2420.966667\n",
       "6            Grant Park    2068.533333\n",
       "7         Museum Campus    1510.000000\n",
       "8            Gold Coast    1364.233333\n",
       "9    Sheffield & DePaul    1259.766667"
      ]
     },
     "execution_count": 23,
     "metadata": {},
     "output_type": "execute_result"
    }
   ],
   "source": [
    "# sort the top 10 neighborhoods\n",
    "print('The top 10 neighborhoods in terms of drop-offs:')\n",
    "dropoff.sort_values(by='average_trips', ascending=False).head(10)"
   ]
  },
  {
   "cell_type": "markdown",
   "metadata": {},
   "source": [
    "***Graph the top 10 neighborhoods by number of dropoffs***"
   ]
  },
  {
   "cell_type": "code",
   "execution_count": 24,
   "metadata": {},
   "outputs": [
    {
     "name": "stdout",
     "output_type": "stream",
     "text": [
      "The top 10 neighborhoods in terms of drop-offs (dataframe):\n"
     ]
    },
    {
     "data": {
      "text/html": [
       "<div>\n",
       "<style scoped>\n",
       "    .dataframe tbody tr th:only-of-type {\n",
       "        vertical-align: middle;\n",
       "    }\n",
       "\n",
       "    .dataframe tbody tr th {\n",
       "        vertical-align: top;\n",
       "    }\n",
       "\n",
       "    .dataframe thead th {\n",
       "        text-align: right;\n",
       "    }\n",
       "</style>\n",
       "<table border=\"1\" class=\"dataframe\">\n",
       "  <thead>\n",
       "    <tr style=\"text-align: right;\">\n",
       "      <th></th>\n",
       "      <th>dropoff_location_name</th>\n",
       "      <th>average_trips</th>\n",
       "    </tr>\n",
       "  </thead>\n",
       "  <tbody>\n",
       "    <tr>\n",
       "      <th>0</th>\n",
       "      <td>Loop</td>\n",
       "      <td>10727.466667</td>\n",
       "    </tr>\n",
       "    <tr>\n",
       "      <th>1</th>\n",
       "      <td>River North</td>\n",
       "      <td>9523.666667</td>\n",
       "    </tr>\n",
       "    <tr>\n",
       "      <th>2</th>\n",
       "      <td>Streeterville</td>\n",
       "      <td>6664.666667</td>\n",
       "    </tr>\n",
       "    <tr>\n",
       "      <th>3</th>\n",
       "      <td>West Loop</td>\n",
       "      <td>5163.666667</td>\n",
       "    </tr>\n",
       "    <tr>\n",
       "      <th>4</th>\n",
       "      <td>O'Hare</td>\n",
       "      <td>2546.900000</td>\n",
       "    </tr>\n",
       "    <tr>\n",
       "      <th>5</th>\n",
       "      <td>Lake View</td>\n",
       "      <td>2420.966667</td>\n",
       "    </tr>\n",
       "    <tr>\n",
       "      <th>6</th>\n",
       "      <td>Grant Park</td>\n",
       "      <td>2068.533333</td>\n",
       "    </tr>\n",
       "    <tr>\n",
       "      <th>7</th>\n",
       "      <td>Museum Campus</td>\n",
       "      <td>1510.000000</td>\n",
       "    </tr>\n",
       "    <tr>\n",
       "      <th>8</th>\n",
       "      <td>Gold Coast</td>\n",
       "      <td>1364.233333</td>\n",
       "    </tr>\n",
       "    <tr>\n",
       "      <th>9</th>\n",
       "      <td>Sheffield &amp; DePaul</td>\n",
       "      <td>1259.766667</td>\n",
       "    </tr>\n",
       "  </tbody>\n",
       "</table>\n",
       "</div>"
      ],
      "text/plain": [
       "  dropoff_location_name  average_trips\n",
       "0                  Loop   10727.466667\n",
       "1           River North    9523.666667\n",
       "2         Streeterville    6664.666667\n",
       "3             West Loop    5163.666667\n",
       "4                O'Hare    2546.900000\n",
       "5             Lake View    2420.966667\n",
       "6            Grant Park    2068.533333\n",
       "7         Museum Campus    1510.000000\n",
       "8            Gold Coast    1364.233333\n",
       "9    Sheffield & DePaul    1259.766667"
      ]
     },
     "execution_count": 24,
     "metadata": {},
     "output_type": "execute_result"
    }
   ],
   "source": [
    "# create a dataframe of top ten neighborhoods in terms of dropoffs\n",
    "top_ten = dropoff.sort_values(by='average_trips', ascending=False).head(10)\n",
    "top_ten_df = pd.DataFrame(top_ten)\n",
    "print('The top 10 neighborhoods in terms of drop-offs (dataframe):')\n",
    "top_ten_df"
   ]
  },
  {
   "cell_type": "code",
   "execution_count": 25,
   "metadata": {},
   "outputs": [
    {
     "data": {
      "image/png": "[encoded data removed]",
      "text/plain": [
       "<Figure size 864x432 with 1 Axes>"
      ]
     },
     "metadata": {
      "needs_background": "light"
     },
     "output_type": "display_data"
    }
   ],
   "source": [
    "# graph the top 10 neighborhoods in terms of dropoffs\n",
    "top_ten_graph = top_ten_df.plot(kind='bar', figsize=(12, 6))\n",
    "plt.title('average trips for top 10 neighborhoods in terms of dropoffs in November 2017')\n",
    "plt.ylabel('number of trips')\n",
    "plt.xlabel('neighborhood')\n",
    "top_ten_graph.set_xticklabels(top_ten_df['dropoff_location_name'])\n",
    "plt.show()"
   ]
  },
  {
   "cell_type": "markdown",
   "metadata": {},
   "source": [
    "# 4.d Top 10 neighborhood conclusion\n",
    "- The top 4 neighborhoods have about 5000 or more average dropoffs\n",
    "    - all others are under 4000\n",
    "- The Loop neighborhood has the most dropoffs followed by River North"
   ]
  },
  {
   "cell_type": "markdown",
   "metadata": {},
   "source": [
    "***Graph the number of rides for each taxi company***"
   ]
  },
  {
   "cell_type": "code",
   "execution_count": 26,
   "metadata": {},
   "outputs": [],
   "source": [
    "# sort the company_trips df\n",
    "trips = company_trips.sort_values(by='trips_amount', ascending=False)\n",
    "# trips.head()"
   ]
  },
  {
   "cell_type": "code",
   "execution_count": 27,
   "metadata": {},
   "outputs": [
    {
     "data": {
      "image/png": "[encoded data removed]",
      "text/plain": [
       "<Figure size 1080x576 with 1 Axes>"
      ]
     },
     "metadata": {
      "needs_background": "light"
     },
     "output_type": "display_data"
    }
   ],
   "source": [
    "# graph the number of rides for each taxi company\n",
    "trips_graph = trips.plot(kind='bar', figsize=(15, 8))\n",
    "plt.title('Number of rides for each taxi company on November 15-16, 2017')\n",
    "plt.ylabel('number of rides')\n",
    "plt.xlabel('taxi company')\n",
    "trips_graph.set_xticklabels(trips['company_name'])\n",
    "plt.show()"
   ]
  },
  {
   "cell_type": "markdown",
   "metadata": {},
   "source": [
    "# 4.d Taxi rides for Nov 15-16 conclusion\n",
    "- Flash Cab has the most rides by far with around 19,000, this is about 8,000 more than Taxi Affiliation Services with about 11,000 rides\n",
    "- Most companies have less than 2,500 rides\n",
    "    - This may be because they have fewer drivers/cars\n",
    "    - Many of the company names dont have the word 'cab' or 'taxi' in their name, so they may be hard to search for\n",
    "- There is no explanation as to why Nov 15-16, 2017 were chosen for examination, possible reasons:\n",
    "    - the dates fall on a Wednesday and Thursday, which is in the middle of the week, which are not heavy travel days. The invesitgators may be interested in lesser traveled days\n",
    "    - The dates are roughly one week before Thanksgiving which is a major holiday in the United States"
   ]
  },
  {
   "cell_type": "markdown",
   "metadata": {},
   "source": [
    "<div class=\"alert alert-success\">\n",
    "<b>Reviewer's comment</b>\n",
    "\n",
    "Top dropoff locations and taxi companies were identified successfully\n",
    "\n",
    "</div>"
   ]
  },
  {
   "cell_type": "markdown",
   "metadata": {},
   "source": [
    "# Step 5 Test The Hypothesis\n",
    "\n",
    "***Plan of Action***\n",
    "- use cleaned up data from weather dataframe\n",
    "- examine the dispersion between the populations\n",
    "- create lists of the two populations to be tested\n",
    "- Test the following hypothesis: \"The average duration of rides from the Loop to O'Hare International Airport changes on rainy Saturdays.\" using an independent samples t-test\n",
    "    - Set the significance level to 5% - this is a standard level to use in these types of tests\n",
    "    \n",
    "***Test hypothesis:***\n",
    "- Null hypothesis:\n",
    "    - The average duration of rides from the Loop to O'Hare International Airport is the same on all Saturdays regardless of weather (rainy or non-rainy).\n",
    "- Alternative hypothesis:\n",
    "    - The average duration of rides from the Loop to O'Hare International Airport is differnt on rainy Saturdays compared to non-rainy Saturdays."
   ]
  },
  {
   "cell_type": "code",
   "execution_count": 28,
   "metadata": {},
   "outputs": [
    {
     "data": {
      "text/html": [
       "<div>\n",
       "<style scoped>\n",
       "    .dataframe tbody tr th:only-of-type {\n",
       "        vertical-align: middle;\n",
       "    }\n",
       "\n",
       "    .dataframe tbody tr th {\n",
       "        vertical-align: top;\n",
       "    }\n",
       "\n",
       "    .dataframe thead th {\n",
       "        text-align: right;\n",
       "    }\n",
       "</style>\n",
       "<table border=\"1\" class=\"dataframe\">\n",
       "  <thead>\n",
       "    <tr style=\"text-align: right;\">\n",
       "      <th></th>\n",
       "      <th>start_ts</th>\n",
       "      <th>weather_conditions</th>\n",
       "      <th>duration_seconds</th>\n",
       "      <th>duration_minutes</th>\n",
       "    </tr>\n",
       "  </thead>\n",
       "  <tbody>\n",
       "    <tr>\n",
       "      <th>0</th>\n",
       "      <td>2017-11-25 16:00:00</td>\n",
       "      <td>Good</td>\n",
       "      <td>2410.0</td>\n",
       "      <td>40.166667</td>\n",
       "    </tr>\n",
       "    <tr>\n",
       "      <th>1</th>\n",
       "      <td>2017-11-25 14:00:00</td>\n",
       "      <td>Good</td>\n",
       "      <td>1920.0</td>\n",
       "      <td>32.000000</td>\n",
       "    </tr>\n",
       "    <tr>\n",
       "      <th>2</th>\n",
       "      <td>2017-11-25 12:00:00</td>\n",
       "      <td>Good</td>\n",
       "      <td>1543.0</td>\n",
       "      <td>25.716667</td>\n",
       "    </tr>\n",
       "    <tr>\n",
       "      <th>3</th>\n",
       "      <td>2017-11-04 10:00:00</td>\n",
       "      <td>Good</td>\n",
       "      <td>2512.0</td>\n",
       "      <td>41.866667</td>\n",
       "    </tr>\n",
       "    <tr>\n",
       "      <th>4</th>\n",
       "      <td>2017-11-11 07:00:00</td>\n",
       "      <td>Good</td>\n",
       "      <td>1440.0</td>\n",
       "      <td>24.000000</td>\n",
       "    </tr>\n",
       "  </tbody>\n",
       "</table>\n",
       "</div>"
      ],
      "text/plain": [
       "             start_ts weather_conditions  duration_seconds  duration_minutes\n",
       "0 2017-11-25 16:00:00               Good            2410.0         40.166667\n",
       "1 2017-11-25 14:00:00               Good            1920.0         32.000000\n",
       "2 2017-11-25 12:00:00               Good            1543.0         25.716667\n",
       "3 2017-11-04 10:00:00               Good            2512.0         41.866667\n",
       "4 2017-11-11 07:00:00               Good            1440.0         24.000000"
      ]
     },
     "execution_count": 28,
     "metadata": {},
     "output_type": "execute_result"
    }
   ],
   "source": [
    "weather.head()"
   ]
  },
  {
   "cell_type": "markdown",
   "metadata": {},
   "source": [
    "***Examine the dispersion between the populations***"
   ]
  },
  {
   "cell_type": "code",
   "execution_count": 29,
   "metadata": {},
   "outputs": [
    {
     "data": {
      "text/html": [
       "<div>\n",
       "<style scoped>\n",
       "    .dataframe tbody tr th:only-of-type {\n",
       "        vertical-align: middle;\n",
       "    }\n",
       "\n",
       "    .dataframe tbody tr th {\n",
       "        vertical-align: top;\n",
       "    }\n",
       "\n",
       "    .dataframe thead th {\n",
       "        text-align: right;\n",
       "    }\n",
       "</style>\n",
       "<table border=\"1\" class=\"dataframe\">\n",
       "  <thead>\n",
       "    <tr style=\"text-align: right;\">\n",
       "      <th></th>\n",
       "      <th>num_rides</th>\n",
       "      <th>avg_ride_time_min</th>\n",
       "      <th>dispersion</th>\n",
       "    </tr>\n",
       "    <tr>\n",
       "      <th>weather_conditions</th>\n",
       "      <th></th>\n",
       "      <th></th>\n",
       "      <th></th>\n",
       "    </tr>\n",
       "  </thead>\n",
       "  <tbody>\n",
       "    <tr>\n",
       "      <th>Bad</th>\n",
       "      <td>148</td>\n",
       "      <td>40.153829</td>\n",
       "      <td>156.894290</td>\n",
       "    </tr>\n",
       "    <tr>\n",
       "      <th>Good</th>\n",
       "      <td>723</td>\n",
       "      <td>33.870885</td>\n",
       "      <td>166.171375</td>\n",
       "    </tr>\n",
       "  </tbody>\n",
       "</table>\n",
       "</div>"
      ],
      "text/plain": [
       "                    num_rides  avg_ride_time_min  dispersion\n",
       "weather_conditions                                          \n",
       "Bad                       148          40.153829  156.894290\n",
       "Good                      723          33.870885  166.171375"
      ]
     },
     "execution_count": 29,
     "metadata": {},
     "output_type": "execute_result"
    }
   ],
   "source": [
    "# create a table to examine the weather stats\n",
    "weather_stats = weather.pivot_table(index='weather_conditions', \n",
    "                                        values='duration_minutes',\n",
    "                                        aggfunc=['count', 'mean', np.var])\n",
    "weather_stats.columns = ['num_rides', 'avg_ride_time_min', 'dispersion']\n",
    "weather_stats"
   ]
  },
  {
   "cell_type": "markdown",
   "metadata": {},
   "source": [
    "***Create queries for populations of interest***"
   ]
  },
  {
   "cell_type": "code",
   "execution_count": 30,
   "metadata": {},
   "outputs": [
    {
     "name": "stdout",
     "output_type": "stream",
     "text": [
      "query of \"Good\" weather days\n"
     ]
    },
    {
     "data": {
      "text/html": [
       "<div>\n",
       "<style scoped>\n",
       "    .dataframe tbody tr th:only-of-type {\n",
       "        vertical-align: middle;\n",
       "    }\n",
       "\n",
       "    .dataframe tbody tr th {\n",
       "        vertical-align: top;\n",
       "    }\n",
       "\n",
       "    .dataframe thead th {\n",
       "        text-align: right;\n",
       "    }\n",
       "</style>\n",
       "<table border=\"1\" class=\"dataframe\">\n",
       "  <thead>\n",
       "    <tr style=\"text-align: right;\">\n",
       "      <th></th>\n",
       "      <th>start_ts</th>\n",
       "      <th>weather_conditions</th>\n",
       "      <th>duration_seconds</th>\n",
       "      <th>duration_minutes</th>\n",
       "    </tr>\n",
       "  </thead>\n",
       "  <tbody>\n",
       "    <tr>\n",
       "      <th>0</th>\n",
       "      <td>2017-11-25 16:00:00</td>\n",
       "      <td>Good</td>\n",
       "      <td>2410.0</td>\n",
       "      <td>40.166667</td>\n",
       "    </tr>\n",
       "    <tr>\n",
       "      <th>1</th>\n",
       "      <td>2017-11-25 14:00:00</td>\n",
       "      <td>Good</td>\n",
       "      <td>1920.0</td>\n",
       "      <td>32.000000</td>\n",
       "    </tr>\n",
       "    <tr>\n",
       "      <th>2</th>\n",
       "      <td>2017-11-25 12:00:00</td>\n",
       "      <td>Good</td>\n",
       "      <td>1543.0</td>\n",
       "      <td>25.716667</td>\n",
       "    </tr>\n",
       "    <tr>\n",
       "      <th>3</th>\n",
       "      <td>2017-11-04 10:00:00</td>\n",
       "      <td>Good</td>\n",
       "      <td>2512.0</td>\n",
       "      <td>41.866667</td>\n",
       "    </tr>\n",
       "    <tr>\n",
       "      <th>4</th>\n",
       "      <td>2017-11-11 07:00:00</td>\n",
       "      <td>Good</td>\n",
       "      <td>1440.0</td>\n",
       "      <td>24.000000</td>\n",
       "    </tr>\n",
       "  </tbody>\n",
       "</table>\n",
       "</div>"
      ],
      "text/plain": [
       "             start_ts weather_conditions  duration_seconds  duration_minutes\n",
       "0 2017-11-25 16:00:00               Good            2410.0         40.166667\n",
       "1 2017-11-25 14:00:00               Good            1920.0         32.000000\n",
       "2 2017-11-25 12:00:00               Good            1543.0         25.716667\n",
       "3 2017-11-04 10:00:00               Good            2512.0         41.866667\n",
       "4 2017-11-11 07:00:00               Good            1440.0         24.000000"
      ]
     },
     "execution_count": 30,
     "metadata": {},
     "output_type": "execute_result"
    }
   ],
   "source": [
    "# perform a query to acquire population of interest\n",
    "good_days = weather.query('weather_conditions == \"Good\"')\n",
    "print('query of \"Good\" weather days')\n",
    "good_days.head()                                     "
   ]
  },
  {
   "cell_type": "code",
   "execution_count": 31,
   "metadata": {},
   "outputs": [
    {
     "name": "stdout",
     "output_type": "stream",
     "text": [
      "query of \"Bad\" weather days\n"
     ]
    },
    {
     "data": {
      "text/html": [
       "<div>\n",
       "<style scoped>\n",
       "    .dataframe tbody tr th:only-of-type {\n",
       "        vertical-align: middle;\n",
       "    }\n",
       "\n",
       "    .dataframe tbody tr th {\n",
       "        vertical-align: top;\n",
       "    }\n",
       "\n",
       "    .dataframe thead th {\n",
       "        text-align: right;\n",
       "    }\n",
       "</style>\n",
       "<table border=\"1\" class=\"dataframe\">\n",
       "  <thead>\n",
       "    <tr style=\"text-align: right;\">\n",
       "      <th></th>\n",
       "      <th>start_ts</th>\n",
       "      <th>weather_conditions</th>\n",
       "      <th>duration_seconds</th>\n",
       "      <th>duration_minutes</th>\n",
       "    </tr>\n",
       "  </thead>\n",
       "  <tbody>\n",
       "    <tr>\n",
       "      <th>6</th>\n",
       "      <td>2017-11-04 16:00:00</td>\n",
       "      <td>Bad</td>\n",
       "      <td>2969.0</td>\n",
       "      <td>49.483333</td>\n",
       "    </tr>\n",
       "    <tr>\n",
       "      <th>30</th>\n",
       "      <td>2017-11-18 12:00:00</td>\n",
       "      <td>Bad</td>\n",
       "      <td>1980.0</td>\n",
       "      <td>33.000000</td>\n",
       "    </tr>\n",
       "    <tr>\n",
       "      <th>34</th>\n",
       "      <td>2017-11-04 17:00:00</td>\n",
       "      <td>Bad</td>\n",
       "      <td>2460.0</td>\n",
       "      <td>41.000000</td>\n",
       "    </tr>\n",
       "    <tr>\n",
       "      <th>51</th>\n",
       "      <td>2017-11-04 16:00:00</td>\n",
       "      <td>Bad</td>\n",
       "      <td>2760.0</td>\n",
       "      <td>46.000000</td>\n",
       "    </tr>\n",
       "    <tr>\n",
       "      <th>52</th>\n",
       "      <td>2017-11-18 12:00:00</td>\n",
       "      <td>Bad</td>\n",
       "      <td>2460.0</td>\n",
       "      <td>41.000000</td>\n",
       "    </tr>\n",
       "  </tbody>\n",
       "</table>\n",
       "</div>"
      ],
      "text/plain": [
       "              start_ts weather_conditions  duration_seconds  duration_minutes\n",
       "6  2017-11-04 16:00:00                Bad            2969.0         49.483333\n",
       "30 2017-11-18 12:00:00                Bad            1980.0         33.000000\n",
       "34 2017-11-04 17:00:00                Bad            2460.0         41.000000\n",
       "51 2017-11-04 16:00:00                Bad            2760.0         46.000000\n",
       "52 2017-11-18 12:00:00                Bad            2460.0         41.000000"
      ]
     },
     "execution_count": 31,
     "metadata": {},
     "output_type": "execute_result"
    }
   ],
   "source": [
    "# perform a query to acquire population of interest\n",
    "bad_days = weather.query('weather_conditions == \"Bad\"')\n",
    "print('query of \"Bad\" weather days')\n",
    "bad_days.head() "
   ]
  },
  {
   "cell_type": "markdown",
   "metadata": {},
   "source": [
    "***Create lists of the necessary populations for the test***"
   ]
  },
  {
   "cell_type": "code",
   "execution_count": 36,
   "metadata": {
    "scrolled": true
   },
   "outputs": [
    {
     "name": "stdout",
     "output_type": "stream",
     "text": [
      "List of \"Good\" weather ride durations in minutes\n"
     ]
    },
    {
     "data": {
      "text/plain": [
       "[40.166666666666664,\n",
       " 32.0,\n",
       " 25.716666666666665,\n",
       " 41.86666666666667,\n",
       " 24.0,\n",
       " 22.0,\n",
       " 38.0,\n",
       " 41.0,\n",
       " 34.0,\n",
       " 25.0]"
      ]
     },
     "execution_count": 36,
     "metadata": {},
     "output_type": "execute_result"
    }
   ],
   "source": [
    "# creat a list of population data\n",
    "good_days_list = list(good_days['duration_minutes'])\n",
    "print('List of \"Good\" weather ride durations in minutes')\n",
    "good_days_list[:10]"
   ]
  },
  {
   "cell_type": "code",
   "execution_count": 37,
   "metadata": {
    "scrolled": true
   },
   "outputs": [
    {
     "name": "stdout",
     "output_type": "stream",
     "text": [
      "List of \"Bad\" weather ride durations in minutes\n"
     ]
    },
    {
     "data": {
      "text/plain": [
       "[49.483333333333334,\n",
       " 33.0,\n",
       " 41.0,\n",
       " 46.0,\n",
       " 41.0,\n",
       " 24.0,\n",
       " 39.38333333333333,\n",
       " 50.0,\n",
       " 52.0,\n",
       " 25.183333333333334]"
      ]
     },
     "execution_count": 37,
     "metadata": {},
     "output_type": "execute_result"
    }
   ],
   "source": [
    "# creat a list of population data\n",
    "bad_days_list = list(bad_days['duration_minutes'])\n",
    "print('List of \"Bad\" weather ride durations in minutes')\n",
    "bad_days_list[:10]"
   ]
  },
  {
   "cell_type": "markdown",
   "metadata": {},
   "source": [
    "***Test hypothesis using an independent samples t-test***\n",
    "- Null hypothesis:\n",
    "    - The average duration of rides from the Loop to O'Hare International Airport is the same on all Saturdays regardless of weather (rainy or non-rainy).\n",
    "- Alternative hypothesis:\n",
    "    - The average duration of rides from the Loop to O'Hare International Airport is differnt on rainy Saturdays compared to non-rainy Saturdays."
   ]
  },
  {
   "cell_type": "code",
   "execution_count": 34,
   "metadata": {},
   "outputs": [
    {
     "name": "stdout",
     "output_type": "stream",
     "text": [
      "p-value:  9.126383933880083e-08\n",
      "Reject the null hypothesis\n",
      "Alternative hypothesis is true:\n",
      "The average duration of rides from the Loop to O'Hare International Airport is differnt on rainy Saturdays compared to non-rainy Saturdays.\n"
     ]
    }
   ],
   "source": [
    "# set the significance level\n",
    "alpha = 0.05 # 5% as the critical statistical significance level - this is standard for this type of test\n",
    "\n",
    "results = st.ttest_ind(good_days_list, \n",
    "                       bad_days_list, \n",
    "                       equal_var=False)\n",
    "\n",
    "print('p-value: ', results.pvalue)\n",
    "\n",
    "if results.pvalue < alpha:\n",
    "    print('Reject the null hypothesis')\n",
    "    print(\"Alternative hypothesis is true:\\nThe average duration of rides from the Loop to O'Hare International Airport is differnt on rainy Saturdays compared to non-rainy Saturdays.\")\n",
    "    \n",
    "if results.pvalue > alpha:\n",
    "    print(\"Can't reject null hypothesis\")\n",
    "    print(\"Null hypothesis is true:\\nThe average duration of rides from the Loop to O'Hare International Airport is the same on all Saturdays regardless of weather (rainy or non-rainy).\")"
   ]
  },
  {
   "cell_type": "code",
   "execution_count": 35,
   "metadata": {},
   "outputs": [
    {
     "data": {
      "text/html": [
       "<div>\n",
       "<style scoped>\n",
       "    .dataframe tbody tr th:only-of-type {\n",
       "        vertical-align: middle;\n",
       "    }\n",
       "\n",
       "    .dataframe tbody tr th {\n",
       "        vertical-align: top;\n",
       "    }\n",
       "\n",
       "    .dataframe thead th {\n",
       "        text-align: right;\n",
       "    }\n",
       "</style>\n",
       "<table border=\"1\" class=\"dataframe\">\n",
       "  <thead>\n",
       "    <tr style=\"text-align: right;\">\n",
       "      <th></th>\n",
       "      <th>num_rides</th>\n",
       "      <th>avg_ride_time_min</th>\n",
       "      <th>dispersion</th>\n",
       "    </tr>\n",
       "    <tr>\n",
       "      <th>weather_conditions</th>\n",
       "      <th></th>\n",
       "      <th></th>\n",
       "      <th></th>\n",
       "    </tr>\n",
       "  </thead>\n",
       "  <tbody>\n",
       "    <tr>\n",
       "      <th>Bad</th>\n",
       "      <td>148</td>\n",
       "      <td>40.153829</td>\n",
       "      <td>156.894290</td>\n",
       "    </tr>\n",
       "    <tr>\n",
       "      <th>Good</th>\n",
       "      <td>723</td>\n",
       "      <td>33.870885</td>\n",
       "      <td>166.171375</td>\n",
       "    </tr>\n",
       "  </tbody>\n",
       "</table>\n",
       "</div>"
      ],
      "text/plain": [
       "                    num_rides  avg_ride_time_min  dispersion\n",
       "weather_conditions                                          \n",
       "Bad                       148          40.153829  156.894290\n",
       "Good                      723          33.870885  166.171375"
      ]
     },
     "execution_count": 35,
     "metadata": {},
     "output_type": "execute_result"
    }
   ],
   "source": [
    "weather_stats"
   ]
  },
  {
   "cell_type": "markdown",
   "metadata": {},
   "source": [
    "# 5 Hypothesis Conclusion\n",
    "- Tables and queries were performed to obtain lists of the populations of interest (\"Good\" or \"Bad\" weather conditions)\n",
    "- The dispersion of the populations were compared to determine if the variance between the populations are similar or not\n",
    "    - they are not similar, therefore I used the following parameter in the t-test: `equal_var=False`\n",
    "- An independent samples t-test was performed to test the equality of the means of the two populations \n",
    "    - an alpha of 5% was used - this is standard for this type of test\n",
    "- The following hypotheses were tested:\n",
    "    - Null hypothesis:\n",
    "        - The average duration of rides from the Loop to O'Hare International Airport is the same on all Saturdays regardless of weather (rainy or non-rainy).\n",
    "    - Alternative hypothesis:\n",
    "        - The average duration of rides from the Loop to O'Hare International Airport is differnt on rainy Saturdays compared to non-rainy Saturdays.\n",
    "        \n",
    "***Results***\n",
    "- The null hypothesis is rejected, the alternative hypothesis is true: the average duration of rides from the Loop to O'Hare International Airport is differnt on rainy Saturdays compared to non-rainy Saturdays.\n",
    "    - This is supported by the weather_stats table showing that the average ride time for bad days is 7 minutes longer than good days"
   ]
  },
  {
   "cell_type": "markdown",
   "metadata": {},
   "source": [
    "<div class=\"alert alert-success\">\n",
    "<b>Reviewer's comment</b>\n",
    "\n",
    "The null and alternative hypotheses were formulated correctly, an appropriate test was used, and the conclusion is consistent with test results.\n",
    "\n",
    "</div>"
   ]
  }
 ],
 "metadata": {
  "ExecuteTimeLog": [
   {
    "duration": 1345,
    "start_time": "2021-09-27T18:16:40.346Z"
   },
   {
    "duration": 99,
    "start_time": "2021-09-27T18:17:26.914Z"
   },
   {
    "duration": 15,
    "start_time": "2021-09-27T18:17:50.808Z"
   },
   {
    "duration": 539,
    "start_time": "2021-09-27T18:18:43.707Z"
   },
   {
    "duration": 9,
    "start_time": "2021-09-27T18:18:56.980Z"
   },
   {
    "duration": 10,
    "start_time": "2021-09-27T18:20:34.329Z"
   },
   {
    "duration": 556,
    "start_time": "2021-09-27T18:21:06.847Z"
   },
   {
    "duration": 832,
    "start_time": "2021-09-27T18:21:11.534Z"
   },
   {
    "duration": 411,
    "start_time": "2021-09-27T18:22:10.633Z"
   },
   {
    "duration": 8,
    "start_time": "2021-09-27T18:22:14.939Z"
   },
   {
    "duration": 10,
    "start_time": "2021-09-27T18:24:38.729Z"
   },
   {
    "duration": 8,
    "start_time": "2021-09-27T18:25:22.430Z"
   },
   {
    "duration": 8,
    "start_time": "2021-09-27T18:26:52.492Z"
   },
   {
    "duration": 14,
    "start_time": "2021-09-27T18:27:04.684Z"
   },
   {
    "duration": 11,
    "start_time": "2021-09-27T18:28:44.577Z"
   },
   {
    "duration": 11,
    "start_time": "2021-09-27T18:29:46.607Z"
   },
   {
    "duration": 11,
    "start_time": "2021-09-27T18:30:13.123Z"
   },
   {
    "duration": 8,
    "start_time": "2021-09-27T18:30:31.045Z"
   },
   {
    "duration": 12,
    "start_time": "2021-09-27T18:32:38.129Z"
   },
   {
    "duration": 8,
    "start_time": "2021-09-27T18:32:53.881Z"
   },
   {
    "duration": 71,
    "start_time": "2021-09-27T18:41:50.958Z"
   },
   {
    "duration": 8,
    "start_time": "2021-09-27T18:42:36.616Z"
   },
   {
    "duration": 9,
    "start_time": "2021-09-27T18:43:25.601Z"
   },
   {
    "duration": 9,
    "start_time": "2021-09-27T18:43:32.343Z"
   },
   {
    "duration": 384,
    "start_time": "2021-09-27T18:44:42.642Z"
   },
   {
    "duration": 8,
    "start_time": "2021-09-27T18:44:56.959Z"
   },
   {
    "duration": 8,
    "start_time": "2021-09-27T18:45:56.749Z"
   },
   {
    "duration": 8,
    "start_time": "2021-09-27T18:46:04.024Z"
   },
   {
    "duration": 9,
    "start_time": "2021-09-27T18:46:09.651Z"
   },
   {
    "duration": 8,
    "start_time": "2021-09-27T18:46:44.830Z"
   },
   {
    "duration": 10,
    "start_time": "2021-09-27T18:47:53.650Z"
   },
   {
    "duration": 7,
    "start_time": "2021-09-27T18:49:43.174Z"
   },
   {
    "duration": 7,
    "start_time": "2021-09-27T18:50:42.689Z"
   },
   {
    "duration": 9,
    "start_time": "2021-09-27T18:52:10.133Z"
   },
   {
    "duration": 8,
    "start_time": "2021-09-27T18:52:18.342Z"
   },
   {
    "duration": 7,
    "start_time": "2021-09-27T18:52:24.435Z"
   },
   {
    "duration": 8,
    "start_time": "2021-09-27T18:52:33.895Z"
   },
   {
    "duration": 8,
    "start_time": "2021-09-27T18:52:51.465Z"
   },
   {
    "duration": 8,
    "start_time": "2021-09-27T18:52:56.023Z"
   },
   {
    "duration": 392,
    "start_time": "2021-09-27T19:00:57.333Z"
   },
   {
    "duration": 63,
    "start_time": "2021-09-27T19:01:06.204Z"
   },
   {
    "duration": 11,
    "start_time": "2021-09-27T19:01:07.166Z"
   },
   {
    "duration": 9,
    "start_time": "2021-09-27T19:01:25.500Z"
   },
   {
    "duration": 9,
    "start_time": "2021-09-27T19:01:26.484Z"
   },
   {
    "duration": 11,
    "start_time": "2021-09-27T19:01:35.090Z"
   },
   {
    "duration": 9,
    "start_time": "2021-09-27T19:01:41.101Z"
   },
   {
    "duration": 12,
    "start_time": "2021-09-27T19:01:46.953Z"
   },
   {
    "duration": 10,
    "start_time": "2021-09-27T19:01:52.315Z"
   },
   {
    "duration": 63,
    "start_time": "2021-09-27T19:02:28.209Z"
   },
   {
    "duration": 8,
    "start_time": "2021-09-27T19:02:29.697Z"
   },
   {
    "duration": 9,
    "start_time": "2021-09-27T19:02:30.104Z"
   },
   {
    "duration": 9,
    "start_time": "2021-09-27T19:02:36.283Z"
   },
   {
    "duration": 8,
    "start_time": "2021-09-27T19:02:49.914Z"
   },
   {
    "duration": 8,
    "start_time": "2021-09-27T19:02:58.620Z"
   },
   {
    "duration": 9,
    "start_time": "2021-09-27T19:03:05.817Z"
   },
   {
    "duration": 7,
    "start_time": "2021-09-27T19:03:27.574Z"
   },
   {
    "duration": 11,
    "start_time": "2021-09-27T19:05:09.094Z"
   },
   {
    "duration": 13,
    "start_time": "2021-09-27T19:05:52.305Z"
   },
   {
    "duration": 16,
    "start_time": "2021-09-27T19:12:13.837Z"
   },
   {
    "duration": 16,
    "start_time": "2021-09-27T19:12:22.769Z"
   },
   {
    "duration": 17,
    "start_time": "2021-09-27T19:13:35.401Z"
   },
   {
    "duration": 8,
    "start_time": "2021-09-27T19:17:50.517Z"
   },
   {
    "duration": 12,
    "start_time": "2021-09-27T19:18:05.754Z"
   },
   {
    "duration": 464,
    "start_time": "2021-09-27T19:44:47.745Z"
   },
   {
    "duration": 10,
    "start_time": "2021-09-27T19:45:32.714Z"
   },
   {
    "duration": 491,
    "start_time": "2021-09-27T19:45:40.314Z"
   },
   {
    "duration": 11,
    "start_time": "2021-09-27T19:46:18.518Z"
   },
   {
    "duration": 13,
    "start_time": "2021-09-27T19:47:15.997Z"
   },
   {
    "duration": 9,
    "start_time": "2021-09-27T19:48:14.798Z"
   },
   {
    "duration": 13,
    "start_time": "2021-09-27T19:48:38.064Z"
   },
   {
    "duration": 13,
    "start_time": "2021-09-27T19:52:18.009Z"
   },
   {
    "duration": 12,
    "start_time": "2021-09-27T19:53:01.098Z"
   },
   {
    "duration": 13,
    "start_time": "2021-09-27T19:53:47.141Z"
   },
   {
    "duration": 13,
    "start_time": "2021-09-27T19:54:14.806Z"
   },
   {
    "duration": 423,
    "start_time": "2021-09-27T19:54:32.770Z"
   },
   {
    "duration": 276,
    "start_time": "2021-09-27T19:54:40.043Z"
   },
   {
    "duration": 697,
    "start_time": "2021-09-27T19:57:57.549Z"
   },
   {
    "duration": 297,
    "start_time": "2021-09-27T19:58:10.277Z"
   },
   {
    "duration": 299,
    "start_time": "2021-09-27T19:58:19.620Z"
   },
   {
    "duration": 710,
    "start_time": "2021-09-27T20:00:42.882Z"
   },
   {
    "duration": 1107,
    "start_time": "2021-09-27T20:02:57.454Z"
   },
   {
    "duration": 311,
    "start_time": "2021-09-27T20:03:14.182Z"
   },
   {
    "duration": 318,
    "start_time": "2021-09-27T20:04:06.543Z"
   },
   {
    "duration": 745,
    "start_time": "2021-09-27T20:04:11.911Z"
   },
   {
    "duration": 418,
    "start_time": "2021-09-27T20:04:28.381Z"
   },
   {
    "duration": 11,
    "start_time": "2021-09-27T20:07:10.145Z"
   },
   {
    "duration": 14,
    "start_time": "2021-09-27T20:08:25.387Z"
   },
   {
    "duration": 5,
    "start_time": "2021-09-27T20:08:52.206Z"
   },
   {
    "duration": 11,
    "start_time": "2021-09-27T20:09:05.727Z"
   },
   {
    "duration": 3,
    "start_time": "2021-09-27T20:09:19.441Z"
   },
   {
    "duration": 3,
    "start_time": "2021-09-27T20:09:24.612Z"
   },
   {
    "duration": 1139,
    "start_time": "2021-09-27T20:09:48.115Z"
   },
   {
    "duration": 710,
    "start_time": "2021-09-27T20:10:08.304Z"
   },
   {
    "duration": 1357,
    "start_time": "2021-09-27T20:10:46.360Z"
   },
   {
    "duration": 1250,
    "start_time": "2021-09-27T20:10:53.932Z"
   },
   {
    "duration": 1437,
    "start_time": "2021-09-27T20:11:01.205Z"
   },
   {
    "duration": 1024,
    "start_time": "2021-09-27T20:11:51.400Z"
   },
   {
    "duration": 403,
    "start_time": "2021-09-27T20:11:56.632Z"
   },
   {
    "duration": 6,
    "start_time": "2021-09-27T20:12:39.088Z"
   },
   {
    "duration": 1363,
    "start_time": "2021-09-27T20:12:40.565Z"
   },
   {
    "duration": 1407,
    "start_time": "2021-09-27T20:12:54.490Z"
   },
   {
    "duration": 13,
    "start_time": "2021-09-27T20:14:45.925Z"
   },
   {
    "duration": 1393,
    "start_time": "2021-09-27T20:15:01.251Z"
   },
   {
    "duration": 2115,
    "start_time": "2021-09-27T20:15:17.016Z"
   },
   {
    "duration": 412,
    "start_time": "2021-09-27T20:22:07.353Z"
   },
   {
    "duration": 407,
    "start_time": "2021-09-27T20:22:22.849Z"
   },
   {
    "duration": 12,
    "start_time": "2021-09-27T20:32:48.974Z"
   },
   {
    "duration": 5,
    "start_time": "2021-09-27T20:32:56.603Z"
   },
   {
    "duration": 12,
    "start_time": "2021-09-27T20:55:30.791Z"
   },
   {
    "duration": 8,
    "start_time": "2021-09-27T20:59:00.481Z"
   },
   {
    "duration": 8,
    "start_time": "2021-09-27T20:59:09.779Z"
   },
   {
    "duration": 8,
    "start_time": "2021-09-27T20:59:27.283Z"
   },
   {
    "duration": 10,
    "start_time": "2021-09-27T21:00:00.415Z"
   },
   {
    "duration": 32,
    "start_time": "2021-09-27T21:04:03.350Z"
   },
   {
    "duration": 41,
    "start_time": "2021-09-27T21:04:13.289Z"
   },
   {
    "duration": 116,
    "start_time": "2021-09-27T21:04:36.623Z"
   },
   {
    "duration": 40,
    "start_time": "2021-09-27T21:04:58.623Z"
   },
   {
    "duration": 36,
    "start_time": "2021-09-27T21:06:54.214Z"
   },
   {
    "duration": 39,
    "start_time": "2021-09-27T21:07:09.844Z"
   },
   {
    "duration": 22,
    "start_time": "2021-09-27T21:10:34.610Z"
   },
   {
    "duration": 39,
    "start_time": "2021-09-27T21:11:50.356Z"
   },
   {
    "duration": 12,
    "start_time": "2021-09-27T21:13:46.017Z"
   },
   {
    "duration": 131,
    "start_time": "2021-09-27T21:17:13.993Z"
   },
   {
    "duration": 138,
    "start_time": "2021-09-27T21:17:56.767Z"
   },
   {
    "duration": 14,
    "start_time": "2021-09-27T21:17:59.931Z"
   },
   {
    "duration": 16,
    "start_time": "2021-09-27T21:18:10.376Z"
   },
   {
    "duration": 403,
    "start_time": "2021-09-27T21:18:28.712Z"
   },
   {
    "duration": 38,
    "start_time": "2021-09-27T21:19:01.982Z"
   },
   {
    "duration": 15,
    "start_time": "2021-09-27T21:19:10.161Z"
   },
   {
    "duration": 16,
    "start_time": "2021-09-27T21:21:29.966Z"
   },
   {
    "duration": 13,
    "start_time": "2021-09-27T21:22:22.542Z"
   },
   {
    "duration": 3,
    "start_time": "2021-09-27T21:22:31.883Z"
   },
   {
    "duration": 7,
    "start_time": "2021-09-27T21:22:49.794Z"
   },
   {
    "duration": 3,
    "start_time": "2021-09-27T21:22:52.667Z"
   },
   {
    "duration": 7,
    "start_time": "2021-09-27T21:34:44.810Z"
   },
   {
    "duration": 10,
    "start_time": "2021-09-27T21:54:51.217Z"
   },
   {
    "duration": 4,
    "start_time": "2021-09-27T22:39:59.392Z"
   },
   {
    "duration": 4,
    "start_time": "2021-09-27T22:40:13.582Z"
   },
   {
    "duration": 10,
    "start_time": "2021-09-27T22:57:56.053Z"
   },
   {
    "duration": 11,
    "start_time": "2021-09-27T22:58:35.275Z"
   },
   {
    "duration": 4,
    "start_time": "2021-09-27T23:06:00.665Z"
   },
   {
    "duration": 12,
    "start_time": "2021-09-27T23:06:07.735Z"
   },
   {
    "duration": 17,
    "start_time": "2021-09-27T23:07:18.437Z"
   },
   {
    "duration": 17,
    "start_time": "2021-09-27T23:07:26.622Z"
   },
   {
    "duration": 23,
    "start_time": "2021-09-27T23:07:57.518Z"
   },
   {
    "duration": 14,
    "start_time": "2021-09-27T23:08:07.476Z"
   },
   {
    "duration": 9,
    "start_time": "2021-09-27T23:08:18.181Z"
   },
   {
    "duration": 1350,
    "start_time": "2021-09-27T23:14:09.445Z"
   },
   {
    "duration": 63,
    "start_time": "2021-09-27T23:14:10.799Z"
   },
   {
    "duration": 15,
    "start_time": "2021-09-27T23:14:10.866Z"
   },
   {
    "duration": 9,
    "start_time": "2021-09-27T23:14:10.884Z"
   },
   {
    "duration": 12,
    "start_time": "2021-09-27T23:14:10.896Z"
   },
   {
    "duration": 13,
    "start_time": "2021-09-27T23:14:10.910Z"
   },
   {
    "duration": 8,
    "start_time": "2021-09-27T23:14:10.926Z"
   },
   {
    "duration": 14,
    "start_time": "2021-09-27T23:14:10.937Z"
   },
   {
    "duration": 8,
    "start_time": "2021-09-27T23:14:10.956Z"
   },
   {
    "duration": 55,
    "start_time": "2021-09-27T23:14:10.967Z"
   },
   {
    "duration": 13,
    "start_time": "2021-09-27T23:14:11.025Z"
   },
   {
    "duration": 8,
    "start_time": "2021-09-27T23:14:11.041Z"
   },
   {
    "duration": 7,
    "start_time": "2021-09-27T23:14:11.051Z"
   },
   {
    "duration": 11,
    "start_time": "2021-09-27T23:14:11.061Z"
   },
   {
    "duration": 9,
    "start_time": "2021-09-27T23:14:11.117Z"
   },
   {
    "duration": 8,
    "start_time": "2021-09-27T23:14:11.128Z"
   },
   {
    "duration": 8,
    "start_time": "2021-09-27T23:14:11.138Z"
   },
   {
    "duration": 7,
    "start_time": "2021-09-27T23:14:11.149Z"
   },
   {
    "duration": 64,
    "start_time": "2021-09-27T23:14:11.158Z"
   },
   {
    "duration": 8,
    "start_time": "2021-09-27T23:14:11.224Z"
   },
   {
    "duration": 14,
    "start_time": "2021-09-27T23:14:11.234Z"
   },
   {
    "duration": 21,
    "start_time": "2021-09-27T23:14:11.250Z"
   },
   {
    "duration": 45,
    "start_time": "2021-09-27T23:14:11.273Z"
   },
   {
    "duration": 14,
    "start_time": "2021-09-27T23:14:11.321Z"
   },
   {
    "duration": 445,
    "start_time": "2021-09-27T23:14:11.338Z"
   },
   {
    "duration": 4,
    "start_time": "2021-09-27T23:14:11.785Z"
   },
   {
    "duration": 2186,
    "start_time": "2021-09-27T23:14:11.816Z"
   },
   {
    "duration": 21,
    "start_time": "2021-09-27T23:14:14.006Z"
   },
   {
    "duration": 517,
    "start_time": "2021-09-27T23:14:14.030Z"
   },
   {
    "duration": -1513,
    "start_time": "2021-09-27T23:14:16.063Z"
   },
   {
    "duration": -1512,
    "start_time": "2021-09-27T23:14:16.064Z"
   },
   {
    "duration": -1511,
    "start_time": "2021-09-27T23:14:16.065Z"
   },
   {
    "duration": -1654,
    "start_time": "2021-09-27T23:14:16.210Z"
   },
   {
    "duration": -1655,
    "start_time": "2021-09-27T23:14:16.213Z"
   },
   {
    "duration": -1653,
    "start_time": "2021-09-27T23:14:16.214Z"
   },
   {
    "duration": 404,
    "start_time": "2021-09-27T23:14:34.312Z"
   },
   {
    "duration": 5,
    "start_time": "2021-09-27T23:14:47.769Z"
   },
   {
    "duration": 1387,
    "start_time": "2021-09-27T23:14:56.692Z"
   },
   {
    "duration": 60,
    "start_time": "2021-09-27T23:14:58.082Z"
   },
   {
    "duration": 19,
    "start_time": "2021-09-27T23:14:58.145Z"
   },
   {
    "duration": 13,
    "start_time": "2021-09-27T23:14:58.166Z"
   },
   {
    "duration": 13,
    "start_time": "2021-09-27T23:14:58.181Z"
   },
   {
    "duration": 20,
    "start_time": "2021-09-27T23:14:58.197Z"
   },
   {
    "duration": 8,
    "start_time": "2021-09-27T23:14:58.220Z"
   },
   {
    "duration": 12,
    "start_time": "2021-09-27T23:14:58.233Z"
   },
   {
    "duration": 10,
    "start_time": "2021-09-27T23:14:58.249Z"
   },
   {
    "duration": 62,
    "start_time": "2021-09-27T23:14:58.262Z"
   },
   {
    "duration": 16,
    "start_time": "2021-09-27T23:14:58.327Z"
   },
   {
    "duration": 8,
    "start_time": "2021-09-27T23:14:58.346Z"
   },
   {
    "duration": 9,
    "start_time": "2021-09-27T23:14:58.357Z"
   },
   {
    "duration": 50,
    "start_time": "2021-09-27T23:14:58.368Z"
   },
   {
    "duration": 8,
    "start_time": "2021-09-27T23:14:58.421Z"
   },
   {
    "duration": 8,
    "start_time": "2021-09-27T23:14:58.431Z"
   },
   {
    "duration": 8,
    "start_time": "2021-09-27T23:14:58.441Z"
   },
   {
    "duration": 6,
    "start_time": "2021-09-27T23:14:58.451Z"
   },
   {
    "duration": 63,
    "start_time": "2021-09-27T23:14:58.459Z"
   },
   {
    "duration": 8,
    "start_time": "2021-09-27T23:14:58.524Z"
   },
   {
    "duration": 15,
    "start_time": "2021-09-27T23:14:58.535Z"
   },
   {
    "duration": 22,
    "start_time": "2021-09-27T23:14:58.552Z"
   },
   {
    "duration": 48,
    "start_time": "2021-09-27T23:14:58.580Z"
   },
   {
    "duration": 14,
    "start_time": "2021-09-27T23:14:58.632Z"
   },
   {
    "duration": 445,
    "start_time": "2021-09-27T23:14:58.649Z"
   },
   {
    "duration": 5,
    "start_time": "2021-09-27T23:14:59.097Z"
   },
   {
    "duration": 2205,
    "start_time": "2021-09-27T23:14:59.104Z"
   },
   {
    "duration": 18,
    "start_time": "2021-09-27T23:15:01.322Z"
   },
   {
    "duration": 52,
    "start_time": "2021-09-27T23:15:01.343Z"
   },
   {
    "duration": 31,
    "start_time": "2021-09-27T23:15:01.397Z"
   },
   {
    "duration": 28,
    "start_time": "2021-09-27T23:15:01.430Z"
   },
   {
    "duration": 53,
    "start_time": "2021-09-27T23:15:01.460Z"
   },
   {
    "duration": 37,
    "start_time": "2021-09-27T23:15:01.516Z"
   },
   {
    "duration": 34,
    "start_time": "2021-09-27T23:15:01.556Z"
   },
   {
    "duration": 67,
    "start_time": "2021-09-27T23:15:01.593Z"
   },
   {
    "duration": 1725,
    "start_time": "2022-04-18T20:42:15.269Z"
   },
   {
    "duration": 80,
    "start_time": "2022-04-18T20:42:16.997Z"
   },
   {
    "duration": 16,
    "start_time": "2022-04-18T20:42:17.080Z"
   },
   {
    "duration": 16,
    "start_time": "2022-04-18T20:42:17.099Z"
   },
   {
    "duration": 11,
    "start_time": "2022-04-18T20:42:17.117Z"
   },
   {
    "duration": 18,
    "start_time": "2022-04-18T20:42:17.130Z"
   },
   {
    "duration": 19,
    "start_time": "2022-04-18T20:42:17.150Z"
   },
   {
    "duration": 13,
    "start_time": "2022-04-18T20:42:17.171Z"
   },
   {
    "duration": 47,
    "start_time": "2022-04-18T20:42:17.186Z"
   },
   {
    "duration": 9,
    "start_time": "2022-04-18T20:42:17.238Z"
   },
   {
    "duration": 16,
    "start_time": "2022-04-18T20:42:17.249Z"
   },
   {
    "duration": 9,
    "start_time": "2022-04-18T20:42:17.267Z"
   },
   {
    "duration": 54,
    "start_time": "2022-04-18T20:42:17.279Z"
   },
   {
    "duration": 12,
    "start_time": "2022-04-18T20:42:17.335Z"
   },
   {
    "duration": 10,
    "start_time": "2022-04-18T20:42:17.349Z"
   },
   {
    "duration": 12,
    "start_time": "2022-04-18T20:42:17.361Z"
   },
   {
    "duration": 54,
    "start_time": "2022-04-18T20:42:17.375Z"
   },
   {
    "duration": 11,
    "start_time": "2022-04-18T20:42:17.431Z"
   },
   {
    "duration": 18,
    "start_time": "2022-04-18T20:42:17.445Z"
   },
   {
    "duration": 24,
    "start_time": "2022-04-18T20:42:17.466Z"
   },
   {
    "duration": 49,
    "start_time": "2022-04-18T20:42:17.493Z"
   },
   {
    "duration": 22,
    "start_time": "2022-04-18T20:42:17.545Z"
   },
   {
    "duration": 16,
    "start_time": "2022-04-18T20:42:17.570Z"
   },
   {
    "duration": 47,
    "start_time": "2022-04-18T20:42:17.589Z"
   },
   {
    "duration": 366,
    "start_time": "2022-04-18T20:42:17.639Z"
   },
   {
    "duration": 17,
    "start_time": "2022-04-18T20:42:18.007Z"
   },
   {
    "duration": 2056,
    "start_time": "2022-04-18T20:42:18.026Z"
   },
   {
    "duration": 15,
    "start_time": "2022-04-18T20:42:20.086Z"
   },
   {
    "duration": 45,
    "start_time": "2022-04-18T20:42:20.104Z"
   },
   {
    "duration": 20,
    "start_time": "2022-04-18T20:42:20.152Z"
   },
   {
    "duration": 29,
    "start_time": "2022-04-18T20:42:20.175Z"
   },
   {
    "duration": 16,
    "start_time": "2022-04-18T20:42:20.226Z"
   },
   {
    "duration": 17,
    "start_time": "2022-04-18T20:42:20.244Z"
   },
   {
    "duration": 10,
    "start_time": "2022-04-18T20:42:20.263Z"
   },
   {
    "duration": 49,
    "start_time": "2022-04-18T20:42:20.276Z"
   },
   {
    "duration": 8,
    "start_time": "2022-04-18T20:42:35.619Z"
   },
   {
    "duration": 7,
    "start_time": "2022-04-18T20:42:47.324Z"
   }
  ],
  "kernelspec": {
   "display_name": "Python 3 (ipykernel)",
   "language": "python",
   "name": "python3"
  },
  "language_info": {
   "codemirror_mode": {
    "name": "ipython",
    "version": 3
   },
   "file_extension": ".py",
   "mimetype": "text/x-python",
   "name": "python",
   "nbconvert_exporter": "python",
   "pygments_lexer": "ipython3",
   "version": "3.9.5"
  },
  "toc": {
   "base_numbering": 1,
   "nav_menu": {},
   "number_sections": true,
   "sideBar": true,
   "skip_h1_title": true,
   "title_cell": "Table of Contents",
   "title_sidebar": "Contents",
   "toc_cell": false,
   "toc_position": {},
   "toc_section_display": true,
   "toc_window_display": false
  }
 },
 "nbformat": 4,
 "nbformat_minor": 2
}
