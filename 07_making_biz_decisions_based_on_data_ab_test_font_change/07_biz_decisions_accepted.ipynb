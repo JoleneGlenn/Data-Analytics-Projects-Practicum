{
 "cells": [
  {
   "cell_type": "markdown",
   "metadata": {},
   "source": [
    "**Hello Jolene!**\n",
    "\n",
    "My name is Alexey Kargin, and I will review your project! Nice to meet you! I have added all my comments to new cells with different coloring. Please, do not move or delete them - it helps us move faster.\n",
    "\n",
    "<div class=\"alert alert-success\">\n",
    "<b>Reviewer's comment v.1</b> \n",
    "    \n",
    "👍 I am using green color for my comment if everything is done successfully.\n",
    "</div>\n",
    "\n",
    "<div class=\"alert alert-warning\">\n",
    "<b>Reviewer's comment v.1</b> \n",
    "    \n",
    "📝 I am using yellow color for my comment if I can give you a recommendation or think that something can be improved. These are optional recommendations, but that will be perfect if you work with them.\n",
    "</div>\n",
    "\n",
    "<div class=\"alert alert-danger\">\n",
    "<b>Reviewer's comment v.1</b> \n",
    "    \n",
    "✍ I am using red color for my comment if the block requires some extra work or corrections. The project couldn’t be accepted with red comments.\n",
    "</div>\n",
    "  \n",
    "To make a dialog, let’s use this style for your remarks:\n",
    "<div class=\"alert alert-info\"> \n",
    "<b>Student's comment</b> \n",
    "    \n",
    "Just like this. To make a similar block - double click on the block, copy and edit it in places you are changing.\n",
    "</div>\n",
    "\n",
    "Now, let’s go to data analysis!\n",
    "\n",
    "---\n",
    "\n",
    "<div class=\"alert alert-success\">\n",
    "<b>General feedback v.1</b>\n",
    "    \n",
    "Jolene, thank you for sending your project 👏\n",
    "\n",
    "You’ve made a lot of correct steps. The code has not made mistakes and looks professional. I like your detailed intermediate conclusion and explanations. That makes the project an analytical one. I do not have any major comments with extra work or corrections. However, there are a few comments for improvement. Please check them. If you have no questions and everything is Ok, please tell me, and I will accept your project.\n",
    "    \n",
    "You've mastered it!\n",
    "   \n",
    "<br>\n",
    "Best regards,\n",
    "<br> Alexey    \n",
    "</div>\n",
    "\n",
    "---"
   ]
  },
  {
   "cell_type": "markdown",
   "metadata": {},
   "source": [
    "<div class=\"alert alert-info\"> \n",
    "<b>Student's comment</b> \n",
    "    \n",
    "Hi Alexey, Thank you for your comments and suggestions. I want to be a good coder, so I really appreciate your feedback!\n",
    "    \n",
    "I have reviewed your comments and played with the code to try it out. \n",
    "    \n",
    "I do not have any further questions, but it was fun to incorporate your suggestions, especially for the visualization of the graphs. Please take a look!\n",
    "</div>\n",
    "\n",
    "---\n",
    "\n",
    "<div class=\"alert alert-success\">\n",
    "<b>General feedback v.2</b>\n",
    "    \n",
    "Jolene, thank you for sending the second version of the project and your feedback on my comments 👏\n",
    "\n",
    "It is great that you had time to work with my recommendations. Your corrections look great! I'm glad to say that your project has been accepted. I have also left some new comments. \n",
    "    \n",
    "Good luck!\n",
    "   \n",
    "<br>\n",
    "Best regards,\n",
    "<br> Alexey    \n",
    "</div>\n",
    "\n",
    "---"
   ]
  },
  {
   "cell_type": "markdown",
   "metadata": {},
   "source": [
    "# Making Business Decisions Course Project\n",
    "\n",
    "***Project Description***\n",
    "\n",
    "You are an analyst at a big online store. Together with the marketing department, you've compiled a list of hypotheses that may help boost revenue.\n",
    "\n",
    "***Tasks***\n",
    "\n",
    "- You need to prioritize these hypotheses, launch an A/B test, and analyze the results.\n",
    "- Examine the data carefully - There might be mistakes in the original datasets; for example, some of the visitors might have gotten into both group A and group B.\n",
    "\n",
    "***Instructions for completing the project***\n",
    "\n",
    "***Step 1. Prioritize Hypotheses***\n",
    "- Apply the ICE framework to prioritize hypotheses. Sort them in descending order of priority.\n",
    "- Apply the RICE framework to prioritize hypotheses. Sort them in descending order of priority.\n",
    "- Show how the prioritization of hypotheses changes when you use RICE instead of ICE. Provide an explanation for the changes.\n",
    "- Uer the following data:\n",
    "    - /datasets/hypotheses_us.csv\n",
    "    \n",
    "***Step 2. A/B Test Analysis***\n",
    "- Analyze the A/B test:\n",
    "    - Graph cumulative revenue by group. Make conclusions and conjectures.\n",
    "    - Graph cumulative average order size by group. Make conclusions and conjectures.\n",
    "    - Graph the relative difference in cumulative average order size for group B compared with group A. Make conclusions and conjectures.\n",
    "    - Calculate each group's conversion rate as the ratio of orders to the number of visits for each day. Plot the daily conversion rates of the two groups and describe the difference. Draw conclusions and make conjectures.\n",
    "    - Plot a scatter chart of the number of orders per user. Make conclusions and conjectures.\n",
    "    - Calculate the 95th and 99th percentiles for the number of orders per user. - - Define the point at which a data point becomes an anomaly.\n",
    "    - Plot a scatter chart of order prices. Make conclusions and conjectures.\n",
    "    - Calculate the 95th and 99th percentiles of order prices. Define the point at which a data point becomes an anomaly.\n",
    "    - Find the statistical significance of the difference in conversion between the groups using the raw data. Make conclusions and conjectures.\n",
    "    - Find the statistical significance of the difference in average order size between the groups using the raw data. Make conclusions and conjectures.\n",
    "    - Find the statistical significance of the difference in conversion between the groups using the filtered data. Make conclusions and conjectures.\n",
    "    - Find the statistical significance of the difference in average order size between the groups using the filtered data. Make conclusions and conjectures.\n",
    "    - Make a decision based on the test results. The possible decisions are: 1. Stop the test, consider one of the groups the leader. 2. Stop the test, conclude that there is no difference between the groups. 3. Continue the test.\n",
    "- Use the following data: \n",
    "    - /datasets/orders_us.csv\n",
    "    - /datasets/visits_us.csv\n",
    "    \n",
    "***Description of the data***\n",
    "- Hypotheses data\n",
    "    - Hypotheses — brief descriptions of the hypotheses\n",
    "    - Reach — user reach, on a scale of one to ten\n",
    "    - Impact — impact on users, on a scale of one to ten\n",
    "    - Confidence — confidence in the hypothesis, on a scale of one to ten\n",
    "    - Effort — the resources required to test a hypothesis, on a scale of one to ten. The higher the Effort value, the more resource-intensive the test.\n",
    "    \n",
    "- Orders data\n",
    "    - transactionId — order identifier\n",
    "    - visitorId — identifier of the user who placed the order\n",
    "    - date — of the order\n",
    "    - revenue — from the order\n",
    "    - group — the A/B test group that the user belongs to\n",
    "    \n",
    "- Visits data\n",
    "    - date — date\n",
    "    - group — A/B test group\n",
    "    - visits — the number of visits on the date specified in the A/B test group specified\n",
    "    \n",
    "***Plan of Action***\n",
    "- 1. Import Libraries\n",
    "- 2. Open the data files and study the general information\n",
    "- 3. Data Preprocessing\n",
    "    - Create working versions of the dataframes\n",
    "    - Clean up the data\n",
    "- 4. Analyze the data\n",
    "    - Answer the requested information\n",
    "- 5. Draw conclusions"
   ]
  },
  {
   "cell_type": "markdown",
   "metadata": {},
   "source": [
    "<div class=\"alert alert-block alert-success\">\n",
    "<b>Reviewer's comment v.1</b> \n",
    "    \n",
    "👍 Good start with the project description, tasks, and data description. It is good that you have provided two steps with detailed content.\n",
    "</div>"
   ]
  },
  {
   "cell_type": "markdown",
   "metadata": {},
   "source": [
    "# 1. Import Libraries"
   ]
  },
  {
   "cell_type": "code",
   "execution_count": 1,
   "metadata": {},
   "outputs": [],
   "source": [
    "import pandas as pd\n",
    "import numpy as np\n",
    "import matplotlib.pyplot as plt\n",
    "import datetime\n",
    "import seaborn as sns\n",
    "from scipy import stats as st\n",
    "\n",
    "import sys\n",
    "import warnings\n",
    "if not sys.warnoptions:\n",
    "    warnings.simplefilter(\"ignore\")"
   ]
  },
  {
   "cell_type": "markdown",
   "metadata": {},
   "source": [
    "<div class=\"alert alert-block alert-success\">\n",
    "<b>Reviewer's comment v.1</b> \n",
    "    \n",
    "👍 It's a good practice to make all imports in 1st cell! That is in line with [PEP 8 -- Style Guide for Python Code](https://www.python.org/dev/peps/pep-0008/)\n",
    "</div>"
   ]
  },
  {
   "cell_type": "markdown",
   "metadata": {},
   "source": [
    "# 2. Open data files and study the general information"
   ]
  },
  {
   "cell_type": "markdown",
   "metadata": {},
   "source": [
    "***Read data as dataframes and examine original data***"
   ]
  },
  {
   "cell_type": "code",
   "execution_count": 2,
   "metadata": {},
   "outputs": [],
   "source": [
    "# create dataframes to examine original data\n",
    "hypotheses_orig = pd.read_csv('/datasets/hypotheses_us.csv', sep = ';')\n",
    "orders_orig = pd.read_csv('/datasets/orders_us.csv')\n",
    "visits_orig = pd.read_csv('/datasets/visits_us.csv')"
   ]
  },
  {
   "cell_type": "markdown",
   "metadata": {},
   "source": [
    "***Examine orginal hypotheses df***"
   ]
  },
  {
   "cell_type": "code",
   "execution_count": 3,
   "metadata": {},
   "outputs": [
    {
     "name": "stdout",
     "output_type": "stream",
     "text": [
      "<class 'pandas.core.frame.DataFrame'>\n",
      "RangeIndex: 9 entries, 0 to 8\n",
      "Data columns (total 5 columns):\n",
      "Hypothesis    9 non-null object\n",
      "Reach         9 non-null int64\n",
      "Impact        9 non-null int64\n",
      "Confidence    9 non-null int64\n",
      "Effort        9 non-null int64\n",
      "dtypes: int64(4), object(1)\n",
      "memory usage: 488.0+ bytes\n"
     ]
    }
   ],
   "source": [
    "hypotheses_orig.info()"
   ]
  },
  {
   "cell_type": "code",
   "execution_count": 4,
   "metadata": {},
   "outputs": [],
   "source": [
    "pd.set_option('max_colwidth', 450)"
   ]
  },
  {
   "cell_type": "code",
   "execution_count": 5,
   "metadata": {},
   "outputs": [
    {
     "data": {
      "text/html": [
       "<div>\n",
       "<style scoped>\n",
       "    .dataframe tbody tr th:only-of-type {\n",
       "        vertical-align: middle;\n",
       "    }\n",
       "\n",
       "    .dataframe tbody tr th {\n",
       "        vertical-align: top;\n",
       "    }\n",
       "\n",
       "    .dataframe thead th {\n",
       "        text-align: right;\n",
       "    }\n",
       "</style>\n",
       "<table border=\"1\" class=\"dataframe\">\n",
       "  <thead>\n",
       "    <tr style=\"text-align: right;\">\n",
       "      <th></th>\n",
       "      <th>Hypothesis</th>\n",
       "      <th>Reach</th>\n",
       "      <th>Impact</th>\n",
       "      <th>Confidence</th>\n",
       "      <th>Effort</th>\n",
       "    </tr>\n",
       "  </thead>\n",
       "  <tbody>\n",
       "    <tr>\n",
       "      <td>0</td>\n",
       "      <td>Add two new channels for attracting traffic. This will bring 30% more users</td>\n",
       "      <td>3</td>\n",
       "      <td>10</td>\n",
       "      <td>8</td>\n",
       "      <td>6</td>\n",
       "    </tr>\n",
       "    <tr>\n",
       "      <td>1</td>\n",
       "      <td>Launch your own delivery service. This will shorten delivery time</td>\n",
       "      <td>2</td>\n",
       "      <td>5</td>\n",
       "      <td>4</td>\n",
       "      <td>10</td>\n",
       "    </tr>\n",
       "    <tr>\n",
       "      <td>2</td>\n",
       "      <td>Add product recommendation blocks to the store's site. This will increase conversion and average purchase size</td>\n",
       "      <td>8</td>\n",
       "      <td>3</td>\n",
       "      <td>7</td>\n",
       "      <td>3</td>\n",
       "    </tr>\n",
       "    <tr>\n",
       "      <td>3</td>\n",
       "      <td>Change the category structure. This will increase conversion since users will find the products they want more quickly</td>\n",
       "      <td>8</td>\n",
       "      <td>3</td>\n",
       "      <td>3</td>\n",
       "      <td>8</td>\n",
       "    </tr>\n",
       "    <tr>\n",
       "      <td>4</td>\n",
       "      <td>Change the background color on the main page. This will increase user engagement</td>\n",
       "      <td>3</td>\n",
       "      <td>1</td>\n",
       "      <td>1</td>\n",
       "      <td>1</td>\n",
       "    </tr>\n",
       "    <tr>\n",
       "      <td>5</td>\n",
       "      <td>Add a customer review page. This will increase the number of orders</td>\n",
       "      <td>3</td>\n",
       "      <td>2</td>\n",
       "      <td>2</td>\n",
       "      <td>3</td>\n",
       "    </tr>\n",
       "    <tr>\n",
       "      <td>6</td>\n",
       "      <td>Show banners with current offers and sales on the main page. This will boost conversion</td>\n",
       "      <td>5</td>\n",
       "      <td>3</td>\n",
       "      <td>8</td>\n",
       "      <td>3</td>\n",
       "    </tr>\n",
       "    <tr>\n",
       "      <td>7</td>\n",
       "      <td>Add a subscription form to all the main pages. This will help you compile a mailing list</td>\n",
       "      <td>10</td>\n",
       "      <td>7</td>\n",
       "      <td>8</td>\n",
       "      <td>5</td>\n",
       "    </tr>\n",
       "    <tr>\n",
       "      <td>8</td>\n",
       "      <td>Launch a promotion that gives users discounts on their birthdays</td>\n",
       "      <td>1</td>\n",
       "      <td>9</td>\n",
       "      <td>9</td>\n",
       "      <td>5</td>\n",
       "    </tr>\n",
       "  </tbody>\n",
       "</table>\n",
       "</div>"
      ],
      "text/plain": [
       "                                                                                                               Hypothesis  \\\n",
       "0                                             Add two new channels for attracting traffic. This will bring 30% more users   \n",
       "1                                                       Launch your own delivery service. This will shorten delivery time   \n",
       "2          Add product recommendation blocks to the store's site. This will increase conversion and average purchase size   \n",
       "3  Change the category structure. This will increase conversion since users will find the products they want more quickly   \n",
       "4                                        Change the background color on the main page. This will increase user engagement   \n",
       "5                                                     Add a customer review page. This will increase the number of orders   \n",
       "6                                 Show banners with current offers and sales on the main page. This will boost conversion   \n",
       "7                                Add a subscription form to all the main pages. This will help you compile a mailing list   \n",
       "8                                                        Launch a promotion that gives users discounts on their birthdays   \n",
       "\n",
       "   Reach  Impact  Confidence  Effort  \n",
       "0      3      10           8       6  \n",
       "1      2       5           4      10  \n",
       "2      8       3           7       3  \n",
       "3      8       3           3       8  \n",
       "4      3       1           1       1  \n",
       "5      3       2           2       3  \n",
       "6      5       3           8       3  \n",
       "7     10       7           8       5  \n",
       "8      1       9           9       5  "
      ]
     },
     "execution_count": 5,
     "metadata": {},
     "output_type": "execute_result"
    }
   ],
   "source": [
    "hypotheses_orig"
   ]
  },
  {
   "cell_type": "markdown",
   "metadata": {},
   "source": [
    "<div class=\"alert alert-warning\">\n",
    "<b>Reviewer's comment v.1</b> \n",
    "    \n",
    "📝 As a recommendation: we can customize the dataframe and display the hypotheses fully. To do this, use this setting after importing the pandas library: `pd.set_option('max_colwidth', 450)`\n",
    "</div>"
   ]
  },
  {
   "cell_type": "markdown",
   "metadata": {},
   "source": [
    "<div class=\"alert alert-info\"> \n",
    "<b>Student's comment</b> \n",
    "    \n",
    "Thank you for this tip, seeing the whole column is very helpful!\n",
    "</div>"
   ]
  },
  {
   "cell_type": "markdown",
   "metadata": {},
   "source": [
    "<div class=\"alert alert-block alert-success\">\n",
    "<b>Reviewer's comment v.2</b> \n",
    "    \n",
    "👍\n",
    "</div>"
   ]
  },
  {
   "cell_type": "markdown",
   "metadata": {},
   "source": [
    "***Examine orginal orders df***"
   ]
  },
  {
   "cell_type": "code",
   "execution_count": 6,
   "metadata": {},
   "outputs": [
    {
     "name": "stdout",
     "output_type": "stream",
     "text": [
      "<class 'pandas.core.frame.DataFrame'>\n",
      "RangeIndex: 1197 entries, 0 to 1196\n",
      "Data columns (total 5 columns):\n",
      "transactionId    1197 non-null int64\n",
      "visitorId        1197 non-null int64\n",
      "date             1197 non-null object\n",
      "revenue          1197 non-null float64\n",
      "group            1197 non-null object\n",
      "dtypes: float64(1), int64(2), object(2)\n",
      "memory usage: 46.9+ KB\n"
     ]
    }
   ],
   "source": [
    "orders_orig.info()"
   ]
  },
  {
   "cell_type": "code",
   "execution_count": 7,
   "metadata": {},
   "outputs": [
    {
     "data": {
      "text/html": [
       "<div>\n",
       "<style scoped>\n",
       "    .dataframe tbody tr th:only-of-type {\n",
       "        vertical-align: middle;\n",
       "    }\n",
       "\n",
       "    .dataframe tbody tr th {\n",
       "        vertical-align: top;\n",
       "    }\n",
       "\n",
       "    .dataframe thead th {\n",
       "        text-align: right;\n",
       "    }\n",
       "</style>\n",
       "<table border=\"1\" class=\"dataframe\">\n",
       "  <thead>\n",
       "    <tr style=\"text-align: right;\">\n",
       "      <th></th>\n",
       "      <th>transactionId</th>\n",
       "      <th>visitorId</th>\n",
       "      <th>date</th>\n",
       "      <th>revenue</th>\n",
       "      <th>group</th>\n",
       "    </tr>\n",
       "  </thead>\n",
       "  <tbody>\n",
       "    <tr>\n",
       "      <td>0</td>\n",
       "      <td>3667963787</td>\n",
       "      <td>3312258926</td>\n",
       "      <td>2019-08-15</td>\n",
       "      <td>30.4</td>\n",
       "      <td>B</td>\n",
       "    </tr>\n",
       "    <tr>\n",
       "      <td>1</td>\n",
       "      <td>2804400009</td>\n",
       "      <td>3642806036</td>\n",
       "      <td>2019-08-15</td>\n",
       "      <td>15.2</td>\n",
       "      <td>B</td>\n",
       "    </tr>\n",
       "    <tr>\n",
       "      <td>2</td>\n",
       "      <td>2961555356</td>\n",
       "      <td>4069496402</td>\n",
       "      <td>2019-08-15</td>\n",
       "      <td>10.2</td>\n",
       "      <td>A</td>\n",
       "    </tr>\n",
       "    <tr>\n",
       "      <td>3</td>\n",
       "      <td>3797467345</td>\n",
       "      <td>1196621759</td>\n",
       "      <td>2019-08-15</td>\n",
       "      <td>155.1</td>\n",
       "      <td>B</td>\n",
       "    </tr>\n",
       "    <tr>\n",
       "      <td>4</td>\n",
       "      <td>2282983706</td>\n",
       "      <td>2322279887</td>\n",
       "      <td>2019-08-15</td>\n",
       "      <td>40.5</td>\n",
       "      <td>B</td>\n",
       "    </tr>\n",
       "  </tbody>\n",
       "</table>\n",
       "</div>"
      ],
      "text/plain": [
       "   transactionId   visitorId        date  revenue group\n",
       "0     3667963787  3312258926  2019-08-15     30.4     B\n",
       "1     2804400009  3642806036  2019-08-15     15.2     B\n",
       "2     2961555356  4069496402  2019-08-15     10.2     A\n",
       "3     3797467345  1196621759  2019-08-15    155.1     B\n",
       "4     2282983706  2322279887  2019-08-15     40.5     B"
      ]
     },
     "execution_count": 7,
     "metadata": {},
     "output_type": "execute_result"
    }
   ],
   "source": [
    "orders_orig.head()"
   ]
  },
  {
   "cell_type": "code",
   "execution_count": 8,
   "metadata": {},
   "outputs": [
    {
     "data": {
      "text/plain": [
       "B    640\n",
       "A    557\n",
       "Name: group, dtype: int64"
      ]
     },
     "execution_count": 8,
     "metadata": {},
     "output_type": "execute_result"
    }
   ],
   "source": [
    "orders_orig['group'].value_counts(dropna = False)"
   ]
  },
  {
   "cell_type": "code",
   "execution_count": 9,
   "metadata": {},
   "outputs": [
    {
     "data": {
      "text/plain": [
       "1031"
      ]
     },
     "execution_count": 9,
     "metadata": {},
     "output_type": "execute_result"
    }
   ],
   "source": [
    "orders_orig['visitorId'].nunique()"
   ]
  },
  {
   "cell_type": "code",
   "execution_count": 10,
   "metadata": {},
   "outputs": [
    {
     "name": "stdout",
     "output_type": "stream",
     "text": [
      "first order date in data: 2019-08-01\n",
      "last order date in data: 2019-08-31\n"
     ]
    }
   ],
   "source": [
    "first_order_date = orders_orig['date'].min()\n",
    "last_order_date = orders_orig['date'].max()\n",
    "print('first order date in data: {}\\nlast order date in data: {}'.format(first_order_date, last_order_date))"
   ]
  },
  {
   "cell_type": "markdown",
   "metadata": {},
   "source": [
    "***Examine orginal visits df***"
   ]
  },
  {
   "cell_type": "code",
   "execution_count": 11,
   "metadata": {},
   "outputs": [
    {
     "name": "stdout",
     "output_type": "stream",
     "text": [
      "<class 'pandas.core.frame.DataFrame'>\n",
      "RangeIndex: 62 entries, 0 to 61\n",
      "Data columns (total 3 columns):\n",
      "date      62 non-null object\n",
      "group     62 non-null object\n",
      "visits    62 non-null int64\n",
      "dtypes: int64(1), object(2)\n",
      "memory usage: 1.6+ KB\n"
     ]
    }
   ],
   "source": [
    "visits_orig.info()"
   ]
  },
  {
   "cell_type": "code",
   "execution_count": 12,
   "metadata": {},
   "outputs": [
    {
     "data": {
      "text/html": [
       "<div>\n",
       "<style scoped>\n",
       "    .dataframe tbody tr th:only-of-type {\n",
       "        vertical-align: middle;\n",
       "    }\n",
       "\n",
       "    .dataframe tbody tr th {\n",
       "        vertical-align: top;\n",
       "    }\n",
       "\n",
       "    .dataframe thead th {\n",
       "        text-align: right;\n",
       "    }\n",
       "</style>\n",
       "<table border=\"1\" class=\"dataframe\">\n",
       "  <thead>\n",
       "    <tr style=\"text-align: right;\">\n",
       "      <th></th>\n",
       "      <th>date</th>\n",
       "      <th>group</th>\n",
       "      <th>visits</th>\n",
       "    </tr>\n",
       "  </thead>\n",
       "  <tbody>\n",
       "    <tr>\n",
       "      <td>0</td>\n",
       "      <td>2019-08-01</td>\n",
       "      <td>A</td>\n",
       "      <td>719</td>\n",
       "    </tr>\n",
       "    <tr>\n",
       "      <td>1</td>\n",
       "      <td>2019-08-02</td>\n",
       "      <td>A</td>\n",
       "      <td>619</td>\n",
       "    </tr>\n",
       "    <tr>\n",
       "      <td>2</td>\n",
       "      <td>2019-08-03</td>\n",
       "      <td>A</td>\n",
       "      <td>507</td>\n",
       "    </tr>\n",
       "    <tr>\n",
       "      <td>3</td>\n",
       "      <td>2019-08-04</td>\n",
       "      <td>A</td>\n",
       "      <td>717</td>\n",
       "    </tr>\n",
       "    <tr>\n",
       "      <td>4</td>\n",
       "      <td>2019-08-05</td>\n",
       "      <td>A</td>\n",
       "      <td>756</td>\n",
       "    </tr>\n",
       "  </tbody>\n",
       "</table>\n",
       "</div>"
      ],
      "text/plain": [
       "         date group  visits\n",
       "0  2019-08-01     A     719\n",
       "1  2019-08-02     A     619\n",
       "2  2019-08-03     A     507\n",
       "3  2019-08-04     A     717\n",
       "4  2019-08-05     A     756"
      ]
     },
     "execution_count": 12,
     "metadata": {},
     "output_type": "execute_result"
    }
   ],
   "source": [
    "visits_orig.head()"
   ]
  },
  {
   "cell_type": "code",
   "execution_count": 13,
   "metadata": {},
   "outputs": [
    {
     "name": "stdout",
     "output_type": "stream",
     "text": [
      "first visit date in data: 2019-08-01\n",
      "last visit date in data: 2019-08-31\n"
     ]
    }
   ],
   "source": [
    "first_visit_date = visits_orig['date'].min()\n",
    "last_visit_date = visits_orig['date'].max()\n",
    "print('first visit date in data: {}\\nlast visit date in data: {}'.format(first_visit_date, last_visit_date))"
   ]
  },
  {
   "cell_type": "code",
   "execution_count": 14,
   "metadata": {},
   "outputs": [
    {
     "data": {
      "text/plain": [
       "group\n",
       "A    18736\n",
       "B    18916\n",
       "Name: visits, dtype: int64"
      ]
     },
     "execution_count": 14,
     "metadata": {},
     "output_type": "execute_result"
    }
   ],
   "source": [
    "visits_orig.groupby('group')['visits'].sum()"
   ]
  },
  {
   "cell_type": "markdown",
   "metadata": {},
   "source": [
    "# 2. Conclusion of original dataframes and general information\n",
    "\n",
    "***Actions performed***\n",
    "- examined original data for general information\n",
    "    - none of the datasets were modified in this section\n",
    "\n",
    "***Hypothesis df***\n",
    "- There are 9 hypotheses outlined in the dataset\n",
    "\n",
    "***Orders df***\n",
    "- Orders were placed between 2019-08-01 through 2019-08-31\n",
    "- Orders were placed by 1031 of the users out of the 1197 orders in the data set \n",
    "    - The orders are designated between groups A or B\n",
    "        - Group A appears to have made 557 orders\n",
    "        - Group B appears to have made 640 orders\n",
    "        \n",
    "***Visits df***\n",
    "- Visits to the website happened between 2019-08-01 through 2019-08-31\n",
    "    - Group A made 18736 visits\n",
    "    - Group B made 18916 visits"
   ]
  },
  {
   "cell_type": "markdown",
   "metadata": {},
   "source": [
    "<div class=\"alert alert-success\">\n",
    "<b>Reviewer's comment v.1</b> \n",
    "\n",
    "👍 Good job at this stage: the data have been opened and observed. \n",
    "</div>"
   ]
  },
  {
   "cell_type": "markdown",
   "metadata": {},
   "source": [
    "# 3 Data Preprocessing\n",
    "***Clean up the data and process where necessary***\n",
    "\n",
    "***Plan of Action***\n",
    "- read and save working versions of data - import with datatype changes\n",
    "- retitle columns to be more readable/user friendly\n",
    "- identify missing values\n",
    "- identify duplicate rows\n",
    "- Determine if there are users in both groups or not\n",
    "\n",
    "<div class=\"alert alert-success\">\n",
    "<b>Reviewer's comment v.1</b> \n",
    "\n",
    "👍 It is a reasonable plan.\n",
    "</div>\n",
    "    \n",
    "***Save working versions of the data***"
   ]
  },
  {
   "cell_type": "code",
   "execution_count": 15,
   "metadata": {},
   "outputs": [],
   "source": [
    "# create working versions of the dataframes for data analysis\n",
    "# import with appropriate datetime data types\n",
    "hypotheses = pd.read_csv('/datasets/hypotheses_us.csv', sep = ';')\n",
    "orders = pd.read_csv('/datasets/orders_us.csv', parse_dates = ['date'])\n",
    "visits = pd.read_csv('/datasets/visits_us.csv', parse_dates = ['date'])"
   ]
  },
  {
   "cell_type": "markdown",
   "metadata": {},
   "source": [
    "<div class=\"alert alert-success\">\n",
    "<b>Reviewer's comment v.1</b> \n",
    "\n",
    "👍 Nice to see there the `parse_dates` parameter here.\n",
    "</div>"
   ]
  },
  {
   "cell_type": "markdown",
   "metadata": {},
   "source": [
    "***Retitle columns***"
   ]
  },
  {
   "cell_type": "code",
   "execution_count": 16,
   "metadata": {},
   "outputs": [
    {
     "data": {
      "text/plain": [
       "Index(['Hypothesis', 'Reach', 'Impact', 'Confidence', 'Effort'], dtype='object')"
      ]
     },
     "metadata": {},
     "output_type": "display_data"
    },
    {
     "data": {
      "text/plain": [
       "Index(['transactionId', 'visitorId', 'date', 'revenue', 'group'], dtype='object')"
      ]
     },
     "metadata": {},
     "output_type": "display_data"
    },
    {
     "data": {
      "text/plain": [
       "Index(['date', 'group', 'visits'], dtype='object')"
      ]
     },
     "metadata": {},
     "output_type": "display_data"
    }
   ],
   "source": [
    "# review original column titles\n",
    "display(hypotheses.columns)\n",
    "display(orders.columns)\n",
    "display(visits.columns)"
   ]
  },
  {
   "cell_type": "code",
   "execution_count": 17,
   "metadata": {},
   "outputs": [
    {
     "data": {
      "text/plain": [
       "Index(['hypothesis', 'reach', 'impact', 'confidence', 'effort'], dtype='object')"
      ]
     },
     "metadata": {},
     "output_type": "display_data"
    },
    {
     "data": {
      "text/plain": [
       "Index(['transaction_id', 'visitor_id', 'date', 'revenue', 'group'], dtype='object')"
      ]
     },
     "metadata": {},
     "output_type": "display_data"
    },
    {
     "data": {
      "text/plain": [
       "Index(['date', 'group', 'visits'], dtype='object')"
      ]
     },
     "metadata": {},
     "output_type": "display_data"
    }
   ],
   "source": [
    "# retitle columns to be readable/user friendly\n",
    "hypotheses = hypotheses.rename(columns = str.lower)\n",
    "orders = orders.rename(columns = {'transactionId': 'transaction_id', 'visitorId': 'visitor_id'})\n",
    "# visits = visits.rename(columns = {'date': 'visit_date'})\n",
    "\n",
    "# review updated column names\n",
    "display(hypotheses.columns)\n",
    "display(orders.columns)\n",
    "display(visits.columns)"
   ]
  },
  {
   "cell_type": "markdown",
   "metadata": {},
   "source": [
    "<div class=\"alert alert-success\">\n",
    "<b>Reviewer's comment v.1</b> \n",
    "\n",
    "✔ The correct job with the `rename` method.\n",
    "</div>"
   ]
  },
  {
   "cell_type": "markdown",
   "metadata": {},
   "source": [
    "***Identify missing values in the datasets***"
   ]
  },
  {
   "cell_type": "code",
   "execution_count": 18,
   "metadata": {},
   "outputs": [
    {
     "name": "stdout",
     "output_type": "stream",
     "text": [
      "number of missing values in hypotheses df\n"
     ]
    },
    {
     "data": {
      "text/plain": [
       "hypothesis    0\n",
       "reach         0\n",
       "impact        0\n",
       "confidence    0\n",
       "effort        0\n",
       "dtype: int64"
      ]
     },
     "execution_count": 18,
     "metadata": {},
     "output_type": "execute_result"
    }
   ],
   "source": [
    "print('number of missing values in hypotheses df')\n",
    "hypotheses.isnull().sum()"
   ]
  },
  {
   "cell_type": "code",
   "execution_count": 19,
   "metadata": {},
   "outputs": [
    {
     "name": "stdout",
     "output_type": "stream",
     "text": [
      "number of missing values in orders df\n"
     ]
    },
    {
     "data": {
      "text/plain": [
       "transaction_id    0\n",
       "visitor_id        0\n",
       "date              0\n",
       "revenue           0\n",
       "group             0\n",
       "dtype: int64"
      ]
     },
     "execution_count": 19,
     "metadata": {},
     "output_type": "execute_result"
    }
   ],
   "source": [
    "print('number of missing values in orders df')\n",
    "orders.isnull().sum()"
   ]
  },
  {
   "cell_type": "code",
   "execution_count": 20,
   "metadata": {},
   "outputs": [
    {
     "name": "stdout",
     "output_type": "stream",
     "text": [
      "number of missing values in visits df\n"
     ]
    },
    {
     "data": {
      "text/plain": [
       "date      0\n",
       "group     0\n",
       "visits    0\n",
       "dtype: int64"
      ]
     },
     "execution_count": 20,
     "metadata": {},
     "output_type": "execute_result"
    }
   ],
   "source": [
    "print('number of missing values in visits df')\n",
    "visits.isnull().sum()"
   ]
  },
  {
   "cell_type": "markdown",
   "metadata": {},
   "source": [
    "***Identify duplicate rows in the data sets***"
   ]
  },
  {
   "cell_type": "code",
   "execution_count": 21,
   "metadata": {},
   "outputs": [
    {
     "name": "stdout",
     "output_type": "stream",
     "text": [
      "number of duplicate rows in orders df\n"
     ]
    },
    {
     "data": {
      "text/plain": [
       "0"
      ]
     },
     "execution_count": 21,
     "metadata": {},
     "output_type": "execute_result"
    }
   ],
   "source": [
    "print('number of duplicate rows in orders df')\n",
    "orders.duplicated().sum()"
   ]
  },
  {
   "cell_type": "code",
   "execution_count": 22,
   "metadata": {},
   "outputs": [
    {
     "name": "stdout",
     "output_type": "stream",
     "text": [
      "number of duplicate rows in visits df\n"
     ]
    },
    {
     "data": {
      "text/plain": [
       "0"
      ]
     },
     "execution_count": 22,
     "metadata": {},
     "output_type": "execute_result"
    }
   ],
   "source": [
    "print('number of duplicate rows in visits df')\n",
    "visits.duplicated().sum()"
   ]
  },
  {
   "cell_type": "markdown",
   "metadata": {},
   "source": [
    "<div class=\"alert alert-success\">\n",
    "<b>Reviewer's comment v.1</b> \n",
    "\n",
    "✔ Well done!\n",
    "</div>"
   ]
  },
  {
   "cell_type": "markdown",
   "metadata": {},
   "source": [
    "***Determine if there are users in both groups or not***"
   ]
  },
  {
   "cell_type": "code",
   "execution_count": 23,
   "metadata": {},
   "outputs": [
    {
     "data": {
      "text/html": [
       "<div>\n",
       "<style scoped>\n",
       "    .dataframe tbody tr th:only-of-type {\n",
       "        vertical-align: middle;\n",
       "    }\n",
       "\n",
       "    .dataframe tbody tr th {\n",
       "        vertical-align: top;\n",
       "    }\n",
       "\n",
       "    .dataframe thead th {\n",
       "        text-align: right;\n",
       "    }\n",
       "</style>\n",
       "<table border=\"1\" class=\"dataframe\">\n",
       "  <thead>\n",
       "    <tr style=\"text-align: right;\">\n",
       "      <th></th>\n",
       "      <th>visitor_id</th>\n",
       "      <th>group</th>\n",
       "    </tr>\n",
       "  </thead>\n",
       "  <tbody>\n",
       "    <tr>\n",
       "      <td>0</td>\n",
       "      <td>5114589</td>\n",
       "      <td>1</td>\n",
       "    </tr>\n",
       "    <tr>\n",
       "      <td>1</td>\n",
       "      <td>6958315</td>\n",
       "      <td>1</td>\n",
       "    </tr>\n",
       "    <tr>\n",
       "      <td>2</td>\n",
       "      <td>8300375</td>\n",
       "      <td>2</td>\n",
       "    </tr>\n",
       "    <tr>\n",
       "      <td>3</td>\n",
       "      <td>11685486</td>\n",
       "      <td>1</td>\n",
       "    </tr>\n",
       "    <tr>\n",
       "      <td>4</td>\n",
       "      <td>39475350</td>\n",
       "      <td>1</td>\n",
       "    </tr>\n",
       "  </tbody>\n",
       "</table>\n",
       "</div>"
      ],
      "text/plain": [
       "   visitor_id  group\n",
       "0     5114589      1\n",
       "1     6958315      1\n",
       "2     8300375      2\n",
       "3    11685486      1\n",
       "4    39475350      1"
      ]
     },
     "execution_count": 23,
     "metadata": {},
     "output_type": "execute_result"
    }
   ],
   "source": [
    "# find orders made by users in both groups\n",
    "orders_in_both_groups = orders.groupby('visitor_id').agg({'group': 'nunique'}).reset_index()\n",
    "orders_in_both_groups.head()"
   ]
  },
  {
   "cell_type": "code",
   "execution_count": 24,
   "metadata": {},
   "outputs": [
    {
     "data": {
      "text/html": [
       "<div>\n",
       "<style scoped>\n",
       "    .dataframe tbody tr th:only-of-type {\n",
       "        vertical-align: middle;\n",
       "    }\n",
       "\n",
       "    .dataframe tbody tr th {\n",
       "        vertical-align: top;\n",
       "    }\n",
       "\n",
       "    .dataframe thead th {\n",
       "        text-align: right;\n",
       "    }\n",
       "</style>\n",
       "<table border=\"1\" class=\"dataframe\">\n",
       "  <thead>\n",
       "    <tr style=\"text-align: right;\">\n",
       "      <th></th>\n",
       "      <th>visitor_id</th>\n",
       "      <th>group</th>\n",
       "    </tr>\n",
       "  </thead>\n",
       "  <tbody>\n",
       "    <tr>\n",
       "      <td>2</td>\n",
       "      <td>8300375</td>\n",
       "      <td>2</td>\n",
       "    </tr>\n",
       "    <tr>\n",
       "      <td>44</td>\n",
       "      <td>199603092</td>\n",
       "      <td>2</td>\n",
       "    </tr>\n",
       "    <tr>\n",
       "      <td>51</td>\n",
       "      <td>232979603</td>\n",
       "      <td>2</td>\n",
       "    </tr>\n",
       "    <tr>\n",
       "      <td>55</td>\n",
       "      <td>237748145</td>\n",
       "      <td>2</td>\n",
       "    </tr>\n",
       "    <tr>\n",
       "      <td>66</td>\n",
       "      <td>276558944</td>\n",
       "      <td>2</td>\n",
       "    </tr>\n",
       "  </tbody>\n",
       "</table>\n",
       "</div>"
      ],
      "text/plain": [
       "    visitor_id  group\n",
       "2      8300375      2\n",
       "44   199603092      2\n",
       "51   232979603      2\n",
       "55   237748145      2\n",
       "66   276558944      2"
      ]
     },
     "execution_count": 24,
     "metadata": {},
     "output_type": "execute_result"
    }
   ],
   "source": [
    "orders_in_both_groups_query = orders_in_both_groups.query('group == 2')\n",
    "orders_in_both_groups_query.head()"
   ]
  },
  {
   "cell_type": "code",
   "execution_count": 25,
   "metadata": {},
   "outputs": [
    {
     "name": "stdout",
     "output_type": "stream",
     "text": [
      "number of users in both groups: 58\n",
      "This accounts for 5.6% of users\n"
     ]
    }
   ],
   "source": [
    "num_users_in_both_groups = len(orders_in_both_groups_query)\n",
    "percent_users_in_both_groups = num_users_in_both_groups / orders['visitor_id'].nunique()\n",
    "print('number of users in both groups: {}\\nThis accounts for {:.1%} of users'.format(num_users_in_both_groups, percent_users_in_both_groups))"
   ]
  },
  {
   "cell_type": "code",
   "execution_count": 26,
   "metadata": {},
   "outputs": [
    {
     "name": "stdout",
     "output_type": "stream",
     "text": [
      "first 5 users in list of users to be excluded:\n"
     ]
    },
    {
     "data": {
      "text/plain": [
       "[8300375, 199603092, 232979603, 237748145, 276558944]"
      ]
     },
     "execution_count": 26,
     "metadata": {},
     "output_type": "execute_result"
    }
   ],
   "source": [
    "# make a list of the users in both groups\n",
    "users_to_exclude = list(orders_in_both_groups_query['visitor_id'])\n",
    "print('first 5 users in list of users to be excluded:')\n",
    "users_to_exclude[:5]"
   ]
  },
  {
   "cell_type": "markdown",
   "metadata": {},
   "source": [
    "***Remove users that are in both groups***\n",
    "- Because the amount of users that are included in both groups is less than 10%, they will be removed from the dataset"
   ]
  },
  {
   "cell_type": "code",
   "execution_count": 27,
   "metadata": {
    "scrolled": true
   },
   "outputs": [
    {
     "name": "stdout",
     "output_type": "stream",
     "text": [
      "<class 'pandas.core.frame.DataFrame'>\n",
      "RangeIndex: 1197 entries, 0 to 1196\n",
      "Data columns (total 5 columns):\n",
      "transaction_id    1197 non-null int64\n",
      "visitor_id        1197 non-null int64\n",
      "date              1197 non-null datetime64[ns]\n",
      "revenue           1197 non-null float64\n",
      "group             1197 non-null object\n",
      "dtypes: datetime64[ns](1), float64(1), int64(2), object(1)\n",
      "memory usage: 46.9+ KB\n"
     ]
    }
   ],
   "source": [
    "orders.info()"
   ]
  },
  {
   "cell_type": "code",
   "execution_count": 28,
   "metadata": {},
   "outputs": [
    {
     "name": "stdout",
     "output_type": "stream",
     "text": [
      "<class 'pandas.core.frame.DataFrame'>\n",
      "Int64Index: 1016 entries, 0 to 1196\n",
      "Data columns (total 5 columns):\n",
      "transaction_id    1016 non-null int64\n",
      "visitor_id        1016 non-null int64\n",
      "date              1016 non-null datetime64[ns]\n",
      "revenue           1016 non-null float64\n",
      "group             1016 non-null object\n",
      "dtypes: datetime64[ns](1), float64(1), int64(2), object(1)\n",
      "memory usage: 47.6+ KB\n"
     ]
    }
   ],
   "source": [
    "# remove users in both groups from the dataset\n",
    "orders_no_dups = orders.query('visitor_id not in @users_to_exclude')\n",
    "orders_no_dups.info()"
   ]
  },
  {
   "cell_type": "markdown",
   "metadata": {},
   "source": [
    "<div class=\"alert alert-success\">\n",
    "<b>Reviewer's comment v.1</b> \n",
    "\n",
    "👍 Perfectly, you have checked the test participants who could take part in both groups. I agree with you that it is reasonable to drop them. But anyway, we have to work with aggregation data in the `visits` dataframe, and we cannot detect these users there. So, if we drop these users from the `orders` dataframe, we will decrease a little the conversion value. I guess it is not so important here because this is a training project, but in a real situation, we need more information.\n",
    "\n",
    "</div>"
   ]
  },
  {
   "cell_type": "markdown",
   "metadata": {},
   "source": [
    "<div class=\"alert alert-info\"> \n",
    "<b>Student's comment</b> \n",
    "    \n",
    "Oh, I didnt think about that, thank you for pointing it out!\n",
    "</div>"
   ]
  },
  {
   "cell_type": "markdown",
   "metadata": {},
   "source": [
    "<div class=\"alert alert-block alert-success\">\n",
    "<b>Reviewer's comment v.2</b> \n",
    "    \n",
    "👍\n",
    "</div>"
   ]
  },
  {
   "cell_type": "markdown",
   "metadata": {},
   "source": [
    "# 3 Conclusion: Data Preprocessing\n",
    "\n",
    "***Actions Performed***\n",
    "- working versions of datasets were created and imported with parsed dates\n",
    "- retitled columns to be more readable / user friendly \n",
    "- looked for missing values\n",
    "    - none were found\n",
    "- looked for duplicate rows\n",
    "    - none were found\n",
    "- looked for users in both groups\n",
    "    - 58 were found or 5.6% of users\n",
    "    - these users were removed from the orders dataset"
   ]
  },
  {
   "cell_type": "markdown",
   "metadata": {},
   "source": [
    "<div class=\"alert alert-block alert-success\">\n",
    "<b>Reviewer's comment v.1</b> \n",
    "    \n",
    "⭐ Good job at this stage! The data have been prepared for the following analysis correctly. We could also optimize a numeric data using the to_numeric() method:\n",
    "- https://pandas.pydata.org/docs/reference/api/pandas.to_numeric.html\n",
    "- https://vincentteyssier.medium.com/optimizing-the-size-of-a-pandas-dataframe-for-low-memory-environment-5f07db3d72e\n",
    "</div>"
   ]
  },
  {
   "cell_type": "code",
   "execution_count": 29,
   "metadata": {},
   "outputs": [
    {
     "data": {
      "text/html": [
       "<div>\n",
       "<style scoped>\n",
       "    .dataframe tbody tr th:only-of-type {\n",
       "        vertical-align: middle;\n",
       "    }\n",
       "\n",
       "    .dataframe tbody tr th {\n",
       "        vertical-align: top;\n",
       "    }\n",
       "\n",
       "    .dataframe thead th {\n",
       "        text-align: right;\n",
       "    }\n",
       "</style>\n",
       "<table border=\"1\" class=\"dataframe\">\n",
       "  <thead>\n",
       "    <tr style=\"text-align: right;\">\n",
       "      <th></th>\n",
       "      <th>transactionId</th>\n",
       "      <th>visitorId</th>\n",
       "      <th>revenue</th>\n",
       "    </tr>\n",
       "  </thead>\n",
       "  <tbody>\n",
       "    <tr>\n",
       "      <td>count</td>\n",
       "      <td>1.197000e+03</td>\n",
       "      <td>1.197000e+03</td>\n",
       "      <td>1197.000000</td>\n",
       "    </tr>\n",
       "    <tr>\n",
       "      <td>mean</td>\n",
       "      <td>2.155621e+09</td>\n",
       "      <td>2.165960e+09</td>\n",
       "      <td>131.491646</td>\n",
       "    </tr>\n",
       "    <tr>\n",
       "      <td>std</td>\n",
       "      <td>1.229085e+09</td>\n",
       "      <td>1.236014e+09</td>\n",
       "      <td>603.004729</td>\n",
       "    </tr>\n",
       "    <tr>\n",
       "      <td>min</td>\n",
       "      <td>1.062393e+06</td>\n",
       "      <td>5.114589e+06</td>\n",
       "      <td>5.000000</td>\n",
       "    </tr>\n",
       "    <tr>\n",
       "      <td>25%</td>\n",
       "      <td>1.166776e+09</td>\n",
       "      <td>1.111826e+09</td>\n",
       "      <td>20.800000</td>\n",
       "    </tr>\n",
       "    <tr>\n",
       "      <td>50%</td>\n",
       "      <td>2.145194e+09</td>\n",
       "      <td>2.217985e+09</td>\n",
       "      <td>50.200000</td>\n",
       "    </tr>\n",
       "    <tr>\n",
       "      <td>75%</td>\n",
       "      <td>3.237740e+09</td>\n",
       "      <td>3.177606e+09</td>\n",
       "      <td>130.400000</td>\n",
       "    </tr>\n",
       "    <tr>\n",
       "      <td>max</td>\n",
       "      <td>4.293856e+09</td>\n",
       "      <td>4.283872e+09</td>\n",
       "      <td>19920.400000</td>\n",
       "    </tr>\n",
       "  </tbody>\n",
       "</table>\n",
       "</div>"
      ],
      "text/plain": [
       "       transactionId     visitorId       revenue\n",
       "count   1.197000e+03  1.197000e+03   1197.000000\n",
       "mean    2.155621e+09  2.165960e+09    131.491646\n",
       "std     1.229085e+09  1.236014e+09    603.004729\n",
       "min     1.062393e+06  5.114589e+06      5.000000\n",
       "25%     1.166776e+09  1.111826e+09     20.800000\n",
       "50%     2.145194e+09  2.217985e+09     50.200000\n",
       "75%     3.237740e+09  3.177606e+09    130.400000\n",
       "max     4.293856e+09  4.283872e+09  19920.400000"
      ]
     },
     "execution_count": 29,
     "metadata": {},
     "output_type": "execute_result"
    }
   ],
   "source": [
    "orders_orig.describe()"
   ]
  },
  {
   "cell_type": "markdown",
   "metadata": {},
   "source": [
    "<div class=\"alert alert-info\"> \n",
    "<b>Student's comment</b> \n",
    "    \n",
    "I see, I could have used float16 / int16 / uint16: consumes 2 bytes of memory, range between -32768 and 32767 or 0/65535 since my max revenue value is 19,920.\n",
    "It would probably be better to have the transactionId and visitorId be objects instead of integers because of the nature of their value.\n",
    "</div>"
   ]
  },
  {
   "cell_type": "markdown",
   "metadata": {},
   "source": [
    "<div class=\"alert alert-block alert-success\">\n",
    "<b>Reviewer's comment v.2</b> \n",
    "    \n",
    "👍 Yes, you are right! Also, we could use the `downcast` parameter of the `to_numeric()` method to automatically determine the most compatible regime to numeric data.\n",
    "</div>"
   ]
  },
  {
   "cell_type": "code",
   "execution_count": 30,
   "metadata": {},
   "outputs": [
    {
     "name": "stdout",
     "output_type": "stream",
     "text": [
      "<class 'pandas.core.frame.DataFrame'>\n",
      "RangeIndex: 62 entries, 0 to 61\n",
      "Data columns (total 3 columns):\n",
      "date      62 non-null object\n",
      "group     62 non-null object\n",
      "visits    62 non-null int16\n",
      "dtypes: int16(1), object(2)\n",
      "memory usage: 1.2+ KB\n"
     ]
    }
   ],
   "source": [
    "# the reviewers's code:\n",
    "tmp =  pd.read_csv('/datasets/visits_us.csv')\n",
    "tmp['visits']  = pd.to_numeric(tmp['visits'], downcast=\"integer\")\n",
    "tmp.info()"
   ]
  },
  {
   "cell_type": "markdown",
   "metadata": {},
   "source": [
    "# 4 Analyze the Data\n",
    "\n",
    "***4.1. Prioritize Hypotheses***\n",
    "- 4.1.A. Apply the ICE framework to prioritize hypotheses. Sort them in descending order of priority.\n",
    "- 4.1.B Apply the RICE framework to prioritize hypotheses. Sort them in descending order of priority.\n",
    "- 4.1.C Show how the prioritization of hypotheses changes when you use RICE instead of ICE. Provide an explanation for the changes."
   ]
  },
  {
   "cell_type": "markdown",
   "metadata": {},
   "source": [
    "***4.1.A. Apply the ICE framework to prioritize hypotheses. Sort them in descending order of priority.***\n",
    "\n",
    "- Impact, confidence, effort/ease (ICE) is one of the most popular ways of prioritizing problems:\n",
    "    - ICE Score = impact * confidence * ease\n",
    "    - ICE Score = impact * confidence / effort"
   ]
  },
  {
   "cell_type": "code",
   "execution_count": 31,
   "metadata": {},
   "outputs": [
    {
     "data": {
      "text/html": [
       "<div>\n",
       "<style scoped>\n",
       "    .dataframe tbody tr th:only-of-type {\n",
       "        vertical-align: middle;\n",
       "    }\n",
       "\n",
       "    .dataframe tbody tr th {\n",
       "        vertical-align: top;\n",
       "    }\n",
       "\n",
       "    .dataframe thead th {\n",
       "        text-align: right;\n",
       "    }\n",
       "</style>\n",
       "<table border=\"1\" class=\"dataframe\">\n",
       "  <thead>\n",
       "    <tr style=\"text-align: right;\">\n",
       "      <th></th>\n",
       "      <th>hypothesis</th>\n",
       "      <th>reach</th>\n",
       "      <th>impact</th>\n",
       "      <th>confidence</th>\n",
       "      <th>effort</th>\n",
       "    </tr>\n",
       "  </thead>\n",
       "  <tbody>\n",
       "    <tr>\n",
       "      <td>0</td>\n",
       "      <td>Add two new channels for attracting traffic. This will bring 30% more users</td>\n",
       "      <td>3</td>\n",
       "      <td>10</td>\n",
       "      <td>8</td>\n",
       "      <td>6</td>\n",
       "    </tr>\n",
       "    <tr>\n",
       "      <td>1</td>\n",
       "      <td>Launch your own delivery service. This will shorten delivery time</td>\n",
       "      <td>2</td>\n",
       "      <td>5</td>\n",
       "      <td>4</td>\n",
       "      <td>10</td>\n",
       "    </tr>\n",
       "  </tbody>\n",
       "</table>\n",
       "</div>"
      ],
      "text/plain": [
       "                                                                    hypothesis  \\\n",
       "0  Add two new channels for attracting traffic. This will bring 30% more users   \n",
       "1            Launch your own delivery service. This will shorten delivery time   \n",
       "\n",
       "   reach  impact  confidence  effort  \n",
       "0      3      10           8       6  \n",
       "1      2       5           4      10  "
      ]
     },
     "execution_count": 31,
     "metadata": {},
     "output_type": "execute_result"
    }
   ],
   "source": [
    "hypotheses.head(2)"
   ]
  },
  {
   "cell_type": "code",
   "execution_count": 32,
   "metadata": {},
   "outputs": [
    {
     "data": {
      "text/html": [
       "<div>\n",
       "<style scoped>\n",
       "    .dataframe tbody tr th:only-of-type {\n",
       "        vertical-align: middle;\n",
       "    }\n",
       "\n",
       "    .dataframe tbody tr th {\n",
       "        vertical-align: top;\n",
       "    }\n",
       "\n",
       "    .dataframe thead th {\n",
       "        text-align: right;\n",
       "    }\n",
       "</style>\n",
       "<table border=\"1\" class=\"dataframe\">\n",
       "  <thead>\n",
       "    <tr style=\"text-align: right;\">\n",
       "      <th></th>\n",
       "      <th>hypotheses_number</th>\n",
       "      <th>hypothesis</th>\n",
       "      <th>reach</th>\n",
       "      <th>impact</th>\n",
       "      <th>confidence</th>\n",
       "      <th>effort</th>\n",
       "      <th>ice</th>\n",
       "    </tr>\n",
       "  </thead>\n",
       "  <tbody>\n",
       "    <tr>\n",
       "      <td>0</td>\n",
       "      <td>8</td>\n",
       "      <td>Launch a promotion that gives users discounts on their birthdays</td>\n",
       "      <td>1</td>\n",
       "      <td>9</td>\n",
       "      <td>9</td>\n",
       "      <td>5</td>\n",
       "      <td>16.20</td>\n",
       "    </tr>\n",
       "    <tr>\n",
       "      <td>1</td>\n",
       "      <td>0</td>\n",
       "      <td>Add two new channels for attracting traffic. This will bring 30% more users</td>\n",
       "      <td>3</td>\n",
       "      <td>10</td>\n",
       "      <td>8</td>\n",
       "      <td>6</td>\n",
       "      <td>13.33</td>\n",
       "    </tr>\n",
       "    <tr>\n",
       "      <td>2</td>\n",
       "      <td>7</td>\n",
       "      <td>Add a subscription form to all the main pages. This will help you compile a mailing list</td>\n",
       "      <td>10</td>\n",
       "      <td>7</td>\n",
       "      <td>8</td>\n",
       "      <td>5</td>\n",
       "      <td>11.20</td>\n",
       "    </tr>\n",
       "    <tr>\n",
       "      <td>3</td>\n",
       "      <td>6</td>\n",
       "      <td>Show banners with current offers and sales on the main page. This will boost conversion</td>\n",
       "      <td>5</td>\n",
       "      <td>3</td>\n",
       "      <td>8</td>\n",
       "      <td>3</td>\n",
       "      <td>8.00</td>\n",
       "    </tr>\n",
       "    <tr>\n",
       "      <td>4</td>\n",
       "      <td>2</td>\n",
       "      <td>Add product recommendation blocks to the store's site. This will increase conversion and average purchase size</td>\n",
       "      <td>8</td>\n",
       "      <td>3</td>\n",
       "      <td>7</td>\n",
       "      <td>3</td>\n",
       "      <td>7.00</td>\n",
       "    </tr>\n",
       "    <tr>\n",
       "      <td>5</td>\n",
       "      <td>1</td>\n",
       "      <td>Launch your own delivery service. This will shorten delivery time</td>\n",
       "      <td>2</td>\n",
       "      <td>5</td>\n",
       "      <td>4</td>\n",
       "      <td>10</td>\n",
       "      <td>2.00</td>\n",
       "    </tr>\n",
       "    <tr>\n",
       "      <td>6</td>\n",
       "      <td>5</td>\n",
       "      <td>Add a customer review page. This will increase the number of orders</td>\n",
       "      <td>3</td>\n",
       "      <td>2</td>\n",
       "      <td>2</td>\n",
       "      <td>3</td>\n",
       "      <td>1.33</td>\n",
       "    </tr>\n",
       "    <tr>\n",
       "      <td>7</td>\n",
       "      <td>3</td>\n",
       "      <td>Change the category structure. This will increase conversion since users will find the products they want more quickly</td>\n",
       "      <td>8</td>\n",
       "      <td>3</td>\n",
       "      <td>3</td>\n",
       "      <td>8</td>\n",
       "      <td>1.12</td>\n",
       "    </tr>\n",
       "    <tr>\n",
       "      <td>8</td>\n",
       "      <td>4</td>\n",
       "      <td>Change the background color on the main page. This will increase user engagement</td>\n",
       "      <td>3</td>\n",
       "      <td>1</td>\n",
       "      <td>1</td>\n",
       "      <td>1</td>\n",
       "      <td>1.00</td>\n",
       "    </tr>\n",
       "  </tbody>\n",
       "</table>\n",
       "</div>"
      ],
      "text/plain": [
       "   hypotheses_number  \\\n",
       "0                  8   \n",
       "1                  0   \n",
       "2                  7   \n",
       "3                  6   \n",
       "4                  2   \n",
       "5                  1   \n",
       "6                  5   \n",
       "7                  3   \n",
       "8                  4   \n",
       "\n",
       "                                                                                                               hypothesis  \\\n",
       "0                                                        Launch a promotion that gives users discounts on their birthdays   \n",
       "1                                             Add two new channels for attracting traffic. This will bring 30% more users   \n",
       "2                                Add a subscription form to all the main pages. This will help you compile a mailing list   \n",
       "3                                 Show banners with current offers and sales on the main page. This will boost conversion   \n",
       "4          Add product recommendation blocks to the store's site. This will increase conversion and average purchase size   \n",
       "5                                                       Launch your own delivery service. This will shorten delivery time   \n",
       "6                                                     Add a customer review page. This will increase the number of orders   \n",
       "7  Change the category structure. This will increase conversion since users will find the products they want more quickly   \n",
       "8                                        Change the background color on the main page. This will increase user engagement   \n",
       "\n",
       "   reach  impact  confidence  effort    ice  \n",
       "0      1       9           9       5  16.20  \n",
       "1      3      10           8       6  13.33  \n",
       "2     10       7           8       5  11.20  \n",
       "3      5       3           8       3   8.00  \n",
       "4      8       3           7       3   7.00  \n",
       "5      2       5           4      10   2.00  \n",
       "6      3       2           2       3   1.33  \n",
       "7      8       3           3       8   1.12  \n",
       "8      3       1           1       1   1.00  "
      ]
     },
     "execution_count": 32,
     "metadata": {},
     "output_type": "execute_result"
    }
   ],
   "source": [
    "# calculate the ICE and sort by ICE score\n",
    "hypotheses['ice'] = (hypotheses['impact'] * hypotheses['confidence'] / hypotheses['effort']).round(2)\n",
    "hypotheses = hypotheses.sort_values(by = 'ice', ascending = False).reset_index()\n",
    "hypotheses = hypotheses.rename(columns = {'index': 'hypotheses_number'})\n",
    "hypotheses"
   ]
  },
  {
   "cell_type": "markdown",
   "metadata": {},
   "source": [
    "***4.1.B Apply the RICE framework to prioritize hypotheses. Sort them in descending order of priority.***\n",
    "- RICE Score = reach * impact * confidence / effort"
   ]
  },
  {
   "cell_type": "code",
   "execution_count": 33,
   "metadata": {},
   "outputs": [
    {
     "data": {
      "text/html": [
       "<div>\n",
       "<style scoped>\n",
       "    .dataframe tbody tr th:only-of-type {\n",
       "        vertical-align: middle;\n",
       "    }\n",
       "\n",
       "    .dataframe tbody tr th {\n",
       "        vertical-align: top;\n",
       "    }\n",
       "\n",
       "    .dataframe thead th {\n",
       "        text-align: right;\n",
       "    }\n",
       "</style>\n",
       "<table border=\"1\" class=\"dataframe\">\n",
       "  <thead>\n",
       "    <tr style=\"text-align: right;\">\n",
       "      <th></th>\n",
       "      <th>hypotheses_number</th>\n",
       "      <th>hypothesis</th>\n",
       "      <th>reach</th>\n",
       "      <th>impact</th>\n",
       "      <th>confidence</th>\n",
       "      <th>effort</th>\n",
       "      <th>ice</th>\n",
       "      <th>rice</th>\n",
       "    </tr>\n",
       "  </thead>\n",
       "  <tbody>\n",
       "    <tr>\n",
       "      <td>0</td>\n",
       "      <td>7</td>\n",
       "      <td>Add a subscription form to all the main pages. This will help you compile a mailing list</td>\n",
       "      <td>10</td>\n",
       "      <td>7</td>\n",
       "      <td>8</td>\n",
       "      <td>5</td>\n",
       "      <td>11.20</td>\n",
       "      <td>112.0</td>\n",
       "    </tr>\n",
       "    <tr>\n",
       "      <td>1</td>\n",
       "      <td>2</td>\n",
       "      <td>Add product recommendation blocks to the store's site. This will increase conversion and average purchase size</td>\n",
       "      <td>8</td>\n",
       "      <td>3</td>\n",
       "      <td>7</td>\n",
       "      <td>3</td>\n",
       "      <td>7.00</td>\n",
       "      <td>56.0</td>\n",
       "    </tr>\n",
       "    <tr>\n",
       "      <td>2</td>\n",
       "      <td>0</td>\n",
       "      <td>Add two new channels for attracting traffic. This will bring 30% more users</td>\n",
       "      <td>3</td>\n",
       "      <td>10</td>\n",
       "      <td>8</td>\n",
       "      <td>6</td>\n",
       "      <td>13.33</td>\n",
       "      <td>40.0</td>\n",
       "    </tr>\n",
       "    <tr>\n",
       "      <td>3</td>\n",
       "      <td>6</td>\n",
       "      <td>Show banners with current offers and sales on the main page. This will boost conversion</td>\n",
       "      <td>5</td>\n",
       "      <td>3</td>\n",
       "      <td>8</td>\n",
       "      <td>3</td>\n",
       "      <td>8.00</td>\n",
       "      <td>40.0</td>\n",
       "    </tr>\n",
       "    <tr>\n",
       "      <td>4</td>\n",
       "      <td>8</td>\n",
       "      <td>Launch a promotion that gives users discounts on their birthdays</td>\n",
       "      <td>1</td>\n",
       "      <td>9</td>\n",
       "      <td>9</td>\n",
       "      <td>5</td>\n",
       "      <td>16.20</td>\n",
       "      <td>16.2</td>\n",
       "    </tr>\n",
       "    <tr>\n",
       "      <td>5</td>\n",
       "      <td>3</td>\n",
       "      <td>Change the category structure. This will increase conversion since users will find the products they want more quickly</td>\n",
       "      <td>8</td>\n",
       "      <td>3</td>\n",
       "      <td>3</td>\n",
       "      <td>8</td>\n",
       "      <td>1.12</td>\n",
       "      <td>9.0</td>\n",
       "    </tr>\n",
       "    <tr>\n",
       "      <td>6</td>\n",
       "      <td>1</td>\n",
       "      <td>Launch your own delivery service. This will shorten delivery time</td>\n",
       "      <td>2</td>\n",
       "      <td>5</td>\n",
       "      <td>4</td>\n",
       "      <td>10</td>\n",
       "      <td>2.00</td>\n",
       "      <td>4.0</td>\n",
       "    </tr>\n",
       "    <tr>\n",
       "      <td>7</td>\n",
       "      <td>5</td>\n",
       "      <td>Add a customer review page. This will increase the number of orders</td>\n",
       "      <td>3</td>\n",
       "      <td>2</td>\n",
       "      <td>2</td>\n",
       "      <td>3</td>\n",
       "      <td>1.33</td>\n",
       "      <td>4.0</td>\n",
       "    </tr>\n",
       "    <tr>\n",
       "      <td>8</td>\n",
       "      <td>4</td>\n",
       "      <td>Change the background color on the main page. This will increase user engagement</td>\n",
       "      <td>3</td>\n",
       "      <td>1</td>\n",
       "      <td>1</td>\n",
       "      <td>1</td>\n",
       "      <td>1.00</td>\n",
       "      <td>3.0</td>\n",
       "    </tr>\n",
       "  </tbody>\n",
       "</table>\n",
       "</div>"
      ],
      "text/plain": [
       "   hypotheses_number  \\\n",
       "0                  7   \n",
       "1                  2   \n",
       "2                  0   \n",
       "3                  6   \n",
       "4                  8   \n",
       "5                  3   \n",
       "6                  1   \n",
       "7                  5   \n",
       "8                  4   \n",
       "\n",
       "                                                                                                               hypothesis  \\\n",
       "0                                Add a subscription form to all the main pages. This will help you compile a mailing list   \n",
       "1          Add product recommendation blocks to the store's site. This will increase conversion and average purchase size   \n",
       "2                                             Add two new channels for attracting traffic. This will bring 30% more users   \n",
       "3                                 Show banners with current offers and sales on the main page. This will boost conversion   \n",
       "4                                                        Launch a promotion that gives users discounts on their birthdays   \n",
       "5  Change the category structure. This will increase conversion since users will find the products they want more quickly   \n",
       "6                                                       Launch your own delivery service. This will shorten delivery time   \n",
       "7                                                     Add a customer review page. This will increase the number of orders   \n",
       "8                                        Change the background color on the main page. This will increase user engagement   \n",
       "\n",
       "   reach  impact  confidence  effort    ice   rice  \n",
       "0     10       7           8       5  11.20  112.0  \n",
       "1      8       3           7       3   7.00   56.0  \n",
       "2      3      10           8       6  13.33   40.0  \n",
       "3      5       3           8       3   8.00   40.0  \n",
       "4      1       9           9       5  16.20   16.2  \n",
       "5      8       3           3       8   1.12    9.0  \n",
       "6      2       5           4      10   2.00    4.0  \n",
       "7      3       2           2       3   1.33    4.0  \n",
       "8      3       1           1       1   1.00    3.0  "
      ]
     },
     "execution_count": 33,
     "metadata": {},
     "output_type": "execute_result"
    }
   ],
   "source": [
    "# calculate the RICE and sort by RICE score\n",
    "hypotheses['rice'] = (hypotheses['reach'] *hypotheses['impact'] * hypotheses['confidence'] / hypotheses['effort']).round(2)\n",
    "hypotheses = hypotheses.sort_values(by = 'rice', ascending = False).reset_index(drop = True)\n",
    "hypotheses"
   ]
  },
  {
   "cell_type": "markdown",
   "metadata": {},
   "source": [
    "***4.1.C Show how the prioritization of hypotheses changes when you use RICE instead of ICE. Provide an explanation for the changes.***"
   ]
  },
  {
   "cell_type": "code",
   "execution_count": 34,
   "metadata": {},
   "outputs": [
    {
     "data": {
      "image/png": "[encoded data removed]",
      "text/plain": [
       "<Figure size 864x432 with 1 Axes>"
      ]
     },
     "metadata": {
      "needs_background": "light"
     },
     "output_type": "display_data"
    }
   ],
   "source": [
    "# graph the differences between ICE and RICE\n",
    "hypotheses_graph = hypotheses[['ice', 'rice']].plot(kind = 'bar', figsize = (12, 6))\n",
    "plt.title('ICE vs RICE Priortization')\n",
    "plt.xlabel('hypothesis number')\n",
    "hypotheses_graph.set_xticklabels(hypotheses['hypotheses_number'])\n",
    "plt.ylabel('prioritization score')\n",
    "plt.show()"
   ]
  },
  {
   "cell_type": "markdown",
   "metadata": {},
   "source": [
    "***4.1. Conclusions: Prioritize Hypotheses***\n",
    "- The ICE prioritize method accounts for the impact, confidence, and effort of a change\n",
    "    - using this method hypotheses 8, 0, and 7 would make the top three priority list\n",
    "- The RICE prioritization method accounts for reach, impact, confidence, and effort of a change\n",
    "    - using this method hypotheses 7, 2, 0, and 6 make up the top four priorities\n",
    "- The RICE prioritization method takes into account the reach of a hypothesis, or how many users will be affected by the change, where as the ICE method does not. This is why the RICE scores are higher than the ICE scores."
   ]
  },
  {
   "cell_type": "markdown",
   "metadata": {},
   "source": [
    "<div class=\"alert alert-block alert-success\">\n",
    "<b>Reviewer's comment v.1</b> \n",
    "    \n",
    "👍 Well done! The hypotheses have been prioritized correctly. It is an excellent example of how the `reach factor` influences the hypotheses to rank within the `RICE` framework compared to the `ICE` one. You have provided informative plots that allow us to compare the results of the two frameworks.\n",
    "    \n",
    "---\n",
    "    \n",
    "📝 As a recommendation: we could also compare frameworks values by plotting the ICE/RICE scatter plot.\n",
    "</div>"
   ]
  },
  {
   "cell_type": "markdown",
   "metadata": {},
   "source": [
    "***4.2. A/B Test Analysis***\n",
    "- Analyze the A/B test:\n",
    "    - 4.2.A Graph cumulative revenue by group. Make conclusions and conjectures.\n",
    "    - 4.2.B Graph cumulative average order size by group. Make conclusions and conjectures.\n",
    "    - 4.2.C Graph the relative difference in cumulative average order size for group B compared with group A. Make conclusions and conjectures.\n",
    "    - 4.2.D Calculate each group's conversion rate as the ratio of orders to the number of visits for each day. Plot the daily conversion rates of the two groups and describe the difference. Draw conclusions and make conjectures.\n",
    "    - 4.2.E Plot a scatter chart of the number of orders per user. Make conclusions and conjectures.\n",
    "    - 4.2.F Calculate the 95th and 99th percentiles for the number of orders per user. - - Define the point at which a data point becomes an anomaly.\n",
    "    - 4.2.G Plot a scatter chart of order prices. Make conclusions and conjectures.\n",
    "    - 4.2.H Calculate the 95th and 99th percentiles of order prices. Define the point at which a data point becomes an anomaly.\n",
    "    - 4.2.I Find the statistical significance of the difference in conversion between the groups using the raw data. Make conclusions and conjectures.\n",
    "    - 4.2.J Find the statistical significance of the difference in average order size between the groups using the raw data. Make conclusions and conjectures.\n",
    "    - 4.2.K Find the statistical significance of the difference in conversion between the groups using the filtered data. Make conclusions and conjectures.\n",
    "    - 4.2.L Find the statistical significance of the difference in average order size between the groups using the filtered data. Make conclusions and conjectures.\n",
    "    - 4.2.M Make a decision based on the test results. The possible decisions are: 1. Stop the test, consider one of the groups the leader. 2. Stop the test, conclude that there is no difference between the groups. 3. Continue the test."
   ]
  },
  {
   "cell_type": "markdown",
   "metadata": {},
   "source": [
    "***4.2.A Graph cumulative revenue by group. Make conclusions and conjectures***"
   ]
  },
  {
   "cell_type": "code",
   "execution_count": 35,
   "metadata": {},
   "outputs": [
    {
     "data": {
      "text/html": [
       "<div>\n",
       "<style scoped>\n",
       "    .dataframe tbody tr th:only-of-type {\n",
       "        vertical-align: middle;\n",
       "    }\n",
       "\n",
       "    .dataframe tbody tr th {\n",
       "        vertical-align: top;\n",
       "    }\n",
       "\n",
       "    .dataframe thead th {\n",
       "        text-align: right;\n",
       "    }\n",
       "</style>\n",
       "<table border=\"1\" class=\"dataframe\">\n",
       "  <thead>\n",
       "    <tr style=\"text-align: right;\">\n",
       "      <th></th>\n",
       "      <th>transaction_id</th>\n",
       "      <th>visitor_id</th>\n",
       "      <th>date</th>\n",
       "      <th>revenue</th>\n",
       "      <th>group</th>\n",
       "    </tr>\n",
       "  </thead>\n",
       "  <tbody>\n",
       "    <tr>\n",
       "      <td>0</td>\n",
       "      <td>3667963787</td>\n",
       "      <td>3312258926</td>\n",
       "      <td>2019-08-15</td>\n",
       "      <td>30.4</td>\n",
       "      <td>B</td>\n",
       "    </tr>\n",
       "    <tr>\n",
       "      <td>1</td>\n",
       "      <td>2804400009</td>\n",
       "      <td>3642806036</td>\n",
       "      <td>2019-08-15</td>\n",
       "      <td>15.2</td>\n",
       "      <td>B</td>\n",
       "    </tr>\n",
       "  </tbody>\n",
       "</table>\n",
       "</div>"
      ],
      "text/plain": [
       "   transaction_id  visitor_id       date  revenue group\n",
       "0      3667963787  3312258926 2019-08-15     30.4     B\n",
       "1      2804400009  3642806036 2019-08-15     15.2     B"
      ]
     },
     "execution_count": 35,
     "metadata": {},
     "output_type": "execute_result"
    }
   ],
   "source": [
    "orders_no_dups.head(2)"
   ]
  },
  {
   "cell_type": "code",
   "execution_count": 36,
   "metadata": {},
   "outputs": [
    {
     "data": {
      "text/html": [
       "<div>\n",
       "<style scoped>\n",
       "    .dataframe tbody tr th:only-of-type {\n",
       "        vertical-align: middle;\n",
       "    }\n",
       "\n",
       "    .dataframe tbody tr th {\n",
       "        vertical-align: top;\n",
       "    }\n",
       "\n",
       "    .dataframe thead th {\n",
       "        text-align: right;\n",
       "    }\n",
       "</style>\n",
       "<table border=\"1\" class=\"dataframe\">\n",
       "  <thead>\n",
       "    <tr style=\"text-align: right;\">\n",
       "      <th>group</th>\n",
       "      <th>A</th>\n",
       "      <th>B</th>\n",
       "    </tr>\n",
       "    <tr>\n",
       "      <th>date</th>\n",
       "      <th></th>\n",
       "      <th></th>\n",
       "    </tr>\n",
       "  </thead>\n",
       "  <tbody>\n",
       "    <tr>\n",
       "      <td>2019-08-01</td>\n",
       "      <td>2266.6</td>\n",
       "      <td>967.2</td>\n",
       "    </tr>\n",
       "    <tr>\n",
       "      <td>2019-08-02</td>\n",
       "      <td>3734.9</td>\n",
       "      <td>3535.3</td>\n",
       "    </tr>\n",
       "    <tr>\n",
       "      <td>2019-08-03</td>\n",
       "      <td>5550.1</td>\n",
       "      <td>4606.9</td>\n",
       "    </tr>\n",
       "    <tr>\n",
       "      <td>2019-08-04</td>\n",
       "      <td>6225.6</td>\n",
       "      <td>6138.5</td>\n",
       "    </tr>\n",
       "    <tr>\n",
       "      <td>2019-08-05</td>\n",
       "      <td>7623.6</td>\n",
       "      <td>7587.8</td>\n",
       "    </tr>\n",
       "  </tbody>\n",
       "</table>\n",
       "</div>"
      ],
      "text/plain": [
       "group            A       B\n",
       "date                      \n",
       "2019-08-01  2266.6   967.2\n",
       "2019-08-02  3734.9  3535.3\n",
       "2019-08-03  5550.1  4606.9\n",
       "2019-08-04  6225.6  6138.5\n",
       "2019-08-05  7623.6  7587.8"
      ]
     },
     "execution_count": 36,
     "metadata": {},
     "output_type": "execute_result"
    }
   ],
   "source": [
    "# create a table with the cumulative revenue per group\n",
    "cum_rev_per_group = orders_no_dups.pivot_table(index = 'date', columns = 'group', values = 'revenue', aggfunc = 'sum').cumsum()\n",
    "cum_rev_per_group.head()"
   ]
  },
  {
   "cell_type": "code",
   "execution_count": 37,
   "metadata": {
    "scrolled": false
   },
   "outputs": [
    {
     "data": {
      "image/png": "[encoded data removed]",
      "text/plain": [
       "<Figure size 864x432 with 1 Axes>"
      ]
     },
     "metadata": {
      "needs_background": "light"
     },
     "output_type": "display_data"
    }
   ],
   "source": [
    "# graph the cumulate revenue per group\n",
    "cum_rev_per_group_graph = cum_rev_per_group.plot(figsize = (12, 6))\n",
    "plt.title('cumulative revenue per group')\n",
    "plt.xlabel('dates for month of August 2019')\n",
    "plt.ylabel('revenue')\n",
    "plt.grid()\n",
    "plt.show()"
   ]
  },
  {
   "cell_type": "markdown",
   "metadata": {},
   "source": [
    "<div class=\"alert alert-block alert-success\">\n",
    "<b>Reviewer's comment v.1</b> \n",
    "    \n",
    "👍 A nice plot here and through the project: they have been well designed and informative. We could also add the grid to the graph (`plt.grid()`).\n",
    "</div>"
   ]
  },
  {
   "cell_type": "markdown",
   "metadata": {},
   "source": [
    "<div class=\"alert alert-info\"> \n",
    "<b>Student's comment</b> \n",
    "    \n",
    "oh, that is cool! Much better to see the values! I'm going to add this to all the graphs.\n",
    "</div>"
   ]
  },
  {
   "cell_type": "markdown",
   "metadata": {},
   "source": [
    "<div class=\"alert alert-block alert-success\">\n",
    "<b>Reviewer's comment v.2</b> \n",
    "    \n",
    "👍 \n",
    "</div>"
   ]
  },
  {
   "cell_type": "markdown",
   "metadata": {},
   "source": [
    "***4.2.A Conclusion: Graph cumulative revenue by group***\n",
    "- Revenue rises steadily for both groups throughout the test\n",
    "- revenue accumulated at roughly the same value and rate until Aug 19, 2019\n",
    "    - Aug 19, 2019 had a about a 20,000 dollar spike in revenue for Group B, then accumulated at roughly the same rate again\n",
    "- Perhaps there were more orders or larger priced orders placed in Group B on this day"
   ]
  },
  {
   "cell_type": "markdown",
   "metadata": {},
   "source": [
    "<div class=\"alert alert-block alert-success\">\n",
    "<b>Reviewer's comment v.1</b> \n",
    "    \n",
    "👍 It's great that you analyzed the graph in detail. Yes, we could see the effect of the anomaly orders on the cumulative revenue plot.\n",
    "    \n",
    "</div>"
   ]
  },
  {
   "cell_type": "markdown",
   "metadata": {},
   "source": [
    "***4.2.B Graph cumulative average order size by group. Make conclusions and conjectures.***"
   ]
  },
  {
   "cell_type": "code",
   "execution_count": 38,
   "metadata": {},
   "outputs": [
    {
     "data": {
      "text/html": [
       "<div>\n",
       "<style scoped>\n",
       "    .dataframe tbody tr th:only-of-type {\n",
       "        vertical-align: middle;\n",
       "    }\n",
       "\n",
       "    .dataframe tbody tr th {\n",
       "        vertical-align: top;\n",
       "    }\n",
       "\n",
       "    .dataframe thead th {\n",
       "        text-align: right;\n",
       "    }\n",
       "</style>\n",
       "<table border=\"1\" class=\"dataframe\">\n",
       "  <thead>\n",
       "    <tr style=\"text-align: right;\">\n",
       "      <th></th>\n",
       "      <th>date</th>\n",
       "      <th>cum_rev_a</th>\n",
       "      <th>cum_rev_b</th>\n",
       "      <th>cum_orders_a</th>\n",
       "      <th>cum_orders_b</th>\n",
       "      <th>cum_avg_order_size_a</th>\n",
       "      <th>cum_avg_order_size_b</th>\n",
       "    </tr>\n",
       "  </thead>\n",
       "  <tbody>\n",
       "    <tr>\n",
       "      <td>0</td>\n",
       "      <td>2019-08-01</td>\n",
       "      <td>2266.6</td>\n",
       "      <td>967.2</td>\n",
       "      <td>23.0</td>\n",
       "      <td>17.0</td>\n",
       "      <td>98.547826</td>\n",
       "      <td>56.894118</td>\n",
       "    </tr>\n",
       "    <tr>\n",
       "      <td>1</td>\n",
       "      <td>2019-08-02</td>\n",
       "      <td>3734.9</td>\n",
       "      <td>3535.3</td>\n",
       "      <td>42.0</td>\n",
       "      <td>40.0</td>\n",
       "      <td>88.926190</td>\n",
       "      <td>88.382500</td>\n",
       "    </tr>\n",
       "    <tr>\n",
       "      <td>2</td>\n",
       "      <td>2019-08-03</td>\n",
       "      <td>5550.1</td>\n",
       "      <td>4606.9</td>\n",
       "      <td>66.0</td>\n",
       "      <td>54.0</td>\n",
       "      <td>84.092424</td>\n",
       "      <td>85.312963</td>\n",
       "    </tr>\n",
       "    <tr>\n",
       "      <td>3</td>\n",
       "      <td>2019-08-04</td>\n",
       "      <td>6225.6</td>\n",
       "      <td>6138.5</td>\n",
       "      <td>77.0</td>\n",
       "      <td>68.0</td>\n",
       "      <td>80.851948</td>\n",
       "      <td>90.272059</td>\n",
       "    </tr>\n",
       "    <tr>\n",
       "      <td>4</td>\n",
       "      <td>2019-08-05</td>\n",
       "      <td>7623.6</td>\n",
       "      <td>7587.8</td>\n",
       "      <td>99.0</td>\n",
       "      <td>89.0</td>\n",
       "      <td>77.006061</td>\n",
       "      <td>85.256180</td>\n",
       "    </tr>\n",
       "  </tbody>\n",
       "</table>\n",
       "</div>"
      ],
      "text/plain": [
       "        date  cum_rev_a  cum_rev_b  cum_orders_a  cum_orders_b  \\\n",
       "0 2019-08-01     2266.6      967.2          23.0          17.0   \n",
       "1 2019-08-02     3734.9     3535.3          42.0          40.0   \n",
       "2 2019-08-03     5550.1     4606.9          66.0          54.0   \n",
       "3 2019-08-04     6225.6     6138.5          77.0          68.0   \n",
       "4 2019-08-05     7623.6     7587.8          99.0          89.0   \n",
       "\n",
       "   cum_avg_order_size_a  cum_avg_order_size_b  \n",
       "0             98.547826             56.894118  \n",
       "1             88.926190             88.382500  \n",
       "2             84.092424             85.312963  \n",
       "3             80.851948             90.272059  \n",
       "4             77.006061             85.256180  "
      ]
     },
     "execution_count": 38,
     "metadata": {},
     "output_type": "execute_result"
    }
   ],
   "source": [
    "# create a table to calculute the average order size per group\n",
    "cum_data = orders_no_dups.pivot_table(index = 'date', columns = 'group', values = 'revenue', aggfunc = ['sum', 'count']).cumsum().reset_index()\n",
    "cum_data.columns = ['date', 'cum_rev_a', 'cum_rev_b', 'cum_orders_a', 'cum_orders_b']\n",
    "cum_data['cum_avg_order_size_a'] = cum_data['cum_rev_a'] / cum_data['cum_orders_a']\n",
    "cum_data['cum_avg_order_size_b'] = cum_data['cum_rev_b'] / cum_data['cum_orders_b']\n",
    "cum_data.head()"
   ]
  },
  {
   "cell_type": "code",
   "execution_count": 39,
   "metadata": {},
   "outputs": [
    {
     "data": {
      "image/png": "[encoded data removed]",
      "text/plain": [
       "<Figure size 864x432 with 1 Axes>"
      ]
     },
     "metadata": {
      "needs_background": "light"
     },
     "output_type": "display_data"
    }
   ],
   "source": [
    "# graph the average order size per group\n",
    "cum_data_graph = cum_data[['cum_avg_order_size_a', 'cum_avg_order_size_b']].plot(figsize = (12, 6))\n",
    "plt.title('cumulative average order size per group')\n",
    "plt.xlabel('dates for month of August 2019')\n",
    "plt.ylabel('number of orders (average)')\n",
    "plt.grid()\n",
    "plt.show()"
   ]
  },
  {
   "cell_type": "markdown",
   "metadata": {},
   "source": [
    "***4.2.B Conclusion: Graph cumulative average order size by group***\n",
    "- Group A initially had a decrease in cumulative average order size until about Aug 5, 2019, then it started to increase and eventually level off around Aug 14, 2019\n",
    "- Group B had a general trend of increase for cumulative average order size, with a sharp increase on Aug 19, 2019, after which it shows a steady decrease\n",
    "    - based on this dataset it is unknown if the cumulative average order size of Group B stabilizes\n",
    "    - It appears that the large spike is due to expensive purchases occuring on that day, because the number of orders is not out of the ordinary (21), there are many other days where the difference in order number is around 20 and there are not large spikes during those days."
   ]
  },
  {
   "cell_type": "markdown",
   "metadata": {},
   "source": [
    "<div class=\"alert alert-block alert-success\">\n",
    "<b>Reviewer's comment v.1</b> \n",
    "    \n",
    "👍 Well done!\n",
    "</div>"
   ]
  },
  {
   "cell_type": "markdown",
   "metadata": {},
   "source": [
    "***4.2.C Graph the relative difference in cumulative average order size for group B compared with group A. Make conclusions and conjectures.***"
   ]
  },
  {
   "cell_type": "code",
   "execution_count": 40,
   "metadata": {},
   "outputs": [
    {
     "data": {
      "text/html": [
       "<div>\n",
       "<style scoped>\n",
       "    .dataframe tbody tr th:only-of-type {\n",
       "        vertical-align: middle;\n",
       "    }\n",
       "\n",
       "    .dataframe tbody tr th {\n",
       "        vertical-align: top;\n",
       "    }\n",
       "\n",
       "    .dataframe thead th {\n",
       "        text-align: right;\n",
       "    }\n",
       "</style>\n",
       "<table border=\"1\" class=\"dataframe\">\n",
       "  <thead>\n",
       "    <tr style=\"text-align: right;\">\n",
       "      <th></th>\n",
       "      <th>date</th>\n",
       "      <th>cum_rev_a</th>\n",
       "      <th>cum_rev_b</th>\n",
       "      <th>cum_orders_a</th>\n",
       "      <th>cum_orders_b</th>\n",
       "      <th>cum_avg_order_size_a</th>\n",
       "      <th>cum_avg_order_size_b</th>\n",
       "      <th>relative_diff_b</th>\n",
       "    </tr>\n",
       "  </thead>\n",
       "  <tbody>\n",
       "    <tr>\n",
       "      <td>0</td>\n",
       "      <td>2019-08-01</td>\n",
       "      <td>2266.6</td>\n",
       "      <td>967.2</td>\n",
       "      <td>23.0</td>\n",
       "      <td>17.0</td>\n",
       "      <td>98.547826</td>\n",
       "      <td>56.894118</td>\n",
       "      <td>-0.422675</td>\n",
       "    </tr>\n",
       "    <tr>\n",
       "      <td>1</td>\n",
       "      <td>2019-08-02</td>\n",
       "      <td>3734.9</td>\n",
       "      <td>3535.3</td>\n",
       "      <td>42.0</td>\n",
       "      <td>40.0</td>\n",
       "      <td>88.926190</td>\n",
       "      <td>88.382500</td>\n",
       "      <td>-0.006114</td>\n",
       "    </tr>\n",
       "    <tr>\n",
       "      <td>2</td>\n",
       "      <td>2019-08-03</td>\n",
       "      <td>5550.1</td>\n",
       "      <td>4606.9</td>\n",
       "      <td>66.0</td>\n",
       "      <td>54.0</td>\n",
       "      <td>84.092424</td>\n",
       "      <td>85.312963</td>\n",
       "      <td>0.014514</td>\n",
       "    </tr>\n",
       "    <tr>\n",
       "      <td>3</td>\n",
       "      <td>2019-08-04</td>\n",
       "      <td>6225.6</td>\n",
       "      <td>6138.5</td>\n",
       "      <td>77.0</td>\n",
       "      <td>68.0</td>\n",
       "      <td>80.851948</td>\n",
       "      <td>90.272059</td>\n",
       "      <td>0.116511</td>\n",
       "    </tr>\n",
       "    <tr>\n",
       "      <td>4</td>\n",
       "      <td>2019-08-05</td>\n",
       "      <td>7623.6</td>\n",
       "      <td>7587.8</td>\n",
       "      <td>99.0</td>\n",
       "      <td>89.0</td>\n",
       "      <td>77.006061</td>\n",
       "      <td>85.256180</td>\n",
       "      <td>0.107136</td>\n",
       "    </tr>\n",
       "  </tbody>\n",
       "</table>\n",
       "</div>"
      ],
      "text/plain": [
       "        date  cum_rev_a  cum_rev_b  cum_orders_a  cum_orders_b  \\\n",
       "0 2019-08-01     2266.6      967.2          23.0          17.0   \n",
       "1 2019-08-02     3734.9     3535.3          42.0          40.0   \n",
       "2 2019-08-03     5550.1     4606.9          66.0          54.0   \n",
       "3 2019-08-04     6225.6     6138.5          77.0          68.0   \n",
       "4 2019-08-05     7623.6     7587.8          99.0          89.0   \n",
       "\n",
       "   cum_avg_order_size_a  cum_avg_order_size_b  relative_diff_b  \n",
       "0             98.547826             56.894118        -0.422675  \n",
       "1             88.926190             88.382500        -0.006114  \n",
       "2             84.092424             85.312963         0.014514  \n",
       "3             80.851948             90.272059         0.116511  \n",
       "4             77.006061             85.256180         0.107136  "
      ]
     },
     "execution_count": 40,
     "metadata": {},
     "output_type": "execute_result"
    }
   ],
   "source": [
    "# calculate the relative difference in cumulative average order size for group B\n",
    "cum_data['relative_diff_b'] = (cum_data['cum_rev_b'] / cum_data['cum_orders_b']) / (cum_data['cum_rev_a'] / cum_data['cum_orders_a']) - 1\n",
    "cum_data.head()"
   ]
  },
  {
   "cell_type": "code",
   "execution_count": 41,
   "metadata": {},
   "outputs": [
    {
     "data": {
      "image/png": "[encoded data removed]",
      "text/plain": [
       "<Figure size 864x432 with 1 Axes>"
      ]
     },
     "metadata": {
      "needs_background": "light"
     },
     "output_type": "display_data"
    }
   ],
   "source": [
    "# graph the relative difference in cumulative average order size for group B\n",
    "cum_data['relative_diff_b'].plot(figsize = (12, 6))\n",
    "plt.title('relative difference in cumulative average order size for group B compared with Group A')\n",
    "plt.xlabel('dates for month of August 2019')\n",
    "plt.ylabel('relative difference')\n",
    "# add the x axis\n",
    "plt.axhline(y=0, color='black', linestyle='--')\n",
    "plt.grid()\n",
    "plt.show()"
   ]
  },
  {
   "cell_type": "markdown",
   "metadata": {},
   "source": [
    "***4.2.C Conclusion: Graph the relative difference in cumulative average order size for group B compared with group A***\n",
    "- Group B's performance compared with Group A's is inconsistant throughout the month, at first it is doing better, than worse, then better, and toward the end appears to be on a trend of worse again.\n",
    "- With out more data, such as a longer timeline, it is difficult to interpret the final result of this test"
   ]
  },
  {
   "cell_type": "markdown",
   "metadata": {},
   "source": [
    "<div class=\"alert alert-block alert-success\">\n",
    "<b>Reviewer's comment v.1</b> \n",
    "    \n",
    "👍 Well done! I agree with you that we should get more data to check the stabilization of the relative difference. Perhaps the data has tended to stabilize in the past three days. Anyway, it is better to study the data without any outliers.\n",
    "\n",
    "</div>"
   ]
  },
  {
   "cell_type": "markdown",
   "metadata": {},
   "source": [
    "***4.2.D Calculate each group's conversion rate as the ratio of orders to the number of visits for each day. Plot the daily conversion rates of the two groups and describe the difference. Draw conclusions and make conjectures.***"
   ]
  },
  {
   "cell_type": "code",
   "execution_count": 42,
   "metadata": {},
   "outputs": [
    {
     "data": {
      "text/html": [
       "<div>\n",
       "<style scoped>\n",
       "    .dataframe tbody tr th:only-of-type {\n",
       "        vertical-align: middle;\n",
       "    }\n",
       "\n",
       "    .dataframe tbody tr th {\n",
       "        vertical-align: top;\n",
       "    }\n",
       "\n",
       "    .dataframe thead th {\n",
       "        text-align: right;\n",
       "    }\n",
       "</style>\n",
       "<table border=\"1\" class=\"dataframe\">\n",
       "  <thead>\n",
       "    <tr style=\"text-align: right;\">\n",
       "      <th></th>\n",
       "      <th>date</th>\n",
       "      <th>group</th>\n",
       "      <th>visits</th>\n",
       "    </tr>\n",
       "  </thead>\n",
       "  <tbody>\n",
       "    <tr>\n",
       "      <td>0</td>\n",
       "      <td>2019-08-01</td>\n",
       "      <td>A</td>\n",
       "      <td>719</td>\n",
       "    </tr>\n",
       "    <tr>\n",
       "      <td>1</td>\n",
       "      <td>2019-08-02</td>\n",
       "      <td>A</td>\n",
       "      <td>619</td>\n",
       "    </tr>\n",
       "  </tbody>\n",
       "</table>\n",
       "</div>"
      ],
      "text/plain": [
       "        date group  visits\n",
       "0 2019-08-01     A     719\n",
       "1 2019-08-02     A     619"
      ]
     },
     "execution_count": 42,
     "metadata": {},
     "output_type": "execute_result"
    }
   ],
   "source": [
    "visits.head(2)"
   ]
  },
  {
   "cell_type": "code",
   "execution_count": 43,
   "metadata": {},
   "outputs": [
    {
     "data": {
      "text/html": [
       "<div>\n",
       "<style scoped>\n",
       "    .dataframe tbody tr th:only-of-type {\n",
       "        vertical-align: middle;\n",
       "    }\n",
       "\n",
       "    .dataframe tbody tr th {\n",
       "        vertical-align: top;\n",
       "    }\n",
       "\n",
       "    .dataframe thead th {\n",
       "        text-align: right;\n",
       "    }\n",
       "</style>\n",
       "<table border=\"1\" class=\"dataframe\">\n",
       "  <thead>\n",
       "    <tr style=\"text-align: right;\">\n",
       "      <th></th>\n",
       "      <th>date</th>\n",
       "      <th>cum_visits_a</th>\n",
       "      <th>cum_visits_b</th>\n",
       "    </tr>\n",
       "  </thead>\n",
       "  <tbody>\n",
       "    <tr>\n",
       "      <td>0</td>\n",
       "      <td>2019-08-01</td>\n",
       "      <td>719</td>\n",
       "      <td>713</td>\n",
       "    </tr>\n",
       "    <tr>\n",
       "      <td>1</td>\n",
       "      <td>2019-08-02</td>\n",
       "      <td>1338</td>\n",
       "      <td>1294</td>\n",
       "    </tr>\n",
       "    <tr>\n",
       "      <td>2</td>\n",
       "      <td>2019-08-03</td>\n",
       "      <td>1845</td>\n",
       "      <td>1803</td>\n",
       "    </tr>\n",
       "    <tr>\n",
       "      <td>3</td>\n",
       "      <td>2019-08-04</td>\n",
       "      <td>2562</td>\n",
       "      <td>2573</td>\n",
       "    </tr>\n",
       "    <tr>\n",
       "      <td>4</td>\n",
       "      <td>2019-08-05</td>\n",
       "      <td>3318</td>\n",
       "      <td>3280</td>\n",
       "    </tr>\n",
       "  </tbody>\n",
       "</table>\n",
       "</div>"
      ],
      "text/plain": [
       "        date  cum_visits_a  cum_visits_b\n",
       "0 2019-08-01           719           713\n",
       "1 2019-08-02          1338          1294\n",
       "2 2019-08-03          1845          1803\n",
       "3 2019-08-04          2562          2573\n",
       "4 2019-08-05          3318          3280"
      ]
     },
     "execution_count": 43,
     "metadata": {},
     "output_type": "execute_result"
    }
   ],
   "source": [
    "# create a table to calculate each groups conversion rate\n",
    "cum_visits_per_day = visits.pivot_table(index = 'date', columns = 'group', values = 'visits', aggfunc = 'sum').cumsum().reset_index()\n",
    "cum_visits_per_day.columns = ['date', 'cum_visits_a', 'cum_visits_b']\n",
    "cum_visits_per_day.head()"
   ]
  },
  {
   "cell_type": "code",
   "execution_count": 44,
   "metadata": {},
   "outputs": [
    {
     "data": {
      "text/html": [
       "<div>\n",
       "<style scoped>\n",
       "    .dataframe tbody tr th:only-of-type {\n",
       "        vertical-align: middle;\n",
       "    }\n",
       "\n",
       "    .dataframe tbody tr th {\n",
       "        vertical-align: top;\n",
       "    }\n",
       "\n",
       "    .dataframe thead th {\n",
       "        text-align: right;\n",
       "    }\n",
       "</style>\n",
       "<table border=\"1\" class=\"dataframe\">\n",
       "  <thead>\n",
       "    <tr style=\"text-align: right;\">\n",
       "      <th></th>\n",
       "      <th>date</th>\n",
       "      <th>cum_rev_a</th>\n",
       "      <th>cum_rev_b</th>\n",
       "      <th>cum_orders_a</th>\n",
       "      <th>cum_orders_b</th>\n",
       "      <th>cum_avg_order_size_a</th>\n",
       "      <th>cum_avg_order_size_b</th>\n",
       "      <th>relative_diff_b</th>\n",
       "      <th>cum_visits_a</th>\n",
       "      <th>cum_visits_b</th>\n",
       "      <th>conversion_a</th>\n",
       "      <th>conversion_b</th>\n",
       "    </tr>\n",
       "  </thead>\n",
       "  <tbody>\n",
       "    <tr>\n",
       "      <td>0</td>\n",
       "      <td>2019-08-01</td>\n",
       "      <td>2266.6</td>\n",
       "      <td>967.2</td>\n",
       "      <td>23.0</td>\n",
       "      <td>17.0</td>\n",
       "      <td>98.547826</td>\n",
       "      <td>56.894118</td>\n",
       "      <td>-0.422675</td>\n",
       "      <td>719</td>\n",
       "      <td>713</td>\n",
       "      <td>0.031989</td>\n",
       "      <td>0.023843</td>\n",
       "    </tr>\n",
       "    <tr>\n",
       "      <td>1</td>\n",
       "      <td>2019-08-02</td>\n",
       "      <td>3734.9</td>\n",
       "      <td>3535.3</td>\n",
       "      <td>42.0</td>\n",
       "      <td>40.0</td>\n",
       "      <td>88.926190</td>\n",
       "      <td>88.382500</td>\n",
       "      <td>-0.006114</td>\n",
       "      <td>1338</td>\n",
       "      <td>1294</td>\n",
       "      <td>0.031390</td>\n",
       "      <td>0.030912</td>\n",
       "    </tr>\n",
       "    <tr>\n",
       "      <td>2</td>\n",
       "      <td>2019-08-03</td>\n",
       "      <td>5550.1</td>\n",
       "      <td>4606.9</td>\n",
       "      <td>66.0</td>\n",
       "      <td>54.0</td>\n",
       "      <td>84.092424</td>\n",
       "      <td>85.312963</td>\n",
       "      <td>0.014514</td>\n",
       "      <td>1845</td>\n",
       "      <td>1803</td>\n",
       "      <td>0.035772</td>\n",
       "      <td>0.029950</td>\n",
       "    </tr>\n",
       "    <tr>\n",
       "      <td>3</td>\n",
       "      <td>2019-08-04</td>\n",
       "      <td>6225.6</td>\n",
       "      <td>6138.5</td>\n",
       "      <td>77.0</td>\n",
       "      <td>68.0</td>\n",
       "      <td>80.851948</td>\n",
       "      <td>90.272059</td>\n",
       "      <td>0.116511</td>\n",
       "      <td>2562</td>\n",
       "      <td>2573</td>\n",
       "      <td>0.030055</td>\n",
       "      <td>0.026428</td>\n",
       "    </tr>\n",
       "    <tr>\n",
       "      <td>4</td>\n",
       "      <td>2019-08-05</td>\n",
       "      <td>7623.6</td>\n",
       "      <td>7587.8</td>\n",
       "      <td>99.0</td>\n",
       "      <td>89.0</td>\n",
       "      <td>77.006061</td>\n",
       "      <td>85.256180</td>\n",
       "      <td>0.107136</td>\n",
       "      <td>3318</td>\n",
       "      <td>3280</td>\n",
       "      <td>0.029837</td>\n",
       "      <td>0.027134</td>\n",
       "    </tr>\n",
       "  </tbody>\n",
       "</table>\n",
       "</div>"
      ],
      "text/plain": [
       "        date  cum_rev_a  cum_rev_b  cum_orders_a  cum_orders_b  \\\n",
       "0 2019-08-01     2266.6      967.2          23.0          17.0   \n",
       "1 2019-08-02     3734.9     3535.3          42.0          40.0   \n",
       "2 2019-08-03     5550.1     4606.9          66.0          54.0   \n",
       "3 2019-08-04     6225.6     6138.5          77.0          68.0   \n",
       "4 2019-08-05     7623.6     7587.8          99.0          89.0   \n",
       "\n",
       "   cum_avg_order_size_a  cum_avg_order_size_b  relative_diff_b  cum_visits_a  \\\n",
       "0             98.547826             56.894118        -0.422675           719   \n",
       "1             88.926190             88.382500        -0.006114          1338   \n",
       "2             84.092424             85.312963         0.014514          1845   \n",
       "3             80.851948             90.272059         0.116511          2562   \n",
       "4             77.006061             85.256180         0.107136          3318   \n",
       "\n",
       "   cum_visits_b  conversion_a  conversion_b  \n",
       "0           713      0.031989      0.023843  \n",
       "1          1294      0.031390      0.030912  \n",
       "2          1803      0.035772      0.029950  \n",
       "3          2573      0.030055      0.026428  \n",
       "4          3280      0.029837      0.027134  "
      ]
     },
     "execution_count": 44,
     "metadata": {},
     "output_type": "execute_result"
    }
   ],
   "source": [
    "# calculate each groups conversion rate\n",
    "cum_data = pd.merge(cum_data, cum_visits_per_day, on = 'date')\n",
    "cum_data['conversion_a'] = cum_data['cum_orders_a'] / cum_data['cum_visits_a']\n",
    "cum_data['conversion_b'] = cum_data['cum_orders_b'] / cum_data['cum_visits_b']\n",
    "cum_data.head()"
   ]
  },
  {
   "cell_type": "code",
   "execution_count": 45,
   "metadata": {},
   "outputs": [
    {
     "data": {
      "image/png": "[encoded data removed]",
      "text/plain": [
       "<Figure size 864x432 with 1 Axes>"
      ]
     },
     "metadata": {
      "needs_background": "light"
     },
     "output_type": "display_data"
    }
   ],
   "source": [
    "# graph each groups conversion rate\n",
    "conversion_graph = cum_data[['conversion_a', 'conversion_b']].plot(figsize = (12, 6))\n",
    "plt.title('conversion rate for each group: user to a buyer')\n",
    "plt.xlabel('dates for month of August 2019')\n",
    "plt.ylabel('conversion rate')\n",
    "# add x axis lines for visualization of trends\n",
    "plt.axhline(y=0.0295, color='black', linestyle='--')\n",
    "plt.axhline(y=0.0255, color='black', linestyle='--')\n",
    "plt.grid()\n",
    "plt.show()"
   ]
  },
  {
   "cell_type": "markdown",
   "metadata": {},
   "source": [
    "***4.2.D Conclusion: Calculate each group's conversion rate as the ratio of orders to the number of visits for each day. Plot the daily conversion rates of the two groups and describe the difference.***\n",
    "\n",
    "- this graph is evaluating the accumulation of users to buyers for each day in the test\n",
    "- Group B has a higher conversion rate\n",
    "- The conversion rate for group A has a downward trend, it seems to stabilize around the middle of the month at about 2.55%, and is possibly going down again at the end of the month\n",
    "- the conversion rate for group B has an upward trend until around Aug 16, then it lowers and seems to have a stable, minor downward trend for the rest of the month around 2.95%\n",
    "- at day 5 the conversion rates overlap between the two groups, but it is also when group B starts to supercedes group A"
   ]
  },
  {
   "cell_type": "markdown",
   "metadata": {},
   "source": [
    "<div class=\"alert alert-block alert-success\">\n",
    "<b>Reviewer's comment v.1</b> \n",
    "    \n",
    "👍 Correct. Also, we could see that the conversion rate is more stabilized than the data for order size. At this stage, we could also plot a relative difference graph for the cumulative conversion rates. \n",
    "    \n",
    "---\n",
    "    \n",
    "📝 As a recommendation: we could use calculations for plot lines, like that:\n",
    "    \n",
    "</div>"
   ]
  },
  {
   "cell_type": "code",
   "execution_count": 46,
   "metadata": {},
   "outputs": [
    {
     "data": {
      "image/png": "[encoded data removed]",
      "text/plain": [
       "<Figure size 864x432 with 1 Axes>"
      ]
     },
     "metadata": {
      "needs_background": "light"
     },
     "output_type": "display_data"
    }
   ],
   "source": [
    "# the reviewer's cell\n",
    "\n",
    "# graph each groups conversion rate\n",
    "conversion_graph = cum_data[['conversion_a', 'conversion_b']].plot(figsize = (12, 6))\n",
    "plt.title('conversion rate for each group: user to a buyer')\n",
    "plt.xlabel('dates for month of August 2019')\n",
    "plt.ylabel('conversion rate')\n",
    "\n",
    "# add x axis lines for visualization of trends\n",
    "plt.axhline(y=cum_data.query('date > \"2019-08-14\"')['conversion_b'].mean(), \n",
    "            color='orange', linestyle='-.', label = 'stabilisation value for Group B')\n",
    "plt.axhline(y=cum_data.query('date > \"2019-08-14\"')['conversion_a'].mean(), \n",
    "            color='blue', linestyle='--', label = 'stabilisation value for Group A')\n",
    "plt.legend()\n",
    "plt.grid()\n",
    "plt.show()"
   ]
  },
  {
   "cell_type": "markdown",
   "metadata": {},
   "source": [
    "<div class=\"alert alert-info\"> \n",
    "<b>Student's comment</b> \n",
    "    \n",
    "Thank you! This is a helpful plot addition to remember!\n",
    "</div>"
   ]
  },
  {
   "cell_type": "markdown",
   "metadata": {},
   "source": [
    "<div class=\"alert alert-block alert-success\">\n",
    "<b>Reviewer's comment v.2</b> \n",
    "    \n",
    "👍 \n",
    "</div>"
   ]
  },
  {
   "cell_type": "markdown",
   "metadata": {},
   "source": [
    "***4.2.E Plot a scatter chart of the number of orders per user. Make conclusions and conjectures.***"
   ]
  },
  {
   "cell_type": "code",
   "execution_count": 47,
   "metadata": {},
   "outputs": [
    {
     "data": {
      "text/html": [
       "<div>\n",
       "<style scoped>\n",
       "    .dataframe tbody tr th:only-of-type {\n",
       "        vertical-align: middle;\n",
       "    }\n",
       "\n",
       "    .dataframe tbody tr th {\n",
       "        vertical-align: top;\n",
       "    }\n",
       "\n",
       "    .dataframe thead th {\n",
       "        text-align: right;\n",
       "    }\n",
       "</style>\n",
       "<table border=\"1\" class=\"dataframe\">\n",
       "  <thead>\n",
       "    <tr style=\"text-align: right;\">\n",
       "      <th></th>\n",
       "      <th>transaction_id</th>\n",
       "      <th>visitor_id</th>\n",
       "      <th>date</th>\n",
       "      <th>revenue</th>\n",
       "      <th>group</th>\n",
       "    </tr>\n",
       "  </thead>\n",
       "  <tbody>\n",
       "    <tr>\n",
       "      <td>0</td>\n",
       "      <td>3667963787</td>\n",
       "      <td>3312258926</td>\n",
       "      <td>2019-08-15</td>\n",
       "      <td>30.4</td>\n",
       "      <td>B</td>\n",
       "    </tr>\n",
       "    <tr>\n",
       "      <td>1</td>\n",
       "      <td>2804400009</td>\n",
       "      <td>3642806036</td>\n",
       "      <td>2019-08-15</td>\n",
       "      <td>15.2</td>\n",
       "      <td>B</td>\n",
       "    </tr>\n",
       "  </tbody>\n",
       "</table>\n",
       "</div>"
      ],
      "text/plain": [
       "   transaction_id  visitor_id       date  revenue group\n",
       "0      3667963787  3312258926 2019-08-15     30.4     B\n",
       "1      2804400009  3642806036 2019-08-15     15.2     B"
      ]
     },
     "execution_count": 47,
     "metadata": {},
     "output_type": "execute_result"
    }
   ],
   "source": [
    "orders_no_dups.head(2)"
   ]
  },
  {
   "cell_type": "code",
   "execution_count": 48,
   "metadata": {},
   "outputs": [
    {
     "data": {
      "text/html": [
       "<div>\n",
       "<style scoped>\n",
       "    .dataframe tbody tr th:only-of-type {\n",
       "        vertical-align: middle;\n",
       "    }\n",
       "\n",
       "    .dataframe tbody tr th {\n",
       "        vertical-align: top;\n",
       "    }\n",
       "\n",
       "    .dataframe thead th {\n",
       "        text-align: right;\n",
       "    }\n",
       "</style>\n",
       "<table border=\"1\" class=\"dataframe\">\n",
       "  <thead>\n",
       "    <tr style=\"text-align: right;\">\n",
       "      <th></th>\n",
       "      <th>visitor_id</th>\n",
       "      <th>orders_per_buyer</th>\n",
       "    </tr>\n",
       "  </thead>\n",
       "  <tbody>\n",
       "    <tr>\n",
       "      <td>0</td>\n",
       "      <td>5114589</td>\n",
       "      <td>1</td>\n",
       "    </tr>\n",
       "    <tr>\n",
       "      <td>1</td>\n",
       "      <td>6958315</td>\n",
       "      <td>1</td>\n",
       "    </tr>\n",
       "    <tr>\n",
       "      <td>2</td>\n",
       "      <td>11685486</td>\n",
       "      <td>1</td>\n",
       "    </tr>\n",
       "    <tr>\n",
       "      <td>3</td>\n",
       "      <td>39475350</td>\n",
       "      <td>1</td>\n",
       "    </tr>\n",
       "    <tr>\n",
       "      <td>4</td>\n",
       "      <td>47206413</td>\n",
       "      <td>1</td>\n",
       "    </tr>\n",
       "  </tbody>\n",
       "</table>\n",
       "</div>"
      ],
      "text/plain": [
       "   visitor_id  orders_per_buyer\n",
       "0     5114589                 1\n",
       "1     6958315                 1\n",
       "2    11685486                 1\n",
       "3    39475350                 1\n",
       "4    47206413                 1"
      ]
     },
     "execution_count": 48,
     "metadata": {},
     "output_type": "execute_result"
    }
   ],
   "source": [
    "# create a series to get the number of orders per user\n",
    "orders_per_buyer = orders_no_dups.groupby('visitor_id').agg({'transaction_id': 'count'}).reset_index()\n",
    "orders_per_buyer.columns = ['visitor_id', 'orders_per_buyer']\n",
    "orders_per_buyer.head() #['orders_per_buyer'].value_counts()"
   ]
  },
  {
   "cell_type": "code",
   "execution_count": 49,
   "metadata": {},
   "outputs": [
    {
     "data": {
      "image/png": "[encoded data removed]",
      "text/plain": [
       "<Figure size 432x288 with 1 Axes>"
      ]
     },
     "metadata": {
      "needs_background": "light"
     },
     "output_type": "display_data"
    }
   ],
   "source": [
    "# create the x values for the graph based on the number of buyers\n",
    "x_values = pd.Series(range(0, len(orders_per_buyer)))\n",
    "\n",
    "# graph the number of orders per buyer\n",
    "plt.scatter(x_values, orders_per_buyer['orders_per_buyer'])\n",
    "plt.title('scatter plot of number of orders per buyer (filtered data)')\n",
    "plt.xlabel('number of buyers')\n",
    "plt.ylabel('number of orders placed per buyer')\n",
    "plt.show()"
   ]
  },
  {
   "cell_type": "markdown",
   "metadata": {},
   "source": [
    "<div class=\"alert alert-warning\">\n",
    "<b>Reviewer's comment v.1</b> \n",
    "    \n",
    "💡 Nice graph. We could improve it by coloring it in A-B group colors: https://moonbooks.org/Articles/How-to-create-a-scatter-plot-with-several-colors-in-matplotlib-/ The same recommendation is for other similar plots. \n",
    "</div>"
   ]
  },
  {
   "cell_type": "code",
   "execution_count": 50,
   "metadata": {},
   "outputs": [
    {
     "data": {
      "text/html": [
       "<div>\n",
       "<style scoped>\n",
       "    .dataframe tbody tr th:only-of-type {\n",
       "        vertical-align: middle;\n",
       "    }\n",
       "\n",
       "    .dataframe tbody tr th {\n",
       "        vertical-align: top;\n",
       "    }\n",
       "\n",
       "    .dataframe thead th {\n",
       "        text-align: right;\n",
       "    }\n",
       "</style>\n",
       "<table border=\"1\" class=\"dataframe\">\n",
       "  <thead>\n",
       "    <tr style=\"text-align: right;\">\n",
       "      <th></th>\n",
       "      <th>transaction_id</th>\n",
       "      <th>visitor_id</th>\n",
       "      <th>date</th>\n",
       "      <th>revenue</th>\n",
       "      <th>group</th>\n",
       "    </tr>\n",
       "  </thead>\n",
       "  <tbody>\n",
       "    <tr>\n",
       "      <td>0</td>\n",
       "      <td>3667963787</td>\n",
       "      <td>3312258926</td>\n",
       "      <td>2019-08-15</td>\n",
       "      <td>30.4</td>\n",
       "      <td>B</td>\n",
       "    </tr>\n",
       "    <tr>\n",
       "      <td>1</td>\n",
       "      <td>2804400009</td>\n",
       "      <td>3642806036</td>\n",
       "      <td>2019-08-15</td>\n",
       "      <td>15.2</td>\n",
       "      <td>B</td>\n",
       "    </tr>\n",
       "  </tbody>\n",
       "</table>\n",
       "</div>"
      ],
      "text/plain": [
       "   transaction_id  visitor_id       date  revenue group\n",
       "0      3667963787  3312258926 2019-08-15     30.4     B\n",
       "1      2804400009  3642806036 2019-08-15     15.2     B"
      ]
     },
     "execution_count": 50,
     "metadata": {},
     "output_type": "execute_result"
    }
   ],
   "source": [
    "orders_no_dups.head(2)"
   ]
  },
  {
   "cell_type": "code",
   "execution_count": 51,
   "metadata": {},
   "outputs": [
    {
     "data": {
      "text/html": [
       "<div>\n",
       "<style scoped>\n",
       "    .dataframe tbody tr th:only-of-type {\n",
       "        vertical-align: middle;\n",
       "    }\n",
       "\n",
       "    .dataframe tbody tr th {\n",
       "        vertical-align: top;\n",
       "    }\n",
       "\n",
       "    .dataframe thead th {\n",
       "        text-align: right;\n",
       "    }\n",
       "</style>\n",
       "<table border=\"1\" class=\"dataframe\">\n",
       "  <thead>\n",
       "    <tr style=\"text-align: right;\">\n",
       "      <th></th>\n",
       "      <th>visitor_id_a</th>\n",
       "      <th>orders_per_buyer_a</th>\n",
       "    </tr>\n",
       "  </thead>\n",
       "  <tbody>\n",
       "    <tr>\n",
       "      <td>0</td>\n",
       "      <td>11685486</td>\n",
       "      <td>1</td>\n",
       "    </tr>\n",
       "    <tr>\n",
       "      <td>1</td>\n",
       "      <td>54447517</td>\n",
       "      <td>1</td>\n",
       "    </tr>\n",
       "    <tr>\n",
       "      <td>2</td>\n",
       "      <td>66685450</td>\n",
       "      <td>1</td>\n",
       "    </tr>\n",
       "    <tr>\n",
       "      <td>3</td>\n",
       "      <td>78758296</td>\n",
       "      <td>1</td>\n",
       "    </tr>\n",
       "    <tr>\n",
       "      <td>4</td>\n",
       "      <td>85103373</td>\n",
       "      <td>1</td>\n",
       "    </tr>\n",
       "  </tbody>\n",
       "</table>\n",
       "</div>"
      ],
      "text/plain": [
       "   visitor_id_a  orders_per_buyer_a\n",
       "0      11685486                   1\n",
       "1      54447517                   1\n",
       "2      66685450                   1\n",
       "3      78758296                   1\n",
       "4      85103373                   1"
      ]
     },
     "execution_count": 51,
     "metadata": {},
     "output_type": "execute_result"
    }
   ],
   "source": [
    "table_a = orders_no_dups[orders_no_dups['group'] == \"A\"]\n",
    "# table_a.head()\n",
    "\n",
    "orders_a = table_a.groupby('visitor_id').agg({'transaction_id': 'count'}).reset_index()\n",
    "orders_a.columns = ['visitor_id_a', 'orders_per_buyer_a']\n",
    "orders_a.head()"
   ]
  },
  {
   "cell_type": "code",
   "execution_count": 52,
   "metadata": {},
   "outputs": [
    {
     "data": {
      "text/html": [
       "<div>\n",
       "<style scoped>\n",
       "    .dataframe tbody tr th:only-of-type {\n",
       "        vertical-align: middle;\n",
       "    }\n",
       "\n",
       "    .dataframe tbody tr th {\n",
       "        vertical-align: top;\n",
       "    }\n",
       "\n",
       "    .dataframe thead th {\n",
       "        text-align: right;\n",
       "    }\n",
       "</style>\n",
       "<table border=\"1\" class=\"dataframe\">\n",
       "  <thead>\n",
       "    <tr style=\"text-align: right;\">\n",
       "      <th></th>\n",
       "      <th>visitor_id_b</th>\n",
       "      <th>orders_per_buyer_b</th>\n",
       "    </tr>\n",
       "  </thead>\n",
       "  <tbody>\n",
       "    <tr>\n",
       "      <td>0</td>\n",
       "      <td>5114589</td>\n",
       "      <td>1</td>\n",
       "    </tr>\n",
       "    <tr>\n",
       "      <td>1</td>\n",
       "      <td>6958315</td>\n",
       "      <td>1</td>\n",
       "    </tr>\n",
       "    <tr>\n",
       "      <td>2</td>\n",
       "      <td>39475350</td>\n",
       "      <td>1</td>\n",
       "    </tr>\n",
       "    <tr>\n",
       "      <td>3</td>\n",
       "      <td>47206413</td>\n",
       "      <td>1</td>\n",
       "    </tr>\n",
       "    <tr>\n",
       "      <td>4</td>\n",
       "      <td>48147722</td>\n",
       "      <td>1</td>\n",
       "    </tr>\n",
       "  </tbody>\n",
       "</table>\n",
       "</div>"
      ],
      "text/plain": [
       "   visitor_id_b  orders_per_buyer_b\n",
       "0       5114589                   1\n",
       "1       6958315                   1\n",
       "2      39475350                   1\n",
       "3      47206413                   1\n",
       "4      48147722                   1"
      ]
     },
     "execution_count": 52,
     "metadata": {},
     "output_type": "execute_result"
    }
   ],
   "source": [
    "table_b = orders_no_dups[orders_no_dups['group'] == \"B\"]\n",
    "# table_b.head()\n",
    "\n",
    "orders_b = table_b.groupby('visitor_id').agg({'transaction_id': 'count'}).reset_index()\n",
    "orders_b.columns = ['visitor_id_b', 'orders_per_buyer_b']\n",
    "orders_b.head()"
   ]
  },
  {
   "cell_type": "code",
   "execution_count": 53,
   "metadata": {},
   "outputs": [
    {
     "data": {
      "image/png": "[encoded data removed]",
      "text/plain": [
       "<Figure size 432x288 with 1 Axes>"
      ]
     },
     "metadata": {
      "needs_background": "light"
     },
     "output_type": "display_data"
    }
   ],
   "source": [
    "x_a = pd.Series(range(0, len(orders_a)))\n",
    "y_a = orders_a['orders_per_buyer_a']\n",
    "\n",
    "plt.scatter(x_a, y_a, c = 'coral', alpha = 0.7)\n",
    "\n",
    "x_b = pd.Series(range(0, len(orders_b)))\n",
    "y_b = orders_b['orders_per_buyer_b']\n",
    "plt.scatter(x_b, y_b, c='lightblue', alpha = 0.7)\n",
    "\n",
    "# graph the number of orders per buyer\n",
    "plt.title('scatter plot of number of orders per buyer (filtered data)')\n",
    "plt.xlabel('number of buyers')\n",
    "plt.ylabel('number of orders placed per buyer')\n",
    "plt.show()"
   ]
  },
  {
   "cell_type": "markdown",
   "metadata": {},
   "source": [
    "<div class=\"alert alert-info\"> \n",
    "<b>Student's comment</b> \n",
    "    \n",
    "Yes, this is much more visually interesting and informative!\n",
    "</div>"
   ]
  },
  {
   "cell_type": "markdown",
   "metadata": {},
   "source": [
    "<div class=\"alert alert-block alert-success\">\n",
    "<b>Reviewer's comment v.2</b> \n",
    "    \n",
    "👍 Correct! Thank you for providing an additional job here. Now we can see that anomaly values are common for both groups. However, please do not forget to use  a legend if we have two or more samples. Also, we could use different marker sizes to avoid overlapping data for different groups. Please see an example:\n",
    "</div>"
   ]
  },
  {
   "cell_type": "code",
   "execution_count": 54,
   "metadata": {},
   "outputs": [
    {
     "data": {
      "image/png": "[encoded data removed]",
      "text/plain": [
       "<Figure size 432x288 with 1 Axes>"
      ]
     },
     "metadata": {
      "needs_background": "light"
     },
     "output_type": "display_data"
    }
   ],
   "source": [
    "# the reviewer's cell\n",
    "x_a = pd.Series(range(0, len(orders_a)))\n",
    "y_a = orders_a['orders_per_buyer_a']\n",
    "\n",
    "plt.scatter(x_a, y_a, c = 'coral', alpha = 0.7, s = 50, label = 'Group A') # I added the label data and marker size\n",
    "\n",
    "x_b = pd.Series(range(0, len(orders_b)))\n",
    "y_b = orders_b['orders_per_buyer_b']\n",
    "plt.scatter(x_b, y_b, c='lightblue', alpha = 0.7, s = 25, label = 'Group B')\n",
    "\n",
    "# graph the number of orders per buyer\n",
    "plt.title('scatter plot of number of orders per buyer (filtered data)')\n",
    "plt.xlabel('number of buyers')\n",
    "plt.ylabel('number of orders placed per buyer')\n",
    "plt.legend() # I added the legend\n",
    "plt.show()"
   ]
  },
  {
   "cell_type": "markdown",
   "metadata": {},
   "source": [
    "***4.2.E Conclusion Plot a scatter chart of the number of orders per user.***\n",
    "- Based on the filtered data, most buyers made a single purchase, fewer made 2 purchases, and fewer still made 3 purchases\n",
    "    - the product being sold may not be something that most users need multiple times per month"
   ]
  },
  {
   "cell_type": "markdown",
   "metadata": {},
   "source": [
    "***4.2.F Calculate the 95th and 99th percentiles for the number of orders per user. - - Define the point at which a data point becomes an anomaly.***"
   ]
  },
  {
   "cell_type": "code",
   "execution_count": 55,
   "metadata": {},
   "outputs": [
    {
     "name": "stdout",
     "output_type": "stream",
     "text": [
      "95% of buyers make 1.0 purchase, 99% make 2.0 or more purchases\n"
     ]
    }
   ],
   "source": [
    "# calculate the 95th and 99th percentiles for the number of orders per buyer\n",
    "order_outliers = np.percentile(orders_per_buyer['orders_per_buyer'], [95, 99])\n",
    "print('95% of buyers make {:} purchase, 99% make {:} or more purchases'.format(order_outliers[0], order_outliers[1]))"
   ]
  },
  {
   "cell_type": "markdown",
   "metadata": {},
   "source": [
    "***4.2.F Conclusion: Calculate the 95th and 99th percentiles for the number of orders per user. - - Define the point at which a data point becomes an anomaly.***\n",
    "\n",
    "- anmalies or outliers of 1-5% are generally filtered out of observed values\n",
    "- in this case 1% of buyers make 2 or more purchases, where as 95% make 1\n",
    "    - it would be reasonable to set 1 order per buyer as the lower limit for the number of orders and to filter out anomolies of 2 or more puchases"
   ]
  },
  {
   "cell_type": "markdown",
   "metadata": {},
   "source": [
    "<div class=\"alert alert-block alert-success\">\n",
    "<b>Reviewer's comment v.1</b> \n",
    "    \n",
    "👍 Well done! It seems reasonable.\n",
    "\n",
    "</div>"
   ]
  },
  {
   "cell_type": "markdown",
   "metadata": {},
   "source": [
    "***4.2.G Plot a scatter chart of order prices. Make conclusions and conjectures.***"
   ]
  },
  {
   "cell_type": "code",
   "execution_count": 56,
   "metadata": {},
   "outputs": [
    {
     "data": {
      "text/html": [
       "<div>\n",
       "<style scoped>\n",
       "    .dataframe tbody tr th:only-of-type {\n",
       "        vertical-align: middle;\n",
       "    }\n",
       "\n",
       "    .dataframe tbody tr th {\n",
       "        vertical-align: top;\n",
       "    }\n",
       "\n",
       "    .dataframe thead th {\n",
       "        text-align: right;\n",
       "    }\n",
       "</style>\n",
       "<table border=\"1\" class=\"dataframe\">\n",
       "  <thead>\n",
       "    <tr style=\"text-align: right;\">\n",
       "      <th></th>\n",
       "      <th>transaction_id</th>\n",
       "      <th>visitor_id</th>\n",
       "      <th>date</th>\n",
       "      <th>revenue</th>\n",
       "      <th>group</th>\n",
       "    </tr>\n",
       "  </thead>\n",
       "  <tbody>\n",
       "    <tr>\n",
       "      <td>0</td>\n",
       "      <td>3667963787</td>\n",
       "      <td>3312258926</td>\n",
       "      <td>2019-08-15</td>\n",
       "      <td>30.4</td>\n",
       "      <td>B</td>\n",
       "    </tr>\n",
       "    <tr>\n",
       "      <td>1</td>\n",
       "      <td>2804400009</td>\n",
       "      <td>3642806036</td>\n",
       "      <td>2019-08-15</td>\n",
       "      <td>15.2</td>\n",
       "      <td>B</td>\n",
       "    </tr>\n",
       "  </tbody>\n",
       "</table>\n",
       "</div>"
      ],
      "text/plain": [
       "   transaction_id  visitor_id       date  revenue group\n",
       "0      3667963787  3312258926 2019-08-15     30.4     B\n",
       "1      2804400009  3642806036 2019-08-15     15.2     B"
      ]
     },
     "execution_count": 56,
     "metadata": {},
     "output_type": "execute_result"
    }
   ],
   "source": [
    "orders_no_dups.head(2)"
   ]
  },
  {
   "cell_type": "code",
   "execution_count": 57,
   "metadata": {},
   "outputs": [
    {
     "data": {
      "image/png": "[encoded data removed]",
      "text/plain": [
       "<Figure size 432x288 with 1 Axes>"
      ]
     },
     "metadata": {
      "needs_background": "light"
     },
     "output_type": "display_data"
    }
   ],
   "source": [
    "# create the x values for the graph based on the number of buyers\n",
    "x_values = pd.Series(range(0, len(orders_no_dups)))\n",
    "\n",
    "# graph the price per order for each buyer\n",
    "plt.scatter(x_values, orders_no_dups['revenue'])\n",
    "plt.title('scatter plot of price per order (data with no duplicates)')\n",
    "plt.xlabel('number of buyers')\n",
    "plt.ylabel('price per order')\n",
    "plt.show()"
   ]
  },
  {
   "cell_type": "code",
   "execution_count": 58,
   "metadata": {},
   "outputs": [
    {
     "data": {
      "image/png": "[encoded data removed]",
      "text/plain": [
       "<Figure size 432x288 with 1 Axes>"
      ]
     },
     "metadata": {
      "needs_background": "light"
     },
     "output_type": "display_data"
    }
   ],
   "source": [
    "# zoom in on the price per order for each buyer graph\n",
    "plt.scatter(x_values, orders_no_dups['revenue'])\n",
    "plt.title('scatter plot of price per orders of $2000 or less (data with no duplicates)')\n",
    "plt.xlabel('number of buyers')\n",
    "plt.ylabel('price per order')\n",
    "plt.ylim([0, 2000])\n",
    "plt.axhline(y=414, color='black', linestyle='--')\n",
    "plt.axhline(y=830, color='black', linestyle='--')\n",
    "plt.show()"
   ]
  },
  {
   "cell_type": "code",
   "execution_count": 59,
   "metadata": {},
   "outputs": [
    {
     "data": {
      "text/html": [
       "<div>\n",
       "<style scoped>\n",
       "    .dataframe tbody tr th:only-of-type {\n",
       "        vertical-align: middle;\n",
       "    }\n",
       "\n",
       "    .dataframe tbody tr th {\n",
       "        vertical-align: top;\n",
       "    }\n",
       "\n",
       "    .dataframe thead th {\n",
       "        text-align: right;\n",
       "    }\n",
       "</style>\n",
       "<table border=\"1\" class=\"dataframe\">\n",
       "  <thead>\n",
       "    <tr style=\"text-align: right;\">\n",
       "      <th></th>\n",
       "      <th>transaction_id</th>\n",
       "      <th>visitor_id</th>\n",
       "      <th>date</th>\n",
       "      <th>revenue</th>\n",
       "      <th>group</th>\n",
       "    </tr>\n",
       "  </thead>\n",
       "  <tbody>\n",
       "    <tr>\n",
       "      <td>7</td>\n",
       "      <td>2626614568</td>\n",
       "      <td>78758296</td>\n",
       "      <td>2019-08-15</td>\n",
       "      <td>20.1</td>\n",
       "      <td>A</td>\n",
       "    </tr>\n",
       "    <tr>\n",
       "      <td>8</td>\n",
       "      <td>1576988021</td>\n",
       "      <td>295230930</td>\n",
       "      <td>2019-08-15</td>\n",
       "      <td>215.9</td>\n",
       "      <td>A</td>\n",
       "    </tr>\n",
       "  </tbody>\n",
       "</table>\n",
       "</div>"
      ],
      "text/plain": [
       "   transaction_id  visitor_id       date  revenue group\n",
       "7      2626614568    78758296 2019-08-15     20.1     A\n",
       "8      1576988021   295230930 2019-08-15    215.9     A"
      ]
     },
     "execution_count": 59,
     "metadata": {},
     "output_type": "execute_result"
    }
   ],
   "source": [
    "table_a.head(2)"
   ]
  },
  {
   "cell_type": "code",
   "execution_count": 60,
   "metadata": {},
   "outputs": [
    {
     "data": {
      "image/png": "[encoded data removed]",
      "text/plain": [
       "<Figure size 432x288 with 1 Axes>"
      ]
     },
     "metadata": {
      "needs_background": "light"
     },
     "output_type": "display_data"
    }
   ],
   "source": [
    "x_a = pd.Series(range(0, len(table_a)))\n",
    "y_a = table_a['revenue']\n",
    "\n",
    "plt.scatter(x_a, y_a, c = 'coral', alpha = 0.7)\n",
    "\n",
    "x_b = pd.Series(range(0, len(table_b)))\n",
    "y_b = table_b['revenue']\n",
    "plt.scatter(x_b, y_b, c='lightblue', alpha = 0.7)\n",
    "\n",
    "# graph the number of orders per buyer\n",
    "plt.title('scatter plot of price per order (data with no duplicates)')\n",
    "plt.xlabel('number of buyers')\n",
    "plt.ylabel('price per order')\n",
    "plt.show()"
   ]
  },
  {
   "cell_type": "markdown",
   "metadata": {},
   "source": [
    "<div class=\"alert alert-block alert-success\">\n",
    "<b>Reviewer's comment v.2</b> \n",
    "    \n",
    "👍 Now we could see, that the anomaly price value is common only for group B.\n",
    "</div>"
   ]
  },
  {
   "cell_type": "code",
   "execution_count": 61,
   "metadata": {},
   "outputs": [
    {
     "data": {
      "image/png": "[encoded data removed]",
      "text/plain": [
       "<Figure size 432x288 with 1 Axes>"
      ]
     },
     "metadata": {
      "needs_background": "light"
     },
     "output_type": "display_data"
    }
   ],
   "source": [
    "x_a = pd.Series(range(0, len(table_a)))\n",
    "y_a = table_a['revenue']\n",
    "\n",
    "plt.scatter(x_a, y_a, c = 'coral', alpha = 0.7)\n",
    "\n",
    "x_b = pd.Series(range(0, len(table_b)))\n",
    "y_b = table_b['revenue']\n",
    "plt.scatter(x_b, y_b, c='lightblue', alpha = 0.7)\n",
    "\n",
    "plt.title('scatter plot of price per orders of $2000 or less (data with no duplicates)')\n",
    "plt.xlabel('number of buyers')\n",
    "plt.ylabel('price per order')\n",
    "plt.ylim([0, 2000])\n",
    "plt.axhline(y=414, color='black', linestyle='--')\n",
    "plt.axhline(y=830, color='black', linestyle='--')\n",
    "plt.show()"
   ]
  },
  {
   "cell_type": "markdown",
   "metadata": {},
   "source": [
    "<div class=\"alert alert-info\"> \n",
    "<b>Student's comment</b> \n",
    "    \n",
    "Very cool!!!\n",
    "</div>"
   ]
  },
  {
   "cell_type": "markdown",
   "metadata": {},
   "source": [
    "<div class=\"alert alert-block alert-success\">\n",
    "<b>Reviewer's comment v.2</b> \n",
    "    \n",
    "👍\n",
    "</div>"
   ]
  },
  {
   "cell_type": "markdown",
   "metadata": {},
   "source": [
    "***4.2.G Conclusion: Plot a scatter chart of order prices.***\n",
    "- There are 2 very large outliers in this data, represented in the first graph\n",
    "- When focusing on orders under 2000 dollars, it seems most orders cost below 500 dollars\n",
    "    - this is confirmed by the calculation of th 95th percentile in the next step, which is 414 dollars, noted by the bottom black dashed line (99th percentile is 830 - top black line)"
   ]
  },
  {
   "cell_type": "markdown",
   "metadata": {},
   "source": [
    "***4.2.H Calculate the 95th and 99th percentiles of order prices. Define the point at which a data point becomes an anomaly.***"
   ]
  },
  {
   "cell_type": "code",
   "execution_count": 62,
   "metadata": {},
   "outputs": [
    {
     "name": "stdout",
     "output_type": "stream",
     "text": [
      "95% of buyers make purchases of $414.28 or under, 99% make purchases of $830.3 or under\n"
     ]
    }
   ],
   "source": [
    "# calculate the 95th and 99th percentiles of order prices\n",
    "price_outliers = np.percentile(orders_no_dups['revenue'], [95, 99])\n",
    "print('95% of buyers make purchases of ${:} or under, 99% make purchases of ${:} or under'.format(price_outliers[0].round(2), price_outliers[1]))"
   ]
  },
  {
   "cell_type": "markdown",
   "metadata": {},
   "source": [
    "***4.2.H Conclusion: Calculate the 95th and 99th percentiles of order prices. Define the point at which a data point becomes an anomaly.***\n",
    "- anmalies or outliers of 1-5% are generally filtered out of observed values\n",
    "- in this case 95% of buyers make purchases of 414 dollars or less, where as 5% make purchases of 414 dollars or more\n",
    "    - it would be reasonable to set 414 dollars as the lower limit for the price of orders and to filter out anomolies above 414 dollars"
   ]
  },
  {
   "cell_type": "markdown",
   "metadata": {},
   "source": [
    "<div class=\"alert alert-success\" role=\"alert\">\n",
    "<b>Reviewer's comment v.1</b> \n",
    "    \n",
    "👍 Excellent, the 95th and 99th percentiles of the number of orders per user and for order prices were calculated correctly. We have established the limits.\n",
    "</div>"
   ]
  },
  {
   "cell_type": "markdown",
   "metadata": {},
   "source": [
    "***4.2.I Find the statistical significance of the difference in conversion between the groups using the raw data. Make conclusions and conjectures.***\n",
    "- Null hypothesis: The conversion between groups is the same in the raw data\n",
    "- Alternative hypothesis: The conversion is different between groups in the raw data"
   ]
  },
  {
   "cell_type": "markdown",
   "metadata": {},
   "source": [
    "<div class=\"alert alert-success\" role=\"alert\">\n",
    "<b>Reviewer's comment v.1</b> \n",
    "    \n",
    "👍 Well done! Here and in the other tests, the hypotheses have been formulated correctly.\n",
    "</div>"
   ]
  },
  {
   "cell_type": "code",
   "execution_count": 63,
   "metadata": {},
   "outputs": [
    {
     "data": {
      "text/html": [
       "<div>\n",
       "<style scoped>\n",
       "    .dataframe tbody tr th:only-of-type {\n",
       "        vertical-align: middle;\n",
       "    }\n",
       "\n",
       "    .dataframe tbody tr th {\n",
       "        vertical-align: top;\n",
       "    }\n",
       "\n",
       "    .dataframe thead th {\n",
       "        text-align: right;\n",
       "    }\n",
       "</style>\n",
       "<table border=\"1\" class=\"dataframe\">\n",
       "  <thead>\n",
       "    <tr style=\"text-align: right;\">\n",
       "      <th></th>\n",
       "      <th>transaction_id</th>\n",
       "      <th>visitor_id</th>\n",
       "      <th>date</th>\n",
       "      <th>revenue</th>\n",
       "      <th>group</th>\n",
       "    </tr>\n",
       "  </thead>\n",
       "  <tbody>\n",
       "    <tr>\n",
       "      <td>0</td>\n",
       "      <td>3667963787</td>\n",
       "      <td>3312258926</td>\n",
       "      <td>2019-08-15</td>\n",
       "      <td>30.4</td>\n",
       "      <td>B</td>\n",
       "    </tr>\n",
       "    <tr>\n",
       "      <td>1</td>\n",
       "      <td>2804400009</td>\n",
       "      <td>3642806036</td>\n",
       "      <td>2019-08-15</td>\n",
       "      <td>15.2</td>\n",
       "      <td>B</td>\n",
       "    </tr>\n",
       "  </tbody>\n",
       "</table>\n",
       "</div>"
      ],
      "text/plain": [
       "   transaction_id  visitor_id       date  revenue group\n",
       "0      3667963787  3312258926 2019-08-15     30.4     B\n",
       "1      2804400009  3642806036 2019-08-15     15.2     B"
      ]
     },
     "execution_count": 63,
     "metadata": {},
     "output_type": "execute_result"
    }
   ],
   "source": [
    "orders_no_dups.head(2)"
   ]
  },
  {
   "cell_type": "code",
   "execution_count": 64,
   "metadata": {},
   "outputs": [
    {
     "data": {
      "text/html": [
       "<div>\n",
       "<style scoped>\n",
       "    .dataframe tbody tr th:only-of-type {\n",
       "        vertical-align: middle;\n",
       "    }\n",
       "\n",
       "    .dataframe tbody tr th {\n",
       "        vertical-align: top;\n",
       "    }\n",
       "\n",
       "    .dataframe thead th {\n",
       "        text-align: right;\n",
       "    }\n",
       "</style>\n",
       "<table border=\"1\" class=\"dataframe\">\n",
       "  <thead>\n",
       "    <tr style=\"text-align: right;\">\n",
       "      <th></th>\n",
       "      <th>date</th>\n",
       "      <th>group</th>\n",
       "      <th>visits</th>\n",
       "    </tr>\n",
       "  </thead>\n",
       "  <tbody>\n",
       "    <tr>\n",
       "      <td>0</td>\n",
       "      <td>2019-08-01</td>\n",
       "      <td>A</td>\n",
       "      <td>719</td>\n",
       "    </tr>\n",
       "    <tr>\n",
       "      <td>1</td>\n",
       "      <td>2019-08-02</td>\n",
       "      <td>A</td>\n",
       "      <td>619</td>\n",
       "    </tr>\n",
       "  </tbody>\n",
       "</table>\n",
       "</div>"
      ],
      "text/plain": [
       "        date group  visits\n",
       "0 2019-08-01     A     719\n",
       "1 2019-08-02     A     619"
      ]
     },
     "execution_count": 64,
     "metadata": {},
     "output_type": "execute_result"
    }
   ],
   "source": [
    "visits.head(2)"
   ]
  },
  {
   "cell_type": "code",
   "execution_count": 65,
   "metadata": {},
   "outputs": [
    {
     "name": "stdout",
     "output_type": "stream",
     "text": [
      "raw conversion rate p-value: 0.006\n",
      "relative conversion gain for group B (raw data): 16%\n",
      "Null hypothesis rejected: the conversion between groups in the raw data is statistically significant\n"
     ]
    }
   ],
   "source": [
    "# group the number of orders per buyer per group\n",
    "raw_orders_per_users_a = orders_no_dups[orders_no_dups['group']=='A'].groupby('visitor_id', as_index=False).agg({'transaction_id' : pd.Series.nunique})\n",
    "raw_orders_per_users_a.columns = ['visitor_id', 'num_orders_a']\n",
    "\n",
    "raw_orders_per_users_b = orders_no_dups[orders_no_dups['group']=='B'].groupby('visitor_id', as_index=False).agg({'transaction_id' : pd.Series.nunique})\n",
    "raw_orders_per_users_b.columns = ['visitor_id', 'num_orders_b']\n",
    "\n",
    "# each varaible below stores a sample where each element is the number of orders made by a certain user, including zeroes. \n",
    "# So the number of each variable elements is the number of users, and the sum of all the elements is the number of orders.\n",
    "raw_conv_a = pd.concat([raw_orders_per_users_a['num_orders_a'],\n",
    "                     pd.Series(0, index=np.arange(visits[visits['group']=='A']['visits'].sum() \n",
    "                                                  - len(raw_orders_per_users_a['num_orders_a'])), name='num_orders_a')], axis=0)\n",
    "\n",
    "raw_conv_b = pd.concat([raw_orders_per_users_b['num_orders_b'],\n",
    "                     pd.Series(0, index=np.arange(visits[visits['group']=='B']['visits'].sum() \n",
    "                                                  - len(raw_orders_per_users_b['num_orders_b'])), name='num_orders_b')],axis=0)\n",
    "\n",
    "# run statistics test\n",
    "alpha = 0.05\n",
    "# return the second value (p value) in the array of results\n",
    "raw_conv_results = st.mannwhitneyu(raw_conv_a, raw_conv_b)[1]\n",
    "\n",
    "print(\"raw conversion rate p-value: {0:.3f}\".format(raw_conv_results))\n",
    "\n",
    "print(\"relative conversion gain for group B (raw data): {0:.0f}%\".format((raw_conv_b.mean()/raw_conv_a.mean()-1)*100))\n",
    "\n",
    "if (raw_conv_results < alpha):\n",
    "    print(\"Null hypothesis rejected: the conversion between groups in the raw data is statistically significant\")\n",
    "else:\n",
    "    print(\"Failed to reject the null hypothesis: we can't make conclusions about the conversion between groups in the raw data\")"
   ]
  },
  {
   "cell_type": "markdown",
   "metadata": {},
   "source": [
    "***4.2.I Conclusion: Find the statistical significance of the difference in conversion between the groups using the raw data.***\n",
    "- based on the raw data there is a significant difference between the conversion rates between the two groups, so the null hypotheses is rejected\n",
    "- the relative gain for group B based on the raw data is 16%"
   ]
  },
  {
   "cell_type": "markdown",
   "metadata": {},
   "source": [
    "<div class=\"alert alert-block alert-success\">\n",
    "<b>Reviewer's comment v.1</b> \n",
    "    \n",
    "⭐ Well done! You are right. There is a statistically significant difference in conversion rates between groups.\n",
    "\n",
    "</div>"
   ]
  },
  {
   "cell_type": "markdown",
   "metadata": {},
   "source": [
    "***4.2.J Find the statistical significance of the difference in average order size between the groups using the raw data. Make conclusions and conjectures.***\n",
    "- Null hypothesis: The average order size between groups is the same in the raw data\n",
    "- Alternative hypothesis: The average order size between groups is different in the raw data"
   ]
  },
  {
   "cell_type": "code",
   "execution_count": 66,
   "metadata": {},
   "outputs": [
    {
     "name": "stdout",
     "output_type": "stream",
     "text": [
      "raw order size p-value: 0.431\n",
      "relative order size gain for group B (raw data): 28%\n",
      "Failed to reject the null hypothesis: we can't make conclusions about the order sizes between groups in the raw data\n"
     ]
    }
   ],
   "source": [
    "# group each groups revenue\n",
    "raw_revenue_a = orders_no_dups[orders_no_dups['group'] == 'A']['revenue']\n",
    "raw_revenue_b = orders_no_dups[orders_no_dups['group'] == 'B']['revenue']\n",
    "\n",
    "# run the statistics test\n",
    "alpha = 0.05\n",
    "\n",
    "# return the second value (p value) in the array of results\n",
    "raw_order_sizes_results = st.mannwhitneyu(raw_revenue_a, raw_revenue_b)[1]\n",
    "\n",
    "print('raw order size p-value: {:.3f}'.format(raw_order_sizes_results))\n",
    "print(\"relative order size gain for group B (raw data): {0:.0f}%\".format((raw_revenue_b.mean()/raw_revenue_a.mean()-1)*100))\n",
    "\n",
    "if (raw_order_sizes_results < alpha):\n",
    "    print(\"Null hypothesis rejected: the order sizes between groups in the raw data is statistically significant\")\n",
    "else:\n",
    "    print(\"Failed to reject the null hypothesis: we can't make conclusions about the order sizes between groups in the raw data\")"
   ]
  },
  {
   "cell_type": "markdown",
   "metadata": {},
   "source": [
    "***4.2.J Conclusion: Find the statistical significance of the difference in average order size between the groups using the raw data.***\n",
    "- based on the raw data there is a not a significant difference between the order sizes between groups, so the null hypothesis is accepted\n",
    "- the relative gain for group B based on the raw data is 28%"
   ]
  },
  {
   "cell_type": "markdown",
   "metadata": {},
   "source": [
    "<div class=\"alert alert-block alert-success\">\n",
    "<b>Reviewer's comment v.1</b> \n",
    "    \n",
    "👍 Ok! Correct, there is no statistically significant difference in average order size between the groups despite that we have the average order size for group B higher than it is for group A. So, we should check the data without outliers.\n",
    "\n",
    "</div>"
   ]
  },
  {
   "cell_type": "markdown",
   "metadata": {},
   "source": [
    "***4.2.K Find the statistical significance of the difference in conversion between the groups using the filtered data. Make conclusions and conjectures.***\n",
    "- Null hypothesis: The conversion between groups is the same in the filtered data\n",
    "- Alternative hypothesis: The conversion is different between groups in the filtered data"
   ]
  },
  {
   "cell_type": "code",
   "execution_count": 67,
   "metadata": {},
   "outputs": [
    {
     "name": "stdout",
     "output_type": "stream",
     "text": [
      "number of users with anomolies: 86\n"
     ]
    }
   ],
   "source": [
    "# create filtered datasets without anamolies using limits decided in calculations above for 95th percentile\n",
    "order_num_anomalies = pd.concat([raw_orders_per_users_a[raw_orders_per_users_a['num_orders_a'] > 1]['visitor_id'], raw_orders_per_users_b[raw_orders_per_users_b['num_orders_b'] > 1]['visitor_id']], axis = 0)\n",
    "\n",
    "order_price_anomalies = orders_no_dups[orders_no_dups['revenue'] > 414]['visitor_id']\n",
    "\n",
    "anomaly_users = pd.concat([order_num_anomalies, order_price_anomalies], axis = 0).drop_duplicates().sort_values()\n",
    "\n",
    "# print(anomoly_users.head())\n",
    "print('number of users with anomolies: {}'.format(len(anomaly_users)))"
   ]
  },
  {
   "cell_type": "markdown",
   "metadata": {},
   "source": [
    "<div class=\"alert alert-warning\">\n",
    "<b>Reviewer's comment v.1</b> \n",
    "    \n",
    "💡 Because we use the 95 percentile as a limit value, it is better to use variables to determine the limits. Fox example:\n",
    "```python\n",
    "order_num_lim = np.percentile(raw_orders_per_users_a['num_orders_a'], 95)\n",
    "order_price_lim = np.percentile(orders_no_dups['revenue'], 95)\n",
    "    \n",
    "order_num_anomalies = pd.concat([raw_orders_per_users_a[raw_orders_per_users_a['num_orders_a'] > order_num_lim]['visitor_id'], raw_orders_per_users_b[raw_orders_per_users_b['num_orders_b'] > order_num_lim]['visitor_id']], axis = 0)\n",
    "\n",
    "order_price_anomalies = orders_no_dups[orders_no_dups['revenue'] > order_price_lim]['visitor_id']\n",
    "\n",
    "\n",
    "```"
   ]
  },
  {
   "cell_type": "markdown",
   "metadata": {},
   "source": [
    "<div class=\"alert alert-info\"> \n",
    "<b>Student's comment</b> \n",
    "    \n",
    "Oh, yes I see your point!\n",
    "</div>"
   ]
  },
  {
   "cell_type": "code",
   "execution_count": 68,
   "metadata": {},
   "outputs": [
    {
     "name": "stdout",
     "output_type": "stream",
     "text": [
      "filtered conversion rate p-value: 0.008\n",
      "relative conversion gain for group B (filtered data): 17%\n",
      "Null hypothesis rejected: the conversion between groups in the filtered data is statistically significant\n"
     ]
    }
   ],
   "source": [
    "# filter out the anomalies\n",
    "filtered_orders_per_users_a = pd.concat([raw_orders_per_users_a[np.logical_not(raw_orders_per_users_a['visitor_id'].isin(anomaly_users))]['num_orders_a'],pd.Series(0, index=np.arange(visits[visits['group']=='A']['visits'].sum() - len(raw_orders_per_users_a['num_orders_a'])),name='num_orders_a')],axis=0)\n",
    "\n",
    "filtered_orders_per_users_b = pd.concat([raw_orders_per_users_b[np.logical_not(raw_orders_per_users_b['visitor_id'].isin(anomaly_users))]['num_orders_b'],pd.Series(0, index=np.arange(visits[visits['group']=='B']['visits'].sum() - len(raw_orders_per_users_b['num_orders_b'])),name='num_orders_b')],axis=0)\n",
    "\n",
    "# run statistic test with filtered data\n",
    "alpha = 0.05\n",
    "# return the second value (p value) in the array of results\n",
    "filtered_conv_results = st.mannwhitneyu(filtered_orders_per_users_a, filtered_orders_per_users_b)[1]\n",
    "\n",
    "print(\"filtered conversion rate p-value: {0:.3f}\".format(filtered_conv_results))\n",
    "\n",
    "print(\"relative conversion gain for group B (filtered data): {0:.0f}%\".format((filtered_orders_per_users_b.mean()/filtered_orders_per_users_a.mean()-1)*100))\n",
    "\n",
    "if (filtered_conv_results < alpha):\n",
    "    print(\"Null hypothesis rejected: the conversion between groups in the filtered data is statistically significant\")\n",
    "else:\n",
    "    print(\"Failed to reject the null hypothesis: we can't make conclusions about the conversion between groups in the filtered data\")"
   ]
  },
  {
   "cell_type": "markdown",
   "metadata": {},
   "source": [
    "***4.2.K Conclusion: Find the statistical significance of the difference in conversion between the groups using the filtered data.***\n",
    "- There are 86 users with anomalies\n",
    "- based on the filtered data (i.e. anomalies removed) there is a significant difference between the conversion rates between the two groups, so the null hypotheses is rejected\n",
    "    - the null hypothesis was also rejected for the raw data conversion rates\n",
    "- the relative gain for group B based on the filtered data is 17% (vs 16% for the raw data)"
   ]
  },
  {
   "cell_type": "markdown",
   "metadata": {},
   "source": [
    "<div class=\"alert alert-block alert-success\">\n",
    "<b>Reviewer's comment v.1</b> \n",
    "    \n",
    "👍 Well done! The statistically significant difference remains.\n",
    "</div>"
   ]
  },
  {
   "cell_type": "markdown",
   "metadata": {},
   "source": [
    "***4.2.L Find the statistical significance of the difference in average order size between the groups using the filtered data. Make conclusions and conjectures.***\n",
    "- Null hypothesis: The average order size between groups is the same in the raw data\n",
    "- Alternative hypothesis: The average order size between groups is different in the raw data"
   ]
  },
  {
   "cell_type": "code",
   "execution_count": 69,
   "metadata": {},
   "outputs": [
    {
     "name": "stdout",
     "output_type": "stream",
     "text": [
      "filtered order size p-value: 0.431\n",
      "relative order size loss for group B (filtered data): -3%\n",
      "Failed to reject the null hypothesis: we can't make conclusions about the order sizes between groups in the filtered data\n"
     ]
    }
   ],
   "source": [
    "# filter out the anomalies\n",
    "filtered_revenue_a = (orders_no_dups[(np.logical_not(orders_no_dups['visitor_id'].isin(anomaly_users))) & (orders_no_dups['group'] == 'A')])['revenue']\n",
    "filtered_revenue_b = (orders_no_dups[(np.logical_not(orders_no_dups['visitor_id'].isin(anomaly_users))) & (orders_no_dups['group'] == 'B')])['revenue']\n",
    "\n",
    "# run statistic test with filtered data\n",
    "alpha = 0.05\n",
    "\n",
    "# return the second value (p value) in the array of results\n",
    "filtered_order_sizes_results = st.mannwhitneyu(filtered_revenue_a, filtered_revenue_b)[1]\n",
    "\n",
    "print('filtered order size p-value: {:.3f}'.format(raw_order_sizes_results))\n",
    "print(\"relative order size loss for group B (filtered data): {0:.0f}%\".format((filtered_revenue_b.mean()/filtered_revenue_a.mean()-1)*100))\n",
    "\n",
    "if (filtered_order_sizes_results < alpha):\n",
    "    print(\"Null hypothesis rejected: the order sizes between groups in the filtered data is statistically significant\")\n",
    "else:\n",
    "    print(\"Failed to reject the null hypothesis: we can't make conclusions about the order sizes between groups in the filtered data\")"
   ]
  },
  {
   "cell_type": "markdown",
   "metadata": {},
   "source": [
    "***4.2.L Conclusion: Find the statistical significance of the difference in average order size between the groups using the filtered data.***\n",
    "- based on the filtered data there is a not a significant difference between the order sizes between groups, so the null hypothesis is accepted\n",
    "    - the null hypothesis was also accepted for the raw data order sizes\n",
    "- the relative gain for group B based on the filtered data is 3% (vs 28% for the raw data)"
   ]
  },
  {
   "cell_type": "markdown",
   "metadata": {},
   "source": [
    "<div class=\"alert alert-block alert-success\">\n",
    "<b>Reviewer's comment v.1</b> \n",
    "    \n",
    "⭐ Correct, there is no difference in average order size between the groups using both filtered and raw data. Moreover, now the groups don't show any numeric difference in average order size.\n",
    "</div>"
   ]
  },
  {
   "cell_type": "markdown",
   "metadata": {},
   "source": [
    "***A/B Testing Conclusion***\n",
    "- The raw and filtered data revealed:\n",
    "    - there is a statistically signficantly difference in conversion (user to buyer) between the groups\n",
    "    - there is not a statistically signficantly difference for the average order size between the groups\n",
    "    \n",
    "***Statistic Test Results***\n",
    "- Raw Conversion\n",
    "    - raw conversion rate p-value: 0.006\n",
    "    - relative conversion gain for group B (raw data): 16%\n",
    "    - Null hypothesis rejected: the conversion between groups in the raw data is statistically significant\n",
    "- Filtered Conversion\n",
    "    - filtered conversion rate p-value: 0.008\n",
    "    - conversion gain for group B (filtered data): 17%\n",
    "    - Null hypothesis rejected: the conversion between groups in the filtered data is statistically significant\n",
    "\n",
    "- Raw average order size\n",
    "    - raw order size p-value: 0.431\n",
    "    - relative order size gain for group B (raw data): 28%\n",
    "    - Failed to reject the null hypothesis: we can't make conclusions about the order sizes between groups in the raw data\n",
    "- Filtered average order size\n",
    "    - filtered order size p-value: 0.431\n",
    "    - relative order size loss for group B (filtered data): -3%\n",
    "    - Failed to reject the null hypothesis: we can't make conclusions about the order sizes between groups in the filtered data"
   ]
  },
  {
   "cell_type": "markdown",
   "metadata": {},
   "source": [
    "<div class=\"alert alert-block alert-success\">\n",
    "<b>Reviewer's comment v.1</b> \n",
    "    \n",
    "👍 Well done!\n",
    "</div>"
   ]
  },
  {
   "cell_type": "markdown",
   "metadata": {},
   "source": [
    "# General Conclusions & Recommendations\n",
    "\n",
    "- 9 hypotheses were prioritized using the RICE method, which accounts for Reach, Impact, Confidence, and Effort of the test\n",
    "    - hypothesis # 7 scored the highest and tests: 'Add a subscription form to all the main pages.'\n",
    "- Assuming the data supplied were based on this results of hypothesis # 7, I believe the results of the test are positive because it increased conversion rates by 17%\n",
    "    - The data provided accounted for a one month test and evaluated conversion rates and average orders size\n",
    "        - The analysis reaveals that there is a signficant difference in the coversion rates of a user to a buyer (17%), but not in average order size.\n",
    "        - There may be a loss in average order size (3%), once outliers are removed, but a longer test may reveal this to be untrue\n",
    "            - Based on the unfiltered data, there is no loss, but a gain of 28%\n",
    "\n",
    "***4.2.M Make a decision based on the test results. The possible decisions are: 1. Stop the test, consider one of the groups the leader. 2. Stop the test, conclude that there is no difference between the groups. 3. Continue the test.***\n",
    "\n",
    "***- Recommendation based on the results:***\n",
    "- If the goal of the test was to increase conversion rate:\n",
    "    - Stop the test, the results for Group B can be considered positive because the conversion rate is higher (17% based on filtered data) than Group A\n",
    "   - while there is no statistical difference in the average order size, the increase in conversion may not be paying off yet\n",
    "- If the goal of the test was to increase average order size:\n",
    "   - Continue the test to see if the average order size improves for Group B \n",
    "       - with the results from one month and the filtered data, it appears that Group B may be bringing in less than Group A (about 3% less based on filtered data). However, orders tend to occur once per month per user, so two or three months of the test may provide more information for the long term order size"
   ]
  },
  {
   "cell_type": "markdown",
   "metadata": {},
   "source": [
    "<div class=\"alert alert-block alert-success\">\n",
    "<b>Reviewer's comment v.1</b> \n",
    "    \n",
    "👍 Perfect full conclusions! It is good that you have provided recommendations for business.\n",
    "\n",
    "</div>"
   ]
  }
 ],
 "metadata": {
  "ExecuteTimeLog": [
   {
    "duration": 323,
    "start_time": "2021-11-09T21:36:29.311Z"
   },
   {
    "duration": 748,
    "start_time": "2021-11-09T21:36:33.390Z"
   },
   {
    "duration": 304,
    "start_time": "2021-11-09T21:36:45.456Z"
   },
   {
    "duration": 37,
    "start_time": "2021-11-09T21:36:50.999Z"
   },
   {
    "duration": 27,
    "start_time": "2021-11-09T21:37:40.385Z"
   },
   {
    "duration": 798,
    "start_time": "2021-11-10T18:51:14.926Z"
   },
   {
    "duration": 37,
    "start_time": "2021-11-10T18:51:15.727Z"
   },
   {
    "duration": 7,
    "start_time": "2021-11-10T18:51:30.053Z"
   },
   {
    "duration": 24,
    "start_time": "2021-11-10T18:51:34.374Z"
   },
   {
    "duration": 854,
    "start_time": "2021-11-10T18:56:01.447Z"
   },
   {
    "duration": 504,
    "start_time": "2021-11-10T19:09:03.182Z"
   },
   {
    "duration": 26,
    "start_time": "2021-11-10T19:09:12.038Z"
   },
   {
    "duration": 11,
    "start_time": "2021-11-10T19:09:21.090Z"
   },
   {
    "duration": 2099,
    "start_time": "2021-11-10T19:23:39.757Z"
   },
   {
    "duration": 39,
    "start_time": "2021-11-10T19:24:52.218Z"
   },
   {
    "duration": 13,
    "start_time": "2021-11-10T19:25:01.909Z"
   },
   {
    "duration": 24,
    "start_time": "2021-11-10T19:25:45.062Z"
   },
   {
    "duration": 24,
    "start_time": "2021-11-10T19:25:51.953Z"
   },
   {
    "duration": 10,
    "start_time": "2021-11-10T19:26:00.177Z"
   },
   {
    "duration": 11,
    "start_time": "2021-11-10T19:45:26.527Z"
   },
   {
    "duration": 9387,
    "start_time": "2021-11-10T19:46:03.757Z"
   },
   {
    "duration": 7,
    "start_time": "2021-11-10T19:46:22.370Z"
   },
   {
    "duration": 62,
    "start_time": "2021-11-10T19:49:44.932Z"
   },
   {
    "duration": 185,
    "start_time": "2021-11-10T19:50:30.424Z"
   },
   {
    "duration": 6,
    "start_time": "2021-11-10T19:55:32.385Z"
   },
   {
    "duration": 6,
    "start_time": "2021-11-10T19:55:39.657Z"
   },
   {
    "duration": 6,
    "start_time": "2021-11-10T19:55:42.717Z"
   },
   {
    "duration": 352,
    "start_time": "2021-11-10T19:56:36.112Z"
   },
   {
    "duration": 8,
    "start_time": "2021-11-10T19:56:46.881Z"
   },
   {
    "duration": 11,
    "start_time": "2021-11-10T19:57:34.264Z"
   },
   {
    "duration": 7,
    "start_time": "2021-11-10T19:59:44.206Z"
   },
   {
    "duration": 422,
    "start_time": "2021-11-10T20:09:29.597Z"
   },
   {
    "duration": 13,
    "start_time": "2021-11-10T20:09:38.045Z"
   },
   {
    "duration": 58,
    "start_time": "2021-11-10T20:13:51.945Z"
   },
   {
    "duration": 62,
    "start_time": "2021-11-10T20:15:13.308Z"
   },
   {
    "duration": 11,
    "start_time": "2021-11-10T20:15:31.809Z"
   },
   {
    "duration": 269,
    "start_time": "2021-11-10T20:17:08.695Z"
   },
   {
    "duration": 5,
    "start_time": "2021-11-10T20:17:14.534Z"
   },
   {
    "duration": 367,
    "start_time": "2021-11-10T20:18:13.671Z"
   },
   {
    "duration": 11,
    "start_time": "2021-11-10T20:18:18.533Z"
   },
   {
    "duration": 276,
    "start_time": "2021-11-10T20:23:55.561Z"
   },
   {
    "duration": 106,
    "start_time": "2021-11-10T20:24:05.310Z"
   },
   {
    "duration": 20,
    "start_time": "2021-11-10T20:24:08.464Z"
   },
   {
    "duration": 15,
    "start_time": "2021-11-10T20:24:39.305Z"
   },
   {
    "duration": 9,
    "start_time": "2021-11-10T20:26:14.547Z"
   },
   {
    "duration": 10,
    "start_time": "2021-11-10T20:26:29.890Z"
   },
   {
    "duration": 9,
    "start_time": "2021-11-10T20:26:41.115Z"
   },
   {
    "duration": 13,
    "start_time": "2021-11-10T20:31:05.037Z"
   },
   {
    "duration": 10,
    "start_time": "2021-11-10T20:31:08.832Z"
   },
   {
    "duration": 24,
    "start_time": "2021-11-10T20:33:49.534Z"
   },
   {
    "duration": 9,
    "start_time": "2021-11-10T20:35:54.002Z"
   },
   {
    "duration": 263,
    "start_time": "2021-11-10T20:36:13.835Z"
   },
   {
    "duration": 14,
    "start_time": "2021-11-10T20:36:56.257Z"
   },
   {
    "duration": 135,
    "start_time": "2021-11-10T20:37:03.551Z"
   },
   {
    "duration": 94,
    "start_time": "2021-11-10T20:43:48.761Z"
   },
   {
    "duration": 15,
    "start_time": "2021-11-10T20:44:03.274Z"
   },
   {
    "duration": 14,
    "start_time": "2021-11-10T20:45:45.457Z"
   },
   {
    "duration": 17,
    "start_time": "2021-11-10T20:46:08.847Z"
   },
   {
    "duration": 12,
    "start_time": "2021-11-10T20:46:21.700Z"
   },
   {
    "duration": 16,
    "start_time": "2021-11-10T20:49:03.346Z"
   },
   {
    "duration": 12,
    "start_time": "2021-11-10T20:49:04.241Z"
   },
   {
    "duration": 316,
    "start_time": "2021-11-10T20:49:05.080Z"
   },
   {
    "duration": 12,
    "start_time": "2021-11-10T20:49:35.635Z"
   },
   {
    "duration": 281,
    "start_time": "2021-11-10T20:49:37.107Z"
   },
   {
    "duration": 7,
    "start_time": "2021-11-10T20:50:01.208Z"
   },
   {
    "duration": 11,
    "start_time": "2021-11-10T20:50:11.814Z"
   },
   {
    "duration": 323,
    "start_time": "2021-11-10T20:50:14.102Z"
   },
   {
    "duration": 16,
    "start_time": "2021-11-10T20:50:20.574Z"
   },
   {
    "duration": 11,
    "start_time": "2021-11-10T20:50:26.599Z"
   },
   {
    "duration": 6,
    "start_time": "2021-11-10T20:50:33.914Z"
   },
   {
    "duration": 371,
    "start_time": "2021-11-10T20:50:38.894Z"
   },
   {
    "duration": 7,
    "start_time": "2021-11-10T21:04:28.177Z"
   },
   {
    "duration": 6,
    "start_time": "2021-11-10T21:05:02.568Z"
   },
   {
    "duration": 5,
    "start_time": "2021-11-10T21:06:56.157Z"
   },
   {
    "duration": 5,
    "start_time": "2021-11-10T21:07:05.342Z"
   },
   {
    "duration": 7,
    "start_time": "2021-11-10T21:07:27.070Z"
   },
   {
    "duration": 7,
    "start_time": "2021-11-10T21:08:06.592Z"
   },
   {
    "duration": 5,
    "start_time": "2021-11-10T21:10:11.926Z"
   },
   {
    "duration": 6,
    "start_time": "2021-11-10T21:10:59.796Z"
   },
   {
    "duration": 7,
    "start_time": "2021-11-10T21:11:30.160Z"
   },
   {
    "duration": 15,
    "start_time": "2021-11-10T21:12:30.675Z"
   },
   {
    "duration": 15,
    "start_time": "2021-11-10T21:12:34.400Z"
   },
   {
    "duration": 351,
    "start_time": "2021-11-10T21:13:33.522Z"
   },
   {
    "duration": 15,
    "start_time": "2021-11-10T21:13:38.955Z"
   },
   {
    "duration": 14,
    "start_time": "2021-11-10T21:13:39.608Z"
   },
   {
    "duration": 5,
    "start_time": "2021-11-10T21:13:40.196Z"
   },
   {
    "duration": 7,
    "start_time": "2021-11-10T21:13:41.095Z"
   },
   {
    "duration": 6,
    "start_time": "2021-11-10T21:14:36.668Z"
   },
   {
    "duration": 6,
    "start_time": "2021-11-10T21:14:51.977Z"
   },
   {
    "duration": 5,
    "start_time": "2021-11-10T21:16:54.595Z"
   },
   {
    "duration": 27,
    "start_time": "2021-11-10T21:18:08.873Z"
   },
   {
    "duration": 8,
    "start_time": "2021-11-10T21:19:55.049Z"
   },
   {
    "duration": 12,
    "start_time": "2021-11-10T21:19:57.221Z"
   },
   {
    "duration": 7,
    "start_time": "2021-11-10T21:24:18.991Z"
   },
   {
    "duration": 11,
    "start_time": "2021-11-10T21:35:44.833Z"
   },
   {
    "duration": 15,
    "start_time": "2021-11-10T21:36:25.239Z"
   },
   {
    "duration": 15,
    "start_time": "2021-11-10T21:37:59.575Z"
   },
   {
    "duration": 19,
    "start_time": "2021-11-10T21:38:37.911Z"
   },
   {
    "duration": 300,
    "start_time": "2021-11-10T21:38:53.912Z"
   },
   {
    "duration": 16,
    "start_time": "2021-11-10T21:39:20.550Z"
   },
   {
    "duration": 8,
    "start_time": "2021-11-10T21:40:16.132Z"
   },
   {
    "duration": 20,
    "start_time": "2021-11-10T21:40:22.641Z"
   },
   {
    "duration": 319,
    "start_time": "2021-11-10T21:40:47.108Z"
   },
   {
    "duration": 14,
    "start_time": "2021-11-10T21:41:05.195Z"
   },
   {
    "duration": 381,
    "start_time": "2021-11-10T21:41:16.787Z"
   },
   {
    "duration": -2100,
    "start_time": "2021-11-10T21:41:19.272Z"
   },
   {
    "duration": -2108,
    "start_time": "2021-11-10T21:41:19.281Z"
   },
   {
    "duration": -2112,
    "start_time": "2021-11-10T21:41:19.286Z"
   },
   {
    "duration": -2249,
    "start_time": "2021-11-10T21:41:19.425Z"
   },
   {
    "duration": -2256,
    "start_time": "2021-11-10T21:41:19.433Z"
   },
   {
    "duration": -2263,
    "start_time": "2021-11-10T21:41:19.441Z"
   },
   {
    "duration": -2268,
    "start_time": "2021-11-10T21:41:19.448Z"
   },
   {
    "duration": -2273,
    "start_time": "2021-11-10T21:41:19.454Z"
   },
   {
    "duration": -2278,
    "start_time": "2021-11-10T21:41:19.460Z"
   },
   {
    "duration": -2281,
    "start_time": "2021-11-10T21:41:19.465Z"
   },
   {
    "duration": -2285,
    "start_time": "2021-11-10T21:41:19.470Z"
   },
   {
    "duration": -2289,
    "start_time": "2021-11-10T21:41:19.475Z"
   },
   {
    "duration": -2293,
    "start_time": "2021-11-10T21:41:19.480Z"
   },
   {
    "duration": -2296,
    "start_time": "2021-11-10T21:41:19.485Z"
   },
   {
    "duration": -2301,
    "start_time": "2021-11-10T21:41:19.491Z"
   },
   {
    "duration": -2305,
    "start_time": "2021-11-10T21:41:19.496Z"
   },
   {
    "duration": -2310,
    "start_time": "2021-11-10T21:41:19.502Z"
   },
   {
    "duration": -2314,
    "start_time": "2021-11-10T21:41:19.507Z"
   },
   {
    "duration": -2318,
    "start_time": "2021-11-10T21:41:19.512Z"
   },
   {
    "duration": -2322,
    "start_time": "2021-11-10T21:41:19.517Z"
   },
   {
    "duration": -2325,
    "start_time": "2021-11-10T21:41:19.522Z"
   },
   {
    "duration": -2328,
    "start_time": "2021-11-10T21:41:19.526Z"
   },
   {
    "duration": -2331,
    "start_time": "2021-11-10T21:41:19.531Z"
   },
   {
    "duration": -2335,
    "start_time": "2021-11-10T21:41:19.537Z"
   },
   {
    "duration": -2382,
    "start_time": "2021-11-10T21:41:19.585Z"
   },
   {
    "duration": -2386,
    "start_time": "2021-11-10T21:41:19.590Z"
   },
   {
    "duration": -2389,
    "start_time": "2021-11-10T21:41:19.595Z"
   },
   {
    "duration": 1474,
    "start_time": "2021-11-10T21:41:45.435Z"
   },
   {
    "duration": 58,
    "start_time": "2021-11-10T21:41:46.912Z"
   },
   {
    "duration": 10,
    "start_time": "2021-11-10T21:41:46.973Z"
   },
   {
    "duration": 29,
    "start_time": "2021-11-10T21:41:46.986Z"
   },
   {
    "duration": 32,
    "start_time": "2021-11-10T21:41:47.017Z"
   },
   {
    "duration": 18,
    "start_time": "2021-11-10T21:41:47.052Z"
   },
   {
    "duration": 28,
    "start_time": "2021-11-10T21:41:47.073Z"
   },
   {
    "duration": 15,
    "start_time": "2021-11-10T21:41:47.104Z"
   },
   {
    "duration": 24,
    "start_time": "2021-11-10T21:41:47.125Z"
   },
   {
    "duration": 20,
    "start_time": "2021-11-10T21:41:47.153Z"
   },
   {
    "duration": 20,
    "start_time": "2021-11-10T21:41:47.176Z"
   },
   {
    "duration": 9,
    "start_time": "2021-11-10T21:41:47.199Z"
   },
   {
    "duration": 24,
    "start_time": "2021-11-10T21:41:47.211Z"
   },
   {
    "duration": 39,
    "start_time": "2021-11-10T21:41:47.238Z"
   },
   {
    "duration": 22,
    "start_time": "2021-11-10T21:41:47.279Z"
   },
   {
    "duration": 21,
    "start_time": "2021-11-10T21:41:47.303Z"
   },
   {
    "duration": 23,
    "start_time": "2021-11-10T21:41:47.326Z"
   },
   {
    "duration": 29,
    "start_time": "2021-11-10T21:41:47.351Z"
   },
   {
    "duration": 24,
    "start_time": "2021-11-10T21:41:47.383Z"
   },
   {
    "duration": 19,
    "start_time": "2021-11-10T21:41:47.410Z"
   },
   {
    "duration": 24,
    "start_time": "2021-11-10T21:41:47.433Z"
   },
   {
    "duration": 17,
    "start_time": "2021-11-10T21:41:47.459Z"
   },
   {
    "duration": 33,
    "start_time": "2021-11-10T21:41:47.478Z"
   },
   {
    "duration": 487,
    "start_time": "2021-11-10T21:41:47.514Z"
   },
   {
    "duration": -2100,
    "start_time": "2021-11-10T21:41:50.103Z"
   },
   {
    "duration": -2108,
    "start_time": "2021-11-10T21:41:50.112Z"
   },
   {
    "duration": -2111,
    "start_time": "2021-11-10T21:41:50.117Z"
   },
   {
    "duration": -2116,
    "start_time": "2021-11-10T21:41:50.123Z"
   },
   {
    "duration": -2119,
    "start_time": "2021-11-10T21:41:50.128Z"
   },
   {
    "duration": 5,
    "start_time": "2021-11-10T21:42:16.961Z"
   },
   {
    "duration": 6,
    "start_time": "2021-11-10T21:42:18.285Z"
   },
   {
    "duration": 8,
    "start_time": "2021-11-10T21:42:19.522Z"
   },
   {
    "duration": 14,
    "start_time": "2021-11-10T21:42:19.879Z"
   },
   {
    "duration": 16,
    "start_time": "2021-11-10T21:42:21.228Z"
   },
   {
    "duration": 18,
    "start_time": "2021-11-10T21:42:21.607Z"
   },
   {
    "duration": 22,
    "start_time": "2021-11-10T21:42:35.326Z"
   },
   {
    "duration": 1550,
    "start_time": "2021-11-10T21:42:53.117Z"
   },
   {
    "duration": 58,
    "start_time": "2021-11-10T21:42:54.670Z"
   },
   {
    "duration": 14,
    "start_time": "2021-11-10T21:42:54.733Z"
   },
   {
    "duration": 15,
    "start_time": "2021-11-10T21:42:54.749Z"
   },
   {
    "duration": 12,
    "start_time": "2021-11-10T21:42:54.766Z"
   },
   {
    "duration": 53,
    "start_time": "2021-11-10T21:42:54.780Z"
   },
   {
    "duration": 12,
    "start_time": "2021-11-10T21:42:54.836Z"
   },
   {
    "duration": 6,
    "start_time": "2021-11-10T21:42:54.852Z"
   },
   {
    "duration": 8,
    "start_time": "2021-11-10T21:42:54.861Z"
   },
   {
    "duration": 11,
    "start_time": "2021-11-10T21:42:54.871Z"
   },
   {
    "duration": 58,
    "start_time": "2021-11-10T21:42:54.885Z"
   },
   {
    "duration": 12,
    "start_time": "2021-11-10T21:42:54.946Z"
   },
   {
    "duration": 18,
    "start_time": "2021-11-10T21:42:54.960Z"
   },
   {
    "duration": 33,
    "start_time": "2021-11-10T21:42:54.980Z"
   },
   {
    "duration": 20,
    "start_time": "2021-11-10T21:42:55.016Z"
   },
   {
    "duration": 34,
    "start_time": "2021-11-10T21:42:55.040Z"
   },
   {
    "duration": 18,
    "start_time": "2021-11-10T21:42:55.076Z"
   },
   {
    "duration": 37,
    "start_time": "2021-11-10T21:42:55.096Z"
   },
   {
    "duration": 20,
    "start_time": "2021-11-10T21:42:55.137Z"
   },
   {
    "duration": 30,
    "start_time": "2021-11-10T21:42:55.159Z"
   },
   {
    "duration": 18,
    "start_time": "2021-11-10T21:42:55.192Z"
   },
   {
    "duration": 35,
    "start_time": "2021-11-10T21:42:55.213Z"
   },
   {
    "duration": 19,
    "start_time": "2021-11-10T21:42:55.253Z"
   },
   {
    "duration": 15,
    "start_time": "2021-11-10T21:42:55.275Z"
   },
   {
    "duration": 43,
    "start_time": "2021-11-10T21:42:55.293Z"
   },
   {
    "duration": 32,
    "start_time": "2021-11-10T21:42:55.339Z"
   },
   {
    "duration": 20,
    "start_time": "2021-11-10T21:42:55.374Z"
   },
   {
    "duration": 19,
    "start_time": "2021-11-10T21:42:55.397Z"
   },
   {
    "duration": 26,
    "start_time": "2021-11-10T21:42:55.419Z"
   },
   {
    "duration": 17,
    "start_time": "2021-11-10T21:44:25.007Z"
   },
   {
    "duration": 18,
    "start_time": "2021-11-10T21:44:39.557Z"
   },
   {
    "duration": 411,
    "start_time": "2021-11-10T21:48:12.847Z"
   },
   {
    "duration": 90,
    "start_time": "2021-11-10T21:48:19.437Z"
   },
   {
    "duration": 298,
    "start_time": "2021-11-10T21:48:45.985Z"
   },
   {
    "duration": 17,
    "start_time": "2021-11-10T21:49:02.617Z"
   },
   {
    "duration": 16,
    "start_time": "2021-11-10T21:49:17.391Z"
   },
   {
    "duration": 302,
    "start_time": "2021-11-10T21:52:27.186Z"
   },
   {
    "duration": 20,
    "start_time": "2021-11-10T21:52:33.354Z"
   },
   {
    "duration": 19,
    "start_time": "2021-11-10T21:57:20.385Z"
   },
   {
    "duration": 18,
    "start_time": "2021-11-10T21:57:24.502Z"
   },
   {
    "duration": 99,
    "start_time": "2021-11-10T21:58:00.662Z"
   },
   {
    "duration": 99,
    "start_time": "2021-11-10T21:58:50.618Z"
   },
   {
    "duration": 1469,
    "start_time": "2021-11-10T21:59:03.836Z"
   },
   {
    "duration": 58,
    "start_time": "2021-11-10T21:59:05.307Z"
   },
   {
    "duration": 9,
    "start_time": "2021-11-10T21:59:05.369Z"
   },
   {
    "duration": 24,
    "start_time": "2021-11-10T21:59:05.382Z"
   },
   {
    "duration": 13,
    "start_time": "2021-11-10T21:59:05.408Z"
   },
   {
    "duration": 21,
    "start_time": "2021-11-10T21:59:05.424Z"
   },
   {
    "duration": 10,
    "start_time": "2021-11-10T21:59:05.447Z"
   },
   {
    "duration": 17,
    "start_time": "2021-11-10T21:59:05.460Z"
   },
   {
    "duration": 21,
    "start_time": "2021-11-10T21:59:05.481Z"
   },
   {
    "duration": 9,
    "start_time": "2021-11-10T21:59:05.506Z"
   },
   {
    "duration": 24,
    "start_time": "2021-11-10T21:59:05.517Z"
   },
   {
    "duration": 14,
    "start_time": "2021-11-10T21:59:05.544Z"
   },
   {
    "duration": 27,
    "start_time": "2021-11-10T21:59:05.560Z"
   },
   {
    "duration": 28,
    "start_time": "2021-11-10T21:59:05.589Z"
   },
   {
    "duration": 11,
    "start_time": "2021-11-10T21:59:05.619Z"
   },
   {
    "duration": 15,
    "start_time": "2021-11-10T21:59:05.632Z"
   },
   {
    "duration": 37,
    "start_time": "2021-11-10T21:59:05.650Z"
   },
   {
    "duration": 20,
    "start_time": "2021-11-10T21:59:05.690Z"
   },
   {
    "duration": 23,
    "start_time": "2021-11-10T21:59:05.712Z"
   },
   {
    "duration": 19,
    "start_time": "2021-11-10T21:59:05.738Z"
   },
   {
    "duration": 11,
    "start_time": "2021-11-10T21:59:05.759Z"
   },
   {
    "duration": 39,
    "start_time": "2021-11-10T21:59:05.773Z"
   },
   {
    "duration": 38,
    "start_time": "2021-11-10T21:59:05.815Z"
   },
   {
    "duration": 11,
    "start_time": "2021-11-10T21:59:05.856Z"
   },
   {
    "duration": 12,
    "start_time": "2021-11-10T21:59:05.870Z"
   },
   {
    "duration": 30,
    "start_time": "2021-11-10T21:59:05.885Z"
   },
   {
    "duration": 33,
    "start_time": "2021-11-10T21:59:05.920Z"
   },
   {
    "duration": 23,
    "start_time": "2021-11-10T21:59:05.956Z"
   },
   {
    "duration": 113,
    "start_time": "2021-11-10T21:59:05.981Z"
   },
   {
    "duration": -2111,
    "start_time": "2021-11-10T21:59:08.207Z"
   },
   {
    "duration": 20,
    "start_time": "2021-11-10T21:59:14.844Z"
   },
   {
    "duration": 19,
    "start_time": "2021-11-10T21:59:28.284Z"
   },
   {
    "duration": 22,
    "start_time": "2021-11-10T22:01:52.058Z"
   },
   {
    "duration": 1422,
    "start_time": "2021-11-10T22:02:08.074Z"
   },
   {
    "duration": 61,
    "start_time": "2021-11-10T22:02:09.498Z"
   },
   {
    "duration": 10,
    "start_time": "2021-11-10T22:02:09.562Z"
   },
   {
    "duration": 27,
    "start_time": "2021-11-10T22:02:09.576Z"
   },
   {
    "duration": 13,
    "start_time": "2021-11-10T22:02:09.606Z"
   },
   {
    "duration": 14,
    "start_time": "2021-11-10T22:02:09.622Z"
   },
   {
    "duration": 13,
    "start_time": "2021-11-10T22:02:09.638Z"
   },
   {
    "duration": 8,
    "start_time": "2021-11-10T22:02:09.655Z"
   },
   {
    "duration": 9,
    "start_time": "2021-11-10T22:02:09.666Z"
   },
   {
    "duration": 15,
    "start_time": "2021-11-10T22:02:09.677Z"
   },
   {
    "duration": 40,
    "start_time": "2021-11-10T22:02:09.694Z"
   },
   {
    "duration": 11,
    "start_time": "2021-11-10T22:02:09.737Z"
   },
   {
    "duration": 10,
    "start_time": "2021-11-10T22:02:09.750Z"
   },
   {
    "duration": 17,
    "start_time": "2021-11-10T22:02:09.763Z"
   },
   {
    "duration": 49,
    "start_time": "2021-11-10T22:02:09.782Z"
   },
   {
    "duration": 15,
    "start_time": "2021-11-10T22:02:09.833Z"
   },
   {
    "duration": 8,
    "start_time": "2021-11-10T22:02:09.850Z"
   },
   {
    "duration": 8,
    "start_time": "2021-11-10T22:02:09.861Z"
   },
   {
    "duration": 62,
    "start_time": "2021-11-10T22:02:09.872Z"
   },
   {
    "duration": 13,
    "start_time": "2021-11-10T22:02:09.937Z"
   },
   {
    "duration": 9,
    "start_time": "2021-11-10T22:02:09.952Z"
   },
   {
    "duration": 13,
    "start_time": "2021-11-10T22:02:09.964Z"
   },
   {
    "duration": 53,
    "start_time": "2021-11-10T22:02:09.982Z"
   },
   {
    "duration": 5,
    "start_time": "2021-11-10T22:02:10.038Z"
   },
   {
    "duration": 11,
    "start_time": "2021-11-10T22:02:10.046Z"
   },
   {
    "duration": 10,
    "start_time": "2021-11-10T22:02:10.060Z"
   },
   {
    "duration": 56,
    "start_time": "2021-11-10T22:02:10.073Z"
   },
   {
    "duration": 11,
    "start_time": "2021-11-10T22:02:10.132Z"
   },
   {
    "duration": 23,
    "start_time": "2021-11-10T22:02:10.146Z"
   },
   {
    "duration": 19,
    "start_time": "2021-11-10T22:02:10.171Z"
   },
   {
    "duration": 523,
    "start_time": "2021-11-10T22:03:52.730Z"
   },
   {
    "duration": 306,
    "start_time": "2021-11-10T22:04:06.105Z"
   },
   {
    "duration": 398,
    "start_time": "2021-11-10T22:05:44.249Z"
   },
   {
    "duration": 423,
    "start_time": "2021-11-10T22:13:23.019Z"
   },
   {
    "duration": 1008,
    "start_time": "2021-11-11T00:31:10.937Z"
   },
   {
    "duration": 62,
    "start_time": "2021-11-11T00:31:11.947Z"
   },
   {
    "duration": 7,
    "start_time": "2021-11-11T00:31:12.010Z"
   },
   {
    "duration": 12,
    "start_time": "2021-11-11T00:31:12.019Z"
   },
   {
    "duration": 6,
    "start_time": "2021-11-11T00:31:12.032Z"
   },
   {
    "duration": 10,
    "start_time": "2021-11-11T00:31:12.039Z"
   },
   {
    "duration": 9,
    "start_time": "2021-11-11T00:31:12.050Z"
   },
   {
    "duration": 5,
    "start_time": "2021-11-11T00:31:12.061Z"
   },
   {
    "duration": 4,
    "start_time": "2021-11-11T00:31:12.069Z"
   },
   {
    "duration": 5,
    "start_time": "2021-11-11T00:31:12.092Z"
   },
   {
    "duration": 10,
    "start_time": "2021-11-11T00:31:12.099Z"
   },
   {
    "duration": 5,
    "start_time": "2021-11-11T00:31:12.110Z"
   },
   {
    "duration": 7,
    "start_time": "2021-11-11T00:31:12.116Z"
   },
   {
    "duration": 12,
    "start_time": "2021-11-11T00:31:12.125Z"
   },
   {
    "duration": 7,
    "start_time": "2021-11-11T00:31:12.138Z"
   },
   {
    "duration": 9,
    "start_time": "2021-11-11T00:31:12.147Z"
   },
   {
    "duration": 41,
    "start_time": "2021-11-11T00:31:12.157Z"
   },
   {
    "duration": 8,
    "start_time": "2021-11-11T00:31:12.199Z"
   },
   {
    "duration": 16,
    "start_time": "2021-11-11T00:31:12.208Z"
   },
   {
    "duration": 8,
    "start_time": "2021-11-11T00:31:12.225Z"
   },
   {
    "duration": 5,
    "start_time": "2021-11-11T00:31:12.235Z"
   },
   {
    "duration": 20,
    "start_time": "2021-11-11T00:31:12.242Z"
   },
   {
    "duration": 34,
    "start_time": "2021-11-11T00:31:12.264Z"
   },
   {
    "duration": 3,
    "start_time": "2021-11-11T00:31:12.300Z"
   },
   {
    "duration": 7,
    "start_time": "2021-11-11T00:31:12.305Z"
   },
   {
    "duration": 6,
    "start_time": "2021-11-11T00:31:12.313Z"
   },
   {
    "duration": 8,
    "start_time": "2021-11-11T00:31:12.322Z"
   },
   {
    "duration": 9,
    "start_time": "2021-11-11T00:31:12.331Z"
   },
   {
    "duration": 12,
    "start_time": "2021-11-11T00:31:12.341Z"
   },
   {
    "duration": 48,
    "start_time": "2021-11-11T00:31:12.354Z"
   },
   {
    "duration": 258,
    "start_time": "2021-11-11T00:31:12.403Z"
   },
   {
    "duration": 9,
    "start_time": "2021-11-11T00:32:14.441Z"
   },
   {
    "duration": 15,
    "start_time": "2021-11-11T00:36:07.425Z"
   },
   {
    "duration": 353,
    "start_time": "2021-11-11T00:38:07.472Z"
   },
   {
    "duration": 42,
    "start_time": "2021-11-11T00:38:43.589Z"
   },
   {
    "duration": 41,
    "start_time": "2021-11-11T00:38:54.032Z"
   },
   {
    "duration": 35,
    "start_time": "2021-11-11T00:41:53.638Z"
   },
   {
    "duration": 409,
    "start_time": "2021-11-11T00:42:13.484Z"
   },
   {
    "duration": 22,
    "start_time": "2021-11-11T00:42:42.450Z"
   },
   {
    "duration": 256,
    "start_time": "2021-11-11T00:42:43.679Z"
   },
   {
    "duration": 22,
    "start_time": "2021-11-11T00:43:03.198Z"
   },
   {
    "duration": 21,
    "start_time": "2021-11-11T00:43:40.708Z"
   },
   {
    "duration": 321,
    "start_time": "2021-11-11T00:43:54.402Z"
   },
   {
    "duration": 20,
    "start_time": "2021-11-11T00:44:58.708Z"
   },
   {
    "duration": 320,
    "start_time": "2021-11-11T00:52:59.064Z"
   },
   {
    "duration": 312,
    "start_time": "2021-11-11T00:53:08.768Z"
   },
   {
    "duration": 320,
    "start_time": "2021-11-11T00:53:24.406Z"
   },
   {
    "duration": 24,
    "start_time": "2021-11-11T00:56:24.709Z"
   },
   {
    "duration": 22,
    "start_time": "2021-11-11T01:04:17.957Z"
   },
   {
    "duration": 22,
    "start_time": "2021-11-11T01:04:55.739Z"
   },
   {
    "duration": 22,
    "start_time": "2021-11-11T01:07:29.263Z"
   },
   {
    "duration": 303,
    "start_time": "2021-11-11T01:08:07.175Z"
   },
   {
    "duration": 20,
    "start_time": "2021-11-11T01:18:11.753Z"
   },
   {
    "duration": 19,
    "start_time": "2021-11-11T01:18:30.077Z"
   },
   {
    "duration": 35,
    "start_time": "2021-11-11T01:18:50.217Z"
   },
   {
    "duration": 858,
    "start_time": "2021-11-11T01:25:04.102Z"
   },
   {
    "duration": 37,
    "start_time": "2021-11-11T01:25:21.435Z"
   },
   {
    "duration": 21,
    "start_time": "2021-11-11T01:25:45.966Z"
   },
   {
    "duration": 312,
    "start_time": "2021-11-11T01:25:57.397Z"
   },
   {
    "duration": 215,
    "start_time": "2021-11-11T01:30:42.177Z"
   },
   {
    "duration": 29,
    "start_time": "2021-11-11T01:31:03.362Z"
   },
   {
    "duration": 42,
    "start_time": "2021-11-11T01:31:18.799Z"
   },
   {
    "duration": 4676,
    "start_time": "2021-11-11T01:33:13.034Z"
   },
   {
    "duration": 246,
    "start_time": "2021-11-11T01:33:36.030Z"
   },
   {
    "duration": 181,
    "start_time": "2021-11-11T01:33:48.697Z"
   },
   {
    "duration": 246,
    "start_time": "2021-11-11T01:33:53.576Z"
   },
   {
    "duration": 41,
    "start_time": "2021-11-11T02:07:04.265Z"
   },
   {
    "duration": 240,
    "start_time": "2021-11-11T02:07:05.460Z"
   },
   {
    "duration": 10,
    "start_time": "2021-11-11T02:07:23.731Z"
   },
   {
    "duration": 13,
    "start_time": "2021-11-11T02:10:46.157Z"
   },
   {
    "duration": 13,
    "start_time": "2021-11-11T02:10:54.383Z"
   },
   {
    "duration": 214,
    "start_time": "2021-11-11T02:14:00.608Z"
   },
   {
    "duration": 1561,
    "start_time": "2021-11-11T21:50:24.224Z"
   },
   {
    "duration": 83,
    "start_time": "2021-11-11T21:50:25.788Z"
   },
   {
    "duration": 9,
    "start_time": "2021-11-11T21:50:25.874Z"
   },
   {
    "duration": 19,
    "start_time": "2021-11-11T21:50:25.886Z"
   },
   {
    "duration": 8,
    "start_time": "2021-11-11T21:50:25.907Z"
   },
   {
    "duration": 14,
    "start_time": "2021-11-11T21:50:25.918Z"
   },
   {
    "duration": 10,
    "start_time": "2021-11-11T21:50:25.934Z"
   },
   {
    "duration": 7,
    "start_time": "2021-11-11T21:50:25.946Z"
   },
   {
    "duration": 45,
    "start_time": "2021-11-11T21:50:25.957Z"
   },
   {
    "duration": 12,
    "start_time": "2021-11-11T21:50:26.005Z"
   },
   {
    "duration": 11,
    "start_time": "2021-11-11T21:50:26.019Z"
   },
   {
    "duration": 15,
    "start_time": "2021-11-11T21:50:26.032Z"
   },
   {
    "duration": 10,
    "start_time": "2021-11-11T21:50:26.050Z"
   },
   {
    "duration": 43,
    "start_time": "2021-11-11T21:50:26.062Z"
   },
   {
    "duration": 10,
    "start_time": "2021-11-11T21:50:26.107Z"
   },
   {
    "duration": 14,
    "start_time": "2021-11-11T21:50:26.119Z"
   },
   {
    "duration": 8,
    "start_time": "2021-11-11T21:50:26.135Z"
   },
   {
    "duration": 8,
    "start_time": "2021-11-11T21:50:26.145Z"
   },
   {
    "duration": 9,
    "start_time": "2021-11-11T21:50:26.200Z"
   },
   {
    "duration": 12,
    "start_time": "2021-11-11T21:50:26.211Z"
   },
   {
    "duration": 7,
    "start_time": "2021-11-11T21:50:26.225Z"
   },
   {
    "duration": 16,
    "start_time": "2021-11-11T21:50:26.234Z"
   },
   {
    "duration": 63,
    "start_time": "2021-11-11T21:50:26.252Z"
   },
   {
    "duration": 5,
    "start_time": "2021-11-11T21:50:26.317Z"
   },
   {
    "duration": 9,
    "start_time": "2021-11-11T21:50:26.325Z"
   },
   {
    "duration": 9,
    "start_time": "2021-11-11T21:50:26.336Z"
   },
   {
    "duration": 13,
    "start_time": "2021-11-11T21:50:26.350Z"
   },
   {
    "duration": 11,
    "start_time": "2021-11-11T21:50:26.402Z"
   },
   {
    "duration": 24,
    "start_time": "2021-11-11T21:50:26.416Z"
   },
   {
    "duration": 62,
    "start_time": "2021-11-11T21:50:26.443Z"
   },
   {
    "duration": 451,
    "start_time": "2021-11-11T21:50:26.508Z"
   },
   {
    "duration": 12,
    "start_time": "2021-11-11T21:50:26.963Z"
   },
   {
    "duration": 57,
    "start_time": "2021-11-11T21:50:26.978Z"
   },
   {
    "duration": 662,
    "start_time": "2021-11-11T21:50:27.038Z"
   },
   {
    "duration": 69,
    "start_time": "2021-11-11T21:50:27.703Z"
   },
   {
    "duration": 432,
    "start_time": "2021-11-11T21:50:27.775Z"
   },
   {
    "duration": 22,
    "start_time": "2021-11-11T21:50:28.210Z"
   },
   {
    "duration": 391,
    "start_time": "2021-11-11T21:50:28.235Z"
   },
   {
    "duration": 1527,
    "start_time": "2021-11-12T01:00:06.766Z"
   },
   {
    "duration": 62,
    "start_time": "2021-11-12T01:00:08.296Z"
   },
   {
    "duration": 9,
    "start_time": "2021-11-12T01:00:08.361Z"
   },
   {
    "duration": 20,
    "start_time": "2021-11-12T01:00:08.373Z"
   },
   {
    "duration": 10,
    "start_time": "2021-11-12T01:00:08.395Z"
   },
   {
    "duration": 13,
    "start_time": "2021-11-12T01:00:08.407Z"
   },
   {
    "duration": 12,
    "start_time": "2021-11-12T01:00:08.423Z"
   },
   {
    "duration": 6,
    "start_time": "2021-11-12T01:00:08.439Z"
   },
   {
    "duration": 6,
    "start_time": "2021-11-12T01:00:08.449Z"
   },
   {
    "duration": 9,
    "start_time": "2021-11-12T01:00:08.500Z"
   },
   {
    "duration": 13,
    "start_time": "2021-11-12T01:00:08.512Z"
   },
   {
    "duration": 7,
    "start_time": "2021-11-12T01:00:08.527Z"
   },
   {
    "duration": 9,
    "start_time": "2021-11-12T01:00:08.536Z"
   },
   {
    "duration": 59,
    "start_time": "2021-11-12T01:00:08.547Z"
   },
   {
    "duration": 9,
    "start_time": "2021-11-12T01:00:08.609Z"
   },
   {
    "duration": 16,
    "start_time": "2021-11-12T01:00:08.621Z"
   },
   {
    "duration": 9,
    "start_time": "2021-11-12T01:00:08.640Z"
   },
   {
    "duration": 55,
    "start_time": "2021-11-12T01:00:08.651Z"
   },
   {
    "duration": 13,
    "start_time": "2021-11-12T01:00:08.709Z"
   },
   {
    "duration": 10,
    "start_time": "2021-11-12T01:00:08.725Z"
   },
   {
    "duration": 8,
    "start_time": "2021-11-12T01:00:08.738Z"
   },
   {
    "duration": 60,
    "start_time": "2021-11-12T01:00:08.748Z"
   },
   {
    "duration": 19,
    "start_time": "2021-11-12T01:00:08.812Z"
   },
   {
    "duration": 6,
    "start_time": "2021-11-12T01:00:08.834Z"
   },
   {
    "duration": 17,
    "start_time": "2021-11-12T01:00:08.843Z"
   },
   {
    "duration": 39,
    "start_time": "2021-11-12T01:00:08.862Z"
   },
   {
    "duration": 16,
    "start_time": "2021-11-12T01:00:08.904Z"
   },
   {
    "duration": 11,
    "start_time": "2021-11-12T01:00:08.923Z"
   },
   {
    "duration": 21,
    "start_time": "2021-11-12T01:00:08.937Z"
   },
   {
    "duration": 55,
    "start_time": "2021-11-12T01:00:08.961Z"
   },
   {
    "duration": 447,
    "start_time": "2021-11-12T01:00:09.019Z"
   },
   {
    "duration": 13,
    "start_time": "2021-11-12T01:00:09.469Z"
   },
   {
    "duration": 49,
    "start_time": "2021-11-12T01:00:09.485Z"
   },
   {
    "duration": 580,
    "start_time": "2021-11-12T01:00:09.537Z"
   },
   {
    "duration": 94,
    "start_time": "2021-11-12T01:00:10.120Z"
   },
   {
    "duration": 412,
    "start_time": "2021-11-12T01:00:10.217Z"
   },
   {
    "duration": 19,
    "start_time": "2021-11-12T01:00:10.632Z"
   },
   {
    "duration": 379,
    "start_time": "2021-11-12T01:00:10.653Z"
   },
   {
    "duration": 529,
    "start_time": "2021-11-12T01:02:34.810Z"
   },
   {
    "duration": 11,
    "start_time": "2021-11-12T01:02:54.556Z"
   },
   {
    "duration": 391,
    "start_time": "2021-11-12T01:03:58.327Z"
   },
   {
    "duration": 388,
    "start_time": "2021-11-12T01:04:06.805Z"
   },
   {
    "duration": 32,
    "start_time": "2021-11-12T01:06:00.609Z"
   },
   {
    "duration": 36,
    "start_time": "2021-11-12T01:06:55.453Z"
   },
   {
    "duration": 430,
    "start_time": "2021-11-12T01:08:46.499Z"
   },
   {
    "duration": 14,
    "start_time": "2021-11-12T01:10:13.247Z"
   },
   {
    "duration": 1513,
    "start_time": "2021-11-12T01:11:57.462Z"
   },
   {
    "duration": 63,
    "start_time": "2021-11-12T01:11:58.978Z"
   },
   {
    "duration": 10,
    "start_time": "2021-11-12T01:11:59.044Z"
   },
   {
    "duration": 19,
    "start_time": "2021-11-12T01:11:59.056Z"
   },
   {
    "duration": 8,
    "start_time": "2021-11-12T01:11:59.077Z"
   },
   {
    "duration": 15,
    "start_time": "2021-11-12T01:11:59.087Z"
   },
   {
    "duration": 9,
    "start_time": "2021-11-12T01:11:59.104Z"
   },
   {
    "duration": 5,
    "start_time": "2021-11-12T01:11:59.117Z"
   },
   {
    "duration": 6,
    "start_time": "2021-11-12T01:11:59.125Z"
   },
   {
    "duration": 13,
    "start_time": "2021-11-12T01:11:59.133Z"
   },
   {
    "duration": 53,
    "start_time": "2021-11-12T01:11:59.148Z"
   },
   {
    "duration": 5,
    "start_time": "2021-11-12T01:11:59.204Z"
   },
   {
    "duration": 15,
    "start_time": "2021-11-12T01:11:59.212Z"
   },
   {
    "duration": 26,
    "start_time": "2021-11-12T01:11:59.230Z"
   },
   {
    "duration": 42,
    "start_time": "2021-11-12T01:11:59.260Z"
   },
   {
    "duration": 13,
    "start_time": "2021-11-12T01:11:59.304Z"
   },
   {
    "duration": 8,
    "start_time": "2021-11-12T01:11:59.319Z"
   },
   {
    "duration": 13,
    "start_time": "2021-11-12T01:11:59.329Z"
   },
   {
    "duration": 10,
    "start_time": "2021-11-12T01:11:59.344Z"
   },
   {
    "duration": 10,
    "start_time": "2021-11-12T01:11:59.401Z"
   },
   {
    "duration": 20,
    "start_time": "2021-11-12T01:11:59.413Z"
   },
   {
    "duration": 17,
    "start_time": "2021-11-12T01:11:59.435Z"
   },
   {
    "duration": 44,
    "start_time": "2021-11-12T01:11:59.457Z"
   },
   {
    "duration": 5,
    "start_time": "2021-11-12T01:11:59.505Z"
   },
   {
    "duration": 9,
    "start_time": "2021-11-12T01:11:59.513Z"
   },
   {
    "duration": 15,
    "start_time": "2021-11-12T01:11:59.524Z"
   },
   {
    "duration": 19,
    "start_time": "2021-11-12T01:11:59.541Z"
   },
   {
    "duration": 39,
    "start_time": "2021-11-12T01:11:59.562Z"
   },
   {
    "duration": 22,
    "start_time": "2021-11-12T01:11:59.603Z"
   },
   {
    "duration": 20,
    "start_time": "2021-11-12T01:11:59.627Z"
   },
   {
    "duration": 451,
    "start_time": "2021-11-12T01:11:59.649Z"
   },
   {
    "duration": 13,
    "start_time": "2021-11-12T01:12:00.102Z"
   },
   {
    "duration": 39,
    "start_time": "2021-11-12T01:12:00.118Z"
   },
   {
    "duration": 609,
    "start_time": "2021-11-12T01:12:00.160Z"
   },
   {
    "duration": 80,
    "start_time": "2021-11-12T01:12:00.771Z"
   },
   {
    "duration": 410,
    "start_time": "2021-11-12T01:12:00.854Z"
   },
   {
    "duration": 20,
    "start_time": "2021-11-12T01:12:01.267Z"
   },
   {
    "duration": 377,
    "start_time": "2021-11-12T01:12:01.301Z"
   },
   {
    "duration": 21,
    "start_time": "2021-11-12T01:12:01.681Z"
   },
   {
    "duration": 48,
    "start_time": "2021-11-12T01:12:01.705Z"
   },
   {
    "duration": 30,
    "start_time": "2021-11-12T01:12:01.756Z"
   },
   {
    "duration": 12,
    "start_time": "2021-11-12T01:12:47.329Z"
   },
   {
    "duration": 511,
    "start_time": "2021-11-12T01:17:08.279Z"
   },
   {
    "duration": 24,
    "start_time": "2021-11-12T01:19:55.582Z"
   },
   {
    "duration": 411,
    "start_time": "2021-11-12T01:22:52.734Z"
   },
   {
    "duration": 13,
    "start_time": "2021-11-12T01:32:41.213Z"
   },
   {
    "duration": 1689,
    "start_time": "2021-11-12T01:34:50.632Z"
   },
   {
    "duration": 36,
    "start_time": "2021-11-12T01:35:01.680Z"
   },
   {
    "duration": 18,
    "start_time": "2021-11-12T01:35:15.906Z"
   },
   {
    "duration": 17,
    "start_time": "2021-11-12T01:35:37.281Z"
   },
   {
    "duration": 9319,
    "start_time": "2021-11-12T01:36:14.370Z"
   },
   {
    "duration": 22,
    "start_time": "2021-11-12T01:37:22.920Z"
   },
   {
    "duration": 414,
    "start_time": "2021-11-12T01:37:46.714Z"
   },
   {
    "duration": 393,
    "start_time": "2021-11-12T01:39:28.618Z"
   },
   {
    "duration": 31,
    "start_time": "2021-11-12T01:40:45.760Z"
   },
   {
    "duration": 11,
    "start_time": "2021-11-12T01:41:55.720Z"
   },
   {
    "duration": 9466,
    "start_time": "2021-11-12T01:42:34.902Z"
   },
   {
    "duration": -860,
    "start_time": "2021-11-12T01:42:45.231Z"
   },
   {
    "duration": 109,
    "start_time": "2021-11-12T01:43:15.059Z"
   },
   {
    "duration": 1477,
    "start_time": "2021-11-12T01:44:49.207Z"
   },
   {
    "duration": 64,
    "start_time": "2021-11-12T01:44:50.686Z"
   },
   {
    "duration": 9,
    "start_time": "2021-11-12T01:44:50.753Z"
   },
   {
    "duration": 19,
    "start_time": "2021-11-12T01:44:50.765Z"
   },
   {
    "duration": 12,
    "start_time": "2021-11-12T01:44:50.786Z"
   },
   {
    "duration": 16,
    "start_time": "2021-11-12T01:44:50.801Z"
   },
   {
    "duration": 17,
    "start_time": "2021-11-12T01:44:50.820Z"
   },
   {
    "duration": 22,
    "start_time": "2021-11-12T01:44:50.840Z"
   },
   {
    "duration": 19,
    "start_time": "2021-11-12T01:44:50.867Z"
   },
   {
    "duration": 13,
    "start_time": "2021-11-12T01:44:50.889Z"
   },
   {
    "duration": 29,
    "start_time": "2021-11-12T01:44:50.905Z"
   },
   {
    "duration": 11,
    "start_time": "2021-11-12T01:44:50.936Z"
   },
   {
    "duration": 15,
    "start_time": "2021-11-12T01:44:50.949Z"
   },
   {
    "duration": 18,
    "start_time": "2021-11-12T01:44:50.966Z"
   },
   {
    "duration": 20,
    "start_time": "2021-11-12T01:44:50.986Z"
   },
   {
    "duration": 12,
    "start_time": "2021-11-12T01:44:51.009Z"
   },
   {
    "duration": 11,
    "start_time": "2021-11-12T01:44:51.024Z"
   },
   {
    "duration": 15,
    "start_time": "2021-11-12T01:44:51.037Z"
   },
   {
    "duration": 52,
    "start_time": "2021-11-12T01:44:51.054Z"
   },
   {
    "duration": 17,
    "start_time": "2021-11-12T01:44:51.108Z"
   },
   {
    "duration": 15,
    "start_time": "2021-11-12T01:44:51.127Z"
   },
   {
    "duration": 22,
    "start_time": "2021-11-12T01:44:51.145Z"
   },
   {
    "duration": 36,
    "start_time": "2021-11-12T01:44:51.169Z"
   },
   {
    "duration": 5,
    "start_time": "2021-11-12T01:44:51.208Z"
   },
   {
    "duration": 9,
    "start_time": "2021-11-12T01:44:51.215Z"
   },
   {
    "duration": 30,
    "start_time": "2021-11-12T01:44:51.226Z"
   },
   {
    "duration": 19,
    "start_time": "2021-11-12T01:44:51.261Z"
   },
   {
    "duration": 24,
    "start_time": "2021-11-12T01:44:51.284Z"
   },
   {
    "duration": 21,
    "start_time": "2021-11-12T01:44:51.310Z"
   },
   {
    "duration": 19,
    "start_time": "2021-11-12T01:44:51.334Z"
   },
   {
    "duration": 459,
    "start_time": "2021-11-12T01:44:51.356Z"
   },
   {
    "duration": 12,
    "start_time": "2021-11-12T01:44:51.818Z"
   },
   {
    "duration": 36,
    "start_time": "2021-11-12T01:44:51.833Z"
   },
   {
    "duration": 615,
    "start_time": "2021-11-12T01:44:51.871Z"
   },
   {
    "duration": 73,
    "start_time": "2021-11-12T01:44:52.489Z"
   },
   {
    "duration": 421,
    "start_time": "2021-11-12T01:44:52.564Z"
   },
   {
    "duration": 28,
    "start_time": "2021-11-12T01:44:52.988Z"
   },
   {
    "duration": 485,
    "start_time": "2021-11-12T01:44:53.019Z"
   },
   {
    "duration": 11,
    "start_time": "2021-11-12T01:44:53.506Z"
   },
   {
    "duration": 6,
    "start_time": "2021-11-12T01:44:53.520Z"
   },
   {
    "duration": 7,
    "start_time": "2021-11-12T01:44:53.528Z"
   },
   {
    "duration": 31,
    "start_time": "2021-11-12T01:44:53.537Z"
   },
   {
    "duration": 31,
    "start_time": "2021-11-12T01:44:53.600Z"
   },
   {
    "duration": 417,
    "start_time": "2021-11-12T01:44:53.634Z"
   },
   {
    "duration": 399,
    "start_time": "2021-11-12T01:46:51.970Z"
   },
   {
    "duration": 415,
    "start_time": "2021-11-12T01:50:01.293Z"
   },
   {
    "duration": 620,
    "start_time": "2021-11-12T02:03:35.975Z"
   },
   {
    "duration": 529,
    "start_time": "2021-11-12T02:03:52.762Z"
   },
   {
    "duration": 548,
    "start_time": "2021-11-12T02:04:00.241Z"
   },
   {
    "duration": 13,
    "start_time": "2021-11-12T02:06:03.697Z"
   },
   {
    "duration": 17,
    "start_time": "2021-11-12T02:20:07.445Z"
   },
   {
    "duration": 24,
    "start_time": "2021-11-12T02:20:55.574Z"
   },
   {
    "duration": 14,
    "start_time": "2021-11-12T02:21:20.630Z"
   },
   {
    "duration": 16,
    "start_time": "2021-11-12T02:24:19.575Z"
   },
   {
    "duration": 19,
    "start_time": "2021-11-12T02:25:28.253Z"
   },
   {
    "duration": 540,
    "start_time": "2021-11-12T02:25:58.510Z"
   },
   {
    "duration": 412,
    "start_time": "2021-11-12T02:26:31.361Z"
   },
   {
    "duration": 17,
    "start_time": "2021-11-12T02:28:35.945Z"
   },
   {
    "duration": 10853,
    "start_time": "2021-11-12T02:28:43.314Z"
   },
   {
    "duration": 13,
    "start_time": "2021-11-12T02:29:03.090Z"
   },
   {
    "duration": 14,
    "start_time": "2021-11-12T02:29:11.627Z"
   },
   {
    "duration": 126,
    "start_time": "2021-11-12T02:33:06.572Z"
   },
   {
    "duration": 133,
    "start_time": "2021-11-12T02:33:19.653Z"
   },
   {
    "duration": 126,
    "start_time": "2021-11-12T02:33:57.210Z"
   },
   {
    "duration": 394,
    "start_time": "2021-11-12T02:34:16.578Z"
   },
   {
    "duration": 384,
    "start_time": "2021-11-12T02:34:40.191Z"
   },
   {
    "duration": 10,
    "start_time": "2021-11-12T02:35:04.796Z"
   },
   {
    "duration": 17,
    "start_time": "2021-11-12T02:35:16.614Z"
   },
   {
    "duration": 457,
    "start_time": "2021-11-12T02:35:28.621Z"
   },
   {
    "duration": 433,
    "start_time": "2021-11-12T02:36:19.359Z"
   },
   {
    "duration": 391,
    "start_time": "2021-11-12T02:38:16.185Z"
   },
   {
    "duration": 404,
    "start_time": "2021-11-12T02:38:29.990Z"
   },
   {
    "duration": 647,
    "start_time": "2021-11-12T02:42:17.642Z"
   },
   {
    "duration": 361,
    "start_time": "2021-11-12T02:42:26.245Z"
   },
   {
    "duration": 394,
    "start_time": "2021-11-12T02:45:55.063Z"
   },
   {
    "duration": 8,
    "start_time": "2021-11-12T02:46:24.894Z"
   },
   {
    "duration": 10,
    "start_time": "2021-11-12T02:46:38.597Z"
   },
   {
    "duration": 710,
    "start_time": "2021-11-12T02:48:16.784Z"
   },
   {
    "duration": 629,
    "start_time": "2021-11-12T02:48:34.756Z"
   },
   {
    "duration": 409,
    "start_time": "2021-11-12T02:48:42.623Z"
   },
   {
    "duration": 429,
    "start_time": "2021-11-12T02:49:04.683Z"
   },
   {
    "duration": 377,
    "start_time": "2021-11-12T02:51:51.300Z"
   },
   {
    "duration": 388,
    "start_time": "2021-11-12T02:52:03.390Z"
   },
   {
    "duration": 14,
    "start_time": "2021-11-12T02:52:19.646Z"
   },
   {
    "duration": 410,
    "start_time": "2021-11-12T02:52:20.532Z"
   },
   {
    "duration": 15,
    "start_time": "2021-11-12T02:53:43.671Z"
   },
   {
    "duration": 9082,
    "start_time": "2021-11-12T02:53:50.189Z"
   },
   {
    "duration": 14,
    "start_time": "2021-11-12T02:54:12.567Z"
   },
   {
    "duration": 15,
    "start_time": "2021-11-12T02:55:04.534Z"
   },
   {
    "duration": 401,
    "start_time": "2021-11-12T02:55:06.246Z"
   },
   {
    "duration": 1490,
    "start_time": "2021-11-12T18:28:20.005Z"
   },
   {
    "duration": 111,
    "start_time": "2021-11-12T18:28:21.497Z"
   },
   {
    "duration": 9,
    "start_time": "2021-11-12T18:28:21.612Z"
   },
   {
    "duration": 27,
    "start_time": "2021-11-12T18:28:21.624Z"
   },
   {
    "duration": 16,
    "start_time": "2021-11-12T18:28:21.654Z"
   },
   {
    "duration": 32,
    "start_time": "2021-11-12T18:28:21.673Z"
   },
   {
    "duration": 16,
    "start_time": "2021-11-12T18:28:21.707Z"
   },
   {
    "duration": 6,
    "start_time": "2021-11-12T18:28:21.727Z"
   },
   {
    "duration": 18,
    "start_time": "2021-11-12T18:28:21.738Z"
   },
   {
    "duration": 12,
    "start_time": "2021-11-12T18:28:21.759Z"
   },
   {
    "duration": 13,
    "start_time": "2021-11-12T18:28:21.774Z"
   },
   {
    "duration": 35,
    "start_time": "2021-11-12T18:28:21.790Z"
   },
   {
    "duration": 12,
    "start_time": "2021-11-12T18:28:21.827Z"
   },
   {
    "duration": 18,
    "start_time": "2021-11-12T18:28:21.842Z"
   },
   {
    "duration": 10,
    "start_time": "2021-11-12T18:28:21.862Z"
   },
   {
    "duration": 52,
    "start_time": "2021-11-12T18:28:21.875Z"
   },
   {
    "duration": 8,
    "start_time": "2021-11-12T18:28:21.930Z"
   },
   {
    "duration": 10,
    "start_time": "2021-11-12T18:28:21.940Z"
   },
   {
    "duration": 11,
    "start_time": "2021-11-12T18:28:21.953Z"
   },
   {
    "duration": 62,
    "start_time": "2021-11-12T18:28:21.967Z"
   },
   {
    "duration": 11,
    "start_time": "2021-11-12T18:28:22.032Z"
   },
   {
    "duration": 23,
    "start_time": "2021-11-12T18:28:22.046Z"
   },
   {
    "duration": 56,
    "start_time": "2021-11-12T18:28:22.071Z"
   },
   {
    "duration": 5,
    "start_time": "2021-11-12T18:28:22.130Z"
   },
   {
    "duration": 10,
    "start_time": "2021-11-12T18:28:22.138Z"
   },
   {
    "duration": 11,
    "start_time": "2021-11-12T18:28:22.151Z"
   },
   {
    "duration": 62,
    "start_time": "2021-11-12T18:28:22.170Z"
   },
   {
    "duration": 10,
    "start_time": "2021-11-12T18:28:22.235Z"
   },
   {
    "duration": 23,
    "start_time": "2021-11-12T18:28:22.248Z"
   },
   {
    "duration": 54,
    "start_time": "2021-11-12T18:28:22.273Z"
   },
   {
    "duration": 413,
    "start_time": "2021-11-12T18:28:22.329Z"
   },
   {
    "duration": 13,
    "start_time": "2021-11-12T18:28:22.746Z"
   },
   {
    "duration": 67,
    "start_time": "2021-11-12T18:28:22.762Z"
   },
   {
    "duration": 568,
    "start_time": "2021-11-12T18:28:22.833Z"
   },
   {
    "duration": 80,
    "start_time": "2021-11-12T18:28:23.403Z"
   },
   {
    "duration": 407,
    "start_time": "2021-11-12T18:28:23.486Z"
   },
   {
    "duration": 30,
    "start_time": "2021-11-12T18:28:23.895Z"
   },
   {
    "duration": 478,
    "start_time": "2021-11-12T18:28:23.927Z"
   },
   {
    "duration": 19,
    "start_time": "2021-11-12T18:28:24.407Z"
   },
   {
    "duration": 30,
    "start_time": "2021-11-12T18:28:24.429Z"
   },
   {
    "duration": 28,
    "start_time": "2021-11-12T18:28:24.462Z"
   },
   {
    "duration": 541,
    "start_time": "2021-11-12T18:28:24.492Z"
   },
   {
    "duration": 12,
    "start_time": "2021-11-12T18:28:25.035Z"
   },
   {
    "duration": 19,
    "start_time": "2021-11-12T18:28:25.049Z"
   },
   {
    "duration": 455,
    "start_time": "2021-11-12T18:28:25.071Z"
   },
   {
    "duration": 6,
    "start_time": "2021-11-12T18:33:24.378Z"
   },
   {
    "duration": 421,
    "start_time": "2021-11-12T18:43:40.693Z"
   },
   {
    "duration": 7,
    "start_time": "2021-11-12T18:44:13.917Z"
   },
   {
    "duration": 8,
    "start_time": "2021-11-12T18:44:29.645Z"
   },
   {
    "duration": 7,
    "start_time": "2021-11-12T18:46:09.313Z"
   },
   {
    "duration": 277,
    "start_time": "2021-11-12T18:46:35.749Z"
   },
   {
    "duration": 7,
    "start_time": "2021-11-12T18:47:17.660Z"
   },
   {
    "duration": 282,
    "start_time": "2021-11-12T18:49:15.488Z"
   },
   {
    "duration": 7,
    "start_time": "2021-11-12T18:49:32.686Z"
   },
   {
    "duration": 6,
    "start_time": "2021-11-12T18:50:43.095Z"
   },
   {
    "duration": 12,
    "start_time": "2021-11-12T19:03:55.024Z"
   },
   {
    "duration": 618,
    "start_time": "2021-11-12T19:05:10.684Z"
   },
   {
    "duration": 515,
    "start_time": "2021-11-12T19:05:25.699Z"
   },
   {
    "duration": 592,
    "start_time": "2021-11-12T19:08:55.433Z"
   },
   {
    "duration": 671,
    "start_time": "2021-11-12T19:11:25.370Z"
   },
   {
    "duration": 367,
    "start_time": "2021-11-12T19:12:58.455Z"
   },
   {
    "duration": 385,
    "start_time": "2021-11-12T19:13:56.278Z"
   },
   {
    "duration": 442,
    "start_time": "2021-11-12T19:14:04.614Z"
   },
   {
    "duration": 1108,
    "start_time": "2021-11-12T21:43:52.995Z"
   },
   {
    "duration": 64,
    "start_time": "2021-11-12T21:43:54.105Z"
   },
   {
    "duration": 6,
    "start_time": "2021-11-12T21:43:54.171Z"
   },
   {
    "duration": 13,
    "start_time": "2021-11-12T21:43:54.179Z"
   },
   {
    "duration": 7,
    "start_time": "2021-11-12T21:43:54.194Z"
   },
   {
    "duration": 13,
    "start_time": "2021-11-12T21:43:54.202Z"
   },
   {
    "duration": 7,
    "start_time": "2021-11-12T21:43:54.216Z"
   },
   {
    "duration": 6,
    "start_time": "2021-11-12T21:43:54.224Z"
   },
   {
    "duration": 11,
    "start_time": "2021-11-12T21:43:54.233Z"
   },
   {
    "duration": 6,
    "start_time": "2021-11-12T21:43:54.246Z"
   },
   {
    "duration": 9,
    "start_time": "2021-11-12T21:43:54.254Z"
   },
   {
    "duration": 6,
    "start_time": "2021-11-12T21:43:54.265Z"
   },
   {
    "duration": 9,
    "start_time": "2021-11-12T21:43:54.273Z"
   },
   {
    "duration": 13,
    "start_time": "2021-11-12T21:43:54.283Z"
   },
   {
    "duration": 7,
    "start_time": "2021-11-12T21:43:54.298Z"
   },
   {
    "duration": 39,
    "start_time": "2021-11-12T21:43:54.307Z"
   },
   {
    "duration": 6,
    "start_time": "2021-11-12T21:43:54.348Z"
   },
   {
    "duration": 9,
    "start_time": "2021-11-12T21:43:54.355Z"
   },
   {
    "duration": 9,
    "start_time": "2021-11-12T21:43:54.365Z"
   },
   {
    "duration": 7,
    "start_time": "2021-11-12T21:43:54.376Z"
   },
   {
    "duration": 5,
    "start_time": "2021-11-12T21:43:54.385Z"
   },
   {
    "duration": 58,
    "start_time": "2021-11-12T21:43:54.391Z"
   },
   {
    "duration": 9,
    "start_time": "2021-11-12T21:43:54.451Z"
   },
   {
    "duration": 3,
    "start_time": "2021-11-12T21:43:54.463Z"
   },
   {
    "duration": 10,
    "start_time": "2021-11-12T21:43:54.468Z"
   },
   {
    "duration": 9,
    "start_time": "2021-11-12T21:43:54.479Z"
   },
   {
    "duration": 9,
    "start_time": "2021-11-12T21:43:54.492Z"
   },
   {
    "duration": 7,
    "start_time": "2021-11-12T21:43:54.503Z"
   },
   {
    "duration": 48,
    "start_time": "2021-11-12T21:43:54.511Z"
   },
   {
    "duration": 13,
    "start_time": "2021-11-12T21:43:54.561Z"
   },
   {
    "duration": 268,
    "start_time": "2021-11-12T21:43:54.576Z"
   },
   {
    "duration": 8,
    "start_time": "2021-11-12T21:43:54.846Z"
   },
   {
    "duration": 24,
    "start_time": "2021-11-12T21:43:54.856Z"
   },
   {
    "duration": 321,
    "start_time": "2021-11-12T21:43:54.882Z"
   },
   {
    "duration": 49,
    "start_time": "2021-11-12T21:43:55.205Z"
   },
   {
    "duration": 243,
    "start_time": "2021-11-12T21:43:55.256Z"
   },
   {
    "duration": 17,
    "start_time": "2021-11-12T21:43:55.501Z"
   },
   {
    "duration": 346,
    "start_time": "2021-11-12T21:43:55.520Z"
   },
   {
    "duration": 7,
    "start_time": "2021-11-12T21:43:55.868Z"
   },
   {
    "duration": 19,
    "start_time": "2021-11-12T21:43:55.876Z"
   },
   {
    "duration": 16,
    "start_time": "2021-11-12T21:43:55.897Z"
   },
   {
    "duration": 377,
    "start_time": "2021-11-12T21:43:55.914Z"
   },
   {
    "duration": 8,
    "start_time": "2021-11-12T21:43:56.292Z"
   },
   {
    "duration": 11,
    "start_time": "2021-11-12T21:43:56.301Z"
   },
   {
    "duration": 318,
    "start_time": "2021-11-12T21:43:56.314Z"
   },
   {
    "duration": 13,
    "start_time": "2021-11-12T21:43:56.633Z"
   },
   {
    "duration": 12,
    "start_time": "2021-11-12T21:43:56.648Z"
   },
   {
    "duration": 296,
    "start_time": "2021-11-12T21:43:56.661Z"
   },
   {
    "duration": 381,
    "start_time": "2021-11-12T21:43:56.959Z"
   },
   {
    "duration": 5,
    "start_time": "2021-11-12T21:45:23.184Z"
   },
   {
    "duration": 4,
    "start_time": "2021-11-12T21:48:49.456Z"
   },
   {
    "duration": 3,
    "start_time": "2021-11-12T21:50:02.526Z"
   },
   {
    "duration": 5,
    "start_time": "2021-11-12T21:50:09.708Z"
   },
   {
    "duration": 5,
    "start_time": "2021-11-12T21:50:36.760Z"
   },
   {
    "duration": 4,
    "start_time": "2021-11-12T21:52:10.170Z"
   },
   {
    "duration": 4,
    "start_time": "2021-11-12T21:52:23.251Z"
   },
   {
    "duration": 5,
    "start_time": "2021-11-12T21:52:28.316Z"
   },
   {
    "duration": 5,
    "start_time": "2021-11-12T21:52:41.102Z"
   },
   {
    "duration": 325,
    "start_time": "2021-11-12T21:53:19.314Z"
   },
   {
    "duration": 324,
    "start_time": "2021-11-12T21:59:19.340Z"
   },
   {
    "duration": 9,
    "start_time": "2021-11-12T22:13:44.901Z"
   },
   {
    "duration": 10,
    "start_time": "2021-11-12T22:14:03.560Z"
   },
   {
    "duration": 23,
    "start_time": "2021-11-12T22:14:10.527Z"
   },
   {
    "duration": 9,
    "start_time": "2021-11-12T22:14:46.802Z"
   },
   {
    "duration": 10,
    "start_time": "2021-11-12T22:14:52.928Z"
   },
   {
    "duration": 8,
    "start_time": "2021-11-12T22:15:06.111Z"
   },
   {
    "duration": 431,
    "start_time": "2021-11-12T22:15:10.425Z"
   },
   {
    "duration": 329,
    "start_time": "2021-11-12T22:15:15.646Z"
   },
   {
    "duration": 4,
    "start_time": "2021-11-12T22:15:23.342Z"
   },
   {
    "duration": 1179,
    "start_time": "2021-11-13T00:49:39.916Z"
   },
   {
    "duration": 63,
    "start_time": "2021-11-13T00:49:41.097Z"
   },
   {
    "duration": 7,
    "start_time": "2021-11-13T00:49:41.163Z"
   },
   {
    "duration": 12,
    "start_time": "2021-11-13T00:49:41.172Z"
   },
   {
    "duration": 8,
    "start_time": "2021-11-13T00:49:41.186Z"
   },
   {
    "duration": 11,
    "start_time": "2021-11-13T00:49:41.195Z"
   },
   {
    "duration": 6,
    "start_time": "2021-11-13T00:49:41.208Z"
   },
   {
    "duration": 5,
    "start_time": "2021-11-13T00:49:41.216Z"
   },
   {
    "duration": 4,
    "start_time": "2021-11-13T00:49:41.247Z"
   },
   {
    "duration": 7,
    "start_time": "2021-11-13T00:49:41.254Z"
   },
   {
    "duration": 9,
    "start_time": "2021-11-13T00:49:41.263Z"
   },
   {
    "duration": 5,
    "start_time": "2021-11-13T00:49:41.274Z"
   },
   {
    "duration": 7,
    "start_time": "2021-11-13T00:49:41.281Z"
   },
   {
    "duration": 13,
    "start_time": "2021-11-13T00:49:41.289Z"
   },
   {
    "duration": 47,
    "start_time": "2021-11-13T00:49:41.304Z"
   },
   {
    "duration": 12,
    "start_time": "2021-11-13T00:49:41.353Z"
   },
   {
    "duration": 8,
    "start_time": "2021-11-13T00:49:41.367Z"
   },
   {
    "duration": 10,
    "start_time": "2021-11-13T00:49:41.377Z"
   },
   {
    "duration": 8,
    "start_time": "2021-11-13T00:49:41.389Z"
   },
   {
    "duration": 9,
    "start_time": "2021-11-13T00:49:41.446Z"
   },
   {
    "duration": 8,
    "start_time": "2021-11-13T00:49:41.457Z"
   },
   {
    "duration": 15,
    "start_time": "2021-11-13T00:49:41.467Z"
   },
   {
    "duration": 10,
    "start_time": "2021-11-13T00:49:41.485Z"
   },
   {
    "duration": 3,
    "start_time": "2021-11-13T00:49:41.497Z"
   },
   {
    "duration": 43,
    "start_time": "2021-11-13T00:49:41.502Z"
   },
   {
    "duration": 6,
    "start_time": "2021-11-13T00:49:41.547Z"
   },
   {
    "duration": 9,
    "start_time": "2021-11-13T00:49:41.557Z"
   },
   {
    "duration": 8,
    "start_time": "2021-11-13T00:49:41.568Z"
   },
   {
    "duration": 14,
    "start_time": "2021-11-13T00:49:41.578Z"
   },
   {
    "duration": 12,
    "start_time": "2021-11-13T00:49:41.594Z"
   },
   {
    "duration": 256,
    "start_time": "2021-11-13T00:49:41.644Z"
   },
   {
    "duration": 8,
    "start_time": "2021-11-13T00:49:41.901Z"
   },
   {
    "duration": 36,
    "start_time": "2021-11-13T00:49:41.910Z"
   },
   {
    "duration": 336,
    "start_time": "2021-11-13T00:49:41.948Z"
   },
   {
    "duration": 359,
    "start_time": "2021-11-13T00:49:42.285Z"
   },
   {
    "duration": 244,
    "start_time": "2021-11-13T00:49:42.402Z"
   },
   {
    "duration": 234,
    "start_time": "2021-11-13T00:49:42.414Z"
   },
   {
    "duration": 225,
    "start_time": "2021-11-13T00:49:42.424Z"
   },
   {
    "duration": 214,
    "start_time": "2021-11-13T00:49:42.437Z"
   },
   {
    "duration": 205,
    "start_time": "2021-11-13T00:49:42.447Z"
   },
   {
    "duration": 194,
    "start_time": "2021-11-13T00:49:42.459Z"
   },
   {
    "duration": 185,
    "start_time": "2021-11-13T00:49:42.470Z"
   },
   {
    "duration": 175,
    "start_time": "2021-11-13T00:49:42.481Z"
   },
   {
    "duration": 165,
    "start_time": "2021-11-13T00:49:42.492Z"
   },
   {
    "duration": 156,
    "start_time": "2021-11-13T00:49:42.503Z"
   },
   {
    "duration": 147,
    "start_time": "2021-11-13T00:49:42.513Z"
   },
   {
    "duration": 137,
    "start_time": "2021-11-13T00:49:42.524Z"
   },
   {
    "duration": 127,
    "start_time": "2021-11-13T00:49:42.536Z"
   },
   {
    "duration": 117,
    "start_time": "2021-11-13T00:49:42.547Z"
   },
   {
    "duration": 107,
    "start_time": "2021-11-13T00:49:42.558Z"
   },
   {
    "duration": 9,
    "start_time": "2021-11-13T00:54:23.721Z"
   },
   {
    "duration": 1258,
    "start_time": "2021-11-13T00:55:30.784Z"
   },
   {
    "duration": 66,
    "start_time": "2021-11-13T00:55:32.044Z"
   },
   {
    "duration": 6,
    "start_time": "2021-11-13T00:55:32.112Z"
   },
   {
    "duration": 14,
    "start_time": "2021-11-13T00:55:32.120Z"
   },
   {
    "duration": 6,
    "start_time": "2021-11-13T00:55:32.136Z"
   },
   {
    "duration": 11,
    "start_time": "2021-11-13T00:55:32.144Z"
   },
   {
    "duration": 11,
    "start_time": "2021-11-13T00:55:32.157Z"
   },
   {
    "duration": 12,
    "start_time": "2021-11-13T00:55:32.170Z"
   },
   {
    "duration": 5,
    "start_time": "2021-11-13T00:55:32.186Z"
   },
   {
    "duration": 16,
    "start_time": "2021-11-13T00:55:32.193Z"
   },
   {
    "duration": 10,
    "start_time": "2021-11-13T00:55:32.211Z"
   },
   {
    "duration": 25,
    "start_time": "2021-11-13T00:55:32.222Z"
   },
   {
    "duration": 12,
    "start_time": "2021-11-13T00:55:32.249Z"
   },
   {
    "duration": 15,
    "start_time": "2021-11-13T00:55:32.263Z"
   },
   {
    "duration": 7,
    "start_time": "2021-11-13T00:55:32.280Z"
   },
   {
    "duration": 17,
    "start_time": "2021-11-13T00:55:32.289Z"
   },
   {
    "duration": 10,
    "start_time": "2021-11-13T00:55:32.307Z"
   },
   {
    "duration": 33,
    "start_time": "2021-11-13T00:55:32.319Z"
   },
   {
    "duration": 20,
    "start_time": "2021-11-13T00:55:32.354Z"
   },
   {
    "duration": 18,
    "start_time": "2021-11-13T00:55:32.377Z"
   },
   {
    "duration": 26,
    "start_time": "2021-11-13T00:55:32.396Z"
   },
   {
    "duration": 10,
    "start_time": "2021-11-13T00:55:32.423Z"
   },
   {
    "duration": 8,
    "start_time": "2021-11-13T00:55:32.435Z"
   },
   {
    "duration": 4,
    "start_time": "2021-11-13T00:55:32.446Z"
   },
   {
    "duration": 9,
    "start_time": "2021-11-13T00:55:32.452Z"
   },
   {
    "duration": 8,
    "start_time": "2021-11-13T00:55:32.463Z"
   },
   {
    "duration": 14,
    "start_time": "2021-11-13T00:55:32.476Z"
   },
   {
    "duration": 6,
    "start_time": "2021-11-13T00:55:32.493Z"
   },
   {
    "duration": 43,
    "start_time": "2021-11-13T00:55:32.501Z"
   },
   {
    "duration": 18,
    "start_time": "2021-11-13T00:55:32.547Z"
   },
   {
    "duration": 304,
    "start_time": "2021-11-13T00:55:32.568Z"
   },
   {
    "duration": 14,
    "start_time": "2021-11-13T00:55:32.874Z"
   },
   {
    "duration": 23,
    "start_time": "2021-11-13T00:55:32.890Z"
   },
   {
    "duration": 386,
    "start_time": "2021-11-13T00:55:32.914Z"
   },
   {
    "duration": 360,
    "start_time": "2021-11-13T00:55:33.302Z"
   },
   {
    "duration": -17,
    "start_time": "2021-11-13T00:55:33.681Z"
   },
   {
    "duration": -27,
    "start_time": "2021-11-13T00:55:33.691Z"
   },
   {
    "duration": -36,
    "start_time": "2021-11-13T00:55:33.701Z"
   },
   {
    "duration": -44,
    "start_time": "2021-11-13T00:55:33.711Z"
   },
   {
    "duration": -75,
    "start_time": "2021-11-13T00:55:33.743Z"
   },
   {
    "duration": -125,
    "start_time": "2021-11-13T00:55:33.794Z"
   },
   {
    "duration": -135,
    "start_time": "2021-11-13T00:55:33.805Z"
   },
   {
    "duration": -144,
    "start_time": "2021-11-13T00:55:33.815Z"
   },
   {
    "duration": -152,
    "start_time": "2021-11-13T00:55:33.825Z"
   },
   {
    "duration": -162,
    "start_time": "2021-11-13T00:55:33.836Z"
   },
   {
    "duration": -171,
    "start_time": "2021-11-13T00:55:33.846Z"
   },
   {
    "duration": -183,
    "start_time": "2021-11-13T00:55:33.858Z"
   },
   {
    "duration": -195,
    "start_time": "2021-11-13T00:55:33.871Z"
   },
   {
    "duration": -204,
    "start_time": "2021-11-13T00:55:33.881Z"
   },
   {
    "duration": -213,
    "start_time": "2021-11-13T00:55:33.892Z"
   },
   {
    "duration": 40,
    "start_time": "2021-11-13T00:56:01.692Z"
   },
   {
    "duration": 1101,
    "start_time": "2021-11-13T00:56:09.572Z"
   },
   {
    "duration": 61,
    "start_time": "2021-11-13T00:56:10.675Z"
   },
   {
    "duration": 6,
    "start_time": "2021-11-13T00:56:10.738Z"
   },
   {
    "duration": 12,
    "start_time": "2021-11-13T00:56:10.746Z"
   },
   {
    "duration": 10,
    "start_time": "2021-11-13T00:56:10.759Z"
   },
   {
    "duration": 9,
    "start_time": "2021-11-13T00:56:10.771Z"
   },
   {
    "duration": 7,
    "start_time": "2021-11-13T00:56:10.781Z"
   },
   {
    "duration": 5,
    "start_time": "2021-11-13T00:56:10.790Z"
   },
   {
    "duration": 5,
    "start_time": "2021-11-13T00:56:10.798Z"
   },
   {
    "duration": 6,
    "start_time": "2021-11-13T00:56:10.805Z"
   },
   {
    "duration": 38,
    "start_time": "2021-11-13T00:56:10.812Z"
   },
   {
    "duration": 5,
    "start_time": "2021-11-13T00:56:10.852Z"
   },
   {
    "duration": 7,
    "start_time": "2021-11-13T00:56:10.859Z"
   },
   {
    "duration": 12,
    "start_time": "2021-11-13T00:56:10.867Z"
   },
   {
    "duration": 8,
    "start_time": "2021-11-13T00:56:10.881Z"
   },
   {
    "duration": 8,
    "start_time": "2021-11-13T00:56:10.890Z"
   },
   {
    "duration": 5,
    "start_time": "2021-11-13T00:56:10.899Z"
   },
   {
    "duration": 44,
    "start_time": "2021-11-13T00:56:10.906Z"
   },
   {
    "duration": 7,
    "start_time": "2021-11-13T00:56:10.952Z"
   },
   {
    "duration": 8,
    "start_time": "2021-11-13T00:56:10.961Z"
   },
   {
    "duration": 6,
    "start_time": "2021-11-13T00:56:10.971Z"
   },
   {
    "duration": 10,
    "start_time": "2021-11-13T00:56:10.979Z"
   },
   {
    "duration": 8,
    "start_time": "2021-11-13T00:56:10.991Z"
   },
   {
    "duration": 46,
    "start_time": "2021-11-13T00:56:11.000Z"
   },
   {
    "duration": 8,
    "start_time": "2021-11-13T00:56:11.048Z"
   },
   {
    "duration": 9,
    "start_time": "2021-11-13T00:56:11.058Z"
   },
   {
    "duration": 10,
    "start_time": "2021-11-13T00:56:11.070Z"
   },
   {
    "duration": 9,
    "start_time": "2021-11-13T00:56:11.083Z"
   },
   {
    "duration": 14,
    "start_time": "2021-11-13T00:56:11.093Z"
   },
   {
    "duration": 46,
    "start_time": "2021-11-13T00:56:11.109Z"
   },
   {
    "duration": 240,
    "start_time": "2021-11-13T00:56:11.157Z"
   },
   {
    "duration": 8,
    "start_time": "2021-11-13T00:56:11.398Z"
   },
   {
    "duration": 28,
    "start_time": "2021-11-13T00:56:11.407Z"
   },
   {
    "duration": 326,
    "start_time": "2021-11-13T00:56:11.436Z"
   },
   {
    "duration": 41,
    "start_time": "2021-11-13T00:56:11.763Z"
   },
   {
    "duration": 261,
    "start_time": "2021-11-13T00:56:11.805Z"
   },
   {
    "duration": 12,
    "start_time": "2021-11-13T00:56:12.068Z"
   },
   {
    "duration": 311,
    "start_time": "2021-11-13T00:56:12.081Z"
   },
   {
    "duration": 7,
    "start_time": "2021-11-13T00:56:12.394Z"
   },
   {
    "duration": 32,
    "start_time": "2021-11-13T00:56:12.402Z"
   },
   {
    "duration": 24,
    "start_time": "2021-11-13T00:56:12.436Z"
   },
   {
    "duration": 340,
    "start_time": "2021-11-13T00:56:12.461Z"
   },
   {
    "duration": 8,
    "start_time": "2021-11-13T00:56:12.803Z"
   },
   {
    "duration": 10,
    "start_time": "2021-11-13T00:56:12.813Z"
   },
   {
    "duration": 305,
    "start_time": "2021-11-13T00:56:12.825Z"
   },
   {
    "duration": 12,
    "start_time": "2021-11-13T00:56:13.132Z"
   },
   {
    "duration": 8,
    "start_time": "2021-11-13T00:56:13.146Z"
   },
   {
    "duration": 339,
    "start_time": "2021-11-13T00:56:13.156Z"
   },
   {
    "duration": 248,
    "start_time": "2021-11-13T00:56:13.249Z"
   },
   {
    "duration": 236,
    "start_time": "2021-11-13T00:56:13.262Z"
   },
   {
    "duration": 277,
    "start_time": "2021-11-13T00:57:42.003Z"
   },
   {
    "duration": 390,
    "start_time": "2021-11-13T00:57:43.377Z"
   },
   {
    "duration": 4,
    "start_time": "2021-11-13T00:57:46.237Z"
   },
   {
    "duration": 37,
    "start_time": "2021-11-13T00:59:18.980Z"
   },
   {
    "duration": 38,
    "start_time": "2021-11-13T00:59:27.300Z"
   },
   {
    "duration": 28,
    "start_time": "2021-11-13T00:59:40.547Z"
   },
   {
    "duration": 10,
    "start_time": "2021-11-13T01:02:03.401Z"
   },
   {
    "duration": 10,
    "start_time": "2021-11-13T01:02:07.411Z"
   },
   {
    "duration": 11,
    "start_time": "2021-11-13T01:03:08.193Z"
   },
   {
    "duration": 1088,
    "start_time": "2021-11-13T01:04:31.689Z"
   },
   {
    "duration": 63,
    "start_time": "2021-11-13T01:04:32.779Z"
   },
   {
    "duration": 7,
    "start_time": "2021-11-13T01:04:32.844Z"
   },
   {
    "duration": 12,
    "start_time": "2021-11-13T01:04:32.854Z"
   },
   {
    "duration": 8,
    "start_time": "2021-11-13T01:04:32.868Z"
   },
   {
    "duration": 10,
    "start_time": "2021-11-13T01:04:32.877Z"
   },
   {
    "duration": 7,
    "start_time": "2021-11-13T01:04:32.888Z"
   },
   {
    "duration": 5,
    "start_time": "2021-11-13T01:04:32.898Z"
   },
   {
    "duration": 41,
    "start_time": "2021-11-13T01:04:32.905Z"
   },
   {
    "duration": 12,
    "start_time": "2021-11-13T01:04:32.948Z"
   },
   {
    "duration": 11,
    "start_time": "2021-11-13T01:04:32.961Z"
   },
   {
    "duration": 6,
    "start_time": "2021-11-13T01:04:32.973Z"
   },
   {
    "duration": 14,
    "start_time": "2021-11-13T01:04:32.981Z"
   },
   {
    "duration": 12,
    "start_time": "2021-11-13T01:04:32.997Z"
   },
   {
    "duration": 17,
    "start_time": "2021-11-13T01:04:33.010Z"
   },
   {
    "duration": 10,
    "start_time": "2021-11-13T01:04:33.044Z"
   },
   {
    "duration": 6,
    "start_time": "2021-11-13T01:04:33.055Z"
   },
   {
    "duration": 11,
    "start_time": "2021-11-13T01:04:33.063Z"
   },
   {
    "duration": 19,
    "start_time": "2021-11-13T01:04:33.076Z"
   },
   {
    "duration": 13,
    "start_time": "2021-11-13T01:04:33.097Z"
   },
   {
    "duration": 9,
    "start_time": "2021-11-13T01:04:33.111Z"
   },
   {
    "duration": 30,
    "start_time": "2021-11-13T01:04:33.121Z"
   },
   {
    "duration": 8,
    "start_time": "2021-11-13T01:04:33.155Z"
   },
   {
    "duration": 3,
    "start_time": "2021-11-13T01:04:33.166Z"
   },
   {
    "duration": 9,
    "start_time": "2021-11-13T01:04:33.171Z"
   },
   {
    "duration": 21,
    "start_time": "2021-11-13T01:04:33.182Z"
   },
   {
    "duration": 14,
    "start_time": "2021-11-13T01:04:33.205Z"
   },
   {
    "duration": 7,
    "start_time": "2021-11-13T01:04:33.220Z"
   },
   {
    "duration": 29,
    "start_time": "2021-11-13T01:04:33.228Z"
   },
   {
    "duration": 13,
    "start_time": "2021-11-13T01:04:33.258Z"
   },
   {
    "duration": 283,
    "start_time": "2021-11-13T01:04:33.272Z"
   },
   {
    "duration": 10,
    "start_time": "2021-11-13T01:04:33.557Z"
   },
   {
    "duration": 28,
    "start_time": "2021-11-13T01:04:33.568Z"
   },
   {
    "duration": 319,
    "start_time": "2021-11-13T01:04:33.597Z"
   },
   {
    "duration": 46,
    "start_time": "2021-11-13T01:04:33.918Z"
   },
   {
    "duration": 235,
    "start_time": "2021-11-13T01:04:33.966Z"
   },
   {
    "duration": 12,
    "start_time": "2021-11-13T01:04:34.203Z"
   },
   {
    "duration": 360,
    "start_time": "2021-11-13T01:04:34.217Z"
   },
   {
    "duration": 7,
    "start_time": "2021-11-13T01:04:34.579Z"
   },
   {
    "duration": 23,
    "start_time": "2021-11-13T01:04:34.588Z"
   },
   {
    "duration": 17,
    "start_time": "2021-11-13T01:04:34.613Z"
   },
   {
    "duration": 354,
    "start_time": "2021-11-13T01:04:34.645Z"
   },
   {
    "duration": 9,
    "start_time": "2021-11-13T01:04:35.000Z"
   },
   {
    "duration": 34,
    "start_time": "2021-11-13T01:04:35.010Z"
   },
   {
    "duration": 304,
    "start_time": "2021-11-13T01:04:35.045Z"
   },
   {
    "duration": 4,
    "start_time": "2021-11-13T01:04:35.351Z"
   },
   {
    "duration": 15,
    "start_time": "2021-11-13T01:04:35.356Z"
   },
   {
    "duration": 299,
    "start_time": "2021-11-13T01:04:35.373Z"
   },
   {
    "duration": 393,
    "start_time": "2021-11-13T01:04:35.674Z"
   },
   {
    "duration": 4,
    "start_time": "2021-11-13T01:04:36.069Z"
   },
   {
    "duration": 20,
    "start_time": "2021-11-13T01:04:36.074Z"
   },
   {
    "duration": 347,
    "start_time": "2021-11-13T01:11:09.727Z"
   },
   {
    "duration": 3,
    "start_time": "2021-11-13T01:11:59.248Z"
   },
   {
    "duration": 6,
    "start_time": "2021-11-13T01:12:06.572Z"
   },
   {
    "duration": 5,
    "start_time": "2021-11-13T01:13:20.384Z"
   },
   {
    "duration": 6,
    "start_time": "2021-11-13T01:15:17.784Z"
   },
   {
    "duration": 9,
    "start_time": "2021-11-13T01:18:19.114Z"
   },
   {
    "duration": 7,
    "start_time": "2021-11-13T01:18:30.350Z"
   },
   {
    "duration": 8,
    "start_time": "2021-11-13T01:18:33.169Z"
   },
   {
    "duration": 10,
    "start_time": "2021-11-13T01:20:47.473Z"
   },
   {
    "duration": 386,
    "start_time": "2021-11-13T01:24:02.878Z"
   },
   {
    "duration": 261,
    "start_time": "2021-11-13T01:24:06.745Z"
   },
   {
    "duration": 24,
    "start_time": "2021-11-13T01:24:35.714Z"
   },
   {
    "duration": 22,
    "start_time": "2021-11-13T01:24:40.369Z"
   },
   {
    "duration": 22,
    "start_time": "2021-11-13T01:25:25.607Z"
   },
   {
    "duration": 7,
    "start_time": "2021-11-13T01:25:34.882Z"
   },
   {
    "duration": 18,
    "start_time": "2021-11-13T01:27:24.161Z"
   },
   {
    "duration": 20,
    "start_time": "2021-11-13T01:27:31.876Z"
   },
   {
    "duration": 1083,
    "start_time": "2021-11-13T01:28:12.027Z"
   },
   {
    "duration": 20,
    "start_time": "2021-11-13T01:28:20.172Z"
   },
   {
    "duration": 11,
    "start_time": "2021-11-13T01:29:25.144Z"
   },
   {
    "duration": 14,
    "start_time": "2021-11-13T01:30:57.951Z"
   },
   {
    "duration": 6,
    "start_time": "2021-11-13T01:31:37.716Z"
   },
   {
    "duration": 9,
    "start_time": "2021-11-13T01:34:37.768Z"
   },
   {
    "duration": 2528,
    "start_time": "2021-11-13T01:37:26.973Z"
   },
   {
    "duration": 66,
    "start_time": "2021-11-13T01:37:29.503Z"
   },
   {
    "duration": 6,
    "start_time": "2021-11-13T01:37:29.571Z"
   },
   {
    "duration": 20,
    "start_time": "2021-11-13T01:37:29.580Z"
   },
   {
    "duration": 18,
    "start_time": "2021-11-13T01:37:29.602Z"
   },
   {
    "duration": 20,
    "start_time": "2021-11-13T01:37:29.622Z"
   },
   {
    "duration": 17,
    "start_time": "2021-11-13T01:37:29.644Z"
   },
   {
    "duration": 10,
    "start_time": "2021-11-13T01:37:29.664Z"
   },
   {
    "duration": 9,
    "start_time": "2021-11-13T01:37:29.676Z"
   },
   {
    "duration": 16,
    "start_time": "2021-11-13T01:37:29.687Z"
   },
   {
    "duration": 16,
    "start_time": "2021-11-13T01:37:29.704Z"
   },
   {
    "duration": 6,
    "start_time": "2021-11-13T01:37:29.722Z"
   },
   {
    "duration": 8,
    "start_time": "2021-11-13T01:37:29.730Z"
   },
   {
    "duration": 15,
    "start_time": "2021-11-13T01:37:29.740Z"
   },
   {
    "duration": 9,
    "start_time": "2021-11-13T01:37:29.757Z"
   },
   {
    "duration": 23,
    "start_time": "2021-11-13T01:37:29.768Z"
   },
   {
    "duration": 7,
    "start_time": "2021-11-13T01:37:29.793Z"
   },
   {
    "duration": 16,
    "start_time": "2021-11-13T01:37:29.802Z"
   },
   {
    "duration": 13,
    "start_time": "2021-11-13T01:37:29.819Z"
   },
   {
    "duration": 20,
    "start_time": "2021-11-13T01:37:29.833Z"
   },
   {
    "duration": 11,
    "start_time": "2021-11-13T01:37:29.854Z"
   },
   {
    "duration": 14,
    "start_time": "2021-11-13T01:37:29.866Z"
   },
   {
    "duration": 16,
    "start_time": "2021-11-13T01:37:29.884Z"
   },
   {
    "duration": 7,
    "start_time": "2021-11-13T01:37:29.902Z"
   },
   {
    "duration": 14,
    "start_time": "2021-11-13T01:37:29.910Z"
   },
   {
    "duration": 24,
    "start_time": "2021-11-13T01:37:29.926Z"
   },
   {
    "duration": 10,
    "start_time": "2021-11-13T01:37:29.952Z"
   },
   {
    "duration": 7,
    "start_time": "2021-11-13T01:37:29.964Z"
   },
   {
    "duration": 18,
    "start_time": "2021-11-13T01:37:29.973Z"
   },
   {
    "duration": 16,
    "start_time": "2021-11-13T01:37:29.993Z"
   },
   {
    "duration": 267,
    "start_time": "2021-11-13T01:37:30.011Z"
   },
   {
    "duration": 8,
    "start_time": "2021-11-13T01:37:30.280Z"
   },
   {
    "duration": 41,
    "start_time": "2021-11-13T01:37:30.289Z"
   },
   {
    "duration": 299,
    "start_time": "2021-11-13T01:37:30.331Z"
   },
   {
    "duration": 43,
    "start_time": "2021-11-13T01:37:30.631Z"
   },
   {
    "duration": 246,
    "start_time": "2021-11-13T01:37:30.676Z"
   },
   {
    "duration": 21,
    "start_time": "2021-11-13T01:37:30.924Z"
   },
   {
    "duration": 330,
    "start_time": "2021-11-13T01:37:30.947Z"
   },
   {
    "duration": 7,
    "start_time": "2021-11-13T01:37:31.278Z"
   },
   {
    "duration": 26,
    "start_time": "2021-11-13T01:37:31.287Z"
   },
   {
    "duration": 30,
    "start_time": "2021-11-13T01:37:31.315Z"
   },
   {
    "duration": 344,
    "start_time": "2021-11-13T01:37:31.347Z"
   },
   {
    "duration": 8,
    "start_time": "2021-11-13T01:37:31.693Z"
   },
   {
    "duration": 15,
    "start_time": "2021-11-13T01:37:31.702Z"
   },
   {
    "duration": 315,
    "start_time": "2021-11-13T01:37:31.719Z"
   },
   {
    "duration": 5,
    "start_time": "2021-11-13T01:37:32.044Z"
   },
   {
    "duration": 17,
    "start_time": "2021-11-13T01:37:32.051Z"
   },
   {
    "duration": 308,
    "start_time": "2021-11-13T01:37:32.070Z"
   },
   {
    "duration": 391,
    "start_time": "2021-11-13T01:37:32.380Z"
   },
   {
    "duration": 4,
    "start_time": "2021-11-13T01:37:32.773Z"
   },
   {
    "duration": 12,
    "start_time": "2021-11-13T01:37:32.778Z"
   },
   {
    "duration": 10,
    "start_time": "2021-11-13T01:37:32.791Z"
   },
   {
    "duration": 22,
    "start_time": "2021-11-13T01:37:32.802Z"
   },
   {
    "duration": 36,
    "start_time": "2021-11-13T01:37:32.826Z"
   },
   {
    "duration": 13,
    "start_time": "2021-11-13T01:37:32.864Z"
   },
   {
    "duration": 8,
    "start_time": "2021-11-13T01:37:32.879Z"
   },
   {
    "duration": 14,
    "start_time": "2021-11-13T01:37:32.889Z"
   },
   {
    "duration": 331,
    "start_time": "2021-11-13T01:37:32.905Z"
   },
   {
    "duration": 6452,
    "start_time": "2021-11-13T01:40:09.428Z"
   },
   {
    "duration": 37,
    "start_time": "2021-11-13T01:40:46.288Z"
   },
   {
    "duration": 228,
    "start_time": "2021-11-13T01:41:09.687Z"
   },
   {
    "duration": 14,
    "start_time": "2021-11-13T01:41:26.972Z"
   },
   {
    "duration": 1089,
    "start_time": "2021-11-13T01:42:15.698Z"
   },
   {
    "duration": 62,
    "start_time": "2021-11-13T01:42:16.789Z"
   },
   {
    "duration": 6,
    "start_time": "2021-11-13T01:42:16.853Z"
   },
   {
    "duration": 12,
    "start_time": "2021-11-13T01:42:16.861Z"
   },
   {
    "duration": 6,
    "start_time": "2021-11-13T01:42:16.874Z"
   },
   {
    "duration": 9,
    "start_time": "2021-11-13T01:42:16.882Z"
   },
   {
    "duration": 7,
    "start_time": "2021-11-13T01:42:16.893Z"
   },
   {
    "duration": 5,
    "start_time": "2021-11-13T01:42:16.902Z"
   },
   {
    "duration": 4,
    "start_time": "2021-11-13T01:42:16.910Z"
   },
   {
    "duration": 33,
    "start_time": "2021-11-13T01:42:16.916Z"
   },
   {
    "duration": 13,
    "start_time": "2021-11-13T01:42:16.950Z"
   },
   {
    "duration": 5,
    "start_time": "2021-11-13T01:42:16.965Z"
   },
   {
    "duration": 11,
    "start_time": "2021-11-13T01:42:16.971Z"
   },
   {
    "duration": 17,
    "start_time": "2021-11-13T01:42:16.983Z"
   },
   {
    "duration": 8,
    "start_time": "2021-11-13T01:42:17.001Z"
   },
   {
    "duration": 8,
    "start_time": "2021-11-13T01:42:17.011Z"
   },
   {
    "duration": 6,
    "start_time": "2021-11-13T01:42:17.044Z"
   },
   {
    "duration": 9,
    "start_time": "2021-11-13T01:42:17.051Z"
   },
   {
    "duration": 8,
    "start_time": "2021-11-13T01:42:17.061Z"
   },
   {
    "duration": 6,
    "start_time": "2021-11-13T01:42:17.071Z"
   },
   {
    "duration": 16,
    "start_time": "2021-11-13T01:42:17.079Z"
   },
   {
    "duration": 11,
    "start_time": "2021-11-13T01:42:17.097Z"
   },
   {
    "duration": 41,
    "start_time": "2021-11-13T01:42:17.110Z"
   },
   {
    "duration": 4,
    "start_time": "2021-11-13T01:42:17.153Z"
   },
   {
    "duration": 9,
    "start_time": "2021-11-13T01:42:17.159Z"
   },
   {
    "duration": 8,
    "start_time": "2021-11-13T01:42:17.170Z"
   },
   {
    "duration": 9,
    "start_time": "2021-11-13T01:42:17.183Z"
   },
   {
    "duration": 11,
    "start_time": "2021-11-13T01:42:17.194Z"
   },
   {
    "duration": 50,
    "start_time": "2021-11-13T01:42:17.206Z"
   },
   {
    "duration": 13,
    "start_time": "2021-11-13T01:42:17.258Z"
   },
   {
    "duration": 258,
    "start_time": "2021-11-13T01:42:17.273Z"
   },
   {
    "duration": 12,
    "start_time": "2021-11-13T01:42:17.532Z"
   },
   {
    "duration": 24,
    "start_time": "2021-11-13T01:42:17.546Z"
   },
   {
    "duration": 319,
    "start_time": "2021-11-13T01:42:17.572Z"
   },
   {
    "duration": 36,
    "start_time": "2021-11-13T01:42:17.893Z"
   },
   {
    "duration": 231,
    "start_time": "2021-11-13T01:42:17.944Z"
   },
   {
    "duration": 12,
    "start_time": "2021-11-13T01:42:18.177Z"
   },
   {
    "duration": 328,
    "start_time": "2021-11-13T01:42:18.191Z"
   },
   {
    "duration": 7,
    "start_time": "2021-11-13T01:42:18.521Z"
   },
   {
    "duration": 30,
    "start_time": "2021-11-13T01:42:18.530Z"
   },
   {
    "duration": 17,
    "start_time": "2021-11-13T01:42:18.562Z"
   },
   {
    "duration": 344,
    "start_time": "2021-11-13T01:42:18.581Z"
   },
   {
    "duration": 8,
    "start_time": "2021-11-13T01:42:18.927Z"
   },
   {
    "duration": 14,
    "start_time": "2021-11-13T01:42:18.945Z"
   },
   {
    "duration": 306,
    "start_time": "2021-11-13T01:42:18.961Z"
   },
   {
    "duration": 4,
    "start_time": "2021-11-13T01:42:19.268Z"
   },
   {
    "duration": 9,
    "start_time": "2021-11-13T01:42:19.274Z"
   },
   {
    "duration": 289,
    "start_time": "2021-11-13T01:42:19.284Z"
   },
   {
    "duration": 371,
    "start_time": "2021-11-13T01:42:19.575Z"
   },
   {
    "duration": 4,
    "start_time": "2021-11-13T01:42:19.948Z"
   },
   {
    "duration": 16,
    "start_time": "2021-11-13T01:42:19.954Z"
   },
   {
    "duration": 11,
    "start_time": "2021-11-13T01:42:19.971Z"
   },
   {
    "duration": 24,
    "start_time": "2021-11-13T01:42:19.983Z"
   },
   {
    "duration": 36,
    "start_time": "2021-11-13T01:42:20.009Z"
   },
   {
    "duration": 15,
    "start_time": "2021-11-13T01:42:20.047Z"
   },
   {
    "duration": 8,
    "start_time": "2021-11-13T01:42:20.064Z"
   },
   {
    "duration": 12,
    "start_time": "2021-11-13T01:42:20.073Z"
   },
   {
    "duration": 403,
    "start_time": "2021-11-13T01:42:20.086Z"
   },
   {
    "duration": 14,
    "start_time": "2021-11-13T01:43:37.787Z"
   },
   {
    "duration": 20,
    "start_time": "2021-11-13T01:45:39.332Z"
   },
   {
    "duration": 23,
    "start_time": "2021-11-13T01:47:00.654Z"
   },
   {
    "duration": 5,
    "start_time": "2021-11-13T01:48:53.620Z"
   },
   {
    "duration": 8,
    "start_time": "2021-11-13T01:51:20.020Z"
   },
   {
    "duration": 5,
    "start_time": "2021-11-13T01:51:53.467Z"
   },
   {
    "duration": 8,
    "start_time": "2021-11-13T01:52:14.445Z"
   },
   {
    "duration": 252,
    "start_time": "2021-11-13T01:54:21.334Z"
   },
   {
    "duration": 271,
    "start_time": "2021-11-13T01:55:12.874Z"
   },
   {
    "duration": 307,
    "start_time": "2021-11-13T01:56:08.251Z"
   },
   {
    "duration": 279,
    "start_time": "2021-11-13T01:56:40.320Z"
   },
   {
    "duration": 692,
    "start_time": "2021-11-13T01:57:01.806Z"
   },
   {
    "duration": 264,
    "start_time": "2021-11-13T01:57:44.537Z"
   },
   {
    "duration": 6,
    "start_time": "2021-11-13T01:57:52.312Z"
   },
   {
    "duration": 9,
    "start_time": "2021-11-13T02:00:59.951Z"
   },
   {
    "duration": 9,
    "start_time": "2021-11-13T02:01:05.816Z"
   },
   {
    "duration": 9,
    "start_time": "2021-11-13T02:01:09.891Z"
   },
   {
    "duration": 8,
    "start_time": "2021-11-13T02:01:14.065Z"
   },
   {
    "duration": 273,
    "start_time": "2021-11-13T02:01:35.184Z"
   },
   {
    "duration": 6,
    "start_time": "2021-11-13T02:01:42.927Z"
   },
   {
    "duration": 270,
    "start_time": "2021-11-13T02:04:36.328Z"
   },
   {
    "duration": 7,
    "start_time": "2021-11-13T02:04:40.594Z"
   },
   {
    "duration": 8,
    "start_time": "2021-11-13T02:12:56.729Z"
   },
   {
    "duration": 84,
    "start_time": "2021-11-13T02:16:31.726Z"
   },
   {
    "duration": 112,
    "start_time": "2021-11-13T02:16:42.403Z"
   },
   {
    "duration": 127,
    "start_time": "2021-11-13T02:17:56.427Z"
   },
   {
    "duration": 8,
    "start_time": "2021-11-13T02:17:59.025Z"
   },
   {
    "duration": 6,
    "start_time": "2021-11-13T02:19:49.086Z"
   },
   {
    "duration": 7,
    "start_time": "2021-11-13T02:20:05.087Z"
   },
   {
    "duration": 7,
    "start_time": "2021-11-13T02:20:14.420Z"
   },
   {
    "duration": 6,
    "start_time": "2021-11-13T02:20:21.464Z"
   },
   {
    "duration": 8,
    "start_time": "2021-11-13T02:23:38.866Z"
   },
   {
    "duration": 7,
    "start_time": "2021-11-13T02:23:53.513Z"
   },
   {
    "duration": 1281,
    "start_time": "2021-11-13T19:09:49.565Z"
   },
   {
    "duration": 83,
    "start_time": "2021-11-13T19:09:50.848Z"
   },
   {
    "duration": 7,
    "start_time": "2021-11-13T19:09:50.934Z"
   },
   {
    "duration": 19,
    "start_time": "2021-11-13T19:09:50.943Z"
   },
   {
    "duration": 12,
    "start_time": "2021-11-13T19:09:50.964Z"
   },
   {
    "duration": 10,
    "start_time": "2021-11-13T19:09:50.978Z"
   },
   {
    "duration": 19,
    "start_time": "2021-11-13T19:09:50.990Z"
   },
   {
    "duration": 8,
    "start_time": "2021-11-13T19:09:51.012Z"
   },
   {
    "duration": 10,
    "start_time": "2021-11-13T19:09:51.022Z"
   },
   {
    "duration": 10,
    "start_time": "2021-11-13T19:09:51.034Z"
   },
   {
    "duration": 20,
    "start_time": "2021-11-13T19:09:51.046Z"
   },
   {
    "duration": 6,
    "start_time": "2021-11-13T19:09:51.068Z"
   },
   {
    "duration": 9,
    "start_time": "2021-11-13T19:09:51.076Z"
   },
   {
    "duration": 14,
    "start_time": "2021-11-13T19:09:51.087Z"
   },
   {
    "duration": 7,
    "start_time": "2021-11-13T19:09:51.103Z"
   },
   {
    "duration": 10,
    "start_time": "2021-11-13T19:09:51.112Z"
   },
   {
    "duration": 41,
    "start_time": "2021-11-13T19:09:51.124Z"
   },
   {
    "duration": 14,
    "start_time": "2021-11-13T19:09:51.167Z"
   },
   {
    "duration": 11,
    "start_time": "2021-11-13T19:09:51.183Z"
   },
   {
    "duration": 11,
    "start_time": "2021-11-13T19:09:51.195Z"
   },
   {
    "duration": 10,
    "start_time": "2021-11-13T19:09:51.208Z"
   },
   {
    "duration": 15,
    "start_time": "2021-11-13T19:09:51.219Z"
   },
   {
    "duration": 10,
    "start_time": "2021-11-13T19:09:51.263Z"
   },
   {
    "duration": 11,
    "start_time": "2021-11-13T19:09:51.276Z"
   },
   {
    "duration": 12,
    "start_time": "2021-11-13T19:09:51.288Z"
   },
   {
    "duration": 13,
    "start_time": "2021-11-13T19:09:51.302Z"
   },
   {
    "duration": 10,
    "start_time": "2021-11-13T19:09:51.317Z"
   },
   {
    "duration": 8,
    "start_time": "2021-11-13T19:09:51.329Z"
   },
   {
    "duration": 32,
    "start_time": "2021-11-13T19:09:51.339Z"
   },
   {
    "duration": 23,
    "start_time": "2021-11-13T19:09:51.373Z"
   },
   {
    "duration": 270,
    "start_time": "2021-11-13T19:09:51.398Z"
   },
   {
    "duration": 9,
    "start_time": "2021-11-13T19:09:51.670Z"
   },
   {
    "duration": 38,
    "start_time": "2021-11-13T19:09:51.681Z"
   },
   {
    "duration": 335,
    "start_time": "2021-11-13T19:09:51.721Z"
   },
   {
    "duration": 43,
    "start_time": "2021-11-13T19:09:52.058Z"
   },
   {
    "duration": 264,
    "start_time": "2021-11-13T19:09:52.102Z"
   },
   {
    "duration": 14,
    "start_time": "2021-11-13T19:09:52.368Z"
   },
   {
    "duration": 331,
    "start_time": "2021-11-13T19:09:52.384Z"
   },
   {
    "duration": 7,
    "start_time": "2021-11-13T19:09:52.717Z"
   },
   {
    "duration": 37,
    "start_time": "2021-11-13T19:09:52.726Z"
   },
   {
    "duration": 20,
    "start_time": "2021-11-13T19:09:52.765Z"
   },
   {
    "duration": 356,
    "start_time": "2021-11-13T19:09:52.787Z"
   },
   {
    "duration": 19,
    "start_time": "2021-11-13T19:09:53.145Z"
   },
   {
    "duration": 17,
    "start_time": "2021-11-13T19:09:53.166Z"
   },
   {
    "duration": 325,
    "start_time": "2021-11-13T19:09:53.184Z"
   },
   {
    "duration": 4,
    "start_time": "2021-11-13T19:09:53.510Z"
   },
   {
    "duration": 13,
    "start_time": "2021-11-13T19:09:53.516Z"
   },
   {
    "duration": 353,
    "start_time": "2021-11-13T19:09:53.531Z"
   },
   {
    "duration": 419,
    "start_time": "2021-11-13T19:09:53.886Z"
   },
   {
    "duration": 4,
    "start_time": "2021-11-13T19:09:54.306Z"
   },
   {
    "duration": 14,
    "start_time": "2021-11-13T19:09:54.312Z"
   },
   {
    "duration": 142,
    "start_time": "2021-11-13T19:09:54.329Z"
   },
   {
    "duration": 10,
    "start_time": "2021-11-13T19:09:54.473Z"
   },
   {
    "duration": 11,
    "start_time": "2021-11-13T19:09:54.485Z"
   },
   {
    "duration": 18,
    "start_time": "2021-11-13T19:09:54.498Z"
   },
   {
    "duration": 27,
    "start_time": "2021-11-13T19:09:54.518Z"
   },
   {
    "duration": 34,
    "start_time": "2021-11-13T19:09:54.547Z"
   },
   {
    "duration": 16,
    "start_time": "2021-11-13T19:09:54.583Z"
   },
   {
    "duration": 6,
    "start_time": "2021-11-13T19:09:54.600Z"
   },
   {
    "duration": 13,
    "start_time": "2021-11-13T19:09:54.608Z"
   },
   {
    "duration": 60,
    "start_time": "2021-11-13T19:09:54.623Z"
   },
   {
    "duration": 5,
    "start_time": "2021-11-13T19:09:54.686Z"
   },
   {
    "duration": 22,
    "start_time": "2021-11-13T19:09:54.693Z"
   },
   {
    "duration": 461,
    "start_time": "2021-11-13T19:21:43.966Z"
   },
   {
    "duration": 404,
    "start_time": "2021-11-13T19:22:04.803Z"
   },
   {
    "duration": 382,
    "start_time": "2021-11-13T19:22:09.294Z"
   },
   {
    "duration": 118,
    "start_time": "2021-11-13T19:22:17.154Z"
   },
   {
    "duration": 120,
    "start_time": "2021-11-13T19:23:40.791Z"
   },
   {
    "duration": 121,
    "start_time": "2021-11-13T19:24:03.876Z"
   },
   {
    "duration": 117,
    "start_time": "2021-11-13T19:26:10.822Z"
   },
   {
    "duration": 127,
    "start_time": "2021-11-13T19:26:33.688Z"
   },
   {
    "duration": 134,
    "start_time": "2021-11-13T19:27:12.149Z"
   },
   {
    "duration": 177,
    "start_time": "2021-11-13T19:27:41.791Z"
   },
   {
    "duration": 2,
    "start_time": "2021-11-13T19:37:10.744Z"
   },
   {
    "duration": 123,
    "start_time": "2021-11-13T19:39:43.228Z"
   },
   {
    "duration": 118,
    "start_time": "2021-11-13T19:39:49.366Z"
   },
   {
    "duration": 3,
    "start_time": "2021-11-13T19:41:00.185Z"
   },
   {
    "duration": 109,
    "start_time": "2021-11-13T19:45:06.511Z"
   },
   {
    "duration": 115,
    "start_time": "2021-11-13T19:48:17.522Z"
   },
   {
    "duration": 263,
    "start_time": "2021-11-13T19:51:08.130Z"
   },
   {
    "duration": 10,
    "start_time": "2021-11-13T19:51:15.932Z"
   },
   {
    "duration": 10,
    "start_time": "2021-11-13T19:51:42.303Z"
   },
   {
    "duration": 102,
    "start_time": "2021-11-13T20:00:07.180Z"
   },
   {
    "duration": 265,
    "start_time": "2021-11-13T20:00:10.943Z"
   },
   {
    "duration": 2,
    "start_time": "2021-11-13T20:00:23.051Z"
   },
   {
    "duration": 7305,
    "start_time": "2021-11-13T20:08:09.299Z"
   },
   {
    "duration": 7970,
    "start_time": "2021-11-13T20:08:31.950Z"
   },
   {
    "duration": 6829,
    "start_time": "2021-11-13T20:08:54.427Z"
   },
   {
    "duration": 12,
    "start_time": "2021-11-13T20:10:21.809Z"
   },
   {
    "duration": 11,
    "start_time": "2021-11-13T20:11:06.630Z"
   },
   {
    "duration": 9,
    "start_time": "2021-11-13T20:12:01.195Z"
   },
   {
    "duration": 9,
    "start_time": "2021-11-13T20:12:33.107Z"
   },
   {
    "duration": 265,
    "start_time": "2021-11-13T20:15:41.961Z"
   },
   {
    "duration": 11,
    "start_time": "2021-11-13T20:15:47.984Z"
   },
   {
    "duration": 8773,
    "start_time": "2021-11-13T20:15:49.276Z"
   },
   {
    "duration": 16,
    "start_time": "2021-11-13T20:16:18.286Z"
   },
   {
    "duration": 11,
    "start_time": "2021-11-13T20:27:38.292Z"
   },
   {
    "duration": 11,
    "start_time": "2021-11-13T20:46:16.244Z"
   },
   {
    "duration": 14,
    "start_time": "2021-11-13T20:50:59.564Z"
   },
   {
    "duration": 11,
    "start_time": "2021-11-13T20:52:56.021Z"
   },
   {
    "duration": 5,
    "start_time": "2021-11-13T21:23:36.297Z"
   },
   {
    "duration": -254,
    "start_time": "2021-11-13T21:28:56.688Z"
   },
   {
    "duration": 4,
    "start_time": "2021-11-13T21:29:02.306Z"
   },
   {
    "duration": 16,
    "start_time": "2021-11-13T22:26:20.765Z"
   },
   {
    "duration": 15,
    "start_time": "2021-11-13T22:27:19.177Z"
   },
   {
    "duration": 344,
    "start_time": "2021-11-13T22:27:19.944Z"
   },
   {
    "duration": 5,
    "start_time": "2021-11-13T22:38:57.656Z"
   },
   {
    "duration": 265,
    "start_time": "2021-11-13T22:39:03.870Z"
   },
   {
    "duration": 4,
    "start_time": "2021-11-13T23:10:21.206Z"
   },
   {
    "duration": 261,
    "start_time": "2021-11-13T23:10:25.150Z"
   },
   {
    "duration": 264,
    "start_time": "2021-11-13T23:10:28.028Z"
   },
   {
    "duration": 382,
    "start_time": "2021-11-13T23:10:50.554Z"
   },
   {
    "duration": 109,
    "start_time": "2021-11-13T23:18:07.185Z"
   },
   {
    "duration": 10,
    "start_time": "2021-11-13T23:18:50.998Z"
   },
   {
    "duration": 6,
    "start_time": "2021-11-13T23:29:07.209Z"
   },
   {
    "duration": 9,
    "start_time": "2021-11-13T23:31:22.170Z"
   },
   {
    "duration": 35,
    "start_time": "2021-11-13T23:46:52.965Z"
   },
   {
    "duration": 21,
    "start_time": "2021-11-13T23:47:35.049Z"
   },
   {
    "duration": 279,
    "start_time": "2021-11-13T23:47:44.021Z"
   },
   {
    "duration": 21,
    "start_time": "2021-11-13T23:47:52.018Z"
   },
   {
    "duration": 1194,
    "start_time": "2021-11-13T23:48:56.837Z"
   },
   {
    "duration": 68,
    "start_time": "2021-11-13T23:48:58.033Z"
   },
   {
    "duration": 7,
    "start_time": "2021-11-13T23:48:58.104Z"
   },
   {
    "duration": 16,
    "start_time": "2021-11-13T23:48:58.114Z"
   },
   {
    "duration": 7,
    "start_time": "2021-11-13T23:48:58.138Z"
   },
   {
    "duration": 16,
    "start_time": "2021-11-13T23:48:58.148Z"
   },
   {
    "duration": 7,
    "start_time": "2021-11-13T23:48:58.166Z"
   },
   {
    "duration": 8,
    "start_time": "2021-11-13T23:48:58.175Z"
   },
   {
    "duration": 5,
    "start_time": "2021-11-13T23:48:58.186Z"
   },
   {
    "duration": 8,
    "start_time": "2021-11-13T23:48:58.193Z"
   },
   {
    "duration": 14,
    "start_time": "2021-11-13T23:48:58.202Z"
   },
   {
    "duration": 9,
    "start_time": "2021-11-13T23:48:58.218Z"
   },
   {
    "duration": 33,
    "start_time": "2021-11-13T23:48:58.230Z"
   },
   {
    "duration": 19,
    "start_time": "2021-11-13T23:48:58.266Z"
   },
   {
    "duration": 11,
    "start_time": "2021-11-13T23:48:58.287Z"
   },
   {
    "duration": 13,
    "start_time": "2021-11-13T23:48:58.300Z"
   },
   {
    "duration": 8,
    "start_time": "2021-11-13T23:48:58.315Z"
   },
   {
    "duration": 43,
    "start_time": "2021-11-13T23:48:58.325Z"
   },
   {
    "duration": 9,
    "start_time": "2021-11-13T23:48:58.371Z"
   },
   {
    "duration": 9,
    "start_time": "2021-11-13T23:48:58.382Z"
   },
   {
    "duration": 8,
    "start_time": "2021-11-13T23:48:58.393Z"
   },
   {
    "duration": 18,
    "start_time": "2021-11-13T23:48:58.403Z"
   },
   {
    "duration": 53,
    "start_time": "2021-11-13T23:48:58.423Z"
   },
   {
    "duration": 6,
    "start_time": "2021-11-13T23:48:58.479Z"
   },
   {
    "duration": 8,
    "start_time": "2021-11-13T23:48:58.487Z"
   },
   {
    "duration": 10,
    "start_time": "2021-11-13T23:48:58.497Z"
   },
   {
    "duration": 13,
    "start_time": "2021-11-13T23:48:58.513Z"
   },
   {
    "duration": 45,
    "start_time": "2021-11-13T23:48:58.529Z"
   },
   {
    "duration": 22,
    "start_time": "2021-11-13T23:48:58.576Z"
   },
   {
    "duration": 21,
    "start_time": "2021-11-13T23:48:58.600Z"
   },
   {
    "duration": 447,
    "start_time": "2021-11-13T23:48:58.623Z"
   },
   {
    "duration": 15,
    "start_time": "2021-11-13T23:48:59.072Z"
   },
   {
    "duration": 36,
    "start_time": "2021-11-13T23:48:59.090Z"
   },
   {
    "duration": 611,
    "start_time": "2021-11-13T23:48:59.129Z"
   },
   {
    "duration": 53,
    "start_time": "2021-11-13T23:48:59.742Z"
   },
   {
    "duration": 247,
    "start_time": "2021-11-13T23:48:59.797Z"
   },
   {
    "duration": 32,
    "start_time": "2021-11-13T23:49:00.047Z"
   },
   {
    "duration": 330,
    "start_time": "2021-11-13T23:49:00.081Z"
   },
   {
    "duration": 8,
    "start_time": "2021-11-13T23:49:00.413Z"
   },
   {
    "duration": 23,
    "start_time": "2021-11-13T23:49:00.423Z"
   },
   {
    "duration": 32,
    "start_time": "2021-11-13T23:49:00.448Z"
   },
   {
    "duration": 355,
    "start_time": "2021-11-13T23:49:00.482Z"
   },
   {
    "duration": 9,
    "start_time": "2021-11-13T23:49:00.839Z"
   },
   {
    "duration": 26,
    "start_time": "2021-11-13T23:49:00.850Z"
   },
   {
    "duration": 306,
    "start_time": "2021-11-13T23:49:00.878Z"
   },
   {
    "duration": 5,
    "start_time": "2021-11-13T23:49:01.186Z"
   },
   {
    "duration": 18,
    "start_time": "2021-11-13T23:49:01.192Z"
   },
   {
    "duration": 379,
    "start_time": "2021-11-13T23:49:01.212Z"
   },
   {
    "duration": 315,
    "start_time": "2021-11-13T23:49:01.593Z"
   },
   {
    "duration": 4,
    "start_time": "2021-11-13T23:49:01.911Z"
   },
   {
    "duration": 22,
    "start_time": "2021-11-13T23:49:01.917Z"
   },
   {
    "duration": 27,
    "start_time": "2021-11-13T23:49:01.941Z"
   },
   {
    "duration": 133,
    "start_time": "2021-11-13T23:49:01.970Z"
   },
   {
    "duration": 13,
    "start_time": "2021-11-13T23:49:02.106Z"
   },
   {
    "duration": 22,
    "start_time": "2021-11-13T23:49:02.122Z"
   },
   {
    "duration": 36,
    "start_time": "2021-11-13T23:49:02.146Z"
   },
   {
    "duration": 25,
    "start_time": "2021-11-13T23:49:02.185Z"
   },
   {
    "duration": 1566,
    "start_time": "2021-11-14T05:49:38.233Z"
   },
   {
    "duration": 59,
    "start_time": "2021-11-14T05:49:39.802Z"
   },
   {
    "duration": 9,
    "start_time": "2021-11-14T05:49:39.864Z"
   },
   {
    "duration": 39,
    "start_time": "2021-11-14T05:49:39.876Z"
   },
   {
    "duration": 10,
    "start_time": "2021-11-14T05:49:39.918Z"
   },
   {
    "duration": 28,
    "start_time": "2021-11-14T05:49:39.931Z"
   },
   {
    "duration": 13,
    "start_time": "2021-11-14T05:49:39.961Z"
   },
   {
    "duration": 23,
    "start_time": "2021-11-14T05:49:39.978Z"
   },
   {
    "duration": 8,
    "start_time": "2021-11-14T05:49:40.004Z"
   },
   {
    "duration": 24,
    "start_time": "2021-11-14T05:49:40.014Z"
   },
   {
    "duration": 22,
    "start_time": "2021-11-14T05:49:40.040Z"
   },
   {
    "duration": 16,
    "start_time": "2021-11-14T05:49:40.064Z"
   },
   {
    "duration": 22,
    "start_time": "2021-11-14T05:49:40.083Z"
   },
   {
    "duration": 32,
    "start_time": "2021-11-14T05:49:40.108Z"
   },
   {
    "duration": 12,
    "start_time": "2021-11-14T05:49:40.143Z"
   },
   {
    "duration": 22,
    "start_time": "2021-11-14T05:49:40.157Z"
   },
   {
    "duration": 9,
    "start_time": "2021-11-14T05:49:40.182Z"
   },
   {
    "duration": 42,
    "start_time": "2021-11-14T05:49:40.193Z"
   },
   {
    "duration": 10,
    "start_time": "2021-11-14T05:49:40.238Z"
   },
   {
    "duration": 11,
    "start_time": "2021-11-14T05:49:40.250Z"
   },
   {
    "duration": 10,
    "start_time": "2021-11-14T05:49:40.264Z"
   },
   {
    "duration": 57,
    "start_time": "2021-11-14T05:49:40.276Z"
   },
   {
    "duration": 17,
    "start_time": "2021-11-14T05:49:40.341Z"
   },
   {
    "duration": 6,
    "start_time": "2021-11-14T05:49:40.363Z"
   },
   {
    "duration": 12,
    "start_time": "2021-11-14T05:49:40.371Z"
   },
   {
    "duration": 44,
    "start_time": "2021-11-14T05:49:40.385Z"
   },
   {
    "duration": 14,
    "start_time": "2021-11-14T05:49:40.431Z"
   },
   {
    "duration": 16,
    "start_time": "2021-11-14T05:49:40.448Z"
   },
   {
    "duration": 32,
    "start_time": "2021-11-14T05:49:40.467Z"
   },
   {
    "duration": 20,
    "start_time": "2021-11-14T05:49:40.530Z"
   },
   {
    "duration": 421,
    "start_time": "2021-11-14T05:49:40.553Z"
   },
   {
    "duration": 11,
    "start_time": "2021-11-14T05:49:40.977Z"
   },
   {
    "duration": 51,
    "start_time": "2021-11-14T05:49:40.990Z"
   },
   {
    "duration": 530,
    "start_time": "2021-11-14T05:49:41.043Z"
   },
   {
    "duration": 77,
    "start_time": "2021-11-14T05:49:41.575Z"
   },
   {
    "duration": 390,
    "start_time": "2021-11-14T05:49:41.654Z"
   },
   {
    "duration": 19,
    "start_time": "2021-11-14T05:49:42.047Z"
   },
   {
    "duration": 506,
    "start_time": "2021-11-14T05:49:42.069Z"
   },
   {
    "duration": 11,
    "start_time": "2021-11-14T05:49:42.577Z"
   },
   {
    "duration": 48,
    "start_time": "2021-11-14T05:49:42.590Z"
   },
   {
    "duration": 43,
    "start_time": "2021-11-14T05:49:42.641Z"
   },
   {
    "duration": 525,
    "start_time": "2021-11-14T05:49:42.686Z"
   },
   {
    "duration": 23,
    "start_time": "2021-11-14T05:49:43.214Z"
   },
   {
    "duration": 25,
    "start_time": "2021-11-14T05:49:43.240Z"
   },
   {
    "duration": 403,
    "start_time": "2021-11-14T05:49:43.268Z"
   },
   {
    "duration": 7,
    "start_time": "2021-11-14T05:49:43.674Z"
   },
   {
    "duration": 28,
    "start_time": "2021-11-14T05:49:43.683Z"
   },
   {
    "duration": 417,
    "start_time": "2021-11-14T05:49:43.714Z"
   },
   {
    "duration": 502,
    "start_time": "2021-11-14T05:49:44.134Z"
   },
   {
    "duration": 6,
    "start_time": "2021-11-14T05:49:44.638Z"
   },
   {
    "duration": 15,
    "start_time": "2021-11-14T05:49:44.646Z"
   },
   {
    "duration": 10,
    "start_time": "2021-11-14T05:49:44.663Z"
   },
   {
    "duration": 312,
    "start_time": "2021-11-14T05:49:44.676Z"
   },
   {
    "duration": 12,
    "start_time": "2021-11-14T05:49:44.990Z"
   },
   {
    "duration": 37,
    "start_time": "2021-11-14T05:49:45.004Z"
   },
   {
    "duration": 24,
    "start_time": "2021-11-14T05:49:45.043Z"
   },
   {
    "duration": 14,
    "start_time": "2021-11-14T05:49:45.070Z"
   },
   {
    "duration": 559,
    "start_time": "2021-11-14T06:14:41.735Z"
   },
   {
    "duration": 30,
    "start_time": "2021-11-14T06:21:04.738Z"
   },
   {
    "duration": 10,
    "start_time": "2021-11-14T06:21:58.369Z"
   },
   {
    "duration": 507,
    "start_time": "2021-11-14T06:22:21.840Z"
   },
   {
    "duration": 901,
    "start_time": "2021-11-14T06:22:33.588Z"
   },
   {
    "duration": 795,
    "start_time": "2021-11-14T06:22:38.264Z"
   },
   {
    "duration": 498,
    "start_time": "2021-11-14T06:22:41.764Z"
   },
   {
    "duration": 530,
    "start_time": "2021-11-14T06:22:46.264Z"
   },
   {
    "duration": 541,
    "start_time": "2021-11-14T06:24:01.291Z"
   },
   {
    "duration": 530,
    "start_time": "2021-11-14T06:24:12.214Z"
   },
   {
    "duration": 546,
    "start_time": "2021-11-14T06:24:24.290Z"
   },
   {
    "duration": 558,
    "start_time": "2021-11-14T06:24:29.789Z"
   },
   {
    "duration": 6,
    "start_time": "2021-11-14T06:43:04.433Z"
   },
   {
    "duration": 6,
    "start_time": "2021-11-14T06:43:06.525Z"
   },
   {
    "duration": 5,
    "start_time": "2021-11-14T06:43:08.925Z"
   },
   {
    "duration": 9,
    "start_time": "2021-11-14T06:43:28.076Z"
   },
   {
    "duration": 118,
    "start_time": "2021-11-14T06:43:57.776Z"
   },
   {
    "duration": 1606,
    "start_time": "2021-11-14T06:47:23.146Z"
   },
   {
    "duration": 61,
    "start_time": "2021-11-14T06:47:24.754Z"
   },
   {
    "duration": 11,
    "start_time": "2021-11-14T06:47:24.818Z"
   },
   {
    "duration": 25,
    "start_time": "2021-11-14T06:47:24.832Z"
   },
   {
    "duration": 19,
    "start_time": "2021-11-14T06:47:24.860Z"
   },
   {
    "duration": 29,
    "start_time": "2021-11-14T06:47:24.882Z"
   },
   {
    "duration": 28,
    "start_time": "2021-11-14T06:47:24.913Z"
   },
   {
    "duration": 24,
    "start_time": "2021-11-14T06:47:24.944Z"
   },
   {
    "duration": 32,
    "start_time": "2021-11-14T06:47:24.971Z"
   },
   {
    "duration": 16,
    "start_time": "2021-11-14T06:47:25.005Z"
   },
   {
    "duration": 33,
    "start_time": "2021-11-14T06:47:25.023Z"
   },
   {
    "duration": 34,
    "start_time": "2021-11-14T06:47:25.058Z"
   },
   {
    "duration": 37,
    "start_time": "2021-11-14T06:47:25.094Z"
   },
   {
    "duration": 30,
    "start_time": "2021-11-14T06:47:25.134Z"
   },
   {
    "duration": 25,
    "start_time": "2021-11-14T06:47:25.166Z"
   },
   {
    "duration": 27,
    "start_time": "2021-11-14T06:47:25.193Z"
   },
   {
    "duration": 21,
    "start_time": "2021-11-14T06:47:25.222Z"
   },
   {
    "duration": 21,
    "start_time": "2021-11-14T06:47:25.246Z"
   },
   {
    "duration": 31,
    "start_time": "2021-11-14T06:47:25.269Z"
   },
   {
    "duration": 13,
    "start_time": "2021-11-14T06:47:25.304Z"
   },
   {
    "duration": 15,
    "start_time": "2021-11-14T06:47:25.320Z"
   },
   {
    "duration": 24,
    "start_time": "2021-11-14T06:47:25.339Z"
   },
   {
    "duration": 19,
    "start_time": "2021-11-14T06:47:25.371Z"
   },
   {
    "duration": 6,
    "start_time": "2021-11-14T06:47:25.393Z"
   },
   {
    "duration": 8,
    "start_time": "2021-11-14T06:47:25.430Z"
   },
   {
    "duration": 19,
    "start_time": "2021-11-14T06:47:25.441Z"
   },
   {
    "duration": 21,
    "start_time": "2021-11-14T06:47:25.462Z"
   },
   {
    "duration": 11,
    "start_time": "2021-11-14T06:47:25.486Z"
   },
   {
    "duration": 46,
    "start_time": "2021-11-14T06:47:25.499Z"
   },
   {
    "duration": 20,
    "start_time": "2021-11-14T06:47:25.548Z"
   },
   {
    "duration": 424,
    "start_time": "2021-11-14T06:47:25.570Z"
   },
   {
    "duration": 12,
    "start_time": "2021-11-14T06:47:25.996Z"
   },
   {
    "duration": 60,
    "start_time": "2021-11-14T06:47:26.011Z"
   },
   {
    "duration": 518,
    "start_time": "2021-11-14T06:47:26.073Z"
   },
   {
    "duration": 76,
    "start_time": "2021-11-14T06:47:26.593Z"
   },
   {
    "duration": 419,
    "start_time": "2021-11-14T06:47:26.672Z"
   },
   {
    "duration": 18,
    "start_time": "2021-11-14T06:47:27.094Z"
   },
   {
    "duration": 455,
    "start_time": "2021-11-14T06:47:27.130Z"
   },
   {
    "duration": 11,
    "start_time": "2021-11-14T06:47:27.587Z"
   },
   {
    "duration": 55,
    "start_time": "2021-11-14T06:47:27.600Z"
   },
   {
    "duration": 30,
    "start_time": "2021-11-14T06:47:27.658Z"
   },
   {
    "duration": 535,
    "start_time": "2021-11-14T06:47:27.691Z"
   },
   {
    "duration": 543,
    "start_time": "2021-11-14T06:47:28.230Z"
   },
   {
    "duration": 14,
    "start_time": "2021-11-14T06:47:28.776Z"
   },
   {
    "duration": 40,
    "start_time": "2021-11-14T06:47:28.793Z"
   },
   {
    "duration": 420,
    "start_time": "2021-11-14T06:47:28.836Z"
   },
   {
    "duration": 7,
    "start_time": "2021-11-14T06:47:29.259Z"
   },
   {
    "duration": 28,
    "start_time": "2021-11-14T06:47:29.269Z"
   },
   {
    "duration": 509,
    "start_time": "2021-11-14T06:47:29.300Z"
   },
   {
    "duration": 433,
    "start_time": "2021-11-14T06:47:29.812Z"
   },
   {
    "duration": 6,
    "start_time": "2021-11-14T06:47:30.248Z"
   },
   {
    "duration": 46,
    "start_time": "2021-11-14T06:47:30.257Z"
   },
   {
    "duration": 28,
    "start_time": "2021-11-14T06:47:30.307Z"
   },
   {
    "duration": 231,
    "start_time": "2021-11-14T06:47:30.338Z"
   },
   {
    "duration": 13,
    "start_time": "2021-11-14T06:47:30.571Z"
   },
   {
    "duration": 25,
    "start_time": "2021-11-14T06:47:30.587Z"
   },
   {
    "duration": 39,
    "start_time": "2021-11-14T06:47:30.615Z"
   },
   {
    "duration": 27,
    "start_time": "2021-11-14T06:47:30.656Z"
   },
   {
    "duration": 433,
    "start_time": "2021-11-14T17:10:13.099Z"
   },
   {
    "duration": 367,
    "start_time": "2021-11-14T17:10:13.988Z"
   },
   {
    "duration": 2104,
    "start_time": "2021-11-14T17:10:27.466Z"
   },
   {
    "duration": 89,
    "start_time": "2021-11-14T17:10:29.573Z"
   },
   {
    "duration": 10,
    "start_time": "2021-11-14T17:10:29.665Z"
   },
   {
    "duration": 5,
    "start_time": "2021-11-14T17:10:29.678Z"
   },
   {
    "duration": 19,
    "start_time": "2021-11-14T17:10:29.685Z"
   },
   {
    "duration": 8,
    "start_time": "2021-11-14T17:10:29.707Z"
   },
   {
    "duration": 14,
    "start_time": "2021-11-14T17:10:29.717Z"
   },
   {
    "duration": 8,
    "start_time": "2021-11-14T17:10:29.735Z"
   },
   {
    "duration": 5,
    "start_time": "2021-11-14T17:10:29.746Z"
   },
   {
    "duration": 49,
    "start_time": "2021-11-14T17:10:29.753Z"
   },
   {
    "duration": 18,
    "start_time": "2021-11-14T17:10:29.804Z"
   },
   {
    "duration": 12,
    "start_time": "2021-11-14T17:10:29.825Z"
   },
   {
    "duration": 6,
    "start_time": "2021-11-14T17:10:29.840Z"
   },
   {
    "duration": 11,
    "start_time": "2021-11-14T17:10:29.849Z"
   },
   {
    "duration": 60,
    "start_time": "2021-11-14T17:10:29.863Z"
   },
   {
    "duration": 10,
    "start_time": "2021-11-14T17:10:29.926Z"
   },
   {
    "duration": 13,
    "start_time": "2021-11-14T17:10:29.938Z"
   },
   {
    "duration": 51,
    "start_time": "2021-11-14T17:10:29.953Z"
   },
   {
    "duration": 21,
    "start_time": "2021-11-14T17:10:30.006Z"
   },
   {
    "duration": 12,
    "start_time": "2021-11-14T17:10:30.030Z"
   },
   {
    "duration": 17,
    "start_time": "2021-11-14T17:10:30.045Z"
   },
   {
    "duration": 38,
    "start_time": "2021-11-14T17:10:30.064Z"
   },
   {
    "duration": 16,
    "start_time": "2021-11-14T17:10:30.109Z"
   },
   {
    "duration": 20,
    "start_time": "2021-11-14T17:10:30.128Z"
   },
   {
    "duration": 6,
    "start_time": "2021-11-14T17:10:30.151Z"
   },
   {
    "duration": 49,
    "start_time": "2021-11-14T17:10:30.160Z"
   },
   {
    "duration": 26,
    "start_time": "2021-11-14T17:10:30.211Z"
   },
   {
    "duration": 22,
    "start_time": "2021-11-14T17:10:30.240Z"
   },
   {
    "duration": 24,
    "start_time": "2021-11-14T17:10:30.265Z"
   },
   {
    "duration": 36,
    "start_time": "2021-11-14T17:10:30.291Z"
   },
   {
    "duration": 30,
    "start_time": "2021-11-14T17:10:30.330Z"
   },
   {
    "duration": 435,
    "start_time": "2021-11-14T17:10:30.363Z"
   },
   {
    "duration": 12,
    "start_time": "2021-11-14T17:10:30.800Z"
   },
   {
    "duration": 40,
    "start_time": "2021-11-14T17:10:30.814Z"
   },
   {
    "duration": 576,
    "start_time": "2021-11-14T17:10:30.856Z"
   },
   {
    "duration": 87,
    "start_time": "2021-11-14T17:10:31.434Z"
   },
   {
    "duration": 415,
    "start_time": "2021-11-14T17:10:31.523Z"
   },
   {
    "duration": 20,
    "start_time": "2021-11-14T17:10:31.942Z"
   },
   {
    "duration": 528,
    "start_time": "2021-11-14T17:10:31.964Z"
   },
   {
    "duration": 10,
    "start_time": "2021-11-14T17:10:32.495Z"
   },
   {
    "duration": 42,
    "start_time": "2021-11-14T17:10:32.507Z"
   },
   {
    "duration": 72,
    "start_time": "2021-11-14T17:10:32.552Z"
   },
   {
    "duration": 603,
    "start_time": "2021-11-14T17:10:32.627Z"
   },
   {
    "duration": 614,
    "start_time": "2021-11-14T17:10:33.232Z"
   },
   {
    "duration": 12,
    "start_time": "2021-11-14T17:10:33.848Z"
   },
   {
    "duration": 18,
    "start_time": "2021-11-14T17:10:33.862Z"
   },
   {
    "duration": 454,
    "start_time": "2021-11-14T17:10:33.882Z"
   },
   {
    "duration": 5,
    "start_time": "2021-11-14T17:10:34.338Z"
   },
   {
    "duration": 16,
    "start_time": "2021-11-14T17:10:34.346Z"
   },
   {
    "duration": 530,
    "start_time": "2021-11-14T17:10:34.364Z"
   },
   {
    "duration": 423,
    "start_time": "2021-11-14T17:10:34.900Z"
   },
   {
    "duration": 5,
    "start_time": "2021-11-14T17:10:35.325Z"
   },
   {
    "duration": 14,
    "start_time": "2021-11-14T17:10:35.333Z"
   },
   {
    "duration": 13,
    "start_time": "2021-11-14T17:10:35.349Z"
   },
   {
    "duration": 261,
    "start_time": "2021-11-14T17:10:35.364Z"
   },
   {
    "duration": 12,
    "start_time": "2021-11-14T17:10:35.627Z"
   },
   {
    "duration": 17,
    "start_time": "2021-11-14T17:10:35.641Z"
   },
   {
    "duration": 51,
    "start_time": "2021-11-14T17:10:35.660Z"
   },
   {
    "duration": 16,
    "start_time": "2021-11-14T17:10:35.713Z"
   },
   {
    "duration": 1556,
    "start_time": "2021-11-14T17:12:42.886Z"
   },
   {
    "duration": 68,
    "start_time": "2021-11-14T17:12:44.445Z"
   },
   {
    "duration": 9,
    "start_time": "2021-11-14T17:12:44.517Z"
   },
   {
    "duration": 8,
    "start_time": "2021-11-14T17:12:44.530Z"
   },
   {
    "duration": 20,
    "start_time": "2021-11-14T17:12:44.541Z"
   },
   {
    "duration": 12,
    "start_time": "2021-11-14T17:12:44.564Z"
   },
   {
    "duration": 14,
    "start_time": "2021-11-14T17:12:44.600Z"
   },
   {
    "duration": 12,
    "start_time": "2021-11-14T17:12:44.617Z"
   },
   {
    "duration": 9,
    "start_time": "2021-11-14T17:12:44.634Z"
   },
   {
    "duration": 5,
    "start_time": "2021-11-14T17:12:44.646Z"
   },
   {
    "duration": 53,
    "start_time": "2021-11-14T17:12:44.654Z"
   },
   {
    "duration": 11,
    "start_time": "2021-11-14T17:12:44.709Z"
   },
   {
    "duration": 7,
    "start_time": "2021-11-14T17:12:44.723Z"
   },
   {
    "duration": 12,
    "start_time": "2021-11-14T17:12:44.732Z"
   },
   {
    "duration": 59,
    "start_time": "2021-11-14T17:12:44.747Z"
   },
   {
    "duration": 8,
    "start_time": "2021-11-14T17:12:44.809Z"
   },
   {
    "duration": 14,
    "start_time": "2021-11-14T17:12:44.819Z"
   },
   {
    "duration": 8,
    "start_time": "2021-11-14T17:12:44.836Z"
   },
   {
    "duration": 56,
    "start_time": "2021-11-14T17:12:44.846Z"
   },
   {
    "duration": 9,
    "start_time": "2021-11-14T17:12:44.905Z"
   },
   {
    "duration": 17,
    "start_time": "2021-11-14T17:12:44.916Z"
   },
   {
    "duration": 8,
    "start_time": "2021-11-14T17:12:44.936Z"
   },
   {
    "duration": 57,
    "start_time": "2021-11-14T17:12:44.947Z"
   },
   {
    "duration": 20,
    "start_time": "2021-11-14T17:12:45.007Z"
   },
   {
    "duration": 12,
    "start_time": "2021-11-14T17:12:45.030Z"
   },
   {
    "duration": 10,
    "start_time": "2021-11-14T17:12:45.044Z"
   },
   {
    "duration": 45,
    "start_time": "2021-11-14T17:12:45.060Z"
   },
   {
    "duration": 13,
    "start_time": "2021-11-14T17:12:45.109Z"
   },
   {
    "duration": 10,
    "start_time": "2021-11-14T17:12:45.124Z"
   },
   {
    "duration": 21,
    "start_time": "2021-11-14T17:12:45.136Z"
   },
   {
    "duration": 59,
    "start_time": "2021-11-14T17:12:45.159Z"
   },
   {
    "duration": 543,
    "start_time": "2021-11-14T17:12:45.220Z"
   },
   {
    "duration": 13,
    "start_time": "2021-11-14T17:12:45.766Z"
   },
   {
    "duration": 34,
    "start_time": "2021-11-14T17:12:45.801Z"
   },
   {
    "duration": 854,
    "start_time": "2021-11-14T17:12:45.838Z"
   },
   {
    "duration": 101,
    "start_time": "2021-11-14T17:12:46.699Z"
   },
   {
    "duration": 411,
    "start_time": "2021-11-14T17:12:46.803Z"
   },
   {
    "duration": 19,
    "start_time": "2021-11-14T17:12:47.216Z"
   },
   {
    "duration": 524,
    "start_time": "2021-11-14T17:12:47.237Z"
   },
   {
    "duration": 11,
    "start_time": "2021-11-14T17:12:47.763Z"
   },
   {
    "duration": 57,
    "start_time": "2021-11-14T17:12:47.777Z"
   },
   {
    "duration": 38,
    "start_time": "2021-11-14T17:12:47.837Z"
   },
   {
    "duration": 526,
    "start_time": "2021-11-14T17:12:47.900Z"
   },
   {
    "duration": 556,
    "start_time": "2021-11-14T17:12:48.428Z"
   },
   {
    "duration": 23,
    "start_time": "2021-11-14T17:12:48.987Z"
   },
   {
    "duration": 14,
    "start_time": "2021-11-14T17:12:49.012Z"
   },
   {
    "duration": 491,
    "start_time": "2021-11-14T17:12:49.028Z"
   },
   {
    "duration": 6,
    "start_time": "2021-11-14T17:12:49.521Z"
   },
   {
    "duration": 53,
    "start_time": "2021-11-14T17:12:49.530Z"
   },
   {
    "duration": 446,
    "start_time": "2021-11-14T17:12:49.586Z"
   },
   {
    "duration": 621,
    "start_time": "2021-11-14T17:12:50.035Z"
   },
   {
    "duration": 8,
    "start_time": "2021-11-14T17:12:50.659Z"
   },
   {
    "duration": 33,
    "start_time": "2021-11-14T17:12:50.669Z"
   },
   {
    "duration": 12,
    "start_time": "2021-11-14T17:12:50.705Z"
   },
   {
    "duration": 290,
    "start_time": "2021-11-14T17:12:50.720Z"
   },
   {
    "duration": 13,
    "start_time": "2021-11-14T17:12:51.013Z"
   },
   {
    "duration": 16,
    "start_time": "2021-11-14T17:12:51.029Z"
   },
   {
    "duration": 22,
    "start_time": "2021-11-14T17:12:51.047Z"
   },
   {
    "duration": 16,
    "start_time": "2021-11-14T17:12:51.100Z"
   },
   {
    "duration": 128,
    "start_time": "2021-11-14T17:15:24.887Z"
   },
   {
    "duration": 28,
    "start_time": "2021-11-14T17:21:30.906Z"
   },
   {
    "duration": 16,
    "start_time": "2021-11-14T17:21:41.866Z"
   },
   {
    "duration": 30,
    "start_time": "2021-11-14T17:21:52.832Z"
   },
   {
    "duration": 26,
    "start_time": "2021-11-14T17:22:34.020Z"
   },
   {
    "duration": 555,
    "start_time": "2021-11-14T17:25:39.299Z"
   },
   {
    "duration": 424,
    "start_time": "2021-11-14T17:27:47.472Z"
   },
   {
    "duration": 460,
    "start_time": "2021-11-14T17:27:56.519Z"
   },
   {
    "duration": 518,
    "start_time": "2021-11-14T17:28:05.743Z"
   },
   {
    "duration": 591,
    "start_time": "2021-11-14T17:28:15.580Z"
   },
   {
    "duration": 541,
    "start_time": "2021-11-14T17:34:17.426Z"
   },
   {
    "duration": 10980,
    "start_time": "2021-11-14T17:34:39.597Z"
   },
   {
    "duration": 13,
    "start_time": "2021-11-14T17:35:06.508Z"
   },
   {
    "duration": 420,
    "start_time": "2021-11-14T17:36:40.443Z"
   },
   {
    "duration": 12,
    "start_time": "2021-11-14T17:36:43.487Z"
   },
   {
    "duration": 15,
    "start_time": "2021-11-14T17:38:55.053Z"
   },
   {
    "duration": 17,
    "start_time": "2021-11-14T17:39:43.071Z"
   },
   {
    "duration": 11,
    "start_time": "2021-11-14T17:39:50.214Z"
   },
   {
    "duration": 9528,
    "start_time": "2021-11-14T17:40:29.903Z"
   },
   {
    "duration": 13784,
    "start_time": "2021-11-14T17:40:47.866Z"
   },
   {
    "duration": 13,
    "start_time": "2021-11-14T17:41:22.197Z"
   },
   {
    "duration": 20,
    "start_time": "2021-11-14T17:41:27.738Z"
   },
   {
    "duration": 10,
    "start_time": "2021-11-14T17:42:49.627Z"
   },
   {
    "duration": 15,
    "start_time": "2021-11-14T17:42:57.605Z"
   },
   {
    "duration": 17,
    "start_time": "2021-11-14T17:43:26.514Z"
   },
   {
    "duration": 507,
    "start_time": "2021-11-14T17:47:11.908Z"
   },
   {
    "duration": 399,
    "start_time": "2021-11-14T17:49:50.901Z"
   },
   {
    "duration": 8,
    "start_time": "2021-11-14T17:51:57.021Z"
   },
   {
    "duration": 407,
    "start_time": "2021-11-14T17:52:11.425Z"
   },
   {
    "duration": 12,
    "start_time": "2021-11-14T17:52:15.292Z"
   },
   {
    "duration": 667,
    "start_time": "2021-11-14T17:52:53.844Z"
   },
   {
    "duration": 490,
    "start_time": "2021-11-14T17:53:16.737Z"
   },
   {
    "duration": 450,
    "start_time": "2021-11-14T17:54:04.053Z"
   },
   {
    "duration": 1540,
    "start_time": "2021-11-14T17:59:56.031Z"
   },
   {
    "duration": 84,
    "start_time": "2021-11-14T17:59:57.574Z"
   },
   {
    "duration": 9,
    "start_time": "2021-11-14T17:59:57.661Z"
   },
   {
    "duration": 4,
    "start_time": "2021-11-14T17:59:57.673Z"
   },
   {
    "duration": 22,
    "start_time": "2021-11-14T17:59:57.680Z"
   },
   {
    "duration": 12,
    "start_time": "2021-11-14T17:59:57.705Z"
   },
   {
    "duration": 12,
    "start_time": "2021-11-14T17:59:57.720Z"
   },
   {
    "duration": 8,
    "start_time": "2021-11-14T17:59:57.736Z"
   },
   {
    "duration": 7,
    "start_time": "2021-11-14T17:59:57.747Z"
   },
   {
    "duration": 46,
    "start_time": "2021-11-14T17:59:57.756Z"
   },
   {
    "duration": 9,
    "start_time": "2021-11-14T17:59:57.804Z"
   },
   {
    "duration": 14,
    "start_time": "2021-11-14T17:59:57.815Z"
   },
   {
    "duration": 6,
    "start_time": "2021-11-14T17:59:57.832Z"
   },
   {
    "duration": 17,
    "start_time": "2021-11-14T17:59:57.841Z"
   },
   {
    "duration": 54,
    "start_time": "2021-11-14T17:59:57.860Z"
   },
   {
    "duration": 10,
    "start_time": "2021-11-14T17:59:57.916Z"
   },
   {
    "duration": 14,
    "start_time": "2021-11-14T17:59:57.928Z"
   },
   {
    "duration": 9,
    "start_time": "2021-11-14T17:59:57.945Z"
   },
   {
    "duration": 10,
    "start_time": "2021-11-14T17:59:58.000Z"
   },
   {
    "duration": 16,
    "start_time": "2021-11-14T17:59:58.013Z"
   },
   {
    "duration": 13,
    "start_time": "2021-11-14T17:59:58.032Z"
   },
   {
    "duration": 9,
    "start_time": "2021-11-14T17:59:58.047Z"
   },
   {
    "duration": 51,
    "start_time": "2021-11-14T17:59:58.063Z"
   },
   {
    "duration": 17,
    "start_time": "2021-11-14T17:59:58.118Z"
   },
   {
    "duration": 5,
    "start_time": "2021-11-14T17:59:58.138Z"
   },
   {
    "duration": 10,
    "start_time": "2021-11-14T17:59:58.145Z"
   },
   {
    "duration": 49,
    "start_time": "2021-11-14T17:59:58.157Z"
   },
   {
    "duration": 18,
    "start_time": "2021-11-14T17:59:58.208Z"
   },
   {
    "duration": 27,
    "start_time": "2021-11-14T17:59:58.228Z"
   },
   {
    "duration": 42,
    "start_time": "2021-11-14T17:59:58.258Z"
   },
   {
    "duration": 21,
    "start_time": "2021-11-14T17:59:58.303Z"
   },
   {
    "duration": 20,
    "start_time": "2021-11-14T17:59:58.327Z"
   },
   {
    "duration": 456,
    "start_time": "2021-11-14T17:59:58.350Z"
   },
   {
    "duration": 12,
    "start_time": "2021-11-14T17:59:58.808Z"
   },
   {
    "duration": 38,
    "start_time": "2021-11-14T17:59:58.822Z"
   },
   {
    "duration": 569,
    "start_time": "2021-11-14T17:59:58.862Z"
   },
   {
    "duration": 81,
    "start_time": "2021-11-14T17:59:59.433Z"
   },
   {
    "duration": 430,
    "start_time": "2021-11-14T17:59:59.517Z"
   },
   {
    "duration": 21,
    "start_time": "2021-11-14T17:59:59.949Z"
   },
   {
    "duration": 511,
    "start_time": "2021-11-14T17:59:59.972Z"
   },
   {
    "duration": 16,
    "start_time": "2021-11-14T18:00:00.486Z"
   },
   {
    "duration": 43,
    "start_time": "2021-11-14T18:00:00.505Z"
   },
   {
    "duration": 33,
    "start_time": "2021-11-14T18:00:00.551Z"
   },
   {
    "duration": 525,
    "start_time": "2021-11-14T18:00:00.600Z"
   },
   {
    "duration": 571,
    "start_time": "2021-11-14T18:00:01.127Z"
   },
   {
    "duration": 12,
    "start_time": "2021-11-14T18:00:01.701Z"
   },
   {
    "duration": 76,
    "start_time": "2021-11-14T18:00:01.716Z"
   },
   {
    "duration": 562,
    "start_time": "2021-11-14T18:00:01.794Z"
   },
   {
    "duration": 13,
    "start_time": "2021-11-14T18:00:02.358Z"
   },
   {
    "duration": 37,
    "start_time": "2021-11-14T18:00:02.374Z"
   },
   {
    "duration": 28,
    "start_time": "2021-11-14T18:00:02.414Z"
   },
   {
    "duration": 485,
    "start_time": "2021-11-14T18:00:02.444Z"
   },
   {
    "duration": 7,
    "start_time": "2021-11-14T18:00:02.932Z"
   },
   {
    "duration": 33,
    "start_time": "2021-11-14T18:00:02.942Z"
   },
   {
    "duration": 445,
    "start_time": "2021-11-14T18:00:02.977Z"
   },
   {
    "duration": 405,
    "start_time": "2021-11-14T18:00:03.424Z"
   },
   {
    "duration": 12,
    "start_time": "2021-11-14T18:00:03.831Z"
   },
   {
    "duration": 463,
    "start_time": "2021-11-14T18:00:03.846Z"
   },
   {
    "duration": 435,
    "start_time": "2021-11-14T18:00:04.313Z"
   },
   {
    "duration": 7,
    "start_time": "2021-11-14T18:00:04.751Z"
   },
   {
    "duration": 17,
    "start_time": "2021-11-14T18:00:04.760Z"
   },
   {
    "duration": 31,
    "start_time": "2021-11-14T18:00:04.780Z"
   },
   {
    "duration": 261,
    "start_time": "2021-11-14T18:00:04.813Z"
   },
   {
    "duration": 23,
    "start_time": "2021-11-14T18:00:05.077Z"
   },
   {
    "duration": 16,
    "start_time": "2021-11-14T18:00:05.103Z"
   },
   {
    "duration": 34,
    "start_time": "2021-11-14T18:00:05.121Z"
   },
   {
    "duration": 16,
    "start_time": "2021-11-14T18:00:05.158Z"
   },
   {
    "duration": 394,
    "start_time": "2021-11-14T18:01:23.146Z"
   },
   {
    "duration": 399,
    "start_time": "2021-11-14T18:01:36.711Z"
   },
   {
    "duration": 557,
    "start_time": "2021-11-14T18:02:04.682Z"
   },
   {
    "duration": 455,
    "start_time": "2021-11-14T18:02:17.474Z"
   },
   {
    "duration": 434,
    "start_time": "2021-11-14T18:02:26.103Z"
   },
   {
    "duration": 1495,
    "start_time": "2021-11-14T18:06:04.339Z"
   },
   {
    "duration": 76,
    "start_time": "2021-11-14T18:06:05.837Z"
   },
   {
    "duration": 9,
    "start_time": "2021-11-14T18:06:05.916Z"
   },
   {
    "duration": 13,
    "start_time": "2021-11-14T18:06:05.928Z"
   },
   {
    "duration": 19,
    "start_time": "2021-11-14T18:06:05.943Z"
   },
   {
    "duration": 9,
    "start_time": "2021-11-14T18:06:05.964Z"
   },
   {
    "duration": 31,
    "start_time": "2021-11-14T18:06:05.975Z"
   },
   {
    "duration": 10,
    "start_time": "2021-11-14T18:06:06.009Z"
   },
   {
    "duration": 6,
    "start_time": "2021-11-14T18:06:06.022Z"
   },
   {
    "duration": 21,
    "start_time": "2021-11-14T18:06:06.031Z"
   },
   {
    "duration": 20,
    "start_time": "2021-11-14T18:06:06.055Z"
   },
   {
    "duration": 31,
    "start_time": "2021-11-14T18:06:06.078Z"
   },
   {
    "duration": 9,
    "start_time": "2021-11-14T18:06:06.112Z"
   },
   {
    "duration": 13,
    "start_time": "2021-11-14T18:06:06.124Z"
   },
   {
    "duration": 32,
    "start_time": "2021-11-14T18:06:06.140Z"
   },
   {
    "duration": 30,
    "start_time": "2021-11-14T18:06:06.174Z"
   },
   {
    "duration": 14,
    "start_time": "2021-11-14T18:06:06.206Z"
   },
   {
    "duration": 14,
    "start_time": "2021-11-14T18:06:06.222Z"
   },
   {
    "duration": 15,
    "start_time": "2021-11-14T18:06:06.238Z"
   },
   {
    "duration": 51,
    "start_time": "2021-11-14T18:06:06.255Z"
   },
   {
    "duration": 13,
    "start_time": "2021-11-14T18:06:06.308Z"
   },
   {
    "duration": 11,
    "start_time": "2021-11-14T18:06:06.323Z"
   },
   {
    "duration": 13,
    "start_time": "2021-11-14T18:06:06.340Z"
   },
   {
    "duration": 50,
    "start_time": "2021-11-14T18:06:06.358Z"
   },
   {
    "duration": 6,
    "start_time": "2021-11-14T18:06:06.411Z"
   },
   {
    "duration": 12,
    "start_time": "2021-11-14T18:06:06.419Z"
   },
   {
    "duration": 11,
    "start_time": "2021-11-14T18:06:06.433Z"
   },
   {
    "duration": 14,
    "start_time": "2021-11-14T18:06:06.447Z"
   },
   {
    "duration": 62,
    "start_time": "2021-11-14T18:06:06.464Z"
   },
   {
    "duration": 10,
    "start_time": "2021-11-14T18:06:06.528Z"
   },
   {
    "duration": 30,
    "start_time": "2021-11-14T18:06:06.541Z"
   },
   {
    "duration": 21,
    "start_time": "2021-11-14T18:06:06.601Z"
   },
   {
    "duration": 447,
    "start_time": "2021-11-14T18:06:06.625Z"
   },
   {
    "duration": 12,
    "start_time": "2021-11-14T18:06:07.075Z"
   },
   {
    "duration": 34,
    "start_time": "2021-11-14T18:06:07.101Z"
   },
   {
    "duration": 595,
    "start_time": "2021-11-14T18:06:07.138Z"
   },
   {
    "duration": 76,
    "start_time": "2021-11-14T18:06:07.736Z"
   },
   {
    "duration": 433,
    "start_time": "2021-11-14T18:06:07.815Z"
   },
   {
    "duration": 21,
    "start_time": "2021-11-14T18:06:08.251Z"
   },
   {
    "duration": 517,
    "start_time": "2021-11-14T18:06:08.275Z"
   },
   {
    "duration": 16,
    "start_time": "2021-11-14T18:06:08.794Z"
   },
   {
    "duration": 32,
    "start_time": "2021-11-14T18:06:08.812Z"
   },
   {
    "duration": 60,
    "start_time": "2021-11-14T18:06:08.846Z"
   },
   {
    "duration": 519,
    "start_time": "2021-11-14T18:06:08.908Z"
   },
   {
    "duration": 605,
    "start_time": "2021-11-14T18:06:09.430Z"
   },
   {
    "duration": 13,
    "start_time": "2021-11-14T18:06:10.037Z"
   },
   {
    "duration": 18,
    "start_time": "2021-11-14T18:06:10.052Z"
   },
   {
    "duration": 534,
    "start_time": "2021-11-14T18:06:10.072Z"
   },
   {
    "duration": 11,
    "start_time": "2021-11-14T18:06:10.608Z"
   },
   {
    "duration": 20,
    "start_time": "2021-11-14T18:06:10.622Z"
   },
   {
    "duration": 16,
    "start_time": "2021-11-14T18:06:10.645Z"
   },
   {
    "duration": 435,
    "start_time": "2021-11-14T18:06:10.663Z"
   },
   {
    "duration": 7,
    "start_time": "2021-11-14T18:06:11.101Z"
   },
   {
    "duration": 14,
    "start_time": "2021-11-14T18:06:11.110Z"
   },
   {
    "duration": 443,
    "start_time": "2021-11-14T18:06:11.126Z"
   },
   {
    "duration": 474,
    "start_time": "2021-11-14T18:06:11.572Z"
   },
   {
    "duration": 13,
    "start_time": "2021-11-14T18:06:12.048Z"
   },
   {
    "duration": 483,
    "start_time": "2021-11-14T18:06:12.063Z"
   },
   {
    "duration": 515,
    "start_time": "2021-11-14T18:06:12.549Z"
   },
   {
    "duration": 6,
    "start_time": "2021-11-14T18:06:13.067Z"
   },
   {
    "duration": 30,
    "start_time": "2021-11-14T18:06:13.075Z"
   },
   {
    "duration": 17,
    "start_time": "2021-11-14T18:06:13.109Z"
   },
   {
    "duration": 237,
    "start_time": "2021-11-14T18:06:13.129Z"
   },
   {
    "duration": 12,
    "start_time": "2021-11-14T18:06:13.369Z"
   },
   {
    "duration": 28,
    "start_time": "2021-11-14T18:06:13.401Z"
   },
   {
    "duration": 28,
    "start_time": "2021-11-14T18:06:13.432Z"
   },
   {
    "duration": 17,
    "start_time": "2021-11-14T18:06:13.462Z"
   },
   {
    "duration": 403,
    "start_time": "2021-11-14T19:51:40.463Z"
   },
   {
    "duration": 2109,
    "start_time": "2021-11-14T19:51:55.658Z"
   },
   {
    "duration": 101,
    "start_time": "2021-11-14T19:51:57.771Z"
   },
   {
    "duration": 13,
    "start_time": "2021-11-14T19:51:57.876Z"
   },
   {
    "duration": 6,
    "start_time": "2021-11-14T19:51:57.893Z"
   },
   {
    "duration": 25,
    "start_time": "2021-11-14T19:51:57.902Z"
   },
   {
    "duration": 14,
    "start_time": "2021-11-14T19:51:57.930Z"
   },
   {
    "duration": 22,
    "start_time": "2021-11-14T19:51:57.948Z"
   },
   {
    "duration": 13,
    "start_time": "2021-11-14T19:51:57.974Z"
   },
   {
    "duration": 8,
    "start_time": "2021-11-14T19:51:58.027Z"
   },
   {
    "duration": 9,
    "start_time": "2021-11-14T19:51:58.038Z"
   },
   {
    "duration": 16,
    "start_time": "2021-11-14T19:51:58.050Z"
   },
   {
    "duration": 12,
    "start_time": "2021-11-14T19:51:58.070Z"
   },
   {
    "duration": 42,
    "start_time": "2021-11-14T19:51:58.085Z"
   },
   {
    "duration": 11,
    "start_time": "2021-11-14T19:51:58.130Z"
   },
   {
    "duration": 47,
    "start_time": "2021-11-14T19:51:58.143Z"
   },
   {
    "duration": 9,
    "start_time": "2021-11-14T19:51:58.192Z"
   },
   {
    "duration": 27,
    "start_time": "2021-11-14T19:51:58.204Z"
   },
   {
    "duration": 9,
    "start_time": "2021-11-14T19:51:58.234Z"
   },
   {
    "duration": 11,
    "start_time": "2021-11-14T19:51:58.245Z"
   },
   {
    "duration": 14,
    "start_time": "2021-11-14T19:51:58.259Z"
   },
   {
    "duration": 10,
    "start_time": "2021-11-14T19:51:58.324Z"
   },
   {
    "duration": 9,
    "start_time": "2021-11-14T19:51:58.337Z"
   },
   {
    "duration": 15,
    "start_time": "2021-11-14T19:51:58.349Z"
   },
   {
    "duration": 63,
    "start_time": "2021-11-14T19:51:58.366Z"
   },
   {
    "duration": 6,
    "start_time": "2021-11-14T19:51:58.431Z"
   },
   {
    "duration": 9,
    "start_time": "2021-11-14T19:51:58.439Z"
   },
   {
    "duration": 10,
    "start_time": "2021-11-14T19:51:58.454Z"
   },
   {
    "duration": 65,
    "start_time": "2021-11-14T19:51:58.467Z"
   },
   {
    "duration": 32,
    "start_time": "2021-11-14T19:51:58.535Z"
   },
   {
    "duration": 7,
    "start_time": "2021-11-14T19:51:58.569Z"
   },
   {
    "duration": 46,
    "start_time": "2021-11-14T19:51:58.578Z"
   },
   {
    "duration": 22,
    "start_time": "2021-11-14T19:51:58.627Z"
   },
   {
    "duration": 21,
    "start_time": "2021-11-14T19:51:58.652Z"
   },
   {
    "duration": 442,
    "start_time": "2021-11-14T19:51:58.724Z"
   },
   {
    "duration": 15,
    "start_time": "2021-11-14T19:51:59.169Z"
   },
   {
    "duration": 61,
    "start_time": "2021-11-14T19:51:59.187Z"
   },
   {
    "duration": 621,
    "start_time": "2021-11-14T19:51:59.251Z"
   },
   {
    "duration": 78,
    "start_time": "2021-11-14T19:51:59.875Z"
   },
   {
    "duration": 442,
    "start_time": "2021-11-14T19:51:59.956Z"
   },
   {
    "duration": 29,
    "start_time": "2021-11-14T19:52:00.401Z"
   },
   {
    "duration": 498,
    "start_time": "2021-11-14T19:52:00.434Z"
   },
   {
    "duration": 12,
    "start_time": "2021-11-14T19:52:00.935Z"
   },
   {
    "duration": 40,
    "start_time": "2021-11-14T19:52:00.949Z"
   },
   {
    "duration": 56,
    "start_time": "2021-11-14T19:52:00.991Z"
   },
   {
    "duration": 586,
    "start_time": "2021-11-14T19:52:01.050Z"
   },
   {
    "duration": 574,
    "start_time": "2021-11-14T19:52:01.639Z"
   },
   {
    "duration": 16,
    "start_time": "2021-11-14T19:52:02.216Z"
   },
   {
    "duration": 27,
    "start_time": "2021-11-14T19:52:02.236Z"
   },
   {
    "duration": 756,
    "start_time": "2021-11-14T19:52:02.266Z"
   },
   {
    "duration": 19,
    "start_time": "2021-11-14T19:52:03.026Z"
   },
   {
    "duration": 30,
    "start_time": "2021-11-14T19:52:03.048Z"
   },
   {
    "duration": 16,
    "start_time": "2021-11-14T19:52:03.080Z"
   },
   {
    "duration": 437,
    "start_time": "2021-11-14T19:52:03.099Z"
   },
   {
    "duration": 6,
    "start_time": "2021-11-14T19:52:03.538Z"
   },
   {
    "duration": 24,
    "start_time": "2021-11-14T19:52:03.546Z"
   },
   {
    "duration": 477,
    "start_time": "2021-11-14T19:52:03.572Z"
   },
   {
    "duration": 422,
    "start_time": "2021-11-14T19:52:04.052Z"
   },
   {
    "duration": 12,
    "start_time": "2021-11-14T19:52:04.476Z"
   },
   {
    "duration": 476,
    "start_time": "2021-11-14T19:52:04.491Z"
   },
   {
    "duration": 657,
    "start_time": "2021-11-14T19:52:04.971Z"
   },
   {
    "duration": 8,
    "start_time": "2021-11-14T19:52:05.633Z"
   },
   {
    "duration": 29,
    "start_time": "2021-11-14T19:52:05.644Z"
   },
   {
    "duration": 33,
    "start_time": "2021-11-14T19:52:05.676Z"
   },
   {
    "duration": 389,
    "start_time": "2021-11-14T19:52:05.722Z"
   },
   {
    "duration": 20,
    "start_time": "2021-11-14T19:52:06.122Z"
   },
   {
    "duration": 29,
    "start_time": "2021-11-14T19:52:06.146Z"
   },
   {
    "duration": 53,
    "start_time": "2021-11-14T19:52:06.179Z"
   },
   {
    "duration": 27,
    "start_time": "2021-11-14T19:52:06.236Z"
   },
   {
    "duration": 30,
    "start_time": "2021-11-14T19:54:05.723Z"
   },
   {
    "duration": 20,
    "start_time": "2021-11-14T19:54:25.648Z"
   },
   {
    "duration": 26,
    "start_time": "2021-11-14T19:54:31.199Z"
   },
   {
    "duration": 453,
    "start_time": "2021-11-14T19:59:11.458Z"
   },
   {
    "duration": 448,
    "start_time": "2021-11-14T20:00:30.335Z"
   },
   {
    "duration": 453,
    "start_time": "2021-11-14T20:00:33.178Z"
   },
   {
    "duration": 422,
    "start_time": "2021-11-14T20:00:37.752Z"
   },
   {
    "duration": 411,
    "start_time": "2021-11-14T20:00:47.152Z"
   },
   {
    "duration": 464,
    "start_time": "2021-11-14T20:00:50.028Z"
   },
   {
    "duration": 545,
    "start_time": "2021-11-14T20:00:56.753Z"
   },
   {
    "duration": 503,
    "start_time": "2021-11-14T20:01:02.301Z"
   },
   {
    "duration": 1432,
    "start_time": "2021-11-14T20:12:04.365Z"
   },
   {
    "duration": 94,
    "start_time": "2021-11-14T20:12:05.799Z"
   },
   {
    "duration": 10,
    "start_time": "2021-11-14T20:12:05.896Z"
   },
   {
    "duration": 11,
    "start_time": "2021-11-14T20:12:05.908Z"
   },
   {
    "duration": 21,
    "start_time": "2021-11-14T20:12:05.921Z"
   },
   {
    "duration": 10,
    "start_time": "2021-11-14T20:12:05.945Z"
   },
   {
    "duration": 20,
    "start_time": "2021-11-14T20:12:05.957Z"
   },
   {
    "duration": 12,
    "start_time": "2021-11-14T20:12:05.981Z"
   },
   {
    "duration": 27,
    "start_time": "2021-11-14T20:12:05.996Z"
   },
   {
    "duration": 6,
    "start_time": "2021-11-14T20:12:06.025Z"
   },
   {
    "duration": 12,
    "start_time": "2021-11-14T20:12:06.034Z"
   },
   {
    "duration": 17,
    "start_time": "2021-11-14T20:12:06.049Z"
   },
   {
    "duration": 54,
    "start_time": "2021-11-14T20:12:06.069Z"
   },
   {
    "duration": 13,
    "start_time": "2021-11-14T20:12:06.125Z"
   },
   {
    "duration": 43,
    "start_time": "2021-11-14T20:12:06.141Z"
   },
   {
    "duration": 9,
    "start_time": "2021-11-14T20:12:06.187Z"
   },
   {
    "duration": 32,
    "start_time": "2021-11-14T20:12:06.198Z"
   },
   {
    "duration": 12,
    "start_time": "2021-11-14T20:12:06.232Z"
   },
   {
    "duration": 8,
    "start_time": "2021-11-14T20:12:06.246Z"
   },
   {
    "duration": 11,
    "start_time": "2021-11-14T20:12:06.257Z"
   },
   {
    "duration": 53,
    "start_time": "2021-11-14T20:12:06.271Z"
   },
   {
    "duration": 9,
    "start_time": "2021-11-14T20:12:06.326Z"
   },
   {
    "duration": 13,
    "start_time": "2021-11-14T20:12:06.342Z"
   },
   {
    "duration": 19,
    "start_time": "2021-11-14T20:12:06.359Z"
   },
   {
    "duration": 44,
    "start_time": "2021-11-14T20:12:06.381Z"
   },
   {
    "duration": 10,
    "start_time": "2021-11-14T20:12:06.427Z"
   },
   {
    "duration": 9,
    "start_time": "2021-11-14T20:12:06.439Z"
   },
   {
    "duration": 12,
    "start_time": "2021-11-14T20:12:06.450Z"
   },
   {
    "duration": 68,
    "start_time": "2021-11-14T20:12:06.465Z"
   },
   {
    "duration": 12,
    "start_time": "2021-11-14T20:12:06.536Z"
   },
   {
    "duration": 13,
    "start_time": "2021-11-14T20:12:06.551Z"
   },
   {
    "duration": 55,
    "start_time": "2021-11-14T20:12:06.567Z"
   },
   {
    "duration": 20,
    "start_time": "2021-11-14T20:12:06.625Z"
   },
   {
    "duration": 433,
    "start_time": "2021-11-14T20:12:06.648Z"
   },
   {
    "duration": 12,
    "start_time": "2021-11-14T20:12:07.084Z"
   },
   {
    "duration": 53,
    "start_time": "2021-11-14T20:12:07.099Z"
   },
   {
    "duration": 551,
    "start_time": "2021-11-14T20:12:07.155Z"
   },
   {
    "duration": 68,
    "start_time": "2021-11-14T20:12:07.708Z"
   },
   {
    "duration": 460,
    "start_time": "2021-11-14T20:12:07.779Z"
   },
   {
    "duration": 21,
    "start_time": "2021-11-14T20:12:08.242Z"
   },
   {
    "duration": 519,
    "start_time": "2021-11-14T20:12:08.267Z"
   },
   {
    "duration": 12,
    "start_time": "2021-11-14T20:12:08.789Z"
   },
   {
    "duration": 32,
    "start_time": "2021-11-14T20:12:08.822Z"
   },
   {
    "duration": 30,
    "start_time": "2021-11-14T20:12:08.857Z"
   },
   {
    "duration": 548,
    "start_time": "2021-11-14T20:12:08.891Z"
   },
   {
    "duration": 548,
    "start_time": "2021-11-14T20:12:09.442Z"
   },
   {
    "duration": 14,
    "start_time": "2021-11-14T20:12:09.993Z"
   },
   {
    "duration": 15,
    "start_time": "2021-11-14T20:12:10.021Z"
   },
   {
    "duration": 505,
    "start_time": "2021-11-14T20:12:10.039Z"
   },
   {
    "duration": 12,
    "start_time": "2021-11-14T20:12:10.546Z"
   },
   {
    "duration": 17,
    "start_time": "2021-11-14T20:12:10.560Z"
   },
   {
    "duration": 48,
    "start_time": "2021-11-14T20:12:10.580Z"
   },
   {
    "duration": 421,
    "start_time": "2021-11-14T20:12:10.630Z"
   },
   {
    "duration": 535,
    "start_time": "2021-11-14T20:12:11.054Z"
   },
   {
    "duration": 7,
    "start_time": "2021-11-14T20:12:11.592Z"
   },
   {
    "duration": 30,
    "start_time": "2021-11-14T20:12:11.602Z"
   },
   {
    "duration": 408,
    "start_time": "2021-11-14T20:12:11.635Z"
   },
   {
    "duration": 426,
    "start_time": "2021-11-14T20:12:12.046Z"
   },
   {
    "duration": 17,
    "start_time": "2021-11-14T20:12:12.476Z"
   },
   {
    "duration": 535,
    "start_time": "2021-11-14T20:12:12.496Z"
   },
   {
    "duration": 431,
    "start_time": "2021-11-14T20:12:13.033Z"
   },
   {
    "duration": 6,
    "start_time": "2021-11-14T20:12:13.466Z"
   },
   {
    "duration": 15,
    "start_time": "2021-11-14T20:12:13.474Z"
   },
   {
    "duration": 37,
    "start_time": "2021-11-14T20:12:13.491Z"
   },
   {
    "duration": 263,
    "start_time": "2021-11-14T20:12:13.530Z"
   },
   {
    "duration": 27,
    "start_time": "2021-11-14T20:12:13.796Z"
   },
   {
    "duration": 13,
    "start_time": "2021-11-14T20:12:13.826Z"
   },
   {
    "duration": 22,
    "start_time": "2021-11-14T20:12:13.846Z"
   },
   {
    "duration": 52,
    "start_time": "2021-11-14T20:12:13.871Z"
   }
  ],
  "kernelspec": {
   "display_name": "Python 3",
   "language": "python",
   "name": "python3"
  },
  "language_info": {
   "codemirror_mode": {
    "name": "ipython",
    "version": 3
   },
   "file_extension": ".py",
   "mimetype": "text/x-python",
   "name": "python",
   "nbconvert_exporter": "python",
   "pygments_lexer": "ipython3",
   "version": "3.7.3"
  },
  "toc": {
   "base_numbering": 1,
   "nav_menu": {},
   "number_sections": true,
   "sideBar": true,
   "skip_h1_title": true,
   "title_cell": "Table of Contents",
   "title_sidebar": "Contents",
   "toc_cell": false,
   "toc_position": {},
   "toc_section_display": true,
   "toc_window_display": false
  }
 },
 "nbformat": 4,
 "nbformat_minor": 2
}
