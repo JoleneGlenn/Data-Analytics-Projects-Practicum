{
 "cells": [
  {
   "cell_type": "markdown",
   "metadata": {},
   "source": [
    "<div style=\"border:solid Chocolate 2px; padding: 40px\">\n",
    "\n",
    "<b>Hello, Jolene!👋 How are you today?</b>\n",
    "    \n",
    "My name is Arina U. and I am glad to be your reviewer in this project! Nice to meet you! 💪😎<br />\n",
    "\n",
    "\n",
    "You can find my comments in <font color='green'>green</font>, <font color='gold'>yellow</font> and <font color='red'>red</font> boxes. Examples you can see below:\n",
    "    \n",
    "<div class=\"alert alert-block alert-success\">\n",
    "    <h2>Reviewer's commentary <a class=\"tocSkip\"> </h2>\n",
    "    <br/>\n",
    "<b>Well done!👍:</b> In case if task is completely correct and everything is alright!\n",
    "</div>\n",
    "\n",
    "\n",
    "<div class=\"alert alert-block alert-warning\">\n",
    "   <h2>Reviewer's commentary <a class=\"tocSkip\"> </h2>\n",
    "    <br/>\n",
    "<b>Remarks and recommendations📌:</b>  In case when I can give some advice that can help you to improve your work or recommend you some useful links and resources that can help you widen your knowledge and help in future tasks.\n",
    "</div>\n",
    "\n",
    "<div class=\"alert alert-block alert-danger\">\n",
    "    <h2>Reviewer's commentary <a class=\"tocSkip\"> </h2>\n",
    "    <br/>\n",
    "<b>Needs fixing!🤔:</b> In case when step requires some extra work and some corrections. Project can't be accepted with comments in the red boxes\n",
    "</div>\n",
    "\n",
    "Please pay attention to not move or change my comments. It would be good to highlight your answers in some way. \n",
    "\n",
    "#### <font color='Purple'>Student's commentary:</font> for example like this <a class=\"tocSkip\"> </div>\n",
    "    \n",
    "OK, now let's go!😏\n",
    "</font>"
   ]
  },
  {
   "cell_type": "markdown",
   "metadata": {},
   "source": [
    "#### <font color='Purple'>Student's commentary:</font> for example like this <a class=\"tocSkip\"> </div>\n",
    "    \n",
    "Hi Arina, Thank you for reviewing my project. I want to be a good coder, so I appreciate your feedback.\n",
    "I have made updates below.\n",
    "\n",
    "</font>"
   ]
  },
  {
   "cell_type": "markdown",
   "metadata": {},
   "source": [
    "<div class=\"alert alert-block alert-success\">\n",
    "    <h2>Reviewer's commentary:second iteration of the review <a class=\"tocSkip\"> </h2>\n",
    "    <br/>\n",
    "<b>Well done!👍:</b>\n",
    "        \n",
    "Hello again, Jolene! Thank you so much for your feedback, I am happy to know that the review was useful!💪\n",
    "</div>"
   ]
  },
  {
   "cell_type": "markdown",
   "metadata": {},
   "source": [
    "# Final Project: SQL\n",
    "\n",
    "***Project Background***\n",
    "- The coronavirus took the entire world by surprise, changing everyone's daily routine. City dwellers no longer spent their free time outside, going to cafes and malls; more people were at home, reading books. That attracted the attention of startups that rushed to develop new apps for book lovers. \n",
    "\n",
    "- You've been given a database of one of the services competing in this market. It contains data on books, publishers, authors, and customer ratings and reviews of books. This information will be used to generate a value proposition for a new product.\n",
    "\n",
    "- Value Propositions:\n",
    "    - A company's value proposition tells a customer the number one reason why a product or service is best suited for that particular customer.\n",
    "    - A value proposition should be communicated to customers directly, either via the company's website or other marketing or advertising materials.\n",
    "    - Value propositions can follow different formats, as long as they are \"on brand,\" unique, and specific to the company in question.\n",
    "    - A successful value proposition should be persuasive and help turn a prospect into a paying customer.\n",
    "    - More info: https://www.investopedia.com/terms/v/valueproposition.asp\n",
    "\n",
    "***Project Goal***\n",
    "- Use the provided databases on books, publishers, authors, and customer ratings and reviews of books to collect information that will be used to generate a value proposition for a new product.\n",
    "\n",
    "***Instructions for completing the project***\n",
    "\n",
    "- Describe the goals of the study.\n",
    "- Study the tables (print the first rows).\n",
    "    - `books` Table\n",
    "    - `authors` Table\n",
    "    - `publishers` Table\n",
    "    - `ratings` Table\n",
    "    - `reviews` Table\n",
    "- Make a SQL query for each of the tasks.\n",
    "    - Find the number of books released after January 1, 2000.\n",
    "    - Find the number of user reviews and the average rating for each book.\n",
    "    - Identify the publisher that has released the greatest number of books with more than 50 pages (this will help you exclude brochures and similar publications from your analysis).\n",
    "    - Identify the author with the highest average book rating (look only at books with at least 50 ratings).\n",
    "    - Find the average number of text reviews among users who rated more than 50 books.\n",
    "- Output the results of each query in the Notebook.\n",
    "- Describe your conclusions for each of the tasks.\n",
    "\n",
    "***Important things to consider***\n",
    "- Don't forget functions! They can make your life and running queries considerably easier.\n",
    "- Your results must be obtained with SQL. Use pandas only to print and store query results.\n",
    "\n",
    "***Description of the data***\n",
    "\n",
    "- `**books**` - Contains data on books:\n",
    "    - `book_id`\n",
    "    - `author_id`\n",
    "    - `title`\n",
    "    - `num_pages` — number of pages\n",
    "    - `publication_date`\n",
    "    - `publisher_id`\n",
    "\n",
    "- `**authors**` - Contains data on authors:\n",
    "    - `author_id`\n",
    "    - `author`\n",
    "\n",
    "- `**publishers**` - Contains data on publishers:\n",
    "    - `publisher_id`\n",
    "    - `publisher`\n",
    "\n",
    "- `**ratings**` - Contains data on user ratings:\n",
    "    - `rating_id`\n",
    "    - `book_id`\n",
    "    - `username` — the name of the user who rated the book\n",
    "    - `rating`\n",
    "\n",
    "- `**reviews**` - Contains data on customer reviews:\n",
    "    - `review_id`\n",
    "    - `book_id`\n",
    "    - `username` — the name of the user who reviewed the book\n",
    "    - `text` — the text of the review"
   ]
  },
  {
   "cell_type": "markdown",
   "metadata": {},
   "source": [
    "<div class=\"alert alert-block alert-success\">\n",
    "    <h2>Reviewer's commentary <a class=\"tocSkip\"> </h2>\n",
    "    <br/>\n",
    "<b>Well done!👍:</b> \n",
    "        \n",
    "Ok, good intro to the project!\n",
    "</div>"
   ]
  },
  {
   "cell_type": "markdown",
   "metadata": {},
   "source": [
    "# Import Libraries"
   ]
  },
  {
   "cell_type": "code",
   "execution_count": 1,
   "metadata": {},
   "outputs": [],
   "source": [
    "import pandas as pd\n",
    "from sqlalchemy import create_engine"
   ]
  },
  {
   "cell_type": "markdown",
   "metadata": {},
   "source": [
    "# Connect to the database"
   ]
  },
  {
   "cell_type": "code",
   "execution_count": 2,
   "metadata": {},
   "outputs": [],
   "source": [
    "# Create a data base connection  \n",
    "db_config = {'user': 'praktikum_student',         # user name\n",
    "             'pwd': 'Sdf4$2;d-d30pp', # password\n",
    "             'host': 'rc1b-wcoijxj3yxfsf3fs.mdb.yandexcloud.net',\n",
    "             'port': 6432,              # connection port\n",
    "             'db': 'data-analyst-final-project-db'}          # the name of the data base\n",
    "\n",
    "connection_string = 'postgresql://{}:{}@{}:{}/{}'.format(db_config['user'],\n",
    "                                                                     db_config['pwd'],\n",
    "                                                                       db_config['host'],\n",
    "                                                                       db_config['port'],\n",
    "                                                                       db_config['db'])\n",
    "\n",
    "engine = create_engine(connection_string, connect_args={'sslmode':'require'})"
   ]
  },
  {
   "cell_type": "markdown",
   "metadata": {},
   "source": [
    "# Study the tables (print the first rows)\n",
    "- `books` Table\n",
    "- `authors` Table\n",
    "- `publishers` Table\n",
    "- `ratings` Table\n",
    "- `reviews` Table"
   ]
  },
  {
   "cell_type": "code",
   "execution_count": 3,
   "metadata": {},
   "outputs": [],
   "source": [
    "# create a fucntion that runs queries and prints first few rows\n",
    "def sql_query_print_five(database_table):\n",
    "    query = '''SELECT * FROM {}'''.format(database_table)\n",
    "    results = pd.io.sql.read_sql(query, con = engine)\n",
    "    return results.head()"
   ]
  },
  {
   "cell_type": "markdown",
   "metadata": {},
   "source": [
    "***`books` Table***"
   ]
  },
  {
   "cell_type": "code",
   "execution_count": 4,
   "metadata": {},
   "outputs": [
    {
     "data": {
      "text/html": [
       "<div>\n",
       "<style scoped>\n",
       "    .dataframe tbody tr th:only-of-type {\n",
       "        vertical-align: middle;\n",
       "    }\n",
       "\n",
       "    .dataframe tbody tr th {\n",
       "        vertical-align: top;\n",
       "    }\n",
       "\n",
       "    .dataframe thead th {\n",
       "        text-align: right;\n",
       "    }\n",
       "</style>\n",
       "<table border=\"1\" class=\"dataframe\">\n",
       "  <thead>\n",
       "    <tr style=\"text-align: right;\">\n",
       "      <th></th>\n",
       "      <th>book_id</th>\n",
       "      <th>author_id</th>\n",
       "      <th>title</th>\n",
       "      <th>num_pages</th>\n",
       "      <th>publication_date</th>\n",
       "      <th>publisher_id</th>\n",
       "    </tr>\n",
       "  </thead>\n",
       "  <tbody>\n",
       "    <tr>\n",
       "      <td>0</td>\n",
       "      <td>1</td>\n",
       "      <td>546</td>\n",
       "      <td>'Salem's Lot</td>\n",
       "      <td>594</td>\n",
       "      <td>2005-11-01</td>\n",
       "      <td>93</td>\n",
       "    </tr>\n",
       "    <tr>\n",
       "      <td>1</td>\n",
       "      <td>2</td>\n",
       "      <td>465</td>\n",
       "      <td>1 000 Places to See Before You Die</td>\n",
       "      <td>992</td>\n",
       "      <td>2003-05-22</td>\n",
       "      <td>336</td>\n",
       "    </tr>\n",
       "    <tr>\n",
       "      <td>2</td>\n",
       "      <td>3</td>\n",
       "      <td>407</td>\n",
       "      <td>13 Little Blue Envelopes (Little Blue Envelope...</td>\n",
       "      <td>322</td>\n",
       "      <td>2010-12-21</td>\n",
       "      <td>135</td>\n",
       "    </tr>\n",
       "    <tr>\n",
       "      <td>3</td>\n",
       "      <td>4</td>\n",
       "      <td>82</td>\n",
       "      <td>1491: New Revelations of the Americas Before C...</td>\n",
       "      <td>541</td>\n",
       "      <td>2006-10-10</td>\n",
       "      <td>309</td>\n",
       "    </tr>\n",
       "    <tr>\n",
       "      <td>4</td>\n",
       "      <td>5</td>\n",
       "      <td>125</td>\n",
       "      <td>1776</td>\n",
       "      <td>386</td>\n",
       "      <td>2006-07-04</td>\n",
       "      <td>268</td>\n",
       "    </tr>\n",
       "  </tbody>\n",
       "</table>\n",
       "</div>"
      ],
      "text/plain": [
       "   book_id  author_id                                              title  \\\n",
       "0        1        546                                       'Salem's Lot   \n",
       "1        2        465                 1 000 Places to See Before You Die   \n",
       "2        3        407  13 Little Blue Envelopes (Little Blue Envelope...   \n",
       "3        4         82  1491: New Revelations of the Americas Before C...   \n",
       "4        5        125                                               1776   \n",
       "\n",
       "   num_pages publication_date  publisher_id  \n",
       "0        594       2005-11-01            93  \n",
       "1        992       2003-05-22           336  \n",
       "2        322       2010-12-21           135  \n",
       "3        541       2006-10-10           309  \n",
       "4        386       2006-07-04           268  "
      ]
     },
     "execution_count": 4,
     "metadata": {},
     "output_type": "execute_result"
    }
   ],
   "source": [
    "books_table = sql_query_print_five('books')\n",
    "books_table"
   ]
  },
  {
   "cell_type": "markdown",
   "metadata": {},
   "source": [
    "***`authors` Table***"
   ]
  },
  {
   "cell_type": "code",
   "execution_count": 5,
   "metadata": {},
   "outputs": [
    {
     "data": {
      "text/html": [
       "<div>\n",
       "<style scoped>\n",
       "    .dataframe tbody tr th:only-of-type {\n",
       "        vertical-align: middle;\n",
       "    }\n",
       "\n",
       "    .dataframe tbody tr th {\n",
       "        vertical-align: top;\n",
       "    }\n",
       "\n",
       "    .dataframe thead th {\n",
       "        text-align: right;\n",
       "    }\n",
       "</style>\n",
       "<table border=\"1\" class=\"dataframe\">\n",
       "  <thead>\n",
       "    <tr style=\"text-align: right;\">\n",
       "      <th></th>\n",
       "      <th>author_id</th>\n",
       "      <th>author</th>\n",
       "    </tr>\n",
       "  </thead>\n",
       "  <tbody>\n",
       "    <tr>\n",
       "      <td>0</td>\n",
       "      <td>1</td>\n",
       "      <td>A.S. Byatt</td>\n",
       "    </tr>\n",
       "    <tr>\n",
       "      <td>1</td>\n",
       "      <td>2</td>\n",
       "      <td>Aesop/Laura Harris/Laura Gibbs</td>\n",
       "    </tr>\n",
       "    <tr>\n",
       "      <td>2</td>\n",
       "      <td>3</td>\n",
       "      <td>Agatha Christie</td>\n",
       "    </tr>\n",
       "    <tr>\n",
       "      <td>3</td>\n",
       "      <td>4</td>\n",
       "      <td>Alan Brennert</td>\n",
       "    </tr>\n",
       "    <tr>\n",
       "      <td>4</td>\n",
       "      <td>5</td>\n",
       "      <td>Alan Moore/David   Lloyd</td>\n",
       "    </tr>\n",
       "  </tbody>\n",
       "</table>\n",
       "</div>"
      ],
      "text/plain": [
       "   author_id                          author\n",
       "0          1                      A.S. Byatt\n",
       "1          2  Aesop/Laura Harris/Laura Gibbs\n",
       "2          3                 Agatha Christie\n",
       "3          4                   Alan Brennert\n",
       "4          5        Alan Moore/David   Lloyd"
      ]
     },
     "execution_count": 5,
     "metadata": {},
     "output_type": "execute_result"
    }
   ],
   "source": [
    "authors_table = sql_query_print_five('authors')\n",
    "authors_table"
   ]
  },
  {
   "cell_type": "markdown",
   "metadata": {},
   "source": [
    "***`publishers` Table***"
   ]
  },
  {
   "cell_type": "code",
   "execution_count": 6,
   "metadata": {},
   "outputs": [
    {
     "data": {
      "text/html": [
       "<div>\n",
       "<style scoped>\n",
       "    .dataframe tbody tr th:only-of-type {\n",
       "        vertical-align: middle;\n",
       "    }\n",
       "\n",
       "    .dataframe tbody tr th {\n",
       "        vertical-align: top;\n",
       "    }\n",
       "\n",
       "    .dataframe thead th {\n",
       "        text-align: right;\n",
       "    }\n",
       "</style>\n",
       "<table border=\"1\" class=\"dataframe\">\n",
       "  <thead>\n",
       "    <tr style=\"text-align: right;\">\n",
       "      <th></th>\n",
       "      <th>publisher_id</th>\n",
       "      <th>publisher</th>\n",
       "    </tr>\n",
       "  </thead>\n",
       "  <tbody>\n",
       "    <tr>\n",
       "      <td>0</td>\n",
       "      <td>1</td>\n",
       "      <td>Ace</td>\n",
       "    </tr>\n",
       "    <tr>\n",
       "      <td>1</td>\n",
       "      <td>2</td>\n",
       "      <td>Ace Book</td>\n",
       "    </tr>\n",
       "    <tr>\n",
       "      <td>2</td>\n",
       "      <td>3</td>\n",
       "      <td>Ace Books</td>\n",
       "    </tr>\n",
       "    <tr>\n",
       "      <td>3</td>\n",
       "      <td>4</td>\n",
       "      <td>Ace Hardcover</td>\n",
       "    </tr>\n",
       "    <tr>\n",
       "      <td>4</td>\n",
       "      <td>5</td>\n",
       "      <td>Addison Wesley Publishing Company</td>\n",
       "    </tr>\n",
       "  </tbody>\n",
       "</table>\n",
       "</div>"
      ],
      "text/plain": [
       "   publisher_id                          publisher\n",
       "0             1                                Ace\n",
       "1             2                           Ace Book\n",
       "2             3                          Ace Books\n",
       "3             4                      Ace Hardcover\n",
       "4             5  Addison Wesley Publishing Company"
      ]
     },
     "execution_count": 6,
     "metadata": {},
     "output_type": "execute_result"
    }
   ],
   "source": [
    "publishers_table = sql_query_print_five('publishers')\n",
    "publishers_table"
   ]
  },
  {
   "cell_type": "markdown",
   "metadata": {},
   "source": [
    "***`ratings` Table***"
   ]
  },
  {
   "cell_type": "code",
   "execution_count": 7,
   "metadata": {},
   "outputs": [
    {
     "data": {
      "text/html": [
       "<div>\n",
       "<style scoped>\n",
       "    .dataframe tbody tr th:only-of-type {\n",
       "        vertical-align: middle;\n",
       "    }\n",
       "\n",
       "    .dataframe tbody tr th {\n",
       "        vertical-align: top;\n",
       "    }\n",
       "\n",
       "    .dataframe thead th {\n",
       "        text-align: right;\n",
       "    }\n",
       "</style>\n",
       "<table border=\"1\" class=\"dataframe\">\n",
       "  <thead>\n",
       "    <tr style=\"text-align: right;\">\n",
       "      <th></th>\n",
       "      <th>rating_id</th>\n",
       "      <th>book_id</th>\n",
       "      <th>username</th>\n",
       "      <th>rating</th>\n",
       "    </tr>\n",
       "  </thead>\n",
       "  <tbody>\n",
       "    <tr>\n",
       "      <td>0</td>\n",
       "      <td>1</td>\n",
       "      <td>1</td>\n",
       "      <td>ryanfranco</td>\n",
       "      <td>4</td>\n",
       "    </tr>\n",
       "    <tr>\n",
       "      <td>1</td>\n",
       "      <td>2</td>\n",
       "      <td>1</td>\n",
       "      <td>grantpatricia</td>\n",
       "      <td>2</td>\n",
       "    </tr>\n",
       "    <tr>\n",
       "      <td>2</td>\n",
       "      <td>3</td>\n",
       "      <td>1</td>\n",
       "      <td>brandtandrea</td>\n",
       "      <td>5</td>\n",
       "    </tr>\n",
       "    <tr>\n",
       "      <td>3</td>\n",
       "      <td>4</td>\n",
       "      <td>2</td>\n",
       "      <td>lorichen</td>\n",
       "      <td>3</td>\n",
       "    </tr>\n",
       "    <tr>\n",
       "      <td>4</td>\n",
       "      <td>5</td>\n",
       "      <td>2</td>\n",
       "      <td>mariokeller</td>\n",
       "      <td>2</td>\n",
       "    </tr>\n",
       "  </tbody>\n",
       "</table>\n",
       "</div>"
      ],
      "text/plain": [
       "   rating_id  book_id       username  rating\n",
       "0          1        1     ryanfranco       4\n",
       "1          2        1  grantpatricia       2\n",
       "2          3        1   brandtandrea       5\n",
       "3          4        2       lorichen       3\n",
       "4          5        2    mariokeller       2"
      ]
     },
     "execution_count": 7,
     "metadata": {},
     "output_type": "execute_result"
    }
   ],
   "source": [
    "ratings_table = sql_query_print_five('ratings')\n",
    "ratings_table"
   ]
  },
  {
   "cell_type": "markdown",
   "metadata": {},
   "source": [
    "***`reviews` Table***"
   ]
  },
  {
   "cell_type": "code",
   "execution_count": 8,
   "metadata": {},
   "outputs": [
    {
     "data": {
      "text/html": [
       "<div>\n",
       "<style scoped>\n",
       "    .dataframe tbody tr th:only-of-type {\n",
       "        vertical-align: middle;\n",
       "    }\n",
       "\n",
       "    .dataframe tbody tr th {\n",
       "        vertical-align: top;\n",
       "    }\n",
       "\n",
       "    .dataframe thead th {\n",
       "        text-align: right;\n",
       "    }\n",
       "</style>\n",
       "<table border=\"1\" class=\"dataframe\">\n",
       "  <thead>\n",
       "    <tr style=\"text-align: right;\">\n",
       "      <th></th>\n",
       "      <th>review_id</th>\n",
       "      <th>book_id</th>\n",
       "      <th>username</th>\n",
       "      <th>text</th>\n",
       "    </tr>\n",
       "  </thead>\n",
       "  <tbody>\n",
       "    <tr>\n",
       "      <td>0</td>\n",
       "      <td>1</td>\n",
       "      <td>1</td>\n",
       "      <td>brandtandrea</td>\n",
       "      <td>Mention society tell send professor analysis. ...</td>\n",
       "    </tr>\n",
       "    <tr>\n",
       "      <td>1</td>\n",
       "      <td>2</td>\n",
       "      <td>1</td>\n",
       "      <td>ryanfranco</td>\n",
       "      <td>Foot glass pretty audience hit themselves. Amo...</td>\n",
       "    </tr>\n",
       "    <tr>\n",
       "      <td>2</td>\n",
       "      <td>3</td>\n",
       "      <td>2</td>\n",
       "      <td>lorichen</td>\n",
       "      <td>Listen treat keep worry. Miss husband tax but ...</td>\n",
       "    </tr>\n",
       "    <tr>\n",
       "      <td>3</td>\n",
       "      <td>4</td>\n",
       "      <td>3</td>\n",
       "      <td>johnsonamanda</td>\n",
       "      <td>Finally month interesting blue could nature cu...</td>\n",
       "    </tr>\n",
       "    <tr>\n",
       "      <td>4</td>\n",
       "      <td>5</td>\n",
       "      <td>3</td>\n",
       "      <td>scotttamara</td>\n",
       "      <td>Nation purpose heavy give wait song will. List...</td>\n",
       "    </tr>\n",
       "  </tbody>\n",
       "</table>\n",
       "</div>"
      ],
      "text/plain": [
       "   review_id  book_id       username  \\\n",
       "0          1        1   brandtandrea   \n",
       "1          2        1     ryanfranco   \n",
       "2          3        2       lorichen   \n",
       "3          4        3  johnsonamanda   \n",
       "4          5        3    scotttamara   \n",
       "\n",
       "                                                text  \n",
       "0  Mention society tell send professor analysis. ...  \n",
       "1  Foot glass pretty audience hit themselves. Amo...  \n",
       "2  Listen treat keep worry. Miss husband tax but ...  \n",
       "3  Finally month interesting blue could nature cu...  \n",
       "4  Nation purpose heavy give wait song will. List...  "
      ]
     },
     "execution_count": 8,
     "metadata": {},
     "output_type": "execute_result"
    }
   ],
   "source": [
    "reviews_table = sql_query_print_five('reviews')\n",
    "reviews_table"
   ]
  },
  {
   "cell_type": "markdown",
   "metadata": {},
   "source": [
    "- A function was used to evaluate the first five rows of each table"
   ]
  },
  {
   "cell_type": "markdown",
   "metadata": {},
   "source": [
    "<div class=\"alert alert-block alert-success\">\n",
    "    <h2>Reviewer's commentary <a class=\"tocSkip\"> </h2>\n",
    "    <br/>\n",
    "<b>Well done!👍:</b> \n",
    "        \n",
    "Ok, you managed to investigate the data, let's move on!\n",
    "</div>"
   ]
  },
  {
   "cell_type": "markdown",
   "metadata": {},
   "source": [
    "# Make a SQL query for each of the tasks.\n",
    "- Find the number of books released after January 1, 2000.\n",
    "- Find the number of user reviews and the average rating for each book.\n",
    "- Identify the publisher that has released the greatest number of books with more than 50 pages (this will help you exclude brochures and similar publications from your analysis).\n",
    "- Identify the author with the highest average book rating (look only at books with at least 50 ratings).\n",
    "- Find the average number of text reviews among users who rated more than 50 books."
   ]
  },
  {
   "cell_type": "code",
   "execution_count": 9,
   "metadata": {},
   "outputs": [],
   "source": [
    "# create a function to read and provide the results of each query\n",
    "def read_results(query_name):\n",
    "    results = pd.io.sql.read_sql(query_name, con = engine)\n",
    "    return results"
   ]
  },
  {
   "cell_type": "markdown",
   "metadata": {},
   "source": [
    "***Find the number of books released after January 1, 2000.***"
   ]
  },
  {
   "cell_type": "code",
   "execution_count": 10,
   "metadata": {},
   "outputs": [
    {
     "data": {
      "text/html": [
       "<div>\n",
       "<style scoped>\n",
       "    .dataframe tbody tr th:only-of-type {\n",
       "        vertical-align: middle;\n",
       "    }\n",
       "\n",
       "    .dataframe tbody tr th {\n",
       "        vertical-align: top;\n",
       "    }\n",
       "\n",
       "    .dataframe thead th {\n",
       "        text-align: right;\n",
       "    }\n",
       "</style>\n",
       "<table border=\"1\" class=\"dataframe\">\n",
       "  <thead>\n",
       "    <tr style=\"text-align: right;\">\n",
       "      <th></th>\n",
       "      <th>num_books_released</th>\n",
       "    </tr>\n",
       "  </thead>\n",
       "  <tbody>\n",
       "    <tr>\n",
       "      <td>0</td>\n",
       "      <td>819</td>\n",
       "    </tr>\n",
       "  </tbody>\n",
       "</table>\n",
       "</div>"
      ],
      "text/plain": [
       "   num_books_released\n",
       "0                 819"
      ]
     },
     "execution_count": 10,
     "metadata": {},
     "output_type": "execute_result"
    }
   ],
   "source": [
    "num_books_query = '''\n",
    "SELECT \n",
    "    COUNT(*) AS num_books_released\n",
    "FROM \n",
    "    books \n",
    "WHERE \n",
    "    publication_date > '2000-01-01';\n",
    "'''\n",
    "num_books_query_result = read_results(num_books_query)\n",
    "num_books_query_result"
   ]
  },
  {
   "cell_type": "markdown",
   "metadata": {},
   "source": [
    "- In this dataset there are 819 books released after January 1, 2000"
   ]
  },
  {
   "cell_type": "markdown",
   "metadata": {},
   "source": [
    "<div class=\"alert alert-block alert-success\">\n",
    "    <h2>Reviewer's commentary <a class=\"tocSkip\"> </h2>\n",
    "    <br/>\n",
    "<b>Well done!👍:</b> \n",
    "        \n",
    "Ok, agree with your result here!\n",
    "</div>"
   ]
  },
  {
   "cell_type": "markdown",
   "metadata": {},
   "source": [
    "***Find the number of user reviews and the average rating for each book***"
   ]
  },
  {
   "cell_type": "code",
   "execution_count": 11,
   "metadata": {
    "scrolled": false
   },
   "outputs": [
    {
     "data": {
      "text/html": [
       "<div>\n",
       "<style scoped>\n",
       "    .dataframe tbody tr th:only-of-type {\n",
       "        vertical-align: middle;\n",
       "    }\n",
       "\n",
       "    .dataframe tbody tr th {\n",
       "        vertical-align: top;\n",
       "    }\n",
       "\n",
       "    .dataframe thead th {\n",
       "        text-align: right;\n",
       "    }\n",
       "</style>\n",
       "<table border=\"1\" class=\"dataframe\">\n",
       "  <thead>\n",
       "    <tr style=\"text-align: right;\">\n",
       "      <th></th>\n",
       "      <th>book_id</th>\n",
       "      <th>title</th>\n",
       "      <th>num_user_reviews</th>\n",
       "      <th>avg_rating_per_book</th>\n",
       "    </tr>\n",
       "  </thead>\n",
       "  <tbody>\n",
       "    <tr>\n",
       "      <td>0</td>\n",
       "      <td>948</td>\n",
       "      <td>Twilight (Twilight  #1)</td>\n",
       "      <td>1120</td>\n",
       "      <td>3.66</td>\n",
       "    </tr>\n",
       "    <tr>\n",
       "      <td>1</td>\n",
       "      <td>750</td>\n",
       "      <td>The Hobbit  or There and Back Again</td>\n",
       "      <td>528</td>\n",
       "      <td>4.13</td>\n",
       "    </tr>\n",
       "    <tr>\n",
       "      <td>2</td>\n",
       "      <td>673</td>\n",
       "      <td>The Catcher in the Rye</td>\n",
       "      <td>516</td>\n",
       "      <td>3.83</td>\n",
       "    </tr>\n",
       "    <tr>\n",
       "      <td>3</td>\n",
       "      <td>302</td>\n",
       "      <td>Harry Potter and the Prisoner of Azkaban (Harr...</td>\n",
       "      <td>492</td>\n",
       "      <td>4.41</td>\n",
       "    </tr>\n",
       "    <tr>\n",
       "      <td>4</td>\n",
       "      <td>299</td>\n",
       "      <td>Harry Potter and the Chamber of Secrets (Harry...</td>\n",
       "      <td>480</td>\n",
       "      <td>4.29</td>\n",
       "    </tr>\n",
       "    <tr>\n",
       "      <td>...</td>\n",
       "      <td>...</td>\n",
       "      <td>...</td>\n",
       "      <td>...</td>\n",
       "      <td>...</td>\n",
       "    </tr>\n",
       "    <tr>\n",
       "      <td>995</td>\n",
       "      <td>221</td>\n",
       "      <td>Essential Tales and Poems</td>\n",
       "      <td>0</td>\n",
       "      <td>4.00</td>\n",
       "    </tr>\n",
       "    <tr>\n",
       "      <td>996</td>\n",
       "      <td>808</td>\n",
       "      <td>The Natural Way to Draw</td>\n",
       "      <td>0</td>\n",
       "      <td>3.00</td>\n",
       "    </tr>\n",
       "    <tr>\n",
       "      <td>997</td>\n",
       "      <td>191</td>\n",
       "      <td>Disney's Beauty and the Beast (A Little Golden...</td>\n",
       "      <td>0</td>\n",
       "      <td>4.00</td>\n",
       "    </tr>\n",
       "    <tr>\n",
       "      <td>998</td>\n",
       "      <td>83</td>\n",
       "      <td>Anne Rice's The Vampire Lestat: A Graphic Novel</td>\n",
       "      <td>0</td>\n",
       "      <td>3.67</td>\n",
       "    </tr>\n",
       "    <tr>\n",
       "      <td>999</td>\n",
       "      <td>672</td>\n",
       "      <td>The Cat in the Hat and Other Dr. Seuss Favorites</td>\n",
       "      <td>0</td>\n",
       "      <td>5.00</td>\n",
       "    </tr>\n",
       "  </tbody>\n",
       "</table>\n",
       "<p>1000 rows × 4 columns</p>\n",
       "</div>"
      ],
      "text/plain": [
       "     book_id                                              title  \\\n",
       "0        948                            Twilight (Twilight  #1)   \n",
       "1        750                The Hobbit  or There and Back Again   \n",
       "2        673                             The Catcher in the Rye   \n",
       "3        302  Harry Potter and the Prisoner of Azkaban (Harr...   \n",
       "4        299  Harry Potter and the Chamber of Secrets (Harry...   \n",
       "..       ...                                                ...   \n",
       "995      221                          Essential Tales and Poems   \n",
       "996      808                            The Natural Way to Draw   \n",
       "997      191  Disney's Beauty and the Beast (A Little Golden...   \n",
       "998       83    Anne Rice's The Vampire Lestat: A Graphic Novel   \n",
       "999      672   The Cat in the Hat and Other Dr. Seuss Favorites   \n",
       "\n",
       "     num_user_reviews  avg_rating_per_book  \n",
       "0                1120                 3.66  \n",
       "1                 528                 4.13  \n",
       "2                 516                 3.83  \n",
       "3                 492                 4.41  \n",
       "4                 480                 4.29  \n",
       "..                ...                  ...  \n",
       "995                 0                 4.00  \n",
       "996                 0                 3.00  \n",
       "997                 0                 4.00  \n",
       "998                 0                 3.67  \n",
       "999                 0                 5.00  \n",
       "\n",
       "[1000 rows x 4 columns]"
      ]
     },
     "execution_count": 11,
     "metadata": {},
     "output_type": "execute_result"
    }
   ],
   "source": [
    "num_reviews_avg_rating_query = '''\n",
    "SELECT \n",
    "    books.book_id,\n",
    "    books.title,\n",
    "    COUNT(reviews.review_id) AS num_user_reviews,\n",
    "    ROUND(AVG(ratings.rating), 2) AS avg_rating_per_book\n",
    "FROM \n",
    "    books\n",
    "    LEFT JOIN reviews ON books.book_id = reviews.book_id\n",
    "    LEFT JOIN ratings ON books.book_id = ratings.book_id\n",
    "GROUP BY \n",
    "    books.book_id\n",
    "ORDER BY \n",
    "    num_user_reviews DESC;\n",
    "'''\n",
    "num_reviews_avg_rating_results = read_results(num_reviews_avg_rating_query)\n",
    "num_reviews_avg_rating_results"
   ]
  },
  {
   "cell_type": "markdown",
   "metadata": {},
   "source": [
    "- Several tables were combined to create a table showing the number of reviews and the averge rating for each book"
   ]
  },
  {
   "attachments": {
    "image.png": {
     "image/png": "[encoded data removed]"
    }
   },
   "cell_type": "markdown",
   "metadata": {},
   "source": [
    "<div class=\"alert alert-block alert-danger\">\n",
    "    <h2>Reviewer's commentary <a class=\"tocSkip\"> </h2>\n",
    "    <br/>\n",
    "<b>Needs fixing!🤔:</b>\n",
    "        \n",
    "Your result is not very correct here.\n",
    "        \n",
    "It is better not to use the DISTINCT with COUNT we get not all the reviews for each book? also, it is better to sort the table in descending order by the number of the reviews to get the leaders at the top of the table, look at the example:\n",
    "        \n",
    "![image.png](attachment:image.png)"
   ]
  },
  {
   "cell_type": "markdown",
   "metadata": {},
   "source": [
    "#### <font color='Purple'>Student's commentary:</font> for example like this <a class=\"tocSkip\"> </div>\n",
    "    \n",
    "I removed DISTINCT and put the table in descending order.\n",
    "\n",
    "I see now that I completely glanced over the results and didnt think about it thoroughly enough before moving on. I will aim to be better in the future.\n",
    "\n",
    "</font>"
   ]
  },
  {
   "cell_type": "markdown",
   "metadata": {},
   "source": [
    "<div class=\"alert alert-block alert-success\">\n",
    "    <h2>Reviewer's commentary:second iteration of the review <a class=\"tocSkip\"> </h2>\n",
    "    <br/>\n",
    "<b>Well done!👍:</b>\n",
    "        \n",
    "Ok, this time the result is correct! Yes, the idea here, that we want to know the number of all reviews per each book, also ordering can be important thing, it's matter by what column we sort and in what order."
   ]
  },
  {
   "cell_type": "markdown",
   "metadata": {},
   "source": [
    "***Identify the publisher that has released the greatest number of books with more than 50 pages (this will help you exclude brochures and similar publications from your analysis).***"
   ]
  },
  {
   "cell_type": "code",
   "execution_count": 12,
   "metadata": {
    "scrolled": false
   },
   "outputs": [
    {
     "data": {
      "text/html": [
       "<div>\n",
       "<style scoped>\n",
       "    .dataframe tbody tr th:only-of-type {\n",
       "        vertical-align: middle;\n",
       "    }\n",
       "\n",
       "    .dataframe tbody tr th {\n",
       "        vertical-align: top;\n",
       "    }\n",
       "\n",
       "    .dataframe thead th {\n",
       "        text-align: right;\n",
       "    }\n",
       "</style>\n",
       "<table border=\"1\" class=\"dataframe\">\n",
       "  <thead>\n",
       "    <tr style=\"text-align: right;\">\n",
       "      <th></th>\n",
       "      <th>publisher</th>\n",
       "      <th>num_books_published</th>\n",
       "    </tr>\n",
       "  </thead>\n",
       "  <tbody>\n",
       "    <tr>\n",
       "      <td>0</td>\n",
       "      <td>Penguin Books</td>\n",
       "      <td>42</td>\n",
       "    </tr>\n",
       "  </tbody>\n",
       "</table>\n",
       "</div>"
      ],
      "text/plain": [
       "       publisher  num_books_published\n",
       "0  Penguin Books                   42"
      ]
     },
     "execution_count": 12,
     "metadata": {},
     "output_type": "execute_result"
    }
   ],
   "source": [
    "publishers_with_most_query = '''\n",
    "SELECT publishers.publisher,\n",
    "    COUNT(DISTINCT(books.book_id)) AS num_books_published\n",
    "FROM publishers\n",
    "    INNER JOIN books ON books.publisher_id = publishers.publisher_id\n",
    "WHERE \n",
    "    books.num_pages > 50\n",
    "GROUP BY \n",
    "    publisher\n",
    "ORDER BY \n",
    "    num_books_published DESC\n",
    "LIMIT 1;\n",
    "'''\n",
    "publishers_with_most_query_results = read_results(publishers_with_most_query)\n",
    "publishers_with_most_query_results.head()"
   ]
  },
  {
   "cell_type": "markdown",
   "metadata": {},
   "source": [
    "- Some tables were combined to discover that Penguin Books has published the most books with 42 books published, this was determined by excluding any books that had less than 50 pages."
   ]
  },
  {
   "cell_type": "markdown",
   "metadata": {},
   "source": [
    "\n",
    "<div class=\"alert alert-block alert-warning\">\n",
    "   <h2>Reviewer's commentary <a class=\"tocSkip\"> </h2>\n",
    "    <br/>\n",
    "<b>Remarks and recommendations📌:</b>  \n",
    "       \n",
    "As a whole correct, but try to use LIMIT here to get the leader👀\n",
    "</div>"
   ]
  },
  {
   "cell_type": "markdown",
   "metadata": {},
   "source": [
    "#### <font color='Purple'>Student's commentary:</font> for example like this <a class=\"tocSkip\"> </div>\n",
    "    \n",
    "I focused on the top result.\n",
    "</font>"
   ]
  },
  {
   "cell_type": "markdown",
   "metadata": {},
   "source": [
    "<div class=\"alert alert-block alert-success\">\n",
    "    <h2>Reviewer's commentary:second iteration of the review <a class=\"tocSkip\"> </h2>\n",
    "    <br/>\n",
    "<b>Well done!👍:</b>\n",
    "        \n",
    "Ok, good!"
   ]
  },
  {
   "cell_type": "markdown",
   "metadata": {},
   "source": [
    "***Identify the author with the highest average book rating (look only at books with at least 50 ratings).***"
   ]
  },
  {
   "cell_type": "code",
   "execution_count": 13,
   "metadata": {},
   "outputs": [
    {
     "data": {
      "text/html": [
       "<div>\n",
       "<style scoped>\n",
       "    .dataframe tbody tr th:only-of-type {\n",
       "        vertical-align: middle;\n",
       "    }\n",
       "\n",
       "    .dataframe tbody tr th {\n",
       "        vertical-align: top;\n",
       "    }\n",
       "\n",
       "    .dataframe thead th {\n",
       "        text-align: right;\n",
       "    }\n",
       "</style>\n",
       "<table border=\"1\" class=\"dataframe\">\n",
       "  <thead>\n",
       "    <tr style=\"text-align: right;\">\n",
       "      <th></th>\n",
       "      <th>title</th>\n",
       "      <th>author</th>\n",
       "      <th>average_book_rating</th>\n",
       "    </tr>\n",
       "  </thead>\n",
       "  <tbody>\n",
       "    <tr>\n",
       "      <td>0</td>\n",
       "      <td>Harry Potter and the Prisoner of Azkaban (Harr...</td>\n",
       "      <td>J.K. Rowling/Mary GrandPré</td>\n",
       "      <td>4.414634</td>\n",
       "    </tr>\n",
       "  </tbody>\n",
       "</table>\n",
       "</div>"
      ],
      "text/plain": [
       "                                               title  \\\n",
       "0  Harry Potter and the Prisoner of Azkaban (Harr...   \n",
       "\n",
       "                       author  average_book_rating  \n",
       "0  J.K. Rowling/Mary GrandPré             4.414634  "
      ]
     },
     "execution_count": 13,
     "metadata": {},
     "output_type": "execute_result"
    }
   ],
   "source": [
    "highest_avg_book_query = '''\n",
    "SELECT \n",
    "    title, \n",
    "    author, \n",
    "    AVG(rating) AS average_book_rating\n",
    "FROM\n",
    "    (SELECT \n",
    "    *\n",
    "    FROM \n",
    "        books\n",
    "        INNER JOIN authors on authors.author_id = books.author_id\n",
    "        INNER JOIN ratings on ratings.book_id = books.book_id) AS book_data\n",
    "GROUP BY \n",
    "    author,\n",
    "    title\n",
    "HAVING COUNT(rating) > 50\n",
    "ORDER BY average_book_rating DESC\n",
    "LIMIT 1;\n",
    "'''\n",
    "highest_avg_book_query_results = pd.io.sql.read_sql(highest_avg_book_query, con = engine)\n",
    "highest_avg_book_query_results.head()"
   ]
  },
  {
   "cell_type": "markdown",
   "metadata": {},
   "source": [
    "- Several tables were combined to discover that the authors J.K. Rowling/Mary GrandPre have the highest average book rating out of books with at least 50 ratings."
   ]
  },
  {
   "cell_type": "markdown",
   "metadata": {},
   "source": [
    "\n",
    "<div class=\"alert alert-block alert-warning\">\n",
    "   <h2>Reviewer's commentary <a class=\"tocSkip\"> </h2>\n",
    "    <br/>\n",
    "<b>Remarks and recommendations📌:</b>  \n",
    "       \n",
    "Ok, good job, but still we need to look at the leader.\n",
    "       "
   ]
  },
  {
   "cell_type": "markdown",
   "metadata": {},
   "source": [
    "#### <font color='Purple'>Student's commentary:</font> for example like this <a class=\"tocSkip\"> </div>\n",
    "    \n",
    "I focused on the top result.\n",
    "</font>"
   ]
  },
  {
   "cell_type": "markdown",
   "metadata": {},
   "source": [
    "<div class=\"alert alert-block alert-success\">\n",
    "    <h2>Reviewer's commentary:second iteration of the review <a class=\"tocSkip\"> </h2>\n",
    "    <br/>\n",
    "<b>Well done!👍:</b>\n",
    "        \n",
    "Ok, correct now!"
   ]
  },
  {
   "cell_type": "markdown",
   "metadata": {},
   "source": [
    "***Find the average number of text reviews among users who rated more than 50 books***"
   ]
  },
  {
   "cell_type": "code",
   "execution_count": 14,
   "metadata": {},
   "outputs": [
    {
     "data": {
      "text/html": [
       "<div>\n",
       "<style scoped>\n",
       "    .dataframe tbody tr th:only-of-type {\n",
       "        vertical-align: middle;\n",
       "    }\n",
       "\n",
       "    .dataframe tbody tr th {\n",
       "        vertical-align: top;\n",
       "    }\n",
       "\n",
       "    .dataframe thead th {\n",
       "        text-align: right;\n",
       "    }\n",
       "</style>\n",
       "<table border=\"1\" class=\"dataframe\">\n",
       "  <thead>\n",
       "    <tr style=\"text-align: right;\">\n",
       "      <th></th>\n",
       "      <th>avg_user_reviews</th>\n",
       "    </tr>\n",
       "  </thead>\n",
       "  <tbody>\n",
       "    <tr>\n",
       "      <td>0</td>\n",
       "      <td>24.33</td>\n",
       "    </tr>\n",
       "  </tbody>\n",
       "</table>\n",
       "</div>"
      ],
      "text/plain": [
       "   avg_user_reviews\n",
       "0             24.33"
      ]
     },
     "execution_count": 14,
     "metadata": {},
     "output_type": "execute_result"
    }
   ],
   "source": [
    "avg_user_reviews_query = '''\n",
    "WITH users_with_fifty_reviews (username) AS (\n",
    "    SELECT \n",
    "        ratings.username\n",
    "    FROM\n",
    "        ratings\n",
    "    GROUP BY \n",
    "        username\n",
    "    HAVING COUNT(rating_id) > 50\n",
    "    ), \n",
    "    user_review_data AS (\n",
    "        SELECT\n",
    "            DISTINCT username,\n",
    "            COUNT(review_id) OVER (partition by username) AS reviews_count\n",
    "        FROM users_with_fifty_reviews\n",
    "            INNER JOIN reviews USING(username)\n",
    "    )\n",
    "SELECT \n",
    "    ROUND(AVG(reviews_count), 2) AS avg_user_reviews\n",
    "FROM \n",
    "    user_review_data\n",
    "'''\n",
    "avg_user_reviews_query_results = pd.io.sql.read_sql(avg_user_reviews_query, con = engine)\n",
    "avg_user_reviews_query_results.head()"
   ]
  },
  {
   "cell_type": "markdown",
   "metadata": {},
   "source": [
    "- Several sub tables were used to determine that users who have reviewed more than 50 books have an average of 24.33 number of text reviews"
   ]
  },
  {
   "cell_type": "markdown",
   "metadata": {},
   "source": [
    "<div class=\"alert alert-block alert-success\">\n",
    "    <h2>Reviewer's commentary <a class=\"tocSkip\"> </h2>\n",
    "    <br/>\n",
    "<b>Well done!👍</b> \n",
    "        \n",
    "Nothing to add, the result is correct, good job!\n",
    "</div>"
   ]
  },
  {
   "cell_type": "markdown",
   "metadata": {},
   "source": [
    "# Project Conclusion\n",
    "\n",
    "- Based on the data queries being requested it looks like the value proposition being formulated will involve book ratings with a possible focus on popular books, publishers, and authors"
   ]
  },
  {
   "cell_type": "markdown",
   "metadata": {},
   "source": [
    "<div style=\"border:solid Chocolate 2px; padding: 40px\">\n",
    "\n",
    "**The overall review conclusion**\n",
    "\n",
    "Jolene, thank you for submitting your project! I can see that you've worked really hard on it! I'm really impressed this the amount of work you have done. But there are several things in your project which I suppose it is important to fix, my comments will navigate you.\n",
    "\n",
    "\n",
    "**Good things and practices in your project I want to highlight🙂**:\n",
    "\n",
    "* You used different methods for working with your data. It is really great that you can apply these methods on practice, keep it up!\n",
    "* It is great that you formulated conclusions and explanations after each step of the analysis.\n",
    "\n",
    "    \n",
    "**What is worth working on👀**:\n",
    "\n",
    "* all the recommendations you can find in my comments, please, try to work on them, some queries need to be improved.\n",
    "\n",
    "\n",
    "**Good luck! I will wait for your work for a second iteration of the review!😉**\n",
    "![gif](https://media.giphy.com/media/VbnUQpnihPSIgIXuZv/giphy.gif)  "
   ]
  },
  {
   "cell_type": "markdown",
   "metadata": {},
   "source": [
    "<div style=\"border:solid Chocolate 2px; padding: 40px\">\n",
    "\n",
    "**The overall review conclusion: second iteration of the review**\n",
    "\n",
    "Jolene, thank you for submitting your project with corrections!😉 \n",
    "    \n",
    "You did a great job to improve the project, I can see your progress, so I hasten to say that your project has been accepted and you can proceed to the next sprint!\n",
    "    \n",
    "**I wish you exciting and cool projects in the next sprints😉**\n",
    "\n",
    "![gif](https://media.giphy.com/media/l41Yh1olOKd1Tgbw4/giphy.gif)"
   ]
  },
  {
   "cell_type": "code",
   "execution_count": null,
   "metadata": {},
   "outputs": [],
   "source": []
  }
 ],
 "metadata": {
  "ExecuteTimeLog": [
   {
    "duration": 578,
    "start_time": "2022-02-06T09:57:03.151Z"
   },
   {
    "duration": 23,
    "start_time": "2022-02-06T09:57:03.731Z"
   },
   {
    "duration": 3,
    "start_time": "2022-02-06T09:57:03.756Z"
   },
   {
    "duration": 42,
    "start_time": "2022-02-06T09:57:03.760Z"
   },
   {
    "duration": 10,
    "start_time": "2022-02-06T09:57:03.804Z"
   },
   {
    "duration": 13,
    "start_time": "2022-02-06T09:57:03.815Z"
   },
   {
    "duration": 21,
    "start_time": "2022-02-06T09:57:03.829Z"
   },
   {
    "duration": 17,
    "start_time": "2022-02-06T09:57:03.852Z"
   },
   {
    "duration": 2,
    "start_time": "2022-02-06T09:57:03.871Z"
   },
   {
    "duration": 14,
    "start_time": "2022-02-06T09:57:03.874Z"
   },
   {
    "duration": 32,
    "start_time": "2022-02-06T09:57:03.889Z"
   },
   {
    "duration": 14,
    "start_time": "2022-02-06T09:57:03.922Z"
   },
   {
    "duration": 18,
    "start_time": "2022-02-06T09:57:03.937Z"
   },
   {
    "duration": 11,
    "start_time": "2022-02-06T09:57:03.957Z"
   },
   {
    "duration": 562,
    "start_time": "2022-02-06T09:57:33.551Z"
   },
   {
    "duration": 23,
    "start_time": "2022-02-06T09:57:34.115Z"
   },
   {
    "duration": 3,
    "start_time": "2022-02-06T09:57:34.139Z"
   },
   {
    "duration": 33,
    "start_time": "2022-02-06T09:57:34.144Z"
   },
   {
    "duration": 9,
    "start_time": "2022-02-06T09:57:34.179Z"
   },
   {
    "duration": 9,
    "start_time": "2022-02-06T09:57:34.190Z"
   },
   {
    "duration": 28,
    "start_time": "2022-02-06T09:57:34.200Z"
   },
   {
    "duration": 14,
    "start_time": "2022-02-06T09:57:34.230Z"
   },
   {
    "duration": 3,
    "start_time": "2022-02-06T09:57:34.245Z"
   },
   {
    "duration": 10,
    "start_time": "2022-02-06T09:57:34.249Z"
   },
   {
    "duration": 23,
    "start_time": "2022-02-06T09:57:34.260Z"
   },
   {
    "duration": 11,
    "start_time": "2022-02-06T09:57:34.284Z"
   },
   {
    "duration": 13,
    "start_time": "2022-02-06T09:57:34.296Z"
   },
   {
    "duration": 10,
    "start_time": "2022-02-06T09:57:34.310Z"
   },
   {
    "duration": 574,
    "start_time": "2022-02-06T09:59:07.457Z"
   },
   {
    "duration": 23,
    "start_time": "2022-02-06T09:59:08.033Z"
   },
   {
    "duration": 3,
    "start_time": "2022-02-06T09:59:08.058Z"
   },
   {
    "duration": 34,
    "start_time": "2022-02-06T09:59:08.063Z"
   },
   {
    "duration": 10,
    "start_time": "2022-02-06T09:59:08.098Z"
   },
   {
    "duration": 10,
    "start_time": "2022-02-06T09:59:08.109Z"
   },
   {
    "duration": 26,
    "start_time": "2022-02-06T09:59:08.120Z"
   },
   {
    "duration": 14,
    "start_time": "2022-02-06T09:59:08.148Z"
   },
   {
    "duration": 3,
    "start_time": "2022-02-06T09:59:08.163Z"
   },
   {
    "duration": 11,
    "start_time": "2022-02-06T09:59:08.167Z"
   },
   {
    "duration": 23,
    "start_time": "2022-02-06T09:59:08.179Z"
   },
   {
    "duration": 10,
    "start_time": "2022-02-06T09:59:08.204Z"
   },
   {
    "duration": 14,
    "start_time": "2022-02-06T09:59:08.216Z"
   },
   {
    "duration": 10,
    "start_time": "2022-02-06T09:59:08.231Z"
   },
   {
    "duration": 300,
    "start_time": "2022-02-06T18:02:01.646Z"
   },
   {
    "duration": 704,
    "start_time": "2022-02-06T18:02:38.481Z"
   },
   {
    "duration": 31,
    "start_time": "2022-02-06T18:02:39.187Z"
   },
   {
    "duration": 4,
    "start_time": "2022-02-06T18:02:39.221Z"
   },
   {
    "duration": 326,
    "start_time": "2022-02-06T18:02:39.227Z"
   },
   {
    "duration": 77,
    "start_time": "2022-02-06T18:02:39.555Z"
   },
   {
    "duration": 76,
    "start_time": "2022-02-06T18:02:39.633Z"
   },
   {
    "duration": 99,
    "start_time": "2022-02-06T18:02:39.711Z"
   },
   {
    "duration": 92,
    "start_time": "2022-02-06T18:02:39.813Z"
   },
   {
    "duration": 3,
    "start_time": "2022-02-06T18:02:39.907Z"
   },
   {
    "duration": 81,
    "start_time": "2022-02-06T18:02:39.911Z"
   },
   {
    "duration": 92,
    "start_time": "2022-02-06T18:02:39.994Z"
   },
   {
    "duration": 78,
    "start_time": "2022-02-06T18:02:40.088Z"
   },
   {
    "duration": 82,
    "start_time": "2022-02-06T18:02:40.167Z"
   },
   {
    "duration": 79,
    "start_time": "2022-02-06T18:02:40.250Z"
   },
   {
    "duration": 111,
    "start_time": "2022-02-06T18:03:01.292Z"
   },
   {
    "duration": 109,
    "start_time": "2022-02-06T18:03:33.744Z"
   },
   {
    "duration": 121,
    "start_time": "2022-02-06T18:03:45.434Z"
   },
   {
    "duration": 114,
    "start_time": "2022-02-06T18:04:00.185Z"
   },
   {
    "duration": 77,
    "start_time": "2022-02-06T18:07:45.530Z"
   },
   {
    "duration": 80,
    "start_time": "2022-02-06T18:07:53.643Z"
   },
   {
    "duration": 638,
    "start_time": "2022-02-06T18:12:21.948Z"
   },
   {
    "duration": 34,
    "start_time": "2022-02-06T18:12:22.590Z"
   },
   {
    "duration": 3,
    "start_time": "2022-02-06T18:12:22.626Z"
   },
   {
    "duration": 337,
    "start_time": "2022-02-06T18:12:22.631Z"
   },
   {
    "duration": 78,
    "start_time": "2022-02-06T18:12:22.970Z"
   },
   {
    "duration": 76,
    "start_time": "2022-02-06T18:12:23.050Z"
   },
   {
    "duration": 103,
    "start_time": "2022-02-06T18:12:23.128Z"
   },
   {
    "duration": 94,
    "start_time": "2022-02-06T18:12:23.233Z"
   },
   {
    "duration": 3,
    "start_time": "2022-02-06T18:12:23.329Z"
   },
   {
    "duration": 82,
    "start_time": "2022-02-06T18:12:23.334Z"
   },
   {
    "duration": 90,
    "start_time": "2022-02-06T18:12:23.418Z"
   },
   {
    "duration": 79,
    "start_time": "2022-02-06T18:12:23.511Z"
   },
   {
    "duration": 82,
    "start_time": "2022-02-06T18:12:23.592Z"
   },
   {
    "duration": 78,
    "start_time": "2022-02-06T18:12:23.676Z"
   },
   {
    "duration": 667,
    "start_time": "2022-02-07T06:57:40.195Z"
   },
   {
    "duration": 35,
    "start_time": "2022-02-07T06:57:40.863Z"
   },
   {
    "duration": 4,
    "start_time": "2022-02-07T06:57:40.900Z"
   },
   {
    "duration": 51,
    "start_time": "2022-02-07T06:57:40.905Z"
   },
   {
    "duration": 12,
    "start_time": "2022-02-07T06:57:40.958Z"
   },
   {
    "duration": 11,
    "start_time": "2022-02-07T06:57:40.972Z"
   },
   {
    "duration": 28,
    "start_time": "2022-02-07T06:57:40.985Z"
   },
   {
    "duration": 21,
    "start_time": "2022-02-07T06:57:41.015Z"
   },
   {
    "duration": 2,
    "start_time": "2022-02-07T06:57:41.038Z"
   },
   {
    "duration": 16,
    "start_time": "2022-02-07T06:57:41.042Z"
   },
   {
    "duration": 30,
    "start_time": "2022-02-07T06:57:41.060Z"
   },
   {
    "duration": 14,
    "start_time": "2022-02-07T06:57:41.098Z"
   },
   {
    "duration": 19,
    "start_time": "2022-02-07T06:57:41.113Z"
   },
   {
    "duration": 14,
    "start_time": "2022-02-07T06:57:41.133Z"
   }
  ],
  "kernelspec": {
   "display_name": "Python 3",
   "language": "python",
   "name": "python3"
  },
  "language_info": {
   "codemirror_mode": {
    "name": "ipython",
    "version": 3
   },
   "file_extension": ".py",
   "mimetype": "text/x-python",
   "name": "python",
   "nbconvert_exporter": "python",
   "pygments_lexer": "ipython3",
   "version": "3.7.8"
  },
  "toc": {
   "base_numbering": 1,
   "nav_menu": {},
   "number_sections": true,
   "sideBar": true,
   "skip_h1_title": true,
   "title_cell": "Table of Contents",
   "title_sidebar": "Contents",
   "toc_cell": false,
   "toc_position": {},
   "toc_section_display": true,
   "toc_window_display": false
  }
 },
 "nbformat": 4,
 "nbformat_minor": 5
}
