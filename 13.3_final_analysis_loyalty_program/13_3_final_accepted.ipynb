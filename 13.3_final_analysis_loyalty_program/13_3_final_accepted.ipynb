{
 "cells": [
  {
   "cell_type": "markdown",
   "id": "d090ec8f",
   "metadata": {},
   "source": [
    "<div class=\"alert alert-block alert-info\">\n",
    "<b>Student answer.</b> <a class=\"tocSkip\"></a>\n",
    "\n",
    "Hi Dmitry,\n",
    "I created this notebook locally, so hopefully it loads correctly for you. There is no option for me to upload, check then submit. It uploads and submits automatically, so as a heads up if the platform kernel has errors, I wasnt able to see/fix them.\n",
    "\n",
    "Thank you!\n",
    "    \n",
    "Jolene G. \n",
    "    \n",
    "</div>"
   ]
  },
  {
   "cell_type": "markdown",
   "id": "1548b661",
   "metadata": {},
   "source": [
    "<div style=\"border:solid Chocolate 2px; padding: 40px\">\n",
    "\n",
    "<b>Hello, Jolene!👋</b>\n",
    "\n",
    "You can find my comments in <font color='green'>green</font>, <font color='gold'>yellow</font> and <font color='red'>red</font> boxes. Examples you can see below:\n",
    "    \n",
    "<div class=\"alert alert-block alert-success\">\n",
    "    <h2>Reviewer's commentary <a class=\"tocSkip\"> </h2>\n",
    "    <br/>\n",
    "<b>Well done!👍:</b> In case if task is completely correct and everything is alright!\n",
    "</div>\n",
    "\n",
    "\n",
    "<div class=\"alert alert-block alert-warning\">\n",
    "   <h2>Reviewer's commentary <a class=\"tocSkip\"> </h2>\n",
    "    <br/>\n",
    "<b>Remarks and recommendations📌:</b>  In case when I can give some advice that can help you to improve your work or recommend you some useful links and resources that can help you widen your knowledge and help in future tasks.\n",
    "</div>\n",
    "\n",
    "<div class=\"alert alert-block alert-danger\">\n",
    "    <h2>Reviewer's commentary <a class=\"tocSkip\"> </h2>\n",
    "    <br/>\n",
    "<b>Needs fixing!🤔:</b> In case when step requires some extra work and some corrections. Project can't be accepted with comments in the red boxes\n",
    "</div>\n",
    "</font>"
   ]
  },
  {
   "cell_type": "markdown",
   "id": "d16f9ab9",
   "metadata": {},
   "source": [
    "<div class=\"alert alert-block alert-success\">\n",
    "    <h2>Overall commentary <a class=\"tocSkip\"> </h2>\n",
    "    <br/>\n",
    "<b>Well done!👍:</b> Thank you for submitting the project. I was really impressed by the work you did. First of all I really appreciate your comments and conclusions. They provide a lot of valuable information and very well written. I also like the structure of your project. In your analysis you have a lot of interesting explorations, you compared loyal/non-loyal customers and made a corresponding conclusions which was expected by the project manager. Your hypothesis tests were run correctly. There were a couple of things which might be slightly improved, I left some comments in yellow below. But overall your project is great, well-deserved 4 points. Your dashboard is also accepted. I will review your presentation as soon as I get access to google drive. Thank you for your hard work and wish you good luck in your analytics career!\n",
    "</div>"
   ]
  },
  {
   "cell_type": "markdown",
   "id": "fa587fd9",
   "metadata": {},
   "source": [
    "# Final Project: Retail Loyalty Program Analysis\n",
    "\n",
    "***Project Description and Goal***\n",
    "- The Project Manager for the Customer Loyalty Program wants to evaluate the new loyalty program to see if it has lead to an increase in average purchase size and number of items.\n",
    "- The results and recommendations will be sumbitted to the Project Manager who is familiar with the loyalty program but not an analytics expert.\n",
    "\n",
    "***Description of the data***\n",
    "- The dataset contains data on purchases made at the building-material retailer Home World. All of its customers have membership cards. Moreover, they can become members of the store's loyalty program for 20 dollars per month. The program includes discounts, information on special offers, and gifts.\n",
    "\n",
    "***Hypotheses***\n",
    "- Customers who participate in the loyalty program make larger purchases by price on average\n",
    "- Customers who participate in the loyalty program buy more items on average\n",
    "\n",
    "***Important things to consider***\n",
    "- There is no previous evaluation of this data/project\n",
    "- It is known that there are some anomalies in the data\n",
    "    - There are negative and 0 value `Quantity`s\n",
    "\n",
    "***Despcription of the data***\n",
    "- `retail_dataset_us.csv` contains:\n",
    "    - `purchaseId`\n",
    "    - `item_ID` - we were told during team lead meeting that this is the same as `productID` in `product_codes_us.csv`\n",
    "    - `purchasedate`\n",
    "    - `Quantity` — the number of items in the purchase\n",
    "    - `CustomerID`\n",
    "    - `ShopID`\n",
    "    - `loyalty_program` — whether the customer is a member of the loyalty program\n",
    "- `product_codes_us.csv` contains:\n",
    "    - `productID` - we were told during team lead meeting that this is the same as `item_ID` in `retail_dataset_us.csv`\n",
    "    - `price_per_one`\n",
    "\n",
    "***Instructions for completing the project***\n",
    "\n",
    "[***Step 1. Open the data file(s) and examine the general information***](#step1)<a id = 'step1instructions'></a>\n",
    "* [1.a Open and save original data as a dataframe](#1a)\n",
    "* [1.b examine general information of product_codes_us.csv](#1b)\n",
    "* [1.c take a closer look at some individual columns of product_codes_us.csv](#1c)\n",
    "* [1.d examine general information of retail_dataset_us.csv](#1d)\n",
    "* [1.e take a closer look at some individual columns of retail_dataset_us.csv](#1e)\n",
    "* [***Step 1. Conclusion***](#step1conclusion)\n",
    "\n",
    "[***Step 2. Data Preprocessing***](#step2)<a id = 'step2instructions'></a>\n",
    "* [2.a Read and save a working version of data](#2a)\n",
    "* [2.b Change column names](#2b)\n",
    "* [2.c Add a column for dates with out times](#2c)\n",
    "* [2.d Change column data](#2d)\n",
    "* [2.e Change data types](#2e)\n",
    "* [2.f Process missing data](#2f)\n",
    "* [2.g Process duplicate data](#2g)\n",
    "* [2.h Process anomalies](#2h)\n",
    "    * [2.h.1 merge the two dataframes](#2h1)\n",
    "    * [2.h.2 add a column for the price per quantity of an item ](#2h2)\n",
    "    * [2.h.3 create queries to investigate the anomalies](#2h3)\n",
    "    * [2.h.4 determine percentage of purchases with anomalies](#2h4)\n",
    "    * [2.h.5 remove anomalies from dataset if appropriate](#2h5)\n",
    "    * [2.h.6 evaluate the affects of removing the anomalies on the dataset](#2h6)\n",
    "    * [2.h Conclusion](#2hconclusion)\n",
    "* [***Step 2. Conclusion***](#step2conclusion)\n",
    "\n",
    "[***Step 3. Carry out exploratory data analysis (EDA)***](#step3)<a id = 'step3instructions'></a>\n",
    "* [3.a determine outliers](#3a)\n",
    "    * [3.a.1 use the `describe()` method to evaluate the mean and median of the numerical data](#3a1)\n",
    "        - determine the average and median price of a single item\n",
    "    * [3.a.2 plot graphs to visualize the distribution of the data](#3a2)\n",
    "    * [3.a.3 evaluate the item prices](#3a3)\n",
    "        - determine how many items are `price_per_one` outliers\n",
    "    * [3.a.4 group by `puchase_id` and evaluate the total price of purchases](#3a4)\n",
    "        - determine the average and median cost per total purchase\n",
    "        - determine if there are total purchase outliers?\n",
    "            - Do the high purchases contain high `price_per_one` items?\n",
    "            - Are the outlier purchases in the loyalty program or not?\n",
    "    * [3.a.5 Evaluate the number of items per perchase](#3a5)\n",
    "        * [3.a.5.i Create a table with the total number of items per purchase based on `purchase_id`](#3a5i)\n",
    "        * [3.a.5.ii Use `describe()` to evaluate the mean and median of the items per purchase](#3a5ii)\n",
    "        * [3.a.5.iii Evaluate the percentiles](#3a5iii)\n",
    "            - how many purchases contain a high number of items?\n",
    "            - Are the purchases with a high number of items in the loyalty program or not?\n",
    "* [3.b Process outliers](#3b)\n",
    "* [3.c Quality check the loyalty program](#3c)\n",
    "    * [3.c.1 Use `groupby()` `purchase_id` to get the average values of the loyalty program column](#3ci)\n",
    "    * [3.c.2 evaluate the unique values of the quality check](#3c2)\n",
    "* [3.d Visualize the data](#3d)\n",
    "    * [3.d.1 evaluate each membership group numerical data using the `describe()` method](#3d1)\n",
    "    * [3.d.2 plot histograms of the total purchase prices per membership](#3d2)\n",
    "    * [3.d.3 plot bar graphs of the total and average purchase prices per customer status](#3d3)\n",
    "    * [3.d.4 plot bar graphs of total purchase prices per membership per shop](#3d4)\n",
    "    * [3.d.5 plot bar graphs of average purchase prices per membership per shop](#3d5)\n",
    "    * [3.d.6 plot bar graphs of the total and average purchase prices per day per customer status](#3d6)\n",
    "    * [3.d.7 plot histograms of the number of items purchased per membership](#3d7)\n",
    "    * [3.d.8 plot bar graphs of the total and average number of items purchased per customer status](#3d8)\n",
    "    * [3.d.9 plot bar graph of number of items purchased per store based on customer status](#3d9)\n",
    "    * [3.d.10 plot bar graph of the average number of items purchased per store based on customer status](#3d10)\n",
    "    * [3.d.11 plot bar graphs of the total and average number of items purchased per date per customer status](#3d11)\n",
    "    * [3.d.12 plot bar graphs of the total and average number of purchases per customer status](#3d12)\n",
    "* [***Step 3. Conclusion***](#step3conclusion)\n",
    "\n",
    "[***Step 4. Test Hypothesis***](#step4)<a id = 'step4instructions'></a>\n",
    "* [4.a Evaluate hypothesis: Customers who participate in the loyalty program make larger purchases by price on average](#4a)\n",
    "    - Null hypothesis: The average purchase prices are statistically the same for all customers regardless of participation in loyalty program\n",
    "    - Alternative hypothesis: The average purchase prices are statistically different for customers that do versus those that do not participate in the loyalty program\n",
    "    * [4.a.1 obtain list/query of the total purchase price per purchase per group](#4a1)\n",
    "    * [4.a.2 evaluate the dispersion of data sets](#4a2)\n",
    "    * [4.a.3 Test hypothesis](#4a3)\n",
    "    * [4.a Conclusion](#4aconclusion)\n",
    "* [4.b Evaluate hypothesis: Customers who participate in the loyalty program buy more items on average](#4b)\n",
    "    - Null hypothesis: The average number of items purchased is statistically the same for all customers regardless of participation in the loyalty program\n",
    "    - Alterntative hypothesis: The average number of items purchased is statistically different for customers that do versus those that do not participate in the loyalty program\n",
    "    * [4.b.1 obtain list/query of the total purchase price per purchase per group](#4b1)\n",
    "    * [4.b.2 evaluate the dispersion of data sets](#4b2)\n",
    "    * [4.b.3 Test hypothesis](#4b3)\n",
    "    * [4.b Conclusion](#4bconclusion)\n",
    "* [***Step 4. Conclusion***](#step4conclusion)\n",
    "\n",
    "[***Step 5. Conclusion and Recommendations***](#step5)<a id = 'step5instructions'></a>\n",
    "\n",
    "[***Step 6. Presentation***](#step6)<a id = 'step6instructions'></a>\n",
    "- https://drive.google.com/file/d/1BA7xn0j7Eu21FxLyIwF1nB_seTMEnK0q/view?usp=sharing\n",
    "\n",
    "[***Step 7. Dashboard***](#step7)<a id = 'step7instructions'></a>\n",
    "- https://public.tableau.com/app/profile/jolene.glenn/viz/HomeWorldPurchasesProfile/Dashboard1\n",
    "\n",
    "[***Step 8. Resources***](#step8)<a id = 'step8instructions'></a>"
   ]
  },
  {
   "cell_type": "markdown",
   "id": "1c771ee5",
   "metadata": {},
   "source": [
    "# Import Libraries"
   ]
  },
  {
   "cell_type": "code",
   "execution_count": 1,
   "id": "3ce6bb9c",
   "metadata": {},
   "outputs": [],
   "source": [
    "import pandas as pd\n",
    "import numpy as np\n",
    "import matplotlib.pyplot as plt\n",
    "import datetime\n",
    "import seaborn as sns\n",
    "import scipy.stats as st\n",
    "import math as mth\n",
    "\n",
    "import sys\n",
    "import warnings\n",
    "if not sys.warnoptions:\n",
    "    warnings.simplefilter(\"ignore\")\n",
    "    \n",
    "sns.set_palette('bright')\n",
    "pd.set_option('max_colwidth', 450)"
   ]
  },
  {
   "cell_type": "markdown",
   "id": "4edc77a8",
   "metadata": {},
   "source": [
    "# [Step 1. Open the data files and read the general information](#step1instructions)<a id = 'step1'></a>\n",
    "\n",
    "***Plan of Action***\n",
    "- 1.a Open and save original data as a dataframe\n",
    "- 1.b examine general information of product_codes_us.csv\n",
    "- 1.c take a closer look at some individual columns of product_codes_us.csv\n",
    "- 1.d examine general information of retail_dataset_us.csv\n",
    "- 1.e take a closer look at some individual columns of retail_dataset_us.csv"
   ]
  },
  {
   "cell_type": "markdown",
   "id": "c6ab7823",
   "metadata": {},
   "source": [
    "[***1.a Open and save original data as a dataframe***](#step1instructions)<a id = '1a'></a>"
   ]
  },
  {
   "cell_type": "code",
   "execution_count": 2,
   "id": "eb2f6b6a",
   "metadata": {},
   "outputs": [],
   "source": [
    "# open and save orignal files as a dataframe\n",
    "try: \n",
    "    codes_orig = pd.read_csv('product_codes_us.csv', sep = ';')\n",
    "    data_orig = pd.read_csv('retail_dataset_us.csv')\n",
    "except:\n",
    "    codes_orig = pd.read_csv('/datasets/product_codes_us.csv', sep = ';')\n",
    "    data_orig = pd.read_csv('/datasets/retail_dataset_us.csv')"
   ]
  },
  {
   "cell_type": "markdown",
   "id": "38168dca",
   "metadata": {},
   "source": [
    "[***1.b Examine general info `codes_orig` df***](#step1instructions)<a id = '1b'></a>"
   ]
  },
  {
   "cell_type": "code",
   "execution_count": 3,
   "id": "a216d3e0",
   "metadata": {},
   "outputs": [
    {
     "name": "stdout",
     "output_type": "stream",
     "text": [
      "`codes_orig` dataframe:\n"
     ]
    },
    {
     "data": {
      "text/html": [
       "<div>\n",
       "<style scoped>\n",
       "    .dataframe tbody tr th:only-of-type {\n",
       "        vertical-align: middle;\n",
       "    }\n",
       "\n",
       "    .dataframe tbody tr th {\n",
       "        vertical-align: top;\n",
       "    }\n",
       "\n",
       "    .dataframe thead th {\n",
       "        text-align: right;\n",
       "    }\n",
       "</style>\n",
       "<table border=\"1\" class=\"dataframe\">\n",
       "  <thead>\n",
       "    <tr style=\"text-align: right;\">\n",
       "      <th></th>\n",
       "      <th>productID</th>\n",
       "      <th>price_per_one</th>\n",
       "    </tr>\n",
       "  </thead>\n",
       "  <tbody>\n",
       "    <tr>\n",
       "      <th>0</th>\n",
       "      <td>10002</td>\n",
       "      <td>0.85</td>\n",
       "    </tr>\n",
       "    <tr>\n",
       "      <th>1</th>\n",
       "      <td>10080</td>\n",
       "      <td>0.85</td>\n",
       "    </tr>\n",
       "    <tr>\n",
       "      <th>2</th>\n",
       "      <td>10120</td>\n",
       "      <td>0.21</td>\n",
       "    </tr>\n",
       "    <tr>\n",
       "      <th>3</th>\n",
       "      <td>10123C</td>\n",
       "      <td>0.65</td>\n",
       "    </tr>\n",
       "    <tr>\n",
       "      <th>4</th>\n",
       "      <td>10124A</td>\n",
       "      <td>0.42</td>\n",
       "    </tr>\n",
       "    <tr>\n",
       "      <th>5</th>\n",
       "      <td>10124G</td>\n",
       "      <td>0.42</td>\n",
       "    </tr>\n",
       "    <tr>\n",
       "      <th>6</th>\n",
       "      <td>10125</td>\n",
       "      <td>0.42</td>\n",
       "    </tr>\n",
       "    <tr>\n",
       "      <th>7</th>\n",
       "      <td>10133</td>\n",
       "      <td>0.42</td>\n",
       "    </tr>\n",
       "    <tr>\n",
       "      <th>8</th>\n",
       "      <td>10135</td>\n",
       "      <td>0.42</td>\n",
       "    </tr>\n",
       "    <tr>\n",
       "      <th>9</th>\n",
       "      <td>11001</td>\n",
       "      <td>1.69</td>\n",
       "    </tr>\n",
       "  </tbody>\n",
       "</table>\n",
       "</div>"
      ],
      "text/plain": [
       "  productID  price_per_one\n",
       "0     10002           0.85\n",
       "1     10080           0.85\n",
       "2     10120           0.21\n",
       "3    10123C           0.65\n",
       "4    10124A           0.42\n",
       "5    10124G           0.42\n",
       "6     10125           0.42\n",
       "7     10133           0.42\n",
       "8     10135           0.42\n",
       "9     11001           1.69"
      ]
     },
     "execution_count": 3,
     "metadata": {},
     "output_type": "execute_result"
    }
   ],
   "source": [
    "# print first rows\n",
    "print('`codes_orig` dataframe:')\n",
    "codes_orig.head(10)"
   ]
  },
  {
   "cell_type": "code",
   "execution_count": 4,
   "id": "efc71d45",
   "metadata": {},
   "outputs": [
    {
     "name": "stdout",
     "output_type": "stream",
     "text": [
      "`codes_orig` general info:\n",
      "\n",
      "<class 'pandas.core.frame.DataFrame'>\n",
      "RangeIndex: 3159 entries, 0 to 3158\n",
      "Data columns (total 2 columns):\n",
      " #   Column         Non-Null Count  Dtype  \n",
      "---  ------         --------------  -----  \n",
      " 0   productID      3159 non-null   object \n",
      " 1   price_per_one  3159 non-null   float64\n",
      "dtypes: float64(1), object(1)\n",
      "memory usage: 49.5+ KB\n"
     ]
    }
   ],
   "source": [
    "# look at general df info\n",
    "print('`codes_orig` general info:\\n')\n",
    "codes_orig.info()"
   ]
  },
  {
   "cell_type": "code",
   "execution_count": 5,
   "id": "263e324f",
   "metadata": {},
   "outputs": [
    {
     "name": "stdout",
     "output_type": "stream",
     "text": [
      "stats on `codes_orig numerical data:`\n"
     ]
    },
    {
     "data": {
      "text/html": [
       "<div>\n",
       "<style scoped>\n",
       "    .dataframe tbody tr th:only-of-type {\n",
       "        vertical-align: middle;\n",
       "    }\n",
       "\n",
       "    .dataframe tbody tr th {\n",
       "        vertical-align: top;\n",
       "    }\n",
       "\n",
       "    .dataframe thead th {\n",
       "        text-align: right;\n",
       "    }\n",
       "</style>\n",
       "<table border=\"1\" class=\"dataframe\">\n",
       "  <thead>\n",
       "    <tr style=\"text-align: right;\">\n",
       "      <th></th>\n",
       "      <th>price_per_one</th>\n",
       "    </tr>\n",
       "  </thead>\n",
       "  <tbody>\n",
       "    <tr>\n",
       "      <th>count</th>\n",
       "      <td>3159.000000</td>\n",
       "    </tr>\n",
       "    <tr>\n",
       "      <th>mean</th>\n",
       "      <td>2.954495</td>\n",
       "    </tr>\n",
       "    <tr>\n",
       "      <th>std</th>\n",
       "      <td>7.213808</td>\n",
       "    </tr>\n",
       "    <tr>\n",
       "      <th>min</th>\n",
       "      <td>0.000000</td>\n",
       "    </tr>\n",
       "    <tr>\n",
       "      <th>25%</th>\n",
       "      <td>0.650000</td>\n",
       "    </tr>\n",
       "    <tr>\n",
       "      <th>50%</th>\n",
       "      <td>1.450000</td>\n",
       "    </tr>\n",
       "    <tr>\n",
       "      <th>75%</th>\n",
       "      <td>3.290000</td>\n",
       "    </tr>\n",
       "    <tr>\n",
       "      <th>max</th>\n",
       "      <td>175.000000</td>\n",
       "    </tr>\n",
       "  </tbody>\n",
       "</table>\n",
       "</div>"
      ],
      "text/plain": [
       "       price_per_one\n",
       "count    3159.000000\n",
       "mean        2.954495\n",
       "std         7.213808\n",
       "min         0.000000\n",
       "25%         0.650000\n",
       "50%         1.450000\n",
       "75%         3.290000\n",
       "max       175.000000"
      ]
     },
     "execution_count": 5,
     "metadata": {},
     "output_type": "execute_result"
    }
   ],
   "source": [
    "# evaluate stats of numerical data\n",
    "print('stats on `codes_orig numerical data:`')\n",
    "codes_orig.describe()"
   ]
  },
  {
   "cell_type": "code",
   "execution_count": 6,
   "id": "1a53d7fb",
   "metadata": {},
   "outputs": [
    {
     "name": "stdout",
     "output_type": "stream",
     "text": [
      "number of missing values in `codes_orig` df:\n"
     ]
    },
    {
     "data": {
      "text/plain": [
       "productID        0\n",
       "price_per_one    0\n",
       "dtype: int64"
      ]
     },
     "execution_count": 6,
     "metadata": {},
     "output_type": "execute_result"
    }
   ],
   "source": [
    "# look for missing values\n",
    "print('number of missing values in `codes_orig` df:')\n",
    "codes_orig.isnull().sum()"
   ]
  },
  {
   "cell_type": "code",
   "execution_count": 7,
   "id": "7480e5b3",
   "metadata": {},
   "outputs": [
    {
     "name": "stdout",
     "output_type": "stream",
     "text": [
      "number of duplicate rows in `codes_orig` df: 0\n"
     ]
    }
   ],
   "source": [
    "# look for duplicate rows\n",
    "print('number of duplicate rows in `codes_orig` df: {}'.format(codes_orig.duplicated().sum()))"
   ]
  },
  {
   "cell_type": "markdown",
   "id": "9636afa7",
   "metadata": {},
   "source": [
    "[***1.c Look closer at `codes_orig` columns***](#step1instructions)<a id = '1c'></a>"
   ]
  },
  {
   "cell_type": "code",
   "execution_count": 8,
   "id": "77764092",
   "metadata": {},
   "outputs": [
    {
     "name": "stdout",
     "output_type": "stream",
     "text": [
      "number of unique `productID`s: 3159\n"
     ]
    }
   ],
   "source": [
    "# calculate unique values\n",
    "print('number of unique `productID`s: {}'.format(codes_orig['productID'].nunique(dropna = False)))"
   ]
  },
  {
   "cell_type": "code",
   "execution_count": 9,
   "id": "8739d725",
   "metadata": {},
   "outputs": [
    {
     "name": "stdout",
     "output_type": "stream",
     "text": [
      "number of unique `price_per_one`s (items): 192\n"
     ]
    }
   ],
   "source": [
    "# calculate unique values\n",
    "print('number of unique `price_per_one`s (items): {}'.format(codes_orig['price_per_one'].nunique(dropna = False)))"
   ]
  },
  {
   "cell_type": "code",
   "execution_count": 10,
   "id": "6fa24a5c",
   "metadata": {},
   "outputs": [
    {
     "name": "stdout",
     "output_type": "stream",
     "text": [
      "value counts for `price_per_one` column:\n"
     ]
    },
    {
     "data": {
      "text/plain": [
       "0.00     382\n",
       "1.25     251\n",
       "0.85     195\n",
       "0.42     183\n",
       "2.95     125\n",
       "        ... \n",
       "2.69       1\n",
       "0.06       1\n",
       "0.07       1\n",
       "34.95      1\n",
       "9.77       1\n",
       "Name: price_per_one, Length: 192, dtype: int64"
      ]
     },
     "execution_count": 10,
     "metadata": {},
     "output_type": "execute_result"
    }
   ],
   "source": [
    "# look at value counts\n",
    "print('value counts for `price_per_one` column:')\n",
    "codes_orig['price_per_one'].value_counts(dropna = False)"
   ]
  },
  {
   "cell_type": "markdown",
   "id": "3e925159",
   "metadata": {},
   "source": [
    "[***1.d Examine general info `data_orig` df***](#step1instructions)<a id = '1d'></a>"
   ]
  },
  {
   "cell_type": "code",
   "execution_count": 11,
   "id": "5e6e8a29",
   "metadata": {},
   "outputs": [
    {
     "name": "stdout",
     "output_type": "stream",
     "text": [
      "`data_orig` dataframe:\n"
     ]
    },
    {
     "data": {
      "text/html": [
       "<div>\n",
       "<style scoped>\n",
       "    .dataframe tbody tr th:only-of-type {\n",
       "        vertical-align: middle;\n",
       "    }\n",
       "\n",
       "    .dataframe tbody tr th {\n",
       "        vertical-align: top;\n",
       "    }\n",
       "\n",
       "    .dataframe thead th {\n",
       "        text-align: right;\n",
       "    }\n",
       "</style>\n",
       "<table border=\"1\" class=\"dataframe\">\n",
       "  <thead>\n",
       "    <tr style=\"text-align: right;\">\n",
       "      <th></th>\n",
       "      <th>purchaseid</th>\n",
       "      <th>item_ID</th>\n",
       "      <th>Quantity</th>\n",
       "      <th>purchasedate</th>\n",
       "      <th>CustomerID</th>\n",
       "      <th>loyalty_program</th>\n",
       "      <th>ShopID</th>\n",
       "    </tr>\n",
       "  </thead>\n",
       "  <tbody>\n",
       "    <tr>\n",
       "      <th>0</th>\n",
       "      <td>538280</td>\n",
       "      <td>21873</td>\n",
       "      <td>11</td>\n",
       "      <td>2016-12-10 12:50:00</td>\n",
       "      <td>18427.0</td>\n",
       "      <td>0</td>\n",
       "      <td>Shop 3</td>\n",
       "    </tr>\n",
       "    <tr>\n",
       "      <th>1</th>\n",
       "      <td>538862</td>\n",
       "      <td>22195</td>\n",
       "      <td>0</td>\n",
       "      <td>2016-12-14 14:11:00</td>\n",
       "      <td>22389.0</td>\n",
       "      <td>1</td>\n",
       "      <td>Shop 2</td>\n",
       "    </tr>\n",
       "    <tr>\n",
       "      <th>2</th>\n",
       "      <td>538855</td>\n",
       "      <td>21239</td>\n",
       "      <td>7</td>\n",
       "      <td>2016-12-14 13:50:00</td>\n",
       "      <td>22182.0</td>\n",
       "      <td>1</td>\n",
       "      <td>Shop 3</td>\n",
       "    </tr>\n",
       "    <tr>\n",
       "      <th>3</th>\n",
       "      <td>543543</td>\n",
       "      <td>22271</td>\n",
       "      <td>0</td>\n",
       "      <td>2017-02-09 15:33:00</td>\n",
       "      <td>23522.0</td>\n",
       "      <td>1</td>\n",
       "      <td>Shop 28</td>\n",
       "    </tr>\n",
       "    <tr>\n",
       "      <th>4</th>\n",
       "      <td>543812</td>\n",
       "      <td>79321</td>\n",
       "      <td>0</td>\n",
       "      <td>2017-02-13 14:40:00</td>\n",
       "      <td>23151.0</td>\n",
       "      <td>1</td>\n",
       "      <td>Shop 28</td>\n",
       "    </tr>\n",
       "    <tr>\n",
       "      <th>5</th>\n",
       "      <td>538379</td>\n",
       "      <td>22965</td>\n",
       "      <td>0</td>\n",
       "      <td>2016-12-12 11:26:00</td>\n",
       "      <td>22805.0</td>\n",
       "      <td>1</td>\n",
       "      <td>Shop 20</td>\n",
       "    </tr>\n",
       "    <tr>\n",
       "      <th>6</th>\n",
       "      <td>540468</td>\n",
       "      <td>22189</td>\n",
       "      <td>0</td>\n",
       "      <td>2017-01-07 13:55:00</td>\n",
       "      <td>NaN</td>\n",
       "      <td>0</td>\n",
       "      <td>Shop 0</td>\n",
       "    </tr>\n",
       "    <tr>\n",
       "      <th>7</th>\n",
       "      <td>541424</td>\n",
       "      <td>79321</td>\n",
       "      <td>1</td>\n",
       "      <td>2017-01-17 17:57:00</td>\n",
       "      <td>NaN</td>\n",
       "      <td>0</td>\n",
       "      <td>Shop 0</td>\n",
       "    </tr>\n",
       "    <tr>\n",
       "      <th>8</th>\n",
       "      <td>538883</td>\n",
       "      <td>22891</td>\n",
       "      <td>0</td>\n",
       "      <td>2016-12-14 15:56:00</td>\n",
       "      <td>NaN</td>\n",
       "      <td>0</td>\n",
       "      <td>Shop 0</td>\n",
       "    </tr>\n",
       "    <tr>\n",
       "      <th>9</th>\n",
       "      <td>539501</td>\n",
       "      <td>22372</td>\n",
       "      <td>0</td>\n",
       "      <td>2016-12-20 11:08:00</td>\n",
       "      <td>22764.0</td>\n",
       "      <td>1</td>\n",
       "      <td>Shop 1</td>\n",
       "    </tr>\n",
       "  </tbody>\n",
       "</table>\n",
       "</div>"
      ],
      "text/plain": [
       "  purchaseid item_ID  Quantity         purchasedate  CustomerID  \\\n",
       "0     538280   21873        11  2016-12-10 12:50:00     18427.0   \n",
       "1     538862   22195         0  2016-12-14 14:11:00     22389.0   \n",
       "2     538855   21239         7  2016-12-14 13:50:00     22182.0   \n",
       "3     543543   22271         0  2017-02-09 15:33:00     23522.0   \n",
       "4     543812   79321         0  2017-02-13 14:40:00     23151.0   \n",
       "5     538379   22965         0  2016-12-12 11:26:00     22805.0   \n",
       "6     540468   22189         0  2017-01-07 13:55:00         NaN   \n",
       "7     541424   79321         1  2017-01-17 17:57:00         NaN   \n",
       "8     538883   22891         0  2016-12-14 15:56:00         NaN   \n",
       "9     539501   22372         0  2016-12-20 11:08:00     22764.0   \n",
       "\n",
       "   loyalty_program   ShopID  \n",
       "0                0   Shop 3  \n",
       "1                1   Shop 2  \n",
       "2                1   Shop 3  \n",
       "3                1  Shop 28  \n",
       "4                1  Shop 28  \n",
       "5                1  Shop 20  \n",
       "6                0   Shop 0  \n",
       "7                0   Shop 0  \n",
       "8                0   Shop 0  \n",
       "9                1   Shop 1  "
      ]
     },
     "execution_count": 11,
     "metadata": {},
     "output_type": "execute_result"
    }
   ],
   "source": [
    "# print first rows\n",
    "print('`data_orig` dataframe:')\n",
    "data_orig.head(10)"
   ]
  },
  {
   "cell_type": "code",
   "execution_count": 12,
   "id": "66c09217",
   "metadata": {},
   "outputs": [
    {
     "name": "stdout",
     "output_type": "stream",
     "text": [
      "`data_orig` df general info:\n",
      "\n",
      "<class 'pandas.core.frame.DataFrame'>\n",
      "RangeIndex: 105335 entries, 0 to 105334\n",
      "Data columns (total 7 columns):\n",
      " #   Column           Non-Null Count   Dtype  \n",
      "---  ------           --------------   -----  \n",
      " 0   purchaseid       105335 non-null  object \n",
      " 1   item_ID          105335 non-null  object \n",
      " 2   Quantity         105335 non-null  int64  \n",
      " 3   purchasedate     105335 non-null  object \n",
      " 4   CustomerID       69125 non-null   float64\n",
      " 5   loyalty_program  105335 non-null  int64  \n",
      " 6   ShopID           105335 non-null  object \n",
      "dtypes: float64(1), int64(2), object(4)\n",
      "memory usage: 5.6+ MB\n"
     ]
    }
   ],
   "source": [
    "# general df info\n",
    "print('`data_orig` df general info:\\n')\n",
    "data_orig.info()"
   ]
  },
  {
   "cell_type": "code",
   "execution_count": 13,
   "id": "b5fadfe7",
   "metadata": {},
   "outputs": [
    {
     "name": "stdout",
     "output_type": "stream",
     "text": [
      "stats on `data_orig` numerical data:\n"
     ]
    },
    {
     "data": {
      "text/html": [
       "<div>\n",
       "<style scoped>\n",
       "    .dataframe tbody tr th:only-of-type {\n",
       "        vertical-align: middle;\n",
       "    }\n",
       "\n",
       "    .dataframe tbody tr th {\n",
       "        vertical-align: top;\n",
       "    }\n",
       "\n",
       "    .dataframe thead th {\n",
       "        text-align: right;\n",
       "    }\n",
       "</style>\n",
       "<table border=\"1\" class=\"dataframe\">\n",
       "  <thead>\n",
       "    <tr style=\"text-align: right;\">\n",
       "      <th></th>\n",
       "      <th>Quantity</th>\n",
       "      <th>CustomerID</th>\n",
       "      <th>loyalty_program</th>\n",
       "    </tr>\n",
       "  </thead>\n",
       "  <tbody>\n",
       "    <tr>\n",
       "      <th>count</th>\n",
       "      <td>105335.000000</td>\n",
       "      <td>69125.000000</td>\n",
       "      <td>105335.000000</td>\n",
       "    </tr>\n",
       "    <tr>\n",
       "      <th>mean</th>\n",
       "      <td>7.821218</td>\n",
       "      <td>21019.302047</td>\n",
       "      <td>0.226345</td>\n",
       "    </tr>\n",
       "    <tr>\n",
       "      <th>std</th>\n",
       "      <td>327.946695</td>\n",
       "      <td>1765.444679</td>\n",
       "      <td>0.418467</td>\n",
       "    </tr>\n",
       "    <tr>\n",
       "      <th>min</th>\n",
       "      <td>-74216.000000</td>\n",
       "      <td>18025.000000</td>\n",
       "      <td>0.000000</td>\n",
       "    </tr>\n",
       "    <tr>\n",
       "      <th>25%</th>\n",
       "      <td>0.000000</td>\n",
       "      <td>19544.000000</td>\n",
       "      <td>0.000000</td>\n",
       "    </tr>\n",
       "    <tr>\n",
       "      <th>50%</th>\n",
       "      <td>2.000000</td>\n",
       "      <td>20990.000000</td>\n",
       "      <td>0.000000</td>\n",
       "    </tr>\n",
       "    <tr>\n",
       "      <th>75%</th>\n",
       "      <td>7.000000</td>\n",
       "      <td>22659.000000</td>\n",
       "      <td>0.000000</td>\n",
       "    </tr>\n",
       "    <tr>\n",
       "      <th>max</th>\n",
       "      <td>74214.000000</td>\n",
       "      <td>23962.000000</td>\n",
       "      <td>1.000000</td>\n",
       "    </tr>\n",
       "  </tbody>\n",
       "</table>\n",
       "</div>"
      ],
      "text/plain": [
       "            Quantity    CustomerID  loyalty_program\n",
       "count  105335.000000  69125.000000    105335.000000\n",
       "mean        7.821218  21019.302047         0.226345\n",
       "std       327.946695   1765.444679         0.418467\n",
       "min    -74216.000000  18025.000000         0.000000\n",
       "25%         0.000000  19544.000000         0.000000\n",
       "50%         2.000000  20990.000000         0.000000\n",
       "75%         7.000000  22659.000000         0.000000\n",
       "max     74214.000000  23962.000000         1.000000"
      ]
     },
     "execution_count": 13,
     "metadata": {},
     "output_type": "execute_result"
    }
   ],
   "source": [
    "# review stats of numercial data\n",
    "print('stats on `data_orig` numerical data:')\n",
    "data_orig.describe()"
   ]
  },
  {
   "cell_type": "code",
   "execution_count": 14,
   "id": "eddcdf5d",
   "metadata": {},
   "outputs": [
    {
     "name": "stdout",
     "output_type": "stream",
     "text": [
      "beginning of data: 2016-12-01 08:26:00\n",
      "end of data: 2017-02-28 17:04:00\n"
     ]
    }
   ],
   "source": [
    "print('beginning of data: {}'.format(data_orig['purchasedate'].min()))\n",
    "print('end of data: {}'.format(data_orig['purchasedate'].max()))"
   ]
  },
  {
   "cell_type": "code",
   "execution_count": 15,
   "id": "258cbadc",
   "metadata": {},
   "outputs": [
    {
     "name": "stdout",
     "output_type": "stream",
     "text": [
      "number of missing values in `data_orig` df:\n"
     ]
    },
    {
     "data": {
      "text/plain": [
       "purchaseid             0\n",
       "item_ID                0\n",
       "Quantity               0\n",
       "purchasedate           0\n",
       "CustomerID         36210\n",
       "loyalty_program        0\n",
       "ShopID                 0\n",
       "dtype: int64"
      ]
     },
     "execution_count": 15,
     "metadata": {},
     "output_type": "execute_result"
    }
   ],
   "source": [
    "# look for missing values\n",
    "print('number of missing values in `data_orig` df:')\n",
    "data_orig.isnull().sum()"
   ]
  },
  {
   "cell_type": "code",
   "execution_count": 16,
   "id": "47d196bf",
   "metadata": {},
   "outputs": [
    {
     "name": "stdout",
     "output_type": "stream",
     "text": [
      "number of duplicate rows in `data_orig` df: 1033\n"
     ]
    }
   ],
   "source": [
    "# look for duplicate rows\n",
    "print('number of duplicate rows in `data_orig` df: {}'.format(data_orig.duplicated().sum()))"
   ]
  },
  {
   "cell_type": "markdown",
   "id": "267c66f3",
   "metadata": {},
   "source": [
    "[***1.e Look closer at `data_orig` columns***](#step1instructions)<a id = '1e'></a>"
   ]
  },
  {
   "cell_type": "code",
   "execution_count": 17,
   "id": "0e5cb585",
   "metadata": {},
   "outputs": [
    {
     "name": "stdout",
     "output_type": "stream",
     "text": [
      "number of unique `purchaseid`s: 4894\n"
     ]
    }
   ],
   "source": [
    "# calculte unique values\n",
    "print('number of unique `purchaseid`s: {}'.format(data_orig['purchaseid'].nunique(dropna = False)))"
   ]
  },
  {
   "cell_type": "code",
   "execution_count": 18,
   "id": "13fae18f",
   "metadata": {},
   "outputs": [
    {
     "name": "stdout",
     "output_type": "stream",
     "text": [
      "value counts of `purchaseid` column:\n"
     ]
    },
    {
     "data": {
      "text/plain": [
       "537434    675\n",
       "538071    652\n",
       "538349    620\n",
       "537638    601\n",
       "537237    597\n",
       "         ... \n",
       "540778      1\n",
       "544699      1\n",
       "536781      1\n",
       "542926      1\n",
       "542883      1\n",
       "Name: purchaseid, Length: 4894, dtype: int64"
      ]
     },
     "execution_count": 18,
     "metadata": {},
     "output_type": "execute_result"
    }
   ],
   "source": [
    "# look at value counts\n",
    "print('value counts of `purchaseid` column:')\n",
    "data_orig['purchaseid'].value_counts(dropna = False)"
   ]
  },
  {
   "cell_type": "code",
   "execution_count": 19,
   "id": "9ca56678",
   "metadata": {},
   "outputs": [
    {
     "name": "stdout",
     "output_type": "stream",
     "text": [
      "number of unique `item_ID`s: 3159\n"
     ]
    }
   ],
   "source": [
    "# calculate unique values\n",
    "print('number of unique `item_ID`s: {}'.format(data_orig['item_ID'].nunique(dropna = False)))"
   ]
  },
  {
   "cell_type": "code",
   "execution_count": 20,
   "id": "d2ba7750",
   "metadata": {},
   "outputs": [
    {
     "name": "stdout",
     "output_type": "stream",
     "text": [
      "value counts of `item_ID` column:\n"
     ]
    },
    {
     "data": {
      "text/plain": [
       "85123A    565\n",
       "22423     499\n",
       "22469     414\n",
       "22720     377\n",
       "85099B    372\n",
       "         ... \n",
       "90168       1\n",
       "21589       1\n",
       "82011B      1\n",
       "84905       1\n",
       "90024E      1\n",
       "Name: item_ID, Length: 3159, dtype: int64"
      ]
     },
     "execution_count": 20,
     "metadata": {},
     "output_type": "execute_result"
    }
   ],
   "source": [
    "# look at value counts\n",
    "print('value counts of `item_ID` column:')\n",
    "data_orig['item_ID'].value_counts(dropna = False)"
   ]
  },
  {
   "cell_type": "code",
   "execution_count": 21,
   "id": "2b9c89db",
   "metadata": {},
   "outputs": [
    {
     "name": "stdout",
     "output_type": "stream",
     "text": [
      "number of unique `Quantity`s: 301\n"
     ]
    }
   ],
   "source": [
    "# calculate unique values\n",
    "print('number of unique `Quantity`s: {}'.format(data_orig['Quantity'].nunique(dropna = False)))"
   ]
  },
  {
   "cell_type": "code",
   "execution_count": 22,
   "id": "f5ddf7c2",
   "metadata": {},
   "outputs": [
    {
     "name": "stdout",
     "output_type": "stream",
     "text": [
      "value counts of `Quantity` column:\n"
     ]
    },
    {
     "data": {
      "text/plain": [
       " 0       33055\n",
       " 1       16258\n",
       " 11      10311\n",
       " 5        7979\n",
       " 2        7460\n",
       "         ...  \n",
       "-291         1\n",
       " 669         1\n",
       " 94          1\n",
       " 2591        1\n",
       " 1727        1\n",
       "Name: Quantity, Length: 301, dtype: int64"
      ]
     },
     "execution_count": 22,
     "metadata": {},
     "output_type": "execute_result"
    }
   ],
   "source": [
    "# look at value counts\n",
    "print('value counts of `Quantity` column:')\n",
    "data_orig['Quantity'].value_counts(dropna = False)"
   ]
  },
  {
   "cell_type": "code",
   "execution_count": 23,
   "id": "0fff5b92",
   "metadata": {},
   "outputs": [
    {
     "name": "stdout",
     "output_type": "stream",
     "text": [
      "number of unique `CustomerID`s: 1750\n"
     ]
    }
   ],
   "source": [
    "# calculate unique values\n",
    "print('number of unique `CustomerID`s: {}'.format(data_orig['CustomerID'].nunique(dropna = False)))"
   ]
  },
  {
   "cell_type": "code",
   "execution_count": 24,
   "id": "b8e088cd",
   "metadata": {},
   "outputs": [
    {
     "name": "stdout",
     "output_type": "stream",
     "text": [
      "value counts of `CustomerID` column:\n"
     ]
    },
    {
     "data": {
      "text/plain": [
       "NaN        36210\n",
       "18427.0      796\n",
       "23520.0      757\n",
       "20285.0      751\n",
       "20990.0      718\n",
       "           ...  \n",
       "23399.0        1\n",
       "23956.0        1\n",
       "21827.0        1\n",
       "18184.0        1\n",
       "18182.0        1\n",
       "Name: CustomerID, Length: 1750, dtype: int64"
      ]
     },
     "execution_count": 24,
     "metadata": {},
     "output_type": "execute_result"
    }
   ],
   "source": [
    "# look at value counts\n",
    "print('value counts of `CustomerID` column:')\n",
    "data_orig['CustomerID'].value_counts(dropna = False)"
   ]
  },
  {
   "cell_type": "code",
   "execution_count": 25,
   "id": "20e731fc",
   "metadata": {},
   "outputs": [
    {
     "name": "stdout",
     "output_type": "stream",
     "text": [
      "value counts of `loyalty_program` column:\n"
     ]
    },
    {
     "data": {
      "text/plain": [
       "0    81493\n",
       "1    23842\n",
       "Name: loyalty_program, dtype: int64"
      ]
     },
     "execution_count": 25,
     "metadata": {},
     "output_type": "execute_result"
    }
   ],
   "source": [
    "# look at value counts\n",
    "print('value counts of `loyalty_program` column:')\n",
    "data_orig['loyalty_program'].value_counts(dropna = False)"
   ]
  },
  {
   "cell_type": "code",
   "execution_count": 26,
   "id": "04177c2a",
   "metadata": {},
   "outputs": [
    {
     "name": "stdout",
     "output_type": "stream",
     "text": [
      "number of unique `ShopID`s: 31\n"
     ]
    }
   ],
   "source": [
    "# calculate unique values\n",
    "print('number of unique `ShopID`s: {}'.format(data_orig['ShopID'].nunique(dropna = False)))"
   ]
  },
  {
   "cell_type": "code",
   "execution_count": 27,
   "id": "46b95541",
   "metadata": {},
   "outputs": [
    {
     "name": "stdout",
     "output_type": "stream",
     "text": [
      "value counts of `ShopID` column:\n"
     ]
    },
    {
     "data": {
      "text/plain": [
       "Shop 0     38389\n",
       "Shop 1      2744\n",
       "Shop 15     2710\n",
       "Shop 24     2656\n",
       "Shop 22     2601\n",
       "Shop 5      2510\n",
       "Shop 9      2496\n",
       "Shop 13     2448\n",
       "Shop 20     2435\n",
       "Shop 14     2400\n",
       "Shop 30     2395\n",
       "Shop 7      2368\n",
       "Shop 26     2340\n",
       "Shop 27     2338\n",
       "Shop 28     2324\n",
       "Shop 11     2301\n",
       "Shop 2      2248\n",
       "Shop 19     2242\n",
       "Shop 10     2204\n",
       "Shop 29     2202\n",
       "Shop 17     2178\n",
       "Shop 23     2077\n",
       "Shop 18     2022\n",
       "Shop 8      1985\n",
       "Shop 4      1968\n",
       "Shop 16     1939\n",
       "Shop 25     1935\n",
       "Shop 12     1786\n",
       "Shop 3      1732\n",
       "Shop 6      1694\n",
       "Shop 21     1668\n",
       "Name: ShopID, dtype: int64"
      ]
     },
     "execution_count": 27,
     "metadata": {},
     "output_type": "execute_result"
    }
   ],
   "source": [
    "# look at value counts\n",
    "print('value counts of `ShopID` column:')\n",
    "data_orig['ShopID'].value_counts(dropna = False)"
   ]
  },
  {
   "cell_type": "markdown",
   "id": "e000c650",
   "metadata": {},
   "source": [
    "# [Step 1. Conclusion](#step1instructions)<a id = 'step1conclusion'></a>\n",
    "\n",
    "# Open the data file and read the general information\n",
    "\n",
    "***Actions Performed***\n",
    "- 1.a opened and saved original data as a dataframe\n",
    "    - product_codes_us.csv separated by `;`\n",
    "- ***product_codes_us.csv***\n",
    "    - 1.b examined general info\n",
    "        - 2 columns\n",
    "        - 3159 entries\n",
    "        - higher mean vs median in `price_per_one` column implies there are some expensive items\n",
    "        - there are no missing values\n",
    "        - there are no duplicate rows\n",
    "    - 1.c took a closer look at the individual columns\n",
    "        - 3159 unique `productID`s\n",
    "        - 192 unique `price_per_one`s\n",
    "            - 382 entries of `price_per_one` have a 0.00 value\n",
    "- ***retail_dataset_us.csv***\n",
    "    - 1.d examined general info\n",
    "        - 7 columns\n",
    "        - 105335 entries\n",
    "        - `purchasedate` column is an object type\n",
    "        - higher mean vs median in `Quantity` column implies there are some large number of items purchased\n",
    "        - `Quantity` column has anomalies\n",
    "            - many 0 items purchased\n",
    "            - negative number of items purchased\n",
    "        - The dataset starts on 2016-12-01 and ends on 2017-02-28\n",
    "            - this covers a 3 month period of purchases\n",
    "        - `CustomerID` column has missing values\n",
    "        - There are 1033 duplicate rows\n",
    "    - 1.e took a closer look at the individual columns\n",
    "        - ***some of the values below may not be correct due to duplicates***\n",
    "        - There are 4894 unique `purchaseid`s, i.e. there are 4894 purchases in the dataset, some purchases contain hundreds of items\n",
    "            - ***It appears that each entry accounts for an item purchased by a customer during a single purchase time, which attaches each item purchased to the `purchaseid`***\n",
    "        - the number of unique `ItemID`s matches the number of unique `productID`s in the `product_codes_us.csv`, this suggests that the values will match and there will not be unaccounted for products in either list. During the team lead meeting we were also told that these are the same values or a one to one entity relationship\n",
    "        - there are some items that are purchased often, and others infrequently\n",
    "        - There is a possible anomaly in the `Quantity` column because there are 0 items being purchased 33055 times\n",
    "            - most of the time 1 item is purchased, followed by 11, 5, and 2 items\n",
    "        - There are 36210 missing values in the `CustomerID` column\n",
    "        - There are 81493 enties not participating in the loyalty program and 23842 that are participating\n",
    "        - There are 31 different stores in this dataset"
   ]
  },
  {
   "cell_type": "markdown",
   "id": "7abd0658",
   "metadata": {},
   "source": [
    "# [Step 2. Data Preprocessing](#step2instructions)<a id = 'step2'></a>\n",
    "\n",
    "***Plan of Action***\n",
    "\n",
    "- 2.a read and save working version of data\n",
    "- 2.b change column names\n",
    "- 2.c change column data\n",
    "- 2.d change data types\n",
    "- 2.e process missing data\n",
    "- 2.f process duplicate data\n",
    "- 2.g process anomalies"
   ]
  },
  {
   "cell_type": "markdown",
   "id": "4632e708",
   "metadata": {},
   "source": [
    "[***2.a Read and save a working version of data***](#step2instructions)<a id = '2a'></a>"
   ]
  },
  {
   "cell_type": "code",
   "execution_count": 28,
   "id": "6515f024",
   "metadata": {},
   "outputs": [],
   "source": [
    "# open and save working versions of files as a dataframe\n",
    "try:\n",
    "    codes = pd.read_csv('product_codes_us.csv', sep = ';')\n",
    "    data = pd.read_csv('retail_dataset_us.csv', parse_dates = ['purchasedate'])\n",
    "except:\n",
    "    codes = pd.read_csv('/datasets/product_codes_us.csv', sep = ';')\n",
    "    data = pd.read_csv('/datasets/retail_dataset_us.csv', parse_dates = ['purchasedate'])"
   ]
  },
  {
   "cell_type": "markdown",
   "id": "7611be6e",
   "metadata": {},
   "source": [
    "[***2.b Change column names***](#step2instructions)<a id = '2b'></a>"
   ]
  },
  {
   "cell_type": "code",
   "execution_count": 29,
   "id": "8fc7165f",
   "metadata": {},
   "outputs": [
    {
     "name": "stdout",
     "output_type": "stream",
     "text": [
      "updated codes columns:  Index(['item_id', 'price_per_one'], dtype='object') \n",
      "\n",
      "updated data columns:  Index(['purchase_id', 'item_id', 'quantity', 'purchase_datetime',\n",
      "       'customer_id', 'loyalty_program', 'shop_id'],\n",
      "      dtype='object')\n"
     ]
    }
   ],
   "source": [
    "# rename columns\n",
    "codes = codes.rename(columns = {'productID': 'item_id'})\n",
    "data = data.rename(columns = {'purchaseid': 'purchase_id', 'item_ID': 'item_id', \n",
    "                              'Quantity': 'quantity', 'purchasedate': 'purchase_datetime', \n",
    "                             'CustomerID': 'customer_id', 'ShopID': 'shop_id'})\n",
    "print('updated codes columns: ', codes.columns, '\\n')\n",
    "print('updated data columns: ', data.columns)"
   ]
  },
  {
   "cell_type": "markdown",
   "id": "1c4e3546",
   "metadata": {},
   "source": [
    "[***2.c Add a column for dates with out times***](#step2instructions)<a id = '2c'></a>"
   ]
  },
  {
   "cell_type": "code",
   "execution_count": 30,
   "id": "b2ebb453",
   "metadata": {},
   "outputs": [
    {
     "data": {
      "text/html": [
       "<div>\n",
       "<style scoped>\n",
       "    .dataframe tbody tr th:only-of-type {\n",
       "        vertical-align: middle;\n",
       "    }\n",
       "\n",
       "    .dataframe tbody tr th {\n",
       "        vertical-align: top;\n",
       "    }\n",
       "\n",
       "    .dataframe thead th {\n",
       "        text-align: right;\n",
       "    }\n",
       "</style>\n",
       "<table border=\"1\" class=\"dataframe\">\n",
       "  <thead>\n",
       "    <tr style=\"text-align: right;\">\n",
       "      <th></th>\n",
       "      <th>purchase_id</th>\n",
       "      <th>item_id</th>\n",
       "      <th>quantity</th>\n",
       "      <th>purchase_datetime</th>\n",
       "      <th>customer_id</th>\n",
       "      <th>loyalty_program</th>\n",
       "      <th>shop_id</th>\n",
       "      <th>purchase_date</th>\n",
       "    </tr>\n",
       "  </thead>\n",
       "  <tbody>\n",
       "    <tr>\n",
       "      <th>0</th>\n",
       "      <td>538280</td>\n",
       "      <td>21873</td>\n",
       "      <td>11</td>\n",
       "      <td>2016-12-10 12:50:00</td>\n",
       "      <td>18427.0</td>\n",
       "      <td>0</td>\n",
       "      <td>Shop 3</td>\n",
       "      <td>2016-12-10</td>\n",
       "    </tr>\n",
       "    <tr>\n",
       "      <th>1</th>\n",
       "      <td>538862</td>\n",
       "      <td>22195</td>\n",
       "      <td>0</td>\n",
       "      <td>2016-12-14 14:11:00</td>\n",
       "      <td>22389.0</td>\n",
       "      <td>1</td>\n",
       "      <td>Shop 2</td>\n",
       "      <td>2016-12-14</td>\n",
       "    </tr>\n",
       "    <tr>\n",
       "      <th>2</th>\n",
       "      <td>538855</td>\n",
       "      <td>21239</td>\n",
       "      <td>7</td>\n",
       "      <td>2016-12-14 13:50:00</td>\n",
       "      <td>22182.0</td>\n",
       "      <td>1</td>\n",
       "      <td>Shop 3</td>\n",
       "      <td>2016-12-14</td>\n",
       "    </tr>\n",
       "    <tr>\n",
       "      <th>3</th>\n",
       "      <td>543543</td>\n",
       "      <td>22271</td>\n",
       "      <td>0</td>\n",
       "      <td>2017-02-09 15:33:00</td>\n",
       "      <td>23522.0</td>\n",
       "      <td>1</td>\n",
       "      <td>Shop 28</td>\n",
       "      <td>2017-02-09</td>\n",
       "    </tr>\n",
       "    <tr>\n",
       "      <th>4</th>\n",
       "      <td>543812</td>\n",
       "      <td>79321</td>\n",
       "      <td>0</td>\n",
       "      <td>2017-02-13 14:40:00</td>\n",
       "      <td>23151.0</td>\n",
       "      <td>1</td>\n",
       "      <td>Shop 28</td>\n",
       "      <td>2017-02-13</td>\n",
       "    </tr>\n",
       "  </tbody>\n",
       "</table>\n",
       "</div>"
      ],
      "text/plain": [
       "  purchase_id item_id  quantity   purchase_datetime  customer_id  \\\n",
       "0      538280   21873        11 2016-12-10 12:50:00      18427.0   \n",
       "1      538862   22195         0 2016-12-14 14:11:00      22389.0   \n",
       "2      538855   21239         7 2016-12-14 13:50:00      22182.0   \n",
       "3      543543   22271         0 2017-02-09 15:33:00      23522.0   \n",
       "4      543812   79321         0 2017-02-13 14:40:00      23151.0   \n",
       "\n",
       "   loyalty_program  shop_id purchase_date  \n",
       "0                0   Shop 3    2016-12-10  \n",
       "1                1   Shop 2    2016-12-14  \n",
       "2                1   Shop 3    2016-12-14  \n",
       "3                1  Shop 28    2017-02-09  \n",
       "4                1  Shop 28    2017-02-13  "
      ]
     },
     "execution_count": 30,
     "metadata": {},
     "output_type": "execute_result"
    }
   ],
   "source": [
    "# create a date only column\n",
    "data['purchase_date'] = data['purchase_datetime'].astype('datetime64[D]')\n",
    "# review data\n",
    "data.head()"
   ]
  },
  {
   "cell_type": "markdown",
   "id": "a31c8b6b",
   "metadata": {},
   "source": [
    "[***2.d Change column data***](#step2instructions)<a id = '2d'></a>\n",
    "- fill in missing `customer_id` values with 0"
   ]
  },
  {
   "cell_type": "code",
   "execution_count": 31,
   "id": "e7c48918",
   "metadata": {},
   "outputs": [
    {
     "data": {
      "text/plain": [
       "0.0        36210\n",
       "18427.0      796\n",
       "23520.0      757\n",
       "20285.0      751\n",
       "20990.0      718\n",
       "           ...  \n",
       "23399.0        1\n",
       "23956.0        1\n",
       "21827.0        1\n",
       "18184.0        1\n",
       "18182.0        1\n",
       "Name: customer_id, Length: 1750, dtype: int64"
      ]
     },
     "execution_count": 31,
     "metadata": {},
     "output_type": "execute_result"
    }
   ],
   "source": [
    "# change null values to 0\n",
    "data['customer_id'] = data['customer_id'].fillna(0)\n",
    "# review values after null values updated\n",
    "data['customer_id'].value_counts()"
   ]
  },
  {
   "cell_type": "markdown",
   "id": "92cfd139",
   "metadata": {},
   "source": [
    "<div class=\"alert alert-block alert-warning\">\n",
    "   <h2>Reviewer's commentary <a class=\"tocSkip\"> </h2>\n",
    "    <br/>\n",
    "<b>Remarks and recommendations📌:</b> You correctly identified missing values in customer_id and it is good that you fix them. Just small notice that customer_id is alwasys unique for each customer. By filling in this column with 0 you create single customer with the same index 0. So in case you do some aggreagations counts for this particular customer can be enormous. On the other side if you replace missing values with some random numbers you might miss the point that some customers may have multiple purchases. \n",
    "</div>"
   ]
  },
  {
   "cell_type": "markdown",
   "id": "3920eb1d",
   "metadata": {},
   "source": [
    "[***2.e Change data types***](#step2instructions)<a id = '2e'></a>\n",
    "- `customer_id` from float64 to object"
   ]
  },
  {
   "cell_type": "code",
   "execution_count": 32,
   "id": "3c33cb25",
   "metadata": {},
   "outputs": [
    {
     "name": "stdout",
     "output_type": "stream",
     "text": [
      "<class 'pandas.core.frame.DataFrame'>\n",
      "RangeIndex: 105335 entries, 0 to 105334\n",
      "Data columns (total 8 columns):\n",
      " #   Column             Non-Null Count   Dtype         \n",
      "---  ------             --------------   -----         \n",
      " 0   purchase_id        105335 non-null  object        \n",
      " 1   item_id            105335 non-null  object        \n",
      " 2   quantity           105335 non-null  int64         \n",
      " 3   purchase_datetime  105335 non-null  datetime64[ns]\n",
      " 4   customer_id        105335 non-null  object        \n",
      " 5   loyalty_program    105335 non-null  int64         \n",
      " 6   shop_id            105335 non-null  object        \n",
      " 7   purchase_date      105335 non-null  datetime64[ns]\n",
      "dtypes: datetime64[ns](2), int64(2), object(4)\n",
      "memory usage: 6.4+ MB\n"
     ]
    }
   ],
   "source": [
    "# change data type float to object\n",
    "data['customer_id'] = data['customer_id'].astype(object)\n",
    "\n",
    "# review updated data types\n",
    "data.info()"
   ]
  },
  {
   "cell_type": "markdown",
   "id": "f527c866",
   "metadata": {},
   "source": [
    "[***2.f Process missing data***](#step2instructions)<a id = '2f'></a>\n",
    "- Due to data change, the `customer_id` column no longer has missing values"
   ]
  },
  {
   "cell_type": "markdown",
   "id": "8124cfc1",
   "metadata": {},
   "source": [
    "[***2.g Process duplicate data***](#step2instructions)<a id = '2g'></a>"
   ]
  },
  {
   "cell_type": "code",
   "execution_count": 33,
   "id": "dc1ee3c4",
   "metadata": {},
   "outputs": [
    {
     "name": "stdout",
     "output_type": "stream",
     "text": [
      "number of duplicate rows in data df: 1033\n"
     ]
    }
   ],
   "source": [
    "# review num of duplicate rows in df\n",
    "data_duplicates = data.duplicated().sum()\n",
    "print('number of duplicate rows in data df: {}'.format(data_duplicates))"
   ]
  },
  {
   "cell_type": "code",
   "execution_count": 34,
   "id": "45665515",
   "metadata": {},
   "outputs": [
    {
     "name": "stdout",
     "output_type": "stream",
     "text": [
      "0.98% of entries in data df are duplicate rows\n"
     ]
    }
   ],
   "source": [
    "# calculate percentage of duplicate rows\n",
    "perc_data_duplicates = data_duplicates / len(data)\n",
    "print('{:.2%} of entries in data df are duplicate rows'.format(perc_data_duplicates))"
   ]
  },
  {
   "cell_type": "markdown",
   "id": "8e904f81",
   "metadata": {},
   "source": [
    "The proportion of duplicate rows is below the standard 10% of data, it is appropriate to remove these entries with out consequences to the overall conclusions"
   ]
  },
  {
   "cell_type": "code",
   "execution_count": 35,
   "id": "f7152dcf",
   "metadata": {},
   "outputs": [
    {
     "name": "stdout",
     "output_type": "stream",
     "text": [
      "number of duplicate rows in data df post removal: 0 \n",
      "\n",
      "data general info post duplicate removal: \n",
      "\n",
      "<class 'pandas.core.frame.DataFrame'>\n",
      "RangeIndex: 104302 entries, 0 to 104301\n",
      "Data columns (total 8 columns):\n",
      " #   Column             Non-Null Count   Dtype         \n",
      "---  ------             --------------   -----         \n",
      " 0   purchase_id        104302 non-null  object        \n",
      " 1   item_id            104302 non-null  object        \n",
      " 2   quantity           104302 non-null  int64         \n",
      " 3   purchase_datetime  104302 non-null  datetime64[ns]\n",
      " 4   customer_id        104302 non-null  object        \n",
      " 5   loyalty_program    104302 non-null  int64         \n",
      " 6   shop_id            104302 non-null  object        \n",
      " 7   purchase_date      104302 non-null  datetime64[ns]\n",
      "dtypes: datetime64[ns](2), int64(2), object(4)\n",
      "memory usage: 6.4+ MB\n"
     ]
    },
    {
     "data": {
      "text/plain": [
       "None"
      ]
     },
     "metadata": {},
     "output_type": "display_data"
    }
   ],
   "source": [
    "# remove duplicate rows\n",
    "data = data.drop_duplicates().reset_index(drop = True)\n",
    "# confirm duplicates are removed\n",
    "print('number of duplicate rows in data df post removal: {}'.format(data.duplicated().sum()), '\\n')\n",
    "print('data general info post duplicate removal: \\n')\n",
    "display(data.info())"
   ]
  },
  {
   "cell_type": "markdown",
   "id": "7c6ba77e",
   "metadata": {},
   "source": [
    "[***2.h Process anomalies***](#step2instructions)<a id = '2h'></a>\n",
    "\n",
    "***Anomalies are of concern because the values may affect the overall averages and medians***\n",
    "\n",
    "***data dataframe***\n",
    "- `quantity` column has anomalies\n",
    "    - many 0 items purchased\n",
    "    - negative items purchased\n",
    "    \n",
    "***codes dataframe***\n",
    "- `price_per_one` column has items valued at 0.0\n",
    "\n",
    "***Plan of Action***\n",
    "- 2.h.1 merge the two dataframes\n",
    "- 2.h.2 add a column for the price per quantity of an item \n",
    "- 2.h.3 create queries to investigate the anomalies\n",
    "- 2.h.4 determine percentage of purchases with anomalies\n",
    "- 2.h.5 remove anomalies from dataset if appropriate\n",
    "- 2.h.6 evaluate the affects of removing the anomalies on the dataset"
   ]
  },
  {
   "cell_type": "markdown",
   "id": "62298046",
   "metadata": {},
   "source": [
    "[***2.h.1 Merge the dataframes***](#step2instructions)<a id = '2h1'></a>"
   ]
  },
  {
   "cell_type": "code",
   "execution_count": 36,
   "id": "a3ad5f64",
   "metadata": {},
   "outputs": [],
   "source": [
    "# merge the two dataframes\n",
    "purchases = pd.merge(data, codes, on = 'item_id')"
   ]
  },
  {
   "cell_type": "code",
   "execution_count": 37,
   "id": "89cf3ad2",
   "metadata": {},
   "outputs": [
    {
     "name": "stdout",
     "output_type": "stream",
     "text": [
      "<class 'pandas.core.frame.DataFrame'>\n",
      "Int64Index: 104302 entries, 0 to 104301\n",
      "Data columns (total 9 columns):\n",
      " #   Column             Non-Null Count   Dtype         \n",
      "---  ------             --------------   -----         \n",
      " 0   purchase_id        104302 non-null  object        \n",
      " 1   item_id            104302 non-null  object        \n",
      " 2   quantity           104302 non-null  int64         \n",
      " 3   purchase_datetime  104302 non-null  datetime64[ns]\n",
      " 4   customer_id        104302 non-null  object        \n",
      " 5   loyalty_program    104302 non-null  int64         \n",
      " 6   shop_id            104302 non-null  object        \n",
      " 7   purchase_date      104302 non-null  datetime64[ns]\n",
      " 8   price_per_one      104302 non-null  float64       \n",
      "dtypes: datetime64[ns](2), float64(1), int64(2), object(4)\n",
      "memory usage: 8.0+ MB\n"
     ]
    }
   ],
   "source": [
    "# confirm the dataframes are merged\n",
    "purchases.info()"
   ]
  },
  {
   "cell_type": "code",
   "execution_count": 38,
   "id": "9a8121d1",
   "metadata": {},
   "outputs": [
    {
     "data": {
      "text/html": [
       "<div>\n",
       "<style scoped>\n",
       "    .dataframe tbody tr th:only-of-type {\n",
       "        vertical-align: middle;\n",
       "    }\n",
       "\n",
       "    .dataframe tbody tr th {\n",
       "        vertical-align: top;\n",
       "    }\n",
       "\n",
       "    .dataframe thead th {\n",
       "        text-align: right;\n",
       "    }\n",
       "</style>\n",
       "<table border=\"1\" class=\"dataframe\">\n",
       "  <thead>\n",
       "    <tr style=\"text-align: right;\">\n",
       "      <th></th>\n",
       "      <th>purchase_id</th>\n",
       "      <th>item_id</th>\n",
       "      <th>quantity</th>\n",
       "      <th>purchase_datetime</th>\n",
       "      <th>customer_id</th>\n",
       "      <th>loyalty_program</th>\n",
       "      <th>shop_id</th>\n",
       "      <th>purchase_date</th>\n",
       "      <th>price_per_one</th>\n",
       "    </tr>\n",
       "  </thead>\n",
       "  <tbody>\n",
       "    <tr>\n",
       "      <th>0</th>\n",
       "      <td>538280</td>\n",
       "      <td>21873</td>\n",
       "      <td>11</td>\n",
       "      <td>2016-12-10 12:50:00</td>\n",
       "      <td>18427.0</td>\n",
       "      <td>0</td>\n",
       "      <td>Shop 3</td>\n",
       "      <td>2016-12-10</td>\n",
       "      <td>0.42</td>\n",
       "    </tr>\n",
       "    <tr>\n",
       "      <th>1</th>\n",
       "      <td>541104</td>\n",
       "      <td>21873</td>\n",
       "      <td>0</td>\n",
       "      <td>2017-01-13 14:29:00</td>\n",
       "      <td>0.0</td>\n",
       "      <td>0</td>\n",
       "      <td>Shop 0</td>\n",
       "      <td>2017-01-13</td>\n",
       "      <td>0.42</td>\n",
       "    </tr>\n",
       "    <tr>\n",
       "      <th>2</th>\n",
       "      <td>540418</td>\n",
       "      <td>21873</td>\n",
       "      <td>1</td>\n",
       "      <td>2017-01-07 11:04:00</td>\n",
       "      <td>0.0</td>\n",
       "      <td>0</td>\n",
       "      <td>Shop 0</td>\n",
       "      <td>2017-01-07</td>\n",
       "      <td>0.42</td>\n",
       "    </tr>\n",
       "    <tr>\n",
       "      <th>3</th>\n",
       "      <td>541516</td>\n",
       "      <td>21873</td>\n",
       "      <td>2</td>\n",
       "      <td>2017-01-18 17:34:00</td>\n",
       "      <td>0.0</td>\n",
       "      <td>0</td>\n",
       "      <td>Shop 0</td>\n",
       "      <td>2017-01-18</td>\n",
       "      <td>0.42</td>\n",
       "    </tr>\n",
       "    <tr>\n",
       "      <th>4</th>\n",
       "      <td>541566</td>\n",
       "      <td>21873</td>\n",
       "      <td>35</td>\n",
       "      <td>2017-01-19 11:50:00</td>\n",
       "      <td>23401.0</td>\n",
       "      <td>1</td>\n",
       "      <td>Shop 22</td>\n",
       "      <td>2017-01-19</td>\n",
       "      <td>0.42</td>\n",
       "    </tr>\n",
       "  </tbody>\n",
       "</table>\n",
       "</div>"
      ],
      "text/plain": [
       "  purchase_id item_id  quantity   purchase_datetime customer_id  \\\n",
       "0      538280   21873        11 2016-12-10 12:50:00     18427.0   \n",
       "1      541104   21873         0 2017-01-13 14:29:00         0.0   \n",
       "2      540418   21873         1 2017-01-07 11:04:00         0.0   \n",
       "3      541516   21873         2 2017-01-18 17:34:00         0.0   \n",
       "4      541566   21873        35 2017-01-19 11:50:00     23401.0   \n",
       "\n",
       "   loyalty_program  shop_id purchase_date  price_per_one  \n",
       "0                0   Shop 3    2016-12-10           0.42  \n",
       "1                0   Shop 0    2017-01-13           0.42  \n",
       "2                0   Shop 0    2017-01-07           0.42  \n",
       "3                0   Shop 0    2017-01-18           0.42  \n",
       "4                1  Shop 22    2017-01-19           0.42  "
      ]
     },
     "execution_count": 38,
     "metadata": {},
     "output_type": "execute_result"
    }
   ],
   "source": [
    "# look at first rows\n",
    "purchases.head()"
   ]
  },
  {
   "cell_type": "markdown",
   "id": "1b9e9043",
   "metadata": {},
   "source": [
    "[***2.g.2 add a column for the price per quantity of an item***](#step2instructions)<a id = '2g2'></a>"
   ]
  },
  {
   "cell_type": "code",
   "execution_count": 39,
   "id": "9be8c815",
   "metadata": {},
   "outputs": [
    {
     "data": {
      "text/html": [
       "<div>\n",
       "<style scoped>\n",
       "    .dataframe tbody tr th:only-of-type {\n",
       "        vertical-align: middle;\n",
       "    }\n",
       "\n",
       "    .dataframe tbody tr th {\n",
       "        vertical-align: top;\n",
       "    }\n",
       "\n",
       "    .dataframe thead th {\n",
       "        text-align: right;\n",
       "    }\n",
       "</style>\n",
       "<table border=\"1\" class=\"dataframe\">\n",
       "  <thead>\n",
       "    <tr style=\"text-align: right;\">\n",
       "      <th></th>\n",
       "      <th>purchase_id</th>\n",
       "      <th>item_id</th>\n",
       "      <th>quantity</th>\n",
       "      <th>purchase_datetime</th>\n",
       "      <th>customer_id</th>\n",
       "      <th>loyalty_program</th>\n",
       "      <th>shop_id</th>\n",
       "      <th>purchase_date</th>\n",
       "      <th>price_per_one</th>\n",
       "      <th>price_per_quantity</th>\n",
       "    </tr>\n",
       "  </thead>\n",
       "  <tbody>\n",
       "    <tr>\n",
       "      <th>0</th>\n",
       "      <td>538280</td>\n",
       "      <td>21873</td>\n",
       "      <td>11</td>\n",
       "      <td>2016-12-10 12:50:00</td>\n",
       "      <td>18427.0</td>\n",
       "      <td>0</td>\n",
       "      <td>Shop 3</td>\n",
       "      <td>2016-12-10</td>\n",
       "      <td>0.42</td>\n",
       "      <td>4.62</td>\n",
       "    </tr>\n",
       "    <tr>\n",
       "      <th>1</th>\n",
       "      <td>541104</td>\n",
       "      <td>21873</td>\n",
       "      <td>0</td>\n",
       "      <td>2017-01-13 14:29:00</td>\n",
       "      <td>0.0</td>\n",
       "      <td>0</td>\n",
       "      <td>Shop 0</td>\n",
       "      <td>2017-01-13</td>\n",
       "      <td>0.42</td>\n",
       "      <td>0.00</td>\n",
       "    </tr>\n",
       "    <tr>\n",
       "      <th>2</th>\n",
       "      <td>540418</td>\n",
       "      <td>21873</td>\n",
       "      <td>1</td>\n",
       "      <td>2017-01-07 11:04:00</td>\n",
       "      <td>0.0</td>\n",
       "      <td>0</td>\n",
       "      <td>Shop 0</td>\n",
       "      <td>2017-01-07</td>\n",
       "      <td>0.42</td>\n",
       "      <td>0.42</td>\n",
       "    </tr>\n",
       "    <tr>\n",
       "      <th>3</th>\n",
       "      <td>541516</td>\n",
       "      <td>21873</td>\n",
       "      <td>2</td>\n",
       "      <td>2017-01-18 17:34:00</td>\n",
       "      <td>0.0</td>\n",
       "      <td>0</td>\n",
       "      <td>Shop 0</td>\n",
       "      <td>2017-01-18</td>\n",
       "      <td>0.42</td>\n",
       "      <td>0.84</td>\n",
       "    </tr>\n",
       "    <tr>\n",
       "      <th>4</th>\n",
       "      <td>541566</td>\n",
       "      <td>21873</td>\n",
       "      <td>35</td>\n",
       "      <td>2017-01-19 11:50:00</td>\n",
       "      <td>23401.0</td>\n",
       "      <td>1</td>\n",
       "      <td>Shop 22</td>\n",
       "      <td>2017-01-19</td>\n",
       "      <td>0.42</td>\n",
       "      <td>14.70</td>\n",
       "    </tr>\n",
       "  </tbody>\n",
       "</table>\n",
       "</div>"
      ],
      "text/plain": [
       "  purchase_id item_id  quantity   purchase_datetime customer_id  \\\n",
       "0      538280   21873        11 2016-12-10 12:50:00     18427.0   \n",
       "1      541104   21873         0 2017-01-13 14:29:00         0.0   \n",
       "2      540418   21873         1 2017-01-07 11:04:00         0.0   \n",
       "3      541516   21873         2 2017-01-18 17:34:00         0.0   \n",
       "4      541566   21873        35 2017-01-19 11:50:00     23401.0   \n",
       "\n",
       "   loyalty_program  shop_id purchase_date  price_per_one  price_per_quantity  \n",
       "0                0   Shop 3    2016-12-10           0.42                4.62  \n",
       "1                0   Shop 0    2017-01-13           0.42                0.00  \n",
       "2                0   Shop 0    2017-01-07           0.42                0.42  \n",
       "3                0   Shop 0    2017-01-18           0.42                0.84  \n",
       "4                1  Shop 22    2017-01-19           0.42               14.70  "
      ]
     },
     "execution_count": 39,
     "metadata": {},
     "output_type": "execute_result"
    }
   ],
   "source": [
    "# create a column for the total price per quantity\n",
    "purchases['price_per_quantity'] = purchases['quantity'] * purchases['price_per_one']\n",
    "purchases.head()"
   ]
  },
  {
   "cell_type": "markdown",
   "id": "86a09b56",
   "metadata": {},
   "source": [
    "[***2.g.3 Create queries to investigate the anomalies***](#step2instructions)<a id = '2g3'></a>"
   ]
  },
  {
   "cell_type": "markdown",
   "id": "f8b03994",
   "metadata": {},
   "source": [
    "***Quantity anomalies***"
   ]
  },
  {
   "cell_type": "code",
   "execution_count": 40,
   "id": "d457bd12",
   "metadata": {},
   "outputs": [
    {
     "name": "stdout",
     "output_type": "stream",
     "text": [
      "quantity_anomalies stats:\n"
     ]
    },
    {
     "data": {
      "text/plain": [
       "count    34438.000000\n",
       "mean        -3.471572\n",
       "std        403.686298\n",
       "min     -74216.000000\n",
       "25%          0.000000\n",
       "50%          0.000000\n",
       "75%          0.000000\n",
       "max          0.000000\n",
       "Name: quantity, dtype: float64"
      ]
     },
     "execution_count": 40,
     "metadata": {},
     "output_type": "execute_result"
    }
   ],
   "source": [
    "# quantity anomalies <= 0\n",
    "quantity_anomalies = purchases.query('quantity <= 0')\n",
    "\n",
    "# look at the stats\n",
    "print('quantity_anomalies stats:')\n",
    "quantity_anomalies['quantity'].describe()"
   ]
  },
  {
   "cell_type": "markdown",
   "id": "2d50ecb1",
   "metadata": {},
   "source": [
    "- There are 34438 entries with a quantity of 0 or less"
   ]
  },
  {
   "cell_type": "markdown",
   "id": "7c6b2b43",
   "metadata": {},
   "source": [
    "***Price anomalies***"
   ]
  },
  {
   "cell_type": "code",
   "execution_count": 41,
   "id": "22010eaa",
   "metadata": {},
   "outputs": [
    {
     "name": "stdout",
     "output_type": "stream",
     "text": [
      "price_anomalies stats:\n"
     ]
    },
    {
     "data": {
      "text/plain": [
       "count    16496.0\n",
       "mean         0.0\n",
       "std          0.0\n",
       "min          0.0\n",
       "25%          0.0\n",
       "50%          0.0\n",
       "75%          0.0\n",
       "max          0.0\n",
       "Name: price_per_one, dtype: float64"
      ]
     },
     "execution_count": 41,
     "metadata": {},
     "output_type": "execute_result"
    }
   ],
   "source": [
    "# price anomalies == 0.0\n",
    "price_anomalies = purchases.query('price_per_one == 0.0')\n",
    "\n",
    "# look at the stats\n",
    "print('price_anomalies stats:')\n",
    "price_anomalies['price_per_one'].describe()"
   ]
  },
  {
   "cell_type": "markdown",
   "id": "f3ba5366",
   "metadata": {},
   "source": [
    "- There are 16496 entries with an item price of 0 "
   ]
  },
  {
   "cell_type": "markdown",
   "id": "6862dd1d",
   "metadata": {},
   "source": [
    "[***2.g.4 Determine percentage of purchases with anomalies***](#step2instructions)<a id = '2g4'></a>"
   ]
  },
  {
   "cell_type": "code",
   "execution_count": 42,
   "id": "1be66928",
   "metadata": {},
   "outputs": [
    {
     "name": "stdout",
     "output_type": "stream",
     "text": [
      "total number of purchases: 4894 \n",
      "\n",
      "number of purchases with quantity anomalies (`quantity` is < or = to 0): 2758\n",
      "Percentage of purchases with quantity anomalies: 56.35% \n",
      "\n",
      "number of purchases with price anomalies (`price_per_one` is 0.0): 3600\n",
      "Percentage of purchases with price anomalies: 73.56% \n",
      "\n"
     ]
    }
   ],
   "source": [
    "# calculate total number of purchases in dataset\n",
    "total_purchases = purchases['purchase_id'].nunique()\n",
    "print('total number of purchases: {}'.format(total_purchases), '\\n')\n",
    "\n",
    "# determine number of purchases with quantity anomalies\n",
    "purchases_with_quantity_anomalies = quantity_anomalies['purchase_id'].nunique()\n",
    "print('number of purchases with quantity anomalies (`quantity` is < or = to 0): {}'.format(purchases_with_quantity_anomalies))\n",
    "\n",
    "# determine the proportion of purchases with quantity anomalies\n",
    "quant_anom_proportion = purchases_with_quantity_anomalies / total_purchases\n",
    "print('Percentage of purchases with quantity anomalies: {:.2%}'.format(quant_anom_proportion), '\\n')\n",
    "\n",
    "# determine number of purchases with price anomalies\n",
    "purchases_with_price_anomalies = price_anomalies['purchase_id'].nunique()\n",
    "print('number of purchases with price anomalies (`price_per_one` is 0.0): {}'.format(purchases_with_price_anomalies))\n",
    "\n",
    "# determine the propotrion of purchases with price anomalies\n",
    "price_anom_proportion = purchases_with_price_anomalies / total_purchases\n",
    "print('Percentage of purchases with price anomalies: {:.2%}'.format(price_anom_proportion), '\\n')"
   ]
  },
  {
   "cell_type": "markdown",
   "id": "449858ee",
   "metadata": {},
   "source": [
    "[***2.g.5 remove anomalies from dataset if appropriate***](#step2instructions)<a id = '2g5'></a>"
   ]
  },
  {
   "cell_type": "code",
   "execution_count": 43,
   "id": "426cdda5",
   "metadata": {},
   "outputs": [
    {
     "name": "stdout",
     "output_type": "stream",
     "text": [
      "number of entries removed due to quantity and price anomalies: 45371 from 104302 total entries\n",
      "percent of entries removed due to quantity and price anomalies: 43.50%\n",
      "number of purchases after anomaly removal: 3516\n",
      "28.16% of purchases were removed due to anaomlies\n"
     ]
    }
   ],
   "source": [
    "# create a dataset with anomalies removed\n",
    "purchases_clean_tmp = purchases.query('quantity > 0')\n",
    "purchases_clean = purchases_clean_tmp.query('price_per_one != 0')\n",
    "\n",
    "# calculate the number and percentage of entries removed from the dataset\n",
    "entries_removed = len(purchases) - len(purchases_clean)\n",
    "perc_removed = 1 - len(purchases_clean) / len(purchases)\n",
    "print('number of entries removed due to quantity and price anomalies: {} from {} total entries'.format(entries_removed, len(purchases)))\n",
    "print('percent of entries removed due to quantity and price anomalies: {:.2%}'.format(perc_removed))\n",
    "\n",
    "# calculate the number and percent of purchases after removal of anomalies\n",
    "num_purchases_after_anom_removal = purchases_clean['purchase_id'].nunique()\n",
    "print('number of purchases after anomaly removal:', num_purchases_after_anom_removal)\n",
    "perc_purchases_after_anom_removal = 1 - num_purchases_after_anom_removal / total_purchases\n",
    "print('{:.2%} of purchases were removed due to anaomlies'.format(perc_purchases_after_anom_removal))"
   ]
  },
  {
   "cell_type": "markdown",
   "id": "a4368888",
   "metadata": {},
   "source": [
    "[***2.g.6 Evaluate the effects of removing the anomalies from the dataset***](#step2instructions)<a id = '2g6'></a>"
   ]
  },
  {
   "cell_type": "code",
   "execution_count": 44,
   "id": "5c008187",
   "metadata": {},
   "outputs": [
    {
     "name": "stdout",
     "output_type": "stream",
     "text": [
      "stats before anomalies removed:\n",
      "\n"
     ]
    },
    {
     "data": {
      "text/html": [
       "<div>\n",
       "<style scoped>\n",
       "    .dataframe tbody tr th:only-of-type {\n",
       "        vertical-align: middle;\n",
       "    }\n",
       "\n",
       "    .dataframe tbody tr th {\n",
       "        vertical-align: top;\n",
       "    }\n",
       "\n",
       "    .dataframe thead th {\n",
       "        text-align: right;\n",
       "    }\n",
       "</style>\n",
       "<table border=\"1\" class=\"dataframe\">\n",
       "  <thead>\n",
       "    <tr style=\"text-align: right;\">\n",
       "      <th></th>\n",
       "      <th>quantity</th>\n",
       "      <th>loyalty_program</th>\n",
       "      <th>price_per_one</th>\n",
       "      <th>price_per_quantity</th>\n",
       "    </tr>\n",
       "  </thead>\n",
       "  <tbody>\n",
       "    <tr>\n",
       "      <th>count</th>\n",
       "      <td>104302.000000</td>\n",
       "      <td>104302.000000</td>\n",
       "      <td>104302.000000</td>\n",
       "      <td>104302.000000</td>\n",
       "    </tr>\n",
       "    <tr>\n",
       "      <th>mean</th>\n",
       "      <td>7.883003</td>\n",
       "      <td>0.224464</td>\n",
       "      <td>2.065705</td>\n",
       "      <td>9.352132</td>\n",
       "    </tr>\n",
       "    <tr>\n",
       "      <th>std</th>\n",
       "      <td>329.565540</td>\n",
       "      <td>0.417231</td>\n",
       "      <td>3.726409</td>\n",
       "      <td>342.067302</td>\n",
       "    </tr>\n",
       "    <tr>\n",
       "      <th>min</th>\n",
       "      <td>-74216.000000</td>\n",
       "      <td>0.000000</td>\n",
       "      <td>0.000000</td>\n",
       "      <td>-77184.640000</td>\n",
       "    </tr>\n",
       "    <tr>\n",
       "      <th>25%</th>\n",
       "      <td>0.000000</td>\n",
       "      <td>0.000000</td>\n",
       "      <td>0.420000</td>\n",
       "      <td>0.000000</td>\n",
       "    </tr>\n",
       "    <tr>\n",
       "      <th>50%</th>\n",
       "      <td>2.000000</td>\n",
       "      <td>0.000000</td>\n",
       "      <td>1.250000</td>\n",
       "      <td>1.450000</td>\n",
       "    </tr>\n",
       "    <tr>\n",
       "      <th>75%</th>\n",
       "      <td>7.000000</td>\n",
       "      <td>0.000000</td>\n",
       "      <td>2.550000</td>\n",
       "      <td>9.350000</td>\n",
       "    </tr>\n",
       "    <tr>\n",
       "      <th>max</th>\n",
       "      <td>74214.000000</td>\n",
       "      <td>1.000000</td>\n",
       "      <td>175.000000</td>\n",
       "      <td>77182.560000</td>\n",
       "    </tr>\n",
       "  </tbody>\n",
       "</table>\n",
       "</div>"
      ],
      "text/plain": [
       "            quantity  loyalty_program  price_per_one  price_per_quantity\n",
       "count  104302.000000    104302.000000  104302.000000       104302.000000\n",
       "mean        7.883003         0.224464       2.065705            9.352132\n",
       "std       329.565540         0.417231       3.726409          342.067302\n",
       "min    -74216.000000         0.000000       0.000000       -77184.640000\n",
       "25%         0.000000         0.000000       0.420000            0.000000\n",
       "50%         2.000000         0.000000       1.250000            1.450000\n",
       "75%         7.000000         0.000000       2.550000            9.350000\n",
       "max     74214.000000         1.000000     175.000000        77182.560000"
      ]
     },
     "metadata": {},
     "output_type": "display_data"
    },
    {
     "name": "stdout",
     "output_type": "stream",
     "text": [
      "\n",
      "stats after anomalies removed:\n",
      "\n"
     ]
    },
    {
     "data": {
      "text/html": [
       "<div>\n",
       "<style scoped>\n",
       "    .dataframe tbody tr th:only-of-type {\n",
       "        vertical-align: middle;\n",
       "    }\n",
       "\n",
       "    .dataframe tbody tr th {\n",
       "        vertical-align: top;\n",
       "    }\n",
       "\n",
       "    .dataframe thead th {\n",
       "        text-align: right;\n",
       "    }\n",
       "</style>\n",
       "<table border=\"1\" class=\"dataframe\">\n",
       "  <thead>\n",
       "    <tr style=\"text-align: right;\">\n",
       "      <th></th>\n",
       "      <th>quantity</th>\n",
       "      <th>loyalty_program</th>\n",
       "      <th>price_per_one</th>\n",
       "      <th>price_per_quantity</th>\n",
       "    </tr>\n",
       "  </thead>\n",
       "  <tbody>\n",
       "    <tr>\n",
       "      <th>count</th>\n",
       "      <td>58931.000000</td>\n",
       "      <td>58931.000000</td>\n",
       "      <td>58931.000000</td>\n",
       "      <td>58931.000000</td>\n",
       "    </tr>\n",
       "    <tr>\n",
       "      <th>mean</th>\n",
       "      <td>13.693099</td>\n",
       "      <td>0.249359</td>\n",
       "      <td>2.177707</td>\n",
       "      <td>18.393233</td>\n",
       "    </tr>\n",
       "    <tr>\n",
       "      <th>std</th>\n",
       "      <td>309.730125</td>\n",
       "      <td>0.432646</td>\n",
       "      <td>3.325047</td>\n",
       "      <td>325.167993</td>\n",
       "    </tr>\n",
       "    <tr>\n",
       "      <th>min</th>\n",
       "      <td>1.000000</td>\n",
       "      <td>0.000000</td>\n",
       "      <td>0.030000</td>\n",
       "      <td>0.030000</td>\n",
       "    </tr>\n",
       "    <tr>\n",
       "      <th>25%</th>\n",
       "      <td>2.000000</td>\n",
       "      <td>0.000000</td>\n",
       "      <td>0.850000</td>\n",
       "      <td>3.260000</td>\n",
       "    </tr>\n",
       "    <tr>\n",
       "      <th>50%</th>\n",
       "      <td>5.000000</td>\n",
       "      <td>0.000000</td>\n",
       "      <td>1.450000</td>\n",
       "      <td>8.250000</td>\n",
       "    </tr>\n",
       "    <tr>\n",
       "      <th>75%</th>\n",
       "      <td>11.000000</td>\n",
       "      <td>0.000000</td>\n",
       "      <td>2.550000</td>\n",
       "      <td>14.500000</td>\n",
       "    </tr>\n",
       "    <tr>\n",
       "      <th>max</th>\n",
       "      <td>74214.000000</td>\n",
       "      <td>1.000000</td>\n",
       "      <td>175.000000</td>\n",
       "      <td>77182.560000</td>\n",
       "    </tr>\n",
       "  </tbody>\n",
       "</table>\n",
       "</div>"
      ],
      "text/plain": [
       "           quantity  loyalty_program  price_per_one  price_per_quantity\n",
       "count  58931.000000     58931.000000   58931.000000        58931.000000\n",
       "mean      13.693099         0.249359       2.177707           18.393233\n",
       "std      309.730125         0.432646       3.325047          325.167993\n",
       "min        1.000000         0.000000       0.030000            0.030000\n",
       "25%        2.000000         0.000000       0.850000            3.260000\n",
       "50%        5.000000         0.000000       1.450000            8.250000\n",
       "75%       11.000000         0.000000       2.550000           14.500000\n",
       "max    74214.000000         1.000000     175.000000        77182.560000"
      ]
     },
     "metadata": {},
     "output_type": "display_data"
    }
   ],
   "source": [
    "# evaluate stats before and after\n",
    "print('stats before anomalies removed:\\n')\n",
    "display(purchases.describe())\n",
    "print('')\n",
    "print('stats after anomalies removed:\\n')\n",
    "display(purchases_clean.describe())"
   ]
  },
  {
   "cell_type": "markdown",
   "id": "36533f49",
   "metadata": {},
   "source": [
    "<div class=\"alert alert-block alert-success\">\n",
    "    <h2>Reviewer's commentary <a class=\"tocSkip\"> </h2>\n",
    "    <br/>\n",
    "<b>Well done!👍:</b> I really like that you check data distribution before and after removing outliers, very good approach.\n",
    "</div>"
   ]
  },
  {
   "cell_type": "markdown",
   "id": "2ec27961",
   "metadata": {},
   "source": [
    "[***2.h Conclusion: Process anomalies***](#step2instructions)<a id = '2hconclusion'></a>\n",
    "\n",
    "***Actions performed***\n",
    "- To evaluate the affects of the anomalies:\n",
    "    - 2.g.1 The two dataframes were merged into one to be able to see the change in stats (mean and median in particular) before and after removal\n",
    "    - 2.g.2 Created a new column for the price per quantity of items purchased\n",
    "    - 2.g.3 & 2.g.4: Created queries to investigate the anomalies and determined the percentage of purchases with anomalies:\n",
    "        - `quantity`s of items of < or = to 0\n",
    "            - 34438 entries\n",
    "            - included in 2758 out of 4894 purchases = 56.35% of purchases have a quantity anomaly\n",
    "        - `price_per_one` priced at 0.0 per item\n",
    "            - 16496 entries\n",
    "            - included in 3600 out of 4894 purchases = 73.56% of purchases have a price anomaly\n",
    "    - 2.g.5 & 2.g.6: Removed the anomalies and examined the affects on the stats before and after removal\n",
    "        - Removing the anomalies removes 43.5% of the entries in the data set and 28% of purchases\n",
    "        - After removal of negative and 0 values from the data set the statistics shifted for the numercial data, however the mean, median and standard deviation for the loyalty program remained about the same\n",
    "        - ***While this is a large amount of data to remove, I believe it is appropriate because negative and 0 values are affecting the overall results and the investigation is focused on averages***\n",
    "        - Due to the large number of anomalies there is likely a default in the data collection system and the inventory system. The appropriate teams should be notified that negative and 0 orders are being made/collected and that some items have a price of 0, perhaps this is a typo or the items are discontinued and need to be removed from the inventory list."
   ]
  },
  {
   "cell_type": "markdown",
   "id": "799bfc21",
   "metadata": {},
   "source": [
    "# [Step 2. Conclusion](#step2instructions)<a id = 'step2conclusion'></a>\n",
    "\n",
    "# Data Preprocessing\n",
    "\n",
    "***Actions Performed***\n",
    "- 2.a Working versions of the datasets were saved and read\n",
    "- 2.b Column names were changed to be more appropriate/user friendly\n",
    "- 2.c Added a column for dates with out times\n",
    "- 2.d Column data was updated\n",
    "    - missing `customer_id`s were changed to 0\n",
    "- 2.4 Data types were changed\n",
    "    - `purchasedate` from object to datetime\n",
    "    - `customer_id` from float to object\n",
    "- 2.f Missing values were taken care of due to data changes\n",
    "- 2.g Duplicate rows were removed\n",
    "    - 1033 from the data dataframe\n",
    "- 2.h Anomalies were processed\n",
    "    - Actions Performed\n",
    "        - merged the two dataframes to be able to evaluate stats before and after removal of anomalies\n",
    "        - created a new column for the price per quantity of items purchased\n",
    "        - created queries to investigate the anomalies\n",
    "            - 56.35% of purchases have a quantity anomaly (`quantity`: < or = 0 number of items being purchased)\n",
    "            - 73.56% of purchases have a price anomaly (`price_per_one`: items priced at 0.0)\n",
    "        - Removed anomalies because the negative and 0 values are affecting the overall results/stats of the investigation\n",
    "            - 43.5% of the entries and 28% of purchases were removed due to anomalies\n",
    "            - ***The stats of the numerical data shifted after removal but the stats of the loyalty program remained about the same***\n",
    "                - mean:\n",
    "                    - before: 0.224464\n",
    "                    - after: 0.249359\n",
    "                - median\n",
    "                    - before: 0.000000\n",
    "                    - after: 0.000000\n",
    "                - standard deviation\n",
    "                    - before: 0.417231\n",
    "                    - after: 0.432646\n",
    "\n",
    "- Due to the large amount of anomalies there is likely a default in the data collection system and the inventory system. The appropriate teams should be notified that negative and 0 orders are being made/collected and that some items have a price of 0, perhaps this is a typo or the items are discontinued and need to be removed from the inventory list."
   ]
  },
  {
   "cell_type": "markdown",
   "id": "62f44047",
   "metadata": {},
   "source": [
    "# [Step 3. Exploratory Data Analysis](#step3instructions)<a id = 'step3'></a>\n",
    "\n",
    "***Plan of Action***\n",
    "\n",
    "***Use the merged table `purchases_clean` going forward***\n",
    "- 3.a determine outliers\n",
    "    - 3.a.1 use the `describe()` method to evaluate the mean and median of the numerical data\n",
    "        - determine the average and median price of a single item\n",
    "    - 3.a.2 plot graphs to visualize the distribution of the data\n",
    "    - 3.a.3 evaluate the item prices\n",
    "        - determine how many items are `price_per_one` outliers\n",
    "    - 3.a.4 group by `puchase_id` and evaluate the total price of purchases \n",
    "        - determine the average and median purchase price\n",
    "        - determine if there are total purchase outliers?\n",
    "            - Do the high purchases contain high `price_per_one` items?\n",
    "            - Are the outlier purchases in the loyalty program or not?\n",
    "    - 3.a.5 Evaluate the number of items per perchase\n",
    "        - 3.a.5.i Create a table with the total number of items per purchase based on `purchase_id`\n",
    "        - 3.a.5.ii Use `describe()` to evaluate the mean and median of the items per purchase\n",
    "        - 3.a.5.iii Evaluate the percentiles\n",
    "            - how many purchases contain a high number of items?\n",
    "            - Are the purchases with a high number of items in the loyalty program or not?\n",
    "- 3.b Process outliers\n",
    "    - decide on outlier cut off if approriate and remove them from further analysis\n",
    "- 3.c Quality check the loyalty program\n",
    "    - confirm that purchases are made as a loylaty program member or not - not a mix\n",
    "    - 3.c.1 Use `groupby()` `purchase_id` to get the average values of the loyalty program column\n",
    "        - if there are percentages, then there is a mix of membership in those purchases\n",
    "    - 3.c.2 evaluate the unique values of the quality check\n",
    "- 3.d Visualize the data\n",
    "- create queries or use `groupby()` to plot the following graphs\n",
    "    - 3.d.1 evaluate each membership group numerical data using the `describe()` method\n",
    "    - 3.d.2 plot histograms of the total purchase prices per membership\n",
    "    - 3.d.3 plot histograms of the number of items purchased per membership\n",
    "    - 3.d.4 plot bar graph of number of transactions per shop based on customer status\n",
    "    - 3.d.5 plot bar graph of number of items purchased per store based on customer status\n",
    "    - 3.d.6 plot bar graph of the average number of items purchased per store based on customer status\n",
    "        - 3.d.6.i plot bar graphs of the total and average number of items purchased per customer status\n",
    "    - 3.d.7 plot bar graph of number of purchases per shop based on customer status\n",
    "        - 3.d.7.i plot bar graphs of the total and average number of purchases per customer status\n",
    "    - 3.d.8 plot bar graphs of total purchase prices per membership per store\n",
    "    - 3.d.9 plot bar graphs of average purchase prices per membership per store\n",
    "        - 3.d.9.i plot bar graphs of the total and average purchase prices per customer status"
   ]
  },
  {
   "cell_type": "markdown",
   "id": "5dacc9d2",
   "metadata": {},
   "source": [
    "[***3.a Determine outliers***](#step3instructions)<a id=\"3a\"></a>"
   ]
  },
  {
   "cell_type": "markdown",
   "id": "14f1c652",
   "metadata": {},
   "source": [
    "[***3.a.1 Use the `describe()` method to evaluate the mean and median of the numerical data***](#step3instructions)<a id=\"3a1\"></a>\n",
    "- Determine the average and median price of a single item"
   ]
  },
  {
   "cell_type": "code",
   "execution_count": 45,
   "id": "e93d3d49",
   "metadata": {},
   "outputs": [
    {
     "data": {
      "text/html": [
       "<div>\n",
       "<style scoped>\n",
       "    .dataframe tbody tr th:only-of-type {\n",
       "        vertical-align: middle;\n",
       "    }\n",
       "\n",
       "    .dataframe tbody tr th {\n",
       "        vertical-align: top;\n",
       "    }\n",
       "\n",
       "    .dataframe thead th {\n",
       "        text-align: right;\n",
       "    }\n",
       "</style>\n",
       "<table border=\"1\" class=\"dataframe\">\n",
       "  <thead>\n",
       "    <tr style=\"text-align: right;\">\n",
       "      <th></th>\n",
       "      <th>quantity</th>\n",
       "      <th>loyalty_program</th>\n",
       "      <th>price_per_one</th>\n",
       "      <th>price_per_quantity</th>\n",
       "    </tr>\n",
       "  </thead>\n",
       "  <tbody>\n",
       "    <tr>\n",
       "      <th>count</th>\n",
       "      <td>58931.000000</td>\n",
       "      <td>58931.000000</td>\n",
       "      <td>58931.000000</td>\n",
       "      <td>58931.000000</td>\n",
       "    </tr>\n",
       "    <tr>\n",
       "      <th>mean</th>\n",
       "      <td>13.693099</td>\n",
       "      <td>0.249359</td>\n",
       "      <td>2.177707</td>\n",
       "      <td>18.393233</td>\n",
       "    </tr>\n",
       "    <tr>\n",
       "      <th>std</th>\n",
       "      <td>309.730125</td>\n",
       "      <td>0.432646</td>\n",
       "      <td>3.325047</td>\n",
       "      <td>325.167993</td>\n",
       "    </tr>\n",
       "    <tr>\n",
       "      <th>min</th>\n",
       "      <td>1.000000</td>\n",
       "      <td>0.000000</td>\n",
       "      <td>0.030000</td>\n",
       "      <td>0.030000</td>\n",
       "    </tr>\n",
       "    <tr>\n",
       "      <th>25%</th>\n",
       "      <td>2.000000</td>\n",
       "      <td>0.000000</td>\n",
       "      <td>0.850000</td>\n",
       "      <td>3.260000</td>\n",
       "    </tr>\n",
       "    <tr>\n",
       "      <th>50%</th>\n",
       "      <td>5.000000</td>\n",
       "      <td>0.000000</td>\n",
       "      <td>1.450000</td>\n",
       "      <td>8.250000</td>\n",
       "    </tr>\n",
       "    <tr>\n",
       "      <th>75%</th>\n",
       "      <td>11.000000</td>\n",
       "      <td>0.000000</td>\n",
       "      <td>2.550000</td>\n",
       "      <td>14.500000</td>\n",
       "    </tr>\n",
       "    <tr>\n",
       "      <th>max</th>\n",
       "      <td>74214.000000</td>\n",
       "      <td>1.000000</td>\n",
       "      <td>175.000000</td>\n",
       "      <td>77182.560000</td>\n",
       "    </tr>\n",
       "  </tbody>\n",
       "</table>\n",
       "</div>"
      ],
      "text/plain": [
       "           quantity  loyalty_program  price_per_one  price_per_quantity\n",
       "count  58931.000000     58931.000000   58931.000000        58931.000000\n",
       "mean      13.693099         0.249359       2.177707           18.393233\n",
       "std      309.730125         0.432646       3.325047          325.167993\n",
       "min        1.000000         0.000000       0.030000            0.030000\n",
       "25%        2.000000         0.000000       0.850000            3.260000\n",
       "50%        5.000000         0.000000       1.450000            8.250000\n",
       "75%       11.000000         0.000000       2.550000           14.500000\n",
       "max    74214.000000         1.000000     175.000000        77182.560000"
      ]
     },
     "execution_count": 45,
     "metadata": {},
     "output_type": "execute_result"
    }
   ],
   "source": [
    "# evaluate the stats of numerical data\n",
    "purchases_clean.describe()"
   ]
  },
  {
   "cell_type": "code",
   "execution_count": 46,
   "id": "724bb0cc",
   "metadata": {},
   "outputs": [
    {
     "name": "stdout",
     "output_type": "stream",
     "text": [
      "Average price of a single item:  2.18\n",
      "Median price of a single item:  1.45\n",
      "Difference between average and median price of a single item:  0.73\n"
     ]
    }
   ],
   "source": [
    "#calculate the mean and median price of a single item\n",
    "print('Average price of a single item: ', (purchases_clean['price_per_one'].mean()).round(2))\n",
    "print('Median price of a single item: ', purchases_clean['price_per_one'].median())\n",
    "diff_btwn_avg_med = purchases_clean['price_per_one'].mean() - purchases_clean['price_per_one'].median()\n",
    "print('Difference between average and median price of a single item: ', (diff_btwn_avg_med).round(2))"
   ]
  },
  {
   "cell_type": "markdown",
   "id": "87c4c3ed",
   "metadata": {},
   "source": [
    "- A difference between the average and median price of a single item implies that there are outliers in the data"
   ]
  },
  {
   "cell_type": "markdown",
   "id": "8df4e56a",
   "metadata": {},
   "source": [
    "[***3.a.2 Plot graphs to visualize the distribution of the data***](#step3instructions)<a id=\"3a2\"></a>"
   ]
  },
  {
   "cell_type": "code",
   "execution_count": 47,
   "id": "322cc586",
   "metadata": {},
   "outputs": [],
   "source": [
    "# create a fxn for plotting histograms\n",
    "def plot_a_histogram(column):\n",
    "    plt.figure(figsize = (6, 3))\n",
    "    purchases_clean[column].hist()\n",
    "    plt.title('{} distribution'.format(column), size = 15)\n",
    "    plt.xlabel('{}'.format(column), size = 15)\n",
    "    plt.ylabel('number of entries', size = 15)\n",
    "#     plt.ylabel('frequency', size = 15) # use with sns.distplot()\n",
    "#     plt.legend()\n",
    "    plt.show()"
   ]
  },
  {
   "cell_type": "code",
   "execution_count": 48,
   "id": "0c1e5871",
   "metadata": {},
   "outputs": [
    {
     "data": {
      "image/png": "[encoded data removed]",
      "text/plain": [
       "<Figure size 432x216 with 1 Axes>"
      ]
     },
     "metadata": {
      "needs_background": "light"
     },
     "output_type": "display_data"
    }
   ],
   "source": [
    "plot_a_histogram('quantity')"
   ]
  },
  {
   "cell_type": "code",
   "execution_count": 49,
   "id": "7b496de7",
   "metadata": {},
   "outputs": [
    {
     "data": {
      "image/png": "[encoded data removed]",
      "text/plain": [
       "<Figure size 432x216 with 1 Axes>"
      ]
     },
     "metadata": {
      "needs_background": "light"
     },
     "output_type": "display_data"
    }
   ],
   "source": [
    "plot_a_histogram('price_per_one')"
   ]
  },
  {
   "cell_type": "code",
   "execution_count": 50,
   "id": "9b1e2fc5",
   "metadata": {},
   "outputs": [
    {
     "data": {
      "image/png": "[encoded data removed]",
      "text/plain": [
       "<Figure size 432x216 with 1 Axes>"
      ]
     },
     "metadata": {
      "needs_background": "light"
     },
     "output_type": "display_data"
    }
   ],
   "source": [
    "plot_a_histogram('price_per_quantity')"
   ]
  },
  {
   "cell_type": "markdown",
   "id": "641f0c15",
   "metadata": {},
   "source": [
    "- The histograms of the numerical data show that there are outliers for all categories. All numerical data categories are right skewed"
   ]
  },
  {
   "cell_type": "markdown",
   "id": "ec80330d",
   "metadata": {},
   "source": [
    "[***3.a.3 Evaluate the item prices***](#step3instructions)<a id=\"3a3\"></a>\n",
    "- Determine how many items are `price_per_one` outliers"
   ]
  },
  {
   "cell_type": "code",
   "execution_count": 51,
   "id": "26b0fb8e",
   "metadata": {},
   "outputs": [
    {
     "data": {
      "text/html": [
       "<div>\n",
       "<style scoped>\n",
       "    .dataframe tbody tr th:only-of-type {\n",
       "        vertical-align: middle;\n",
       "    }\n",
       "\n",
       "    .dataframe tbody tr th {\n",
       "        vertical-align: top;\n",
       "    }\n",
       "\n",
       "    .dataframe thead th {\n",
       "        text-align: right;\n",
       "    }\n",
       "</style>\n",
       "<table border=\"1\" class=\"dataframe\">\n",
       "  <thead>\n",
       "    <tr style=\"text-align: right;\">\n",
       "      <th></th>\n",
       "      <th>purchase_id</th>\n",
       "      <th>item_id</th>\n",
       "      <th>quantity</th>\n",
       "      <th>purchase_datetime</th>\n",
       "      <th>customer_id</th>\n",
       "      <th>loyalty_program</th>\n",
       "      <th>shop_id</th>\n",
       "      <th>purchase_date</th>\n",
       "      <th>price_per_one</th>\n",
       "      <th>price_per_quantity</th>\n",
       "    </tr>\n",
       "  </thead>\n",
       "  <tbody>\n",
       "    <tr>\n",
       "      <th>0</th>\n",
       "      <td>538280</td>\n",
       "      <td>21873</td>\n",
       "      <td>11</td>\n",
       "      <td>2016-12-10 12:50:00</td>\n",
       "      <td>18427.0</td>\n",
       "      <td>0</td>\n",
       "      <td>Shop 3</td>\n",
       "      <td>2016-12-10</td>\n",
       "      <td>0.42</td>\n",
       "      <td>4.62</td>\n",
       "    </tr>\n",
       "    <tr>\n",
       "      <th>2</th>\n",
       "      <td>540418</td>\n",
       "      <td>21873</td>\n",
       "      <td>1</td>\n",
       "      <td>2017-01-07 11:04:00</td>\n",
       "      <td>0.0</td>\n",
       "      <td>0</td>\n",
       "      <td>Shop 0</td>\n",
       "      <td>2017-01-07</td>\n",
       "      <td>0.42</td>\n",
       "      <td>0.42</td>\n",
       "    </tr>\n",
       "  </tbody>\n",
       "</table>\n",
       "</div>"
      ],
      "text/plain": [
       "  purchase_id item_id  quantity   purchase_datetime customer_id  \\\n",
       "0      538280   21873        11 2016-12-10 12:50:00     18427.0   \n",
       "2      540418   21873         1 2017-01-07 11:04:00         0.0   \n",
       "\n",
       "   loyalty_program shop_id purchase_date  price_per_one  price_per_quantity  \n",
       "0                0  Shop 3    2016-12-10           0.42                4.62  \n",
       "2                0  Shop 0    2017-01-07           0.42                0.42  "
      ]
     },
     "execution_count": 51,
     "metadata": {},
     "output_type": "execute_result"
    }
   ],
   "source": [
    "# review data\n",
    "purchases_clean.head(2)"
   ]
  },
  {
   "cell_type": "code",
   "execution_count": 52,
   "id": "94cb1839",
   "metadata": {},
   "outputs": [
    {
     "name": "stdout",
     "output_type": "stream",
     "text": [
      "top 10% of single priced items are 4.25 or more\n",
      "top 5% of single priced items are 6.75 or more\n",
      "top 1% of single priced items are 9.95 or more\n"
     ]
    }
   ],
   "source": [
    "# create a dictionary of percentiles\n",
    "percentile_dict = [90, 95, 99]\n",
    "\n",
    "# evaluate percentiles for categories\n",
    "item_price_percentiles = np.percentile(purchases_clean['price_per_one'], percentile_dict)\n",
    "\n",
    "for tile in range(0, len(percentile_dict)):\n",
    "    print('top {}% of single priced items are {} or more'.format(100 - percentile_dict[tile], \n",
    "                                                                item_price_percentiles[tile]))"
   ]
  },
  {
   "cell_type": "code",
   "execution_count": 53,
   "id": "6d962627",
   "metadata": {},
   "outputs": [
    {
     "data": {
      "text/html": [
       "<div>\n",
       "<style scoped>\n",
       "    .dataframe tbody tr th:only-of-type {\n",
       "        vertical-align: middle;\n",
       "    }\n",
       "\n",
       "    .dataframe tbody tr th {\n",
       "        vertical-align: top;\n",
       "    }\n",
       "\n",
       "    .dataframe thead th {\n",
       "        text-align: right;\n",
       "    }\n",
       "</style>\n",
       "<table border=\"1\" class=\"dataframe\">\n",
       "  <thead>\n",
       "    <tr style=\"text-align: right;\">\n",
       "      <th></th>\n",
       "      <th>purchase_id</th>\n",
       "      <th>item_id</th>\n",
       "      <th>quantity</th>\n",
       "      <th>purchase_datetime</th>\n",
       "      <th>customer_id</th>\n",
       "      <th>loyalty_program</th>\n",
       "      <th>shop_id</th>\n",
       "      <th>purchase_date</th>\n",
       "      <th>price_per_one</th>\n",
       "      <th>price_per_quantity</th>\n",
       "    </tr>\n",
       "  </thead>\n",
       "  <tbody>\n",
       "    <tr>\n",
       "      <th>1684</th>\n",
       "      <td>543193</td>\n",
       "      <td>22839</td>\n",
       "      <td>3</td>\n",
       "      <td>2017-02-04 12:18:00</td>\n",
       "      <td>19404.0</td>\n",
       "      <td>0</td>\n",
       "      <td>Shop 13</td>\n",
       "      <td>2017-02-04</td>\n",
       "      <td>12.75</td>\n",
       "      <td>38.25</td>\n",
       "    </tr>\n",
       "    <tr>\n",
       "      <th>1687</th>\n",
       "      <td>544075</td>\n",
       "      <td>22839</td>\n",
       "      <td>15</td>\n",
       "      <td>2017-02-15 14:50:00</td>\n",
       "      <td>19835.0</td>\n",
       "      <td>0</td>\n",
       "      <td>Shop 26</td>\n",
       "      <td>2017-02-15</td>\n",
       "      <td>12.75</td>\n",
       "      <td>191.25</td>\n",
       "    </tr>\n",
       "    <tr>\n",
       "      <th>1703</th>\n",
       "      <td>538753</td>\n",
       "      <td>22839</td>\n",
       "      <td>3</td>\n",
       "      <td>2016-12-14 11:29:00</td>\n",
       "      <td>20580.0</td>\n",
       "      <td>0</td>\n",
       "      <td>Shop 19</td>\n",
       "      <td>2016-12-14</td>\n",
       "      <td>12.75</td>\n",
       "      <td>38.25</td>\n",
       "    </tr>\n",
       "    <tr>\n",
       "      <th>1709</th>\n",
       "      <td>539002</td>\n",
       "      <td>22839</td>\n",
       "      <td>1</td>\n",
       "      <td>2016-12-15 12:30:00</td>\n",
       "      <td>20206.0</td>\n",
       "      <td>0</td>\n",
       "      <td>Shop 11</td>\n",
       "      <td>2016-12-15</td>\n",
       "      <td>12.75</td>\n",
       "      <td>12.75</td>\n",
       "    </tr>\n",
       "    <tr>\n",
       "      <th>1711</th>\n",
       "      <td>543555</td>\n",
       "      <td>22839</td>\n",
       "      <td>1</td>\n",
       "      <td>2017-02-10 10:18:00</td>\n",
       "      <td>23365.0</td>\n",
       "      <td>1</td>\n",
       "      <td>Shop 0</td>\n",
       "      <td>2017-02-10</td>\n",
       "      <td>12.75</td>\n",
       "      <td>12.75</td>\n",
       "    </tr>\n",
       "  </tbody>\n",
       "</table>\n",
       "</div>"
      ],
      "text/plain": [
       "     purchase_id item_id  quantity   purchase_datetime customer_id  \\\n",
       "1684      543193   22839         3 2017-02-04 12:18:00     19404.0   \n",
       "1687      544075   22839        15 2017-02-15 14:50:00     19835.0   \n",
       "1703      538753   22839         3 2016-12-14 11:29:00     20580.0   \n",
       "1709      539002   22839         1 2016-12-15 12:30:00     20206.0   \n",
       "1711      543555   22839         1 2017-02-10 10:18:00     23365.0   \n",
       "\n",
       "      loyalty_program  shop_id purchase_date  price_per_one  \\\n",
       "1684                0  Shop 13    2017-02-04          12.75   \n",
       "1687                0  Shop 26    2017-02-15          12.75   \n",
       "1703                0  Shop 19    2016-12-14          12.75   \n",
       "1709                0  Shop 11    2016-12-15          12.75   \n",
       "1711                1   Shop 0    2017-02-10          12.75   \n",
       "\n",
       "      price_per_quantity  \n",
       "1684               38.25  \n",
       "1687              191.25  \n",
       "1703               38.25  \n",
       "1709               12.75  \n",
       "1711               12.75  "
      ]
     },
     "execution_count": 53,
     "metadata": {},
     "output_type": "execute_result"
    }
   ],
   "source": [
    "# query for high priced items, those in top 5% of price range\n",
    "top_five_perc_item_percentile = item_price_percentiles[1]\n",
    "top_five_perc_items = purchases_clean.query('price_per_one >= @top_five_perc_item_percentile')\n",
    "top_five_perc_items.head()"
   ]
  },
  {
   "cell_type": "code",
   "execution_count": 54,
   "id": "d2818ad3",
   "metadata": {},
   "outputs": [
    {
     "name": "stdout",
     "output_type": "stream",
     "text": [
      "number of items in top 5% of price per single item: 233\n"
     ]
    }
   ],
   "source": [
    "# determine the number of high price per single item outliers, those in top 5% of price range\n",
    "num_top_five_perc_items = top_five_perc_items['item_id'].nunique()\n",
    "print('number of items in top 5% of price per single item: {}'.format(num_top_five_perc_items))"
   ]
  },
  {
   "cell_type": "markdown",
   "id": "3d97da85",
   "metadata": {},
   "source": [
    "[***3.a.4 Group by `puchase_id` to evaluate the total price of purchases***](#step3instructions)<a id=\"3a4\"></a>\n",
    "- Determine the average and median cost per total purchase\n",
    "- Determine the total purchase outliers\n",
    "    - Do the high purchases contain high `price_per_one` items?\n",
    "    - Are the outlier purchases in the loyalty program or not?"
   ]
  },
  {
   "cell_type": "markdown",
   "id": "46364019",
   "metadata": {},
   "source": [
    "***Determine the average and median purchase price***"
   ]
  },
  {
   "cell_type": "code",
   "execution_count": 55,
   "id": "11dd371e",
   "metadata": {},
   "outputs": [
    {
     "data": {
      "text/html": [
       "<div>\n",
       "<style scoped>\n",
       "    .dataframe tbody tr th:only-of-type {\n",
       "        vertical-align: middle;\n",
       "    }\n",
       "\n",
       "    .dataframe tbody tr th {\n",
       "        vertical-align: top;\n",
       "    }\n",
       "\n",
       "    .dataframe thead th {\n",
       "        text-align: right;\n",
       "    }\n",
       "</style>\n",
       "<table border=\"1\" class=\"dataframe\">\n",
       "  <thead>\n",
       "    <tr style=\"text-align: right;\">\n",
       "      <th></th>\n",
       "      <th>purchase_id</th>\n",
       "      <th>total_purchase_cost</th>\n",
       "    </tr>\n",
       "  </thead>\n",
       "  <tbody>\n",
       "    <tr>\n",
       "      <th>0</th>\n",
       "      <td>536365</td>\n",
       "      <td>62.80</td>\n",
       "    </tr>\n",
       "    <tr>\n",
       "      <th>1</th>\n",
       "      <td>536367</td>\n",
       "      <td>169.93</td>\n",
       "    </tr>\n",
       "    <tr>\n",
       "      <th>2</th>\n",
       "      <td>536368</td>\n",
       "      <td>48.45</td>\n",
       "    </tr>\n",
       "    <tr>\n",
       "      <th>3</th>\n",
       "      <td>536369</td>\n",
       "      <td>10.90</td>\n",
       "    </tr>\n",
       "    <tr>\n",
       "      <th>4</th>\n",
       "      <td>536370</td>\n",
       "      <td>644.57</td>\n",
       "    </tr>\n",
       "  </tbody>\n",
       "</table>\n",
       "</div>"
      ],
      "text/plain": [
       "  purchase_id  total_purchase_cost\n",
       "0      536365                62.80\n",
       "1      536367               169.93\n",
       "2      536368                48.45\n",
       "3      536369                10.90\n",
       "4      536370               644.57"
      ]
     },
     "execution_count": 55,
     "metadata": {},
     "output_type": "execute_result"
    }
   ],
   "source": [
    "# create a table to determine the avg, median, and total cost of each purchase (based on purchase_id)\n",
    "purchase_id_table = purchases_clean.pivot_table(index = 'purchase_id', \n",
    "                                              values = 'price_per_quantity', \n",
    "                                              aggfunc = 'sum').reset_index()\n",
    "purchase_id_table.columns = ['purchase_id', 'total_purchase_cost']\n",
    "purchase_id_table.head()"
   ]
  },
  {
   "cell_type": "code",
   "execution_count": 56,
   "id": "bc0bcee5",
   "metadata": {},
   "outputs": [
    {
     "data": {
      "text/html": [
       "<div>\n",
       "<style scoped>\n",
       "    .dataframe tbody tr th:only-of-type {\n",
       "        vertical-align: middle;\n",
       "    }\n",
       "\n",
       "    .dataframe tbody tr th {\n",
       "        vertical-align: top;\n",
       "    }\n",
       "\n",
       "    .dataframe thead th {\n",
       "        text-align: right;\n",
       "    }\n",
       "</style>\n",
       "<table border=\"1\" class=\"dataframe\">\n",
       "  <thead>\n",
       "    <tr style=\"text-align: right;\">\n",
       "      <th></th>\n",
       "      <th>total_purchase_cost</th>\n",
       "    </tr>\n",
       "  </thead>\n",
       "  <tbody>\n",
       "    <tr>\n",
       "      <th>count</th>\n",
       "      <td>3516.000000</td>\n",
       "    </tr>\n",
       "    <tr>\n",
       "      <th>mean</th>\n",
       "      <td>308.285438</td>\n",
       "    </tr>\n",
       "    <tr>\n",
       "      <th>std</th>\n",
       "      <td>1457.399756</td>\n",
       "    </tr>\n",
       "    <tr>\n",
       "      <th>min</th>\n",
       "      <td>0.360000</td>\n",
       "    </tr>\n",
       "    <tr>\n",
       "      <th>25%</th>\n",
       "      <td>71.015000</td>\n",
       "    </tr>\n",
       "    <tr>\n",
       "      <th>50%</th>\n",
       "      <td>150.560000</td>\n",
       "    </tr>\n",
       "    <tr>\n",
       "      <th>75%</th>\n",
       "      <td>283.122500</td>\n",
       "    </tr>\n",
       "    <tr>\n",
       "      <th>max</th>\n",
       "      <td>77182.560000</td>\n",
       "    </tr>\n",
       "  </tbody>\n",
       "</table>\n",
       "</div>"
      ],
      "text/plain": [
       "       total_purchase_cost\n",
       "count          3516.000000\n",
       "mean            308.285438\n",
       "std            1457.399756\n",
       "min               0.360000\n",
       "25%              71.015000\n",
       "50%             150.560000\n",
       "75%             283.122500\n",
       "max           77182.560000"
      ]
     },
     "execution_count": 56,
     "metadata": {},
     "output_type": "execute_result"
    }
   ],
   "source": [
    "# evaluate the stats\n",
    "purchase_id_table.describe()"
   ]
  },
  {
   "cell_type": "code",
   "execution_count": 57,
   "id": "3a85eb1a",
   "metadata": {},
   "outputs": [
    {
     "name": "stdout",
     "output_type": "stream",
     "text": [
      "Average purchase price:  308.29\n",
      "Median purchase price:  150.56\n",
      "Difference between average and median purchase price:  157.73\n"
     ]
    }
   ],
   "source": [
    "#calculate the mean and median of the purchase prices\n",
    "print('Average purchase price: ', (purchase_id_table['total_purchase_cost'].mean()).round(2))\n",
    "print('Median purchase price: ', purchase_id_table['total_purchase_cost'].median())\n",
    "diff_btwn_avg_med = purchase_id_table['total_purchase_cost'].mean() - purchase_id_table['total_purchase_cost'].median()\n",
    "print('Difference between average and median purchase price: ', (diff_btwn_avg_med).round(2))"
   ]
  },
  {
   "cell_type": "markdown",
   "id": "d26614af",
   "metadata": {},
   "source": [
    "***Determine the total purchase outliers***"
   ]
  },
  {
   "cell_type": "code",
   "execution_count": 58,
   "id": "fb460d69",
   "metadata": {},
   "outputs": [
    {
     "name": "stdout",
     "output_type": "stream",
     "text": [
      "top 10% of total purchase price is 548.51 or more\n",
      "top 5% of total purchase price is 866.27 or more\n",
      "top 1% of total purchase price is 2451.17 or more\n"
     ]
    }
   ],
   "source": [
    "# calculate the percentiles\n",
    "purchase_id_percentiles = np.percentile(purchase_id_table['total_purchase_cost'], percentile_dict)\n",
    "\n",
    "for tile in range(0, len(percentile_dict)):\n",
    "    print('top {}% of total purchase price is {:.2f} or more'.format(100 - percentile_dict[tile], \n",
    "                                                                purchase_id_percentiles[tile]))"
   ]
  },
  {
   "cell_type": "code",
   "execution_count": 59,
   "id": "e47ed8e9",
   "metadata": {},
   "outputs": [
    {
     "data": {
      "text/html": [
       "<div>\n",
       "<style scoped>\n",
       "    .dataframe tbody tr th:only-of-type {\n",
       "        vertical-align: middle;\n",
       "    }\n",
       "\n",
       "    .dataframe tbody tr th {\n",
       "        vertical-align: top;\n",
       "    }\n",
       "\n",
       "    .dataframe thead th {\n",
       "        text-align: right;\n",
       "    }\n",
       "</style>\n",
       "<table border=\"1\" class=\"dataframe\">\n",
       "  <thead>\n",
       "    <tr style=\"text-align: right;\">\n",
       "      <th></th>\n",
       "      <th>purchase_id</th>\n",
       "      <th>total_purchase_cost</th>\n",
       "    </tr>\n",
       "  </thead>\n",
       "  <tbody>\n",
       "    <tr>\n",
       "      <th>16</th>\n",
       "      <td>536387</td>\n",
       "      <td>2451.04</td>\n",
       "    </tr>\n",
       "    <tr>\n",
       "      <th>19</th>\n",
       "      <td>536390</td>\n",
       "      <td>1291.52</td>\n",
       "    </tr>\n",
       "    <tr>\n",
       "      <th>47</th>\n",
       "      <td>536477</td>\n",
       "      <td>2133.28</td>\n",
       "    </tr>\n",
       "    <tr>\n",
       "      <th>64</th>\n",
       "      <td>536532</td>\n",
       "      <td>1050.72</td>\n",
       "    </tr>\n",
       "    <tr>\n",
       "      <th>96</th>\n",
       "      <td>536576</td>\n",
       "      <td>1149.48</td>\n",
       "    </tr>\n",
       "  </tbody>\n",
       "</table>\n",
       "</div>"
      ],
      "text/plain": [
       "   purchase_id  total_purchase_cost\n",
       "16      536387              2451.04\n",
       "19      536390              1291.52\n",
       "47      536477              2133.28\n",
       "64      536532              1050.72\n",
       "96      536576              1149.48"
      ]
     },
     "execution_count": 59,
     "metadata": {},
     "output_type": "execute_result"
    }
   ],
   "source": [
    "# query for high total purchase price, those in top 5% of purchase range\n",
    "top_five_perc_purch_price_percentile = purchase_id_percentiles[1]\n",
    "\n",
    "top_five_perc_purch_prices = purchase_id_table.query('total_purchase_cost >= @top_five_perc_purch_price_percentile')\n",
    "top_five_perc_purch_prices.head()"
   ]
  },
  {
   "cell_type": "code",
   "execution_count": 60,
   "id": "f1dac32d",
   "metadata": {},
   "outputs": [
    {
     "name": "stdout",
     "output_type": "stream",
     "text": [
      "number of purchases in top 5% percent of purchase cost:  176\n"
     ]
    }
   ],
   "source": [
    "# make a list of the purchase_ids in top 5% of purchase price\n",
    "top_five_perc_purch_prices_list = list(top_five_perc_purch_prices['purchase_id'].unique())\n",
    "print('number of purchases in top 5% percent of purchase cost: ', len(top_five_perc_purch_prices_list))"
   ]
  },
  {
   "cell_type": "markdown",
   "id": "10dc4a1c",
   "metadata": {},
   "source": [
    "***Do the high purchases contain high `price_per_one` items?***"
   ]
  },
  {
   "cell_type": "code",
   "execution_count": 61,
   "id": "5e904506",
   "metadata": {},
   "outputs": [
    {
     "data": {
      "text/html": [
       "<div>\n",
       "<style scoped>\n",
       "    .dataframe tbody tr th:only-of-type {\n",
       "        vertical-align: middle;\n",
       "    }\n",
       "\n",
       "    .dataframe tbody tr th {\n",
       "        vertical-align: top;\n",
       "    }\n",
       "\n",
       "    .dataframe thead th {\n",
       "        text-align: right;\n",
       "    }\n",
       "</style>\n",
       "<table border=\"1\" class=\"dataframe\">\n",
       "  <thead>\n",
       "    <tr style=\"text-align: right;\">\n",
       "      <th></th>\n",
       "      <th>purchase_id</th>\n",
       "      <th>item_id</th>\n",
       "      <th>quantity</th>\n",
       "      <th>purchase_datetime</th>\n",
       "      <th>customer_id</th>\n",
       "      <th>loyalty_program</th>\n",
       "      <th>shop_id</th>\n",
       "      <th>purchase_date</th>\n",
       "      <th>price_per_one</th>\n",
       "      <th>price_per_quantity</th>\n",
       "    </tr>\n",
       "  </thead>\n",
       "  <tbody>\n",
       "    <tr>\n",
       "      <th>1687</th>\n",
       "      <td>544075</td>\n",
       "      <td>22839</td>\n",
       "      <td>15</td>\n",
       "      <td>2017-02-15 14:50:00</td>\n",
       "      <td>19835.0</td>\n",
       "      <td>0</td>\n",
       "      <td>Shop 26</td>\n",
       "      <td>2017-02-15</td>\n",
       "      <td>12.75</td>\n",
       "      <td>191.25</td>\n",
       "    </tr>\n",
       "    <tr>\n",
       "      <th>1737</th>\n",
       "      <td>541789</td>\n",
       "      <td>22839</td>\n",
       "      <td>7</td>\n",
       "      <td>2017-01-21 13:07:00</td>\n",
       "      <td>19767.0</td>\n",
       "      <td>0</td>\n",
       "      <td>Shop 13</td>\n",
       "      <td>2017-01-21</td>\n",
       "      <td>12.75</td>\n",
       "      <td>89.25</td>\n",
       "    </tr>\n",
       "    <tr>\n",
       "      <th>3799</th>\n",
       "      <td>543099</td>\n",
       "      <td>21527</td>\n",
       "      <td>47</td>\n",
       "      <td>2017-02-03 12:00:00</td>\n",
       "      <td>22363.0</td>\n",
       "      <td>1</td>\n",
       "      <td>Shop 24</td>\n",
       "      <td>2017-02-03</td>\n",
       "      <td>6.95</td>\n",
       "      <td>326.65</td>\n",
       "    </tr>\n",
       "    <tr>\n",
       "      <th>3825</th>\n",
       "      <td>537604</td>\n",
       "      <td>21527</td>\n",
       "      <td>1</td>\n",
       "      <td>2016-12-07 13:01:00</td>\n",
       "      <td>19167.0</td>\n",
       "      <td>0</td>\n",
       "      <td>Shop 9</td>\n",
       "      <td>2016-12-07</td>\n",
       "      <td>6.95</td>\n",
       "      <td>6.95</td>\n",
       "    </tr>\n",
       "    <tr>\n",
       "      <th>3841</th>\n",
       "      <td>538664</td>\n",
       "      <td>21527</td>\n",
       "      <td>3</td>\n",
       "      <td>2016-12-13 15:46:00</td>\n",
       "      <td>20412.0</td>\n",
       "      <td>0</td>\n",
       "      <td>Shop 13</td>\n",
       "      <td>2016-12-13</td>\n",
       "      <td>6.95</td>\n",
       "      <td>20.85</td>\n",
       "    </tr>\n",
       "  </tbody>\n",
       "</table>\n",
       "</div>"
      ],
      "text/plain": [
       "     purchase_id item_id  quantity   purchase_datetime customer_id  \\\n",
       "1687      544075   22839        15 2017-02-15 14:50:00     19835.0   \n",
       "1737      541789   22839         7 2017-01-21 13:07:00     19767.0   \n",
       "3799      543099   21527        47 2017-02-03 12:00:00     22363.0   \n",
       "3825      537604   21527         1 2016-12-07 13:01:00     19167.0   \n",
       "3841      538664   21527         3 2016-12-13 15:46:00     20412.0   \n",
       "\n",
       "      loyalty_program  shop_id purchase_date  price_per_one  \\\n",
       "1687                0  Shop 26    2017-02-15          12.75   \n",
       "1737                0  Shop 13    2017-01-21          12.75   \n",
       "3799                1  Shop 24    2017-02-03           6.95   \n",
       "3825                0   Shop 9    2016-12-07           6.95   \n",
       "3841                0  Shop 13    2016-12-13           6.95   \n",
       "\n",
       "      price_per_quantity  \n",
       "1687              191.25  \n",
       "1737               89.25  \n",
       "3799              326.65  \n",
       "3825                6.95  \n",
       "3841               20.85  "
      ]
     },
     "execution_count": 61,
     "metadata": {},
     "output_type": "execute_result"
    }
   ],
   "source": [
    "# see how many top 5% priced items are in the top 5% purchase cost range\n",
    "top_5_item_top_5_price_query = top_five_perc_items.query('purchase_id in @top_five_perc_purch_prices_list')\n",
    "top_5_item_top_5_price_query.head()"
   ]
  },
  {
   "cell_type": "code",
   "execution_count": 62,
   "id": "b1b3f189",
   "metadata": {},
   "outputs": [
    {
     "name": "stdout",
     "output_type": "stream",
     "text": [
      "number of items in top 5% of price per item that are in top 5% of purchase cost range:  112\n"
     ]
    }
   ],
   "source": [
    "print('number of items in top 5% of price per item that are in top 5% of purchase cost range: ', \n",
    "      top_5_item_top_5_price_query['purchase_id'].nunique())"
   ]
  },
  {
   "cell_type": "markdown",
   "id": "7685af36",
   "metadata": {},
   "source": [
    "- Do the high purchases contain high `price_per_one` items?\n",
    "    - yes, 112 of them out of 176"
   ]
  },
  {
   "cell_type": "markdown",
   "id": "0f61b1d7",
   "metadata": {},
   "source": [
    "***Are the outlier purchases in the loyalty program or not?***"
   ]
  },
  {
   "cell_type": "code",
   "execution_count": 63,
   "id": "3dc1cb81",
   "metadata": {},
   "outputs": [
    {
     "data": {
      "text/html": [
       "<div>\n",
       "<style scoped>\n",
       "    .dataframe tbody tr th:only-of-type {\n",
       "        vertical-align: middle;\n",
       "    }\n",
       "\n",
       "    .dataframe tbody tr th {\n",
       "        vertical-align: top;\n",
       "    }\n",
       "\n",
       "    .dataframe thead th {\n",
       "        text-align: right;\n",
       "    }\n",
       "</style>\n",
       "<table border=\"1\" class=\"dataframe\">\n",
       "  <thead>\n",
       "    <tr style=\"text-align: right;\">\n",
       "      <th></th>\n",
       "      <th>purchase_id</th>\n",
       "      <th>item_id</th>\n",
       "      <th>quantity</th>\n",
       "      <th>purchase_datetime</th>\n",
       "      <th>customer_id</th>\n",
       "      <th>loyalty_program</th>\n",
       "      <th>shop_id</th>\n",
       "      <th>purchase_date</th>\n",
       "      <th>price_per_one</th>\n",
       "      <th>price_per_quantity</th>\n",
       "    </tr>\n",
       "  </thead>\n",
       "  <tbody>\n",
       "    <tr>\n",
       "      <th>8</th>\n",
       "      <td>544651</td>\n",
       "      <td>21873</td>\n",
       "      <td>71</td>\n",
       "      <td>2017-02-22 12:51:00</td>\n",
       "      <td>19373.0</td>\n",
       "      <td>0</td>\n",
       "      <td>Shop 17</td>\n",
       "      <td>2017-02-22</td>\n",
       "      <td>0.42</td>\n",
       "      <td>29.82</td>\n",
       "    </tr>\n",
       "    <tr>\n",
       "      <th>19</th>\n",
       "      <td>540357</td>\n",
       "      <td>21873</td>\n",
       "      <td>107</td>\n",
       "      <td>2017-01-06 15:14:00</td>\n",
       "      <td>18772.0</td>\n",
       "      <td>0</td>\n",
       "      <td>Shop 4</td>\n",
       "      <td>2017-01-06</td>\n",
       "      <td>0.42</td>\n",
       "      <td>44.94</td>\n",
       "    </tr>\n",
       "    <tr>\n",
       "      <th>23</th>\n",
       "      <td>537868</td>\n",
       "      <td>21873</td>\n",
       "      <td>23</td>\n",
       "      <td>2016-12-08 16:49:00</td>\n",
       "      <td>18112.0</td>\n",
       "      <td>0</td>\n",
       "      <td>Shop 15</td>\n",
       "      <td>2016-12-08</td>\n",
       "      <td>0.42</td>\n",
       "      <td>9.66</td>\n",
       "    </tr>\n",
       "    <tr>\n",
       "      <th>25</th>\n",
       "      <td>540551</td>\n",
       "      <td>21873</td>\n",
       "      <td>1</td>\n",
       "      <td>2017-01-10 09:43:00</td>\n",
       "      <td>0.0</td>\n",
       "      <td>0</td>\n",
       "      <td>Shop 0</td>\n",
       "      <td>2017-01-10</td>\n",
       "      <td>0.42</td>\n",
       "      <td>0.42</td>\n",
       "    </tr>\n",
       "    <tr>\n",
       "      <th>27</th>\n",
       "      <td>541827</td>\n",
       "      <td>21873</td>\n",
       "      <td>2</td>\n",
       "      <td>2017-01-21 17:05:00</td>\n",
       "      <td>0.0</td>\n",
       "      <td>0</td>\n",
       "      <td>Shop 0</td>\n",
       "      <td>2017-01-21</td>\n",
       "      <td>0.42</td>\n",
       "      <td>0.84</td>\n",
       "    </tr>\n",
       "  </tbody>\n",
       "</table>\n",
       "</div>"
      ],
      "text/plain": [
       "   purchase_id item_id  quantity   purchase_datetime customer_id  \\\n",
       "8       544651   21873        71 2017-02-22 12:51:00     19373.0   \n",
       "19      540357   21873       107 2017-01-06 15:14:00     18772.0   \n",
       "23      537868   21873        23 2016-12-08 16:49:00     18112.0   \n",
       "25      540551   21873         1 2017-01-10 09:43:00         0.0   \n",
       "27      541827   21873         2 2017-01-21 17:05:00         0.0   \n",
       "\n",
       "    loyalty_program  shop_id purchase_date  price_per_one  price_per_quantity  \n",
       "8                 0  Shop 17    2017-02-22           0.42               29.82  \n",
       "19                0   Shop 4    2017-01-06           0.42               44.94  \n",
       "23                0  Shop 15    2016-12-08           0.42                9.66  \n",
       "25                0   Shop 0    2017-01-10           0.42                0.42  \n",
       "27                0   Shop 0    2017-01-21           0.42                0.84  "
      ]
     },
     "execution_count": 63,
     "metadata": {},
     "output_type": "execute_result"
    }
   ],
   "source": [
    "# determine if the top 5% of purhases are part of the loyalty program\n",
    "top_five_perc_purch_prices_loyalty_query = purchases_clean.query('purchase_id in @top_five_perc_purch_prices_list')\n",
    "top_five_perc_purch_prices_loyalty_query.head()"
   ]
  },
  {
   "cell_type": "code",
   "execution_count": 64,
   "id": "4566248c",
   "metadata": {},
   "outputs": [
    {
     "name": "stdout",
     "output_type": "stream",
     "text": [
      "19.32% of high purchases are in the loyalty program: 34 out of 176\n"
     ]
    }
   ],
   "source": [
    "# calculate the number of high purchases (top 5%) in the loyalty program\n",
    "num_top_five_perc_purch_prices_loyalty = top_five_perc_purch_prices_loyalty_query.query('loyalty_program == 1')['purchase_id'].nunique()\n",
    "num_top_five_perc_purch_prices = top_five_perc_purch_prices_loyalty_query['purchase_id'].nunique()\n",
    "perc = num_top_five_perc_purch_prices_loyalty / num_top_five_perc_purch_prices\n",
    "print('{:.2%} of high purchases are in the loyalty program: {} out of {}'.format(perc, num_top_five_perc_purch_prices_loyalty, num_top_five_perc_purch_prices))"
   ]
  },
  {
   "cell_type": "markdown",
   "id": "ee0cc625",
   "metadata": {},
   "source": [
    "- Are the outlier purchases in the loyalty program or not?\n",
    "    - yes 19%: 34 out of 176\n",
    "    - being in the loyalty program doesnt mean you are buying more expensive purchases"
   ]
  },
  {
   "cell_type": "markdown",
   "id": "3f1faeaa",
   "metadata": {},
   "source": [
    "[***3.a.5 Evaluate the number of items per purchase***](#step3instructions)<a id=\"3a5\"></a>\n",
    "- 3.a.5.i Create a table with the total number of items per purchase based on `purchase_id`\n",
    "- 3.a.5.ii Use `describe()` to evaluate the mean and median of the items per purchase\n",
    "- 3.a.5.iii Evaluate the percentiles\n",
    "    - how many purchases contain a high number of items?\n",
    "    - Are the purchases with a high number of items in the loyalty program or not?"
   ]
  },
  {
   "cell_type": "markdown",
   "id": "460e48cf",
   "metadata": {},
   "source": [
    "[***3.a.5.i Create a table with the total number of items per purchase based on `purchase_id`***](#step3instructions)<a id=\"3a5i\"></a>"
   ]
  },
  {
   "cell_type": "code",
   "execution_count": 65,
   "id": "bfa04179",
   "metadata": {},
   "outputs": [
    {
     "data": {
      "text/html": [
       "<div>\n",
       "<style scoped>\n",
       "    .dataframe tbody tr th:only-of-type {\n",
       "        vertical-align: middle;\n",
       "    }\n",
       "\n",
       "    .dataframe tbody tr th {\n",
       "        vertical-align: top;\n",
       "    }\n",
       "\n",
       "    .dataframe thead th {\n",
       "        text-align: right;\n",
       "    }\n",
       "</style>\n",
       "<table border=\"1\" class=\"dataframe\">\n",
       "  <thead>\n",
       "    <tr style=\"text-align: right;\">\n",
       "      <th></th>\n",
       "      <th>purchase_id</th>\n",
       "      <th>num_items_per_purchase</th>\n",
       "    </tr>\n",
       "  </thead>\n",
       "  <tbody>\n",
       "    <tr>\n",
       "      <th>0</th>\n",
       "      <td>536365</td>\n",
       "      <td>16</td>\n",
       "    </tr>\n",
       "    <tr>\n",
       "      <th>1</th>\n",
       "      <td>536367</td>\n",
       "      <td>68</td>\n",
       "    </tr>\n",
       "    <tr>\n",
       "      <th>2</th>\n",
       "      <td>536368</td>\n",
       "      <td>11</td>\n",
       "    </tr>\n",
       "    <tr>\n",
       "      <th>3</th>\n",
       "      <td>536369</td>\n",
       "      <td>2</td>\n",
       "    </tr>\n",
       "    <tr>\n",
       "      <th>4</th>\n",
       "      <td>536370</td>\n",
       "      <td>404</td>\n",
       "    </tr>\n",
       "  </tbody>\n",
       "</table>\n",
       "</div>"
      ],
      "text/plain": [
       "  purchase_id  num_items_per_purchase\n",
       "0      536365                      16\n",
       "1      536367                      68\n",
       "2      536368                      11\n",
       "3      536369                       2\n",
       "4      536370                     404"
      ]
     },
     "execution_count": 65,
     "metadata": {},
     "output_type": "execute_result"
    }
   ],
   "source": [
    "# make a table counting all the items for each purchase\n",
    "num_items_per_purchase_table = purchases_clean.pivot_table(index = 'purchase_id',\n",
    "                                                    values = 'quantity', aggfunc = 'sum').reset_index()\n",
    "num_items_per_purchase_table.columns = ('purchase_id', 'num_items_per_purchase')\n",
    "num_items_per_purchase_table.head()"
   ]
  },
  {
   "cell_type": "markdown",
   "id": "30e67713",
   "metadata": {},
   "source": [
    "[***3.a.5.ii Use `describe()` to evaluate the mean and median of the items per purchase***](#step3instructions)<a id=\"3a5ii\"></a>"
   ]
  },
  {
   "cell_type": "code",
   "execution_count": 66,
   "id": "53cf7a67",
   "metadata": {},
   "outputs": [
    {
     "data": {
      "text/html": [
       "<div>\n",
       "<style scoped>\n",
       "    .dataframe tbody tr th:only-of-type {\n",
       "        vertical-align: middle;\n",
       "    }\n",
       "\n",
       "    .dataframe tbody tr th {\n",
       "        vertical-align: top;\n",
       "    }\n",
       "\n",
       "    .dataframe thead th {\n",
       "        text-align: right;\n",
       "    }\n",
       "</style>\n",
       "<table border=\"1\" class=\"dataframe\">\n",
       "  <thead>\n",
       "    <tr style=\"text-align: right;\">\n",
       "      <th></th>\n",
       "      <th>num_items_per_purchase</th>\n",
       "    </tr>\n",
       "  </thead>\n",
       "  <tbody>\n",
       "    <tr>\n",
       "      <th>count</th>\n",
       "      <td>3516.000000</td>\n",
       "    </tr>\n",
       "    <tr>\n",
       "      <th>mean</th>\n",
       "      <td>229.507395</td>\n",
       "    </tr>\n",
       "    <tr>\n",
       "      <th>std</th>\n",
       "      <td>1328.311494</td>\n",
       "    </tr>\n",
       "    <tr>\n",
       "      <th>min</th>\n",
       "      <td>1.000000</td>\n",
       "    </tr>\n",
       "    <tr>\n",
       "      <th>25%</th>\n",
       "      <td>42.000000</td>\n",
       "    </tr>\n",
       "    <tr>\n",
       "      <th>50%</th>\n",
       "      <td>98.000000</td>\n",
       "    </tr>\n",
       "    <tr>\n",
       "      <th>75%</th>\n",
       "      <td>208.000000</td>\n",
       "    </tr>\n",
       "    <tr>\n",
       "      <th>max</th>\n",
       "      <td>74214.000000</td>\n",
       "    </tr>\n",
       "  </tbody>\n",
       "</table>\n",
       "</div>"
      ],
      "text/plain": [
       "       num_items_per_purchase\n",
       "count             3516.000000\n",
       "mean               229.507395\n",
       "std               1328.311494\n",
       "min                  1.000000\n",
       "25%                 42.000000\n",
       "50%                 98.000000\n",
       "75%                208.000000\n",
       "max              74214.000000"
      ]
     },
     "execution_count": 66,
     "metadata": {},
     "output_type": "execute_result"
    }
   ],
   "source": [
    "# evaluate the stats\n",
    "num_items_per_purchase_table.describe()"
   ]
  },
  {
   "cell_type": "code",
   "execution_count": 67,
   "id": "a6a4663f",
   "metadata": {},
   "outputs": [
    {
     "name": "stdout",
     "output_type": "stream",
     "text": [
      "Average number of items purchased:  230.0\n",
      "Median number of items purchased:  98.0\n",
      "Difference between average and median number of items per purchase:  132.0\n"
     ]
    }
   ],
   "source": [
    "#calculate the mean and median of the number of items per purchase\n",
    "print('Average number of items purchased: ', (num_items_per_purchase_table['num_items_per_purchase'].mean()).round(0))\n",
    "print('Median number of items purchased: ', num_items_per_purchase_table['num_items_per_purchase'].median().round(0))\n",
    "diff_btwn_avg_med = num_items_per_purchase_table['num_items_per_purchase'].mean() - num_items_per_purchase_table['num_items_per_purchase'].median()\n",
    "print('Difference between average and median number of items per purchase: ', (diff_btwn_avg_med).round(0))"
   ]
  },
  {
   "cell_type": "markdown",
   "id": "75192e5e",
   "metadata": {},
   "source": [
    "[***3.a.5.iii Evaluate the percentiles***](#step3instructions)<a id=\"3a5iii\"></a>\n",
    "- how many purchases contain a high number of items?\n",
    "- Are the purchases with a high number of items in the loyalty program or not?"
   ]
  },
  {
   "cell_type": "code",
   "execution_count": 68,
   "id": "15211580",
   "metadata": {},
   "outputs": [
    {
     "name": "stdout",
     "output_type": "stream",
     "text": [
      "top 10% of total items per purchase are 431.00 or more items\n",
      "top 5% of total items per purchase are 669.00 or more items\n",
      "top 1% of total items per purchase are 2144.00 or more items\n"
     ]
    }
   ],
   "source": [
    "# calculate the percentiles\n",
    "number_items_per_purchase_percentiles = np.percentile(num_items_per_purchase_table['num_items_per_purchase'], percentile_dict)\n",
    "\n",
    "for tile in range(0, len(percentile_dict)):\n",
    "    print('top {}% of total items per purchase are {:.2f} or more items'.format(100 - percentile_dict[tile], \n",
    "                                                                number_items_per_purchase_percentiles[tile].round(0)))"
   ]
  },
  {
   "cell_type": "markdown",
   "id": "0b087f7a",
   "metadata": {},
   "source": [
    "***how many purchases contain a high number of items?***"
   ]
  },
  {
   "cell_type": "code",
   "execution_count": 69,
   "id": "3322e3ea",
   "metadata": {},
   "outputs": [
    {
     "data": {
      "text/html": [
       "<div>\n",
       "<style scoped>\n",
       "    .dataframe tbody tr th:only-of-type {\n",
       "        vertical-align: middle;\n",
       "    }\n",
       "\n",
       "    .dataframe tbody tr th {\n",
       "        vertical-align: top;\n",
       "    }\n",
       "\n",
       "    .dataframe thead th {\n",
       "        text-align: right;\n",
       "    }\n",
       "</style>\n",
       "<table border=\"1\" class=\"dataframe\">\n",
       "  <thead>\n",
       "    <tr style=\"text-align: right;\">\n",
       "      <th></th>\n",
       "      <th>purchase_id</th>\n",
       "      <th>num_items_per_purchase</th>\n",
       "    </tr>\n",
       "  </thead>\n",
       "  <tbody>\n",
       "    <tr>\n",
       "      <th>16</th>\n",
       "      <td>536387</td>\n",
       "      <td>1244</td>\n",
       "    </tr>\n",
       "    <tr>\n",
       "      <th>19</th>\n",
       "      <td>536390</td>\n",
       "      <td>1238</td>\n",
       "    </tr>\n",
       "    <tr>\n",
       "      <th>41</th>\n",
       "      <td>536437</td>\n",
       "      <td>998</td>\n",
       "    </tr>\n",
       "    <tr>\n",
       "      <th>47</th>\n",
       "      <td>536477</td>\n",
       "      <td>993</td>\n",
       "    </tr>\n",
       "    <tr>\n",
       "      <th>64</th>\n",
       "      <td>536532</td>\n",
       "      <td>1380</td>\n",
       "    </tr>\n",
       "  </tbody>\n",
       "</table>\n",
       "</div>"
      ],
      "text/plain": [
       "   purchase_id  num_items_per_purchase\n",
       "16      536387                    1244\n",
       "19      536390                    1238\n",
       "41      536437                     998\n",
       "47      536477                     993\n",
       "64      536532                    1380"
      ]
     },
     "execution_count": 69,
     "metadata": {},
     "output_type": "execute_result"
    }
   ],
   "source": [
    "# query for the top 5% of items purchased\n",
    "top_5_perc_num_items_purchased = number_items_per_purchase_percentiles[1]\n",
    "top_5_perc_num_items_per_purchase_query = num_items_per_purchase_table.query('num_items_per_purchase >= @top_5_perc_num_items_purchased')\n",
    "top_5_perc_num_items_per_purchase_query.head()"
   ]
  },
  {
   "cell_type": "code",
   "execution_count": 70,
   "id": "a8947f95",
   "metadata": {},
   "outputs": [
    {
     "name": "stdout",
     "output_type": "stream",
     "text": [
      "number of purchases in the top 5% of quantity purchased:  176\n"
     ]
    }
   ],
   "source": [
    "# make a list of the purchases with the top 5% number of items per transaction >= 669\n",
    "top_5_perc_num_items_per_purchase_purchase_ids_list = list(top_5_perc_num_items_per_purchase_query['purchase_id'].unique())\n",
    "print('number of purchases in the top 5% of quantity purchased: ', len(top_5_perc_num_items_per_purchase_purchase_ids_list))"
   ]
  },
  {
   "cell_type": "markdown",
   "id": "ba67ebb8",
   "metadata": {},
   "source": [
    "***Are the purchases with a high number of items in the loyalty program or not?***"
   ]
  },
  {
   "cell_type": "code",
   "execution_count": 71,
   "id": "c10a18a8",
   "metadata": {},
   "outputs": [
    {
     "data": {
      "text/html": [
       "<div>\n",
       "<style scoped>\n",
       "    .dataframe tbody tr th:only-of-type {\n",
       "        vertical-align: middle;\n",
       "    }\n",
       "\n",
       "    .dataframe tbody tr th {\n",
       "        vertical-align: top;\n",
       "    }\n",
       "\n",
       "    .dataframe thead th {\n",
       "        text-align: right;\n",
       "    }\n",
       "</style>\n",
       "<table border=\"1\" class=\"dataframe\">\n",
       "  <thead>\n",
       "    <tr style=\"text-align: right;\">\n",
       "      <th></th>\n",
       "      <th>purchase_id</th>\n",
       "      <th>item_id</th>\n",
       "      <th>quantity</th>\n",
       "      <th>purchase_datetime</th>\n",
       "      <th>customer_id</th>\n",
       "      <th>loyalty_program</th>\n",
       "      <th>shop_id</th>\n",
       "      <th>purchase_date</th>\n",
       "      <th>price_per_one</th>\n",
       "      <th>price_per_quantity</th>\n",
       "    </tr>\n",
       "  </thead>\n",
       "  <tbody>\n",
       "    <tr>\n",
       "      <th>4</th>\n",
       "      <td>541566</td>\n",
       "      <td>21873</td>\n",
       "      <td>35</td>\n",
       "      <td>2017-01-19 11:50:00</td>\n",
       "      <td>23401.0</td>\n",
       "      <td>1</td>\n",
       "      <td>Shop 22</td>\n",
       "      <td>2017-01-19</td>\n",
       "      <td>0.42</td>\n",
       "      <td>14.70</td>\n",
       "    </tr>\n",
       "    <tr>\n",
       "      <th>8</th>\n",
       "      <td>544651</td>\n",
       "      <td>21873</td>\n",
       "      <td>71</td>\n",
       "      <td>2017-02-22 12:51:00</td>\n",
       "      <td>19373.0</td>\n",
       "      <td>0</td>\n",
       "      <td>Shop 17</td>\n",
       "      <td>2017-02-22</td>\n",
       "      <td>0.42</td>\n",
       "      <td>29.82</td>\n",
       "    </tr>\n",
       "  </tbody>\n",
       "</table>\n",
       "</div>"
      ],
      "text/plain": [
       "  purchase_id item_id  quantity   purchase_datetime customer_id  \\\n",
       "4      541566   21873        35 2017-01-19 11:50:00     23401.0   \n",
       "8      544651   21873        71 2017-02-22 12:51:00     19373.0   \n",
       "\n",
       "   loyalty_program  shop_id purchase_date  price_per_one  price_per_quantity  \n",
       "4                1  Shop 22    2017-01-19           0.42               14.70  \n",
       "8                0  Shop 17    2017-02-22           0.42               29.82  "
      ]
     },
     "execution_count": 71,
     "metadata": {},
     "output_type": "execute_result"
    }
   ],
   "source": [
    "# determine if the top 5% of number of items purchased are part of the loyalty program\n",
    "top_5_perc_num_items_per_purchase_loyalty_query = purchases_clean.query('purchase_id in @top_5_perc_num_items_per_purchase_purchase_ids_list')\n",
    "top_5_perc_num_items_per_purchase_loyalty_query.head(2)"
   ]
  },
  {
   "cell_type": "code",
   "execution_count": 72,
   "id": "dfb571ed",
   "metadata": {},
   "outputs": [
    {
     "name": "stdout",
     "output_type": "stream",
     "text": [
      "23.30% of purchases with high number of items purchased are in the loyalty program: 41 out of 176\n"
     ]
    }
   ],
   "source": [
    "# calculate the number of purachases with high number of items (top 5%) in the loyalty program\n",
    "num_top_5_perc_num_items_per_purchase_loyalty = top_5_perc_num_items_per_purchase_loyalty_query.query('loyalty_program == 1')['purchase_id'].nunique()\n",
    "num_top_5_perc_num_items_per_purchase = top_5_perc_num_items_per_purchase_loyalty_query['purchase_id'].nunique()\n",
    "perc = num_top_5_perc_num_items_per_purchase_loyalty / num_top_5_perc_num_items_per_purchase\n",
    "print('{:.2%} of purchases with high number of items purchased are in the loyalty program: {} out of {}'.format(perc, num_top_5_perc_num_items_per_purchase_loyalty, num_top_5_perc_num_items_per_purchase))"
   ]
  },
  {
   "cell_type": "markdown",
   "id": "32c67091",
   "metadata": {},
   "source": [
    "[***3.b Process outliers***](#step3instructions)<a id=\"3b\"></a>\n",
    "- decide on outlier cut off if approriate and remove them from further analysis\n",
    "- ***It is apporpriate to remove 5-10% of outliers, I will be removing the top 5% of total purchase price outliers and top 5% of purchases with high number or purchased itesm, this removes outliers while still being conservative in terms of data removal***"
   ]
  },
  {
   "cell_type": "code",
   "execution_count": 73,
   "id": "e8e938c0",
   "metadata": {},
   "outputs": [
    {
     "name": "stdout",
     "output_type": "stream",
     "text": [
      "<class 'pandas.core.frame.DataFrame'>\n",
      "Int64Index: 48059 entries, 0 to 104300\n",
      "Data columns (total 10 columns):\n",
      " #   Column              Non-Null Count  Dtype         \n",
      "---  ------              --------------  -----         \n",
      " 0   purchase_id         48059 non-null  object        \n",
      " 1   item_id             48059 non-null  object        \n",
      " 2   quantity            48059 non-null  int64         \n",
      " 3   purchase_datetime   48059 non-null  datetime64[ns]\n",
      " 4   customer_id         48059 non-null  object        \n",
      " 5   loyalty_program     48059 non-null  int64         \n",
      " 6   shop_id             48059 non-null  object        \n",
      " 7   purchase_date       48059 non-null  datetime64[ns]\n",
      " 8   price_per_one       48059 non-null  float64       \n",
      " 9   price_per_quantity  48059 non-null  float64       \n",
      "dtypes: datetime64[ns](2), float64(2), int64(2), object(4)\n",
      "memory usage: 4.0+ MB\n"
     ]
    },
    {
     "data": {
      "text/plain": [
       "None"
      ]
     },
     "metadata": {},
     "output_type": "display_data"
    },
    {
     "data": {
      "text/html": [
       "<div>\n",
       "<style scoped>\n",
       "    .dataframe tbody tr th:only-of-type {\n",
       "        vertical-align: middle;\n",
       "    }\n",
       "\n",
       "    .dataframe tbody tr th {\n",
       "        vertical-align: top;\n",
       "    }\n",
       "\n",
       "    .dataframe thead th {\n",
       "        text-align: right;\n",
       "    }\n",
       "</style>\n",
       "<table border=\"1\" class=\"dataframe\">\n",
       "  <thead>\n",
       "    <tr style=\"text-align: right;\">\n",
       "      <th></th>\n",
       "      <th>quantity</th>\n",
       "      <th>loyalty_program</th>\n",
       "      <th>price_per_one</th>\n",
       "      <th>price_per_quantity</th>\n",
       "    </tr>\n",
       "  </thead>\n",
       "  <tbody>\n",
       "    <tr>\n",
       "      <th>count</th>\n",
       "      <td>48059.000000</td>\n",
       "      <td>48059.000000</td>\n",
       "      <td>48059.000000</td>\n",
       "      <td>48059.000000</td>\n",
       "    </tr>\n",
       "    <tr>\n",
       "      <th>mean</th>\n",
       "      <td>8.922803</td>\n",
       "      <td>0.287105</td>\n",
       "      <td>2.224689</td>\n",
       "      <td>12.575004</td>\n",
       "    </tr>\n",
       "    <tr>\n",
       "      <th>std</th>\n",
       "      <td>17.400494</td>\n",
       "      <td>0.452416</td>\n",
       "      <td>3.183278</td>\n",
       "      <td>22.784962</td>\n",
       "    </tr>\n",
       "    <tr>\n",
       "      <th>min</th>\n",
       "      <td>1.000000</td>\n",
       "      <td>0.000000</td>\n",
       "      <td>0.030000</td>\n",
       "      <td>0.030000</td>\n",
       "    </tr>\n",
       "    <tr>\n",
       "      <th>25%</th>\n",
       "      <td>2.000000</td>\n",
       "      <td>0.000000</td>\n",
       "      <td>0.850000</td>\n",
       "      <td>3.300000</td>\n",
       "    </tr>\n",
       "    <tr>\n",
       "      <th>50%</th>\n",
       "      <td>5.000000</td>\n",
       "      <td>0.000000</td>\n",
       "      <td>1.450000</td>\n",
       "      <td>8.150000</td>\n",
       "    </tr>\n",
       "    <tr>\n",
       "      <th>75%</th>\n",
       "      <td>11.000000</td>\n",
       "      <td>1.000000</td>\n",
       "      <td>2.550000</td>\n",
       "      <td>13.750000</td>\n",
       "    </tr>\n",
       "    <tr>\n",
       "      <th>max</th>\n",
       "      <td>647.000000</td>\n",
       "      <td>1.000000</td>\n",
       "      <td>145.000000</td>\n",
       "      <td>833.750000</td>\n",
       "    </tr>\n",
       "  </tbody>\n",
       "</table>\n",
       "</div>"
      ],
      "text/plain": [
       "           quantity  loyalty_program  price_per_one  price_per_quantity\n",
       "count  48059.000000     48059.000000   48059.000000        48059.000000\n",
       "mean       8.922803         0.287105       2.224689           12.575004\n",
       "std       17.400494         0.452416       3.183278           22.784962\n",
       "min        1.000000         0.000000       0.030000            0.030000\n",
       "25%        2.000000         0.000000       0.850000            3.300000\n",
       "50%        5.000000         0.000000       1.450000            8.150000\n",
       "75%       11.000000         1.000000       2.550000           13.750000\n",
       "max      647.000000         1.000000     145.000000          833.750000"
      ]
     },
     "metadata": {},
     "output_type": "display_data"
    }
   ],
   "source": [
    "# remove the top 5 percent of purchases with high total purchase cost\n",
    "purchases_processed_tmp = purchases_clean.query('purchase_id not in @top_five_perc_purch_prices_list')\n",
    "\n",
    "# remove the top 5 percent of purchases with high number of items purchased\n",
    "purchases_processed = purchases_processed_tmp.query('purchase_id not in @top_5_perc_num_items_per_purchase_purchase_ids_list')\n",
    "display(purchases_processed.info())\n",
    "display(purchases_processed.describe())"
   ]
  },
  {
   "cell_type": "markdown",
   "id": "f8089e75",
   "metadata": {},
   "source": [
    "[***3.c Quality check of loyalty program***](#step3instructions)<a id=\"3c\"></a>\n",
    "- confirm that purchases are made as a loylaty program member or not - not a mix\n",
    "    - 3.c.1 Use `groupby()` `purchase_id` to get the average values of the loyalty program column\n",
    "        - if there are percentages, then there is a mix of membership in those purchases\n",
    "    - 3.c.2 evaluate the unique values of the quality check"
   ]
  },
  {
   "cell_type": "markdown",
   "id": "85c72d07",
   "metadata": {},
   "source": [
    "[***3.c.1 Use `groupby()` `purchase_id` to get the average values of the loyalty program column***](#step3instructions)<a id=\"3c1\"></a>\n",
    "- if there are percentages, then there is a mix of membership in those purchases"
   ]
  },
  {
   "cell_type": "code",
   "execution_count": 74,
   "id": "ec5be042",
   "metadata": {},
   "outputs": [
    {
     "data": {
      "text/plain": [
       "purchase_id\n",
       "536365    1\n",
       "536367    0\n",
       "536368    0\n",
       "536369    0\n",
       "536370    0\n",
       "Name: loyalty_program, dtype: int64"
      ]
     },
     "execution_count": 74,
     "metadata": {},
     "output_type": "execute_result"
    }
   ],
   "source": [
    "# confirm that purchases are made as a loylaty program member or not - not a mix\n",
    "quality_check_loyalty_program = purchases_processed.groupby('purchase_id')['loyalty_program'].mean()\n",
    "quality_check_loyalty_program.head()"
   ]
  },
  {
   "cell_type": "markdown",
   "id": "7e2c6eec",
   "metadata": {},
   "source": [
    "[***3.c.2 evaluate the unique values of the quality check***](#step3instructions)<a id=\"3c2\"></a>"
   ]
  },
  {
   "cell_type": "code",
   "execution_count": 75,
   "id": "2f2c741c",
   "metadata": {},
   "outputs": [
    {
     "name": "stdout",
     "output_type": "stream",
     "text": [
      "unique values from quality check of the loyalty program:  [1 0] ; percentages indicate an error\n"
     ]
    }
   ],
   "source": [
    "# review the unique values of the loyalty program average\n",
    "print('unique values from quality check of the loyalty program: ', quality_check_loyalty_program.unique(), '; percentages indicate an error')"
   ]
  },
  {
   "cell_type": "markdown",
   "id": "e33f935d",
   "metadata": {},
   "source": [
    "- There are no purchases that contain an error of having a mix of loyalty and non-loyalty member status"
   ]
  },
  {
   "cell_type": "markdown",
   "id": "50b577d9",
   "metadata": {},
   "source": [
    "[***3.d Visualize the data***](#step3instructions)<a id=\"3d\"></a>\n",
    "- create queries or use `groupby()` to plot the following graphs\n",
    "    - 3.d.1 evaluate each membership group numerical data using the describe() method\n",
    "    - 3.d.2 plot histograms of the total purchase prices per membership\n",
    "    - 3.d.3 plot bar graphs of the total and average purchase prices per customer status\n",
    "    - 3.d.4 plot bar graphs of total purchase prices per membership per shop\n",
    "    - 3.d.5 plot bar graphs of average purchase prices per membership per shop\n",
    "    - 3.d.6 plot bar graphs of the total and average purchase prices per day per customer status\n",
    "    - 3.d.7 plot histograms of the number of items purchased per membership\n",
    "    - 3.d.8 plot bar graphs of the total and average number of items purchased per customer status\n",
    "    - 3.d.9 plot bar graph of number of items purchased per store based on customer status\n",
    "    - 3.d.10 plot bar graph of the average number of items purchased per store based on customer status\n",
    "    - 3.d.11 plot bar graphs of the total and average number of items purchased per date per customer status\n",
    "    - 3.d.12 plot bar graphs of the total and average number of purchases per customer status"
   ]
  },
  {
   "cell_type": "markdown",
   "id": "5a4ad005",
   "metadata": {},
   "source": [
    "[***3.d.1 evaluate each membership group numerical data using the describe() method***](#step3instructions)<a id=\"3d1\"></a>"
   ]
  },
  {
   "cell_type": "code",
   "execution_count": 76,
   "id": "98a29093",
   "metadata": {},
   "outputs": [
    {
     "name": "stdout",
     "output_type": "stream",
     "text": [
      "stats of loyalty members:\n"
     ]
    },
    {
     "data": {
      "text/html": [
       "<div>\n",
       "<style scoped>\n",
       "    .dataframe tbody tr th:only-of-type {\n",
       "        vertical-align: middle;\n",
       "    }\n",
       "\n",
       "    .dataframe tbody tr th {\n",
       "        vertical-align: top;\n",
       "    }\n",
       "\n",
       "    .dataframe thead th {\n",
       "        text-align: right;\n",
       "    }\n",
       "</style>\n",
       "<table border=\"1\" class=\"dataframe\">\n",
       "  <thead>\n",
       "    <tr style=\"text-align: right;\">\n",
       "      <th></th>\n",
       "      <th>quantity</th>\n",
       "      <th>loyalty_program</th>\n",
       "      <th>price_per_one</th>\n",
       "      <th>price_per_quantity</th>\n",
       "    </tr>\n",
       "  </thead>\n",
       "  <tbody>\n",
       "    <tr>\n",
       "      <th>count</th>\n",
       "      <td>13798.000000</td>\n",
       "      <td>13798.0</td>\n",
       "      <td>13798.000000</td>\n",
       "      <td>13798.000000</td>\n",
       "    </tr>\n",
       "    <tr>\n",
       "      <th>mean</th>\n",
       "      <td>8.992028</td>\n",
       "      <td>1.0</td>\n",
       "      <td>2.244337</td>\n",
       "      <td>12.480491</td>\n",
       "    </tr>\n",
       "    <tr>\n",
       "      <th>std</th>\n",
       "      <td>17.591355</td>\n",
       "      <td>0.0</td>\n",
       "      <td>3.377640</td>\n",
       "      <td>22.611784</td>\n",
       "    </tr>\n",
       "    <tr>\n",
       "      <th>min</th>\n",
       "      <td>1.000000</td>\n",
       "      <td>1.0</td>\n",
       "      <td>0.030000</td>\n",
       "      <td>0.060000</td>\n",
       "    </tr>\n",
       "    <tr>\n",
       "      <th>25%</th>\n",
       "      <td>2.000000</td>\n",
       "      <td>1.0</td>\n",
       "      <td>0.850000</td>\n",
       "      <td>3.300000</td>\n",
       "    </tr>\n",
       "    <tr>\n",
       "      <th>50%</th>\n",
       "      <td>5.000000</td>\n",
       "      <td>1.0</td>\n",
       "      <td>1.450000</td>\n",
       "      <td>7.650000</td>\n",
       "    </tr>\n",
       "    <tr>\n",
       "      <th>75%</th>\n",
       "      <td>11.000000</td>\n",
       "      <td>1.0</td>\n",
       "      <td>2.550000</td>\n",
       "      <td>13.750000</td>\n",
       "    </tr>\n",
       "    <tr>\n",
       "      <th>max</th>\n",
       "      <td>599.000000</td>\n",
       "      <td>1.0</td>\n",
       "      <td>125.000000</td>\n",
       "      <td>726.750000</td>\n",
       "    </tr>\n",
       "  </tbody>\n",
       "</table>\n",
       "</div>"
      ],
      "text/plain": [
       "           quantity  loyalty_program  price_per_one  price_per_quantity\n",
       "count  13798.000000          13798.0   13798.000000        13798.000000\n",
       "mean       8.992028              1.0       2.244337           12.480491\n",
       "std       17.591355              0.0       3.377640           22.611784\n",
       "min        1.000000              1.0       0.030000            0.060000\n",
       "25%        2.000000              1.0       0.850000            3.300000\n",
       "50%        5.000000              1.0       1.450000            7.650000\n",
       "75%       11.000000              1.0       2.550000           13.750000\n",
       "max      599.000000              1.0     125.000000          726.750000"
      ]
     },
     "metadata": {},
     "output_type": "display_data"
    },
    {
     "name": "stdout",
     "output_type": "stream",
     "text": [
      "stats of non loyalty members:\n"
     ]
    },
    {
     "data": {
      "text/html": [
       "<div>\n",
       "<style scoped>\n",
       "    .dataframe tbody tr th:only-of-type {\n",
       "        vertical-align: middle;\n",
       "    }\n",
       "\n",
       "    .dataframe tbody tr th {\n",
       "        vertical-align: top;\n",
       "    }\n",
       "\n",
       "    .dataframe thead th {\n",
       "        text-align: right;\n",
       "    }\n",
       "</style>\n",
       "<table border=\"1\" class=\"dataframe\">\n",
       "  <thead>\n",
       "    <tr style=\"text-align: right;\">\n",
       "      <th></th>\n",
       "      <th>quantity</th>\n",
       "      <th>loyalty_program</th>\n",
       "      <th>price_per_one</th>\n",
       "      <th>price_per_quantity</th>\n",
       "    </tr>\n",
       "  </thead>\n",
       "  <tbody>\n",
       "    <tr>\n",
       "      <th>count</th>\n",
       "      <td>34261.000000</td>\n",
       "      <td>34261.0</td>\n",
       "      <td>34261.000000</td>\n",
       "      <td>34261.000000</td>\n",
       "    </tr>\n",
       "    <tr>\n",
       "      <th>mean</th>\n",
       "      <td>8.894924</td>\n",
       "      <td>0.0</td>\n",
       "      <td>2.216777</td>\n",
       "      <td>12.613067</td>\n",
       "    </tr>\n",
       "    <tr>\n",
       "      <th>std</th>\n",
       "      <td>17.323214</td>\n",
       "      <td>0.0</td>\n",
       "      <td>3.101580</td>\n",
       "      <td>22.854554</td>\n",
       "    </tr>\n",
       "    <tr>\n",
       "      <th>min</th>\n",
       "      <td>1.000000</td>\n",
       "      <td>0.0</td>\n",
       "      <td>0.030000</td>\n",
       "      <td>0.030000</td>\n",
       "    </tr>\n",
       "    <tr>\n",
       "      <th>25%</th>\n",
       "      <td>2.000000</td>\n",
       "      <td>0.0</td>\n",
       "      <td>0.850000</td>\n",
       "      <td>3.300000</td>\n",
       "    </tr>\n",
       "    <tr>\n",
       "      <th>50%</th>\n",
       "      <td>5.000000</td>\n",
       "      <td>0.0</td>\n",
       "      <td>1.450000</td>\n",
       "      <td>8.250000</td>\n",
       "    </tr>\n",
       "    <tr>\n",
       "      <th>75%</th>\n",
       "      <td>11.000000</td>\n",
       "      <td>0.0</td>\n",
       "      <td>2.550000</td>\n",
       "      <td>13.750000</td>\n",
       "    </tr>\n",
       "    <tr>\n",
       "      <th>max</th>\n",
       "      <td>647.000000</td>\n",
       "      <td>0.0</td>\n",
       "      <td>145.000000</td>\n",
       "      <td>833.750000</td>\n",
       "    </tr>\n",
       "  </tbody>\n",
       "</table>\n",
       "</div>"
      ],
      "text/plain": [
       "           quantity  loyalty_program  price_per_one  price_per_quantity\n",
       "count  34261.000000          34261.0   34261.000000        34261.000000\n",
       "mean       8.894924              0.0       2.216777           12.613067\n",
       "std       17.323214              0.0       3.101580           22.854554\n",
       "min        1.000000              0.0       0.030000            0.030000\n",
       "25%        2.000000              0.0       0.850000            3.300000\n",
       "50%        5.000000              0.0       1.450000            8.250000\n",
       "75%       11.000000              0.0       2.550000           13.750000\n",
       "max      647.000000              0.0     145.000000          833.750000"
      ]
     },
     "metadata": {},
     "output_type": "display_data"
    }
   ],
   "source": [
    "# create queries for each membership status\n",
    "loyalty_members = purchases_processed.query('loyalty_program == 1')\n",
    "non_loyalty_members = purchases_processed.query('loyalty_program == 0')\n",
    "print('stats of loyalty members:')\n",
    "display(loyalty_members.describe())\n",
    "print('stats of non loyalty members:')\n",
    "display(non_loyalty_members.describe())"
   ]
  },
  {
   "cell_type": "code",
   "execution_count": 77,
   "id": "b572a63d",
   "metadata": {},
   "outputs": [
    {
     "name": "stdout",
     "output_type": "stream",
     "text": [
      "number of loyalty purchases:  1031\n",
      "number of non-loyalty purchases:  2265\n",
      "31.28% of purchases made by loyalty members\n"
     ]
    }
   ],
   "source": [
    "num_loyalty_purchases_in_processed_data = loyalty_members['purchase_id'].nunique()\n",
    "num_non_loyalty_purchases_in_processed_data = non_loyalty_members['purchase_id'].nunique()\n",
    "print('number of loyalty purchases: ', num_loyalty_purchases_in_processed_data)\n",
    "print('number of non-loyalty purchases: ', num_non_loyalty_purchases_in_processed_data)\n",
    "total_purchases_in_processed_data = purchases_processed['purchase_id'].nunique()\n",
    "perc_loyalty_purchases = num_loyalty_purchases_in_processed_data / total_purchases_in_processed_data\n",
    "print('{:.2%} of purchases made by loyalty members'.format(perc_loyalty_purchases))"
   ]
  },
  {
   "cell_type": "markdown",
   "id": "bb6b1c7b",
   "metadata": {},
   "source": [
    "- There are 1031 purchases in the loyalty program and 2265 that were not\n",
    "    - 31% of purchases were made by loyalty members\n",
    "- The means and medians for numerical data are still different but I took a more conservative stance on removing outliers\n",
    "- The statistical trends are similar for both groups, i.e. the min, max, 25%, 50%, 75% values are similar"
   ]
  },
  {
   "cell_type": "markdown",
   "id": "45dddfc4",
   "metadata": {},
   "source": [
    "### Visualize data related to the purchase prices"
   ]
  },
  {
   "cell_type": "markdown",
   "id": "81441d4c",
   "metadata": {},
   "source": [
    "[***3.d.2 plot histograms of the total purchase prices per membership***](#step3instructions)<a id=\"3d2\"></a>"
   ]
  },
  {
   "cell_type": "code",
   "execution_count": 78,
   "id": "3512bae2",
   "metadata": {},
   "outputs": [
    {
     "data": {
      "image/png": "[encoded data removed]",
      "text/plain": [
       "<Figure size 864x432 with 1 Axes>"
      ]
     },
     "metadata": {
      "needs_background": "light"
     },
     "output_type": "display_data"
    }
   ],
   "source": [
    "# groupby purhcase_id, calculate the total cost per purchase per membership status\n",
    "loyalty_members_purchase_prices = loyalty_members.groupby('purchase_id')['price_per_quantity'].sum()\n",
    "non_loyalty_members_purchase_prices = non_loyalty_members.groupby('purchase_id')['price_per_quantity'].sum()\n",
    "\n",
    "# plot histograms\n",
    "non_loyalty_members_purchase_prices.hist(alpha = 0.7, bins = 20, label = 'non-loyalty member', figsize = (12, 6))\n",
    "loyalty_members_purchase_prices.hist(alpha = 0.7, bins = 20, label = 'loyalty member')\n",
    "plt.title('distribution of total purchase price', size = 15)\n",
    "plt.xlabel('purchase price', size = 15)\n",
    "plt.ylabel('number of purchases', size = 15)\n",
    "plt.legend()\n",
    "plt.show()"
   ]
  },
  {
   "cell_type": "markdown",
   "id": "5e4cd9c7",
   "metadata": {},
   "source": [
    "- the total purchase price for both statuses follow the same trend, most puchases cost under 200 and the data is right skewed, suggesting there are still some outliers"
   ]
  },
  {
   "cell_type": "markdown",
   "id": "01e4766a",
   "metadata": {},
   "source": [
    "[***3.d.3 plot bar graphs of the total and average purchase prices per customer status***](#step3instructions)<a id=\"3d3\"></a>"
   ]
  },
  {
   "cell_type": "code",
   "execution_count": 79,
   "id": "d91d5511",
   "metadata": {},
   "outputs": [
    {
     "data": {
      "text/html": [
       "<div>\n",
       "<style scoped>\n",
       "    .dataframe tbody tr th:only-of-type {\n",
       "        vertical-align: middle;\n",
       "    }\n",
       "\n",
       "    .dataframe tbody tr th {\n",
       "        vertical-align: top;\n",
       "    }\n",
       "\n",
       "    .dataframe thead th {\n",
       "        text-align: right;\n",
       "    }\n",
       "</style>\n",
       "<table border=\"1\" class=\"dataframe\">\n",
       "  <thead>\n",
       "    <tr style=\"text-align: right;\">\n",
       "      <th></th>\n",
       "      <th>shop_id</th>\n",
       "      <th>non_loyalty_prices_total</th>\n",
       "      <th>loyalty_prices_total</th>\n",
       "      <th>non_loyalty_prices_avg</th>\n",
       "      <th>loyalty_prices_avg</th>\n",
       "    </tr>\n",
       "  </thead>\n",
       "  <tbody>\n",
       "    <tr>\n",
       "      <th>0</th>\n",
       "      <td>Shop 0</td>\n",
       "      <td>51380.37</td>\n",
       "      <td>6851.52</td>\n",
       "      <td>5.879434</td>\n",
       "      <td>12.664547</td>\n",
       "    </tr>\n",
       "    <tr>\n",
       "      <th>1</th>\n",
       "      <td>Shop 1</td>\n",
       "      <td>12122.21</td>\n",
       "      <td>5933.67</td>\n",
       "      <td>13.439257</td>\n",
       "      <td>9.493872</td>\n",
       "    </tr>\n",
       "    <tr>\n",
       "      <th>2</th>\n",
       "      <td>Shop 10</td>\n",
       "      <td>12322.17</td>\n",
       "      <td>4210.28</td>\n",
       "      <td>14.147153</td>\n",
       "      <td>11.409973</td>\n",
       "    </tr>\n",
       "    <tr>\n",
       "      <th>3</th>\n",
       "      <td>Shop 11</td>\n",
       "      <td>14348.86</td>\n",
       "      <td>7666.07</td>\n",
       "      <td>17.143202</td>\n",
       "      <td>12.207118</td>\n",
       "    </tr>\n",
       "    <tr>\n",
       "      <th>4</th>\n",
       "      <td>Shop 12</td>\n",
       "      <td>9762.80</td>\n",
       "      <td>5621.46</td>\n",
       "      <td>13.692567</td>\n",
       "      <td>15.879831</td>\n",
       "    </tr>\n",
       "  </tbody>\n",
       "</table>\n",
       "</div>"
      ],
      "text/plain": [
       "   shop_id  non_loyalty_prices_total  loyalty_prices_total  \\\n",
       "0   Shop 0                  51380.37               6851.52   \n",
       "1   Shop 1                  12122.21               5933.67   \n",
       "2  Shop 10                  12322.17               4210.28   \n",
       "3  Shop 11                  14348.86               7666.07   \n",
       "4  Shop 12                   9762.80               5621.46   \n",
       "\n",
       "   non_loyalty_prices_avg  loyalty_prices_avg  \n",
       "0                5.879434           12.664547  \n",
       "1               13.439257            9.493872  \n",
       "2               14.147153           11.409973  \n",
       "3               17.143202           12.207118  \n",
       "4               13.692567           15.879831  "
      ]
     },
     "execution_count": 79,
     "metadata": {},
     "output_type": "execute_result"
    }
   ],
   "source": [
    "# create a table of the total and average purchase prices per shop\n",
    "purchase_price_per_shop = purchases_processed.pivot_table(index = 'shop_id', columns = 'loyalty_program', \n",
    "                                 values = 'price_per_quantity', aggfunc = ['sum', 'mean']).reset_index()\n",
    "# rename columns\n",
    "purchase_price_per_shop.columns = ('shop_id', 'non_loyalty_prices_total', 'loyalty_prices_total',\n",
    "                                  'non_loyalty_prices_avg', 'loyalty_prices_avg')\n",
    "# review table\n",
    "purchase_price_per_shop.head()"
   ]
  },
  {
   "cell_type": "code",
   "execution_count": 80,
   "id": "b830c3bc",
   "metadata": {},
   "outputs": [
    {
     "data": {
      "image/png": "[encoded data removed]",
      "text/plain": [
       "<Figure size 864x432 with 1 Axes>"
      ]
     },
     "metadata": {
      "needs_background": "light"
     },
     "output_type": "display_data"
    }
   ],
   "source": [
    "# plot bar graphs of the total and mean purchase prices per customer status\n",
    "purchase_price_per_shop_graph = purchase_price_per_shop[['non_loyalty_prices_total', 'loyalty_prices_total']].agg(['sum', 'mean']).plot(kind = 'bar', figsize = (12, 6))\n",
    "plt.title('total and average purchase prices based on loyalty status', size = 15)\n",
    "plt.ylabel('purchase costs', size = 15)\n",
    "\n",
    "# label bars with data\n",
    "for bar in purchase_price_per_shop_graph.patches:\n",
    "    purchase_price_per_shop_graph.annotate(format(bar.get_height(), '.0f'), \n",
    "                xy=(bar.get_x() + bar.get_width() / 2, bar.get_height()), \n",
    "                ha = 'center', \n",
    "                va = 'center', \n",
    "                xytext = (0, 7), \n",
    "                textcoords = 'offset points')\n",
    "    \n",
    "plt.show()"
   ]
  },
  {
   "cell_type": "markdown",
   "id": "108c7629",
   "metadata": {},
   "source": [
    "- Non-loyalty members make higher priced purchases total and on average compared to loyalty members"
   ]
  },
  {
   "cell_type": "markdown",
   "id": "17fae950",
   "metadata": {},
   "source": [
    "<div class=\"alert alert-block alert-warning\">\n",
    "   <h2>Reviewer's commentary <a class=\"tocSkip\"> </h2>\n",
    "    <br/>\n",
    "<b>Remarks and recommendations📌:</b> For the above histogram you look at the total prices and conclude that non-loyalty members make higher priced purchases. But here you should be careful because it may be not because of higher priced purchases but simply because of the higher number of customers that are not in the loyalty program (which is indeed the case). It is better to work with means/medians when you compare groups.\n",
    "</div>"
   ]
  },
  {
   "cell_type": "markdown",
   "id": "feeb08c0",
   "metadata": {},
   "source": [
    "[***3.d.4 plot bar graphs of total purchase prices per membership per shop***](#step3instructions)<a id=\"3d4\"></a>"
   ]
  },
  {
   "cell_type": "code",
   "execution_count": 81,
   "id": "d5719307",
   "metadata": {},
   "outputs": [
    {
     "data": {
      "image/png": "[encoded data removed]",
      "text/plain": [
       "<Figure size 864x432 with 1 Axes>"
      ]
     },
     "metadata": {
      "needs_background": "light"
     },
     "output_type": "display_data"
    }
   ],
   "source": [
    "# plot bar graph of total purchase prices per shop based on loyalty status\n",
    "purchase_price_per_shop[['non_loyalty_prices_total', 'loyalty_prices_total']].plot(kind = 'bar', figsize = (12, 6))\n",
    "plt.title('total purchase prices per shop', size = 15)\n",
    "plt.xlabel('shop id', size = 15)\n",
    "plt.ylabel('total price of purchases', size = 15)\n",
    "plt.show()"
   ]
  },
  {
   "cell_type": "markdown",
   "id": "0194b9c6",
   "metadata": {},
   "source": [
    "- non-loyalty members make larger priced purchases compared to loyalty members"
   ]
  },
  {
   "cell_type": "markdown",
   "id": "62b7ec43",
   "metadata": {},
   "source": [
    "[***3.d.5 plot bar graphs of average purchase prices per membership per shop***](#step3instructions)<a id=\"3d5\"></a>"
   ]
  },
  {
   "cell_type": "code",
   "execution_count": 82,
   "id": "f631ae86",
   "metadata": {},
   "outputs": [
    {
     "data": {
      "image/png": "[encoded data removed]",
      "text/plain": [
       "<Figure size 864x432 with 1 Axes>"
      ]
     },
     "metadata": {
      "needs_background": "light"
     },
     "output_type": "display_data"
    }
   ],
   "source": [
    "# plot bar graph of average purchase prices per shop based on loyalty status\n",
    "purchase_price_per_shop[['non_loyalty_prices_avg', 'loyalty_prices_avg']].plot(kind = 'bar', figsize = (12, 6))\n",
    "plt.title('average purchase prices per shop', size = 15)\n",
    "plt.xlabel('shop id', size = 15)\n",
    "plt.ylabel('average purchase price', size = 15)\n",
    "plt.show()"
   ]
  },
  {
   "cell_type": "markdown",
   "id": "4bf5000c",
   "metadata": {},
   "source": [
    "- For the majority of shops, non-loyalty customers on average make larger priced purchases"
   ]
  },
  {
   "cell_type": "markdown",
   "id": "ac408e42",
   "metadata": {},
   "source": [
    "[***3.d.6 plot bar graphs of the total and average purchase prices per day per customer status***](#step3instructions)<a id=\"3d6\"></a>"
   ]
  },
  {
   "cell_type": "code",
   "execution_count": 83,
   "id": "072e6567",
   "metadata": {},
   "outputs": [
    {
     "data": {
      "text/html": [
       "<div>\n",
       "<style scoped>\n",
       "    .dataframe tbody tr th:only-of-type {\n",
       "        vertical-align: middle;\n",
       "    }\n",
       "\n",
       "    .dataframe tbody tr th {\n",
       "        vertical-align: top;\n",
       "    }\n",
       "\n",
       "    .dataframe thead th {\n",
       "        text-align: right;\n",
       "    }\n",
       "</style>\n",
       "<table border=\"1\" class=\"dataframe\">\n",
       "  <thead>\n",
       "    <tr style=\"text-align: right;\">\n",
       "      <th></th>\n",
       "      <th>purchase_date</th>\n",
       "      <th>non_loyalty_prices_total</th>\n",
       "      <th>loyalty_prices_total</th>\n",
       "      <th>non_loyalty_prices_avg</th>\n",
       "      <th>loyalty_prices_avg</th>\n",
       "    </tr>\n",
       "  </thead>\n",
       "  <tbody>\n",
       "    <tr>\n",
       "      <th>0</th>\n",
       "      <td>2016-12-01</td>\n",
       "      <td>12577.80</td>\n",
       "      <td>4749.27</td>\n",
       "      <td>14.260544</td>\n",
       "      <td>13.530684</td>\n",
       "    </tr>\n",
       "    <tr>\n",
       "      <th>1</th>\n",
       "      <td>2016-12-02</td>\n",
       "      <td>10539.45</td>\n",
       "      <td>7332.67</td>\n",
       "      <td>16.017401</td>\n",
       "      <td>14.128459</td>\n",
       "    </tr>\n",
       "    <tr>\n",
       "      <th>2</th>\n",
       "      <td>2016-12-03</td>\n",
       "      <td>6493.60</td>\n",
       "      <td>2814.85</td>\n",
       "      <td>16.481218</td>\n",
       "      <td>14.972606</td>\n",
       "    </tr>\n",
       "    <tr>\n",
       "      <th>3</th>\n",
       "      <td>2016-12-05</td>\n",
       "      <td>8686.41</td>\n",
       "      <td>2929.68</td>\n",
       "      <td>10.207297</td>\n",
       "      <td>7.750476</td>\n",
       "    </tr>\n",
       "    <tr>\n",
       "      <th>4</th>\n",
       "      <td>2016-12-06</td>\n",
       "      <td>7147.47</td>\n",
       "      <td>4887.65</td>\n",
       "      <td>12.948315</td>\n",
       "      <td>9.345411</td>\n",
       "    </tr>\n",
       "  </tbody>\n",
       "</table>\n",
       "</div>"
      ],
      "text/plain": [
       "  purchase_date  non_loyalty_prices_total  loyalty_prices_total  \\\n",
       "0    2016-12-01                  12577.80               4749.27   \n",
       "1    2016-12-02                  10539.45               7332.67   \n",
       "2    2016-12-03                   6493.60               2814.85   \n",
       "3    2016-12-05                   8686.41               2929.68   \n",
       "4    2016-12-06                   7147.47               4887.65   \n",
       "\n",
       "   non_loyalty_prices_avg  loyalty_prices_avg  \n",
       "0               14.260544           13.530684  \n",
       "1               16.017401           14.128459  \n",
       "2               16.481218           14.972606  \n",
       "3               10.207297            7.750476  \n",
       "4               12.948315            9.345411  "
      ]
     },
     "execution_count": 83,
     "metadata": {},
     "output_type": "execute_result"
    }
   ],
   "source": [
    "# create a table of the total and average purchase prices per date\n",
    "purchase_price_per_date = purchases_processed.pivot_table(index = 'purchase_date', columns = 'loyalty_program', \n",
    "                                 values = 'price_per_quantity', aggfunc = ['sum', 'mean'], fill_value = 0).reset_index()\n",
    "# rename columns\n",
    "purchase_price_per_date.columns = ('purchase_date', 'non_loyalty_prices_total', 'loyalty_prices_total',\n",
    "                                  'non_loyalty_prices_avg', 'loyalty_prices_avg')\n",
    "# review table\n",
    "purchase_price_per_date.head()"
   ]
  },
  {
   "cell_type": "code",
   "execution_count": 84,
   "id": "e014cea0",
   "metadata": {},
   "outputs": [
    {
     "data": {
      "image/png": "[encoded data removed]",
      "text/plain": [
       "<Figure size 1800x864 with 1 Axes>"
      ]
     },
     "metadata": {
      "needs_background": "light"
     },
     "output_type": "display_data"
    }
   ],
   "source": [
    "# graph the total purchase price per date per customer status\n",
    "total_price_per_date_graph = purchase_price_per_date[['non_loyalty_prices_total', 'loyalty_prices_total']].plot(kind = 'bar', figsize = (25, 12))\n",
    "plt.title('total purchase price per date based on loyalty status', size = 15)\n",
    "plt.xlabel('date', size = 15)\n",
    "plt.ylabel('purchse price', size = 15)\n",
    "total_price_per_date_graph.set_xticklabels(purchase_price_per_date['purchase_date'], rotation = 90)\n",
    "plt.show()"
   ]
  },
  {
   "cell_type": "code",
   "execution_count": 85,
   "id": "e95ee2ef",
   "metadata": {},
   "outputs": [
    {
     "data": {
      "image/png": "[encoded data removed]",
      "text/plain": [
       "<Figure size 1800x864 with 1 Axes>"
      ]
     },
     "metadata": {
      "needs_background": "light"
     },
     "output_type": "display_data"
    }
   ],
   "source": [
    "# graph the average purchase price per date per customer status\n",
    "average_price_per_date_graph = purchase_price_per_date[['non_loyalty_prices_avg', 'loyalty_prices_avg']].plot(kind = 'bar', figsize = (25, 12))\n",
    "plt.title('average purchase price per date based on loyalty status', size = 15)\n",
    "plt.xlabel('date', size = 15)\n",
    "plt.ylabel('average purchse price', size = 15)\n",
    "average_price_per_date_graph.set_xticklabels(purchase_price_per_date['purchase_date'], rotation = 90)\n",
    "plt.show()"
   ]
  },
  {
   "cell_type": "markdown",
   "id": "04da0198",
   "metadata": {},
   "source": [
    "- non-loyalty members make larger purchases total per day\n",
    "- however on average the purchase price per day varies day to day based on loyalty status, some days loyalty members make larger purchases on average, sometimes the non-loyalty members make larger purchases on average"
   ]
  },
  {
   "cell_type": "markdown",
   "id": "97278eb8",
   "metadata": {},
   "source": [
    "### Visualize data related to the purchased items"
   ]
  },
  {
   "cell_type": "markdown",
   "id": "23906a03",
   "metadata": {},
   "source": [
    "[***3.d.7 plot histograms of the number of items purchased per membership***](#step3instructions)<a id=\"3d7\"></a>"
   ]
  },
  {
   "cell_type": "code",
   "execution_count": 86,
   "id": "f0cd0195",
   "metadata": {
    "scrolled": false
   },
   "outputs": [
    {
     "data": {
      "image/png": "[encoded data removed]",
      "text/plain": [
       "<Figure size 864x432 with 1 Axes>"
      ]
     },
     "metadata": {
      "needs_background": "light"
     },
     "output_type": "display_data"
    }
   ],
   "source": [
    "# groupby purhcase_id, calculate the total number of items per purchase per membership status\n",
    "loyalty_members_purchase_quantity = loyalty_members.groupby('purchase_id')['quantity'].sum()\n",
    "non_loyalty_members_purchase_quantity = non_loyalty_members.groupby('purchase_id')['quantity'].sum()\n",
    "\n",
    "# plot histograms\n",
    "non_loyalty_members_purchase_quantity.hist(alpha = 0.7, bins = 20, label = 'non-loyalty member', figsize = (12, 6))\n",
    "loyalty_members_purchase_quantity.hist(alpha = 0.7, bins = 20, label = 'loyalty member')\n",
    "plt.title('distribution of number of items per purchase', size = 15)\n",
    "plt.xlabel('purchase quantity', size = 15)\n",
    "plt.ylabel('number of purchases', size = 15)\n",
    "plt.legend()\n",
    "plt.show()"
   ]
  },
  {
   "cell_type": "markdown",
   "id": "ec342d60",
   "metadata": {},
   "source": [
    "- the number of items per purchase for both statuses follow the same trend, most puchases have 200 or less items and the data is right skewed, suggesting there are still some outliers"
   ]
  },
  {
   "cell_type": "markdown",
   "id": "d1545ba9",
   "metadata": {},
   "source": [
    "[***3.d.8 plot bar graphs of the total and average number of items purchased per customer status***](#step3instructions)<a id=\"3d8\"></a>"
   ]
  },
  {
   "cell_type": "code",
   "execution_count": 87,
   "id": "aaf2e3bb",
   "metadata": {},
   "outputs": [
    {
     "data": {
      "text/html": [
       "<div>\n",
       "<style scoped>\n",
       "    .dataframe tbody tr th:only-of-type {\n",
       "        vertical-align: middle;\n",
       "    }\n",
       "\n",
       "    .dataframe tbody tr th {\n",
       "        vertical-align: top;\n",
       "    }\n",
       "\n",
       "    .dataframe thead th {\n",
       "        text-align: right;\n",
       "    }\n",
       "</style>\n",
       "<table border=\"1\" class=\"dataframe\">\n",
       "  <thead>\n",
       "    <tr style=\"text-align: right;\">\n",
       "      <th></th>\n",
       "      <th>shop_id</th>\n",
       "      <th>non_loyalty_quantity</th>\n",
       "      <th>loyalty_quantity</th>\n",
       "      <th>avg_non_loyalty_quantity</th>\n",
       "      <th>avg_loyalty_quantity</th>\n",
       "    </tr>\n",
       "  </thead>\n",
       "  <tbody>\n",
       "    <tr>\n",
       "      <th>0</th>\n",
       "      <td>Shop 0</td>\n",
       "      <td>36281</td>\n",
       "      <td>4633</td>\n",
       "      <td>4.151619</td>\n",
       "      <td>8.563771</td>\n",
       "    </tr>\n",
       "    <tr>\n",
       "      <th>1</th>\n",
       "      <td>Shop 1</td>\n",
       "      <td>10084</td>\n",
       "      <td>4908</td>\n",
       "      <td>11.179601</td>\n",
       "      <td>7.852800</td>\n",
       "    </tr>\n",
       "    <tr>\n",
       "      <th>2</th>\n",
       "      <td>Shop 10</td>\n",
       "      <td>9094</td>\n",
       "      <td>2730</td>\n",
       "      <td>10.440873</td>\n",
       "      <td>7.398374</td>\n",
       "    </tr>\n",
       "    <tr>\n",
       "      <th>3</th>\n",
       "      <td>Shop 11</td>\n",
       "      <td>9856</td>\n",
       "      <td>5573</td>\n",
       "      <td>11.775388</td>\n",
       "      <td>8.874204</td>\n",
       "    </tr>\n",
       "    <tr>\n",
       "      <th>4</th>\n",
       "      <td>Shop 12</td>\n",
       "      <td>8172</td>\n",
       "      <td>3798</td>\n",
       "      <td>11.461431</td>\n",
       "      <td>10.728814</td>\n",
       "    </tr>\n",
       "  </tbody>\n",
       "</table>\n",
       "</div>"
      ],
      "text/plain": [
       "   shop_id  non_loyalty_quantity  loyalty_quantity  avg_non_loyalty_quantity  \\\n",
       "0   Shop 0                 36281              4633                  4.151619   \n",
       "1   Shop 1                 10084              4908                 11.179601   \n",
       "2  Shop 10                  9094              2730                 10.440873   \n",
       "3  Shop 11                  9856              5573                 11.775388   \n",
       "4  Shop 12                  8172              3798                 11.461431   \n",
       "\n",
       "   avg_loyalty_quantity  \n",
       "0              8.563771  \n",
       "1              7.852800  \n",
       "2              7.398374  \n",
       "3              8.874204  \n",
       "4             10.728814  "
      ]
     },
     "execution_count": 87,
     "metadata": {},
     "output_type": "execute_result"
    }
   ],
   "source": [
    "# create a table to get the quantity of items purchased per store\n",
    "quantity_per_shop = purchases_processed.pivot_table(index = 'shop_id', columns = 'loyalty_program', \n",
    "                                                  values = 'quantity', aggfunc = ['sum', 'mean']).reset_index()\n",
    "quantity_per_shop.columns = ('shop_id', 'non_loyalty_quantity', 'loyalty_quantity', \n",
    "                             'avg_non_loyalty_quantity', 'avg_loyalty_quantity')\n",
    "quantity_per_shop.head()"
   ]
  },
  {
   "cell_type": "code",
   "execution_count": 88,
   "id": "a7a19a2d",
   "metadata": {},
   "outputs": [
    {
     "data": {
      "image/png": "[encoded data removed]",
      "text/plain": [
       "<Figure size 864x432 with 1 Axes>"
      ]
     },
     "metadata": {
      "needs_background": "light"
     },
     "output_type": "display_data"
    }
   ],
   "source": [
    "# plot bar graphs of the total and average number of items purchased per customer status\n",
    "quantity_per_shop_graph = quantity_per_shop[['non_loyalty_quantity', 'loyalty_quantity']].agg(['sum', 'mean']).plot(kind = 'bar', figsize = (12, 6))\n",
    "plt.title('total and average number of items purchased based on loyalty status', size = 15)\n",
    "plt.ylabel('number of items', size = 15)\n",
    "\n",
    "# label bars with data\n",
    "for bar in quantity_per_shop_graph.patches:\n",
    "    quantity_per_shop_graph.annotate(format(bar.get_height(), '.0f'), \n",
    "                xy=(bar.get_x() + bar.get_width() / 2, bar.get_height()), \n",
    "                ha = 'center', \n",
    "                va = 'center', \n",
    "                xytext = (0, 7), \n",
    "                textcoords = 'offset points')\n",
    "    \n",
    "plt.show()"
   ]
  },
  {
   "cell_type": "markdown",
   "id": "1aeca1cc",
   "metadata": {},
   "source": [
    "- Non-loyalty members purchase more items total and on average compared to loyalty members"
   ]
  },
  {
   "cell_type": "markdown",
   "id": "e65029ec",
   "metadata": {},
   "source": [
    "[***3.d.9 plot bar graph of number of items purchased per store based on customer status***](#step3instructions)<a id=\"3d9\"></a>"
   ]
  },
  {
   "cell_type": "code",
   "execution_count": 89,
   "id": "1d0c32b7",
   "metadata": {},
   "outputs": [
    {
     "data": {
      "image/png": "[encoded data removed]",
      "text/plain": [
       "<Figure size 864x432 with 1 Axes>"
      ]
     },
     "metadata": {
      "needs_background": "light"
     },
     "output_type": "display_data"
    }
   ],
   "source": [
    "# plot bar graph of number of items purchased per shop based on customer status\n",
    "quantity_per_shop[['non_loyalty_quantity', 'loyalty_quantity']].plot(kind = 'bar', figsize = (12, 6))\n",
    "plt.title('number of items purchased per shop based on loyalty status', size = 15)\n",
    "plt.xlabel('shop id', size = 15)\n",
    "plt.ylabel('number of items', size = 15)\n",
    "plt.show()"
   ]
  },
  {
   "cell_type": "markdown",
   "id": "db6a87e5",
   "metadata": {},
   "source": [
    "- Non-loyalty members purchase more items per store compared to loyalty members"
   ]
  },
  {
   "cell_type": "markdown",
   "id": "60448dbd",
   "metadata": {},
   "source": [
    "[***3.d.10 plot bar graph of the average number of items purchased per store based on customer status***](#step3instructions)<a id=\"3d10\"></a>"
   ]
  },
  {
   "cell_type": "code",
   "execution_count": 90,
   "id": "4673e0ea",
   "metadata": {},
   "outputs": [
    {
     "data": {
      "image/png": "[encoded data removed]",
      "text/plain": [
       "<Figure size 864x432 with 1 Axes>"
      ]
     },
     "metadata": {
      "needs_background": "light"
     },
     "output_type": "display_data"
    }
   ],
   "source": [
    "# plot bar graph of average number of items purchased per shop based on customer status\n",
    "quantity_per_shop[['avg_non_loyalty_quantity', 'avg_loyalty_quantity']].plot(kind = 'bar', figsize = (12, 6))\n",
    "plt.title('average number of items purchased per shop based on loyalty status', size = 15)\n",
    "plt.xlabel('shop id', size = 15)\n",
    "plt.ylabel('average number of items', size = 15)\n",
    "plt.show()"
   ]
  },
  {
   "cell_type": "markdown",
   "id": "73c76e34",
   "metadata": {},
   "source": [
    "- On average non-loyalty members purchase more items compared to loyalty members"
   ]
  },
  {
   "cell_type": "markdown",
   "id": "e7ff6345",
   "metadata": {},
   "source": [
    "[***3.d.11 plot bar graphs of the total and average number of items purchased per date per customer status***](#step3instructions)<a id=\"3d11\"></a>"
   ]
  },
  {
   "cell_type": "code",
   "execution_count": 91,
   "id": "3ddf4978",
   "metadata": {},
   "outputs": [
    {
     "data": {
      "text/html": [
       "<div>\n",
       "<style scoped>\n",
       "    .dataframe tbody tr th:only-of-type {\n",
       "        vertical-align: middle;\n",
       "    }\n",
       "\n",
       "    .dataframe tbody tr th {\n",
       "        vertical-align: top;\n",
       "    }\n",
       "\n",
       "    .dataframe thead th {\n",
       "        text-align: right;\n",
       "    }\n",
       "</style>\n",
       "<table border=\"1\" class=\"dataframe\">\n",
       "  <thead>\n",
       "    <tr style=\"text-align: right;\">\n",
       "      <th></th>\n",
       "      <th>purchase_date</th>\n",
       "      <th>non_loyalty_items_total</th>\n",
       "      <th>loyalty_items_total</th>\n",
       "      <th>non_loyalty_items_avg</th>\n",
       "      <th>loyalty_items_avg</th>\n",
       "    </tr>\n",
       "  </thead>\n",
       "  <tbody>\n",
       "    <tr>\n",
       "      <th>0</th>\n",
       "      <td>2016-12-01</td>\n",
       "      <td>8065</td>\n",
       "      <td>2873</td>\n",
       "      <td>9.143991</td>\n",
       "      <td>8.185185</td>\n",
       "    </tr>\n",
       "    <tr>\n",
       "      <th>1</th>\n",
       "      <td>2016-12-02</td>\n",
       "      <td>7695</td>\n",
       "      <td>4324</td>\n",
       "      <td>11.694529</td>\n",
       "      <td>8.331407</td>\n",
       "    </tr>\n",
       "    <tr>\n",
       "      <th>2</th>\n",
       "      <td>2016-12-03</td>\n",
       "      <td>3992</td>\n",
       "      <td>1584</td>\n",
       "      <td>10.131980</td>\n",
       "      <td>8.425532</td>\n",
       "    </tr>\n",
       "    <tr>\n",
       "      <th>3</th>\n",
       "      <td>2016-12-05</td>\n",
       "      <td>5872</td>\n",
       "      <td>2105</td>\n",
       "      <td>6.900118</td>\n",
       "      <td>5.568783</td>\n",
       "    </tr>\n",
       "    <tr>\n",
       "      <th>4</th>\n",
       "      <td>2016-12-06</td>\n",
       "      <td>5246</td>\n",
       "      <td>3833</td>\n",
       "      <td>9.503623</td>\n",
       "      <td>7.328872</td>\n",
       "    </tr>\n",
       "  </tbody>\n",
       "</table>\n",
       "</div>"
      ],
      "text/plain": [
       "  purchase_date  non_loyalty_items_total  loyalty_items_total  \\\n",
       "0    2016-12-01                     8065                 2873   \n",
       "1    2016-12-02                     7695                 4324   \n",
       "2    2016-12-03                     3992                 1584   \n",
       "3    2016-12-05                     5872                 2105   \n",
       "4    2016-12-06                     5246                 3833   \n",
       "\n",
       "   non_loyalty_items_avg  loyalty_items_avg  \n",
       "0               9.143991           8.185185  \n",
       "1              11.694529           8.331407  \n",
       "2              10.131980           8.425532  \n",
       "3               6.900118           5.568783  \n",
       "4               9.503623           7.328872  "
      ]
     },
     "execution_count": 91,
     "metadata": {},
     "output_type": "execute_result"
    }
   ],
   "source": [
    "# create a table of the total and average number of items purchased per date\n",
    "num_items_per_date = purchases_processed.pivot_table(index = 'purchase_date', columns = 'loyalty_program', \n",
    "                                 values = 'quantity', aggfunc = ['sum', 'mean'], fill_value = 0).reset_index()\n",
    "# rename columns\n",
    "num_items_per_date.columns = ('purchase_date', 'non_loyalty_items_total', 'loyalty_items_total',\n",
    "                                  'non_loyalty_items_avg', 'loyalty_items_avg')\n",
    "# review table\n",
    "num_items_per_date.head()"
   ]
  },
  {
   "cell_type": "code",
   "execution_count": 92,
   "id": "15cf6e15",
   "metadata": {},
   "outputs": [
    {
     "data": {
      "image/png": "[encoded data removed]",
      "text/plain": [
       "<Figure size 1800x864 with 1 Axes>"
      ]
     },
     "metadata": {
      "needs_background": "light"
     },
     "output_type": "display_data"
    }
   ],
   "source": [
    "# plot graph of total number of items purchased per date per customer status\n",
    "total_items_per_date_graph = num_items_per_date[['non_loyalty_items_total', 'loyalty_items_total']].plot(kind = 'bar', figsize = (25, 12))\n",
    "plt.title('total number of items purchased per date based on loyalty status', size = 15)\n",
    "plt.xlabel('date', size = 15)\n",
    "plt.ylabel('number of items purchased', size = 15)\n",
    "total_items_per_date_graph.set_xticklabels(num_items_per_date['purchase_date'], rotation = 90)\n",
    "plt.show()"
   ]
  },
  {
   "cell_type": "code",
   "execution_count": 93,
   "id": "e4b958ab",
   "metadata": {},
   "outputs": [
    {
     "data": {
      "image/png": "[encoded data removed]",
      "text/plain": [
       "<Figure size 1800x864 with 1 Axes>"
      ]
     },
     "metadata": {
      "needs_background": "light"
     },
     "output_type": "display_data"
    }
   ],
   "source": [
    "# plot graph of average number of items purchased per date per customer status\n",
    "average_items_per_date_graph = num_items_per_date[['non_loyalty_items_avg', 'loyalty_items_avg']].plot(kind = 'bar', figsize = (25, 12))\n",
    "plt.title('average number items purchased per date based on loyalty status', size = 15)\n",
    "plt.xlabel('date', size = 15)\n",
    "plt.ylabel('average number of items purchased', size = 15)\n",
    "average_items_per_date_graph.set_xticklabels(num_items_per_date['purchase_date'], \n",
    "                                           rotation = 90)\n",
    "plt.show()"
   ]
  },
  {
   "cell_type": "markdown",
   "id": "47727109",
   "metadata": {},
   "source": [
    "- non-loyalty members purchase more items total per day\n",
    "- however on average the number of items purchased per day varies day to day based on loyalty status, some days loyalty members purchase more items on average, sometimes the non-loyalty members purchase more itesm on average"
   ]
  },
  {
   "cell_type": "markdown",
   "id": "2998c9bb",
   "metadata": {},
   "source": [
    "[***3.d.12 plot bar graphs of the total and average number of purchases per customer status***](#step3instructions)<a id=\"3d12\"></a>"
   ]
  },
  {
   "cell_type": "code",
   "execution_count": 94,
   "id": "f7aec2ef",
   "metadata": {},
   "outputs": [
    {
     "data": {
      "text/html": [
       "<div>\n",
       "<style scoped>\n",
       "    .dataframe tbody tr th:only-of-type {\n",
       "        vertical-align: middle;\n",
       "    }\n",
       "\n",
       "    .dataframe tbody tr th {\n",
       "        vertical-align: top;\n",
       "    }\n",
       "\n",
       "    .dataframe thead th {\n",
       "        text-align: right;\n",
       "    }\n",
       "</style>\n",
       "<table border=\"1\" class=\"dataframe\">\n",
       "  <thead>\n",
       "    <tr style=\"text-align: right;\">\n",
       "      <th></th>\n",
       "      <th>purchase_id</th>\n",
       "      <th>item_id</th>\n",
       "      <th>quantity</th>\n",
       "      <th>purchase_datetime</th>\n",
       "      <th>customer_id</th>\n",
       "      <th>loyalty_program</th>\n",
       "      <th>shop_id</th>\n",
       "      <th>purchase_date</th>\n",
       "      <th>price_per_one</th>\n",
       "      <th>price_per_quantity</th>\n",
       "    </tr>\n",
       "  </thead>\n",
       "  <tbody>\n",
       "    <tr>\n",
       "      <th>0</th>\n",
       "      <td>538280</td>\n",
       "      <td>21873</td>\n",
       "      <td>11</td>\n",
       "      <td>2016-12-10 12:50:00</td>\n",
       "      <td>18427.0</td>\n",
       "      <td>0</td>\n",
       "      <td>Shop 3</td>\n",
       "      <td>2016-12-10</td>\n",
       "      <td>0.42</td>\n",
       "      <td>4.62</td>\n",
       "    </tr>\n",
       "    <tr>\n",
       "      <th>2</th>\n",
       "      <td>540418</td>\n",
       "      <td>21873</td>\n",
       "      <td>1</td>\n",
       "      <td>2017-01-07 11:04:00</td>\n",
       "      <td>0.0</td>\n",
       "      <td>0</td>\n",
       "      <td>Shop 0</td>\n",
       "      <td>2017-01-07</td>\n",
       "      <td>0.42</td>\n",
       "      <td>0.42</td>\n",
       "    </tr>\n",
       "  </tbody>\n",
       "</table>\n",
       "</div>"
      ],
      "text/plain": [
       "  purchase_id item_id  quantity   purchase_datetime customer_id  \\\n",
       "0      538280   21873        11 2016-12-10 12:50:00     18427.0   \n",
       "2      540418   21873         1 2017-01-07 11:04:00         0.0   \n",
       "\n",
       "   loyalty_program shop_id purchase_date  price_per_one  price_per_quantity  \n",
       "0                0  Shop 3    2016-12-10           0.42                4.62  \n",
       "2                0  Shop 0    2017-01-07           0.42                0.42  "
      ]
     },
     "execution_count": 94,
     "metadata": {},
     "output_type": "execute_result"
    }
   ],
   "source": [
    "# review data\n",
    "purchases_processed.head(2)"
   ]
  },
  {
   "cell_type": "code",
   "execution_count": 95,
   "id": "1a8c70af",
   "metadata": {},
   "outputs": [
    {
     "data": {
      "text/html": [
       "<div>\n",
       "<style scoped>\n",
       "    .dataframe tbody tr th:only-of-type {\n",
       "        vertical-align: middle;\n",
       "    }\n",
       "\n",
       "    .dataframe tbody tr th {\n",
       "        vertical-align: top;\n",
       "    }\n",
       "\n",
       "    .dataframe thead th {\n",
       "        text-align: right;\n",
       "    }\n",
       "</style>\n",
       "<table border=\"1\" class=\"dataframe\">\n",
       "  <thead>\n",
       "    <tr style=\"text-align: right;\">\n",
       "      <th></th>\n",
       "      <th>shop_id</th>\n",
       "      <th>loyalty_purchases</th>\n",
       "    </tr>\n",
       "  </thead>\n",
       "  <tbody>\n",
       "    <tr>\n",
       "      <th>0</th>\n",
       "      <td>Shop 0</td>\n",
       "      <td>34</td>\n",
       "    </tr>\n",
       "    <tr>\n",
       "      <th>1</th>\n",
       "      <td>Shop 1</td>\n",
       "      <td>34</td>\n",
       "    </tr>\n",
       "    <tr>\n",
       "      <th>2</th>\n",
       "      <td>Shop 10</td>\n",
       "      <td>31</td>\n",
       "    </tr>\n",
       "    <tr>\n",
       "      <th>3</th>\n",
       "      <td>Shop 11</td>\n",
       "      <td>42</td>\n",
       "    </tr>\n",
       "    <tr>\n",
       "      <th>4</th>\n",
       "      <td>Shop 12</td>\n",
       "      <td>30</td>\n",
       "    </tr>\n",
       "  </tbody>\n",
       "</table>\n",
       "</div>"
      ],
      "text/plain": [
       "   shop_id  loyalty_purchases\n",
       "0   Shop 0                 34\n",
       "1   Shop 1                 34\n",
       "2  Shop 10                 31\n",
       "3  Shop 11                 42\n",
       "4  Shop 12                 30"
      ]
     },
     "metadata": {},
     "output_type": "display_data"
    },
    {
     "data": {
      "text/html": [
       "<div>\n",
       "<style scoped>\n",
       "    .dataframe tbody tr th:only-of-type {\n",
       "        vertical-align: middle;\n",
       "    }\n",
       "\n",
       "    .dataframe tbody tr th {\n",
       "        vertical-align: top;\n",
       "    }\n",
       "\n",
       "    .dataframe thead th {\n",
       "        text-align: right;\n",
       "    }\n",
       "</style>\n",
       "<table border=\"1\" class=\"dataframe\">\n",
       "  <thead>\n",
       "    <tr style=\"text-align: right;\">\n",
       "      <th></th>\n",
       "      <th>shop_id</th>\n",
       "      <th>non_loyalty_purchases</th>\n",
       "    </tr>\n",
       "  </thead>\n",
       "  <tbody>\n",
       "    <tr>\n",
       "      <th>0</th>\n",
       "      <td>Shop 0</td>\n",
       "      <td>316</td>\n",
       "    </tr>\n",
       "    <tr>\n",
       "      <th>1</th>\n",
       "      <td>Shop 1</td>\n",
       "      <td>76</td>\n",
       "    </tr>\n",
       "    <tr>\n",
       "      <th>2</th>\n",
       "      <td>Shop 10</td>\n",
       "      <td>61</td>\n",
       "    </tr>\n",
       "    <tr>\n",
       "      <th>3</th>\n",
       "      <td>Shop 11</td>\n",
       "      <td>71</td>\n",
       "    </tr>\n",
       "    <tr>\n",
       "      <th>4</th>\n",
       "      <td>Shop 12</td>\n",
       "      <td>58</td>\n",
       "    </tr>\n",
       "  </tbody>\n",
       "</table>\n",
       "</div>"
      ],
      "text/plain": [
       "   shop_id  non_loyalty_purchases\n",
       "0   Shop 0                    316\n",
       "1   Shop 1                     76\n",
       "2  Shop 10                     61\n",
       "3  Shop 11                     71\n",
       "4  Shop 12                     58"
      ]
     },
     "metadata": {},
     "output_type": "display_data"
    }
   ],
   "source": [
    "# create queries of membership status\n",
    "loyalty_query = purchases_processed.query('loyalty_program == 1')\n",
    "non_loyalty_query = purchases_processed.query('loyalty_program == 0')\n",
    "\n",
    "# create tables with number of purchases per shop based on queries\n",
    "loyalty_purchases_per_shop = loyalty_query.groupby('shop_id')['purchase_id'].nunique().reset_index()\n",
    "# rename columns\n",
    "loyalty_purchases_per_shop.columns = ('shop_id', 'loyalty_purchases')\n",
    "# review table\n",
    "display(loyalty_purchases_per_shop.head())\n",
    "\n",
    "# create tables with number of purchases per shop based on queries\n",
    "non_loyalty_purchases_per_shop = non_loyalty_query.groupby('shop_id')['purchase_id'].nunique().reset_index()\n",
    "# rename columns\n",
    "non_loyalty_purchases_per_shop.columns = ('shop_id', 'non_loyalty_purchases')\n",
    "# review table\n",
    "display(non_loyalty_purchases_per_shop.head())"
   ]
  },
  {
   "cell_type": "code",
   "execution_count": 96,
   "id": "bef1b02f",
   "metadata": {},
   "outputs": [],
   "source": [
    "# merge the tables\n",
    "purchases_per_shop = pd.merge(non_loyalty_purchases_per_shop, \n",
    "                              loyalty_purchases_per_shop, \n",
    "                              on = 'shop_id')"
   ]
  },
  {
   "cell_type": "code",
   "execution_count": 97,
   "id": "d6256400",
   "metadata": {},
   "outputs": [
    {
     "data": {
      "text/html": [
       "<div>\n",
       "<style scoped>\n",
       "    .dataframe tbody tr th:only-of-type {\n",
       "        vertical-align: middle;\n",
       "    }\n",
       "\n",
       "    .dataframe tbody tr th {\n",
       "        vertical-align: top;\n",
       "    }\n",
       "\n",
       "    .dataframe thead th {\n",
       "        text-align: right;\n",
       "    }\n",
       "</style>\n",
       "<table border=\"1\" class=\"dataframe\">\n",
       "  <thead>\n",
       "    <tr style=\"text-align: right;\">\n",
       "      <th></th>\n",
       "      <th>shop_id</th>\n",
       "      <th>non_loyalty_purchases</th>\n",
       "      <th>loyalty_purchases</th>\n",
       "    </tr>\n",
       "  </thead>\n",
       "  <tbody>\n",
       "    <tr>\n",
       "      <th>0</th>\n",
       "      <td>Shop 0</td>\n",
       "      <td>316</td>\n",
       "      <td>34</td>\n",
       "    </tr>\n",
       "    <tr>\n",
       "      <th>1</th>\n",
       "      <td>Shop 1</td>\n",
       "      <td>76</td>\n",
       "      <td>34</td>\n",
       "    </tr>\n",
       "    <tr>\n",
       "      <th>2</th>\n",
       "      <td>Shop 10</td>\n",
       "      <td>61</td>\n",
       "      <td>31</td>\n",
       "    </tr>\n",
       "    <tr>\n",
       "      <th>3</th>\n",
       "      <td>Shop 11</td>\n",
       "      <td>71</td>\n",
       "      <td>42</td>\n",
       "    </tr>\n",
       "    <tr>\n",
       "      <th>4</th>\n",
       "      <td>Shop 12</td>\n",
       "      <td>58</td>\n",
       "      <td>30</td>\n",
       "    </tr>\n",
       "  </tbody>\n",
       "</table>\n",
       "</div>"
      ],
      "text/plain": [
       "   shop_id  non_loyalty_purchases  loyalty_purchases\n",
       "0   Shop 0                    316                 34\n",
       "1   Shop 1                     76                 34\n",
       "2  Shop 10                     61                 31\n",
       "3  Shop 11                     71                 42\n",
       "4  Shop 12                     58                 30"
      ]
     },
     "execution_count": 97,
     "metadata": {},
     "output_type": "execute_result"
    }
   ],
   "source": [
    "# review the merged tables\n",
    "purchases_per_shop.head()"
   ]
  },
  {
   "cell_type": "code",
   "execution_count": 98,
   "id": "85aa7fbf",
   "metadata": {},
   "outputs": [
    {
     "data": {
      "text/plain": [
       "33.25806451612903"
      ]
     },
     "execution_count": 98,
     "metadata": {},
     "output_type": "execute_result"
    }
   ],
   "source": [
    "purchases_per_shop['non_loyalty_purchases'].mean()\n",
    "purchases_per_shop['loyalty_purchases'].mean()"
   ]
  },
  {
   "cell_type": "code",
   "execution_count": 99,
   "id": "70189add",
   "metadata": {},
   "outputs": [
    {
     "data": {
      "image/png": "[encoded data removed]",
      "text/plain": [
       "<Figure size 864x432 with 1 Axes>"
      ]
     },
     "metadata": {
      "needs_background": "light"
     },
     "output_type": "display_data"
    }
   ],
   "source": [
    "# plot bar graphs of the total and average number of purchases per customer status\n",
    "purchases_per_shop_graph = purchases_per_shop[['non_loyalty_purchases', 'loyalty_purchases']].agg(['sum', 'mean']).plot(kind = 'bar', figsize = (12, 6))\n",
    "plt.title('total and average number of purchases based on loyalty status', size = 15)\n",
    "plt.ylabel('number of purchases', size = 15)\n",
    "\n",
    "# label bars with data\n",
    "for bar in purchases_per_shop_graph.patches:\n",
    "    purchases_per_shop_graph.annotate(format(bar.get_height(), '.0f'), \n",
    "                xy=(bar.get_x() + bar.get_width() / 2, bar.get_height()), \n",
    "                ha = 'center', \n",
    "                va = 'center', \n",
    "                xytext = (0, 7), \n",
    "                textcoords = 'offset points')\n",
    "\n",
    "plt.show()"
   ]
  },
  {
   "cell_type": "markdown",
   "id": "4c8c7abe",
   "metadata": {},
   "source": [
    "- Non-loyalty members make more purchases total and on average compared to loyalty members"
   ]
  },
  {
   "cell_type": "markdown",
   "id": "e23f86ae",
   "metadata": {},
   "source": [
    "- Non-loyalty members have more transactions per purchase compared to loyalty members"
   ]
  },
  {
   "cell_type": "markdown",
   "id": "2882b645",
   "metadata": {},
   "source": [
    "# [Step 3 Conclusion](#step3instructions)<a id=\"step3conclusion\"></a>\n",
    "# Carry out exploratory data analysis (EDA)\n",
    "\n",
    "***Actions Performed***\n",
    "\n",
    "***Used the merged table `purchases_clean` for analysis**\n",
    "- 3.a determined outliers\n",
    "    - 3.a.1 used the `describe()` method to evaluate the mean and median of the numerical data\n",
    "        - ***Average price of a single item:  2.18***\n",
    "        - ***Median price of a single item:  1.45***\n",
    "        - ***Difference between average and median price of a single item:  0.73***\n",
    "            - ***A difference between the average and median price of a single item implies that there are outliers in the data***\n",
    "    - 3.a.2 ploted graphs to visualize the distribution of the data\n",
    "        - ***all numerical data shows that there are outliers - they are right skewed***\n",
    "    - 3.a.3 evaluated the item prices\n",
    "        - determined how many items are `price_per_one` outliers\n",
    "            - ***there are 233 items in the top 5% of price per single item (6.75 or more)***\n",
    "    - 3.a.4 grouped by `puchase_id` and evaluate the total price of purchases \n",
    "        - determine the average and median purchase price\n",
    "            - ***Average purchase price:  308.29***\n",
    "            - ***Median purchase price:  150.56***\n",
    "            - ***Difference between average and median purchase price:  157.73***\n",
    "            - ***A difference between the average and median price of purchase prices implies that there are outliers in the data***\n",
    "        - determine if there are total purchase outliers?\n",
    "            - ***There are 176 purchases in the top 5% of purchase price (866.27 or more)***\n",
    "            - Do the high purchases contain high `price_per_one` items?\n",
    "                - ***Yes, 112 items out of 176***\n",
    "            - Are the outlier purchases in the loyalty program or not?\n",
    "                - ***19% of purchase prices in the top 5% are participants in the loyalty program***\n",
    "    - 3.a.5 Evaluated the number of items per perchase\n",
    "        - 3.a.5.i Created a table with the total number of items per purchase based on `purchase_id`\n",
    "        - 3.a.5.ii Used `describe()` to evaluate the mean and median of the items per purchase\n",
    "            - ***Average number of items purchased:  230***\n",
    "            - ***Median number of items purchased:  98***\n",
    "            - ***Difference between average and median number of items per purchase:  132***\n",
    "        - 3.a.5.iii Evaluated the percentiles\n",
    "            - how many purchases contain a high number of items?\n",
    "                - ***There are 176 puchases in the top 5% of purchase quantity per purchase (669 or more)***\n",
    "            - Are the purchases with a high number of items in the loyalty program or not?\n",
    "            - ***23.30% of purchases with high number or items purchased are in the loyalty program: 41 out of 176***\n",
    "- 3.b Processed outliers\n",
    "    - ***Removed outliers in the 95% percentile - this is appropriate because it accounts for some of the outliers while also being conservative in terms of data removal***\n",
    "    - ***Removed top 5% of purchase prices (866.27 or more) and top 5% of number of purchased items (669 or more)***\n",
    "- 3.c Quality checked the loyalty program\n",
    "    - confirm that purchases are made as a loylaty program member or not - not a mix\n",
    "    - 3.c.1 Used `groupby()` `purchase_id` to get the average values of the loyalty program column\n",
    "        - if there are percentages, then there is a mix of membership in those purchases\n",
    "    - 3.c.2 evaluated the unique values of the quality check\n",
    "        - ***There are no purchases that contain an error of having a mix of loyalty and non-loyalty member status***\n",
    "- 3.d Visualized the data\n",
    "- created queries or use `groupby()` to plot the following graphs\n",
    "    - 3.d.1 evaluated each membership group numerical data using the `describe()` method\n",
    "        - ***There are 1031 purchases in the loyalty program and 2265 that were not***\n",
    "            - ***31% of purchases were made by loyaltu members***\n",
    "        - ***The means and medians for numerical data are still different but I took a more conservative stance on removing outliers***\n",
    "        - ***The statistical trends are similar for both groups, i.e. the min, max, 25%, 50%, 75% values are similar***\n",
    "    - Histogram and Bargraphs:\n",
    "        - 3.d.2 - 3.d.6: Histograms and Bargraphs of the total and average purchase prices in general, per shop, and per day\n",
    "        - 3.d.7 - 3.d.11: Histograms and Bargraphs of the total and average number of items purchased in general, per shop, and per day\n",
    "        - 3.d.12: Bar graph of the total and average number of purchases in general\n",
    "    - ***Conclusions:***\n",
    "        - In general\n",
    "            - Total and on average: non-loyalty members make larger purchases, purchase more items, and make more purchases compared to loyalty members\n",
    "        - Per shop: \n",
    "            - Total: non-loyalty members make larger purchases and purchase more items\n",
    "            - On average: there is some variation, but the trend is still in the non-loyalty members favor\n",
    "        - Per day:\n",
    "            - Total: non-loayaly members make larger purchases and purchase more items\n",
    "            - On average: there is some variation, but the trend is still in the non-loyalty members favor\n",
    "            "
   ]
  },
  {
   "cell_type": "markdown",
   "id": "005b5b14",
   "metadata": {},
   "source": [
    "# [Step 4. Test Hypothesis](#step4instructions)<a id = 'step4'></a>\n",
    "\n",
    "- 4.a ***Evaluate hypothesis: Customers who participate in the loyalty program make larger purchases on average***\n",
    "    - Null hypothesis: The average purchase prices are statistically the same for all customers regardless of participation in loyalty program\n",
    "    - Alternative hypothesis: The average purchase prices are statistically different for customers that do versus those that do not participate in the loyalty program\n",
    "    - alpha: 0.5\n",
    "    - 4.a.1 obtain list/query of the total purchase price per purchase per group\n",
    "    - 4.a.2 evaluate the dispersion of data sets\n",
    "        - if the dispersion is similar then the parameter `equal_var=True`\n",
    "        - if the dispersion is not similar then the parameter `equal_var=False`\n",
    "    - 4.a.3 Test hypothesis\n",
    "- 4.b ***Evaluate hypothesis: Customers who participate in the loyalty program buy more items on average***\n",
    "    - Null hypothesis: The average number of items purchased is statistically the same for all customers regardless of participation in the loyalty program\n",
    "    - Alterntative hypothesis: The average number of items purchased is statistically different for customers that do versus those that do not participate in the loyalty program\n",
    "    - alpha: 0.5\n",
    "    - 4.b.1 obtain list/query of the number of items per purchase per group\n",
    "    - 4.b.2 evaluate the dispersion of data sets\n",
    "        - if the dispersion is similar then the parameter `equal_var=True`\n",
    "        - if the dispersion is not similar then the parameter `equal_var=False`\n",
    "    - 4.b.3 Test hypothesis"
   ]
  },
  {
   "cell_type": "markdown",
   "id": "dcf84f0f",
   "metadata": {},
   "source": [
    "[***4.a Evaluate hypothesis: Customers who participate in the loyalty program make larger purchases by price on average***](#step4instructions)<a id = '4a'></a>"
   ]
  },
  {
   "cell_type": "markdown",
   "id": "05ae2a0b",
   "metadata": {},
   "source": [
    "[***4.a.1 obtain list/query of the purchase prices per group***](#step4instructions)<a id = '4a1'></a>"
   ]
  },
  {
   "cell_type": "code",
   "execution_count": 100,
   "id": "3b01d2ea",
   "metadata": {},
   "outputs": [],
   "source": [
    "# create a list of the total cost of purchases made by each membership status\n",
    "loyalty_total_puchase_prices_list = list(loyalty_members_purchase_prices)\n",
    "non_loyalty_total_puchase_prices_list = list(non_loyalty_members_purchase_prices)"
   ]
  },
  {
   "cell_type": "markdown",
   "id": "4a7c44fb",
   "metadata": {},
   "source": [
    "[***4.a.2 evaluate the dispersion of data sets***](#step4instructions)<a id = '4a2'></a>\n",
    "- if the dispersion is similar then the parameter `equal_var=True`\n",
    "- if the dispersion is not similar then the parameter `equal_var=False`"
   ]
  },
  {
   "cell_type": "code",
   "execution_count": 101,
   "id": "8a1c85d6",
   "metadata": {},
   "outputs": [
    {
     "name": "stdout",
     "output_type": "stream",
     "text": [
      "Dispersion:\n",
      "loyalty members purchase price: 21126.84867685813\n",
      "non loyalty members purchase price: 28478.999144720947\n"
     ]
    }
   ],
   "source": [
    "# examine the dispersion of the groups\n",
    "print('Dispersion:')\n",
    "print('loyalty members purchase price:', np.var(loyalty_total_puchase_prices_list))\n",
    "print('non loyalty members purchase price:', np.var(non_loyalty_total_puchase_prices_list))"
   ]
  },
  {
   "cell_type": "markdown",
   "id": "597addb2",
   "metadata": {},
   "source": [
    "[***4.a.3 Test Hypothesis***](#step4instructions)<a id = '4a3'></a>\n",
    "- Null hypothesis: The average purchase prices are statistically the same for all customers regardless of participation in loyalty program\n",
    "- Alternative hypothesis: The average purchase prices are statistically different for customers that do versus those that do not participate in the loyalty program"
   ]
  },
  {
   "cell_type": "code",
   "execution_count": 102,
   "id": "ff413d49",
   "metadata": {},
   "outputs": [
    {
     "name": "stdout",
     "output_type": "stream",
     "text": [
      "p-value:  3.748986856510029e-05\n",
      "Reject the null hypothesis, the alternative hypothesis is true: The average purchase prices are statistically different for customers that do versus those that do not participate in the loyalty program\n"
     ]
    }
   ],
   "source": [
    "# Test hypothesis\n",
    "alpha = 0.05 # 5% as the critical statistical significance level\n",
    "\n",
    "results = st.ttest_ind(loyalty_total_puchase_prices_list, \n",
    "                       non_loyalty_total_puchase_prices_list, \n",
    "                       equal_var = False)\n",
    "\n",
    "print('p-value: ', results.pvalue)\n",
    "\n",
    "if results.pvalue < alpha: \n",
    "    print('Reject the null hypothesis, the alternative hypothesis is true: The average purchase prices are statistically different for customers that do versus those that do not participate in the loyalty program')\n",
    "else:\n",
    "    print('Can not reject the null hypothesis, the null hypothesis is true: The average purchase prices are statistically the same for all customers regardless of participation in loyalty program')"
   ]
  },
  {
   "cell_type": "markdown",
   "id": "3dfb1f65",
   "metadata": {},
   "source": [
    "[***4.a Conclusion***](#step4instructions)<a id = '4aconclusion'></a>\n",
    "\n",
    "***Evaluate hypothesis: Customers who participate in the loyalty program make larger purchases by price on average***\n",
    "- Null hypothesis: The average purchase prices are statistically the same for all customers regardless of participation in loyalty program\n",
    "- Alternative hypothesis: The average purchase prices are statistically different for customers that do versus those that do not participate in the loyalty program\n",
    "\n",
    "***Results***\n",
    "- The null hypothesis is rejected and the alternative hypothesis is true: The average purchase prices are statistically different for customers that do versus those that do not participate in the loyalty program\n",
    "- The average purchase price is different between loyalty and non-loyalty members, however based on the bar graphs non-loyalty members make larger purchases by price compared to loyalty members"
   ]
  },
  {
   "cell_type": "markdown",
   "id": "08a39cc5",
   "metadata": {},
   "source": [
    "[***4.b Evaluate hypothesis: Customers who participate in the loyalty program buy more items on average***](#step4instructions)<a id = '4b'></a>"
   ]
  },
  {
   "cell_type": "markdown",
   "id": "b7b628ff",
   "metadata": {},
   "source": [
    "[***4.b.1 obtain list/query of the number of items purchased per group***](#step4instructions)<a id = '4b1'></a>"
   ]
  },
  {
   "cell_type": "code",
   "execution_count": 103,
   "id": "9783310f",
   "metadata": {},
   "outputs": [],
   "source": [
    "# create a list of the total items purchased per purchase made by each membership status\n",
    "loyalty_total_items_purchased_list = list(loyalty_members_purchase_quantity)\n",
    "non_loyalty_total_items_purchased_list = list(non_loyalty_members_purchase_quantity)"
   ]
  },
  {
   "cell_type": "markdown",
   "id": "be28bc97",
   "metadata": {},
   "source": [
    "[***4.b.2 evaluate the dispersion of data sets***](#step4instructions)<a id = '4b2'></a>\n",
    "- if the dispersion is similar then the parameter `equal_var=True`\n",
    "- if the dispersion is not similar then the parameter `equal_var=False`"
   ]
  },
  {
   "cell_type": "code",
   "execution_count": 104,
   "id": "c8f682c4",
   "metadata": {},
   "outputs": [
    {
     "name": "stdout",
     "output_type": "stream",
     "text": [
      "Dispersion:\n",
      "loyalty members items purchased per purchase: 13901.181204202223\n",
      "non loyalty members items purchased per purchase: 17295.734764849494\n"
     ]
    }
   ],
   "source": [
    "# examine the dispersion of the groups\n",
    "print('Dispersion:')\n",
    "print('loyalty members items purchased per purchase:', np.var(loyalty_total_items_purchased_list))\n",
    "print('non loyalty members items purchased per purchase:', np.var(non_loyalty_total_items_purchased_list))"
   ]
  },
  {
   "cell_type": "markdown",
   "id": "e4021394",
   "metadata": {},
   "source": [
    "[***4.b.3 Test Hypothesis***](#step4instructions)<a id = '4b3'></a>\n",
    "- Null hypothesis: The average number of items purchased is statistically the same for all customers regardless of participation in the loyalty program\n",
    "- Alterntative hypothesis: The average number of items purchased is statistically different for customers that do versus those that do not participate in the loyalty program"
   ]
  },
  {
   "cell_type": "code",
   "execution_count": 105,
   "id": "f66c9f1e",
   "metadata": {},
   "outputs": [
    {
     "name": "stdout",
     "output_type": "stream",
     "text": [
      "p-value:  0.002026926441257886\n",
      "Reject the null hypothesis, the alternative hypothesis is true: The average number of items purchased is statistically different for customers that do versus those that do not participate in the loyalty program\n"
     ]
    }
   ],
   "source": [
    "# Test hypothesis\n",
    "alpha = 0.05 # 5% as the critical statistical significance level\n",
    "\n",
    "results = st.ttest_ind(loyalty_total_items_purchased_list, \n",
    "                       non_loyalty_total_items_purchased_list, \n",
    "                       equal_var = False)\n",
    "\n",
    "print('p-value: ', results.pvalue)\n",
    "\n",
    "if results.pvalue < alpha: \n",
    "    print('Reject the null hypothesis, the alternative hypothesis is true: The average number of items purchased is statistically different for customers that do versus those that do not participate in the loyalty program')\n",
    "else:\n",
    "    print('Can not reject the null hypothesis, the null hypothesis is true: The average number of items purchased is statistically the same for all customers regardless of participation in the loyalty program')"
   ]
  },
  {
   "cell_type": "markdown",
   "id": "fbae3c9e",
   "metadata": {},
   "source": [
    "[***4.b Conclusion***](#step4instructions)<a id = '4bconclusion'></a>\n",
    "\n",
    "***Evaluate hypothesis: Customers who participate in the loyalty program buy more items on average***\n",
    "- Null hypothesis: The average number of items purchased is statistically the same for all customers regardless of participation in the loyalty program\n",
    "- Alterntative hypothesis: The average number of items purchased is statistically different for customers that do versus those that do not participate in the loyalty program\n",
    "\n",
    "***Results***\n",
    "- The null hypothesis is rejected and the alternative hypothesis is true: The average number of items purchased is statistically different for customers that do versus those that do not participate in the loyalty program\n",
    "- The average number of items purchased is different between loyalty and non-loyalty members, however based on the bar graphs non-loyalty members purchase more items compared to loyalty members"
   ]
  },
  {
   "cell_type": "markdown",
   "id": "ea7f8813",
   "metadata": {},
   "source": [
    "# [Step 4 Conclusion](#step4instructions)<a id = 'step4conclusion'></a>\n",
    "\n",
    "***Actions Performed***\n",
    "\n",
    "- 4.a Evaluated hypothesis: Customers who participate in the loyalty program make larger purchases by price on average\n",
    "    - 4.a.1 obtained a list/query of the total purchase price per purchase per group\n",
    "    - 4.a.2 evaluated the dispersion of data sets\n",
    "        - The dispersion is not similar, so the parameter `equal_var=False` was used\n",
    "    - 4.a.3 Tested hypothesis\n",
    "        - ***The null hypothesis is rejected and the alternative hypothesis is true***: The average purchase prices are statistically different for customers that do versus those that do not participate in the loyalty program\n",
    "        - ***The average purchase price is different between loyalty and non-loyalty members, however based on the bar graphs non-loyalty members make larger purchases by price compared to loyalty members***\n",
    "    \n",
    "- 4.b Evaluated hypothesis: Customers who participate in the loyalty program buy more items on average\n",
    "    - 4.b.1 obtain list/query of the number of items per purchase per group\n",
    "    - 4.b.2 evaluated the dispersion of data sets\n",
    "        - The dispersion is not similar, so the parameter `equal_var=False` was used\n",
    "    - 4.b.3 Tested hypothesis\n",
    "        - ***The null hypothesis is rejected and the alternative hypothesis is true***: The average number of items purchased is statistically different for customers that do versus those that do not participate in the loyalty program\n",
    "        - ***The average number of items purchased is different between loyalty and non-loyalty members, however based on the bar graphs non-loyalty members purchase more items compared to loyalty members***"
   ]
  },
  {
   "cell_type": "markdown",
   "id": "36f59766",
   "metadata": {},
   "source": [
    "# [Step 5 Conclusion and Recommendations](#step5instructions)<a id = 'step5'></a>\n",
    "\n",
    "***Project Description and Goal***\n",
    "- The Project Manager for the Customer Loyalty Program wants to evaluate the new loyalty program to see if it has lead to an increase in average purchase size and number of items.\n",
    "- The results and recommendations will be sumbited to the Project Manager who is familiar with the loyalty program but not an analytics expert.\n",
    "\n",
    "***Project Conclusions***\n",
    "- The data was processed and analyzed (EDA)\n",
    "    - anomalies and outliers were removed\n",
    "        - anomalies:\n",
    "            - 56.35% of purchases have a quantity anomaly (`quantity`: < or = 0 number of items being purchased)\n",
    "            - 73.56% of purchases have a price anomaly (`price_per_one`: items priced at 0.0)\n",
    "            - Removing the anomalies removes 43.5% of the entries and 28% of purchases in the data set\n",
    "            - ***While this is a large amount of data to remove, I believe it is appropriate because negative and 0 values are affecting the overall results and the investigation is focused on averages***\n",
    "        - outliers:\n",
    "            - top 5% of purchase prices are 866.27 or more\n",
    "                - this accounts for 176 purchases\n",
    "            - top 5% of number of items per purchase 669 or more items\n",
    "                - this accounts for 176 purchases\n",
    "            - Removed outliers in the 95% percentile (or top 5%) \n",
    "                - this is appropriate because it accounts for some of the outliers while also being conservative in terms of data removal\n",
    "    - a quality check was performed to confirm that purchases were made as a loyalty member or not\n",
    "        - There are no purchases that contain an error of having a mix of loyalty and non-loyalty member status\n",
    "    - the data was visualized\n",
    "        - There are 1031 purchases in the loyalty program and 2265 that were not\n",
    "            - 31% of purchases were made by loyalty members\n",
    "            - The statistical trends are similar for both groups, i.e. the min, max, 25%, 50%, 75% values are similar\n",
    "        - the total purchase price for both statuses follow the same trend, most puchases cost under 200 and the data is right skewed, suggesting there are still some outliers\n",
    "        - the number of items per purchase for both statuses follow the same trend, most puchases have 200 or less items and the data is right skewed, suggesting there are still some outliers\n",
    "        - Non-loyalty members make higher priced purchases total and on average compared to loyalty members\n",
    "        - Non-loyalty members purchase more items total and on average compared to loyalty members\n",
    "        - Non-loyalty members make more purchases total and on average compared to loyalty members\n",
    "- Hypothesis were evaluated:\n",
    "    - ***Hypothesis 1: Customers who participate in the loyalty program make larger purchases on average***\n",
    "        - Null hypothesis: The average purchase prices are statistically the same for all customers regardless of participation in loyalty program\n",
    "        - Alternative hypothesis: The average purchase prices are statistically different for customers that do versus those that do not participate in the loyalty program\n",
    "        - ***Result*** The null hypothesis is rejected and the alternative hypothesis is true: The average purchase prices are statistically different for customers that do versus those that do not participate in the loyalty program\n",
    "            - The average purchase price is different between loyalty and non-loyalty members, however based on the bar graphs non-loyalty members make larger purchases by price compared to loyalty members\n",
    "    - ***Hypothesis 2: Customers who participate in the loyalty program buy more items on average***\n",
    "        - Null hypothesis: The average number of items purchased is statistically the same for all customers regardless of participation in the loyalty program\n",
    "        - Alterntative hypothesis: The average number of items purchased is statistically different for customers that do versus those that do not participate in the loyalty program\n",
    "        - ***Result*** The null hypothesis is rejected and the alternative hypothesis is true: The average number of items purchased is statistically different for customers that do versus those that do not participate in the loyalty program\n",
    "            - The average number of items purchased is different between loyalty and non-loyalty members, however based on the bar graphs non-loyalty members purchase more items compared to loyalty members\n",
    "            \n",
    "***Summary for Project Manager***\n",
    "- The Customer Loyalty Program project manager wants to evaluate the new loyalty program to see if it has led to an increase in the average purchase size and an increase in the number of items purchased\n",
    "    - In summary, on average non-loyalty members make larger purchases, purchase more items, and make more purchases compared to loyalty members\n",
    "    - However if you look at each date individually, on average the purchase prices and number of items purchased varies day to day, some days loyalty members are more on average, some days the non-loyalty members are more on average\n",
    "- Possible reasons for this include:\n",
    "    - loyalty members make lower priced purchases because the loyalty program has allowed them to maximize discounts and special offers\n",
    "    - loyalty members purchase less items and make fewer purchases because in general they are savers - this may be why the signed up for the loyalty program in the first place\n",
    "    - perhaps the promotions and specials are too restrictive, as in purchase limits and this is preventing the loyalty members from buying more items because then the will be full price\n",
    "    \n",
    "***Recommendations***\n",
    "- To increase the number of items and purchase sizes, take a look at the way the discounts, specials, deals, promos, etc. are advertised, perhaps the requirements are too restrictive, for example, there is a limit to the number of items that can be used for that coupon and so this is preventing the loyalty member from buying more than the coupon allows.\n",
    "- To increase the number of members using the loyalty program, re-evaluate the price of the program or increase advertisement along with its benefits\n",
    "\n",
    "***Other Recommendations***\n",
    "- Due to the large number of anomalies there is likely a default in the data collection system and the inventory system. The appropriate teams should be notified that negative and 0 orders are being made/collected and that some items have a price of 0, perhaps this is a typo or the items are discontinued and need to be removed from the inventory list.\n",
    "- Roughly 34% of customer ids entries are missing from the original data, this could be a valuable metric to use in the future for many different evaluations"
   ]
  },
  {
   "cell_type": "markdown",
   "id": "6e0608e0",
   "metadata": {},
   "source": [
    "# [Step 8 Resources](#step8instructions)<a id = 'step8'></a>"
   ]
  },
  {
   "cell_type": "markdown",
   "id": "fc727759",
   "metadata": {},
   "source": [
    "https://matplotlib.org/stable/api/_as_gen/matplotlib.pyplot.subplots.html\n",
    "\n",
    "https://stackoverflow.com/questions/33149428/modify-the-legend-of-pandas-bar-plot\n",
    "\n",
    "https://matplotlib.org/3.1.0/gallery/subplots_axes_and_figures/broken_axis.html\n",
    "\n",
    "https://stackoverflow.com/questions/53642861/broken-axis-slash-marks-inside-bar-chart-in-matplotlib"
   ]
  }
 ],
 "metadata": {
  "ExecuteTimeLog": [
   {
    "duration": 1206,
    "start_time": "2022-02-07T19:40:45.668Z"
   }
  ],
  "kernelspec": {
   "display_name": "Python 3 (ipykernel)",
   "language": "python",
   "name": "python3"
  },
  "language_info": {
   "codemirror_mode": {
    "name": "ipython",
    "version": 3
   },
   "file_extension": ".py",
   "mimetype": "text/x-python",
   "name": "python",
   "nbconvert_exporter": "python",
   "pygments_lexer": "ipython3",
   "version": "3.9.5"
  },
  "toc": {
   "base_numbering": 1,
   "nav_menu": {},
   "number_sections": true,
   "sideBar": true,
   "skip_h1_title": true,
   "title_cell": "Table of Contents",
   "title_sidebar": "Contents",
   "toc_cell": false,
   "toc_position": {},
   "toc_section_display": true,
   "toc_window_display": false
  }
 },
 "nbformat": 4,
 "nbformat_minor": 5
}
